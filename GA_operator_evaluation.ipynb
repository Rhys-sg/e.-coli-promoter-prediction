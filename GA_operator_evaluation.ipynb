{
 "cells": [
  {
   "cell_type": "code",
   "execution_count": 1,
   "id": "ee6a76fe",
   "metadata": {},
   "outputs": [
    {
     "name": "stderr",
     "output_type": "stream",
     "text": [
      "c:\\Users\\rsore\\anaconda3\\envs\\TX_prediction\\Lib\\site-packages\\tqdm\\auto.py:21: TqdmWarning: IProgress not found. Please update jupyter and ipywidgets. See https://ipywidgets.readthedocs.io/en/stable/user_install.html\n",
      "  from .autonotebook import tqdm as notebook_tqdm\n"
     ]
    }
   ],
   "source": [
    "import optuna\n",
    "import joblib\n",
    "import optuna.visualization as vis\n",
    "import time\n",
    "\n",
    "from Generators.GA.TestGeneticAlgorithm import GeneticAlgorithm\n",
    "from Generators.Operators.CrossoverMethod import CrossoverMethod\n",
    "from Generators.Operators.MutationRate import MutationRate\n",
    "from Generators.Operators.SelectionMethod import SelectionMethod"
   ]
  },
  {
   "cell_type": "code",
   "execution_count": 3,
   "id": "d9afbf8b",
   "metadata": {},
   "outputs": [],
   "source": [
    "# ------------------------ pareto_front optimization ------------------------\n",
    "\n",
    "\n",
    "# ----- Fixed experiment settings -----\n",
    "base_kwargs = {\n",
    "    \"cnn_model_path\": 'Models/CNN_6_1_2.keras',\n",
    "    \"masked_sequence\": \"AATACTAGAGGTCTTCCGACNNNNNNNNNNNNNNNNNNNNNNNNNNNNNNGTGTGGGCGGGAAGACAACTAGGGG\",\n",
    "    \"target_expression\": 1,\n",
    "    \"generations\": 100,\n",
    "    \"population_size\": 100,\n",
    "    \"track_history\": False,\n",
    "    \"track_convergence\": False,\n",
    "    \"elitism_rate\": 0,\n",
    "    \"survival_rate\": 0.5,\n",
    "    \"seed\": 42\n",
    "}\n",
    "\n",
    "NUM_LINEAGES = 5\n",
    "\n",
    "# ----- Objective Function -----\n",
    "def objective(trial):\n",
    "    # Mutation\n",
    "    mutation_method = trial.suggest_categorical(\"mutation_method\", MutationRate.get_all_methods())\n",
    "    mutation_prob = trial.suggest_float(\"mutation_prob\", 0, 1.0)\n",
    "\n",
    "    mutation_rate = None\n",
    "    mutation_rate_start = None\n",
    "    mutation_rate_end = None\n",
    "    mutation_rate_degree = None\n",
    "\n",
    "    if mutation_method == \"mutConstant\":\n",
    "        mutation_rate = trial.suggest_float(\"mutation_rate\", 0, 1.0)\n",
    "    elif mutation_method in [\"mutLinear\", \"mutEntropy\"]:\n",
    "        mutation_rate_start = trial.suggest_float(\"mutation_rate_start\", 0, 1.0)\n",
    "        mutation_rate_end = trial.suggest_float(\"mutation_rate_end\", 0, 1.0)\n",
    "    elif mutation_method == \"mutExponential\":\n",
    "        mutation_rate_start = trial.suggest_float(\"mutation_rate_start\", 0, 1.0)\n",
    "        mutation_rate_end = trial.suggest_float(\"mutation_rate_end\", 0, 1.0)\n",
    "        mutation_rate_degree = trial.suggest_int(\"mutation_rate_degree\", 1, 4)\n",
    "\n",
    "    # Crossover\n",
    "    crossover_method = trial.suggest_categorical(\"crossover_method\", CrossoverMethod.get_all_methods())\n",
    "    crossover_rate = trial.suggest_float(\"crossover_rate\", 0, 1.0)\n",
    "    crossover_points = None\n",
    "    if crossover_method in [\"cxKPoint\", \"cxTwoPoint\"]:\n",
    "        crossover_points = trial.suggest_int(\"crossover_points\", 1, 4)\n",
    "\n",
    "    # Selection\n",
    "    selection_method = trial.suggest_categorical(\"selection_method\", SelectionMethod.get_all_methods())\n",
    "    boltzmann_temperature = None\n",
    "    tournsize = None\n",
    "    if selection_method == \"selBoltzmann\":\n",
    "        boltzmann_temperature = trial.suggest_float(\"boltzmann_temperature\", 0, 1.0)\n",
    "    elif selection_method in [\"selTournament\", \"selTournamentWithoutReplacement\"]:\n",
    "        tournsize = trial.suggest_int(\"tournsize\", 1, 10)\n",
    "\n",
    "    # Always-used parameters\n",
    "    elitism_rate = trial.suggest_float(\"elitism_rate\", 0, 1)\n",
    "    survival_rate = trial.suggest_float(\"survival_rate\", 0, 1)\n",
    "\n",
    "    # --- GA kwargs ---\n",
    "    kwargs = base_kwargs.copy()\n",
    "    kwargs.update({\n",
    "        \"mutation_method\": mutation_method,\n",
    "        \"mutation_prob\": mutation_prob,\n",
    "        \"crossover_method\": crossover_method,\n",
    "        \"crossover_rate\": crossover_rate,\n",
    "        \"selection_method\": selection_method,\n",
    "        \"elitism_rate\": elitism_rate,\n",
    "        \"survival_rate\": survival_rate\n",
    "    })\n",
    "\n",
    "    if mutation_rate is not None:\n",
    "        kwargs[\"mutation_rate\"] = mutation_rate\n",
    "    if mutation_rate_start is not None:\n",
    "        kwargs[\"mutation_rate_start\"] = mutation_rate_start\n",
    "    if mutation_rate_end is not None:\n",
    "        kwargs[\"mutation_rate_end\"] = mutation_rate_end\n",
    "    if mutation_rate_degree is not None:\n",
    "        kwargs[\"mutation_rate_degree\"] = mutation_rate_degree\n",
    "\n",
    "    if crossover_points is not None:\n",
    "        kwargs[\"crossover_points\"] = crossover_points\n",
    "\n",
    "    if boltzmann_temperature is not None:\n",
    "        kwargs[\"boltzmann_temperature\"] = boltzmann_temperature\n",
    "    if tournsize is not None:\n",
    "        kwargs[\"tournsize\"] = tournsize\n",
    "\n",
    "    # --- Run GA ---\n",
    "    try:\n",
    "        ga = GeneticAlgorithm(**kwargs)\n",
    "        start_time = time.time()\n",
    "        ga.run(lineages=NUM_LINEAGES)\n",
    "        end_time = time.time()\n",
    "        max_fitness = max(ga.best_fitnesses)\n",
    "        average_fitness = sum(ga.best_fitnesses) / len(ga.best_fitnesses)\n",
    "        runtime = end_time - start_time\n",
    "        return max_fitness, average_fitness, runtime\n",
    "    except Exception as e:\n",
    "        print(f\"Trial failed: {e}\")\n",
    "        return 0.0\n",
    "\n",
    "# ----- Run Optimization -----\n",
    "def run_optimization(n_trials=50):\n",
    "    study = optuna.create_study(directions=[\"maximize\", \"maximize\", \"minimize\"], sampler=optuna.samplers.TPESampler())\n",
    "    study.optimize(objective, n_trials=n_trials)\n",
    "\n",
    "    # print(\"\\nBest trial:\")\n",
    "    # # print(study.best_trial)\n",
    "    # print(study.best_trials)\n",
    "    # print(\"\\nBest params:\")\n",
    "    # for k, v in study.best_params.items():\n",
    "    #     print(f\"  {k}: {v}\")\n",
    "\n",
    "    return study\n"
   ]
  },
  {
   "cell_type": "code",
   "execution_count": 4,
   "id": "af4d48e1",
   "metadata": {},
   "outputs": [
    {
     "name": "stderr",
     "output_type": "stream",
     "text": [
      "[I 2025-04-21 10:34:57,037] A new study created in memory with name: no-name-1957f35b-e20f-4257-916f-342eb3ae9cc9\n"
     ]
    },
    {
     "name": "stdout",
     "output_type": "stream",
     "text": [
      "WARNING:tensorflow:From c:\\Users\\rsore\\Documents\\GitHub\\e.-coli-promoter-prediction\\Generators\\CNN.py:63: _EagerTensorBase.cpu (from tensorflow.python.framework.ops) is deprecated and will be removed in a future version.\n",
      "Instructions for updating:\n",
      "Use tf.identity with explicit device placement instead.\n"
     ]
    },
    {
     "name": "stderr",
     "output_type": "stream",
     "text": [
      "[I 2025-04-21 10:35:01,493] Trial 0 finished with values: [0.5299442410469055, 0.4982863306999207, 4.281626462936401] and parameters: {'mutation_method': 'mutExponential', 'mutation_prob': 0.7451031795762046, 'mutation_rate_start': 0.6880389508958511, 'mutation_rate_end': 0.7720713866811632, 'mutation_rate_degree': 2, 'crossover_method': 'cxUniform', 'crossover_rate': 0.3056757271265841, 'selection_method': 'selTournament', 'tournsize': 2, 'elitism_rate': 0.9840055794539837, 'survival_rate': 0.43355666980078933}.\n",
      "[I 2025-04-21 10:35:13,833] Trial 1 finished with values: [0.6026304960250854, 0.5805169343948364, 12.192527770996094] and parameters: {'mutation_method': 'mutConstant', 'mutation_prob': 0.8102419379121539, 'mutation_rate': 0.5670036927595026, 'crossover_method': 'cxUniform', 'crossover_rate': 0.5865318684900694, 'selection_method': 'selBest', 'elitism_rate': 0.012888018616700636, 'survival_rate': 0.8227622351133875}.\n",
      "[I 2025-04-21 10:35:20,808] Trial 2 finished with values: [0.6563820242881775, 0.5904802918434143, 6.830501556396484] and parameters: {'mutation_method': 'mutConstant', 'mutation_prob': 0.5151791118223629, 'mutation_rate': 0.6753487319019037, 'crossover_method': 'cxTwoPoint', 'crossover_rate': 0.2438869438066591, 'crossover_points': 4, 'selection_method': 'selRoulette', 'elitism_rate': 0.6671046655575785, 'survival_rate': 0.585180022004546}.\n",
      "[I 2025-04-21 10:35:33,530] Trial 3 finished with values: [0.818134605884552, 0.7648661494255066, 12.57694411277771] and parameters: {'mutation_method': 'mutLinear', 'mutation_prob': 0.2807446944101759, 'mutation_rate_start': 0.6873342483095609, 'mutation_rate_end': 0.17718317573663955, 'crossover_method': 'cxUniform', 'crossover_rate': 0.3643006881692137, 'selection_method': 'selRoulette', 'elitism_rate': 0.0991596503537504, 'survival_rate': 0.543867577337406}.\n",
      "[I 2025-04-21 10:35:43,686] Trial 4 finished with values: [0.6569432616233826, 0.6014132142066956, 9.884447813034058] and parameters: {'mutation_method': 'mutEntropy', 'mutation_prob': 0.49115283087924577, 'mutation_rate_start': 0.9644203813145801, 'mutation_rate_end': 0.5531002194910911, 'crossover_method': 'cxTwoPoint', 'crossover_rate': 0.7027756139769191, 'crossover_points': 4, 'selection_method': 'selTournament', 'tournsize': 5, 'elitism_rate': 0.3703103077728167, 'survival_rate': 0.04408655632160752}.\n",
      "[I 2025-04-21 10:35:51,443] Trial 5 finished with values: [0.7581605911254883, 0.6731084823608399, 7.605344533920288] and parameters: {'mutation_method': 'mutExponential', 'mutation_prob': 0.04604836892498898, 'mutation_rate_start': 0.11051918805864003, 'mutation_rate_end': 0.3169625303581831, 'mutation_rate_degree': 4, 'crossover_method': 'cxOnePoint', 'crossover_rate': 0.09401569931366005, 'selection_method': 'selBest', 'elitism_rate': 0.18867875386226285, 'survival_rate': 0.04291723302351225}.\n",
      "[I 2025-04-21 10:35:58,807] Trial 6 finished with values: [0.6108515858650208, 0.5978142976760864, 7.210463523864746] and parameters: {'mutation_method': 'mutExponential', 'mutation_prob': 0.3223016855569708, 'mutation_rate_start': 0.3939045481124015, 'mutation_rate_end': 0.8733477068809429, 'mutation_rate_degree': 4, 'crossover_method': 'cxOnePoint', 'crossover_rate': 0.5299420778031193, 'selection_method': 'selBoltzmann', 'boltzmann_temperature': 0.5461645965763832, 'elitism_rate': 0.5982708721710486, 'survival_rate': 0.2993355345621487}.\n",
      "[I 2025-04-21 10:36:04,743] Trial 7 finished with values: [0.5438743829727173, 0.523196530342102, 5.791201829910278] and parameters: {'mutation_method': 'mutEntropy', 'mutation_prob': 0.9791032959892848, 'mutation_rate_start': 0.6978238326399361, 'mutation_rate_end': 0.898885462473212, 'crossover_method': 'cxOnePoint', 'crossover_rate': 0.4973364571048754, 'selection_method': 'selTournamentWithoutReplacement', 'tournsize': 2, 'elitism_rate': 0.9387809494446677, 'survival_rate': 0.9519137625974511}.\n",
      "[I 2025-04-21 10:36:11,817] Trial 8 finished with values: [0.6804086565971375, 0.6434842228889466, 6.883536100387573] and parameters: {'mutation_method': 'mutLinear', 'mutation_prob': 0.24897059065453364, 'mutation_rate_start': 0.06208851346776201, 'mutation_rate_end': 0.9217517952159444, 'crossover_method': 'cxTwoPoint', 'crossover_rate': 0.17522954616650177, 'crossover_points': 3, 'selection_method': 'selBoltzmann', 'boltzmann_temperature': 0.03593482054638997, 'elitism_rate': 0.6428338870577289, 'survival_rate': 0.9942160573114461}.\n",
      "[I 2025-04-21 10:36:24,753] Trial 9 finished with values: [0.767907977104187, 0.742623794078827, 12.784364461898804] and parameters: {'mutation_method': 'mutEntropy', 'mutation_prob': 0.24291833054836098, 'mutation_rate_start': 0.6717070570280173, 'mutation_rate_end': 0.5753249121473145, 'crossover_method': 'cxTwoPoint', 'crossover_rate': 0.4167816468531038, 'crossover_points': 4, 'selection_method': 'selStochasticUniversalSampling', 'elitism_rate': 0.09155353902905572, 'survival_rate': 0.37819723039676956}.\n",
      "[I 2025-04-21 10:36:34,057] Trial 10 finished with values: [0.76732337474823, 0.7065917015075683, 9.042007684707642] and parameters: {'mutation_method': 'mutExponential', 'mutation_prob': 0.07914413554435107, 'mutation_rate_start': 0.01821256131398874, 'mutation_rate_end': 0.13097321368493753, 'mutation_rate_degree': 4, 'crossover_method': 'cxKPoint', 'crossover_rate': 0.03086645166802822, 'crossover_points': 1, 'selection_method': 'selBest', 'elitism_rate': 0.3139947218672011, 'survival_rate': 0.013136959370521693}.\n",
      "[I 2025-04-21 10:36:39,836] Trial 11 finished with values: [0.6832256317138672, 0.6345887660980225, 5.483475208282471] and parameters: {'mutation_method': 'mutExponential', 'mutation_prob': 0.02932959396594991, 'mutation_rate_start': 0.0029633028704482145, 'mutation_rate_end': 0.1247614418258498, 'mutation_rate_degree': 4, 'crossover_method': 'cxKPoint', 'crossover_rate': 0.02479047484167186, 'crossover_points': 1, 'selection_method': 'selBest', 'elitism_rate': 0.3316384445050473, 'survival_rate': 0.00814723119791742}.\n",
      "[I 2025-04-21 10:36:43,905] Trial 12 finished with values: [0.5222430229187012, 0.5076983451843262, 3.8452095985412598] and parameters: {'mutation_method': 'mutExponential', 'mutation_prob': 0.002050456706710377, 'mutation_rate_start': 0.2105648885348006, 'mutation_rate_end': 0.32836923061995005, 'mutation_rate_degree': 4, 'crossover_method': 'cxKPoint', 'crossover_rate': 0.027690939567136086, 'crossover_points': 1, 'selection_method': 'selRandom', 'elitism_rate': 0.25930596861273764, 'survival_rate': 0.20521652369779705}.\n",
      "[I 2025-04-21 10:36:53,511] Trial 13 finished with values: [0.6813010573387146, 0.6507925271987915, 9.419226169586182] and parameters: {'mutation_method': 'mutExponential', 'mutation_prob': 0.11330038587497443, 'mutation_rate_start': 0.260062812227864, 'mutation_rate_end': 0.0062143605101443455, 'mutation_rate_degree': 3, 'crossover_method': 'cxKPoint', 'crossover_rate': 0.13181724215090307, 'crossover_points': 2, 'selection_method': 'selNormRoulette', 'elitism_rate': 0.44832677835509716, 'survival_rate': 0.1613388876240066}.\n",
      "[I 2025-04-21 10:37:06,534] Trial 14 finished with values: [0.7907454371452332, 0.75472172498703, 12.820128202438354] and parameters: {'mutation_method': 'mutExponential', 'mutation_prob': 0.47560579368900957, 'mutation_rate_start': 0.1529559054464372, 'mutation_rate_end': 0.35965263951502163, 'mutation_rate_degree': 1, 'crossover_method': 'cxOnePoint', 'crossover_rate': 0.9945680880950329, 'selection_method': 'selBest', 'elitism_rate': 0.21808238960297327, 'survival_rate': 0.14646018393581917}.\n",
      "[I 2025-04-21 10:37:16,436] Trial 15 finished with values: [0.6903026700019836, 0.6463760018348694, 9.649763822555542] and parameters: {'mutation_method': 'mutExponential', 'mutation_prob': 0.13373190266469767, 'mutation_rate_start': 0.3738788902310859, 'mutation_rate_end': 0.3392001828225362, 'mutation_rate_degree': 3, 'crossover_method': 'cxKPoint', 'crossover_rate': 0.10915007638025001, 'crossover_points': 2, 'selection_method': 'selBest', 'elitism_rate': 0.43772442275776813, 'survival_rate': 0.011079546829202425}.\n",
      "[I 2025-04-21 10:37:22,360] Trial 16 finished with values: [0.6069177985191345, 0.5779878735542298, 5.705043077468872] and parameters: {'mutation_method': 'mutExponential', 'mutation_prob': 0.01018235626841163, 'mutation_rate_start': 0.09583083701473502, 'mutation_rate_end': 0.17199842603518356, 'mutation_rate_degree': 4, 'crossover_method': 'cxOnePoint', 'crossover_rate': 0.0015812928331684906, 'selection_method': 'selBest', 'elitism_rate': 0.18770166287133536, 'survival_rate': 0.6660960645187651}.\n",
      "[I 2025-04-21 10:37:29,650] Trial 17 finished with values: [0.8395792245864868, 0.7878612875938416, 7.1308982372283936] and parameters: {'mutation_method': 'mutConstant', 'mutation_prob': 0.4115375324464282, 'mutation_rate': 0.11911212894739742, 'crossover_method': 'cxKPoint', 'crossover_rate': 0.7854699784027136, 'crossover_points': 1, 'selection_method': 'selTournamentWithoutReplacement', 'tournsize': 10, 'elitism_rate': 0.5428821438597352, 'survival_rate': 0.26568562904187004}.\n",
      "[I 2025-04-21 10:37:35,534] Trial 18 finished with values: [0.8308054804801941, 0.7715441584587097, 5.727808475494385] and parameters: {'mutation_method': 'mutConstant', 'mutation_prob': 0.6374533733471582, 'mutation_rate': 0.030921607815573737, 'crossover_method': 'cxKPoint', 'crossover_rate': 0.8475148038173734, 'crossover_points': 1, 'selection_method': 'selTournamentWithoutReplacement', 'tournsize': 10, 'elitism_rate': 0.8126176713253929, 'survival_rate': 0.28199153960291745}.\n",
      "[I 2025-04-21 10:37:41,344] Trial 19 finished with values: [0.7670469284057617, 0.7171781659126282, 5.648449182510376] and parameters: {'mutation_method': 'mutConstant', 'mutation_prob': 0.6463454144075953, 'mutation_rate': 0.014813755452300088, 'crossover_method': 'cxKPoint', 'crossover_rate': 0.9976446967882108, 'crossover_points': 2, 'selection_method': 'selTournamentWithoutReplacement', 'tournsize': 10, 'elitism_rate': 0.7614623024751036, 'survival_rate': 0.7659345472723585}.\n",
      "[I 2025-04-21 10:37:48,320] Trial 20 finished with values: [0.5486484169960022, 0.5330130457878113, 6.81147575378418] and parameters: {'mutation_method': 'mutConstant', 'mutation_prob': 0.6324158278393734, 'mutation_rate': 0.9761477719583962, 'crossover_method': 'cxKPoint', 'crossover_rate': 0.8635313787461434, 'crossover_points': 3, 'selection_method': 'selTournamentWithoutReplacement', 'tournsize': 7, 'elitism_rate': 0.7857427001187488, 'survival_rate': 0.48728468452413565}.\n",
      "[I 2025-04-21 10:37:49,691] Trial 21 finished with values: [0.5824716091156006, 0.5162872433662414, 1.2085256576538086] and parameters: {'mutation_method': 'mutConstant', 'mutation_prob': 0.9080987958683588, 'mutation_rate': 0.00031116350484017286, 'crossover_method': 'cxKPoint', 'crossover_rate': 0.7736567904330015, 'crossover_points': 1, 'selection_method': 'selTournamentWithoutReplacement', 'tournsize': 10, 'elitism_rate': 0.824245288594315, 'survival_rate': 0.2902698647719749}.\n",
      "[I 2025-04-21 10:37:55,833] Trial 22 finished with values: [0.7679969668388367, 0.7125959396362305, 5.974289417266846] and parameters: {'mutation_method': 'mutConstant', 'mutation_prob': 0.9403201457307947, 'mutation_rate': 0.2570284687405525, 'crossover_method': 'cxKPoint', 'crossover_rate': 0.8590363860625331, 'crossover_points': 1, 'selection_method': 'selTournamentWithoutReplacement', 'tournsize': 7, 'elitism_rate': 0.861334340036568, 'survival_rate': 0.35361671829481883}.\n",
      "[I 2025-04-21 10:38:03,164] Trial 23 finished with values: [0.7729471921920776, 0.697440242767334, 7.149623870849609] and parameters: {'mutation_method': 'mutConstant', 'mutation_prob': 0.8462288411734853, 'mutation_rate': 0.22103943217959018, 'crossover_method': 'cxKPoint', 'crossover_rate': 0.6467836750959369, 'crossover_points': 1, 'selection_method': 'selStochasticUniversalSampling', 'elitism_rate': 0.716767698234896, 'survival_rate': 0.2517544036786864}.\n",
      "[I 2025-04-21 10:38:09,110] Trial 24 finished with values: [0.6052874326705933, 0.5585859775543213, 5.768560886383057] and parameters: {'mutation_method': 'mutLinear', 'mutation_prob': 0.6615160172508315, 'mutation_rate_start': 0.980440731049015, 'mutation_rate_end': 0.6859500651227584, 'crossover_method': 'cxKPoint', 'crossover_rate': 0.7550740838409976, 'crossover_points': 2, 'selection_method': 'selNormRoulette', 'elitism_rate': 0.8838474573380611, 'survival_rate': 0.6298312817705376}.\n",
      "[I 2025-04-21 10:38:17,392] Trial 25 finished with values: [0.6101658940315247, 0.5827593326568603, 8.117768287658691] and parameters: {'mutation_method': 'mutConstant', 'mutation_prob': 0.8788215630527032, 'mutation_rate': 0.3543498537134758, 'crossover_method': 'cxKPoint', 'crossover_rate': 0.8997295249259861, 'crossover_points': 1, 'selection_method': 'selRandom', 'elitism_rate': 0.8648804590805184, 'survival_rate': 0.11245330914786383}.\n",
      "[I 2025-04-21 10:38:26,886] Trial 26 finished with values: [0.7990807294845581, 0.7601740837097168, 9.290120363235474] and parameters: {'mutation_method': 'mutConstant', 'mutation_prob': 0.745469334767908, 'mutation_rate': 0.014988369636433619, 'crossover_method': 'cxUniform', 'crossover_rate': 0.7985845093233377, 'selection_method': 'selTournamentWithoutReplacement', 'tournsize': 8, 'elitism_rate': 0.513843368314721, 'survival_rate': 0.4407762724145538}.\n",
      "[I 2025-04-21 10:38:33,461] Trial 27 finished with values: [0.6902449131011963, 0.6584548830986023, 6.343273162841797] and parameters: {'mutation_method': 'mutConstant', 'mutation_prob': 0.5703307642476951, 'mutation_rate': 0.38958965389629263, 'crossover_method': 'cxKPoint', 'crossover_rate': 0.9208618497612943, 'crossover_points': 1, 'selection_method': 'selTournamentWithoutReplacement', 'tournsize': 4, 'elitism_rate': 0.787415988635883, 'survival_rate': 0.33598973378914526}.\n",
      "[I 2025-04-21 10:38:38,104] Trial 28 finished with values: [0.533074140548706, 0.5020869135856628, 4.457805633544922] and parameters: {'mutation_method': 'mutEntropy', 'mutation_prob': 0.38124891651324044, 'mutation_rate_start': 0.5179493763409413, 'mutation_rate_end': 0.6901596474095105, 'crossover_method': 'cxKPoint', 'crossover_rate': 0.6893213902430837, 'crossover_points': 2, 'selection_method': 'selTournamentWithoutReplacement', 'tournsize': 9, 'elitism_rate': 0.9943478651517155, 'survival_rate': 0.23046343162937152}.\n",
      "[I 2025-04-21 10:38:43,395] Trial 29 finished with values: [0.6361677646636963, 0.5857226133346558, 5.091538667678833] and parameters: {'mutation_method': 'mutLinear', 'mutation_prob': 0.7289800610608714, 'mutation_rate_start': 0.5462921699926226, 'mutation_rate_end': 0.43609510836487797, 'crossover_method': 'cxUniform', 'crossover_rate': 0.6042283231143359, 'selection_method': 'selTournament', 'tournsize': 6, 'elitism_rate': 0.9448877006112935, 'survival_rate': 0.4242669292582666}.\n",
      "[I 2025-04-21 10:38:48,642] Trial 30 finished with values: [0.6129070520401001, 0.58589688539505, 5.027351140975952] and parameters: {'mutation_method': 'mutLinear', 'mutation_prob': 0.743309684334142, 'mutation_rate_start': 0.8046008828664453, 'mutation_rate_end': 0.43659019247107067, 'crossover_method': 'cxUniform', 'crossover_rate': 0.6195844654903504, 'selection_method': 'selTournament', 'tournsize': 8, 'elitism_rate': 0.9589685445832843, 'survival_rate': 0.43668106700514797}.\n",
      "[I 2025-04-21 10:38:56,799] Trial 31 finished with values: [0.8208284378051758, 0.7889212846755982, 7.9705259799957275] and parameters: {'mutation_method': 'mutConstant', 'mutation_prob': 0.7241032195416145, 'mutation_rate': 0.09450770661069326, 'crossover_method': 'cxUniform', 'crossover_rate': 0.7822698852820764, 'selection_method': 'selTournamentWithoutReplacement', 'tournsize': 10, 'elitism_rate': 0.5618462456811011, 'survival_rate': 0.26469154784006965}.\n",
      "[I 2025-04-21 10:39:03,598] Trial 32 finished with values: [0.7668366432189941, 0.7219496011734009, 6.616721868515015] and parameters: {'mutation_method': 'mutConstant', 'mutation_prob': 0.43804829385653293, 'mutation_rate': 0.1542585362277079, 'crossover_method': 'cxTwoPoint', 'crossover_rate': 0.8214655670831865, 'crossover_points': 3, 'selection_method': 'selTournament', 'tournsize': 10, 'elitism_rate': 0.7027962561139224, 'survival_rate': 0.3735978747837502}.\n",
      "[I 2025-04-21 10:39:09,719] Trial 33 finished with values: [0.5576106309890747, 0.5355578780174255, 5.944640874862671] and parameters: {'mutation_method': 'mutConstant', 'mutation_prob': 0.5668621913384349, 'mutation_rate': 0.9826740180011049, 'crossover_method': 'cxUniform', 'crossover_rate': 0.9348154823911109, 'selection_method': 'selRoulette', 'elitism_rate': 0.8465405774746432, 'survival_rate': 0.30757239754330146}.\n",
      "[I 2025-04-21 10:39:15,416] Trial 34 finished with values: [0.6837390065193176, 0.6683830499649048, 5.519277572631836] and parameters: {'mutation_method': 'mutConstant', 'mutation_prob': 0.5755508906721216, 'mutation_rate': 0.003715652871261854, 'crossover_method': 'cxKPoint', 'crossover_rate': 0.7212900229554746, 'crossover_points': 1, 'selection_method': 'selTournamentWithoutReplacement', 'tournsize': 9, 'elitism_rate': 0.6344741301994463, 'survival_rate': 0.5103163732495428}.\n",
      "[I 2025-04-21 10:39:24,634] Trial 35 finished with values: [0.8264716863632202, 0.7930272698402405, 9.04025673866272] and parameters: {'mutation_method': 'mutLinear', 'mutation_prob': 0.7993082259714598, 'mutation_rate_start': 0.5356238159628599, 'mutation_rate_end': 0.005012985110230961, 'crossover_method': 'cxTwoPoint', 'crossover_rate': 0.27075359603353216, 'crossover_points': 2, 'selection_method': 'selStochasticUniversalSampling', 'elitism_rate': 0.4941318980456837, 'survival_rate': 0.8572075074092543}.\n",
      "[I 2025-04-21 10:39:30,276] Trial 36 finished with values: [0.5762501955032349, 0.5416767477989197, 5.466883420944214] and parameters: {'mutation_method': 'mutConstant', 'mutation_prob': 0.689653853944852, 'mutation_rate': 0.7732155073297662, 'crossover_method': 'cxUniform', 'crossover_rate': 0.5772544744860586, 'selection_method': 'selRoulette', 'elitism_rate': 0.9182863097376107, 'survival_rate': 0.11012182674878235}.\n",
      "[I 2025-04-21 10:39:37,153] Trial 37 finished with values: [0.6365219950675964, 0.5792543411254882, 6.675653696060181] and parameters: {'mutation_method': 'mutEntropy', 'mutation_prob': 0.41563723625608506, 'mutation_rate_start': 0.8229615390385575, 'mutation_rate_end': 0.4653782824085525, 'crossover_method': 'cxKPoint', 'crossover_rate': 0.8356858479766378, 'crossover_points': 1, 'selection_method': 'selBoltzmann', 'boltzmann_temperature': 0.9752092270290817, 'elitism_rate': 0.7295683528426449, 'survival_rate': 0.19214350464668228}.\n",
      "[I 2025-04-21 10:39:44,900] Trial 38 finished with values: [0.5935354232788086, 0.5666745066642761, 7.5788726806640625] and parameters: {'mutation_method': 'mutLinear', 'mutation_prob': 0.5276113345614626, 'mutation_rate_start': 0.34396569741564126, 'mutation_rate_end': 0.9793221980293592, 'crossover_method': 'cxOnePoint', 'crossover_rate': 0.42502042119503997, 'selection_method': 'selRandom', 'elitism_rate': 0.5806448550118857, 'survival_rate': 0.5767789923181699}.\n",
      "[I 2025-04-21 10:39:51,422] Trial 39 finished with values: [0.7232884764671326, 0.6599147200584412, 6.357525587081909] and parameters: {'mutation_method': 'mutConstant', 'mutation_prob': 0.7900784306819642, 'mutation_rate': 0.14639340574495077, 'crossover_method': 'cxTwoPoint', 'crossover_rate': 0.7451231842460793, 'crossover_points': 1, 'selection_method': 'selNormRoulette', 'elitism_rate': 0.808463881575128, 'survival_rate': 0.7363754367080626}.\n",
      "[I 2025-04-21 10:39:59,600] Trial 40 finished with values: [0.5917640328407288, 0.5744365930557251, 8.000487804412842] and parameters: {'mutation_method': 'mutEntropy', 'mutation_prob': 0.8832235516317477, 'mutation_rate_start': 0.8549547336857555, 'mutation_rate_end': 0.7920681908860744, 'crossover_method': 'cxOnePoint', 'crossover_rate': 0.6673229325447767, 'selection_method': 'selTournament', 'tournsize': 10, 'elitism_rate': 0.6787847565242935, 'survival_rate': 0.28823873974052094}.\n",
      "[I 2025-04-21 10:40:05,799] Trial 41 finished with values: [0.7242881655693054, 0.7057913064956665, 6.01300835609436] and parameters: {'mutation_method': 'mutConstant', 'mutation_prob': 0.6067688204428697, 'mutation_rate': 0.007582045199353054, 'crossover_method': 'cxKPoint', 'crossover_rate': 0.7526162636945772, 'crossover_points': 1, 'selection_method': 'selTournamentWithoutReplacement', 'tournsize': 9, 'elitism_rate': 0.617149705587237, 'survival_rate': 0.39760765558576244}.\n",
      "[I 2025-04-21 10:40:11,265] Trial 42 finished with values: [0.7486201524734497, 0.7137616634368896, 5.284050703048706] and parameters: {'mutation_method': 'mutConstant', 'mutation_prob': 0.5791117897939707, 'mutation_rate': 0.1128329041731844, 'crossover_method': 'cxKPoint', 'crossover_rate': 0.7308194279380388, 'crossover_points': 1, 'selection_method': 'selTournamentWithoutReplacement', 'tournsize': 9, 'elitism_rate': 0.9053767796211049, 'survival_rate': 0.5137073235070153}.\n",
      "[I 2025-04-21 10:40:22,134] Trial 43 finished with values: [0.8573745489120483, 0.7862641930580139, 10.693814516067505] and parameters: {'mutation_method': 'mutConstant', 'mutation_prob': 0.5208390612831411, 'mutation_rate': 0.1301842138427458, 'crossover_method': 'cxKPoint', 'crossover_rate': 0.530092678958193, 'crossover_points': 2, 'selection_method': 'selTournamentWithoutReplacement', 'tournsize': 10, 'elitism_rate': 0.019436425655565914, 'survival_rate': 0.4845831609635555}.\n",
      "[I 2025-04-21 10:40:32,247] Trial 44 finished with values: [0.8650826215744019, 0.8021474599838256, 9.934348344802856] and parameters: {'mutation_method': 'mutConstant', 'mutation_prob': 0.316796981892883, 'mutation_rate': 0.14921723296310424, 'crossover_method': 'cxKPoint', 'crossover_rate': 0.947447116689346, 'crossover_points': 1, 'selection_method': 'selTournamentWithoutReplacement', 'tournsize': 10, 'elitism_rate': 0.0936608495613292, 'survival_rate': 0.47962676269837873}.\n",
      "[I 2025-04-21 10:40:37,498] Trial 45 finished with values: [0.6909237504005432, 0.6447667837142944, 5.061288356781006] and parameters: {'mutation_method': 'mutConstant', 'mutation_prob': 0.3155208604582805, 'mutation_rate': 0.2458243151627273, 'crossover_method': 'cxKPoint', 'crossover_rate': 0.9492567521322971, 'crossover_points': 1, 'selection_method': 'selTournamentWithoutReplacement', 'tournsize': 9, 'elitism_rate': 0.9092716623502966, 'survival_rate': 0.3216762560967746}.\n",
      "[I 2025-04-21 10:40:43,493] Trial 46 finished with values: [0.7500684261322021, 0.7125379800796509, 5.808561563491821] and parameters: {'mutation_method': 'mutConstant', 'mutation_prob': 0.35158223426886925, 'mutation_rate': 0.11109108483818622, 'crossover_method': 'cxKPoint', 'crossover_rate': 0.8777268145928776, 'crossover_points': 1, 'selection_method': 'selTournamentWithoutReplacement', 'tournsize': 8, 'elitism_rate': 0.8234273044654884, 'survival_rate': 0.536529753235941}.\n",
      "[I 2025-04-21 10:40:51,369] Trial 47 finished with values: [0.7621884346008301, 0.7141341805458069, 7.69478178024292] and parameters: {'mutation_method': 'mutConstant', 'mutation_prob': 0.2073029994930864, 'mutation_rate': 0.08622167653495534, 'crossover_method': 'cxKPoint', 'crossover_rate': 0.7927402905382815, 'crossover_points': 1, 'selection_method': 'selBoltzmann', 'boltzmann_temperature': 0.03247325800233147, 'elitism_rate': 0.41303653753501246, 'survival_rate': 0.1108347670105779}.\n",
      "[I 2025-04-21 10:40:58,845] Trial 48 finished with values: [0.7918167114257812, 0.7244485139846801, 7.293055534362793] and parameters: {'mutation_method': 'mutConstant', 'mutation_prob': 0.18809126145005847, 'mutation_rate': 0.21870606822259137, 'crossover_method': 'cxKPoint', 'crossover_rate': 0.3522093100860269, 'crossover_points': 1, 'selection_method': 'selTournamentWithoutReplacement', 'tournsize': 10, 'elitism_rate': 0.5355347098924907, 'survival_rate': 0.21994246146768884}.\n",
      "[I 2025-04-21 10:41:12,901] Trial 49 finished with values: [0.6980844736099243, 0.6521105885505676, 13.825255632400513] and parameters: {'mutation_method': 'mutConstant', 'mutation_prob': 0.466792321959262, 'mutation_rate': 0.34101057748645874, 'crossover_method': 'cxKPoint', 'crossover_rate': 0.9632099430308162, 'crossover_points': 1, 'selection_method': 'selTournamentWithoutReplacement', 'tournsize': 1, 'elitism_rate': 0.11834508306916214, 'survival_rate': 0.6202229686994529}.\n",
      "[I 2025-04-21 10:41:27,294] Trial 50 finished with values: [0.8333197832107544, 0.793281078338623, 14.157666206359863] and parameters: {'mutation_method': 'mutEntropy', 'mutation_prob': 0.38683745307452805, 'mutation_rate_start': 0.4407517305683662, 'mutation_rate_end': 0.6499326452679253, 'crossover_method': 'cxTwoPoint', 'crossover_rate': 0.7083102483183459, 'crossover_points': 4, 'selection_method': 'selRoulette', 'elitism_rate': 0.289632447656809, 'survival_rate': 0.8959619213744233}.\n",
      "[I 2025-04-21 10:41:39,246] Trial 51 finished with values: [0.8692777156829834, 0.7756580710411072, 11.72983169555664] and parameters: {'mutation_method': 'mutConstant', 'mutation_prob': 0.3201795683905999, 'mutation_rate': 0.06928644543233717, 'crossover_method': 'cxKPoint', 'crossover_rate': 0.9601122782406033, 'crossover_points': 1, 'selection_method': 'selTournamentWithoutReplacement', 'tournsize': 9, 'elitism_rate': 0.3782954300430988, 'survival_rate': 0.3145191294278597}.\n",
      "[I 2025-04-21 10:41:47,826] Trial 52 finished with values: [0.7243697643280029, 0.7019487619400024, 8.364702701568604] and parameters: {'mutation_method': 'mutConstant', 'mutation_prob': 0.9423970773096122, 'mutation_rate': 0.19780003139526087, 'crossover_method': 'cxKPoint', 'crossover_rate': 0.83461718117613, 'crossover_points': 1, 'selection_method': 'selTournamentWithoutReplacement', 'tournsize': 9, 'elitism_rate': 0.896258005417526, 'survival_rate': 0.1711414058173923}.\n",
      "[I 2025-04-21 10:41:56,904] Trial 53 finished with values: [0.7580796480178833, 0.7063711285591125, 8.839512586593628] and parameters: {'mutation_method': 'mutConstant', 'mutation_prob': 0.3251277719982326, 'mutation_rate': 0.07963211774019531, 'crossover_method': 'cxKPoint', 'crossover_rate': 0.8668609012564503, 'crossover_points': 1, 'selection_method': 'selTournamentWithoutReplacement', 'tournsize': 10, 'elitism_rate': 0.7502909404302258, 'survival_rate': 0.2684046101468821}.\n",
      "[I 2025-04-21 10:42:08,519] Trial 54 finished with values: [0.69142746925354, 0.6631678342819214, 11.409740447998047] and parameters: {'mutation_method': 'mutConstant', 'mutation_prob': 0.2854751152153699, 'mutation_rate': 0.2701622206684078, 'crossover_method': 'cxOnePoint', 'crossover_rate': 0.9032683106862296, 'selection_method': 'selStochasticUniversalSampling', 'elitism_rate': 0.4804850755719622, 'survival_rate': 0.33853645303018987}.\n",
      "[I 2025-04-21 10:42:25,653] Trial 55 finished with values: [0.591215193271637, 0.574392294883728, 16.857346057891846] and parameters: {'mutation_method': 'mutExponential', 'mutation_prob': 0.9861964039255972, 'mutation_rate_start': 0.5831225515443533, 'mutation_rate_end': 0.802685188826328, 'mutation_rate_degree': 1, 'crossover_method': 'cxKPoint', 'crossover_rate': 0.9632491857861658, 'crossover_points': 3, 'selection_method': 'selNormRoulette', 'elitism_rate': 0.15581017058485147, 'survival_rate': 0.05638260191246913}.\n",
      "[I 2025-04-21 10:42:36,570] Trial 56 finished with values: [0.7047635316848755, 0.6597479820251465, 10.693931341171265] and parameters: {'mutation_method': 'mutConstant', 'mutation_prob': 0.4475444596426982, 'mutation_rate': 0.165317778090724, 'crossover_method': 'cxKPoint', 'crossover_rate': 0.7798982685981093, 'crossover_points': 4, 'selection_method': 'selRandom', 'elitism_rate': 0.6621848504388042, 'survival_rate': 0.39320514992438516}.\n",
      "[I 2025-04-21 10:42:49,732] Trial 57 finished with values: [0.664401113986969, 0.634699821472168, 12.914820194244385] and parameters: {'mutation_method': 'mutConstant', 'mutation_prob': 0.5032255506666872, 'mutation_rate': 0.5549925802391695, 'crossover_method': 'cxKPoint', 'crossover_rate': 0.19373149587903227, 'crossover_points': 1, 'selection_method': 'selTournamentWithoutReplacement', 'tournsize': 9, 'elitism_rate': 0.25558913057255594, 'survival_rate': 0.7030730424300224}.\n",
      "[I 2025-04-21 10:42:53,532] Trial 58 finished with values: [0.5417815446853638, 0.5014139175415039, 3.5364763736724854] and parameters: {'mutation_method': 'mutEntropy', 'mutation_prob': 0.12862943767743218, 'mutation_rate_start': 0.2771588352197157, 'mutation_rate_end': 0.22803692701909495, 'crossover_method': 'cxKPoint', 'crossover_rate': 0.4641562049690571, 'crossover_points': 1, 'selection_method': 'selBoltzmann', 'boltzmann_temperature': 0.9901729812505086, 'elitism_rate': 0.9682397891099914, 'survival_rate': 0.15052306586987838}.\n",
      "[I 2025-04-21 10:43:05,094] Trial 59 finished with values: [0.7137970924377441, 0.6440411925315856, 11.32872200012207] and parameters: {'mutation_method': 'mutExponential', 'mutation_prob': 0.1829051155404292, 'mutation_rate_start': 0.8928535896981982, 'mutation_rate_end': 0.9971069374765588, 'mutation_rate_degree': 2, 'crossover_method': 'cxOnePoint', 'crossover_rate': 0.9323396609026964, 'selection_method': 'selTournamentWithoutReplacement', 'tournsize': 10, 'elitism_rate': 0.3676515214579824, 'survival_rate': 0.47593452075575}.\n",
      "[I 2025-04-21 10:43:16,551] Trial 60 finished with values: [0.7423235177993774, 0.7156306266784668, 11.22008204460144] and parameters: {'mutation_method': 'mutConstant', 'mutation_prob': 0.25314627217705615, 'mutation_rate': 0.44911930613915707, 'crossover_method': 'cxTwoPoint', 'crossover_rate': 0.8444794328300604, 'crossover_points': 1, 'selection_method': 'selBest', 'elitism_rate': 0.041419578733483675, 'survival_rate': 0.22476415128329336}.\n",
      "[I 2025-04-21 10:43:24,439] Trial 61 finished with values: [0.7786968946456909, 0.756228768825531, 7.699518918991089] and parameters: {'mutation_method': 'mutConstant', 'mutation_prob': 0.30781336077782195, 'mutation_rate': 0.06714121654920538, 'crossover_method': 'cxKPoint', 'crossover_rate': 0.968033012741237, 'crossover_points': 1, 'selection_method': 'selTournamentWithoutReplacement', 'tournsize': 9, 'elitism_rate': 0.3842895413698655, 'survival_rate': 0.3193598958747742}.\n",
      "[I 2025-04-21 10:43:33,897] Trial 62 finished with values: [0.8374745845794678, 0.7757434844970703, 9.254179239273071] and parameters: {'mutation_method': 'mutConstant', 'mutation_prob': 0.38120759214627853, 'mutation_rate': 0.058752422086049305, 'crossover_method': 'cxKPoint', 'crossover_rate': 0.8929779694531698, 'crossover_points': 1, 'selection_method': 'selTournamentWithoutReplacement', 'tournsize': 10, 'elitism_rate': 0.07197244926131763, 'survival_rate': 0.28560773324884026}.\n",
      "[I 2025-04-21 10:43:39,268] Trial 63 finished with values: [0.5538285374641418, 0.5171374559402466, 5.186428546905518] and parameters: {'mutation_method': 'mutConstant', 'mutation_prob': 0.3358394981590884, 'mutation_rate': 0.7147508508622937, 'crossover_method': 'cxKPoint', 'crossover_rate': 0.8014396273783416, 'crossover_points': 1, 'selection_method': 'selTournamentWithoutReplacement', 'tournsize': 3, 'elitism_rate': 0.91421819338885, 'survival_rate': 0.3571582676443261}.\n",
      "[I 2025-04-21 10:43:41,341] Trial 64 finished with values: [0.5844070911407471, 0.535198175907135, 1.8827767372131348] and parameters: {'mutation_method': 'mutConstant', 'mutation_prob': 0.28234951154978644, 'mutation_rate': 0.05304202575574599, 'crossover_method': 'cxKPoint', 'crossover_rate': 0.932311460328832, 'crossover_points': 1, 'selection_method': 'selTournamentWithoutReplacement', 'tournsize': 9, 'elitism_rate': 0.9998931820590614, 'survival_rate': 0.41867681141559154}.\n",
      "[I 2025-04-21 10:43:48,756] Trial 65 finished with values: [0.5925326943397522, 0.5649633765220642, 7.221463918685913] and parameters: {'mutation_method': 'mutLinear', 'mutation_prob': 0.08023241099148726, 'mutation_rate_start': 0.7557504320142315, 'mutation_rate_end': 0.5714073835642428, 'crossover_method': 'cxKPoint', 'crossover_rate': 0.9995855431093569, 'crossover_points': 4, 'selection_method': 'selStochasticUniversalSampling', 'elitism_rate': 0.4578871519919523, 'survival_rate': 0.5551085833978749}.\n",
      "[I 2025-04-21 10:43:54,874] Trial 66 finished with values: [0.6962236762046814, 0.6395657539367676, 5.9245710372924805] and parameters: {'mutation_method': 'mutExponential', 'mutation_prob': 0.692830673776271, 'mutation_rate_start': 0.6101215990487464, 'mutation_rate_end': 0.2697400998315623, 'mutation_rate_degree': 2, 'crossover_method': 'cxUniform', 'crossover_rate': 0.7428408533141821, 'selection_method': 'selTournamentWithoutReplacement', 'tournsize': 9, 'elitism_rate': 0.8315053460957803, 'survival_rate': 0.42132340043427136}.\n",
      "[I 2025-04-21 10:44:01,572] Trial 67 finished with values: [0.5760484933853149, 0.552339243888855, 6.5084569454193115] and parameters: {'mutation_method': 'mutConstant', 'mutation_prob': 0.6045584180275481, 'mutation_rate': 0.8906787970891297, 'crossover_method': 'cxKPoint', 'crossover_rate': 0.8212136907415479, 'crossover_points': 2, 'selection_method': 'selRandom', 'elitism_rate': 0.7618217856339105, 'survival_rate': 0.45627777234733763}.\n",
      "[I 2025-04-21 10:44:07,450] Trial 68 finished with values: [0.6379641890525818, 0.5875467658042908, 5.691802740097046] and parameters: {'mutation_method': 'mutEntropy', 'mutation_prob': 0.41601788080030655, 'mutation_rate_start': 0.45815488607984733, 'mutation_rate_end': 0.07015142811857289, 'crossover_method': 'cxOnePoint', 'crossover_rate': 0.6525348698047082, 'selection_method': 'selRoulette', 'elitism_rate': 0.8714095914286389, 'survival_rate': 0.1988900355223965}.\n",
      "[I 2025-04-21 10:44:12,068] Trial 69 finished with values: [0.5286989808082581, 0.5028066396713257, 4.430026292800903] and parameters: {'mutation_method': 'mutLinear', 'mutation_prob': 0.8289871699967705, 'mutation_rate_start': 0.18562255667520788, 'mutation_rate_end': 0.7121140869580633, 'crossover_method': 'cxKPoint', 'crossover_rate': 0.06653538213172139, 'crossover_points': 3, 'selection_method': 'selNormRoulette', 'elitism_rate': 0.9992141206967006, 'survival_rate': 0.2528188728339185}.\n",
      "[I 2025-04-21 10:44:19,895] Trial 70 finished with values: [0.7526695132255554, 0.7094979882240295, 7.636411428451538] and parameters: {'mutation_method': 'mutConstant', 'mutation_prob': 0.48061659636756116, 'mutation_rate': 0.27393910569916036, 'crossover_method': 'cxTwoPoint', 'crossover_rate': 0.9116618526145706, 'crossover_points': 1, 'selection_method': 'selTournamentWithoutReplacement', 'tournsize': 4, 'elitism_rate': 0.5357716256795709, 'survival_rate': 0.5231130712455232}.\n",
      "[I 2025-04-21 10:44:29,063] Trial 71 finished with values: [0.8624998331069946, 0.7595485568046569, 8.962169647216797] and parameters: {'mutation_method': 'mutConstant', 'mutation_prob': 0.28682166310026946, 'mutation_rate': 0.059138748649512365, 'crossover_method': 'cxKPoint', 'crossover_rate': 0.9394942785849485, 'crossover_points': 1, 'selection_method': 'selTournamentWithoutReplacement', 'tournsize': 10, 'elitism_rate': 0.21928420413268934, 'survival_rate': 0.9811104499102568}.\n",
      "[I 2025-04-21 10:44:38,819] Trial 72 finished with values: [0.8872778415679932, 0.810823404788971, 9.5696542263031] and parameters: {'mutation_method': 'mutConstant', 'mutation_prob': 0.7749303187714041, 'mutation_rate': 0.039110120182776376, 'crossover_method': 'cxKPoint', 'crossover_rate': 0.8875376195447244, 'crossover_points': 1, 'selection_method': 'selBest', 'elitism_rate': 0.19767572073937745, 'survival_rate': 0.9838008994647881}.\n",
      "[I 2025-04-21 10:44:50,075] Trial 73 finished with values: [0.8618898987770081, 0.8128230690956115, 11.053302764892578] and parameters: {'mutation_method': 'mutConstant', 'mutation_prob': 0.7746137069489649, 'mutation_rate': 0.04517597526198858, 'crossover_method': 'cxKPoint', 'crossover_rate': 0.8758241336089164, 'crossover_points': 2, 'selection_method': 'selBest', 'elitism_rate': 0.2483516137186103, 'survival_rate': 0.9826780856477177}.\n",
      "[I 2025-04-21 10:45:02,248] Trial 74 finished with values: [0.8608505725860596, 0.8328556537628173, 11.936561822891235] and parameters: {'mutation_method': 'mutConstant', 'mutation_prob': 0.5490260569162128, 'mutation_rate': 0.030829764756427024, 'crossover_method': 'cxUniform', 'crossover_rate': 0.6888467311170552, 'selection_method': 'selBest', 'elitism_rate': 0.33567201638606226, 'survival_rate': 0.8918362667557032}.\n",
      "[I 2025-04-21 10:45:12,269] Trial 75 finished with values: [0.8854624629020691, 0.8540900826454163, 9.794409990310669] and parameters: {'mutation_method': 'mutConstant', 'mutation_prob': 0.6598763850840953, 'mutation_rate': 0.03628406307181536, 'crossover_method': 'cxUniform', 'crossover_rate': 0.8233794193061796, 'selection_method': 'selBest', 'elitism_rate': 0.18454432510062468, 'survival_rate': 0.9054792845094493}.\n",
      "[I 2025-04-21 10:45:22,467] Trial 76 finished with values: [0.923918604850769, 0.8276800394058228, 9.992426872253418] and parameters: {'mutation_method': 'mutConstant', 'mutation_prob': 0.6673931232243625, 'mutation_rate': 0.10391134148676051, 'crossover_method': 'cxUniform', 'crossover_rate': 0.8081836775325513, 'selection_method': 'selTournament', 'tournsize': 8, 'elitism_rate': 0.2117669369786903, 'survival_rate': 0.8185897951100862}.\n",
      "[I 2025-04-21 10:45:33,121] Trial 77 finished with values: [0.8873186111450195, 0.8130439996719361, 10.459941625595093] and parameters: {'mutation_method': 'mutConstant', 'mutation_prob': 0.6705630288464847, 'mutation_rate': 0.10981501202508143, 'crossover_method': 'cxUniform', 'crossover_rate': 0.8127409858604039, 'selection_method': 'selTournament', 'tournsize': 8, 'elitism_rate': 0.16699063084759572, 'survival_rate': 0.8568154724845319}.\n",
      "[I 2025-04-21 10:45:43,847] Trial 78 finished with values: [0.7244789600372314, 0.6851771116256714, 10.521625518798828] and parameters: {'mutation_method': 'mutExponential', 'mutation_prob': 0.6213987529324426, 'mutation_rate_start': 0.9400192858671944, 'mutation_rate_end': 0.6268602220523751, 'mutation_rate_degree': 3, 'crossover_method': 'cxUniform', 'crossover_rate': 0.7229181725257986, 'selection_method': 'selTournament', 'tournsize': 7, 'elitism_rate': 0.22015146318665016, 'survival_rate': 0.9331065476126693}.\n",
      "[I 2025-04-21 10:45:54,908] Trial 79 finished with values: [0.8670804500579834, 0.8030961036682129, 10.866069793701172] and parameters: {'mutation_method': 'mutConstant', 'mutation_prob': 0.5845675595104045, 'mutation_rate': 0.18800307309779818, 'crossover_method': 'cxUniform', 'crossover_rate': 0.8474865896938001, 'selection_method': 'selTournament', 'tournsize': 5, 'elitism_rate': 0.12787536055000037, 'survival_rate': 0.7726682560712866}.\n",
      "[I 2025-04-21 10:46:05,807] Trial 80 finished with values: [0.8427196741104126, 0.8100426435470581, 10.697926759719849] and parameters: {'mutation_method': 'mutLinear', 'mutation_prob': 0.6442054565569234, 'mutation_rate_start': 0.29098033658817885, 'mutation_rate_end': 0.5055138044718712, 'crossover_method': 'cxUniform', 'crossover_rate': 0.7699702246116933, 'selection_method': 'selBoltzmann', 'boltzmann_temperature': 0.4603510487485151, 'elitism_rate': 0.2955799573163242, 'survival_rate': 0.8052707665245695}.\n",
      "[I 2025-04-21 10:46:11,301] Trial 81 finished with values: [0.8064058423042297, 0.7468477725982666, 5.288511037826538] and parameters: {'mutation_method': 'mutConstant', 'mutation_prob': 0.6931128163924014, 'mutation_rate': 0.044268525734875705, 'crossover_method': 'cxUniform', 'crossover_rate': 0.3282215429079543, 'selection_method': 'selBest', 'elitism_rate': 0.9335209624306304, 'survival_rate': 0.9553365619742651}.\n",
      "[I 2025-04-21 10:46:16,444] Trial 82 finished with values: [0.7905995845794678, 0.7511340498924255, 4.940675497055054] and parameters: {'mutation_method': 'mutConstant', 'mutation_prob': 0.6998485257683061, 'mutation_rate': 0.04225174825966995, 'crossover_method': 'cxUniform', 'crossover_rate': 0.36930267119114585, 'selection_method': 'selBest', 'elitism_rate': 0.9472577615695945, 'survival_rate': 0.956374611798376}.\n",
      "[I 2025-04-21 10:46:22,105] Trial 83 finished with values: [0.60161954164505, 0.5521320581436158, 5.453848600387573] and parameters: {'mutation_method': 'mutEntropy', 'mutation_prob': 0.7139896960751873, 'mutation_rate_start': 0.6435405076587413, 'mutation_rate_end': 0.404275269236135, 'crossover_method': 'cxUniform', 'crossover_rate': 0.3878018125980798, 'selection_method': 'selBest', 'elitism_rate': 0.9509807799837621, 'survival_rate': 0.922799994765758}.\n",
      "[I 2025-04-21 10:46:29,538] Trial 84 finished with values: [0.8242324590682983, 0.7697979569435119, 7.232109785079956] and parameters: {'mutation_method': 'mutConstant', 'mutation_prob': 0.7487767065908919, 'mutation_rate': 0.0013882251855541483, 'crossover_method': 'cxUniform', 'crossover_rate': 0.2788762961266261, 'selection_method': 'selBest', 'elitism_rate': 0.2151994605316434, 'survival_rate': 0.991958961684842}.\n",
      "[I 2025-04-21 10:46:36,061] Trial 85 finished with values: [0.6371427178382874, 0.6026830315589905, 6.328842401504517] and parameters: {'mutation_method': 'mutConstant', 'mutation_prob': 0.6642308724367513, 'mutation_rate': 0.6458389072354009, 'crossover_method': 'cxUniform', 'crossover_rate': 0.4376871173915563, 'selection_method': 'selBest', 'elitism_rate': 0.8022552371343897, 'survival_rate': 0.8624855462912895}.\n",
      "[I 2025-04-21 10:46:41,057] Trial 86 finished with values: [0.7762359380722046, 0.7039140582084655, 4.806036710739136] and parameters: {'mutation_method': 'mutConstant', 'mutation_prob': 0.8548651454403737, 'mutation_rate': 0.051594097601363936, 'crossover_method': 'cxUniform', 'crossover_rate': 0.19404045529322245, 'selection_method': 'selBest', 'elitism_rate': 0.9643818486974902, 'survival_rate': 0.9529851607570938}.\n",
      "[I 2025-04-21 10:46:45,778] Trial 87 finished with values: [0.7375279664993286, 0.6734021544456482, 4.528090476989746] and parameters: {'mutation_method': 'mutConstant', 'mutation_prob': 0.7721131041837015, 'mutation_rate': 0.03940604391759493, 'crossover_method': 'cxUniform', 'crossover_rate': 0.16291715294835063, 'selection_method': 'selBest', 'elitism_rate': 0.9780984363072686, 'survival_rate': 0.9647527953496414}.\n",
      "[I 2025-04-21 10:46:51,760] Trial 88 finished with values: [0.787883460521698, 0.7551933169364929, 5.7911012172698975] and parameters: {'mutation_method': 'mutConstant', 'mutation_prob': 0.7697348926005387, 'mutation_rate': 0.0934487282632089, 'crossover_method': 'cxUniform', 'crossover_rate': 0.5104276427231389, 'selection_method': 'selBest', 'elitism_rate': 0.8722729427468549, 'survival_rate': 0.9072485608502142}.\n",
      "[I 2025-04-21 10:46:53,044] Trial 89 finished with values: [0.5488332509994507, 0.5233053207397461, 1.0841686725616455] and parameters: {'mutation_method': 'mutConstant', 'mutation_prob': 0.8091943312001051, 'mutation_rate': 0.0027834041395852424, 'crossover_method': 'cxUniform', 'crossover_rate': 0.12630965215660395, 'selection_method': 'selBest', 'elitism_rate': 0.9716005560718396, 'survival_rate': 0.9651439645278914}.\n",
      "[I 2025-04-21 10:46:58,882] Trial 90 finished with values: [0.785000205039978, 0.7320003747940064, 5.642149448394775] and parameters: {'mutation_method': 'mutConstant', 'mutation_prob': 0.7049994390897293, 'mutation_rate': 0.13333826716138483, 'crossover_method': 'cxUniform', 'crossover_rate': 0.16756048214727817, 'selection_method': 'selBest', 'elitism_rate': 0.9394881394856864, 'survival_rate': 0.833084328954251}.\n",
      "[I 2025-04-21 10:47:08,349] Trial 91 finished with values: [0.8656853437423706, 0.8271149516105651, 9.263393640518188] and parameters: {'mutation_method': 'mutConstant', 'mutation_prob': 0.7385978832089074, 'mutation_rate': 0.03307300260997971, 'crossover_method': 'cxUniform', 'crossover_rate': 0.06937960746378194, 'selection_method': 'selBest', 'elitism_rate': 0.18886222003479636, 'survival_rate': 0.9299167900176151}.\n",
      "[I 2025-04-21 10:47:15,019] Trial 92 finished with values: [0.8144384622573853, 0.7797468185424805, 6.472506284713745] and parameters: {'mutation_method': 'mutConstant', 'mutation_prob': 0.6185210094023408, 'mutation_rate': 0.031538524508824356, 'crossover_method': 'cxUniform', 'crossover_rate': 0.05502756567735692, 'selection_method': 'selBest', 'elitism_rate': 0.6838967183688462, 'survival_rate': 0.9432879438950882}.\n",
      "[I 2025-04-21 10:47:22,749] Trial 93 finished with values: [0.8951467275619507, 0.8444380044937134, 7.515658140182495] and parameters: {'mutation_method': 'mutConstant', 'mutation_prob': 0.7487182245382854, 'mutation_rate': 0.10050319769132943, 'crossover_method': 'cxUniform', 'crossover_rate': 0.22362890067395697, 'selection_method': 'selTournament', 'tournsize': 6, 'elitism_rate': 0.5981089702239115, 'survival_rate': 0.8716464989024215}.\n",
      "[I 2025-04-21 10:47:31,552] Trial 94 finished with values: [0.5985336899757385, 0.5813653469085693, 8.573959589004517] and parameters: {'mutation_method': 'mutLinear', 'mutation_prob': 0.8644162185304107, 'mutation_rate_start': 0.7343939724410384, 'mutation_rate_end': 0.8451004603482436, 'crossover_method': 'cxUniform', 'crossover_rate': 0.2250504979342035, 'selection_method': 'selTournament', 'tournsize': 6, 'elitism_rate': 0.6187392936268206, 'survival_rate': 0.8127811601192753}.\n",
      "[I 2025-04-21 10:47:40,127] Trial 95 finished with values: [0.6095179915428162, 0.5769115805625915, 8.35151720046997] and parameters: {'mutation_method': 'mutExponential', 'mutation_prob': 0.8336600523998451, 'mutation_rate_start': 0.9236561767509625, 'mutation_rate_end': 0.7387030947333222, 'mutation_rate_degree': 1, 'crossover_method': 'cxUniform', 'crossover_rate': 0.157441258575801, 'selection_method': 'selTournament', 'tournsize': 6, 'elitism_rate': 0.5871555110031381, 'survival_rate': 0.7820479121911165}.\n",
      "[I 2025-04-21 10:47:49,881] Trial 96 finished with values: [0.8515413999557495, 0.7729399085044861, 9.516045331954956] and parameters: {'mutation_method': 'mutEntropy', 'mutation_prob': 0.7573775166657539, 'mutation_rate_start': 0.43087532840808057, 'mutation_rate_end': 0.2593290881089406, 'crossover_method': 'cxUniform', 'crossover_rate': 0.23373180422605985, 'selection_method': 'selTournament', 'tournsize': 7, 'elitism_rate': 0.41251473384808224, 'survival_rate': 0.8747035604670585}.\n",
      "[I 2025-04-21 10:47:58,898] Trial 97 finished with values: [0.7295569181442261, 0.7139707326889038, 8.791261196136475] and parameters: {'mutation_method': 'mutExponential', 'mutation_prob': 0.896299894884595, 'mutation_rate_start': 0.3401613883009468, 'mutation_rate_end': 0.5079662723616286, 'mutation_rate_degree': 2, 'crossover_method': 'cxUniform', 'crossover_rate': 0.21011186256822462, 'selection_method': 'selTournament', 'tournsize': 4, 'elitism_rate': 0.5597420444748674, 'survival_rate': 0.8326206854978777}.\n",
      "[I 2025-04-21 10:48:06,905] Trial 98 finished with values: [0.7557958960533142, 0.6944842100143432, 7.782492399215698] and parameters: {'mutation_method': 'mutLinear', 'mutation_prob': 0.906786875151381, 'mutation_rate_start': 0.05348032108737111, 'mutation_rate_end': 0.9396365233347528, 'crossover_method': 'cxTwoPoint', 'crossover_rate': 0.27796468851580924, 'crossover_points': 4, 'selection_method': 'selTournament', 'tournsize': 5, 'elitism_rate': 0.6590747804253947, 'survival_rate': 0.7546980377207205}.\n",
      "[I 2025-04-21 10:48:14,384] Trial 99 finished with values: [0.7143161296844482, 0.6924257636070251, 7.26221489906311] and parameters: {'mutation_method': 'mutEntropy', 'mutation_prob': 0.7258154867537133, 'mutation_rate_start': 0.714620243363292, 'mutation_rate_end': 0.07398802611922095, 'crossover_method': 'cxOnePoint', 'crossover_rate': 0.31505128217480793, 'selection_method': 'selTournament', 'tournsize': 3, 'elitism_rate': 0.7119349130095706, 'survival_rate': 0.718064843380899}.\n",
      "[I 2025-04-21 10:48:23,196] Trial 100 finished with values: [0.8552659749984741, 0.8195011258125305, 8.600071668624878] and parameters: {'mutation_method': 'mutConstant', 'mutation_prob': 0.8171503615311478, 'mutation_rate': 0.17250058548939565, 'crossover_method': 'cxUniform', 'crossover_rate': 0.0987223944375134, 'selection_method': 'selTournament', 'tournsize': 6, 'elitism_rate': 0.5005654064794194, 'survival_rate': 0.9074786465634974}.\n",
      "[I 2025-04-21 10:48:30,215] Trial 101 finished with values: [0.7075375914573669, 0.656189751625061, 6.790233612060547] and parameters: {'mutation_method': 'mutConstant', 'mutation_prob': 0.7885270425902492, 'mutation_rate': 0.909439839265188, 'crossover_method': 'cxUniform', 'crossover_rate': 0.33215237795807295, 'selection_method': 'selTournament', 'tournsize': 7, 'elitism_rate': 0.7472479508275109, 'survival_rate': 0.8476720065125134}.\n",
      "[I 2025-04-21 10:48:39,288] Trial 102 finished with values: [0.703630805015564, 0.6377573728561401, 8.845324993133545] and parameters: {'mutation_method': 'mutConstant', 'mutation_prob': 0.6976244596372063, 'mutation_rate': 0.7903478541589886, 'crossover_method': 'cxUniform', 'crossover_rate': 0.25824085677375974, 'selection_method': 'selTournament', 'tournsize': 1, 'elitism_rate': 0.46246724295472574, 'survival_rate': 0.875383359888928}.\n",
      "[I 2025-04-21 10:48:47,754] Trial 103 finished with values: [0.7372389435768127, 0.7100221037864685, 8.243107795715332] and parameters: {'mutation_method': 'mutExponential', 'mutation_prob': 0.6778085681631827, 'mutation_rate_start': 0.1408015204890284, 'mutation_rate_end': 0.8428397534439462, 'mutation_rate_degree': 3, 'crossover_method': 'cxUniform', 'crossover_rate': 0.19778818725179884, 'selection_method': 'selStochasticUniversalSampling', 'elitism_rate': 0.6382610639958204, 'survival_rate': 0.9629976173132956}.\n",
      "[I 2025-04-21 10:48:56,446] Trial 104 finished with values: [0.6796737909317017, 0.6543216466903686, 8.468327522277832] and parameters: {'mutation_method': 'mutLinear', 'mutation_prob': 0.6481193726805999, 'mutation_rate_start': 0.7654330586746295, 'mutation_rate_end': 0.607994089697357, 'crossover_method': 'cxTwoPoint', 'crossover_rate': 0.13929251144271104, 'crossover_points': 3, 'selection_method': 'selRoulette', 'elitism_rate': 0.5268634147897292, 'survival_rate': 0.6787402337544532}.\n",
      "[I 2025-04-21 10:49:06,056] Trial 105 finished with values: [0.8697941303253174, 0.8079589486122132, 9.395375728607178] and parameters: {'mutation_method': 'mutEntropy', 'mutation_prob': 0.8563450768394918, 'mutation_rate_start': 0.21401845831856336, 'mutation_rate_end': 0.19818388506384188, 'crossover_method': 'cxOnePoint', 'crossover_rate': 0.3820149958149024, 'selection_method': 'selTournament', 'tournsize': 4, 'elitism_rate': 0.426339252573845, 'survival_rate': 0.7954730656176634}.\n",
      "[I 2025-04-21 10:49:12,241] Trial 106 finished with values: [0.7744708061218262, 0.7353510737419129, 5.980165243148804] and parameters: {'mutation_method': 'mutConstant', 'mutation_prob': 0.03288613288384623, 'mutation_rate': 0.47569782444784886, 'crossover_method': 'cxUniform', 'crossover_rate': 0.5560404567294462, 'selection_method': 'selRandom', 'elitism_rate': 0.7743017819697329, 'survival_rate': 0.8808516226106543}.\n",
      "[I 2025-04-21 10:49:21,730] Trial 107 finished with values: [0.8525139689445496, 0.7977709889411926, 9.263933420181274] and parameters: {'mutation_method': 'mutConstant', 'mutation_prob': 0.7192161685963865, 'mutation_rate': 0.10538889280900225, 'crossover_method': 'cxUniform', 'crossover_rate': 0.24827971959419767, 'selection_method': 'selTournament', 'tournsize': 2, 'elitism_rate': 0.3413837294127074, 'survival_rate': 0.6236422303858578}.\n",
      "[I 2025-04-21 10:49:29,289] Trial 108 finished with values: [0.7644667625427246, 0.6970188856124878, 7.330302000045776] and parameters: {'mutation_method': 'mutConstant', 'mutation_prob': 0.9449964952133655, 'mutation_rate': 0.13567498955882112, 'crossover_method': 'cxUniform', 'crossover_rate': 0.1865814873578664, 'selection_method': 'selNormRoulette', 'elitism_rate': 0.6951714920471822, 'survival_rate': 0.07657600767800421}.\n",
      "[I 2025-04-21 10:49:37,745] Trial 109 finished with values: [0.7650972604751587, 0.7289986371994018, 8.235111236572266] and parameters: {'mutation_method': 'mutConstant', 'mutation_prob': 0.7660818766764151, 'mutation_rate': 0.31629024017966884, 'crossover_method': 'cxOnePoint', 'crossover_rate': 0.3037092508257285, 'selection_method': 'selBoltzmann', 'boltzmann_temperature': 0.521286344339332, 'elitism_rate': 0.5639541822566979, 'survival_rate': 0.9014227878251145}.\n",
      "[I 2025-04-21 10:49:43,293] Trial 110 finished with values: [0.6937138438224792, 0.6707345604896545, 5.31147027015686] and parameters: {'mutation_method': 'mutConstant', 'mutation_prob': 0.6877963138531646, 'mutation_rate': 0.0927965148435252, 'crossover_method': 'cxTwoPoint', 'crossover_rate': 0.014763165293375846, 'crossover_points': 2, 'selection_method': 'selTournament', 'tournsize': 8, 'elitism_rate': 0.9301597877003392, 'survival_rate': 0.8311680010351121}.\n",
      "[I 2025-04-21 10:49:51,752] Trial 111 finished with values: [0.7485284805297852, 0.6767004251480102, 8.005518913269043] and parameters: {'mutation_method': 'mutConstant', 'mutation_prob': 0.7957587498409112, 'mutation_rate': 0.6009353137785507, 'crossover_method': 'cxUniform', 'crossover_rate': 0.2962711259672246, 'selection_method': 'selTournament', 'tournsize': 5, 'elitism_rate': 0.6134142155267652, 'survival_rate': 0.9541066273337726}.\n",
      "[I 2025-04-21 10:49:58,804] Trial 112 finished with values: [0.8119908571243286, 0.7695672512054443, 6.802855491638184] and parameters: {'mutation_method': 'mutExponential', 'mutation_prob': 0.07073802314681954, 'mutation_rate_start': 0.6747563637759872, 'mutation_rate_end': 0.292187462447931, 'mutation_rate_degree': 1, 'crossover_method': 'cxUniform', 'crossover_rate': 0.34255123168367074, 'selection_method': 'selStochasticUniversalSampling', 'elitism_rate': 0.6022257156977842, 'survival_rate': 0.9229024684297114}.\n",
      "[I 2025-04-21 10:50:07,056] Trial 113 finished with values: [0.7452239990234375, 0.7207557559013367, 8.02190375328064] and parameters: {'mutation_method': 'mutConstant', 'mutation_prob': 0.6289221347834812, 'mutation_rate': 0.391323880357919, 'crossover_method': 'cxUniform', 'crossover_rate': 0.21283408361202347, 'selection_method': 'selTournament', 'tournsize': 6, 'elitism_rate': 0.554844570919194, 'survival_rate': 0.9403772880045269}.\n",
      "[I 2025-04-21 10:50:14,882] Trial 114 finished with values: [0.6250601410865784, 0.5917785882949829, 7.588160514831543] and parameters: {'mutation_method': 'mutLinear', 'mutation_prob': 0.735387924368827, 'mutation_rate_start': 0.9916461644045421, 'mutation_rate_end': 0.5374851668361147, 'crossover_method': 'cxUniform', 'crossover_rate': 0.07141407854807386, 'selection_method': 'selRoulette', 'elitism_rate': 0.6535849696286843, 'survival_rate': 0.5818313161632989}.\n",
      "[I 2025-04-21 10:50:22,592] Trial 115 finished with values: [0.6872473955154419, 0.6718847870826721, 7.477092981338501] and parameters: {'mutation_method': 'mutEntropy', 'mutation_prob': 0.6041649120075516, 'mutation_rate_start': 0.48497921179146397, 'mutation_rate_end': 0.35789729224319755, 'crossover_method': 'cxUniform', 'crossover_rate': 0.15388037732769225, 'selection_method': 'selRandom', 'elitism_rate': 0.686440150766592, 'survival_rate': 0.846971233240214}.\n",
      "[I 2025-04-21 10:50:30,719] Trial 116 finished with values: [0.8136813640594482, 0.7598564863204956, 7.916576147079468] and parameters: {'mutation_method': 'mutConstant', 'mutation_prob': 0.6514579392423258, 'mutation_rate': 0.1349658139663935, 'crossover_method': 'cxUniform', 'crossover_rate': 0.4659791018500954, 'selection_method': 'selNormRoulette', 'elitism_rate': 0.6366366652328279, 'survival_rate': 0.7552699710547038}.\n",
      "[I 2025-04-21 10:50:38,100] Trial 117 finished with values: [0.8540976047515869, 0.7924973845481873, 7.145756006240845] and parameters: {'mutation_method': 'mutConstant', 'mutation_prob': 0.5429230961301623, 'mutation_rate': 0.06512821343611891, 'crossover_method': 'cxTwoPoint', 'crossover_rate': 0.3813700279848192, 'crossover_points': 3, 'selection_method': 'selTournament', 'tournsize': 8, 'elitism_rate': 0.5854733447058508, 'survival_rate': 0.890664820913173}.\n",
      "[I 2025-04-21 10:50:45,086] Trial 118 finished with values: [0.8613600134849548, 0.7914595007896423, 6.7430579662323] and parameters: {'mutation_method': 'mutConstant', 'mutation_prob': 0.7121096995753994, 'mutation_rate': 0.07055696288480454, 'crossover_method': 'cxTwoPoint', 'crossover_rate': 0.11960465413496205, 'crossover_points': 3, 'selection_method': 'selTournament', 'tournsize': 7, 'elitism_rate': 0.7287903731598115, 'survival_rate': 0.9477862586003798}.\n",
      "[I 2025-04-21 10:50:52,480] Trial 119 finished with values: [0.702701985836029, 0.6567657589912415, 7.150908470153809] and parameters: {'mutation_method': 'mutConstant', 'mutation_prob': 0.7497554202218406, 'mutation_rate': 0.5343059070714361, 'crossover_method': 'cxTwoPoint', 'crossover_rate': 0.14756770692884752, 'crossover_points': 3, 'selection_method': 'selTournament', 'tournsize': 7, 'elitism_rate': 0.7319984256922716, 'survival_rate': 0.9146302808354826}.\n",
      "[I 2025-04-21 10:51:00,125] Trial 120 finished with values: [0.8902074098587036, 0.7915812492370605, 7.397045135498047] and parameters: {'mutation_method': 'mutConstant', 'mutation_prob': 0.784767435882427, 'mutation_rate': 0.03096251118799108, 'crossover_method': 'cxTwoPoint', 'crossover_rate': 0.1760857119541675, 'crossover_points': 4, 'selection_method': 'selTournament', 'tournsize': 7, 'elitism_rate': 0.5115734825118949, 'survival_rate': 0.9491199137076598}.\n",
      "[I 2025-04-21 10:51:04,857] Trial 121 finished with values: [0.6209492087364197, 0.5881105065345764, 4.480245590209961] and parameters: {'mutation_method': 'mutConstant', 'mutation_prob': 0.7102312970491015, 'mutation_rate': 0.042061071640015824, 'crossover_method': 'cxTwoPoint', 'crossover_rate': 0.17740878380362746, 'crossover_points': 4, 'selection_method': 'selTournament', 'tournsize': 7, 'elitism_rate': 0.9754858337954271, 'survival_rate': 0.9452973563238992}.\n",
      "[I 2025-04-21 10:51:10,648] Trial 122 finished with values: [0.7780280113220215, 0.7316186547279357, 5.536460638046265] and parameters: {'mutation_method': 'mutConstant', 'mutation_prob': 0.6665973835882181, 'mutation_rate': 0.08908665264226841, 'crossover_method': 'cxUniform', 'crossover_rate': 0.13479701988351772, 'selection_method': 'selTournament', 'tournsize': 6, 'elitism_rate': 0.8958069950944473, 'survival_rate': 0.9633119359508899}.\n",
      "[I 2025-04-21 10:51:16,559] Trial 123 finished with values: [0.8547669649124146, 0.7676729679107666, 5.673705577850342] and parameters: {'mutation_method': 'mutConstant', 'mutation_prob': 0.7871981419439681, 'mutation_rate': 0.07022576316568384, 'crossover_method': 'cxUniform', 'crossover_rate': 0.11981382337068133, 'selection_method': 'selBest', 'elitism_rate': 0.838298700916809, 'survival_rate': 0.8679687290621243}.\n",
      "[I 2025-04-21 10:51:22,618] Trial 124 finished with values: [0.7816976308822632, 0.7352604389190673, 5.819043397903442] and parameters: {'mutation_method': 'mutConstant', 'mutation_prob': 0.8301313700751162, 'mutation_rate': 0.16429056922683974, 'crossover_method': 'cxUniform', 'crossover_rate': 0.1110831210244751, 'selection_method': 'selBest', 'elitism_rate': 0.8537802824791426, 'survival_rate': 0.8624428297233537}.\n",
      "[I 2025-04-21 10:51:34,208] Trial 125 finished with values: [0.8405024409294128, 0.7929819822311401, 11.347211360931396] and parameters: {'mutation_method': 'mutConstant', 'mutation_prob': 0.7846274609052757, 'mutation_rate': 0.11734117105175189, 'crossover_method': 'cxUniform', 'crossover_rate': 0.10877430675154265, 'selection_method': 'selBoltzmann', 'boltzmann_temperature': 0.273419168142532, 'elitism_rate': 0.0646127599912229, 'survival_rate': 0.8152214570562992}.\n",
      "[I 2025-04-21 10:51:40,162] Trial 126 finished with values: [0.8382444381713867, 0.7908034563064575, 5.716701507568359] and parameters: {'mutation_method': 'mutConstant', 'mutation_prob': 0.7620486506015608, 'mutation_rate': 0.07444087150941736, 'crossover_method': 'cxUniform', 'crossover_rate': 0.23868245588021317, 'selection_method': 'selBest', 'elitism_rate': 0.8271871888915658, 'survival_rate': 0.9951540175219374}.\n",
      "[I 2025-04-21 10:51:49,181] Trial 127 finished with values: [0.8133363723754883, 0.785739541053772, 8.789867401123047] and parameters: {'mutation_method': 'mutConstant', 'mutation_prob': 0.8078616978396339, 'mutation_rate': 0.2258013291667128, 'crossover_method': 'cxUniform', 'crossover_rate': 0.23412050368358495, 'selection_method': 'selBest', 'elitism_rate': 0.4780224773220659, 'survival_rate': 0.9919942964841926}.\n",
      "[I 2025-04-21 10:52:00,983] Trial 128 finished with values: [0.7136715650558472, 0.6775544643402099, 11.567696571350098] and parameters: {'mutation_method': 'mutConstant', 'mutation_prob': 0.754719590713043, 'mutation_rate': 0.07079859152063586, 'crossover_method': 'cxUniform', 'crossover_rate': 0.2067229873886431, 'selection_method': 'selBest', 'elitism_rate': 0.0035805933077524, 'survival_rate': 0.7939139903458844}.\n",
      "[I 2025-04-21 10:52:04,831] Trial 129 finished with values: [0.6761409640312195, 0.6386338949203492, 3.6149609088897705] and parameters: {'mutation_method': 'mutConstant', 'mutation_prob': 0.15281181476946537, 'mutation_rate': 0.07740070345733834, 'crossover_method': 'cxUniform', 'crossover_rate': 0.26663435895885873, 'selection_method': 'selBest', 'elitism_rate': 0.9280283176191716, 'survival_rate': 0.883104683025422}.\n",
      "[I 2025-04-21 10:52:10,339] Trial 130 finished with values: [0.7537811994552612, 0.7254857540130615, 5.255598783493042] and parameters: {'mutation_method': 'mutExponential', 'mutation_prob': 0.22387323325436237, 'mutation_rate_start': 0.08951693972412178, 'mutation_rate_end': 0.09814887762965185, 'mutation_rate_degree': 2, 'crossover_method': 'cxUniform', 'crossover_rate': 0.24536679230317873, 'selection_method': 'selBest', 'elitism_rate': 0.8342044946934192, 'survival_rate': 0.8666305191787771}.\n",
      "[I 2025-04-21 10:52:15,768] Trial 131 finished with values: [0.7127809524536133, 0.6872129201889038, 5.186677932739258] and parameters: {'mutation_method': 'mutConstant', 'mutation_prob': 0.16360015616054313, 'mutation_rate': 0.07690103781899195, 'crossover_method': 'cxUniform', 'crossover_rate': 0.29201867589317826, 'selection_method': 'selBest', 'elitism_rate': 0.9270495159720433, 'survival_rate': 0.8881953402897013}.\n",
      "[I 2025-04-21 10:52:18,383] Trial 132 finished with values: [0.5969163179397583, 0.5469732642173767, 2.3193325996398926] and parameters: {'mutation_method': 'mutConstant', 'mutation_prob': 0.16148309656566706, 'mutation_rate': 0.1078536359388105, 'crossover_method': 'cxUniform', 'crossover_rate': 0.27213181563182814, 'selection_method': 'selBest', 'elitism_rate': 0.9870413947756285, 'survival_rate': 0.840605162990456}.\n",
      "[I 2025-04-21 10:52:26,022] Trial 133 finished with values: [0.6473578214645386, 0.6171535849571228, 7.321643114089966] and parameters: {'mutation_method': 'mutLinear', 'mutation_prob': 0.18366988156399766, 'mutation_rate_start': 0.39087641218290897, 'mutation_rate_end': 0.8897137325370714, 'crossover_method': 'cxOnePoint', 'crossover_rate': 0.2640321319151988, 'selection_method': 'selStochasticUniversalSampling', 'elitism_rate': 0.799813827562976, 'survival_rate': 0.841186913499453}.\n",
      "[I 2025-04-21 10:52:27,518] Trial 134 finished with values: [0.5222430229187012, 0.4782281994819641, 1.2497315406799316] and parameters: {'mutation_method': 'mutConstant', 'mutation_prob': 0.1193671024951738, 'mutation_rate': 0.7841394626518398, 'crossover_method': 'cxUniform', 'crossover_rate': 0.22677973492431666, 'selection_method': 'selRoulette', 'elitism_rate': 0.9993913532577271, 'survival_rate': 0.910502962578488}.\n",
      "[I 2025-04-21 10:52:29,024] Trial 135 finished with values: [0.5222430229187012, 0.4991493821144104, 1.2301175594329834] and parameters: {'mutation_method': 'mutEntropy', 'mutation_prob': 0.0024044652105810194, 'mutation_rate_start': 0.035565034415266705, 'mutation_rate_end': 0.3923773279163929, 'crossover_method': 'cxUniform', 'crossover_rate': 0.6243870849118403, 'selection_method': 'selRandom', 'elitism_rate': 0.8842917710729453, 'survival_rate': 0.8192466816783531}.\n",
      "[I 2025-04-21 10:52:33,298] Trial 136 finished with values: [0.644752562046051, 0.5374748229980468, 3.974242925643921] and parameters: {'mutation_method': 'mutConstant', 'mutation_prob': 0.15045369042620138, 'mutation_rate': 0.11915574813334504, 'crossover_method': 'cxUniform', 'crossover_rate': 0.243759225152382, 'selection_method': 'selNormRoulette', 'elitism_rate': 0.9562759666000762, 'survival_rate': 0.8862775573198183}.\n",
      "[I 2025-04-21 10:52:45,800] Trial 137 finished with values: [0.7341532707214355, 0.6870513916015625, 12.229810237884521] and parameters: {'mutation_method': 'mutConstant', 'mutation_prob': 0.7356857049102572, 'mutation_rate': 0.7231493948685337, 'crossover_method': 'cxUniform', 'crossover_rate': 0.31361488827520034, 'selection_method': 'selBest', 'elitism_rate': 0.39894080433840595, 'survival_rate': 0.8524057830075948}.\n",
      "[I 2025-04-21 10:52:52,895] Trial 138 finished with values: [0.6314542293548584, 0.5683303713798523, 6.755206346511841] and parameters: {'mutation_method': 'mutExponential', 'mutation_prob': 0.09949072374491175, 'mutation_rate_start': 0.5874908590707147, 'mutation_rate_end': 0.15266739848206934, 'mutation_rate_degree': 3, 'crossover_method': 'cxUniform', 'crossover_rate': 0.3218638261588069, 'selection_method': 'selTournament', 'tournsize': 5, 'elitism_rate': 0.7864764905597664, 'survival_rate': 0.647281887305885}.\n",
      "[I 2025-04-21 10:53:05,080] Trial 139 finished with values: [0.8244102001190186, 0.7887337327003479, 11.904733657836914] and parameters: {'mutation_method': 'mutConstant', 'mutation_prob': 0.2621605511777322, 'mutation_rate': 0.14943474085116265, 'crossover_method': 'cxOnePoint', 'crossover_rate': 0.2752315370018402, 'selection_method': 'selBest', 'elitism_rate': 0.1429301176402038, 'survival_rate': 0.917449715773663}.\n",
      "[I 2025-04-21 10:53:15,155] Trial 140 finished with values: [0.7564940452575684, 0.6561237812042237, 9.725370168685913] and parameters: {'mutation_method': 'mutLinear', 'mutation_prob': 0.708936096314723, 'mutation_rate_start': 0.2379127090136437, 'mutation_rate_end': 0.7517194281298354, 'crossover_method': 'cxUniform', 'crossover_rate': 0.20624891536810297, 'selection_method': 'selTournament', 'tournsize': 3, 'elitism_rate': 0.721555339611714, 'survival_rate': 0.9316848253574584}.\n",
      "[I 2025-04-21 10:53:25,393] Trial 141 finished with values: [0.8534071445465088, 0.807226026058197, 9.929492473602295] and parameters: {'mutation_method': 'mutConstant', 'mutation_prob': 0.7704964671175981, 'mutation_rate': 0.05637388499471801, 'crossover_method': 'cxUniform', 'crossover_rate': 0.177542000632245, 'selection_method': 'selBest', 'elitism_rate': 0.5018715538210247, 'survival_rate': 0.9749300355111757}.\n",
      "[I 2025-04-21 10:53:32,419] Trial 142 finished with values: [0.8140562772750854, 0.7390016794204712, 6.657668113708496] and parameters: {'mutation_method': 'mutConstant', 'mutation_prob': 0.2020275922754523, 'mutation_rate': 0.08938685234624323, 'crossover_method': 'cxUniform', 'crossover_rate': 0.26125516669873194, 'selection_method': 'selBest', 'elitism_rate': 0.8452598068828104, 'survival_rate': 0.9996406386285033}.\n",
      "[I 2025-04-21 10:53:43,979] Trial 143 finished with values: [0.7892032265663147, 0.7404499411582947, 11.207138776779175] and parameters: {'mutation_method': 'mutConstant', 'mutation_prob': 0.15755313090503215, 'mutation_rate': 0.10955773389815715, 'crossover_method': 'cxUniform', 'crossover_rate': 0.22710782647234956, 'selection_method': 'selBest', 'elitism_rate': 0.35707085284442064, 'survival_rate': 0.8785192739229075}.\n",
      "[I 2025-04-21 10:53:51,756] Trial 144 finished with values: [0.7640902996063232, 0.712254548072815, 7.419671297073364] and parameters: {'mutation_method': 'mutConstant', 'mutation_prob': 0.7241843635026435, 'mutation_rate': 0.018199561478181914, 'crossover_method': 'cxUniform', 'crossover_rate': 0.2856036261880225, 'selection_method': 'selTournament', 'tournsize': 6, 'elitism_rate': 0.8178364193621562, 'survival_rate': 0.02705095263629531}.\n",
      "[I 2025-04-21 10:54:03,265] Trial 145 finished with values: [0.8502579927444458, 0.8110150933265686, 11.192684412002563] and parameters: {'mutation_method': 'mutConstant', 'mutation_prob': 0.6901662292247251, 'mutation_rate': 0.05857047812088018, 'crossover_method': 'cxUniform', 'crossover_rate': 0.1911484935106447, 'selection_method': 'selBest', 'elitism_rate': 0.4410730473207901, 'survival_rate': 0.9504777436888843}.\n",
      "[I 2025-04-21 10:54:17,417] Trial 146 finished with values: [0.7769181728363037, 0.758759880065918, 13.781190395355225] and parameters: {'mutation_method': 'mutConstant', 'mutation_prob': 0.9235641780352376, 'mutation_rate': 0.19090486411655774, 'crossover_method': 'cxUniform', 'crossover_rate': 0.2532978129465676, 'selection_method': 'selBoltzmann', 'boltzmann_temperature': 0.7513386154306315, 'elitism_rate': 0.2792424207623191, 'survival_rate': 0.8998430528218327}.\n",
      "[I 2025-04-21 10:54:24,649] Trial 147 finished with values: [0.6499607563018799, 0.6284419775009156, 6.8730714321136475] and parameters: {'mutation_method': 'mutConstant', 'mutation_prob': 0.839068031811075, 'mutation_rate': 0.028528931271290192, 'crossover_method': 'cxUniform', 'crossover_rate': 0.16604734461998316, 'selection_method': 'selTournament', 'tournsize': 5, 'elitism_rate': 0.9550786375062114, 'survival_rate': 0.8645689546478}.\n",
      "[I 2025-04-21 10:54:29,580] Trial 148 finished with values: [0.6552239656448364, 0.6289979934692382, 4.5899200439453125] and parameters: {'mutation_method': 'mutConstant', 'mutation_prob': 0.09342523074107717, 'mutation_rate': 0.08061762819582839, 'crossover_method': 'cxUniform', 'crossover_rate': 0.21774228956593952, 'selection_method': 'selBest', 'elitism_rate': 0.9068520624591808, 'survival_rate': 0.7309420536067301}.\n",
      "[I 2025-04-21 10:54:39,218] Trial 149 finished with values: [0.7127889394760132, 0.6413763642311097, 9.263620376586914] and parameters: {'mutation_method': 'mutEntropy', 'mutation_prob': 0.05306472137499052, 'mutation_rate_start': 0.8560124824363075, 'mutation_rate_end': 0.9354991626887188, 'crossover_method': 'cxUniform', 'crossover_rate': 0.5816439337191244, 'selection_method': 'selTournament', 'tournsize': 8, 'elitism_rate': 0.518063191584979, 'survival_rate': 0.8304535003535145}.\n",
      "[I 2025-04-21 10:54:46,698] Trial 150 finished with values: [0.5623332262039185, 0.5247093558311462, 7.132538318634033] and parameters: {'mutation_method': 'mutConstant', 'mutation_prob': 0.8006422766067861, 'mutation_rate': 0.8388893010714567, 'crossover_method': 'cxTwoPoint', 'crossover_rate': 0.3642897484886621, 'crossover_points': 4, 'selection_method': 'selBest', 'elitism_rate': 0.9856189386112535, 'survival_rate': 0.5527530164525629}.\n",
      "[I 2025-04-21 10:54:50,580] Trial 151 finished with values: [0.7477208971977234, 0.6323667287826538, 3.4655237197875977] and parameters: {'mutation_method': 'mutConstant', 'mutation_prob': 0.8147767074674013, 'mutation_rate': 0.003927515790687543, 'crossover_method': 'cxUniform', 'crossover_rate': 0.1932673913847286, 'selection_method': 'selBest', 'elitism_rate': 0.9310667056840607, 'survival_rate': 0.9533227018465018}.\n",
      "[I 2025-04-21 10:54:53,742] Trial 152 finished with values: [0.5712780356407166, 0.5372369289398193, 2.7684974670410156] and parameters: {'mutation_method': 'mutConstant', 'mutation_prob': 0.8516038125203583, 'mutation_rate': 0.004707599733353325, 'crossover_method': 'cxUniform', 'crossover_rate': 0.11682712301590704, 'selection_method': 'selTournament', 'tournsize': 7, 'elitism_rate': 0.9670977516530175, 'survival_rate': 0.9766119601366237}.\n",
      "[I 2025-04-21 10:55:02,504] Trial 153 finished with values: [0.5588280558586121, 0.5336584448814392, 8.400187492370605] and parameters: {'mutation_method': 'mutConstant', 'mutation_prob': 0.8149579078256441, 'mutation_rate': 0.9649992023567056, 'crossover_method': 'cxOnePoint', 'crossover_rate': 0.1731123423900568, 'selection_method': 'selStochasticUniversalSampling', 'elitism_rate': 0.9276536917983662, 'survival_rate': 0.9686426143295007}.\n",
      "[I 2025-04-21 10:55:11,047] Trial 154 finished with values: [0.724901020526886, 0.6845428109169006, 8.109035015106201] and parameters: {'mutation_method': 'mutConstant', 'mutation_prob': 0.7868331957428952, 'mutation_rate': 0.018727663462298066, 'crossover_method': 'cxUniform', 'crossover_rate': 0.19504936543772627, 'selection_method': 'selTournament', 'tournsize': 2, 'elitism_rate': 0.882463957238564, 'survival_rate': 0.9337336074923638}.\n",
      "[I 2025-04-21 10:55:21,042] Trial 155 finished with values: [0.7835715413093567, 0.7145975351333618, 9.630924463272095] and parameters: {'mutation_method': 'mutConstant', 'mutation_prob': 0.7641054997871337, 'mutation_rate': 0.036071273546023935, 'crossover_method': 'cxUniform', 'crossover_rate': 0.13870366907486628, 'selection_method': 'selRoulette', 'elitism_rate': 0.7482096532838866, 'survival_rate': 0.956050968923466}.\n",
      "[I 2025-04-21 10:55:32,508] Trial 156 finished with values: [0.8193671703338623, 0.7626748442649841, 11.092101812362671] and parameters: {'mutation_method': 'mutConstant', 'mutation_prob': 0.7334780852603568, 'mutation_rate': 0.0024981224124042277, 'crossover_method': 'cxUniform', 'crossover_rate': 0.22398457213799364, 'selection_method': 'selBest', 'elitism_rate': 0.10730031880580204, 'survival_rate': 0.9039081530060735}.\n",
      "[I 2025-04-21 10:55:43,896] Trial 157 finished with values: [0.7015371322631836, 0.6843278288841248, 10.986972570419312] and parameters: {'mutation_method': 'mutExponential', 'mutation_prob': 0.9659055461440796, 'mutation_rate_start': 0.32778076309781495, 'mutation_rate_end': 0.2111644432184029, 'mutation_rate_degree': 1, 'crossover_method': 'cxUniform', 'crossover_rate': 0.24285971608566156, 'selection_method': 'selNormRoulette', 'elitism_rate': 0.5813395580250602, 'survival_rate': 0.9243421604471876}.\n",
      "[I 2025-04-21 10:55:51,794] Trial 158 finished with values: [0.585026204586029, 0.563994312286377, 7.467326402664185] and parameters: {'mutation_method': 'mutLinear', 'mutation_prob': 0.8767767156172301, 'mutation_rate_start': 0.1318727841240891, 'mutation_rate_end': 0.03287801435220861, 'crossover_method': 'cxTwoPoint', 'crossover_rate': 0.7639495610652824, 'crossover_points': 3, 'selection_method': 'selRandom', 'elitism_rate': 0.943819931305983, 'survival_rate': 0.6962786752275111}.\n",
      "[I 2025-04-21 10:56:05,081] Trial 159 finished with values: [0.8855192065238953, 0.8121291995048523, 12.866137981414795] and parameters: {'mutation_method': 'mutEntropy', 'mutation_prob': 0.8125373612719221, 'mutation_rate_start': 0.00032141554907549885, 'mutation_rate_end': 0.46601530061827434, 'crossover_method': 'cxUniform', 'crossover_rate': 0.04423389981428416, 'selection_method': 'selTournament', 'tournsize': 5, 'elitism_rate': 0.31963205421962226, 'survival_rate': 0.7949956604437897}.\n",
      "[I 2025-04-21 10:56:19,591] Trial 160 finished with values: [0.8481228947639465, 0.818397045135498, 14.114709377288818] and parameters: {'mutation_method': 'mutConstant', 'mutation_prob': 0.755655517144344, 'mutation_rate': 0.10106782955636746, 'crossover_method': 'cxUniform', 'crossover_rate': 0.47437089768437585, 'selection_method': 'selBest', 'elitism_rate': 0.027369731806971553, 'survival_rate': 0.09051199528388121}.\n",
      "[I 2025-04-21 10:56:29,779] Trial 161 finished with values: [0.8419916033744812, 0.7778851747512817, 9.826594829559326] and parameters: {'mutation_method': 'mutConstant', 'mutation_prob': 0.7931098804844041, 'mutation_rate': 0.05428058949941433, 'crossover_method': 'cxUniform', 'crossover_rate': 0.18940394215794668, 'selection_method': 'selTournament', 'tournsize': 6, 'elitism_rate': 0.6738632885113481, 'survival_rate': 0.9477653946680431}.\n",
      "[I 2025-04-21 10:56:40,307] Trial 162 finished with values: [0.7462373971939087, 0.7045283913612366, 10.114530086517334] and parameters: {'mutation_method': 'mutConstant', 'mutation_prob': 0.7084434042154731, 'mutation_rate': 0.39071613258883, 'crossover_method': 'cxOnePoint', 'crossover_rate': 0.40299572568477154, 'selection_method': 'selTournament', 'tournsize': 6, 'elitism_rate': 0.4704300371355179, 'survival_rate': 0.8803419108411118}.\n",
      "[I 2025-04-21 10:56:48,742] Trial 163 finished with values: [0.8487569093704224, 0.770827567577362, 8.132323741912842] and parameters: {'mutation_method': 'mutConstant', 'mutation_prob': 0.6797320287243053, 'mutation_rate': 0.12680921895707212, 'crossover_method': 'cxUniform', 'crossover_rate': 0.16149408447444952, 'selection_method': 'selBest', 'elitism_rate': 0.5467942143365707, 'survival_rate': 0.1787881892987157}.\n",
      "[I 2025-04-21 10:57:02,702] Trial 164 finished with values: [0.8499248027801514, 0.7813852906227112, 13.630631685256958] and parameters: {'mutation_method': 'mutConstant', 'mutation_prob': 0.7435578914866043, 'mutation_rate': 0.04576352299083564, 'crossover_method': 'cxUniform', 'crossover_rate': 0.5339839095150075, 'selection_method': 'selBoltzmann', 'boltzmann_temperature': 0.2895622191016639, 'elitism_rate': 0.16744104248861372, 'survival_rate': 0.8469637876282594}.\n",
      "[I 2025-04-21 10:57:16,378] Trial 165 finished with values: [0.7552635073661804, 0.7177905678749085, 13.259012699127197] and parameters: {'mutation_method': 'mutConstant', 'mutation_prob': 0.7717400841784877, 'mutation_rate': 0.4195259660218466, 'crossover_method': 'cxUniform', 'crossover_rate': 0.0850773850821489, 'selection_method': 'selTournament', 'tournsize': 7, 'elitism_rate': 0.23553937619163276, 'survival_rate': 0.9649369197979721}.\n",
      "[I 2025-04-21 10:57:25,108] Trial 166 finished with values: [0.587949812412262, 0.5620612025260925, 8.27386212348938] and parameters: {'mutation_method': 'mutExponential', 'mutation_prob': 0.8172998310433176, 'mutation_rate_start': 0.802341592620429, 'mutation_rate_end': 0.6675015878694701, 'mutation_rate_degree': 2, 'crossover_method': 'cxTwoPoint', 'crossover_rate': 0.20497239671363074, 'crossover_points': 2, 'selection_method': 'selBest', 'elitism_rate': 0.8619616992845752, 'survival_rate': 0.9021174070408442}.\n",
      "[I 2025-04-21 10:57:33,371] Trial 167 finished with values: [0.8420442342758179, 0.7780998468399047, 7.90504264831543] and parameters: {'mutation_method': 'mutConstant', 'mutation_prob': 0.7242928218073069, 'mutation_rate': 0.14761289033391004, 'crossover_method': 'cxUniform', 'crossover_rate': 0.6867339983285092, 'selection_method': 'selTournament', 'tournsize': 8, 'elitism_rate': 0.6159385069128923, 'survival_rate': 0.41079749738748667}.\n",
      "[I 2025-04-21 10:57:41,567] Trial 168 finished with values: [0.5946351289749146, 0.5680109977722168, 7.855188369750977] and parameters: {'mutation_method': 'mutLinear', 'mutation_prob': 0.7539006631451932, 'mutation_rate_start': 0.632632282304864, 'mutation_rate_end': 0.8164157830051889, 'crossover_method': 'cxUniform', 'crossover_rate': 0.8046164712881595, 'selection_method': 'selStochasticUniversalSampling', 'elitism_rate': 0.7692517313806821, 'survival_rate': 0.4460996383425986}.\n",
      "[I 2025-04-21 10:57:53,733] Trial 169 finished with values: [0.825075626373291, 0.7692519307136536, 11.55194878578186] and parameters: {'mutation_method': 'mutEntropy', 'mutation_prob': 0.7840310484321401, 'mutation_rate_start': 0.5497566898234393, 'mutation_rate_end': 0.13178324346536607, 'crossover_method': 'cxUniform', 'crossover_rate': 0.12435147236669683, 'selection_method': 'selTournament', 'tournsize': 4, 'elitism_rate': 0.5700073877316637, 'survival_rate': 0.8625073315656175}.\n",
      "[I 2025-04-21 10:58:01,917] Trial 170 finished with values: [0.56929612159729, 0.5407845497131347, 7.813166618347168] and parameters: {'mutation_method': 'mutConstant', 'mutation_prob': 0.9973121589233953, 'mutation_rate': 0.07378428505215426, 'crossover_method': 'cxOnePoint', 'crossover_rate': 0.2684093910586136, 'selection_method': 'selRoulette', 'elitism_rate': 0.9758811754054877, 'survival_rate': 0.9318236801187646}.\n",
      "[I 2025-04-21 10:58:10,382] Trial 171 finished with values: [0.6137763261795044, 0.57413090467453, 8.104165077209473] and parameters: {'mutation_method': 'mutConstant', 'mutation_prob': 0.5436851337639316, 'mutation_rate': 0.6253777151667124, 'crossover_method': 'cxTwoPoint', 'crossover_rate': 0.44315530847591794, 'crossover_points': 3, 'selection_method': 'selBest', 'elitism_rate': 0.9109391998245673, 'survival_rate': 0.8883537111945746}.\n",
      "[I 2025-04-21 10:58:19,248] Trial 172 finished with values: [0.6940164566040039, 0.6579868197441101, 8.217258214950562] and parameters: {'mutation_method': 'mutConstant', 'mutation_prob': 0.7004002993703802, 'mutation_rate': 0.31991495611389953, 'crossover_method': 'cxUniform', 'crossover_rate': 0.21454020512679126, 'selection_method': 'selTournament', 'tournsize': 7, 'elitism_rate': 0.8938680724651619, 'survival_rate': 0.8170419629490667}.\n",
      "[I 2025-04-21 10:58:28,161] Trial 173 finished with values: [0.8018476366996765, 0.7841417670249939, 8.577054262161255] and parameters: {'mutation_method': 'mutConstant', 'mutation_prob': 0.36622954685951375, 'mutation_rate': 0.06724365811377231, 'crossover_method': 'cxUniform', 'crossover_rate': 0.23673488805833087, 'selection_method': 'selBest', 'elitism_rate': 0.5935709856685664, 'survival_rate': 0.3754396659719057}.\n",
      "[I 2025-04-21 10:58:35,566] Trial 174 finished with values: [0.7315923571586609, 0.6805294990539551, 7.142976522445679] and parameters: {'mutation_method': 'mutConstant', 'mutation_prob': 0.8420521981452738, 'mutation_rate': 0.10353132801215209, 'crossover_method': 'cxUniform', 'crossover_rate': 0.17843020331552914, 'selection_method': 'selRandom', 'elitism_rate': 0.6985977409444768, 'survival_rate': 0.002925436902911027}.\n",
      "[I 2025-04-21 10:58:43,046] Trial 175 finished with values: [0.6630094051361084, 0.6015054106712341, 7.215134382247925] and parameters: {'mutation_method': 'mutConstant', 'mutation_prob': 0.4493420100050826, 'mutation_rate': 0.6829384126433355, 'crossover_method': 'cxUniform', 'crossover_rate': 0.825274029256645, 'selection_method': 'selTournament', 'tournsize': 8, 'elitism_rate': 0.6476068092468079, 'survival_rate': 0.12815761586251706}.\n",
      "[I 2025-04-21 10:58:48,721] Trial 176 finished with values: [0.6385305523872375, 0.6105479240417481, 5.363036632537842] and parameters: {'mutation_method': 'mutConstant', 'mutation_prob': 0.7470670230263776, 'mutation_rate': 0.08892847225617047, 'crossover_method': 'cxTwoPoint', 'crossover_rate': 0.25103420335110865, 'crossover_points': 3, 'selection_method': 'selNormRoulette', 'elitism_rate': 0.9358058154625654, 'survival_rate': 0.9898911338744345}.\n",
      "[I 2025-04-21 10:59:04,398] Trial 177 finished with values: [0.6036298871040344, 0.5855995297431946, 15.369373559951782] and parameters: {'mutation_method': 'mutExponential', 'mutation_prob': 0.6562526401152526, 'mutation_rate_start': 0.5008663795235728, 'mutation_rate_end': 0.964656431974935, 'mutation_rate_degree': 3, 'crossover_method': 'cxUniform', 'crossover_rate': 0.19860331335651255, 'selection_method': 'selTournament', 'tournsize': 1, 'elitism_rate': 0.07093975640168781, 'survival_rate': 0.4960679759830351}.\n",
      "[I 2025-04-21 10:59:14,728] Trial 178 finished with values: [0.8389024138450623, 0.7825105309486389, 9.985116004943848] and parameters: {'mutation_method': 'mutConstant', 'mutation_prob': 0.7777801634616337, 'mutation_rate': 0.02230278708334412, 'crossover_method': 'cxUniform', 'crossover_rate': 0.22685027774294603, 'selection_method': 'selBest', 'elitism_rate': 0.4847210659871929, 'survival_rate': 0.9992342608053152}.\n",
      "[I 2025-04-21 10:59:26,262] Trial 179 finished with values: [0.7558532357215881, 0.6934648871421814, 11.113600254058838] and parameters: {'mutation_method': 'mutLinear', 'mutation_prob': 0.7169413200767007, 'mutation_rate_start': 0.30509423029669896, 'mutation_rate_end': 0.6120682120115115, 'crossover_method': 'cxUniform', 'crossover_rate': 0.15883054700705013, 'selection_method': 'selBoltzmann', 'boltzmann_temperature': 0.8033785765596722, 'elitism_rate': 0.4229032143412984, 'survival_rate': 0.8851635149036771}.\n",
      "[I 2025-04-21 10:59:34,275] Trial 180 finished with values: [0.9025082588195801, 0.8458395004272461, 7.744183540344238] and parameters: {'mutation_method': 'mutConstant', 'mutation_prob': 0.8055855520791119, 'mutation_rate': 0.05098339381437001, 'crossover_method': 'cxOnePoint', 'crossover_rate': 0.37567396654607194, 'selection_method': 'selTournament', 'tournsize': 5, 'elitism_rate': 0.5228290412795907, 'survival_rate': 0.5995201050273067}.\n",
      "[I 2025-04-21 10:59:38,389] Trial 181 finished with values: [0.6968963146209717, 0.6601797699928283, 3.8396377563476562] and parameters: {'mutation_method': 'mutConstant', 'mutation_prob': 0.8630036914263552, 'mutation_rate': 0.04542531989750149, 'crossover_method': 'cxOnePoint', 'crossover_rate': 0.4052076753869854, 'selection_method': 'selBest', 'elitism_rate': 0.9835369208882347, 'survival_rate': 0.9670050465872508}.\n",
      "[I 2025-04-21 10:59:42,225] Trial 182 finished with values: [0.6953625082969666, 0.6800897717475891, 3.4773764610290527] and parameters: {'mutation_method': 'mutConstant', 'mutation_prob': 0.8817152691538593, 'mutation_rate': 0.016742856830051556, 'crossover_method': 'cxOnePoint', 'crossover_rate': 0.3528018631499808, 'selection_method': 'selBest', 'elitism_rate': 0.9725750337250829, 'survival_rate': 0.9708041358079065}.\n",
      "[I 2025-04-21 10:59:46,353] Trial 183 finished with values: [0.7679356336593628, 0.6987065434455871, 3.750519275665283] and parameters: {'mutation_method': 'mutConstant', 'mutation_prob': 0.9033276549502472, 'mutation_rate': 0.01794064476610361, 'crossover_method': 'cxOnePoint', 'crossover_rate': 0.3762631560460478, 'selection_method': 'selBest', 'elitism_rate': 0.9609712351248867, 'survival_rate': 0.9736210884067252}.\n",
      "[I 2025-04-21 10:59:50,869] Trial 184 finished with values: [0.7688446044921875, 0.7202653646469116, 4.258705139160156] and parameters: {'mutation_method': 'mutConstant', 'mutation_prob': 0.9022967265316846, 'mutation_rate': 0.015938422847849035, 'crossover_method': 'cxOnePoint', 'crossover_rate': 0.3743636210736509, 'selection_method': 'selBest', 'elitism_rate': 0.9594762888257095, 'survival_rate': 0.9860095894775898}.\n",
      "[I 2025-04-21 10:59:54,844] Trial 185 finished with values: [0.7514509558677673, 0.6714015960693359, 3.6505343914031982] and parameters: {'mutation_method': 'mutConstant', 'mutation_prob': 0.9069536153162705, 'mutation_rate': 0.01845082963694148, 'crossover_method': 'cxOnePoint', 'crossover_rate': 0.3573219009014678, 'selection_method': 'selBest', 'elitism_rate': 0.9656949369530458, 'survival_rate': 0.981288635644566}.\n",
      "[I 2025-04-21 11:00:00,586] Trial 186 finished with values: [0.784367024898529, 0.7300968885421752, 5.41038966178894] and parameters: {'mutation_method': 'mutConstant', 'mutation_prob': 0.921118034208254, 'mutation_rate': 0.019111977193534427, 'crossover_method': 'cxOnePoint', 'crossover_rate': 0.3703675824138636, 'selection_method': 'selBest', 'elitism_rate': 0.8286163613340749, 'survival_rate': 0.596766693398192}.\n",
      "[I 2025-04-21 11:00:03,268] Trial 187 finished with values: [0.6897009015083313, 0.6366015672683716, 2.354341983795166] and parameters: {'mutation_method': 'mutConstant', 'mutation_prob': 0.9096801476322451, 'mutation_rate': 0.004992457745420283, 'crossover_method': 'cxOnePoint', 'crossover_rate': 0.3388805185924581, 'selection_method': 'selBest', 'elitism_rate': 0.9594005905329805, 'survival_rate': 0.9912487945251589}.\n",
      "[I 2025-04-21 11:00:05,945] Trial 188 finished with values: [0.669679582118988, 0.6245637893676758, 2.3509840965270996] and parameters: {'mutation_method': 'mutConstant', 'mutation_prob': 0.895868909276588, 'mutation_rate': 0.0050166897610326895, 'crossover_method': 'cxOnePoint', 'crossover_rate': 0.3379070747077897, 'selection_method': 'selBest', 'elitism_rate': 0.9530196491829362, 'survival_rate': 0.9818690097424515}.\n",
      "[I 2025-04-21 11:00:07,128] Trial 189 finished with values: [0.6085581183433533, 0.5448145508766175, 0.860762357711792] and parameters: {'mutation_method': 'mutConstant', 'mutation_prob': 0.9698090197805452, 'mutation_rate': 0.0006409546851695799, 'crossover_method': 'cxOnePoint', 'crossover_rate': 0.35093219173754203, 'selection_method': 'selBest', 'elitism_rate': 0.9566370018439161, 'survival_rate': 0.9947939831685751}.\n",
      "[I 2025-04-21 11:00:12,338] Trial 190 finished with values: [0.7620771527290344, 0.7199794888496399, 4.846604824066162] and parameters: {'mutation_method': 'mutConstant', 'mutation_prob': 0.9696967203120522, 'mutation_rate': 0.024872877364665622, 'crossover_method': 'cxOnePoint', 'crossover_rate': 0.36139506948135275, 'selection_method': 'selBest', 'elitism_rate': 0.9599695462896422, 'survival_rate': 0.9986794109789048}.\n",
      "[I 2025-04-21 11:00:14,204] Trial 191 finished with values: [0.7139984369277954, 0.6317980885505676, 1.4995670318603516] and parameters: {'mutation_method': 'mutConstant', 'mutation_prob': 0.8979313666190631, 'mutation_rate': 0.001708139860426474, 'crossover_method': 'cxOnePoint', 'crossover_rate': 0.34514715302800386, 'selection_method': 'selBest', 'elitism_rate': 0.9370313209736911, 'survival_rate': 0.9791980198208216}.\n",
      "[I 2025-04-21 11:00:16,578] Trial 192 finished with values: [0.6890486478805542, 0.5947172522544861, 2.097076177597046] and parameters: {'mutation_method': 'mutConstant', 'mutation_prob': 0.9288419999322567, 'mutation_rate': 0.0017708570645343091, 'crossover_method': 'cxOnePoint', 'crossover_rate': 0.3929805960210541, 'selection_method': 'selBest', 'elitism_rate': 0.9187264303117161, 'survival_rate': 0.9800042317191622}.\n",
      "[I 2025-04-21 11:00:21,493] Trial 193 finished with values: [0.8045469522476196, 0.7319595813751221, 4.642755508422852] and parameters: {'mutation_method': 'mutConstant', 'mutation_prob': 0.8791868782949805, 'mutation_rate': 0.02406507872585721, 'crossover_method': 'cxOnePoint', 'crossover_rate': 0.4211476346672719, 'selection_method': 'selBest', 'elitism_rate': 0.9426677585253302, 'survival_rate': 0.949834107425065}.\n",
      "[I 2025-04-21 11:00:26,412] Trial 194 finished with values: [0.8128746747970581, 0.7217819213867187, 4.620246887207031] and parameters: {'mutation_method': 'mutConstant', 'mutation_prob': 0.8893260498876614, 'mutation_rate': 0.02567024857184086, 'crossover_method': 'cxOnePoint', 'crossover_rate': 0.3520958547316676, 'selection_method': 'selBest', 'elitism_rate': 0.9457439691335595, 'survival_rate': 0.9508164914007334}.\n",
      "[I 2025-04-21 11:00:31,419] Trial 195 finished with values: [0.7520912885665894, 0.7353623151779175, 4.558118581771851] and parameters: {'mutation_method': 'mutConstant', 'mutation_prob': 0.900779321382763, 'mutation_rate': 0.025847343435966827, 'crossover_method': 'cxOnePoint', 'crossover_rate': 0.35703390532245627, 'selection_method': 'selBest', 'elitism_rate': 0.9444681830360765, 'survival_rate': 0.9985750570286566}.\n",
      "[I 2025-04-21 11:00:37,402] Trial 196 finished with values: [0.6755014657974243, 0.6469186186790467, 5.539141654968262] and parameters: {'mutation_method': 'mutConstant', 'mutation_prob': 0.8873818335812617, 'mutation_rate': 0.5090646484300313, 'crossover_method': 'cxOnePoint', 'crossover_rate': 0.35353911888473616, 'selection_method': 'selBest', 'elitism_rate': 0.9120233835260915, 'survival_rate': 0.9991150470395888}.\n",
      "[I 2025-04-21 11:00:43,285] Trial 197 finished with values: [0.8462645411491394, 0.7972839593887329, 5.446197271347046] and parameters: {'mutation_method': 'mutConstant', 'mutation_prob': 0.9093573798897021, 'mutation_rate': 0.02611899084468277, 'crossover_method': 'cxOnePoint', 'crossover_rate': 0.3389727986348964, 'selection_method': 'selBest', 'elitism_rate': 0.8822256911502233, 'survival_rate': 0.9774900883118786}.\n",
      "[I 2025-04-21 11:00:49,257] Trial 198 finished with values: [0.8515337705612183, 0.7774155855178833, 5.531543254852295] and parameters: {'mutation_method': 'mutConstant', 'mutation_prob': 0.9497994755257352, 'mutation_rate': 0.0235015358011747, 'crossover_method': 'cxOnePoint', 'crossover_rate': 0.34667272385046194, 'selection_method': 'selBest', 'elitism_rate': 0.8719815436110794, 'survival_rate': 0.9518966679119109}.\n",
      "[I 2025-04-21 11:00:50,573] Trial 199 finished with values: [0.5693527460098267, 0.5250326752662658, 0.8787951469421387] and parameters: {'mutation_method': 'mutConstant', 'mutation_prob': 0.9145845512146288, 'mutation_rate': 0.00018895756331584277, 'crossover_method': 'cxOnePoint', 'crossover_rate': 0.3761245411705998, 'selection_method': 'selBest', 'elitism_rate': 0.9011946131972496, 'survival_rate': 0.9720358804151373}.\n"
     ]
    }
   ],
   "source": [
    "study = run_optimization(n_trials=200)"
   ]
  },
  {
   "cell_type": "code",
   "execution_count": null,
   "id": "7078511c",
   "metadata": {},
   "outputs": [
    {
     "data": {
      "text/plain": [
       "['GA_hp_pareto_200.pkl']"
      ]
     },
     "execution_count": 5,
     "metadata": {},
     "output_type": "execute_result"
    }
   ],
   "source": [
    "joblib.dump(study, \"Data/Optimizer Hyperparameters/GA_hp_pareto_200.pkl\")"
   ]
  },
  {
   "cell_type": "code",
   "execution_count": 2,
   "id": "16f983fd",
   "metadata": {},
   "outputs": [],
   "source": [
    "study = joblib.load(\"Data/Optimizer Hyperparameters/GA_hp_pareto_200.pkl\")"
   ]
  },
  {
   "cell_type": "code",
   "execution_count": 3,
   "id": "698f5ecf",
   "metadata": {},
   "outputs": [
    {
     "data": {
      "application/vnd.plotly.v1+json": {
       "config": {
        "plotlyServerURL": "https://plot.ly"
       },
       "data": [
        {
         "cliponaxis": false,
         "hovertemplate": [
          "crossover_method (CategoricalDistribution): 0.01290011951162478<extra></extra>",
          "crossover_rate (FloatDistribution): 0.022256275235004324<extra></extra>",
          "selection_method (CategoricalDistribution): 0.05753242494869712<extra></extra>",
          "survival_rate (FloatDistribution): 0.07447168284593773<extra></extra>",
          "mutation_prob (FloatDistribution): 0.1021274119654724<extra></extra>",
          "mutation_method (CategoricalDistribution): 0.26196447047602717<extra></extra>",
          "elitism_rate (FloatDistribution): 0.4687476150172365<extra></extra>"
         ],
         "name": "Objective Value 0",
         "orientation": "h",
         "text": [
          "0.01",
          "0.02",
          "0.06",
          "0.07",
          "0.10",
          "0.26",
          "0.47"
         ],
         "textposition": "outside",
         "type": "bar",
         "x": [
          0.01290011951162478,
          0.022256275235004324,
          0.05753242494869712,
          0.07447168284593773,
          0.1021274119654724,
          0.26196447047602717,
          0.4687476150172365
         ],
         "y": [
          "crossover_method",
          "crossover_rate",
          "selection_method",
          "survival_rate",
          "mutation_prob",
          "mutation_method",
          "elitism_rate"
         ]
        },
        {
         "cliponaxis": false,
         "hovertemplate": [
          "crossover_method (CategoricalDistribution): 0.011022680694272733<extra></extra>",
          "crossover_rate (FloatDistribution): 0.023311389411118277<extra></extra>",
          "mutation_prob (FloatDistribution): 0.07916742538790444<extra></extra>",
          "survival_rate (FloatDistribution): 0.0975855037779825<extra></extra>",
          "selection_method (CategoricalDistribution): 0.1180010711348977<extra></extra>",
          "mutation_method (CategoricalDistribution): 0.22964044173427325<extra></extra>",
          "elitism_rate (FloatDistribution): 0.44127148785955117<extra></extra>"
         ],
         "name": "Objective Value 1",
         "orientation": "h",
         "text": [
          "0.01",
          "0.02",
          "0.08",
          "0.10",
          "0.12",
          "0.23",
          "0.44"
         ],
         "textposition": "outside",
         "type": "bar",
         "x": [
          0.011022680694272733,
          0.023311389411118277,
          0.07916742538790444,
          0.0975855037779825,
          0.1180010711348977,
          0.22964044173427325,
          0.44127148785955117
         ],
         "y": [
          "crossover_method",
          "crossover_rate",
          "mutation_prob",
          "survival_rate",
          "selection_method",
          "mutation_method",
          "elitism_rate"
         ]
        },
        {
         "cliponaxis": false,
         "hovertemplate": [
          "crossover_method (CategoricalDistribution): 0.005242043382420804<extra></extra>",
          "mutation_method (CategoricalDistribution): 0.009922680505522521<extra></extra>",
          "selection_method (CategoricalDistribution): 0.014260445746747034<extra></extra>",
          "survival_rate (FloatDistribution): 0.016563293538187182<extra></extra>",
          "crossover_rate (FloatDistribution): 0.0173912491241232<extra></extra>",
          "mutation_prob (FloatDistribution): 0.0665886664364984<extra></extra>",
          "elitism_rate (FloatDistribution): 0.870031621266501<extra></extra>"
         ],
         "name": "Objective Value 2",
         "orientation": "h",
         "text": [
          "<0.01",
          "<0.01",
          "0.01",
          "0.02",
          "0.02",
          "0.07",
          "0.87"
         ],
         "textposition": "outside",
         "type": "bar",
         "x": [
          0.005242043382420804,
          0.009922680505522521,
          0.014260445746747034,
          0.016563293538187182,
          0.0173912491241232,
          0.0665886664364984,
          0.870031621266501
         ],
         "y": [
          "crossover_method",
          "mutation_method",
          "selection_method",
          "survival_rate",
          "crossover_rate",
          "mutation_prob",
          "elitism_rate"
         ]
        }
       ],
       "layout": {
        "template": {
         "data": {
          "bar": [
           {
            "error_x": {
             "color": "#2a3f5f"
            },
            "error_y": {
             "color": "#2a3f5f"
            },
            "marker": {
             "line": {
              "color": "#E5ECF6",
              "width": 0.5
             },
             "pattern": {
              "fillmode": "overlay",
              "size": 10,
              "solidity": 0.2
             }
            },
            "type": "bar"
           }
          ],
          "barpolar": [
           {
            "marker": {
             "line": {
              "color": "#E5ECF6",
              "width": 0.5
             },
             "pattern": {
              "fillmode": "overlay",
              "size": 10,
              "solidity": 0.2
             }
            },
            "type": "barpolar"
           }
          ],
          "carpet": [
           {
            "aaxis": {
             "endlinecolor": "#2a3f5f",
             "gridcolor": "white",
             "linecolor": "white",
             "minorgridcolor": "white",
             "startlinecolor": "#2a3f5f"
            },
            "baxis": {
             "endlinecolor": "#2a3f5f",
             "gridcolor": "white",
             "linecolor": "white",
             "minorgridcolor": "white",
             "startlinecolor": "#2a3f5f"
            },
            "type": "carpet"
           }
          ],
          "choropleth": [
           {
            "colorbar": {
             "outlinewidth": 0,
             "ticks": ""
            },
            "type": "choropleth"
           }
          ],
          "contour": [
           {
            "colorbar": {
             "outlinewidth": 0,
             "ticks": ""
            },
            "colorscale": [
             [
              0,
              "#0d0887"
             ],
             [
              0.1111111111111111,
              "#46039f"
             ],
             [
              0.2222222222222222,
              "#7201a8"
             ],
             [
              0.3333333333333333,
              "#9c179e"
             ],
             [
              0.4444444444444444,
              "#bd3786"
             ],
             [
              0.5555555555555556,
              "#d8576b"
             ],
             [
              0.6666666666666666,
              "#ed7953"
             ],
             [
              0.7777777777777778,
              "#fb9f3a"
             ],
             [
              0.8888888888888888,
              "#fdca26"
             ],
             [
              1,
              "#f0f921"
             ]
            ],
            "type": "contour"
           }
          ],
          "contourcarpet": [
           {
            "colorbar": {
             "outlinewidth": 0,
             "ticks": ""
            },
            "type": "contourcarpet"
           }
          ],
          "heatmap": [
           {
            "colorbar": {
             "outlinewidth": 0,
             "ticks": ""
            },
            "colorscale": [
             [
              0,
              "#0d0887"
             ],
             [
              0.1111111111111111,
              "#46039f"
             ],
             [
              0.2222222222222222,
              "#7201a8"
             ],
             [
              0.3333333333333333,
              "#9c179e"
             ],
             [
              0.4444444444444444,
              "#bd3786"
             ],
             [
              0.5555555555555556,
              "#d8576b"
             ],
             [
              0.6666666666666666,
              "#ed7953"
             ],
             [
              0.7777777777777778,
              "#fb9f3a"
             ],
             [
              0.8888888888888888,
              "#fdca26"
             ],
             [
              1,
              "#f0f921"
             ]
            ],
            "type": "heatmap"
           }
          ],
          "heatmapgl": [
           {
            "colorbar": {
             "outlinewidth": 0,
             "ticks": ""
            },
            "colorscale": [
             [
              0,
              "#0d0887"
             ],
             [
              0.1111111111111111,
              "#46039f"
             ],
             [
              0.2222222222222222,
              "#7201a8"
             ],
             [
              0.3333333333333333,
              "#9c179e"
             ],
             [
              0.4444444444444444,
              "#bd3786"
             ],
             [
              0.5555555555555556,
              "#d8576b"
             ],
             [
              0.6666666666666666,
              "#ed7953"
             ],
             [
              0.7777777777777778,
              "#fb9f3a"
             ],
             [
              0.8888888888888888,
              "#fdca26"
             ],
             [
              1,
              "#f0f921"
             ]
            ],
            "type": "heatmapgl"
           }
          ],
          "histogram": [
           {
            "marker": {
             "pattern": {
              "fillmode": "overlay",
              "size": 10,
              "solidity": 0.2
             }
            },
            "type": "histogram"
           }
          ],
          "histogram2d": [
           {
            "colorbar": {
             "outlinewidth": 0,
             "ticks": ""
            },
            "colorscale": [
             [
              0,
              "#0d0887"
             ],
             [
              0.1111111111111111,
              "#46039f"
             ],
             [
              0.2222222222222222,
              "#7201a8"
             ],
             [
              0.3333333333333333,
              "#9c179e"
             ],
             [
              0.4444444444444444,
              "#bd3786"
             ],
             [
              0.5555555555555556,
              "#d8576b"
             ],
             [
              0.6666666666666666,
              "#ed7953"
             ],
             [
              0.7777777777777778,
              "#fb9f3a"
             ],
             [
              0.8888888888888888,
              "#fdca26"
             ],
             [
              1,
              "#f0f921"
             ]
            ],
            "type": "histogram2d"
           }
          ],
          "histogram2dcontour": [
           {
            "colorbar": {
             "outlinewidth": 0,
             "ticks": ""
            },
            "colorscale": [
             [
              0,
              "#0d0887"
             ],
             [
              0.1111111111111111,
              "#46039f"
             ],
             [
              0.2222222222222222,
              "#7201a8"
             ],
             [
              0.3333333333333333,
              "#9c179e"
             ],
             [
              0.4444444444444444,
              "#bd3786"
             ],
             [
              0.5555555555555556,
              "#d8576b"
             ],
             [
              0.6666666666666666,
              "#ed7953"
             ],
             [
              0.7777777777777778,
              "#fb9f3a"
             ],
             [
              0.8888888888888888,
              "#fdca26"
             ],
             [
              1,
              "#f0f921"
             ]
            ],
            "type": "histogram2dcontour"
           }
          ],
          "mesh3d": [
           {
            "colorbar": {
             "outlinewidth": 0,
             "ticks": ""
            },
            "type": "mesh3d"
           }
          ],
          "parcoords": [
           {
            "line": {
             "colorbar": {
              "outlinewidth": 0,
              "ticks": ""
             }
            },
            "type": "parcoords"
           }
          ],
          "pie": [
           {
            "automargin": true,
            "type": "pie"
           }
          ],
          "scatter": [
           {
            "fillpattern": {
             "fillmode": "overlay",
             "size": 10,
             "solidity": 0.2
            },
            "type": "scatter"
           }
          ],
          "scatter3d": [
           {
            "line": {
             "colorbar": {
              "outlinewidth": 0,
              "ticks": ""
             }
            },
            "marker": {
             "colorbar": {
              "outlinewidth": 0,
              "ticks": ""
             }
            },
            "type": "scatter3d"
           }
          ],
          "scattercarpet": [
           {
            "marker": {
             "colorbar": {
              "outlinewidth": 0,
              "ticks": ""
             }
            },
            "type": "scattercarpet"
           }
          ],
          "scattergeo": [
           {
            "marker": {
             "colorbar": {
              "outlinewidth": 0,
              "ticks": ""
             }
            },
            "type": "scattergeo"
           }
          ],
          "scattergl": [
           {
            "marker": {
             "colorbar": {
              "outlinewidth": 0,
              "ticks": ""
             }
            },
            "type": "scattergl"
           }
          ],
          "scattermapbox": [
           {
            "marker": {
             "colorbar": {
              "outlinewidth": 0,
              "ticks": ""
             }
            },
            "type": "scattermapbox"
           }
          ],
          "scatterpolar": [
           {
            "marker": {
             "colorbar": {
              "outlinewidth": 0,
              "ticks": ""
             }
            },
            "type": "scatterpolar"
           }
          ],
          "scatterpolargl": [
           {
            "marker": {
             "colorbar": {
              "outlinewidth": 0,
              "ticks": ""
             }
            },
            "type": "scatterpolargl"
           }
          ],
          "scatterternary": [
           {
            "marker": {
             "colorbar": {
              "outlinewidth": 0,
              "ticks": ""
             }
            },
            "type": "scatterternary"
           }
          ],
          "surface": [
           {
            "colorbar": {
             "outlinewidth": 0,
             "ticks": ""
            },
            "colorscale": [
             [
              0,
              "#0d0887"
             ],
             [
              0.1111111111111111,
              "#46039f"
             ],
             [
              0.2222222222222222,
              "#7201a8"
             ],
             [
              0.3333333333333333,
              "#9c179e"
             ],
             [
              0.4444444444444444,
              "#bd3786"
             ],
             [
              0.5555555555555556,
              "#d8576b"
             ],
             [
              0.6666666666666666,
              "#ed7953"
             ],
             [
              0.7777777777777778,
              "#fb9f3a"
             ],
             [
              0.8888888888888888,
              "#fdca26"
             ],
             [
              1,
              "#f0f921"
             ]
            ],
            "type": "surface"
           }
          ],
          "table": [
           {
            "cells": {
             "fill": {
              "color": "#EBF0F8"
             },
             "line": {
              "color": "white"
             }
            },
            "header": {
             "fill": {
              "color": "#C8D4E3"
             },
             "line": {
              "color": "white"
             }
            },
            "type": "table"
           }
          ]
         },
         "layout": {
          "annotationdefaults": {
           "arrowcolor": "#2a3f5f",
           "arrowhead": 0,
           "arrowwidth": 1
          },
          "autotypenumbers": "strict",
          "coloraxis": {
           "colorbar": {
            "outlinewidth": 0,
            "ticks": ""
           }
          },
          "colorscale": {
           "diverging": [
            [
             0,
             "#8e0152"
            ],
            [
             0.1,
             "#c51b7d"
            ],
            [
             0.2,
             "#de77ae"
            ],
            [
             0.3,
             "#f1b6da"
            ],
            [
             0.4,
             "#fde0ef"
            ],
            [
             0.5,
             "#f7f7f7"
            ],
            [
             0.6,
             "#e6f5d0"
            ],
            [
             0.7,
             "#b8e186"
            ],
            [
             0.8,
             "#7fbc41"
            ],
            [
             0.9,
             "#4d9221"
            ],
            [
             1,
             "#276419"
            ]
           ],
           "sequential": [
            [
             0,
             "#0d0887"
            ],
            [
             0.1111111111111111,
             "#46039f"
            ],
            [
             0.2222222222222222,
             "#7201a8"
            ],
            [
             0.3333333333333333,
             "#9c179e"
            ],
            [
             0.4444444444444444,
             "#bd3786"
            ],
            [
             0.5555555555555556,
             "#d8576b"
            ],
            [
             0.6666666666666666,
             "#ed7953"
            ],
            [
             0.7777777777777778,
             "#fb9f3a"
            ],
            [
             0.8888888888888888,
             "#fdca26"
            ],
            [
             1,
             "#f0f921"
            ]
           ],
           "sequentialminus": [
            [
             0,
             "#0d0887"
            ],
            [
             0.1111111111111111,
             "#46039f"
            ],
            [
             0.2222222222222222,
             "#7201a8"
            ],
            [
             0.3333333333333333,
             "#9c179e"
            ],
            [
             0.4444444444444444,
             "#bd3786"
            ],
            [
             0.5555555555555556,
             "#d8576b"
            ],
            [
             0.6666666666666666,
             "#ed7953"
            ],
            [
             0.7777777777777778,
             "#fb9f3a"
            ],
            [
             0.8888888888888888,
             "#fdca26"
            ],
            [
             1,
             "#f0f921"
            ]
           ]
          },
          "colorway": [
           "#636efa",
           "#EF553B",
           "#00cc96",
           "#ab63fa",
           "#FFA15A",
           "#19d3f3",
           "#FF6692",
           "#B6E880",
           "#FF97FF",
           "#FECB52"
          ],
          "font": {
           "color": "#2a3f5f"
          },
          "geo": {
           "bgcolor": "white",
           "lakecolor": "white",
           "landcolor": "#E5ECF6",
           "showlakes": true,
           "showland": true,
           "subunitcolor": "white"
          },
          "hoverlabel": {
           "align": "left"
          },
          "hovermode": "closest",
          "mapbox": {
           "style": "light"
          },
          "paper_bgcolor": "white",
          "plot_bgcolor": "#E5ECF6",
          "polar": {
           "angularaxis": {
            "gridcolor": "white",
            "linecolor": "white",
            "ticks": ""
           },
           "bgcolor": "#E5ECF6",
           "radialaxis": {
            "gridcolor": "white",
            "linecolor": "white",
            "ticks": ""
           }
          },
          "scene": {
           "xaxis": {
            "backgroundcolor": "#E5ECF6",
            "gridcolor": "white",
            "gridwidth": 2,
            "linecolor": "white",
            "showbackground": true,
            "ticks": "",
            "zerolinecolor": "white"
           },
           "yaxis": {
            "backgroundcolor": "#E5ECF6",
            "gridcolor": "white",
            "gridwidth": 2,
            "linecolor": "white",
            "showbackground": true,
            "ticks": "",
            "zerolinecolor": "white"
           },
           "zaxis": {
            "backgroundcolor": "#E5ECF6",
            "gridcolor": "white",
            "gridwidth": 2,
            "linecolor": "white",
            "showbackground": true,
            "ticks": "",
            "zerolinecolor": "white"
           }
          },
          "shapedefaults": {
           "line": {
            "color": "#2a3f5f"
           }
          },
          "ternary": {
           "aaxis": {
            "gridcolor": "white",
            "linecolor": "white",
            "ticks": ""
           },
           "baxis": {
            "gridcolor": "white",
            "linecolor": "white",
            "ticks": ""
           },
           "bgcolor": "#E5ECF6",
           "caxis": {
            "gridcolor": "white",
            "linecolor": "white",
            "ticks": ""
           }
          },
          "title": {
           "x": 0.05
          },
          "xaxis": {
           "automargin": true,
           "gridcolor": "white",
           "linecolor": "white",
           "ticks": "",
           "title": {
            "standoff": 15
           },
           "zerolinecolor": "white",
           "zerolinewidth": 2
          },
          "yaxis": {
           "automargin": true,
           "gridcolor": "white",
           "linecolor": "white",
           "ticks": "",
           "title": {
            "standoff": 15
           },
           "zerolinecolor": "white",
           "zerolinewidth": 2
          }
         }
        },
        "title": {
         "text": "Hyperparameter Importances"
        },
        "xaxis": {
         "title": {
          "text": "Hyperparameter Importance"
         }
        },
        "yaxis": {
         "title": {
          "text": "Hyperparameter"
         }
        }
       }
      }
     },
     "metadata": {},
     "output_type": "display_data"
    }
   ],
   "source": [
    "vis.plot_param_importances(study).show()"
   ]
  },
  {
   "cell_type": "code",
   "execution_count": 30,
   "id": "568eedc1",
   "metadata": {},
   "outputs": [
    {
     "data": {
      "application/vnd.plotly.v1+json": {
       "config": {
        "plotlyServerURL": "https://plot.ly"
       },
       "data": [
        {
         "hovertemplate": "%{text}<extra>Trial</extra>",
         "marker": {
          "color": [
           0,
           1,
           2,
           3,
           4,
           5,
           6,
           7,
           8,
           9,
           10,
           11,
           12,
           13,
           14,
           15,
           16,
           17,
           18,
           19,
           20,
           21,
           22,
           23,
           24,
           25,
           26,
           27,
           28,
           29,
           30,
           31,
           32,
           33,
           34,
           35,
           36,
           37,
           38,
           39,
           40,
           41,
           42,
           43,
           44,
           45,
           46,
           47,
           48,
           49,
           50,
           51,
           52,
           53,
           54,
           55,
           56,
           57,
           58,
           59,
           60,
           61,
           62,
           63,
           64,
           65,
           66,
           67,
           68,
           69,
           70,
           71,
           72,
           73,
           74,
           77,
           78,
           79,
           80,
           83,
           84,
           85,
           86,
           87,
           88,
           89,
           90,
           91,
           92,
           94,
           95,
           96,
           97,
           98,
           99,
           100,
           101,
           102,
           103,
           104,
           105,
           106,
           107,
           108,
           109,
           110,
           111,
           112,
           113,
           114,
           115,
           116,
           119,
           121,
           122,
           124,
           125,
           126,
           127,
           128,
           129,
           130,
           131,
           132,
           133,
           134,
           135,
           136,
           137,
           138,
           139,
           140,
           141,
           142,
           143,
           144,
           145,
           146,
           147,
           148,
           149,
           150,
           152,
           153,
           154,
           155,
           156,
           157,
           158,
           159,
           160,
           161,
           162,
           163,
           164,
           165,
           166,
           167,
           168,
           169,
           170,
           171,
           172,
           173,
           174,
           175,
           176,
           177,
           178,
           179,
           181,
           186,
           188,
           190,
           192,
           196,
           199
          ],
          "colorbar": {
           "title": {
            "text": "Trial"
           }
          },
          "colorscale": [
           [
            0,
            "rgb(247,251,255)"
           ],
           [
            0.125,
            "rgb(222,235,247)"
           ],
           [
            0.25,
            "rgb(198,219,239)"
           ],
           [
            0.375,
            "rgb(158,202,225)"
           ],
           [
            0.5,
            "rgb(107,174,214)"
           ],
           [
            0.625,
            "rgb(66,146,198)"
           ],
           [
            0.75,
            "rgb(33,113,181)"
           ],
           [
            0.875,
            "rgb(8,81,156)"
           ],
           [
            1,
            "rgb(8,48,107)"
           ]
          ],
          "line": {
           "color": "Grey",
           "width": 0.5
          }
         },
         "mode": "markers",
         "showlegend": false,
         "text": [
          "{<br>  \"number\": 0,<br>  \"values\": [<br>    0.5299442410469055,<br>    0.4982863306999207,<br>    4.281626462936401<br>  ],<br>  \"params\": {<br>    \"mutation_method\": \"mutExponential\",<br>    \"mutation_prob\": 0.7451031795762046,<br>    \"mutation_rate_start\": 0.6880389508958511,<br>    \"mutation_rate_end\": 0.7720713866811632,<br>    \"mutation_rate_degree\": 2,<br>    \"crossover_method\": \"cxUniform\",<br>    \"crossover_rate\": 0.3056757271265841,<br>    \"selection_method\": \"selTournament\",<br>    \"tournsize\": 2,<br>    \"elitism_rate\": 0.9840055794539837,<br>    \"survival_rate\": 0.43355666980078933<br>  }<br>}",
          "{<br>  \"number\": 1,<br>  \"values\": [<br>    0.6026304960250854,<br>    0.5805169343948364,<br>    12.192527770996094<br>  ],<br>  \"params\": {<br>    \"mutation_method\": \"mutConstant\",<br>    \"mutation_prob\": 0.8102419379121539,<br>    \"mutation_rate\": 0.5670036927595026,<br>    \"crossover_method\": \"cxUniform\",<br>    \"crossover_rate\": 0.5865318684900694,<br>    \"selection_method\": \"selBest\",<br>    \"elitism_rate\": 0.012888018616700636,<br>    \"survival_rate\": 0.8227622351133875<br>  }<br>}",
          "{<br>  \"number\": 2,<br>  \"values\": [<br>    0.6563820242881775,<br>    0.5904802918434143,<br>    6.830501556396484<br>  ],<br>  \"params\": {<br>    \"mutation_method\": \"mutConstant\",<br>    \"mutation_prob\": 0.5151791118223629,<br>    \"mutation_rate\": 0.6753487319019037,<br>    \"crossover_method\": \"cxTwoPoint\",<br>    \"crossover_rate\": 0.2438869438066591,<br>    \"crossover_points\": 4,<br>    \"selection_method\": \"selRoulette\",<br>    \"elitism_rate\": 0.6671046655575785,<br>    \"survival_rate\": 0.585180022004546<br>  }<br>}",
          "{<br>  \"number\": 3,<br>  \"values\": [<br>    0.818134605884552,<br>    0.7648661494255066,<br>    12.57694411277771<br>  ],<br>  \"params\": {<br>    \"mutation_method\": \"mutLinear\",<br>    \"mutation_prob\": 0.2807446944101759,<br>    \"mutation_rate_start\": 0.6873342483095609,<br>    \"mutation_rate_end\": 0.17718317573663955,<br>    \"crossover_method\": \"cxUniform\",<br>    \"crossover_rate\": 0.3643006881692137,<br>    \"selection_method\": \"selRoulette\",<br>    \"elitism_rate\": 0.0991596503537504,<br>    \"survival_rate\": 0.543867577337406<br>  }<br>}",
          "{<br>  \"number\": 4,<br>  \"values\": [<br>    0.6569432616233826,<br>    0.6014132142066956,<br>    9.884447813034058<br>  ],<br>  \"params\": {<br>    \"mutation_method\": \"mutEntropy\",<br>    \"mutation_prob\": 0.49115283087924577,<br>    \"mutation_rate_start\": 0.9644203813145801,<br>    \"mutation_rate_end\": 0.5531002194910911,<br>    \"crossover_method\": \"cxTwoPoint\",<br>    \"crossover_rate\": 0.7027756139769191,<br>    \"crossover_points\": 4,<br>    \"selection_method\": \"selTournament\",<br>    \"tournsize\": 5,<br>    \"elitism_rate\": 0.3703103077728167,<br>    \"survival_rate\": 0.04408655632160752<br>  }<br>}",
          "{<br>  \"number\": 5,<br>  \"values\": [<br>    0.7581605911254883,<br>    0.6731084823608399,<br>    7.605344533920288<br>  ],<br>  \"params\": {<br>    \"mutation_method\": \"mutExponential\",<br>    \"mutation_prob\": 0.04604836892498898,<br>    \"mutation_rate_start\": 0.11051918805864003,<br>    \"mutation_rate_end\": 0.3169625303581831,<br>    \"mutation_rate_degree\": 4,<br>    \"crossover_method\": \"cxOnePoint\",<br>    \"crossover_rate\": 0.09401569931366005,<br>    \"selection_method\": \"selBest\",<br>    \"elitism_rate\": 0.18867875386226285,<br>    \"survival_rate\": 0.04291723302351225<br>  }<br>}",
          "{<br>  \"number\": 6,<br>  \"values\": [<br>    0.6108515858650208,<br>    0.5978142976760864,<br>    7.210463523864746<br>  ],<br>  \"params\": {<br>    \"mutation_method\": \"mutExponential\",<br>    \"mutation_prob\": 0.3223016855569708,<br>    \"mutation_rate_start\": 0.3939045481124015,<br>    \"mutation_rate_end\": 0.8733477068809429,<br>    \"mutation_rate_degree\": 4,<br>    \"crossover_method\": \"cxOnePoint\",<br>    \"crossover_rate\": 0.5299420778031193,<br>    \"selection_method\": \"selBoltzmann\",<br>    \"boltzmann_temperature\": 0.5461645965763832,<br>    \"elitism_rate\": 0.5982708721710486,<br>    \"survival_rate\": 0.2993355345621487<br>  }<br>}",
          "{<br>  \"number\": 7,<br>  \"values\": [<br>    0.5438743829727173,<br>    0.523196530342102,<br>    5.791201829910278<br>  ],<br>  \"params\": {<br>    \"mutation_method\": \"mutEntropy\",<br>    \"mutation_prob\": 0.9791032959892848,<br>    \"mutation_rate_start\": 0.6978238326399361,<br>    \"mutation_rate_end\": 0.898885462473212,<br>    \"crossover_method\": \"cxOnePoint\",<br>    \"crossover_rate\": 0.4973364571048754,<br>    \"selection_method\": \"selTournamentWithoutReplacement\",<br>    \"tournsize\": 2,<br>    \"elitism_rate\": 0.9387809494446677,<br>    \"survival_rate\": 0.9519137625974511<br>  }<br>}",
          "{<br>  \"number\": 8,<br>  \"values\": [<br>    0.6804086565971375,<br>    0.6434842228889466,<br>    6.883536100387573<br>  ],<br>  \"params\": {<br>    \"mutation_method\": \"mutLinear\",<br>    \"mutation_prob\": 0.24897059065453364,<br>    \"mutation_rate_start\": 0.06208851346776201,<br>    \"mutation_rate_end\": 0.9217517952159444,<br>    \"crossover_method\": \"cxTwoPoint\",<br>    \"crossover_rate\": 0.17522954616650177,<br>    \"crossover_points\": 3,<br>    \"selection_method\": \"selBoltzmann\",<br>    \"boltzmann_temperature\": 0.03593482054638997,<br>    \"elitism_rate\": 0.6428338870577289,<br>    \"survival_rate\": 0.9942160573114461<br>  }<br>}",
          "{<br>  \"number\": 9,<br>  \"values\": [<br>    0.767907977104187,<br>    0.742623794078827,<br>    12.784364461898804<br>  ],<br>  \"params\": {<br>    \"mutation_method\": \"mutEntropy\",<br>    \"mutation_prob\": 0.24291833054836098,<br>    \"mutation_rate_start\": 0.6717070570280173,<br>    \"mutation_rate_end\": 0.5753249121473145,<br>    \"crossover_method\": \"cxTwoPoint\",<br>    \"crossover_rate\": 0.4167816468531038,<br>    \"crossover_points\": 4,<br>    \"selection_method\": \"selStochasticUniversalSampling\",<br>    \"elitism_rate\": 0.09155353902905572,<br>    \"survival_rate\": 0.37819723039676956<br>  }<br>}",
          "{<br>  \"number\": 10,<br>  \"values\": [<br>    0.76732337474823,<br>    0.7065917015075683,<br>    9.042007684707642<br>  ],<br>  \"params\": {<br>    \"mutation_method\": \"mutExponential\",<br>    \"mutation_prob\": 0.07914413554435107,<br>    \"mutation_rate_start\": 0.01821256131398874,<br>    \"mutation_rate_end\": 0.13097321368493753,<br>    \"mutation_rate_degree\": 4,<br>    \"crossover_method\": \"cxKPoint\",<br>    \"crossover_rate\": 0.03086645166802822,<br>    \"crossover_points\": 1,<br>    \"selection_method\": \"selBest\",<br>    \"elitism_rate\": 0.3139947218672011,<br>    \"survival_rate\": 0.013136959370521693<br>  }<br>}",
          "{<br>  \"number\": 11,<br>  \"values\": [<br>    0.6832256317138672,<br>    0.6345887660980225,<br>    5.483475208282471<br>  ],<br>  \"params\": {<br>    \"mutation_method\": \"mutExponential\",<br>    \"mutation_prob\": 0.02932959396594991,<br>    \"mutation_rate_start\": 0.0029633028704482145,<br>    \"mutation_rate_end\": 0.1247614418258498,<br>    \"mutation_rate_degree\": 4,<br>    \"crossover_method\": \"cxKPoint\",<br>    \"crossover_rate\": 0.02479047484167186,<br>    \"crossover_points\": 1,<br>    \"selection_method\": \"selBest\",<br>    \"elitism_rate\": 0.3316384445050473,<br>    \"survival_rate\": 0.00814723119791742<br>  }<br>}",
          "{<br>  \"number\": 12,<br>  \"values\": [<br>    0.5222430229187012,<br>    0.5076983451843262,<br>    3.8452095985412598<br>  ],<br>  \"params\": {<br>    \"mutation_method\": \"mutExponential\",<br>    \"mutation_prob\": 0.002050456706710377,<br>    \"mutation_rate_start\": 0.2105648885348006,<br>    \"mutation_rate_end\": 0.32836923061995005,<br>    \"mutation_rate_degree\": 4,<br>    \"crossover_method\": \"cxKPoint\",<br>    \"crossover_rate\": 0.027690939567136086,<br>    \"crossover_points\": 1,<br>    \"selection_method\": \"selRandom\",<br>    \"elitism_rate\": 0.25930596861273764,<br>    \"survival_rate\": 0.20521652369779705<br>  }<br>}",
          "{<br>  \"number\": 13,<br>  \"values\": [<br>    0.6813010573387146,<br>    0.6507925271987915,<br>    9.419226169586182<br>  ],<br>  \"params\": {<br>    \"mutation_method\": \"mutExponential\",<br>    \"mutation_prob\": 0.11330038587497443,<br>    \"mutation_rate_start\": 0.260062812227864,<br>    \"mutation_rate_end\": 0.0062143605101443455,<br>    \"mutation_rate_degree\": 3,<br>    \"crossover_method\": \"cxKPoint\",<br>    \"crossover_rate\": 0.13181724215090307,<br>    \"crossover_points\": 2,<br>    \"selection_method\": \"selNormRoulette\",<br>    \"elitism_rate\": 0.44832677835509716,<br>    \"survival_rate\": 0.1613388876240066<br>  }<br>}",
          "{<br>  \"number\": 14,<br>  \"values\": [<br>    0.7907454371452332,<br>    0.75472172498703,<br>    12.820128202438354<br>  ],<br>  \"params\": {<br>    \"mutation_method\": \"mutExponential\",<br>    \"mutation_prob\": 0.47560579368900957,<br>    \"mutation_rate_start\": 0.1529559054464372,<br>    \"mutation_rate_end\": 0.35965263951502163,<br>    \"mutation_rate_degree\": 1,<br>    \"crossover_method\": \"cxOnePoint\",<br>    \"crossover_rate\": 0.9945680880950329,<br>    \"selection_method\": \"selBest\",<br>    \"elitism_rate\": 0.21808238960297327,<br>    \"survival_rate\": 0.14646018393581917<br>  }<br>}",
          "{<br>  \"number\": 15,<br>  \"values\": [<br>    0.6903026700019836,<br>    0.6463760018348694,<br>    9.649763822555542<br>  ],<br>  \"params\": {<br>    \"mutation_method\": \"mutExponential\",<br>    \"mutation_prob\": 0.13373190266469767,<br>    \"mutation_rate_start\": 0.3738788902310859,<br>    \"mutation_rate_end\": 0.3392001828225362,<br>    \"mutation_rate_degree\": 3,<br>    \"crossover_method\": \"cxKPoint\",<br>    \"crossover_rate\": 0.10915007638025001,<br>    \"crossover_points\": 2,<br>    \"selection_method\": \"selBest\",<br>    \"elitism_rate\": 0.43772442275776813,<br>    \"survival_rate\": 0.011079546829202425<br>  }<br>}",
          "{<br>  \"number\": 16,<br>  \"values\": [<br>    0.6069177985191345,<br>    0.5779878735542298,<br>    5.705043077468872<br>  ],<br>  \"params\": {<br>    \"mutation_method\": \"mutExponential\",<br>    \"mutation_prob\": 0.01018235626841163,<br>    \"mutation_rate_start\": 0.09583083701473502,<br>    \"mutation_rate_end\": 0.17199842603518356,<br>    \"mutation_rate_degree\": 4,<br>    \"crossover_method\": \"cxOnePoint\",<br>    \"crossover_rate\": 0.0015812928331684906,<br>    \"selection_method\": \"selBest\",<br>    \"elitism_rate\": 0.18770166287133536,<br>    \"survival_rate\": 0.6660960645187651<br>  }<br>}",
          "{<br>  \"number\": 17,<br>  \"values\": [<br>    0.8395792245864868,<br>    0.7878612875938416,<br>    7.1308982372283936<br>  ],<br>  \"params\": {<br>    \"mutation_method\": \"mutConstant\",<br>    \"mutation_prob\": 0.4115375324464282,<br>    \"mutation_rate\": 0.11911212894739742,<br>    \"crossover_method\": \"cxKPoint\",<br>    \"crossover_rate\": 0.7854699784027136,<br>    \"crossover_points\": 1,<br>    \"selection_method\": \"selTournamentWithoutReplacement\",<br>    \"tournsize\": 10,<br>    \"elitism_rate\": 0.5428821438597352,<br>    \"survival_rate\": 0.26568562904187004<br>  }<br>}",
          "{<br>  \"number\": 18,<br>  \"values\": [<br>    0.8308054804801941,<br>    0.7715441584587097,<br>    5.727808475494385<br>  ],<br>  \"params\": {<br>    \"mutation_method\": \"mutConstant\",<br>    \"mutation_prob\": 0.6374533733471582,<br>    \"mutation_rate\": 0.030921607815573737,<br>    \"crossover_method\": \"cxKPoint\",<br>    \"crossover_rate\": 0.8475148038173734,<br>    \"crossover_points\": 1,<br>    \"selection_method\": \"selTournamentWithoutReplacement\",<br>    \"tournsize\": 10,<br>    \"elitism_rate\": 0.8126176713253929,<br>    \"survival_rate\": 0.28199153960291745<br>  }<br>}",
          "{<br>  \"number\": 19,<br>  \"values\": [<br>    0.7670469284057617,<br>    0.7171781659126282,<br>    5.648449182510376<br>  ],<br>  \"params\": {<br>    \"mutation_method\": \"mutConstant\",<br>    \"mutation_prob\": 0.6463454144075953,<br>    \"mutation_rate\": 0.014813755452300088,<br>    \"crossover_method\": \"cxKPoint\",<br>    \"crossover_rate\": 0.9976446967882108,<br>    \"crossover_points\": 2,<br>    \"selection_method\": \"selTournamentWithoutReplacement\",<br>    \"tournsize\": 10,<br>    \"elitism_rate\": 0.7614623024751036,<br>    \"survival_rate\": 0.7659345472723585<br>  }<br>}",
          "{<br>  \"number\": 20,<br>  \"values\": [<br>    0.5486484169960022,<br>    0.5330130457878113,<br>    6.81147575378418<br>  ],<br>  \"params\": {<br>    \"mutation_method\": \"mutConstant\",<br>    \"mutation_prob\": 0.6324158278393734,<br>    \"mutation_rate\": 0.9761477719583962,<br>    \"crossover_method\": \"cxKPoint\",<br>    \"crossover_rate\": 0.8635313787461434,<br>    \"crossover_points\": 3,<br>    \"selection_method\": \"selTournamentWithoutReplacement\",<br>    \"tournsize\": 7,<br>    \"elitism_rate\": 0.7857427001187488,<br>    \"survival_rate\": 0.48728468452413565<br>  }<br>}",
          "{<br>  \"number\": 21,<br>  \"values\": [<br>    0.5824716091156006,<br>    0.5162872433662414,<br>    1.2085256576538086<br>  ],<br>  \"params\": {<br>    \"mutation_method\": \"mutConstant\",<br>    \"mutation_prob\": 0.9080987958683588,<br>    \"mutation_rate\": 0.00031116350484017286,<br>    \"crossover_method\": \"cxKPoint\",<br>    \"crossover_rate\": 0.7736567904330015,<br>    \"crossover_points\": 1,<br>    \"selection_method\": \"selTournamentWithoutReplacement\",<br>    \"tournsize\": 10,<br>    \"elitism_rate\": 0.824245288594315,<br>    \"survival_rate\": 0.2902698647719749<br>  }<br>}",
          "{<br>  \"number\": 22,<br>  \"values\": [<br>    0.7679969668388367,<br>    0.7125959396362305,<br>    5.974289417266846<br>  ],<br>  \"params\": {<br>    \"mutation_method\": \"mutConstant\",<br>    \"mutation_prob\": 0.9403201457307947,<br>    \"mutation_rate\": 0.2570284687405525,<br>    \"crossover_method\": \"cxKPoint\",<br>    \"crossover_rate\": 0.8590363860625331,<br>    \"crossover_points\": 1,<br>    \"selection_method\": \"selTournamentWithoutReplacement\",<br>    \"tournsize\": 7,<br>    \"elitism_rate\": 0.861334340036568,<br>    \"survival_rate\": 0.35361671829481883<br>  }<br>}",
          "{<br>  \"number\": 23,<br>  \"values\": [<br>    0.7729471921920776,<br>    0.697440242767334,<br>    7.149623870849609<br>  ],<br>  \"params\": {<br>    \"mutation_method\": \"mutConstant\",<br>    \"mutation_prob\": 0.8462288411734853,<br>    \"mutation_rate\": 0.22103943217959018,<br>    \"crossover_method\": \"cxKPoint\",<br>    \"crossover_rate\": 0.6467836750959369,<br>    \"crossover_points\": 1,<br>    \"selection_method\": \"selStochasticUniversalSampling\",<br>    \"elitism_rate\": 0.716767698234896,<br>    \"survival_rate\": 0.2517544036786864<br>  }<br>}",
          "{<br>  \"number\": 24,<br>  \"values\": [<br>    0.6052874326705933,<br>    0.5585859775543213,<br>    5.768560886383057<br>  ],<br>  \"params\": {<br>    \"mutation_method\": \"mutLinear\",<br>    \"mutation_prob\": 0.6615160172508315,<br>    \"mutation_rate_start\": 0.980440731049015,<br>    \"mutation_rate_end\": 0.6859500651227584,<br>    \"crossover_method\": \"cxKPoint\",<br>    \"crossover_rate\": 0.7550740838409976,<br>    \"crossover_points\": 2,<br>    \"selection_method\": \"selNormRoulette\",<br>    \"elitism_rate\": 0.8838474573380611,<br>    \"survival_rate\": 0.6298312817705376<br>  }<br>}",
          "{<br>  \"number\": 25,<br>  \"values\": [<br>    0.6101658940315247,<br>    0.5827593326568603,<br>    8.117768287658691<br>  ],<br>  \"params\": {<br>    \"mutation_method\": \"mutConstant\",<br>    \"mutation_prob\": 0.8788215630527032,<br>    \"mutation_rate\": 0.3543498537134758,<br>    \"crossover_method\": \"cxKPoint\",<br>    \"crossover_rate\": 0.8997295249259861,<br>    \"crossover_points\": 1,<br>    \"selection_method\": \"selRandom\",<br>    \"elitism_rate\": 0.8648804590805184,<br>    \"survival_rate\": 0.11245330914786383<br>  }<br>}",
          "{<br>  \"number\": 26,<br>  \"values\": [<br>    0.7990807294845581,<br>    0.7601740837097168,<br>    9.290120363235474<br>  ],<br>  \"params\": {<br>    \"mutation_method\": \"mutConstant\",<br>    \"mutation_prob\": 0.745469334767908,<br>    \"mutation_rate\": 0.014988369636433619,<br>    \"crossover_method\": \"cxUniform\",<br>    \"crossover_rate\": 0.7985845093233377,<br>    \"selection_method\": \"selTournamentWithoutReplacement\",<br>    \"tournsize\": 8,<br>    \"elitism_rate\": 0.513843368314721,<br>    \"survival_rate\": 0.4407762724145538<br>  }<br>}",
          "{<br>  \"number\": 27,<br>  \"values\": [<br>    0.6902449131011963,<br>    0.6584548830986023,<br>    6.343273162841797<br>  ],<br>  \"params\": {<br>    \"mutation_method\": \"mutConstant\",<br>    \"mutation_prob\": 0.5703307642476951,<br>    \"mutation_rate\": 0.38958965389629263,<br>    \"crossover_method\": \"cxKPoint\",<br>    \"crossover_rate\": 0.9208618497612943,<br>    \"crossover_points\": 1,<br>    \"selection_method\": \"selTournamentWithoutReplacement\",<br>    \"tournsize\": 4,<br>    \"elitism_rate\": 0.787415988635883,<br>    \"survival_rate\": 0.33598973378914526<br>  }<br>}",
          "{<br>  \"number\": 28,<br>  \"values\": [<br>    0.533074140548706,<br>    0.5020869135856628,<br>    4.457805633544922<br>  ],<br>  \"params\": {<br>    \"mutation_method\": \"mutEntropy\",<br>    \"mutation_prob\": 0.38124891651324044,<br>    \"mutation_rate_start\": 0.5179493763409413,<br>    \"mutation_rate_end\": 0.6901596474095105,<br>    \"crossover_method\": \"cxKPoint\",<br>    \"crossover_rate\": 0.6893213902430837,<br>    \"crossover_points\": 2,<br>    \"selection_method\": \"selTournamentWithoutReplacement\",<br>    \"tournsize\": 9,<br>    \"elitism_rate\": 0.9943478651517155,<br>    \"survival_rate\": 0.23046343162937152<br>  }<br>}",
          "{<br>  \"number\": 29,<br>  \"values\": [<br>    0.6361677646636963,<br>    0.5857226133346558,<br>    5.091538667678833<br>  ],<br>  \"params\": {<br>    \"mutation_method\": \"mutLinear\",<br>    \"mutation_prob\": 0.7289800610608714,<br>    \"mutation_rate_start\": 0.5462921699926226,<br>    \"mutation_rate_end\": 0.43609510836487797,<br>    \"crossover_method\": \"cxUniform\",<br>    \"crossover_rate\": 0.6042283231143359,<br>    \"selection_method\": \"selTournament\",<br>    \"tournsize\": 6,<br>    \"elitism_rate\": 0.9448877006112935,<br>    \"survival_rate\": 0.4242669292582666<br>  }<br>}",
          "{<br>  \"number\": 30,<br>  \"values\": [<br>    0.6129070520401001,<br>    0.58589688539505,<br>    5.027351140975952<br>  ],<br>  \"params\": {<br>    \"mutation_method\": \"mutLinear\",<br>    \"mutation_prob\": 0.743309684334142,<br>    \"mutation_rate_start\": 0.8046008828664453,<br>    \"mutation_rate_end\": 0.43659019247107067,<br>    \"crossover_method\": \"cxUniform\",<br>    \"crossover_rate\": 0.6195844654903504,<br>    \"selection_method\": \"selTournament\",<br>    \"tournsize\": 8,<br>    \"elitism_rate\": 0.9589685445832843,<br>    \"survival_rate\": 0.43668106700514797<br>  }<br>}",
          "{<br>  \"number\": 31,<br>  \"values\": [<br>    0.8208284378051758,<br>    0.7889212846755982,<br>    7.9705259799957275<br>  ],<br>  \"params\": {<br>    \"mutation_method\": \"mutConstant\",<br>    \"mutation_prob\": 0.7241032195416145,<br>    \"mutation_rate\": 0.09450770661069326,<br>    \"crossover_method\": \"cxUniform\",<br>    \"crossover_rate\": 0.7822698852820764,<br>    \"selection_method\": \"selTournamentWithoutReplacement\",<br>    \"tournsize\": 10,<br>    \"elitism_rate\": 0.5618462456811011,<br>    \"survival_rate\": 0.26469154784006965<br>  }<br>}",
          "{<br>  \"number\": 32,<br>  \"values\": [<br>    0.7668366432189941,<br>    0.7219496011734009,<br>    6.616721868515015<br>  ],<br>  \"params\": {<br>    \"mutation_method\": \"mutConstant\",<br>    \"mutation_prob\": 0.43804829385653293,<br>    \"mutation_rate\": 0.1542585362277079,<br>    \"crossover_method\": \"cxTwoPoint\",<br>    \"crossover_rate\": 0.8214655670831865,<br>    \"crossover_points\": 3,<br>    \"selection_method\": \"selTournament\",<br>    \"tournsize\": 10,<br>    \"elitism_rate\": 0.7027962561139224,<br>    \"survival_rate\": 0.3735978747837502<br>  }<br>}",
          "{<br>  \"number\": 33,<br>  \"values\": [<br>    0.5576106309890747,<br>    0.5355578780174255,<br>    5.944640874862671<br>  ],<br>  \"params\": {<br>    \"mutation_method\": \"mutConstant\",<br>    \"mutation_prob\": 0.5668621913384349,<br>    \"mutation_rate\": 0.9826740180011049,<br>    \"crossover_method\": \"cxUniform\",<br>    \"crossover_rate\": 0.9348154823911109,<br>    \"selection_method\": \"selRoulette\",<br>    \"elitism_rate\": 0.8465405774746432,<br>    \"survival_rate\": 0.30757239754330146<br>  }<br>}",
          "{<br>  \"number\": 34,<br>  \"values\": [<br>    0.6837390065193176,<br>    0.6683830499649048,<br>    5.519277572631836<br>  ],<br>  \"params\": {<br>    \"mutation_method\": \"mutConstant\",<br>    \"mutation_prob\": 0.5755508906721216,<br>    \"mutation_rate\": 0.003715652871261854,<br>    \"crossover_method\": \"cxKPoint\",<br>    \"crossover_rate\": 0.7212900229554746,<br>    \"crossover_points\": 1,<br>    \"selection_method\": \"selTournamentWithoutReplacement\",<br>    \"tournsize\": 9,<br>    \"elitism_rate\": 0.6344741301994463,<br>    \"survival_rate\": 0.5103163732495428<br>  }<br>}",
          "{<br>  \"number\": 35,<br>  \"values\": [<br>    0.8264716863632202,<br>    0.7930272698402405,<br>    9.04025673866272<br>  ],<br>  \"params\": {<br>    \"mutation_method\": \"mutLinear\",<br>    \"mutation_prob\": 0.7993082259714598,<br>    \"mutation_rate_start\": 0.5356238159628599,<br>    \"mutation_rate_end\": 0.005012985110230961,<br>    \"crossover_method\": \"cxTwoPoint\",<br>    \"crossover_rate\": 0.27075359603353216,<br>    \"crossover_points\": 2,<br>    \"selection_method\": \"selStochasticUniversalSampling\",<br>    \"elitism_rate\": 0.4941318980456837,<br>    \"survival_rate\": 0.8572075074092543<br>  }<br>}",
          "{<br>  \"number\": 36,<br>  \"values\": [<br>    0.5762501955032349,<br>    0.5416767477989197,<br>    5.466883420944214<br>  ],<br>  \"params\": {<br>    \"mutation_method\": \"mutConstant\",<br>    \"mutation_prob\": 0.689653853944852,<br>    \"mutation_rate\": 0.7732155073297662,<br>    \"crossover_method\": \"cxUniform\",<br>    \"crossover_rate\": 0.5772544744860586,<br>    \"selection_method\": \"selRoulette\",<br>    \"elitism_rate\": 0.9182863097376107,<br>    \"survival_rate\": 0.11012182674878235<br>  }<br>}",
          "{<br>  \"number\": 37,<br>  \"values\": [<br>    0.6365219950675964,<br>    0.5792543411254882,<br>    6.675653696060181<br>  ],<br>  \"params\": {<br>    \"mutation_method\": \"mutEntropy\",<br>    \"mutation_prob\": 0.41563723625608506,<br>    \"mutation_rate_start\": 0.8229615390385575,<br>    \"mutation_rate_end\": 0.4653782824085525,<br>    \"crossover_method\": \"cxKPoint\",<br>    \"crossover_rate\": 0.8356858479766378,<br>    \"crossover_points\": 1,<br>    \"selection_method\": \"selBoltzmann\",<br>    \"boltzmann_temperature\": 0.9752092270290817,<br>    \"elitism_rate\": 0.7295683528426449,<br>    \"survival_rate\": 0.19214350464668228<br>  }<br>}",
          "{<br>  \"number\": 38,<br>  \"values\": [<br>    0.5935354232788086,<br>    0.5666745066642761,<br>    7.5788726806640625<br>  ],<br>  \"params\": {<br>    \"mutation_method\": \"mutLinear\",<br>    \"mutation_prob\": 0.5276113345614626,<br>    \"mutation_rate_start\": 0.34396569741564126,<br>    \"mutation_rate_end\": 0.9793221980293592,<br>    \"crossover_method\": \"cxOnePoint\",<br>    \"crossover_rate\": 0.42502042119503997,<br>    \"selection_method\": \"selRandom\",<br>    \"elitism_rate\": 0.5806448550118857,<br>    \"survival_rate\": 0.5767789923181699<br>  }<br>}",
          "{<br>  \"number\": 39,<br>  \"values\": [<br>    0.7232884764671326,<br>    0.6599147200584412,<br>    6.357525587081909<br>  ],<br>  \"params\": {<br>    \"mutation_method\": \"mutConstant\",<br>    \"mutation_prob\": 0.7900784306819642,<br>    \"mutation_rate\": 0.14639340574495077,<br>    \"crossover_method\": \"cxTwoPoint\",<br>    \"crossover_rate\": 0.7451231842460793,<br>    \"crossover_points\": 1,<br>    \"selection_method\": \"selNormRoulette\",<br>    \"elitism_rate\": 0.808463881575128,<br>    \"survival_rate\": 0.7363754367080626<br>  }<br>}",
          "{<br>  \"number\": 40,<br>  \"values\": [<br>    0.5917640328407288,<br>    0.5744365930557251,<br>    8.000487804412842<br>  ],<br>  \"params\": {<br>    \"mutation_method\": \"mutEntropy\",<br>    \"mutation_prob\": 0.8832235516317477,<br>    \"mutation_rate_start\": 0.8549547336857555,<br>    \"mutation_rate_end\": 0.7920681908860744,<br>    \"crossover_method\": \"cxOnePoint\",<br>    \"crossover_rate\": 0.6673229325447767,<br>    \"selection_method\": \"selTournament\",<br>    \"tournsize\": 10,<br>    \"elitism_rate\": 0.6787847565242935,<br>    \"survival_rate\": 0.28823873974052094<br>  }<br>}",
          "{<br>  \"number\": 41,<br>  \"values\": [<br>    0.7242881655693054,<br>    0.7057913064956665,<br>    6.01300835609436<br>  ],<br>  \"params\": {<br>    \"mutation_method\": \"mutConstant\",<br>    \"mutation_prob\": 0.6067688204428697,<br>    \"mutation_rate\": 0.007582045199353054,<br>    \"crossover_method\": \"cxKPoint\",<br>    \"crossover_rate\": 0.7526162636945772,<br>    \"crossover_points\": 1,<br>    \"selection_method\": \"selTournamentWithoutReplacement\",<br>    \"tournsize\": 9,<br>    \"elitism_rate\": 0.617149705587237,<br>    \"survival_rate\": 0.39760765558576244<br>  }<br>}",
          "{<br>  \"number\": 42,<br>  \"values\": [<br>    0.7486201524734497,<br>    0.7137616634368896,<br>    5.284050703048706<br>  ],<br>  \"params\": {<br>    \"mutation_method\": \"mutConstant\",<br>    \"mutation_prob\": 0.5791117897939707,<br>    \"mutation_rate\": 0.1128329041731844,<br>    \"crossover_method\": \"cxKPoint\",<br>    \"crossover_rate\": 0.7308194279380388,<br>    \"crossover_points\": 1,<br>    \"selection_method\": \"selTournamentWithoutReplacement\",<br>    \"tournsize\": 9,<br>    \"elitism_rate\": 0.9053767796211049,<br>    \"survival_rate\": 0.5137073235070153<br>  }<br>}",
          "{<br>  \"number\": 43,<br>  \"values\": [<br>    0.8573745489120483,<br>    0.7862641930580139,<br>    10.693814516067505<br>  ],<br>  \"params\": {<br>    \"mutation_method\": \"mutConstant\",<br>    \"mutation_prob\": 0.5208390612831411,<br>    \"mutation_rate\": 0.1301842138427458,<br>    \"crossover_method\": \"cxKPoint\",<br>    \"crossover_rate\": 0.530092678958193,<br>    \"crossover_points\": 2,<br>    \"selection_method\": \"selTournamentWithoutReplacement\",<br>    \"tournsize\": 10,<br>    \"elitism_rate\": 0.019436425655565914,<br>    \"survival_rate\": 0.4845831609635555<br>  }<br>}",
          "{<br>  \"number\": 44,<br>  \"values\": [<br>    0.8650826215744019,<br>    0.8021474599838256,<br>    9.934348344802856<br>  ],<br>  \"params\": {<br>    \"mutation_method\": \"mutConstant\",<br>    \"mutation_prob\": 0.316796981892883,<br>    \"mutation_rate\": 0.14921723296310424,<br>    \"crossover_method\": \"cxKPoint\",<br>    \"crossover_rate\": 0.947447116689346,<br>    \"crossover_points\": 1,<br>    \"selection_method\": \"selTournamentWithoutReplacement\",<br>    \"tournsize\": 10,<br>    \"elitism_rate\": 0.0936608495613292,<br>    \"survival_rate\": 0.47962676269837873<br>  }<br>}",
          "{<br>  \"number\": 45,<br>  \"values\": [<br>    0.6909237504005432,<br>    0.6447667837142944,<br>    5.061288356781006<br>  ],<br>  \"params\": {<br>    \"mutation_method\": \"mutConstant\",<br>    \"mutation_prob\": 0.3155208604582805,<br>    \"mutation_rate\": 0.2458243151627273,<br>    \"crossover_method\": \"cxKPoint\",<br>    \"crossover_rate\": 0.9492567521322971,<br>    \"crossover_points\": 1,<br>    \"selection_method\": \"selTournamentWithoutReplacement\",<br>    \"tournsize\": 9,<br>    \"elitism_rate\": 0.9092716623502966,<br>    \"survival_rate\": 0.3216762560967746<br>  }<br>}",
          "{<br>  \"number\": 46,<br>  \"values\": [<br>    0.7500684261322021,<br>    0.7125379800796509,<br>    5.808561563491821<br>  ],<br>  \"params\": {<br>    \"mutation_method\": \"mutConstant\",<br>    \"mutation_prob\": 0.35158223426886925,<br>    \"mutation_rate\": 0.11109108483818622,<br>    \"crossover_method\": \"cxKPoint\",<br>    \"crossover_rate\": 0.8777268145928776,<br>    \"crossover_points\": 1,<br>    \"selection_method\": \"selTournamentWithoutReplacement\",<br>    \"tournsize\": 8,<br>    \"elitism_rate\": 0.8234273044654884,<br>    \"survival_rate\": 0.536529753235941<br>  }<br>}",
          "{<br>  \"number\": 47,<br>  \"values\": [<br>    0.7621884346008301,<br>    0.7141341805458069,<br>    7.69478178024292<br>  ],<br>  \"params\": {<br>    \"mutation_method\": \"mutConstant\",<br>    \"mutation_prob\": 0.2073029994930864,<br>    \"mutation_rate\": 0.08622167653495534,<br>    \"crossover_method\": \"cxKPoint\",<br>    \"crossover_rate\": 0.7927402905382815,<br>    \"crossover_points\": 1,<br>    \"selection_method\": \"selBoltzmann\",<br>    \"boltzmann_temperature\": 0.03247325800233147,<br>    \"elitism_rate\": 0.41303653753501246,<br>    \"survival_rate\": 0.1108347670105779<br>  }<br>}",
          "{<br>  \"number\": 48,<br>  \"values\": [<br>    0.7918167114257812,<br>    0.7244485139846801,<br>    7.293055534362793<br>  ],<br>  \"params\": {<br>    \"mutation_method\": \"mutConstant\",<br>    \"mutation_prob\": 0.18809126145005847,<br>    \"mutation_rate\": 0.21870606822259137,<br>    \"crossover_method\": \"cxKPoint\",<br>    \"crossover_rate\": 0.3522093100860269,<br>    \"crossover_points\": 1,<br>    \"selection_method\": \"selTournamentWithoutReplacement\",<br>    \"tournsize\": 10,<br>    \"elitism_rate\": 0.5355347098924907,<br>    \"survival_rate\": 0.21994246146768884<br>  }<br>}",
          "{<br>  \"number\": 49,<br>  \"values\": [<br>    0.6980844736099243,<br>    0.6521105885505676,<br>    13.825255632400513<br>  ],<br>  \"params\": {<br>    \"mutation_method\": \"mutConstant\",<br>    \"mutation_prob\": 0.466792321959262,<br>    \"mutation_rate\": 0.34101057748645874,<br>    \"crossover_method\": \"cxKPoint\",<br>    \"crossover_rate\": 0.9632099430308162,<br>    \"crossover_points\": 1,<br>    \"selection_method\": \"selTournamentWithoutReplacement\",<br>    \"tournsize\": 1,<br>    \"elitism_rate\": 0.11834508306916214,<br>    \"survival_rate\": 0.6202229686994529<br>  }<br>}",
          "{<br>  \"number\": 50,<br>  \"values\": [<br>    0.8333197832107544,<br>    0.793281078338623,<br>    14.157666206359863<br>  ],<br>  \"params\": {<br>    \"mutation_method\": \"mutEntropy\",<br>    \"mutation_prob\": 0.38683745307452805,<br>    \"mutation_rate_start\": 0.4407517305683662,<br>    \"mutation_rate_end\": 0.6499326452679253,<br>    \"crossover_method\": \"cxTwoPoint\",<br>    \"crossover_rate\": 0.7083102483183459,<br>    \"crossover_points\": 4,<br>    \"selection_method\": \"selRoulette\",<br>    \"elitism_rate\": 0.289632447656809,<br>    \"survival_rate\": 0.8959619213744233<br>  }<br>}",
          "{<br>  \"number\": 51,<br>  \"values\": [<br>    0.8692777156829834,<br>    0.7756580710411072,<br>    11.72983169555664<br>  ],<br>  \"params\": {<br>    \"mutation_method\": \"mutConstant\",<br>    \"mutation_prob\": 0.3201795683905999,<br>    \"mutation_rate\": 0.06928644543233717,<br>    \"crossover_method\": \"cxKPoint\",<br>    \"crossover_rate\": 0.9601122782406033,<br>    \"crossover_points\": 1,<br>    \"selection_method\": \"selTournamentWithoutReplacement\",<br>    \"tournsize\": 9,<br>    \"elitism_rate\": 0.3782954300430988,<br>    \"survival_rate\": 0.3145191294278597<br>  }<br>}",
          "{<br>  \"number\": 52,<br>  \"values\": [<br>    0.7243697643280029,<br>    0.7019487619400024,<br>    8.364702701568604<br>  ],<br>  \"params\": {<br>    \"mutation_method\": \"mutConstant\",<br>    \"mutation_prob\": 0.9423970773096122,<br>    \"mutation_rate\": 0.19780003139526087,<br>    \"crossover_method\": \"cxKPoint\",<br>    \"crossover_rate\": 0.83461718117613,<br>    \"crossover_points\": 1,<br>    \"selection_method\": \"selTournamentWithoutReplacement\",<br>    \"tournsize\": 9,<br>    \"elitism_rate\": 0.896258005417526,<br>    \"survival_rate\": 0.1711414058173923<br>  }<br>}",
          "{<br>  \"number\": 53,<br>  \"values\": [<br>    0.7580796480178833,<br>    0.7063711285591125,<br>    8.839512586593628<br>  ],<br>  \"params\": {<br>    \"mutation_method\": \"mutConstant\",<br>    \"mutation_prob\": 0.3251277719982326,<br>    \"mutation_rate\": 0.07963211774019531,<br>    \"crossover_method\": \"cxKPoint\",<br>    \"crossover_rate\": 0.8668609012564503,<br>    \"crossover_points\": 1,<br>    \"selection_method\": \"selTournamentWithoutReplacement\",<br>    \"tournsize\": 10,<br>    \"elitism_rate\": 0.7502909404302258,<br>    \"survival_rate\": 0.2684046101468821<br>  }<br>}",
          "{<br>  \"number\": 54,<br>  \"values\": [<br>    0.69142746925354,<br>    0.6631678342819214,<br>    11.409740447998047<br>  ],<br>  \"params\": {<br>    \"mutation_method\": \"mutConstant\",<br>    \"mutation_prob\": 0.2854751152153699,<br>    \"mutation_rate\": 0.2701622206684078,<br>    \"crossover_method\": \"cxOnePoint\",<br>    \"crossover_rate\": 0.9032683106862296,<br>    \"selection_method\": \"selStochasticUniversalSampling\",<br>    \"elitism_rate\": 0.4804850755719622,<br>    \"survival_rate\": 0.33853645303018987<br>  }<br>}",
          "{<br>  \"number\": 55,<br>  \"values\": [<br>    0.591215193271637,<br>    0.574392294883728,<br>    16.857346057891846<br>  ],<br>  \"params\": {<br>    \"mutation_method\": \"mutExponential\",<br>    \"mutation_prob\": 0.9861964039255972,<br>    \"mutation_rate_start\": 0.5831225515443533,<br>    \"mutation_rate_end\": 0.802685188826328,<br>    \"mutation_rate_degree\": 1,<br>    \"crossover_method\": \"cxKPoint\",<br>    \"crossover_rate\": 0.9632491857861658,<br>    \"crossover_points\": 3,<br>    \"selection_method\": \"selNormRoulette\",<br>    \"elitism_rate\": 0.15581017058485147,<br>    \"survival_rate\": 0.05638260191246913<br>  }<br>}",
          "{<br>  \"number\": 56,<br>  \"values\": [<br>    0.7047635316848755,<br>    0.6597479820251465,<br>    10.693931341171265<br>  ],<br>  \"params\": {<br>    \"mutation_method\": \"mutConstant\",<br>    \"mutation_prob\": 0.4475444596426982,<br>    \"mutation_rate\": 0.165317778090724,<br>    \"crossover_method\": \"cxKPoint\",<br>    \"crossover_rate\": 0.7798982685981093,<br>    \"crossover_points\": 4,<br>    \"selection_method\": \"selRandom\",<br>    \"elitism_rate\": 0.6621848504388042,<br>    \"survival_rate\": 0.39320514992438516<br>  }<br>}",
          "{<br>  \"number\": 57,<br>  \"values\": [<br>    0.664401113986969,<br>    0.634699821472168,<br>    12.914820194244385<br>  ],<br>  \"params\": {<br>    \"mutation_method\": \"mutConstant\",<br>    \"mutation_prob\": 0.5032255506666872,<br>    \"mutation_rate\": 0.5549925802391695,<br>    \"crossover_method\": \"cxKPoint\",<br>    \"crossover_rate\": 0.19373149587903227,<br>    \"crossover_points\": 1,<br>    \"selection_method\": \"selTournamentWithoutReplacement\",<br>    \"tournsize\": 9,<br>    \"elitism_rate\": 0.25558913057255594,<br>    \"survival_rate\": 0.7030730424300224<br>  }<br>}",
          "{<br>  \"number\": 58,<br>  \"values\": [<br>    0.5417815446853638,<br>    0.5014139175415039,<br>    3.5364763736724854<br>  ],<br>  \"params\": {<br>    \"mutation_method\": \"mutEntropy\",<br>    \"mutation_prob\": 0.12862943767743218,<br>    \"mutation_rate_start\": 0.2771588352197157,<br>    \"mutation_rate_end\": 0.22803692701909495,<br>    \"crossover_method\": \"cxKPoint\",<br>    \"crossover_rate\": 0.4641562049690571,<br>    \"crossover_points\": 1,<br>    \"selection_method\": \"selBoltzmann\",<br>    \"boltzmann_temperature\": 0.9901729812505086,<br>    \"elitism_rate\": 0.9682397891099914,<br>    \"survival_rate\": 0.15052306586987838<br>  }<br>}",
          "{<br>  \"number\": 59,<br>  \"values\": [<br>    0.7137970924377441,<br>    0.6440411925315856,<br>    11.32872200012207<br>  ],<br>  \"params\": {<br>    \"mutation_method\": \"mutExponential\",<br>    \"mutation_prob\": 0.1829051155404292,<br>    \"mutation_rate_start\": 0.8928535896981982,<br>    \"mutation_rate_end\": 0.9971069374765588,<br>    \"mutation_rate_degree\": 2,<br>    \"crossover_method\": \"cxOnePoint\",<br>    \"crossover_rate\": 0.9323396609026964,<br>    \"selection_method\": \"selTournamentWithoutReplacement\",<br>    \"tournsize\": 10,<br>    \"elitism_rate\": 0.3676515214579824,<br>    \"survival_rate\": 0.47593452075575<br>  }<br>}",
          "{<br>  \"number\": 60,<br>  \"values\": [<br>    0.7423235177993774,<br>    0.7156306266784668,<br>    11.22008204460144<br>  ],<br>  \"params\": {<br>    \"mutation_method\": \"mutConstant\",<br>    \"mutation_prob\": 0.25314627217705615,<br>    \"mutation_rate\": 0.44911930613915707,<br>    \"crossover_method\": \"cxTwoPoint\",<br>    \"crossover_rate\": 0.8444794328300604,<br>    \"crossover_points\": 1,<br>    \"selection_method\": \"selBest\",<br>    \"elitism_rate\": 0.041419578733483675,<br>    \"survival_rate\": 0.22476415128329336<br>  }<br>}",
          "{<br>  \"number\": 61,<br>  \"values\": [<br>    0.7786968946456909,<br>    0.756228768825531,<br>    7.699518918991089<br>  ],<br>  \"params\": {<br>    \"mutation_method\": \"mutConstant\",<br>    \"mutation_prob\": 0.30781336077782195,<br>    \"mutation_rate\": 0.06714121654920538,<br>    \"crossover_method\": \"cxKPoint\",<br>    \"crossover_rate\": 0.968033012741237,<br>    \"crossover_points\": 1,<br>    \"selection_method\": \"selTournamentWithoutReplacement\",<br>    \"tournsize\": 9,<br>    \"elitism_rate\": 0.3842895413698655,<br>    \"survival_rate\": 0.3193598958747742<br>  }<br>}",
          "{<br>  \"number\": 62,<br>  \"values\": [<br>    0.8374745845794678,<br>    0.7757434844970703,<br>    9.254179239273071<br>  ],<br>  \"params\": {<br>    \"mutation_method\": \"mutConstant\",<br>    \"mutation_prob\": 0.38120759214627853,<br>    \"mutation_rate\": 0.058752422086049305,<br>    \"crossover_method\": \"cxKPoint\",<br>    \"crossover_rate\": 0.8929779694531698,<br>    \"crossover_points\": 1,<br>    \"selection_method\": \"selTournamentWithoutReplacement\",<br>    \"tournsize\": 10,<br>    \"elitism_rate\": 0.07197244926131763,<br>    \"survival_rate\": 0.28560773324884026<br>  }<br>}",
          "{<br>  \"number\": 63,<br>  \"values\": [<br>    0.5538285374641418,<br>    0.5171374559402466,<br>    5.186428546905518<br>  ],<br>  \"params\": {<br>    \"mutation_method\": \"mutConstant\",<br>    \"mutation_prob\": 0.3358394981590884,<br>    \"mutation_rate\": 0.7147508508622937,<br>    \"crossover_method\": \"cxKPoint\",<br>    \"crossover_rate\": 0.8014396273783416,<br>    \"crossover_points\": 1,<br>    \"selection_method\": \"selTournamentWithoutReplacement\",<br>    \"tournsize\": 3,<br>    \"elitism_rate\": 0.91421819338885,<br>    \"survival_rate\": 0.3571582676443261<br>  }<br>}",
          "{<br>  \"number\": 64,<br>  \"values\": [<br>    0.5844070911407471,<br>    0.535198175907135,<br>    1.8827767372131348<br>  ],<br>  \"params\": {<br>    \"mutation_method\": \"mutConstant\",<br>    \"mutation_prob\": 0.28234951154978644,<br>    \"mutation_rate\": 0.05304202575574599,<br>    \"crossover_method\": \"cxKPoint\",<br>    \"crossover_rate\": 0.932311460328832,<br>    \"crossover_points\": 1,<br>    \"selection_method\": \"selTournamentWithoutReplacement\",<br>    \"tournsize\": 9,<br>    \"elitism_rate\": 0.9998931820590614,<br>    \"survival_rate\": 0.41867681141559154<br>  }<br>}",
          "{<br>  \"number\": 65,<br>  \"values\": [<br>    0.5925326943397522,<br>    0.5649633765220642,<br>    7.221463918685913<br>  ],<br>  \"params\": {<br>    \"mutation_method\": \"mutLinear\",<br>    \"mutation_prob\": 0.08023241099148726,<br>    \"mutation_rate_start\": 0.7557504320142315,<br>    \"mutation_rate_end\": 0.5714073835642428,<br>    \"crossover_method\": \"cxKPoint\",<br>    \"crossover_rate\": 0.9995855431093569,<br>    \"crossover_points\": 4,<br>    \"selection_method\": \"selStochasticUniversalSampling\",<br>    \"elitism_rate\": 0.4578871519919523,<br>    \"survival_rate\": 0.5551085833978749<br>  }<br>}",
          "{<br>  \"number\": 66,<br>  \"values\": [<br>    0.6962236762046814,<br>    0.6395657539367676,<br>    5.9245710372924805<br>  ],<br>  \"params\": {<br>    \"mutation_method\": \"mutExponential\",<br>    \"mutation_prob\": 0.692830673776271,<br>    \"mutation_rate_start\": 0.6101215990487464,<br>    \"mutation_rate_end\": 0.2697400998315623,<br>    \"mutation_rate_degree\": 2,<br>    \"crossover_method\": \"cxUniform\",<br>    \"crossover_rate\": 0.7428408533141821,<br>    \"selection_method\": \"selTournamentWithoutReplacement\",<br>    \"tournsize\": 9,<br>    \"elitism_rate\": 0.8315053460957803,<br>    \"survival_rate\": 0.42132340043427136<br>  }<br>}",
          "{<br>  \"number\": 67,<br>  \"values\": [<br>    0.5760484933853149,<br>    0.552339243888855,<br>    6.5084569454193115<br>  ],<br>  \"params\": {<br>    \"mutation_method\": \"mutConstant\",<br>    \"mutation_prob\": 0.6045584180275481,<br>    \"mutation_rate\": 0.8906787970891297,<br>    \"crossover_method\": \"cxKPoint\",<br>    \"crossover_rate\": 0.8212136907415479,<br>    \"crossover_points\": 2,<br>    \"selection_method\": \"selRandom\",<br>    \"elitism_rate\": 0.7618217856339105,<br>    \"survival_rate\": 0.45627777234733763<br>  }<br>}",
          "{<br>  \"number\": 68,<br>  \"values\": [<br>    0.6379641890525818,<br>    0.5875467658042908,<br>    5.691802740097046<br>  ],<br>  \"params\": {<br>    \"mutation_method\": \"mutEntropy\",<br>    \"mutation_prob\": 0.41601788080030655,<br>    \"mutation_rate_start\": 0.45815488607984733,<br>    \"mutation_rate_end\": 0.07015142811857289,<br>    \"crossover_method\": \"cxOnePoint\",<br>    \"crossover_rate\": 0.6525348698047082,<br>    \"selection_method\": \"selRoulette\",<br>    \"elitism_rate\": 0.8714095914286389,<br>    \"survival_rate\": 0.1988900355223965<br>  }<br>}",
          "{<br>  \"number\": 69,<br>  \"values\": [<br>    0.5286989808082581,<br>    0.5028066396713257,<br>    4.430026292800903<br>  ],<br>  \"params\": {<br>    \"mutation_method\": \"mutLinear\",<br>    \"mutation_prob\": 0.8289871699967705,<br>    \"mutation_rate_start\": 0.18562255667520788,<br>    \"mutation_rate_end\": 0.7121140869580633,<br>    \"crossover_method\": \"cxKPoint\",<br>    \"crossover_rate\": 0.06653538213172139,<br>    \"crossover_points\": 3,<br>    \"selection_method\": \"selNormRoulette\",<br>    \"elitism_rate\": 0.9992141206967006,<br>    \"survival_rate\": 0.2528188728339185<br>  }<br>}",
          "{<br>  \"number\": 70,<br>  \"values\": [<br>    0.7526695132255554,<br>    0.7094979882240295,<br>    7.636411428451538<br>  ],<br>  \"params\": {<br>    \"mutation_method\": \"mutConstant\",<br>    \"mutation_prob\": 0.48061659636756116,<br>    \"mutation_rate\": 0.27393910569916036,<br>    \"crossover_method\": \"cxTwoPoint\",<br>    \"crossover_rate\": 0.9116618526145706,<br>    \"crossover_points\": 1,<br>    \"selection_method\": \"selTournamentWithoutReplacement\",<br>    \"tournsize\": 4,<br>    \"elitism_rate\": 0.5357716256795709,<br>    \"survival_rate\": 0.5231130712455232<br>  }<br>}",
          "{<br>  \"number\": 71,<br>  \"values\": [<br>    0.8624998331069946,<br>    0.7595485568046569,<br>    8.962169647216797<br>  ],<br>  \"params\": {<br>    \"mutation_method\": \"mutConstant\",<br>    \"mutation_prob\": 0.28682166310026946,<br>    \"mutation_rate\": 0.059138748649512365,<br>    \"crossover_method\": \"cxKPoint\",<br>    \"crossover_rate\": 0.9394942785849485,<br>    \"crossover_points\": 1,<br>    \"selection_method\": \"selTournamentWithoutReplacement\",<br>    \"tournsize\": 10,<br>    \"elitism_rate\": 0.21928420413268934,<br>    \"survival_rate\": 0.9811104499102568<br>  }<br>}",
          "{<br>  \"number\": 72,<br>  \"values\": [<br>    0.8872778415679932,<br>    0.810823404788971,<br>    9.5696542263031<br>  ],<br>  \"params\": {<br>    \"mutation_method\": \"mutConstant\",<br>    \"mutation_prob\": 0.7749303187714041,<br>    \"mutation_rate\": 0.039110120182776376,<br>    \"crossover_method\": \"cxKPoint\",<br>    \"crossover_rate\": 0.8875376195447244,<br>    \"crossover_points\": 1,<br>    \"selection_method\": \"selBest\",<br>    \"elitism_rate\": 0.19767572073937745,<br>    \"survival_rate\": 0.9838008994647881<br>  }<br>}",
          "{<br>  \"number\": 73,<br>  \"values\": [<br>    0.8618898987770081,<br>    0.8128230690956115,<br>    11.053302764892578<br>  ],<br>  \"params\": {<br>    \"mutation_method\": \"mutConstant\",<br>    \"mutation_prob\": 0.7746137069489649,<br>    \"mutation_rate\": 0.04517597526198858,<br>    \"crossover_method\": \"cxKPoint\",<br>    \"crossover_rate\": 0.8758241336089164,<br>    \"crossover_points\": 2,<br>    \"selection_method\": \"selBest\",<br>    \"elitism_rate\": 0.2483516137186103,<br>    \"survival_rate\": 0.9826780856477177<br>  }<br>}",
          "{<br>  \"number\": 74,<br>  \"values\": [<br>    0.8608505725860596,<br>    0.8328556537628173,<br>    11.936561822891235<br>  ],<br>  \"params\": {<br>    \"mutation_method\": \"mutConstant\",<br>    \"mutation_prob\": 0.5490260569162128,<br>    \"mutation_rate\": 0.030829764756427024,<br>    \"crossover_method\": \"cxUniform\",<br>    \"crossover_rate\": 0.6888467311170552,<br>    \"selection_method\": \"selBest\",<br>    \"elitism_rate\": 0.33567201638606226,<br>    \"survival_rate\": 0.8918362667557032<br>  }<br>}",
          "{<br>  \"number\": 77,<br>  \"values\": [<br>    0.8873186111450195,<br>    0.8130439996719361,<br>    10.459941625595093<br>  ],<br>  \"params\": {<br>    \"mutation_method\": \"mutConstant\",<br>    \"mutation_prob\": 0.6705630288464847,<br>    \"mutation_rate\": 0.10981501202508143,<br>    \"crossover_method\": \"cxUniform\",<br>    \"crossover_rate\": 0.8127409858604039,<br>    \"selection_method\": \"selTournament\",<br>    \"tournsize\": 8,<br>    \"elitism_rate\": 0.16699063084759572,<br>    \"survival_rate\": 0.8568154724845319<br>  }<br>}",
          "{<br>  \"number\": 78,<br>  \"values\": [<br>    0.7244789600372314,<br>    0.6851771116256714,<br>    10.521625518798828<br>  ],<br>  \"params\": {<br>    \"mutation_method\": \"mutExponential\",<br>    \"mutation_prob\": 0.6213987529324426,<br>    \"mutation_rate_start\": 0.9400192858671944,<br>    \"mutation_rate_end\": 0.6268602220523751,<br>    \"mutation_rate_degree\": 3,<br>    \"crossover_method\": \"cxUniform\",<br>    \"crossover_rate\": 0.7229181725257986,<br>    \"selection_method\": \"selTournament\",<br>    \"tournsize\": 7,<br>    \"elitism_rate\": 0.22015146318665016,<br>    \"survival_rate\": 0.9331065476126693<br>  }<br>}",
          "{<br>  \"number\": 79,<br>  \"values\": [<br>    0.8670804500579834,<br>    0.8030961036682129,<br>    10.866069793701172<br>  ],<br>  \"params\": {<br>    \"mutation_method\": \"mutConstant\",<br>    \"mutation_prob\": 0.5845675595104045,<br>    \"mutation_rate\": 0.18800307309779818,<br>    \"crossover_method\": \"cxUniform\",<br>    \"crossover_rate\": 0.8474865896938001,<br>    \"selection_method\": \"selTournament\",<br>    \"tournsize\": 5,<br>    \"elitism_rate\": 0.12787536055000037,<br>    \"survival_rate\": 0.7726682560712866<br>  }<br>}",
          "{<br>  \"number\": 80,<br>  \"values\": [<br>    0.8427196741104126,<br>    0.8100426435470581,<br>    10.697926759719849<br>  ],<br>  \"params\": {<br>    \"mutation_method\": \"mutLinear\",<br>    \"mutation_prob\": 0.6442054565569234,<br>    \"mutation_rate_start\": 0.29098033658817885,<br>    \"mutation_rate_end\": 0.5055138044718712,<br>    \"crossover_method\": \"cxUniform\",<br>    \"crossover_rate\": 0.7699702246116933,<br>    \"selection_method\": \"selBoltzmann\",<br>    \"boltzmann_temperature\": 0.4603510487485151,<br>    \"elitism_rate\": 0.2955799573163242,<br>    \"survival_rate\": 0.8052707665245695<br>  }<br>}",
          "{<br>  \"number\": 83,<br>  \"values\": [<br>    0.60161954164505,<br>    0.5521320581436158,<br>    5.453848600387573<br>  ],<br>  \"params\": {<br>    \"mutation_method\": \"mutEntropy\",<br>    \"mutation_prob\": 0.7139896960751873,<br>    \"mutation_rate_start\": 0.6435405076587413,<br>    \"mutation_rate_end\": 0.404275269236135,<br>    \"crossover_method\": \"cxUniform\",<br>    \"crossover_rate\": 0.3878018125980798,<br>    \"selection_method\": \"selBest\",<br>    \"elitism_rate\": 0.9509807799837621,<br>    \"survival_rate\": 0.922799994765758<br>  }<br>}",
          "{<br>  \"number\": 84,<br>  \"values\": [<br>    0.8242324590682983,<br>    0.7697979569435119,<br>    7.232109785079956<br>  ],<br>  \"params\": {<br>    \"mutation_method\": \"mutConstant\",<br>    \"mutation_prob\": 0.7487767065908919,<br>    \"mutation_rate\": 0.0013882251855541483,<br>    \"crossover_method\": \"cxUniform\",<br>    \"crossover_rate\": 0.2788762961266261,<br>    \"selection_method\": \"selBest\",<br>    \"elitism_rate\": 0.2151994605316434,<br>    \"survival_rate\": 0.991958961684842<br>  }<br>}",
          "{<br>  \"number\": 85,<br>  \"values\": [<br>    0.6371427178382874,<br>    0.6026830315589905,<br>    6.328842401504517<br>  ],<br>  \"params\": {<br>    \"mutation_method\": \"mutConstant\",<br>    \"mutation_prob\": 0.6642308724367513,<br>    \"mutation_rate\": 0.6458389072354009,<br>    \"crossover_method\": \"cxUniform\",<br>    \"crossover_rate\": 0.4376871173915563,<br>    \"selection_method\": \"selBest\",<br>    \"elitism_rate\": 0.8022552371343897,<br>    \"survival_rate\": 0.8624855462912895<br>  }<br>}",
          "{<br>  \"number\": 86,<br>  \"values\": [<br>    0.7762359380722046,<br>    0.7039140582084655,<br>    4.806036710739136<br>  ],<br>  \"params\": {<br>    \"mutation_method\": \"mutConstant\",<br>    \"mutation_prob\": 0.8548651454403737,<br>    \"mutation_rate\": 0.051594097601363936,<br>    \"crossover_method\": \"cxUniform\",<br>    \"crossover_rate\": 0.19404045529322245,<br>    \"selection_method\": \"selBest\",<br>    \"elitism_rate\": 0.9643818486974902,<br>    \"survival_rate\": 0.9529851607570938<br>  }<br>}",
          "{<br>  \"number\": 87,<br>  \"values\": [<br>    0.7375279664993286,<br>    0.6734021544456482,<br>    4.528090476989746<br>  ],<br>  \"params\": {<br>    \"mutation_method\": \"mutConstant\",<br>    \"mutation_prob\": 0.7721131041837015,<br>    \"mutation_rate\": 0.03940604391759493,<br>    \"crossover_method\": \"cxUniform\",<br>    \"crossover_rate\": 0.16291715294835063,<br>    \"selection_method\": \"selBest\",<br>    \"elitism_rate\": 0.9780984363072686,<br>    \"survival_rate\": 0.9647527953496414<br>  }<br>}",
          "{<br>  \"number\": 88,<br>  \"values\": [<br>    0.787883460521698,<br>    0.7551933169364929,<br>    5.7911012172698975<br>  ],<br>  \"params\": {<br>    \"mutation_method\": \"mutConstant\",<br>    \"mutation_prob\": 0.7697348926005387,<br>    \"mutation_rate\": 0.0934487282632089,<br>    \"crossover_method\": \"cxUniform\",<br>    \"crossover_rate\": 0.5104276427231389,<br>    \"selection_method\": \"selBest\",<br>    \"elitism_rate\": 0.8722729427468549,<br>    \"survival_rate\": 0.9072485608502142<br>  }<br>}",
          "{<br>  \"number\": 89,<br>  \"values\": [<br>    0.5488332509994507,<br>    0.5233053207397461,<br>    1.0841686725616455<br>  ],<br>  \"params\": {<br>    \"mutation_method\": \"mutConstant\",<br>    \"mutation_prob\": 0.8091943312001051,<br>    \"mutation_rate\": 0.0027834041395852424,<br>    \"crossover_method\": \"cxUniform\",<br>    \"crossover_rate\": 0.12630965215660395,<br>    \"selection_method\": \"selBest\",<br>    \"elitism_rate\": 0.9716005560718396,<br>    \"survival_rate\": 0.9651439645278914<br>  }<br>}",
          "{<br>  \"number\": 90,<br>  \"values\": [<br>    0.785000205039978,<br>    0.7320003747940064,<br>    5.642149448394775<br>  ],<br>  \"params\": {<br>    \"mutation_method\": \"mutConstant\",<br>    \"mutation_prob\": 0.7049994390897293,<br>    \"mutation_rate\": 0.13333826716138483,<br>    \"crossover_method\": \"cxUniform\",<br>    \"crossover_rate\": 0.16756048214727817,<br>    \"selection_method\": \"selBest\",<br>    \"elitism_rate\": 0.9394881394856864,<br>    \"survival_rate\": 0.833084328954251<br>  }<br>}",
          "{<br>  \"number\": 91,<br>  \"values\": [<br>    0.8656853437423706,<br>    0.8271149516105651,<br>    9.263393640518188<br>  ],<br>  \"params\": {<br>    \"mutation_method\": \"mutConstant\",<br>    \"mutation_prob\": 0.7385978832089074,<br>    \"mutation_rate\": 0.03307300260997971,<br>    \"crossover_method\": \"cxUniform\",<br>    \"crossover_rate\": 0.06937960746378194,<br>    \"selection_method\": \"selBest\",<br>    \"elitism_rate\": 0.18886222003479636,<br>    \"survival_rate\": 0.9299167900176151<br>  }<br>}",
          "{<br>  \"number\": 92,<br>  \"values\": [<br>    0.8144384622573853,<br>    0.7797468185424805,<br>    6.472506284713745<br>  ],<br>  \"params\": {<br>    \"mutation_method\": \"mutConstant\",<br>    \"mutation_prob\": 0.6185210094023408,<br>    \"mutation_rate\": 0.031538524508824356,<br>    \"crossover_method\": \"cxUniform\",<br>    \"crossover_rate\": 0.05502756567735692,<br>    \"selection_method\": \"selBest\",<br>    \"elitism_rate\": 0.6838967183688462,<br>    \"survival_rate\": 0.9432879438950882<br>  }<br>}",
          "{<br>  \"number\": 94,<br>  \"values\": [<br>    0.5985336899757385,<br>    0.5813653469085693,<br>    8.573959589004517<br>  ],<br>  \"params\": {<br>    \"mutation_method\": \"mutLinear\",<br>    \"mutation_prob\": 0.8644162185304107,<br>    \"mutation_rate_start\": 0.7343939724410384,<br>    \"mutation_rate_end\": 0.8451004603482436,<br>    \"crossover_method\": \"cxUniform\",<br>    \"crossover_rate\": 0.2250504979342035,<br>    \"selection_method\": \"selTournament\",<br>    \"tournsize\": 6,<br>    \"elitism_rate\": 0.6187392936268206,<br>    \"survival_rate\": 0.8127811601192753<br>  }<br>}",
          "{<br>  \"number\": 95,<br>  \"values\": [<br>    0.6095179915428162,<br>    0.5769115805625915,<br>    8.35151720046997<br>  ],<br>  \"params\": {<br>    \"mutation_method\": \"mutExponential\",<br>    \"mutation_prob\": 0.8336600523998451,<br>    \"mutation_rate_start\": 0.9236561767509625,<br>    \"mutation_rate_end\": 0.7387030947333222,<br>    \"mutation_rate_degree\": 1,<br>    \"crossover_method\": \"cxUniform\",<br>    \"crossover_rate\": 0.157441258575801,<br>    \"selection_method\": \"selTournament\",<br>    \"tournsize\": 6,<br>    \"elitism_rate\": 0.5871555110031381,<br>    \"survival_rate\": 0.7820479121911165<br>  }<br>}",
          "{<br>  \"number\": 96,<br>  \"values\": [<br>    0.8515413999557495,<br>    0.7729399085044861,<br>    9.516045331954956<br>  ],<br>  \"params\": {<br>    \"mutation_method\": \"mutEntropy\",<br>    \"mutation_prob\": 0.7573775166657539,<br>    \"mutation_rate_start\": 0.43087532840808057,<br>    \"mutation_rate_end\": 0.2593290881089406,<br>    \"crossover_method\": \"cxUniform\",<br>    \"crossover_rate\": 0.23373180422605985,<br>    \"selection_method\": \"selTournament\",<br>    \"tournsize\": 7,<br>    \"elitism_rate\": 0.41251473384808224,<br>    \"survival_rate\": 0.8747035604670585<br>  }<br>}",
          "{<br>  \"number\": 97,<br>  \"values\": [<br>    0.7295569181442261,<br>    0.7139707326889038,<br>    8.791261196136475<br>  ],<br>  \"params\": {<br>    \"mutation_method\": \"mutExponential\",<br>    \"mutation_prob\": 0.896299894884595,<br>    \"mutation_rate_start\": 0.3401613883009468,<br>    \"mutation_rate_end\": 0.5079662723616286,<br>    \"mutation_rate_degree\": 2,<br>    \"crossover_method\": \"cxUniform\",<br>    \"crossover_rate\": 0.21011186256822462,<br>    \"selection_method\": \"selTournament\",<br>    \"tournsize\": 4,<br>    \"elitism_rate\": 0.5597420444748674,<br>    \"survival_rate\": 0.8326206854978777<br>  }<br>}",
          "{<br>  \"number\": 98,<br>  \"values\": [<br>    0.7557958960533142,<br>    0.6944842100143432,<br>    7.782492399215698<br>  ],<br>  \"params\": {<br>    \"mutation_method\": \"mutLinear\",<br>    \"mutation_prob\": 0.906786875151381,<br>    \"mutation_rate_start\": 0.05348032108737111,<br>    \"mutation_rate_end\": 0.9396365233347528,<br>    \"crossover_method\": \"cxTwoPoint\",<br>    \"crossover_rate\": 0.27796468851580924,<br>    \"crossover_points\": 4,<br>    \"selection_method\": \"selTournament\",<br>    \"tournsize\": 5,<br>    \"elitism_rate\": 0.6590747804253947,<br>    \"survival_rate\": 0.7546980377207205<br>  }<br>}",
          "{<br>  \"number\": 99,<br>  \"values\": [<br>    0.7143161296844482,<br>    0.6924257636070251,<br>    7.26221489906311<br>  ],<br>  \"params\": {<br>    \"mutation_method\": \"mutEntropy\",<br>    \"mutation_prob\": 0.7258154867537133,<br>    \"mutation_rate_start\": 0.714620243363292,<br>    \"mutation_rate_end\": 0.07398802611922095,<br>    \"crossover_method\": \"cxOnePoint\",<br>    \"crossover_rate\": 0.31505128217480793,<br>    \"selection_method\": \"selTournament\",<br>    \"tournsize\": 3,<br>    \"elitism_rate\": 0.7119349130095706,<br>    \"survival_rate\": 0.718064843380899<br>  }<br>}",
          "{<br>  \"number\": 100,<br>  \"values\": [<br>    0.8552659749984741,<br>    0.8195011258125305,<br>    8.600071668624878<br>  ],<br>  \"params\": {<br>    \"mutation_method\": \"mutConstant\",<br>    \"mutation_prob\": 0.8171503615311478,<br>    \"mutation_rate\": 0.17250058548939565,<br>    \"crossover_method\": \"cxUniform\",<br>    \"crossover_rate\": 0.0987223944375134,<br>    \"selection_method\": \"selTournament\",<br>    \"tournsize\": 6,<br>    \"elitism_rate\": 0.5005654064794194,<br>    \"survival_rate\": 0.9074786465634974<br>  }<br>}",
          "{<br>  \"number\": 101,<br>  \"values\": [<br>    0.7075375914573669,<br>    0.656189751625061,<br>    6.790233612060547<br>  ],<br>  \"params\": {<br>    \"mutation_method\": \"mutConstant\",<br>    \"mutation_prob\": 0.7885270425902492,<br>    \"mutation_rate\": 0.909439839265188,<br>    \"crossover_method\": \"cxUniform\",<br>    \"crossover_rate\": 0.33215237795807295,<br>    \"selection_method\": \"selTournament\",<br>    \"tournsize\": 7,<br>    \"elitism_rate\": 0.7472479508275109,<br>    \"survival_rate\": 0.8476720065125134<br>  }<br>}",
          "{<br>  \"number\": 102,<br>  \"values\": [<br>    0.703630805015564,<br>    0.6377573728561401,<br>    8.845324993133545<br>  ],<br>  \"params\": {<br>    \"mutation_method\": \"mutConstant\",<br>    \"mutation_prob\": 0.6976244596372063,<br>    \"mutation_rate\": 0.7903478541589886,<br>    \"crossover_method\": \"cxUniform\",<br>    \"crossover_rate\": 0.25824085677375974,<br>    \"selection_method\": \"selTournament\",<br>    \"tournsize\": 1,<br>    \"elitism_rate\": 0.46246724295472574,<br>    \"survival_rate\": 0.875383359888928<br>  }<br>}",
          "{<br>  \"number\": 103,<br>  \"values\": [<br>    0.7372389435768127,<br>    0.7100221037864685,<br>    8.243107795715332<br>  ],<br>  \"params\": {<br>    \"mutation_method\": \"mutExponential\",<br>    \"mutation_prob\": 0.6778085681631827,<br>    \"mutation_rate_start\": 0.1408015204890284,<br>    \"mutation_rate_end\": 0.8428397534439462,<br>    \"mutation_rate_degree\": 3,<br>    \"crossover_method\": \"cxUniform\",<br>    \"crossover_rate\": 0.19778818725179884,<br>    \"selection_method\": \"selStochasticUniversalSampling\",<br>    \"elitism_rate\": 0.6382610639958204,<br>    \"survival_rate\": 0.9629976173132956<br>  }<br>}",
          "{<br>  \"number\": 104,<br>  \"values\": [<br>    0.6796737909317017,<br>    0.6543216466903686,<br>    8.468327522277832<br>  ],<br>  \"params\": {<br>    \"mutation_method\": \"mutLinear\",<br>    \"mutation_prob\": 0.6481193726805999,<br>    \"mutation_rate_start\": 0.7654330586746295,<br>    \"mutation_rate_end\": 0.607994089697357,<br>    \"crossover_method\": \"cxTwoPoint\",<br>    \"crossover_rate\": 0.13929251144271104,<br>    \"crossover_points\": 3,<br>    \"selection_method\": \"selRoulette\",<br>    \"elitism_rate\": 0.5268634147897292,<br>    \"survival_rate\": 0.6787402337544532<br>  }<br>}",
          "{<br>  \"number\": 105,<br>  \"values\": [<br>    0.8697941303253174,<br>    0.8079589486122132,<br>    9.395375728607178<br>  ],<br>  \"params\": {<br>    \"mutation_method\": \"mutEntropy\",<br>    \"mutation_prob\": 0.8563450768394918,<br>    \"mutation_rate_start\": 0.21401845831856336,<br>    \"mutation_rate_end\": 0.19818388506384188,<br>    \"crossover_method\": \"cxOnePoint\",<br>    \"crossover_rate\": 0.3820149958149024,<br>    \"selection_method\": \"selTournament\",<br>    \"tournsize\": 4,<br>    \"elitism_rate\": 0.426339252573845,<br>    \"survival_rate\": 0.7954730656176634<br>  }<br>}",
          "{<br>  \"number\": 106,<br>  \"values\": [<br>    0.7744708061218262,<br>    0.7353510737419129,<br>    5.980165243148804<br>  ],<br>  \"params\": {<br>    \"mutation_method\": \"mutConstant\",<br>    \"mutation_prob\": 0.03288613288384623,<br>    \"mutation_rate\": 0.47569782444784886,<br>    \"crossover_method\": \"cxUniform\",<br>    \"crossover_rate\": 0.5560404567294462,<br>    \"selection_method\": \"selRandom\",<br>    \"elitism_rate\": 0.7743017819697329,<br>    \"survival_rate\": 0.8808516226106543<br>  }<br>}",
          "{<br>  \"number\": 107,<br>  \"values\": [<br>    0.8525139689445496,<br>    0.7977709889411926,<br>    9.263933420181274<br>  ],<br>  \"params\": {<br>    \"mutation_method\": \"mutConstant\",<br>    \"mutation_prob\": 0.7192161685963865,<br>    \"mutation_rate\": 0.10538889280900225,<br>    \"crossover_method\": \"cxUniform\",<br>    \"crossover_rate\": 0.24827971959419767,<br>    \"selection_method\": \"selTournament\",<br>    \"tournsize\": 2,<br>    \"elitism_rate\": 0.3413837294127074,<br>    \"survival_rate\": 0.6236422303858578<br>  }<br>}",
          "{<br>  \"number\": 108,<br>  \"values\": [<br>    0.7644667625427246,<br>    0.6970188856124878,<br>    7.330302000045776<br>  ],<br>  \"params\": {<br>    \"mutation_method\": \"mutConstant\",<br>    \"mutation_prob\": 0.9449964952133655,<br>    \"mutation_rate\": 0.13567498955882112,<br>    \"crossover_method\": \"cxUniform\",<br>    \"crossover_rate\": 0.1865814873578664,<br>    \"selection_method\": \"selNormRoulette\",<br>    \"elitism_rate\": 0.6951714920471822,<br>    \"survival_rate\": 0.07657600767800421<br>  }<br>}",
          "{<br>  \"number\": 109,<br>  \"values\": [<br>    0.7650972604751587,<br>    0.7289986371994018,<br>    8.235111236572266<br>  ],<br>  \"params\": {<br>    \"mutation_method\": \"mutConstant\",<br>    \"mutation_prob\": 0.7660818766764151,<br>    \"mutation_rate\": 0.31629024017966884,<br>    \"crossover_method\": \"cxOnePoint\",<br>    \"crossover_rate\": 0.3037092508257285,<br>    \"selection_method\": \"selBoltzmann\",<br>    \"boltzmann_temperature\": 0.521286344339332,<br>    \"elitism_rate\": 0.5639541822566979,<br>    \"survival_rate\": 0.9014227878251145<br>  }<br>}",
          "{<br>  \"number\": 110,<br>  \"values\": [<br>    0.6937138438224792,<br>    0.6707345604896545,<br>    5.31147027015686<br>  ],<br>  \"params\": {<br>    \"mutation_method\": \"mutConstant\",<br>    \"mutation_prob\": 0.6877963138531646,<br>    \"mutation_rate\": 0.0927965148435252,<br>    \"crossover_method\": \"cxTwoPoint\",<br>    \"crossover_rate\": 0.014763165293375846,<br>    \"crossover_points\": 2,<br>    \"selection_method\": \"selTournament\",<br>    \"tournsize\": 8,<br>    \"elitism_rate\": 0.9301597877003392,<br>    \"survival_rate\": 0.8311680010351121<br>  }<br>}",
          "{<br>  \"number\": 111,<br>  \"values\": [<br>    0.7485284805297852,<br>    0.6767004251480102,<br>    8.005518913269043<br>  ],<br>  \"params\": {<br>    \"mutation_method\": \"mutConstant\",<br>    \"mutation_prob\": 0.7957587498409112,<br>    \"mutation_rate\": 0.6009353137785507,<br>    \"crossover_method\": \"cxUniform\",<br>    \"crossover_rate\": 0.2962711259672246,<br>    \"selection_method\": \"selTournament\",<br>    \"tournsize\": 5,<br>    \"elitism_rate\": 0.6134142155267652,<br>    \"survival_rate\": 0.9541066273337726<br>  }<br>}",
          "{<br>  \"number\": 112,<br>  \"values\": [<br>    0.8119908571243286,<br>    0.7695672512054443,<br>    6.802855491638184<br>  ],<br>  \"params\": {<br>    \"mutation_method\": \"mutExponential\",<br>    \"mutation_prob\": 0.07073802314681954,<br>    \"mutation_rate_start\": 0.6747563637759872,<br>    \"mutation_rate_end\": 0.292187462447931,<br>    \"mutation_rate_degree\": 1,<br>    \"crossover_method\": \"cxUniform\",<br>    \"crossover_rate\": 0.34255123168367074,<br>    \"selection_method\": \"selStochasticUniversalSampling\",<br>    \"elitism_rate\": 0.6022257156977842,<br>    \"survival_rate\": 0.9229024684297114<br>  }<br>}",
          "{<br>  \"number\": 113,<br>  \"values\": [<br>    0.7452239990234375,<br>    0.7207557559013367,<br>    8.02190375328064<br>  ],<br>  \"params\": {<br>    \"mutation_method\": \"mutConstant\",<br>    \"mutation_prob\": 0.6289221347834812,<br>    \"mutation_rate\": 0.391323880357919,<br>    \"crossover_method\": \"cxUniform\",<br>    \"crossover_rate\": 0.21283408361202347,<br>    \"selection_method\": \"selTournament\",<br>    \"tournsize\": 6,<br>    \"elitism_rate\": 0.554844570919194,<br>    \"survival_rate\": 0.9403772880045269<br>  }<br>}",
          "{<br>  \"number\": 114,<br>  \"values\": [<br>    0.6250601410865784,<br>    0.5917785882949829,<br>    7.588160514831543<br>  ],<br>  \"params\": {<br>    \"mutation_method\": \"mutLinear\",<br>    \"mutation_prob\": 0.735387924368827,<br>    \"mutation_rate_start\": 0.9916461644045421,<br>    \"mutation_rate_end\": 0.5374851668361147,<br>    \"crossover_method\": \"cxUniform\",<br>    \"crossover_rate\": 0.07141407854807386,<br>    \"selection_method\": \"selRoulette\",<br>    \"elitism_rate\": 0.6535849696286843,<br>    \"survival_rate\": 0.5818313161632989<br>  }<br>}",
          "{<br>  \"number\": 115,<br>  \"values\": [<br>    0.6872473955154419,<br>    0.6718847870826721,<br>    7.477092981338501<br>  ],<br>  \"params\": {<br>    \"mutation_method\": \"mutEntropy\",<br>    \"mutation_prob\": 0.6041649120075516,<br>    \"mutation_rate_start\": 0.48497921179146397,<br>    \"mutation_rate_end\": 0.35789729224319755,<br>    \"crossover_method\": \"cxUniform\",<br>    \"crossover_rate\": 0.15388037732769225,<br>    \"selection_method\": \"selRandom\",<br>    \"elitism_rate\": 0.686440150766592,<br>    \"survival_rate\": 0.846971233240214<br>  }<br>}",
          "{<br>  \"number\": 116,<br>  \"values\": [<br>    0.8136813640594482,<br>    0.7598564863204956,<br>    7.916576147079468<br>  ],<br>  \"params\": {<br>    \"mutation_method\": \"mutConstant\",<br>    \"mutation_prob\": 0.6514579392423258,<br>    \"mutation_rate\": 0.1349658139663935,<br>    \"crossover_method\": \"cxUniform\",<br>    \"crossover_rate\": 0.4659791018500954,<br>    \"selection_method\": \"selNormRoulette\",<br>    \"elitism_rate\": 0.6366366652328279,<br>    \"survival_rate\": 0.7552699710547038<br>  }<br>}",
          "{<br>  \"number\": 119,<br>  \"values\": [<br>    0.702701985836029,<br>    0.6567657589912415,<br>    7.150908470153809<br>  ],<br>  \"params\": {<br>    \"mutation_method\": \"mutConstant\",<br>    \"mutation_prob\": 0.7497554202218406,<br>    \"mutation_rate\": 0.5343059070714361,<br>    \"crossover_method\": \"cxTwoPoint\",<br>    \"crossover_rate\": 0.14756770692884752,<br>    \"crossover_points\": 3,<br>    \"selection_method\": \"selTournament\",<br>    \"tournsize\": 7,<br>    \"elitism_rate\": 0.7319984256922716,<br>    \"survival_rate\": 0.9146302808354826<br>  }<br>}",
          "{<br>  \"number\": 121,<br>  \"values\": [<br>    0.6209492087364197,<br>    0.5881105065345764,<br>    4.480245590209961<br>  ],<br>  \"params\": {<br>    \"mutation_method\": \"mutConstant\",<br>    \"mutation_prob\": 0.7102312970491015,<br>    \"mutation_rate\": 0.042061071640015824,<br>    \"crossover_method\": \"cxTwoPoint\",<br>    \"crossover_rate\": 0.17740878380362746,<br>    \"crossover_points\": 4,<br>    \"selection_method\": \"selTournament\",<br>    \"tournsize\": 7,<br>    \"elitism_rate\": 0.9754858337954271,<br>    \"survival_rate\": 0.9452973563238992<br>  }<br>}",
          "{<br>  \"number\": 122,<br>  \"values\": [<br>    0.7780280113220215,<br>    0.7316186547279357,<br>    5.536460638046265<br>  ],<br>  \"params\": {<br>    \"mutation_method\": \"mutConstant\",<br>    \"mutation_prob\": 0.6665973835882181,<br>    \"mutation_rate\": 0.08908665264226841,<br>    \"crossover_method\": \"cxUniform\",<br>    \"crossover_rate\": 0.13479701988351772,<br>    \"selection_method\": \"selTournament\",<br>    \"tournsize\": 6,<br>    \"elitism_rate\": 0.8958069950944473,<br>    \"survival_rate\": 0.9633119359508899<br>  }<br>}",
          "{<br>  \"number\": 124,<br>  \"values\": [<br>    0.7816976308822632,<br>    0.7352604389190673,<br>    5.819043397903442<br>  ],<br>  \"params\": {<br>    \"mutation_method\": \"mutConstant\",<br>    \"mutation_prob\": 0.8301313700751162,<br>    \"mutation_rate\": 0.16429056922683974,<br>    \"crossover_method\": \"cxUniform\",<br>    \"crossover_rate\": 0.1110831210244751,<br>    \"selection_method\": \"selBest\",<br>    \"elitism_rate\": 0.8537802824791426,<br>    \"survival_rate\": 0.8624428297233537<br>  }<br>}",
          "{<br>  \"number\": 125,<br>  \"values\": [<br>    0.8405024409294128,<br>    0.7929819822311401,<br>    11.347211360931396<br>  ],<br>  \"params\": {<br>    \"mutation_method\": \"mutConstant\",<br>    \"mutation_prob\": 0.7846274609052757,<br>    \"mutation_rate\": 0.11734117105175189,<br>    \"crossover_method\": \"cxUniform\",<br>    \"crossover_rate\": 0.10877430675154265,<br>    \"selection_method\": \"selBoltzmann\",<br>    \"boltzmann_temperature\": 0.273419168142532,<br>    \"elitism_rate\": 0.0646127599912229,<br>    \"survival_rate\": 0.8152214570562992<br>  }<br>}",
          "{<br>  \"number\": 126,<br>  \"values\": [<br>    0.8382444381713867,<br>    0.7908034563064575,<br>    5.716701507568359<br>  ],<br>  \"params\": {<br>    \"mutation_method\": \"mutConstant\",<br>    \"mutation_prob\": 0.7620486506015608,<br>    \"mutation_rate\": 0.07444087150941736,<br>    \"crossover_method\": \"cxUniform\",<br>    \"crossover_rate\": 0.23868245588021317,<br>    \"selection_method\": \"selBest\",<br>    \"elitism_rate\": 0.8271871888915658,<br>    \"survival_rate\": 0.9951540175219374<br>  }<br>}",
          "{<br>  \"number\": 127,<br>  \"values\": [<br>    0.8133363723754883,<br>    0.785739541053772,<br>    8.789867401123047<br>  ],<br>  \"params\": {<br>    \"mutation_method\": \"mutConstant\",<br>    \"mutation_prob\": 0.8078616978396339,<br>    \"mutation_rate\": 0.2258013291667128,<br>    \"crossover_method\": \"cxUniform\",<br>    \"crossover_rate\": 0.23412050368358495,<br>    \"selection_method\": \"selBest\",<br>    \"elitism_rate\": 0.4780224773220659,<br>    \"survival_rate\": 0.9919942964841926<br>  }<br>}",
          "{<br>  \"number\": 128,<br>  \"values\": [<br>    0.7136715650558472,<br>    0.6775544643402099,<br>    11.567696571350098<br>  ],<br>  \"params\": {<br>    \"mutation_method\": \"mutConstant\",<br>    \"mutation_prob\": 0.754719590713043,<br>    \"mutation_rate\": 0.07079859152063586,<br>    \"crossover_method\": \"cxUniform\",<br>    \"crossover_rate\": 0.2067229873886431,<br>    \"selection_method\": \"selBest\",<br>    \"elitism_rate\": 0.0035805933077524,<br>    \"survival_rate\": 0.7939139903458844<br>  }<br>}",
          "{<br>  \"number\": 129,<br>  \"values\": [<br>    0.6761409640312195,<br>    0.6386338949203492,<br>    3.6149609088897705<br>  ],<br>  \"params\": {<br>    \"mutation_method\": \"mutConstant\",<br>    \"mutation_prob\": 0.15281181476946537,<br>    \"mutation_rate\": 0.07740070345733834,<br>    \"crossover_method\": \"cxUniform\",<br>    \"crossover_rate\": 0.26663435895885873,<br>    \"selection_method\": \"selBest\",<br>    \"elitism_rate\": 0.9280283176191716,<br>    \"survival_rate\": 0.883104683025422<br>  }<br>}",
          "{<br>  \"number\": 130,<br>  \"values\": [<br>    0.7537811994552612,<br>    0.7254857540130615,<br>    5.255598783493042<br>  ],<br>  \"params\": {<br>    \"mutation_method\": \"mutExponential\",<br>    \"mutation_prob\": 0.22387323325436237,<br>    \"mutation_rate_start\": 0.08951693972412178,<br>    \"mutation_rate_end\": 0.09814887762965185,<br>    \"mutation_rate_degree\": 2,<br>    \"crossover_method\": \"cxUniform\",<br>    \"crossover_rate\": 0.24536679230317873,<br>    \"selection_method\": \"selBest\",<br>    \"elitism_rate\": 0.8342044946934192,<br>    \"survival_rate\": 0.8666305191787771<br>  }<br>}",
          "{<br>  \"number\": 131,<br>  \"values\": [<br>    0.7127809524536133,<br>    0.6872129201889038,<br>    5.186677932739258<br>  ],<br>  \"params\": {<br>    \"mutation_method\": \"mutConstant\",<br>    \"mutation_prob\": 0.16360015616054313,<br>    \"mutation_rate\": 0.07690103781899195,<br>    \"crossover_method\": \"cxUniform\",<br>    \"crossover_rate\": 0.29201867589317826,<br>    \"selection_method\": \"selBest\",<br>    \"elitism_rate\": 0.9270495159720433,<br>    \"survival_rate\": 0.8881953402897013<br>  }<br>}",
          "{<br>  \"number\": 132,<br>  \"values\": [<br>    0.5969163179397583,<br>    0.5469732642173767,<br>    2.3193325996398926<br>  ],<br>  \"params\": {<br>    \"mutation_method\": \"mutConstant\",<br>    \"mutation_prob\": 0.16148309656566706,<br>    \"mutation_rate\": 0.1078536359388105,<br>    \"crossover_method\": \"cxUniform\",<br>    \"crossover_rate\": 0.27213181563182814,<br>    \"selection_method\": \"selBest\",<br>    \"elitism_rate\": 0.9870413947756285,<br>    \"survival_rate\": 0.840605162990456<br>  }<br>}",
          "{<br>  \"number\": 133,<br>  \"values\": [<br>    0.6473578214645386,<br>    0.6171535849571228,<br>    7.321643114089966<br>  ],<br>  \"params\": {<br>    \"mutation_method\": \"mutLinear\",<br>    \"mutation_prob\": 0.18366988156399766,<br>    \"mutation_rate_start\": 0.39087641218290897,<br>    \"mutation_rate_end\": 0.8897137325370714,<br>    \"crossover_method\": \"cxOnePoint\",<br>    \"crossover_rate\": 0.2640321319151988,<br>    \"selection_method\": \"selStochasticUniversalSampling\",<br>    \"elitism_rate\": 0.799813827562976,<br>    \"survival_rate\": 0.841186913499453<br>  }<br>}",
          "{<br>  \"number\": 134,<br>  \"values\": [<br>    0.5222430229187012,<br>    0.4782281994819641,<br>    1.2497315406799316<br>  ],<br>  \"params\": {<br>    \"mutation_method\": \"mutConstant\",<br>    \"mutation_prob\": 0.1193671024951738,<br>    \"mutation_rate\": 0.7841394626518398,<br>    \"crossover_method\": \"cxUniform\",<br>    \"crossover_rate\": 0.22677973492431666,<br>    \"selection_method\": \"selRoulette\",<br>    \"elitism_rate\": 0.9993913532577271,<br>    \"survival_rate\": 0.910502962578488<br>  }<br>}",
          "{<br>  \"number\": 135,<br>  \"values\": [<br>    0.5222430229187012,<br>    0.4991493821144104,<br>    1.2301175594329834<br>  ],<br>  \"params\": {<br>    \"mutation_method\": \"mutEntropy\",<br>    \"mutation_prob\": 0.0024044652105810194,<br>    \"mutation_rate_start\": 0.035565034415266705,<br>    \"mutation_rate_end\": 0.3923773279163929,<br>    \"crossover_method\": \"cxUniform\",<br>    \"crossover_rate\": 0.6243870849118403,<br>    \"selection_method\": \"selRandom\",<br>    \"elitism_rate\": 0.8842917710729453,<br>    \"survival_rate\": 0.8192466816783531<br>  }<br>}",
          "{<br>  \"number\": 136,<br>  \"values\": [<br>    0.644752562046051,<br>    0.5374748229980468,<br>    3.974242925643921<br>  ],<br>  \"params\": {<br>    \"mutation_method\": \"mutConstant\",<br>    \"mutation_prob\": 0.15045369042620138,<br>    \"mutation_rate\": 0.11915574813334504,<br>    \"crossover_method\": \"cxUniform\",<br>    \"crossover_rate\": 0.243759225152382,<br>    \"selection_method\": \"selNormRoulette\",<br>    \"elitism_rate\": 0.9562759666000762,<br>    \"survival_rate\": 0.8862775573198183<br>  }<br>}",
          "{<br>  \"number\": 137,<br>  \"values\": [<br>    0.7341532707214355,<br>    0.6870513916015625,<br>    12.229810237884521<br>  ],<br>  \"params\": {<br>    \"mutation_method\": \"mutConstant\",<br>    \"mutation_prob\": 0.7356857049102572,<br>    \"mutation_rate\": 0.7231493948685337,<br>    \"crossover_method\": \"cxUniform\",<br>    \"crossover_rate\": 0.31361488827520034,<br>    \"selection_method\": \"selBest\",<br>    \"elitism_rate\": 0.39894080433840595,<br>    \"survival_rate\": 0.8524057830075948<br>  }<br>}",
          "{<br>  \"number\": 138,<br>  \"values\": [<br>    0.6314542293548584,<br>    0.5683303713798523,<br>    6.755206346511841<br>  ],<br>  \"params\": {<br>    \"mutation_method\": \"mutExponential\",<br>    \"mutation_prob\": 0.09949072374491175,<br>    \"mutation_rate_start\": 0.5874908590707147,<br>    \"mutation_rate_end\": 0.15266739848206934,<br>    \"mutation_rate_degree\": 3,<br>    \"crossover_method\": \"cxUniform\",<br>    \"crossover_rate\": 0.3218638261588069,<br>    \"selection_method\": \"selTournament\",<br>    \"tournsize\": 5,<br>    \"elitism_rate\": 0.7864764905597664,<br>    \"survival_rate\": 0.647281887305885<br>  }<br>}",
          "{<br>  \"number\": 139,<br>  \"values\": [<br>    0.8244102001190186,<br>    0.7887337327003479,<br>    11.904733657836914<br>  ],<br>  \"params\": {<br>    \"mutation_method\": \"mutConstant\",<br>    \"mutation_prob\": 0.2621605511777322,<br>    \"mutation_rate\": 0.14943474085116265,<br>    \"crossover_method\": \"cxOnePoint\",<br>    \"crossover_rate\": 0.2752315370018402,<br>    \"selection_method\": \"selBest\",<br>    \"elitism_rate\": 0.1429301176402038,<br>    \"survival_rate\": 0.917449715773663<br>  }<br>}",
          "{<br>  \"number\": 140,<br>  \"values\": [<br>    0.7564940452575684,<br>    0.6561237812042237,<br>    9.725370168685913<br>  ],<br>  \"params\": {<br>    \"mutation_method\": \"mutLinear\",<br>    \"mutation_prob\": 0.708936096314723,<br>    \"mutation_rate_start\": 0.2379127090136437,<br>    \"mutation_rate_end\": 0.7517194281298354,<br>    \"crossover_method\": \"cxUniform\",<br>    \"crossover_rate\": 0.20624891536810297,<br>    \"selection_method\": \"selTournament\",<br>    \"tournsize\": 3,<br>    \"elitism_rate\": 0.721555339611714,<br>    \"survival_rate\": 0.9316848253574584<br>  }<br>}",
          "{<br>  \"number\": 141,<br>  \"values\": [<br>    0.8534071445465088,<br>    0.807226026058197,<br>    9.929492473602295<br>  ],<br>  \"params\": {<br>    \"mutation_method\": \"mutConstant\",<br>    \"mutation_prob\": 0.7704964671175981,<br>    \"mutation_rate\": 0.05637388499471801,<br>    \"crossover_method\": \"cxUniform\",<br>    \"crossover_rate\": 0.177542000632245,<br>    \"selection_method\": \"selBest\",<br>    \"elitism_rate\": 0.5018715538210247,<br>    \"survival_rate\": 0.9749300355111757<br>  }<br>}",
          "{<br>  \"number\": 142,<br>  \"values\": [<br>    0.8140562772750854,<br>    0.7390016794204712,<br>    6.657668113708496<br>  ],<br>  \"params\": {<br>    \"mutation_method\": \"mutConstant\",<br>    \"mutation_prob\": 0.2020275922754523,<br>    \"mutation_rate\": 0.08938685234624323,<br>    \"crossover_method\": \"cxUniform\",<br>    \"crossover_rate\": 0.26125516669873194,<br>    \"selection_method\": \"selBest\",<br>    \"elitism_rate\": 0.8452598068828104,<br>    \"survival_rate\": 0.9996406386285033<br>  }<br>}",
          "{<br>  \"number\": 143,<br>  \"values\": [<br>    0.7892032265663147,<br>    0.7404499411582947,<br>    11.207138776779175<br>  ],<br>  \"params\": {<br>    \"mutation_method\": \"mutConstant\",<br>    \"mutation_prob\": 0.15755313090503215,<br>    \"mutation_rate\": 0.10955773389815715,<br>    \"crossover_method\": \"cxUniform\",<br>    \"crossover_rate\": 0.22710782647234956,<br>    \"selection_method\": \"selBest\",<br>    \"elitism_rate\": 0.35707085284442064,<br>    \"survival_rate\": 0.8785192739229075<br>  }<br>}",
          "{<br>  \"number\": 144,<br>  \"values\": [<br>    0.7640902996063232,<br>    0.712254548072815,<br>    7.419671297073364<br>  ],<br>  \"params\": {<br>    \"mutation_method\": \"mutConstant\",<br>    \"mutation_prob\": 0.7241843635026435,<br>    \"mutation_rate\": 0.018199561478181914,<br>    \"crossover_method\": \"cxUniform\",<br>    \"crossover_rate\": 0.2856036261880225,<br>    \"selection_method\": \"selTournament\",<br>    \"tournsize\": 6,<br>    \"elitism_rate\": 0.8178364193621562,<br>    \"survival_rate\": 0.02705095263629531<br>  }<br>}",
          "{<br>  \"number\": 145,<br>  \"values\": [<br>    0.8502579927444458,<br>    0.8110150933265686,<br>    11.192684412002563<br>  ],<br>  \"params\": {<br>    \"mutation_method\": \"mutConstant\",<br>    \"mutation_prob\": 0.6901662292247251,<br>    \"mutation_rate\": 0.05857047812088018,<br>    \"crossover_method\": \"cxUniform\",<br>    \"crossover_rate\": 0.1911484935106447,<br>    \"selection_method\": \"selBest\",<br>    \"elitism_rate\": 0.4410730473207901,<br>    \"survival_rate\": 0.9504777436888843<br>  }<br>}",
          "{<br>  \"number\": 146,<br>  \"values\": [<br>    0.7769181728363037,<br>    0.758759880065918,<br>    13.781190395355225<br>  ],<br>  \"params\": {<br>    \"mutation_method\": \"mutConstant\",<br>    \"mutation_prob\": 0.9235641780352376,<br>    \"mutation_rate\": 0.19090486411655774,<br>    \"crossover_method\": \"cxUniform\",<br>    \"crossover_rate\": 0.2532978129465676,<br>    \"selection_method\": \"selBoltzmann\",<br>    \"boltzmann_temperature\": 0.7513386154306315,<br>    \"elitism_rate\": 0.2792424207623191,<br>    \"survival_rate\": 0.8998430528218327<br>  }<br>}",
          "{<br>  \"number\": 147,<br>  \"values\": [<br>    0.6499607563018799,<br>    0.6284419775009156,<br>    6.8730714321136475<br>  ],<br>  \"params\": {<br>    \"mutation_method\": \"mutConstant\",<br>    \"mutation_prob\": 0.839068031811075,<br>    \"mutation_rate\": 0.028528931271290192,<br>    \"crossover_method\": \"cxUniform\",<br>    \"crossover_rate\": 0.16604734461998316,<br>    \"selection_method\": \"selTournament\",<br>    \"tournsize\": 5,<br>    \"elitism_rate\": 0.9550786375062114,<br>    \"survival_rate\": 0.8645689546478<br>  }<br>}",
          "{<br>  \"number\": 148,<br>  \"values\": [<br>    0.6552239656448364,<br>    0.6289979934692382,<br>    4.5899200439453125<br>  ],<br>  \"params\": {<br>    \"mutation_method\": \"mutConstant\",<br>    \"mutation_prob\": 0.09342523074107717,<br>    \"mutation_rate\": 0.08061762819582839,<br>    \"crossover_method\": \"cxUniform\",<br>    \"crossover_rate\": 0.21774228956593952,<br>    \"selection_method\": \"selBest\",<br>    \"elitism_rate\": 0.9068520624591808,<br>    \"survival_rate\": 0.7309420536067301<br>  }<br>}",
          "{<br>  \"number\": 149,<br>  \"values\": [<br>    0.7127889394760132,<br>    0.6413763642311097,<br>    9.263620376586914<br>  ],<br>  \"params\": {<br>    \"mutation_method\": \"mutEntropy\",<br>    \"mutation_prob\": 0.05306472137499052,<br>    \"mutation_rate_start\": 0.8560124824363075,<br>    \"mutation_rate_end\": 0.9354991626887188,<br>    \"crossover_method\": \"cxUniform\",<br>    \"crossover_rate\": 0.5816439337191244,<br>    \"selection_method\": \"selTournament\",<br>    \"tournsize\": 8,<br>    \"elitism_rate\": 0.518063191584979,<br>    \"survival_rate\": 0.8304535003535145<br>  }<br>}",
          "{<br>  \"number\": 150,<br>  \"values\": [<br>    0.5623332262039185,<br>    0.5247093558311462,<br>    7.132538318634033<br>  ],<br>  \"params\": {<br>    \"mutation_method\": \"mutConstant\",<br>    \"mutation_prob\": 0.8006422766067861,<br>    \"mutation_rate\": 0.8388893010714567,<br>    \"crossover_method\": \"cxTwoPoint\",<br>    \"crossover_rate\": 0.3642897484886621,<br>    \"crossover_points\": 4,<br>    \"selection_method\": \"selBest\",<br>    \"elitism_rate\": 0.9856189386112535,<br>    \"survival_rate\": 0.5527530164525629<br>  }<br>}",
          "{<br>  \"number\": 152,<br>  \"values\": [<br>    0.5712780356407166,<br>    0.5372369289398193,<br>    2.7684974670410156<br>  ],<br>  \"params\": {<br>    \"mutation_method\": \"mutConstant\",<br>    \"mutation_prob\": 0.8516038125203583,<br>    \"mutation_rate\": 0.004707599733353325,<br>    \"crossover_method\": \"cxUniform\",<br>    \"crossover_rate\": 0.11682712301590704,<br>    \"selection_method\": \"selTournament\",<br>    \"tournsize\": 7,<br>    \"elitism_rate\": 0.9670977516530175,<br>    \"survival_rate\": 0.9766119601366237<br>  }<br>}",
          "{<br>  \"number\": 153,<br>  \"values\": [<br>    0.5588280558586121,<br>    0.5336584448814392,<br>    8.400187492370605<br>  ],<br>  \"params\": {<br>    \"mutation_method\": \"mutConstant\",<br>    \"mutation_prob\": 0.8149579078256441,<br>    \"mutation_rate\": 0.9649992023567056,<br>    \"crossover_method\": \"cxOnePoint\",<br>    \"crossover_rate\": 0.1731123423900568,<br>    \"selection_method\": \"selStochasticUniversalSampling\",<br>    \"elitism_rate\": 0.9276536917983662,<br>    \"survival_rate\": 0.9686426143295007<br>  }<br>}",
          "{<br>  \"number\": 154,<br>  \"values\": [<br>    0.724901020526886,<br>    0.6845428109169006,<br>    8.109035015106201<br>  ],<br>  \"params\": {<br>    \"mutation_method\": \"mutConstant\",<br>    \"mutation_prob\": 0.7868331957428952,<br>    \"mutation_rate\": 0.018727663462298066,<br>    \"crossover_method\": \"cxUniform\",<br>    \"crossover_rate\": 0.19504936543772627,<br>    \"selection_method\": \"selTournament\",<br>    \"tournsize\": 2,<br>    \"elitism_rate\": 0.882463957238564,<br>    \"survival_rate\": 0.9337336074923638<br>  }<br>}",
          "{<br>  \"number\": 155,<br>  \"values\": [<br>    0.7835715413093567,<br>    0.7145975351333618,<br>    9.630924463272095<br>  ],<br>  \"params\": {<br>    \"mutation_method\": \"mutConstant\",<br>    \"mutation_prob\": 0.7641054997871337,<br>    \"mutation_rate\": 0.036071273546023935,<br>    \"crossover_method\": \"cxUniform\",<br>    \"crossover_rate\": 0.13870366907486628,<br>    \"selection_method\": \"selRoulette\",<br>    \"elitism_rate\": 0.7482096532838866,<br>    \"survival_rate\": 0.956050968923466<br>  }<br>}",
          "{<br>  \"number\": 156,<br>  \"values\": [<br>    0.8193671703338623,<br>    0.7626748442649841,<br>    11.092101812362671<br>  ],<br>  \"params\": {<br>    \"mutation_method\": \"mutConstant\",<br>    \"mutation_prob\": 0.7334780852603568,<br>    \"mutation_rate\": 0.0024981224124042277,<br>    \"crossover_method\": \"cxUniform\",<br>    \"crossover_rate\": 0.22398457213799364,<br>    \"selection_method\": \"selBest\",<br>    \"elitism_rate\": 0.10730031880580204,<br>    \"survival_rate\": 0.9039081530060735<br>  }<br>}",
          "{<br>  \"number\": 157,<br>  \"values\": [<br>    0.7015371322631836,<br>    0.6843278288841248,<br>    10.986972570419312<br>  ],<br>  \"params\": {<br>    \"mutation_method\": \"mutExponential\",<br>    \"mutation_prob\": 0.9659055461440796,<br>    \"mutation_rate_start\": 0.32778076309781495,<br>    \"mutation_rate_end\": 0.2111644432184029,<br>    \"mutation_rate_degree\": 1,<br>    \"crossover_method\": \"cxUniform\",<br>    \"crossover_rate\": 0.24285971608566156,<br>    \"selection_method\": \"selNormRoulette\",<br>    \"elitism_rate\": 0.5813395580250602,<br>    \"survival_rate\": 0.9243421604471876<br>  }<br>}",
          "{<br>  \"number\": 158,<br>  \"values\": [<br>    0.585026204586029,<br>    0.563994312286377,<br>    7.467326402664185<br>  ],<br>  \"params\": {<br>    \"mutation_method\": \"mutLinear\",<br>    \"mutation_prob\": 0.8767767156172301,<br>    \"mutation_rate_start\": 0.1318727841240891,<br>    \"mutation_rate_end\": 0.03287801435220861,<br>    \"crossover_method\": \"cxTwoPoint\",<br>    \"crossover_rate\": 0.7639495610652824,<br>    \"crossover_points\": 3,<br>    \"selection_method\": \"selRandom\",<br>    \"elitism_rate\": 0.943819931305983,<br>    \"survival_rate\": 0.6962786752275111<br>  }<br>}",
          "{<br>  \"number\": 159,<br>  \"values\": [<br>    0.8855192065238953,<br>    0.8121291995048523,<br>    12.866137981414795<br>  ],<br>  \"params\": {<br>    \"mutation_method\": \"mutEntropy\",<br>    \"mutation_prob\": 0.8125373612719221,<br>    \"mutation_rate_start\": 0.00032141554907549885,<br>    \"mutation_rate_end\": 0.46601530061827434,<br>    \"crossover_method\": \"cxUniform\",<br>    \"crossover_rate\": 0.04423389981428416,<br>    \"selection_method\": \"selTournament\",<br>    \"tournsize\": 5,<br>    \"elitism_rate\": 0.31963205421962226,<br>    \"survival_rate\": 0.7949956604437897<br>  }<br>}",
          "{<br>  \"number\": 160,<br>  \"values\": [<br>    0.8481228947639465,<br>    0.818397045135498,<br>    14.114709377288818<br>  ],<br>  \"params\": {<br>    \"mutation_method\": \"mutConstant\",<br>    \"mutation_prob\": 0.755655517144344,<br>    \"mutation_rate\": 0.10106782955636746,<br>    \"crossover_method\": \"cxUniform\",<br>    \"crossover_rate\": 0.47437089768437585,<br>    \"selection_method\": \"selBest\",<br>    \"elitism_rate\": 0.027369731806971553,<br>    \"survival_rate\": 0.09051199528388121<br>  }<br>}",
          "{<br>  \"number\": 161,<br>  \"values\": [<br>    0.8419916033744812,<br>    0.7778851747512817,<br>    9.826594829559326<br>  ],<br>  \"params\": {<br>    \"mutation_method\": \"mutConstant\",<br>    \"mutation_prob\": 0.7931098804844041,<br>    \"mutation_rate\": 0.05428058949941433,<br>    \"crossover_method\": \"cxUniform\",<br>    \"crossover_rate\": 0.18940394215794668,<br>    \"selection_method\": \"selTournament\",<br>    \"tournsize\": 6,<br>    \"elitism_rate\": 0.6738632885113481,<br>    \"survival_rate\": 0.9477653946680431<br>  }<br>}",
          "{<br>  \"number\": 162,<br>  \"values\": [<br>    0.7462373971939087,<br>    0.7045283913612366,<br>    10.114530086517334<br>  ],<br>  \"params\": {<br>    \"mutation_method\": \"mutConstant\",<br>    \"mutation_prob\": 0.7084434042154731,<br>    \"mutation_rate\": 0.39071613258883,<br>    \"crossover_method\": \"cxOnePoint\",<br>    \"crossover_rate\": 0.40299572568477154,<br>    \"selection_method\": \"selTournament\",<br>    \"tournsize\": 6,<br>    \"elitism_rate\": 0.4704300371355179,<br>    \"survival_rate\": 0.8803419108411118<br>  }<br>}",
          "{<br>  \"number\": 163,<br>  \"values\": [<br>    0.8487569093704224,<br>    0.770827567577362,<br>    8.132323741912842<br>  ],<br>  \"params\": {<br>    \"mutation_method\": \"mutConstant\",<br>    \"mutation_prob\": 0.6797320287243053,<br>    \"mutation_rate\": 0.12680921895707212,<br>    \"crossover_method\": \"cxUniform\",<br>    \"crossover_rate\": 0.16149408447444952,<br>    \"selection_method\": \"selBest\",<br>    \"elitism_rate\": 0.5467942143365707,<br>    \"survival_rate\": 0.1787881892987157<br>  }<br>}",
          "{<br>  \"number\": 164,<br>  \"values\": [<br>    0.8499248027801514,<br>    0.7813852906227112,<br>    13.630631685256958<br>  ],<br>  \"params\": {<br>    \"mutation_method\": \"mutConstant\",<br>    \"mutation_prob\": 0.7435578914866043,<br>    \"mutation_rate\": 0.04576352299083564,<br>    \"crossover_method\": \"cxUniform\",<br>    \"crossover_rate\": 0.5339839095150075,<br>    \"selection_method\": \"selBoltzmann\",<br>    \"boltzmann_temperature\": 0.2895622191016639,<br>    \"elitism_rate\": 0.16744104248861372,<br>    \"survival_rate\": 0.8469637876282594<br>  }<br>}",
          "{<br>  \"number\": 165,<br>  \"values\": [<br>    0.7552635073661804,<br>    0.7177905678749085,<br>    13.259012699127197<br>  ],<br>  \"params\": {<br>    \"mutation_method\": \"mutConstant\",<br>    \"mutation_prob\": 0.7717400841784877,<br>    \"mutation_rate\": 0.4195259660218466,<br>    \"crossover_method\": \"cxUniform\",<br>    \"crossover_rate\": 0.0850773850821489,<br>    \"selection_method\": \"selTournament\",<br>    \"tournsize\": 7,<br>    \"elitism_rate\": 0.23553937619163276,<br>    \"survival_rate\": 0.9649369197979721<br>  }<br>}",
          "{<br>  \"number\": 166,<br>  \"values\": [<br>    0.587949812412262,<br>    0.5620612025260925,<br>    8.27386212348938<br>  ],<br>  \"params\": {<br>    \"mutation_method\": \"mutExponential\",<br>    \"mutation_prob\": 0.8172998310433176,<br>    \"mutation_rate_start\": 0.802341592620429,<br>    \"mutation_rate_end\": 0.6675015878694701,<br>    \"mutation_rate_degree\": 2,<br>    \"crossover_method\": \"cxTwoPoint\",<br>    \"crossover_rate\": 0.20497239671363074,<br>    \"crossover_points\": 2,<br>    \"selection_method\": \"selBest\",<br>    \"elitism_rate\": 0.8619616992845752,<br>    \"survival_rate\": 0.9021174070408442<br>  }<br>}",
          "{<br>  \"number\": 167,<br>  \"values\": [<br>    0.8420442342758179,<br>    0.7780998468399047,<br>    7.90504264831543<br>  ],<br>  \"params\": {<br>    \"mutation_method\": \"mutConstant\",<br>    \"mutation_prob\": 0.7242928218073069,<br>    \"mutation_rate\": 0.14761289033391004,<br>    \"crossover_method\": \"cxUniform\",<br>    \"crossover_rate\": 0.6867339983285092,<br>    \"selection_method\": \"selTournament\",<br>    \"tournsize\": 8,<br>    \"elitism_rate\": 0.6159385069128923,<br>    \"survival_rate\": 0.41079749738748667<br>  }<br>}",
          "{<br>  \"number\": 168,<br>  \"values\": [<br>    0.5946351289749146,<br>    0.5680109977722168,<br>    7.855188369750977<br>  ],<br>  \"params\": {<br>    \"mutation_method\": \"mutLinear\",<br>    \"mutation_prob\": 0.7539006631451932,<br>    \"mutation_rate_start\": 0.632632282304864,<br>    \"mutation_rate_end\": 0.8164157830051889,<br>    \"crossover_method\": \"cxUniform\",<br>    \"crossover_rate\": 0.8046164712881595,<br>    \"selection_method\": \"selStochasticUniversalSampling\",<br>    \"elitism_rate\": 0.7692517313806821,<br>    \"survival_rate\": 0.4460996383425986<br>  }<br>}",
          "{<br>  \"number\": 169,<br>  \"values\": [<br>    0.825075626373291,<br>    0.7692519307136536,<br>    11.55194878578186<br>  ],<br>  \"params\": {<br>    \"mutation_method\": \"mutEntropy\",<br>    \"mutation_prob\": 0.7840310484321401,<br>    \"mutation_rate_start\": 0.5497566898234393,<br>    \"mutation_rate_end\": 0.13178324346536607,<br>    \"crossover_method\": \"cxUniform\",<br>    \"crossover_rate\": 0.12435147236669683,<br>    \"selection_method\": \"selTournament\",<br>    \"tournsize\": 4,<br>    \"elitism_rate\": 0.5700073877316637,<br>    \"survival_rate\": 0.8625073315656175<br>  }<br>}",
          "{<br>  \"number\": 170,<br>  \"values\": [<br>    0.56929612159729,<br>    0.5407845497131347,<br>    7.813166618347168<br>  ],<br>  \"params\": {<br>    \"mutation_method\": \"mutConstant\",<br>    \"mutation_prob\": 0.9973121589233953,<br>    \"mutation_rate\": 0.07378428505215426,<br>    \"crossover_method\": \"cxOnePoint\",<br>    \"crossover_rate\": 0.2684093910586136,<br>    \"selection_method\": \"selRoulette\",<br>    \"elitism_rate\": 0.9758811754054877,<br>    \"survival_rate\": 0.9318236801187646<br>  }<br>}",
          "{<br>  \"number\": 171,<br>  \"values\": [<br>    0.6137763261795044,<br>    0.57413090467453,<br>    8.104165077209473<br>  ],<br>  \"params\": {<br>    \"mutation_method\": \"mutConstant\",<br>    \"mutation_prob\": 0.5436851337639316,<br>    \"mutation_rate\": 0.6253777151667124,<br>    \"crossover_method\": \"cxTwoPoint\",<br>    \"crossover_rate\": 0.44315530847591794,<br>    \"crossover_points\": 3,<br>    \"selection_method\": \"selBest\",<br>    \"elitism_rate\": 0.9109391998245673,<br>    \"survival_rate\": 0.8883537111945746<br>  }<br>}",
          "{<br>  \"number\": 172,<br>  \"values\": [<br>    0.6940164566040039,<br>    0.6579868197441101,<br>    8.217258214950562<br>  ],<br>  \"params\": {<br>    \"mutation_method\": \"mutConstant\",<br>    \"mutation_prob\": 0.7004002993703802,<br>    \"mutation_rate\": 0.31991495611389953,<br>    \"crossover_method\": \"cxUniform\",<br>    \"crossover_rate\": 0.21454020512679126,<br>    \"selection_method\": \"selTournament\",<br>    \"tournsize\": 7,<br>    \"elitism_rate\": 0.8938680724651619,<br>    \"survival_rate\": 0.8170419629490667<br>  }<br>}",
          "{<br>  \"number\": 173,<br>  \"values\": [<br>    0.8018476366996765,<br>    0.7841417670249939,<br>    8.577054262161255<br>  ],<br>  \"params\": {<br>    \"mutation_method\": \"mutConstant\",<br>    \"mutation_prob\": 0.36622954685951375,<br>    \"mutation_rate\": 0.06724365811377231,<br>    \"crossover_method\": \"cxUniform\",<br>    \"crossover_rate\": 0.23673488805833087,<br>    \"selection_method\": \"selBest\",<br>    \"elitism_rate\": 0.5935709856685664,<br>    \"survival_rate\": 0.3754396659719057<br>  }<br>}",
          "{<br>  \"number\": 174,<br>  \"values\": [<br>    0.7315923571586609,<br>    0.6805294990539551,<br>    7.142976522445679<br>  ],<br>  \"params\": {<br>    \"mutation_method\": \"mutConstant\",<br>    \"mutation_prob\": 0.8420521981452738,<br>    \"mutation_rate\": 0.10353132801215209,<br>    \"crossover_method\": \"cxUniform\",<br>    \"crossover_rate\": 0.17843020331552914,<br>    \"selection_method\": \"selRandom\",<br>    \"elitism_rate\": 0.6985977409444768,<br>    \"survival_rate\": 0.002925436902911027<br>  }<br>}",
          "{<br>  \"number\": 175,<br>  \"values\": [<br>    0.6630094051361084,<br>    0.6015054106712341,<br>    7.215134382247925<br>  ],<br>  \"params\": {<br>    \"mutation_method\": \"mutConstant\",<br>    \"mutation_prob\": 0.4493420100050826,<br>    \"mutation_rate\": 0.6829384126433355,<br>    \"crossover_method\": \"cxUniform\",<br>    \"crossover_rate\": 0.825274029256645,<br>    \"selection_method\": \"selTournament\",<br>    \"tournsize\": 8,<br>    \"elitism_rate\": 0.6476068092468079,<br>    \"survival_rate\": 0.12815761586251706<br>  }<br>}",
          "{<br>  \"number\": 176,<br>  \"values\": [<br>    0.6385305523872375,<br>    0.6105479240417481,<br>    5.363036632537842<br>  ],<br>  \"params\": {<br>    \"mutation_method\": \"mutConstant\",<br>    \"mutation_prob\": 0.7470670230263776,<br>    \"mutation_rate\": 0.08892847225617047,<br>    \"crossover_method\": \"cxTwoPoint\",<br>    \"crossover_rate\": 0.25103420335110865,<br>    \"crossover_points\": 3,<br>    \"selection_method\": \"selNormRoulette\",<br>    \"elitism_rate\": 0.9358058154625654,<br>    \"survival_rate\": 0.9898911338744345<br>  }<br>}",
          "{<br>  \"number\": 177,<br>  \"values\": [<br>    0.6036298871040344,<br>    0.5855995297431946,<br>    15.369373559951782<br>  ],<br>  \"params\": {<br>    \"mutation_method\": \"mutExponential\",<br>    \"mutation_prob\": 0.6562526401152526,<br>    \"mutation_rate_start\": 0.5008663795235728,<br>    \"mutation_rate_end\": 0.964656431974935,<br>    \"mutation_rate_degree\": 3,<br>    \"crossover_method\": \"cxUniform\",<br>    \"crossover_rate\": 0.19860331335651255,<br>    \"selection_method\": \"selTournament\",<br>    \"tournsize\": 1,<br>    \"elitism_rate\": 0.07093975640168781,<br>    \"survival_rate\": 0.4960679759830351<br>  }<br>}",
          "{<br>  \"number\": 178,<br>  \"values\": [<br>    0.8389024138450623,<br>    0.7825105309486389,<br>    9.985116004943848<br>  ],<br>  \"params\": {<br>    \"mutation_method\": \"mutConstant\",<br>    \"mutation_prob\": 0.7777801634616337,<br>    \"mutation_rate\": 0.02230278708334412,<br>    \"crossover_method\": \"cxUniform\",<br>    \"crossover_rate\": 0.22685027774294603,<br>    \"selection_method\": \"selBest\",<br>    \"elitism_rate\": 0.4847210659871929,<br>    \"survival_rate\": 0.9992342608053152<br>  }<br>}",
          "{<br>  \"number\": 179,<br>  \"values\": [<br>    0.7558532357215881,<br>    0.6934648871421814,<br>    11.113600254058838<br>  ],<br>  \"params\": {<br>    \"mutation_method\": \"mutLinear\",<br>    \"mutation_prob\": 0.7169413200767007,<br>    \"mutation_rate_start\": 0.30509423029669896,<br>    \"mutation_rate_end\": 0.6120682120115115,<br>    \"crossover_method\": \"cxUniform\",<br>    \"crossover_rate\": 0.15883054700705013,<br>    \"selection_method\": \"selBoltzmann\",<br>    \"boltzmann_temperature\": 0.8033785765596722,<br>    \"elitism_rate\": 0.4229032143412984,<br>    \"survival_rate\": 0.8851635149036771<br>  }<br>}",
          "{<br>  \"number\": 181,<br>  \"values\": [<br>    0.6968963146209717,<br>    0.6601797699928283,<br>    3.8396377563476562<br>  ],<br>  \"params\": {<br>    \"mutation_method\": \"mutConstant\",<br>    \"mutation_prob\": 0.8630036914263552,<br>    \"mutation_rate\": 0.04542531989750149,<br>    \"crossover_method\": \"cxOnePoint\",<br>    \"crossover_rate\": 0.4052076753869854,<br>    \"selection_method\": \"selBest\",<br>    \"elitism_rate\": 0.9835369208882347,<br>    \"survival_rate\": 0.9670050465872508<br>  }<br>}",
          "{<br>  \"number\": 186,<br>  \"values\": [<br>    0.784367024898529,<br>    0.7300968885421752,<br>    5.41038966178894<br>  ],<br>  \"params\": {<br>    \"mutation_method\": \"mutConstant\",<br>    \"mutation_prob\": 0.921118034208254,<br>    \"mutation_rate\": 0.019111977193534427,<br>    \"crossover_method\": \"cxOnePoint\",<br>    \"crossover_rate\": 0.3703675824138636,<br>    \"selection_method\": \"selBest\",<br>    \"elitism_rate\": 0.8286163613340749,<br>    \"survival_rate\": 0.596766693398192<br>  }<br>}",
          "{<br>  \"number\": 188,<br>  \"values\": [<br>    0.669679582118988,<br>    0.6245637893676758,<br>    2.3509840965270996<br>  ],<br>  \"params\": {<br>    \"mutation_method\": \"mutConstant\",<br>    \"mutation_prob\": 0.895868909276588,<br>    \"mutation_rate\": 0.0050166897610326895,<br>    \"crossover_method\": \"cxOnePoint\",<br>    \"crossover_rate\": 0.3379070747077897,<br>    \"selection_method\": \"selBest\",<br>    \"elitism_rate\": 0.9530196491829362,<br>    \"survival_rate\": 0.9818690097424515<br>  }<br>}",
          "{<br>  \"number\": 190,<br>  \"values\": [<br>    0.7620771527290344,<br>    0.7199794888496399,<br>    4.846604824066162<br>  ],<br>  \"params\": {<br>    \"mutation_method\": \"mutConstant\",<br>    \"mutation_prob\": 0.9696967203120522,<br>    \"mutation_rate\": 0.024872877364665622,<br>    \"crossover_method\": \"cxOnePoint\",<br>    \"crossover_rate\": 0.36139506948135275,<br>    \"selection_method\": \"selBest\",<br>    \"elitism_rate\": 0.9599695462896422,<br>    \"survival_rate\": 0.9986794109789048<br>  }<br>}",
          "{<br>  \"number\": 192,<br>  \"values\": [<br>    0.6890486478805542,<br>    0.5947172522544861,<br>    2.097076177597046<br>  ],<br>  \"params\": {<br>    \"mutation_method\": \"mutConstant\",<br>    \"mutation_prob\": 0.9288419999322567,<br>    \"mutation_rate\": 0.0017708570645343091,<br>    \"crossover_method\": \"cxOnePoint\",<br>    \"crossover_rate\": 0.3929805960210541,<br>    \"selection_method\": \"selBest\",<br>    \"elitism_rate\": 0.9187264303117161,<br>    \"survival_rate\": 0.9800042317191622<br>  }<br>}",
          "{<br>  \"number\": 196,<br>  \"values\": [<br>    0.6755014657974243,<br>    0.6469186186790467,<br>    5.539141654968262<br>  ],<br>  \"params\": {<br>    \"mutation_method\": \"mutConstant\",<br>    \"mutation_prob\": 0.8873818335812617,<br>    \"mutation_rate\": 0.5090646484300313,<br>    \"crossover_method\": \"cxOnePoint\",<br>    \"crossover_rate\": 0.35353911888473616,<br>    \"selection_method\": \"selBest\",<br>    \"elitism_rate\": 0.9120233835260915,<br>    \"survival_rate\": 0.9991150470395888<br>  }<br>}",
          "{<br>  \"number\": 199,<br>  \"values\": [<br>    0.5693527460098267,<br>    0.5250326752662658,<br>    0.8787951469421387<br>  ],<br>  \"params\": {<br>    \"mutation_method\": \"mutConstant\",<br>    \"mutation_prob\": 0.9145845512146288,<br>    \"mutation_rate\": 0.00018895756331584277,<br>    \"crossover_method\": \"cxOnePoint\",<br>    \"crossover_rate\": 0.3761245411705998,<br>    \"selection_method\": \"selBest\",<br>    \"elitism_rate\": 0.9011946131972496,<br>    \"survival_rate\": 0.9720358804151373<br>  }<br>}"
         ],
         "type": "scatter",
         "x": [
          0.5299442410469055,
          0.6026304960250854,
          0.6563820242881775,
          0.818134605884552,
          0.6569432616233826,
          0.7581605911254883,
          0.6108515858650208,
          0.5438743829727173,
          0.6804086565971375,
          0.767907977104187,
          0.76732337474823,
          0.6832256317138672,
          0.5222430229187012,
          0.6813010573387146,
          0.7907454371452332,
          0.6903026700019836,
          0.6069177985191345,
          0.8395792245864868,
          0.8308054804801941,
          0.7670469284057617,
          0.5486484169960022,
          0.5824716091156006,
          0.7679969668388367,
          0.7729471921920776,
          0.6052874326705933,
          0.6101658940315247,
          0.7990807294845581,
          0.6902449131011963,
          0.533074140548706,
          0.6361677646636963,
          0.6129070520401001,
          0.8208284378051758,
          0.7668366432189941,
          0.5576106309890747,
          0.6837390065193176,
          0.8264716863632202,
          0.5762501955032349,
          0.6365219950675964,
          0.5935354232788086,
          0.7232884764671326,
          0.5917640328407288,
          0.7242881655693054,
          0.7486201524734497,
          0.8573745489120483,
          0.8650826215744019,
          0.6909237504005432,
          0.7500684261322021,
          0.7621884346008301,
          0.7918167114257812,
          0.6980844736099243,
          0.8333197832107544,
          0.8692777156829834,
          0.7243697643280029,
          0.7580796480178833,
          0.69142746925354,
          0.591215193271637,
          0.7047635316848755,
          0.664401113986969,
          0.5417815446853638,
          0.7137970924377441,
          0.7423235177993774,
          0.7786968946456909,
          0.8374745845794678,
          0.5538285374641418,
          0.5844070911407471,
          0.5925326943397522,
          0.6962236762046814,
          0.5760484933853149,
          0.6379641890525818,
          0.5286989808082581,
          0.7526695132255554,
          0.8624998331069946,
          0.8872778415679932,
          0.8618898987770081,
          0.8608505725860596,
          0.8873186111450195,
          0.7244789600372314,
          0.8670804500579834,
          0.8427196741104126,
          0.60161954164505,
          0.8242324590682983,
          0.6371427178382874,
          0.7762359380722046,
          0.7375279664993286,
          0.787883460521698,
          0.5488332509994507,
          0.785000205039978,
          0.8656853437423706,
          0.8144384622573853,
          0.5985336899757385,
          0.6095179915428162,
          0.8515413999557495,
          0.7295569181442261,
          0.7557958960533142,
          0.7143161296844482,
          0.8552659749984741,
          0.7075375914573669,
          0.703630805015564,
          0.7372389435768127,
          0.6796737909317017,
          0.8697941303253174,
          0.7744708061218262,
          0.8525139689445496,
          0.7644667625427246,
          0.7650972604751587,
          0.6937138438224792,
          0.7485284805297852,
          0.8119908571243286,
          0.7452239990234375,
          0.6250601410865784,
          0.6872473955154419,
          0.8136813640594482,
          0.702701985836029,
          0.6209492087364197,
          0.7780280113220215,
          0.7816976308822632,
          0.8405024409294128,
          0.8382444381713867,
          0.8133363723754883,
          0.7136715650558472,
          0.6761409640312195,
          0.7537811994552612,
          0.7127809524536133,
          0.5969163179397583,
          0.6473578214645386,
          0.5222430229187012,
          0.5222430229187012,
          0.644752562046051,
          0.7341532707214355,
          0.6314542293548584,
          0.8244102001190186,
          0.7564940452575684,
          0.8534071445465088,
          0.8140562772750854,
          0.7892032265663147,
          0.7640902996063232,
          0.8502579927444458,
          0.7769181728363037,
          0.6499607563018799,
          0.6552239656448364,
          0.7127889394760132,
          0.5623332262039185,
          0.5712780356407166,
          0.5588280558586121,
          0.724901020526886,
          0.7835715413093567,
          0.8193671703338623,
          0.7015371322631836,
          0.585026204586029,
          0.8855192065238953,
          0.8481228947639465,
          0.8419916033744812,
          0.7462373971939087,
          0.8487569093704224,
          0.8499248027801514,
          0.7552635073661804,
          0.587949812412262,
          0.8420442342758179,
          0.5946351289749146,
          0.825075626373291,
          0.56929612159729,
          0.6137763261795044,
          0.6940164566040039,
          0.8018476366996765,
          0.7315923571586609,
          0.6630094051361084,
          0.6385305523872375,
          0.6036298871040344,
          0.8389024138450623,
          0.7558532357215881,
          0.6968963146209717,
          0.784367024898529,
          0.669679582118988,
          0.7620771527290344,
          0.6890486478805542,
          0.6755014657974243,
          0.5693527460098267
         ],
         "y": [
          0.4982863306999207,
          0.5805169343948364,
          0.5904802918434143,
          0.7648661494255066,
          0.6014132142066956,
          0.6731084823608399,
          0.5978142976760864,
          0.523196530342102,
          0.6434842228889466,
          0.742623794078827,
          0.7065917015075683,
          0.6345887660980225,
          0.5076983451843262,
          0.6507925271987915,
          0.75472172498703,
          0.6463760018348694,
          0.5779878735542298,
          0.7878612875938416,
          0.7715441584587097,
          0.7171781659126282,
          0.5330130457878113,
          0.5162872433662414,
          0.7125959396362305,
          0.697440242767334,
          0.5585859775543213,
          0.5827593326568603,
          0.7601740837097168,
          0.6584548830986023,
          0.5020869135856628,
          0.5857226133346558,
          0.58589688539505,
          0.7889212846755982,
          0.7219496011734009,
          0.5355578780174255,
          0.6683830499649048,
          0.7930272698402405,
          0.5416767477989197,
          0.5792543411254882,
          0.5666745066642761,
          0.6599147200584412,
          0.5744365930557251,
          0.7057913064956665,
          0.7137616634368896,
          0.7862641930580139,
          0.8021474599838256,
          0.6447667837142944,
          0.7125379800796509,
          0.7141341805458069,
          0.7244485139846801,
          0.6521105885505676,
          0.793281078338623,
          0.7756580710411072,
          0.7019487619400024,
          0.7063711285591125,
          0.6631678342819214,
          0.574392294883728,
          0.6597479820251465,
          0.634699821472168,
          0.5014139175415039,
          0.6440411925315856,
          0.7156306266784668,
          0.756228768825531,
          0.7757434844970703,
          0.5171374559402466,
          0.535198175907135,
          0.5649633765220642,
          0.6395657539367676,
          0.552339243888855,
          0.5875467658042908,
          0.5028066396713257,
          0.7094979882240295,
          0.7595485568046569,
          0.810823404788971,
          0.8128230690956115,
          0.8328556537628173,
          0.8130439996719361,
          0.6851771116256714,
          0.8030961036682129,
          0.8100426435470581,
          0.5521320581436158,
          0.7697979569435119,
          0.6026830315589905,
          0.7039140582084655,
          0.6734021544456482,
          0.7551933169364929,
          0.5233053207397461,
          0.7320003747940064,
          0.8271149516105651,
          0.7797468185424805,
          0.5813653469085693,
          0.5769115805625915,
          0.7729399085044861,
          0.7139707326889038,
          0.6944842100143432,
          0.6924257636070251,
          0.8195011258125305,
          0.656189751625061,
          0.6377573728561401,
          0.7100221037864685,
          0.6543216466903686,
          0.8079589486122132,
          0.7353510737419129,
          0.7977709889411926,
          0.6970188856124878,
          0.7289986371994018,
          0.6707345604896545,
          0.6767004251480102,
          0.7695672512054443,
          0.7207557559013367,
          0.5917785882949829,
          0.6718847870826721,
          0.7598564863204956,
          0.6567657589912415,
          0.5881105065345764,
          0.7316186547279357,
          0.7352604389190673,
          0.7929819822311401,
          0.7908034563064575,
          0.785739541053772,
          0.6775544643402099,
          0.6386338949203492,
          0.7254857540130615,
          0.6872129201889038,
          0.5469732642173767,
          0.6171535849571228,
          0.4782281994819641,
          0.4991493821144104,
          0.5374748229980468,
          0.6870513916015625,
          0.5683303713798523,
          0.7887337327003479,
          0.6561237812042237,
          0.807226026058197,
          0.7390016794204712,
          0.7404499411582947,
          0.712254548072815,
          0.8110150933265686,
          0.758759880065918,
          0.6284419775009156,
          0.6289979934692382,
          0.6413763642311097,
          0.5247093558311462,
          0.5372369289398193,
          0.5336584448814392,
          0.6845428109169006,
          0.7145975351333618,
          0.7626748442649841,
          0.6843278288841248,
          0.563994312286377,
          0.8121291995048523,
          0.818397045135498,
          0.7778851747512817,
          0.7045283913612366,
          0.770827567577362,
          0.7813852906227112,
          0.7177905678749085,
          0.5620612025260925,
          0.7780998468399047,
          0.5680109977722168,
          0.7692519307136536,
          0.5407845497131347,
          0.57413090467453,
          0.6579868197441101,
          0.7841417670249939,
          0.6805294990539551,
          0.6015054106712341,
          0.6105479240417481,
          0.5855995297431946,
          0.7825105309486389,
          0.6934648871421814,
          0.6601797699928283,
          0.7300968885421752,
          0.6245637893676758,
          0.7199794888496399,
          0.5947172522544861,
          0.6469186186790467,
          0.5250326752662658
         ]
        },
        {
         "hovertemplate": "%{text}<extra>Best Trial</extra>",
         "marker": {
          "color": [
           75,
           76,
           81,
           82,
           93,
           117,
           118,
           120,
           123,
           151,
           180,
           182,
           183,
           184,
           185,
           187,
           189,
           191,
           193,
           194,
           195,
           197,
           198
          ],
          "colorbar": {
           "title": {
            "text": "Best Trial"
           },
           "x": 1.1,
           "xpad": 40
          },
          "colorscale": [
           [
            0,
            "rgb(255,245,240)"
           ],
           [
            0.125,
            "rgb(254,224,210)"
           ],
           [
            0.25,
            "rgb(252,187,161)"
           ],
           [
            0.375,
            "rgb(252,146,114)"
           ],
           [
            0.5,
            "rgb(251,106,74)"
           ],
           [
            0.625,
            "rgb(239,59,44)"
           ],
           [
            0.75,
            "rgb(203,24,29)"
           ],
           [
            0.875,
            "rgb(165,15,21)"
           ],
           [
            1,
            "rgb(103,0,13)"
           ]
          ],
          "line": {
           "color": "Grey",
           "width": 0.5
          }
         },
         "mode": "markers",
         "showlegend": false,
         "text": [
          "{<br>  \"number\": 75,<br>  \"values\": [<br>    0.8854624629020691,<br>    0.8540900826454163,<br>    9.794409990310669<br>  ],<br>  \"params\": {<br>    \"mutation_method\": \"mutConstant\",<br>    \"mutation_prob\": 0.6598763850840953,<br>    \"mutation_rate\": 0.03628406307181536,<br>    \"crossover_method\": \"cxUniform\",<br>    \"crossover_rate\": 0.8233794193061796,<br>    \"selection_method\": \"selBest\",<br>    \"elitism_rate\": 0.18454432510062468,<br>    \"survival_rate\": 0.9054792845094493<br>  }<br>}",
          "{<br>  \"number\": 76,<br>  \"values\": [<br>    0.923918604850769,<br>    0.8276800394058228,<br>    9.992426872253418<br>  ],<br>  \"params\": {<br>    \"mutation_method\": \"mutConstant\",<br>    \"mutation_prob\": 0.6673931232243625,<br>    \"mutation_rate\": 0.10391134148676051,<br>    \"crossover_method\": \"cxUniform\",<br>    \"crossover_rate\": 0.8081836775325513,<br>    \"selection_method\": \"selTournament\",<br>    \"tournsize\": 8,<br>    \"elitism_rate\": 0.2117669369786903,<br>    \"survival_rate\": 0.8185897951100862<br>  }<br>}",
          "{<br>  \"number\": 81,<br>  \"values\": [<br>    0.8064058423042297,<br>    0.7468477725982666,<br>    5.288511037826538<br>  ],<br>  \"params\": {<br>    \"mutation_method\": \"mutConstant\",<br>    \"mutation_prob\": 0.6931128163924014,<br>    \"mutation_rate\": 0.044268525734875705,<br>    \"crossover_method\": \"cxUniform\",<br>    \"crossover_rate\": 0.3282215429079543,<br>    \"selection_method\": \"selBest\",<br>    \"elitism_rate\": 0.9335209624306304,<br>    \"survival_rate\": 0.9553365619742651<br>  }<br>}",
          "{<br>  \"number\": 82,<br>  \"values\": [<br>    0.7905995845794678,<br>    0.7511340498924255,<br>    4.940675497055054<br>  ],<br>  \"params\": {<br>    \"mutation_method\": \"mutConstant\",<br>    \"mutation_prob\": 0.6998485257683061,<br>    \"mutation_rate\": 0.04225174825966995,<br>    \"crossover_method\": \"cxUniform\",<br>    \"crossover_rate\": 0.36930267119114585,<br>    \"selection_method\": \"selBest\",<br>    \"elitism_rate\": 0.9472577615695945,<br>    \"survival_rate\": 0.956374611798376<br>  }<br>}",
          "{<br>  \"number\": 93,<br>  \"values\": [<br>    0.8951467275619507,<br>    0.8444380044937134,<br>    7.515658140182495<br>  ],<br>  \"params\": {<br>    \"mutation_method\": \"mutConstant\",<br>    \"mutation_prob\": 0.7487182245382854,<br>    \"mutation_rate\": 0.10050319769132943,<br>    \"crossover_method\": \"cxUniform\",<br>    \"crossover_rate\": 0.22362890067395697,<br>    \"selection_method\": \"selTournament\",<br>    \"tournsize\": 6,<br>    \"elitism_rate\": 0.5981089702239115,<br>    \"survival_rate\": 0.8716464989024215<br>  }<br>}",
          "{<br>  \"number\": 117,<br>  \"values\": [<br>    0.8540976047515869,<br>    0.7924973845481873,<br>    7.145756006240845<br>  ],<br>  \"params\": {<br>    \"mutation_method\": \"mutConstant\",<br>    \"mutation_prob\": 0.5429230961301623,<br>    \"mutation_rate\": 0.06512821343611891,<br>    \"crossover_method\": \"cxTwoPoint\",<br>    \"crossover_rate\": 0.3813700279848192,<br>    \"crossover_points\": 3,<br>    \"selection_method\": \"selTournament\",<br>    \"tournsize\": 8,<br>    \"elitism_rate\": 0.5854733447058508,<br>    \"survival_rate\": 0.890664820913173<br>  }<br>}",
          "{<br>  \"number\": 118,<br>  \"values\": [<br>    0.8613600134849548,<br>    0.7914595007896423,<br>    6.7430579662323<br>  ],<br>  \"params\": {<br>    \"mutation_method\": \"mutConstant\",<br>    \"mutation_prob\": 0.7121096995753994,<br>    \"mutation_rate\": 0.07055696288480454,<br>    \"crossover_method\": \"cxTwoPoint\",<br>    \"crossover_rate\": 0.11960465413496205,<br>    \"crossover_points\": 3,<br>    \"selection_method\": \"selTournament\",<br>    \"tournsize\": 7,<br>    \"elitism_rate\": 0.7287903731598115,<br>    \"survival_rate\": 0.9477862586003798<br>  }<br>}",
          "{<br>  \"number\": 120,<br>  \"values\": [<br>    0.8902074098587036,<br>    0.7915812492370605,<br>    7.397045135498047<br>  ],<br>  \"params\": {<br>    \"mutation_method\": \"mutConstant\",<br>    \"mutation_prob\": 0.784767435882427,<br>    \"mutation_rate\": 0.03096251118799108,<br>    \"crossover_method\": \"cxTwoPoint\",<br>    \"crossover_rate\": 0.1760857119541675,<br>    \"crossover_points\": 4,<br>    \"selection_method\": \"selTournament\",<br>    \"tournsize\": 7,<br>    \"elitism_rate\": 0.5115734825118949,<br>    \"survival_rate\": 0.9491199137076598<br>  }<br>}",
          "{<br>  \"number\": 123,<br>  \"values\": [<br>    0.8547669649124146,<br>    0.7676729679107666,<br>    5.673705577850342<br>  ],<br>  \"params\": {<br>    \"mutation_method\": \"mutConstant\",<br>    \"mutation_prob\": 0.7871981419439681,<br>    \"mutation_rate\": 0.07022576316568384,<br>    \"crossover_method\": \"cxUniform\",<br>    \"crossover_rate\": 0.11981382337068133,<br>    \"selection_method\": \"selBest\",<br>    \"elitism_rate\": 0.838298700916809,<br>    \"survival_rate\": 0.8679687290621243<br>  }<br>}",
          "{<br>  \"number\": 151,<br>  \"values\": [<br>    0.7477208971977234,<br>    0.6323667287826538,<br>    3.4655237197875977<br>  ],<br>  \"params\": {<br>    \"mutation_method\": \"mutConstant\",<br>    \"mutation_prob\": 0.8147767074674013,<br>    \"mutation_rate\": 0.003927515790687543,<br>    \"crossover_method\": \"cxUniform\",<br>    \"crossover_rate\": 0.1932673913847286,<br>    \"selection_method\": \"selBest\",<br>    \"elitism_rate\": 0.9310667056840607,<br>    \"survival_rate\": 0.9533227018465018<br>  }<br>}",
          "{<br>  \"number\": 180,<br>  \"values\": [<br>    0.9025082588195801,<br>    0.8458395004272461,<br>    7.744183540344238<br>  ],<br>  \"params\": {<br>    \"mutation_method\": \"mutConstant\",<br>    \"mutation_prob\": 0.8055855520791119,<br>    \"mutation_rate\": 0.05098339381437001,<br>    \"crossover_method\": \"cxOnePoint\",<br>    \"crossover_rate\": 0.37567396654607194,<br>    \"selection_method\": \"selTournament\",<br>    \"tournsize\": 5,<br>    \"elitism_rate\": 0.5228290412795907,<br>    \"survival_rate\": 0.5995201050273067<br>  }<br>}",
          "{<br>  \"number\": 182,<br>  \"values\": [<br>    0.6953625082969666,<br>    0.6800897717475891,<br>    3.4773764610290527<br>  ],<br>  \"params\": {<br>    \"mutation_method\": \"mutConstant\",<br>    \"mutation_prob\": 0.8817152691538593,<br>    \"mutation_rate\": 0.016742856830051556,<br>    \"crossover_method\": \"cxOnePoint\",<br>    \"crossover_rate\": 0.3528018631499808,<br>    \"selection_method\": \"selBest\",<br>    \"elitism_rate\": 0.9725750337250829,<br>    \"survival_rate\": 0.9708041358079065<br>  }<br>}",
          "{<br>  \"number\": 183,<br>  \"values\": [<br>    0.7679356336593628,<br>    0.6987065434455871,<br>    3.750519275665283<br>  ],<br>  \"params\": {<br>    \"mutation_method\": \"mutConstant\",<br>    \"mutation_prob\": 0.9033276549502472,<br>    \"mutation_rate\": 0.01794064476610361,<br>    \"crossover_method\": \"cxOnePoint\",<br>    \"crossover_rate\": 0.3762631560460478,<br>    \"selection_method\": \"selBest\",<br>    \"elitism_rate\": 0.9609712351248867,<br>    \"survival_rate\": 0.9736210884067252<br>  }<br>}",
          "{<br>  \"number\": 184,<br>  \"values\": [<br>    0.7688446044921875,<br>    0.7202653646469116,<br>    4.258705139160156<br>  ],<br>  \"params\": {<br>    \"mutation_method\": \"mutConstant\",<br>    \"mutation_prob\": 0.9022967265316846,<br>    \"mutation_rate\": 0.015938422847849035,<br>    \"crossover_method\": \"cxOnePoint\",<br>    \"crossover_rate\": 0.3743636210736509,<br>    \"selection_method\": \"selBest\",<br>    \"elitism_rate\": 0.9594762888257095,<br>    \"survival_rate\": 0.9860095894775898<br>  }<br>}",
          "{<br>  \"number\": 185,<br>  \"values\": [<br>    0.7514509558677673,<br>    0.6714015960693359,<br>    3.6505343914031982<br>  ],<br>  \"params\": {<br>    \"mutation_method\": \"mutConstant\",<br>    \"mutation_prob\": 0.9069536153162705,<br>    \"mutation_rate\": 0.01845082963694148,<br>    \"crossover_method\": \"cxOnePoint\",<br>    \"crossover_rate\": 0.3573219009014678,<br>    \"selection_method\": \"selBest\",<br>    \"elitism_rate\": 0.9656949369530458,<br>    \"survival_rate\": 0.981288635644566<br>  }<br>}",
          "{<br>  \"number\": 187,<br>  \"values\": [<br>    0.6897009015083313,<br>    0.6366015672683716,<br>    2.354341983795166<br>  ],<br>  \"params\": {<br>    \"mutation_method\": \"mutConstant\",<br>    \"mutation_prob\": 0.9096801476322451,<br>    \"mutation_rate\": 0.004992457745420283,<br>    \"crossover_method\": \"cxOnePoint\",<br>    \"crossover_rate\": 0.3388805185924581,<br>    \"selection_method\": \"selBest\",<br>    \"elitism_rate\": 0.9594005905329805,<br>    \"survival_rate\": 0.9912487945251589<br>  }<br>}",
          "{<br>  \"number\": 189,<br>  \"values\": [<br>    0.6085581183433533,<br>    0.5448145508766175,<br>    0.860762357711792<br>  ],<br>  \"params\": {<br>    \"mutation_method\": \"mutConstant\",<br>    \"mutation_prob\": 0.9698090197805452,<br>    \"mutation_rate\": 0.0006409546851695799,<br>    \"crossover_method\": \"cxOnePoint\",<br>    \"crossover_rate\": 0.35093219173754203,<br>    \"selection_method\": \"selBest\",<br>    \"elitism_rate\": 0.9566370018439161,<br>    \"survival_rate\": 0.9947939831685751<br>  }<br>}",
          "{<br>  \"number\": 191,<br>  \"values\": [<br>    0.7139984369277954,<br>    0.6317980885505676,<br>    1.4995670318603516<br>  ],<br>  \"params\": {<br>    \"mutation_method\": \"mutConstant\",<br>    \"mutation_prob\": 0.8979313666190631,<br>    \"mutation_rate\": 0.001708139860426474,<br>    \"crossover_method\": \"cxOnePoint\",<br>    \"crossover_rate\": 0.34514715302800386,<br>    \"selection_method\": \"selBest\",<br>    \"elitism_rate\": 0.9370313209736911,<br>    \"survival_rate\": 0.9791980198208216<br>  }<br>}",
          "{<br>  \"number\": 193,<br>  \"values\": [<br>    0.8045469522476196,<br>    0.7319595813751221,<br>    4.642755508422852<br>  ],<br>  \"params\": {<br>    \"mutation_method\": \"mutConstant\",<br>    \"mutation_prob\": 0.8791868782949805,<br>    \"mutation_rate\": 0.02406507872585721,<br>    \"crossover_method\": \"cxOnePoint\",<br>    \"crossover_rate\": 0.4211476346672719,<br>    \"selection_method\": \"selBest\",<br>    \"elitism_rate\": 0.9426677585253302,<br>    \"survival_rate\": 0.949834107425065<br>  }<br>}",
          "{<br>  \"number\": 194,<br>  \"values\": [<br>    0.8128746747970581,<br>    0.7217819213867187,<br>    4.620246887207031<br>  ],<br>  \"params\": {<br>    \"mutation_method\": \"mutConstant\",<br>    \"mutation_prob\": 0.8893260498876614,<br>    \"mutation_rate\": 0.02567024857184086,<br>    \"crossover_method\": \"cxOnePoint\",<br>    \"crossover_rate\": 0.3520958547316676,<br>    \"selection_method\": \"selBest\",<br>    \"elitism_rate\": 0.9457439691335595,<br>    \"survival_rate\": 0.9508164914007334<br>  }<br>}",
          "{<br>  \"number\": 195,<br>  \"values\": [<br>    0.7520912885665894,<br>    0.7353623151779175,<br>    4.558118581771851<br>  ],<br>  \"params\": {<br>    \"mutation_method\": \"mutConstant\",<br>    \"mutation_prob\": 0.900779321382763,<br>    \"mutation_rate\": 0.025847343435966827,<br>    \"crossover_method\": \"cxOnePoint\",<br>    \"crossover_rate\": 0.35703390532245627,<br>    \"selection_method\": \"selBest\",<br>    \"elitism_rate\": 0.9444681830360765,<br>    \"survival_rate\": 0.9985750570286566<br>  }<br>}",
          "{<br>  \"number\": 197,<br>  \"values\": [<br>    0.8462645411491394,<br>    0.7972839593887329,<br>    5.446197271347046<br>  ],<br>  \"params\": {<br>    \"mutation_method\": \"mutConstant\",<br>    \"mutation_prob\": 0.9093573798897021,<br>    \"mutation_rate\": 0.02611899084468277,<br>    \"crossover_method\": \"cxOnePoint\",<br>    \"crossover_rate\": 0.3389727986348964,<br>    \"selection_method\": \"selBest\",<br>    \"elitism_rate\": 0.8822256911502233,<br>    \"survival_rate\": 0.9774900883118786<br>  }<br>}",
          "{<br>  \"number\": 198,<br>  \"values\": [<br>    0.8515337705612183,<br>    0.7774155855178833,<br>    5.531543254852295<br>  ],<br>  \"params\": {<br>    \"mutation_method\": \"mutConstant\",<br>    \"mutation_prob\": 0.9497994755257352,<br>    \"mutation_rate\": 0.0235015358011747,<br>    \"crossover_method\": \"cxOnePoint\",<br>    \"crossover_rate\": 0.34667272385046194,<br>    \"selection_method\": \"selBest\",<br>    \"elitism_rate\": 0.8719815436110794,<br>    \"survival_rate\": 0.9518966679119109<br>  }<br>}"
         ],
         "type": "scatter",
         "x": [
          0.8854624629020691,
          0.923918604850769,
          0.8064058423042297,
          0.7905995845794678,
          0.8951467275619507,
          0.8540976047515869,
          0.8613600134849548,
          0.8902074098587036,
          0.8547669649124146,
          0.7477208971977234,
          0.9025082588195801,
          0.6953625082969666,
          0.7679356336593628,
          0.7688446044921875,
          0.7514509558677673,
          0.6897009015083313,
          0.6085581183433533,
          0.7139984369277954,
          0.8045469522476196,
          0.8128746747970581,
          0.7520912885665894,
          0.8462645411491394,
          0.8515337705612183
         ],
         "y": [
          0.8540900826454163,
          0.8276800394058228,
          0.7468477725982666,
          0.7511340498924255,
          0.8444380044937134,
          0.7924973845481873,
          0.7914595007896423,
          0.7915812492370605,
          0.7676729679107666,
          0.6323667287826538,
          0.8458395004272461,
          0.6800897717475891,
          0.6987065434455871,
          0.7202653646469116,
          0.6714015960693359,
          0.6366015672683716,
          0.5448145508766175,
          0.6317980885505676,
          0.7319595813751221,
          0.7217819213867187,
          0.7353623151779175,
          0.7972839593887329,
          0.7774155855178833
         ]
        }
       ],
       "layout": {
        "template": {
         "data": {
          "bar": [
           {
            "error_x": {
             "color": "#2a3f5f"
            },
            "error_y": {
             "color": "#2a3f5f"
            },
            "marker": {
             "line": {
              "color": "#E5ECF6",
              "width": 0.5
             },
             "pattern": {
              "fillmode": "overlay",
              "size": 10,
              "solidity": 0.2
             }
            },
            "type": "bar"
           }
          ],
          "barpolar": [
           {
            "marker": {
             "line": {
              "color": "#E5ECF6",
              "width": 0.5
             },
             "pattern": {
              "fillmode": "overlay",
              "size": 10,
              "solidity": 0.2
             }
            },
            "type": "barpolar"
           }
          ],
          "carpet": [
           {
            "aaxis": {
             "endlinecolor": "#2a3f5f",
             "gridcolor": "white",
             "linecolor": "white",
             "minorgridcolor": "white",
             "startlinecolor": "#2a3f5f"
            },
            "baxis": {
             "endlinecolor": "#2a3f5f",
             "gridcolor": "white",
             "linecolor": "white",
             "minorgridcolor": "white",
             "startlinecolor": "#2a3f5f"
            },
            "type": "carpet"
           }
          ],
          "choropleth": [
           {
            "colorbar": {
             "outlinewidth": 0,
             "ticks": ""
            },
            "type": "choropleth"
           }
          ],
          "contour": [
           {
            "colorbar": {
             "outlinewidth": 0,
             "ticks": ""
            },
            "colorscale": [
             [
              0,
              "#0d0887"
             ],
             [
              0.1111111111111111,
              "#46039f"
             ],
             [
              0.2222222222222222,
              "#7201a8"
             ],
             [
              0.3333333333333333,
              "#9c179e"
             ],
             [
              0.4444444444444444,
              "#bd3786"
             ],
             [
              0.5555555555555556,
              "#d8576b"
             ],
             [
              0.6666666666666666,
              "#ed7953"
             ],
             [
              0.7777777777777778,
              "#fb9f3a"
             ],
             [
              0.8888888888888888,
              "#fdca26"
             ],
             [
              1,
              "#f0f921"
             ]
            ],
            "type": "contour"
           }
          ],
          "contourcarpet": [
           {
            "colorbar": {
             "outlinewidth": 0,
             "ticks": ""
            },
            "type": "contourcarpet"
           }
          ],
          "heatmap": [
           {
            "colorbar": {
             "outlinewidth": 0,
             "ticks": ""
            },
            "colorscale": [
             [
              0,
              "#0d0887"
             ],
             [
              0.1111111111111111,
              "#46039f"
             ],
             [
              0.2222222222222222,
              "#7201a8"
             ],
             [
              0.3333333333333333,
              "#9c179e"
             ],
             [
              0.4444444444444444,
              "#bd3786"
             ],
             [
              0.5555555555555556,
              "#d8576b"
             ],
             [
              0.6666666666666666,
              "#ed7953"
             ],
             [
              0.7777777777777778,
              "#fb9f3a"
             ],
             [
              0.8888888888888888,
              "#fdca26"
             ],
             [
              1,
              "#f0f921"
             ]
            ],
            "type": "heatmap"
           }
          ],
          "heatmapgl": [
           {
            "colorbar": {
             "outlinewidth": 0,
             "ticks": ""
            },
            "colorscale": [
             [
              0,
              "#0d0887"
             ],
             [
              0.1111111111111111,
              "#46039f"
             ],
             [
              0.2222222222222222,
              "#7201a8"
             ],
             [
              0.3333333333333333,
              "#9c179e"
             ],
             [
              0.4444444444444444,
              "#bd3786"
             ],
             [
              0.5555555555555556,
              "#d8576b"
             ],
             [
              0.6666666666666666,
              "#ed7953"
             ],
             [
              0.7777777777777778,
              "#fb9f3a"
             ],
             [
              0.8888888888888888,
              "#fdca26"
             ],
             [
              1,
              "#f0f921"
             ]
            ],
            "type": "heatmapgl"
           }
          ],
          "histogram": [
           {
            "marker": {
             "pattern": {
              "fillmode": "overlay",
              "size": 10,
              "solidity": 0.2
             }
            },
            "type": "histogram"
           }
          ],
          "histogram2d": [
           {
            "colorbar": {
             "outlinewidth": 0,
             "ticks": ""
            },
            "colorscale": [
             [
              0,
              "#0d0887"
             ],
             [
              0.1111111111111111,
              "#46039f"
             ],
             [
              0.2222222222222222,
              "#7201a8"
             ],
             [
              0.3333333333333333,
              "#9c179e"
             ],
             [
              0.4444444444444444,
              "#bd3786"
             ],
             [
              0.5555555555555556,
              "#d8576b"
             ],
             [
              0.6666666666666666,
              "#ed7953"
             ],
             [
              0.7777777777777778,
              "#fb9f3a"
             ],
             [
              0.8888888888888888,
              "#fdca26"
             ],
             [
              1,
              "#f0f921"
             ]
            ],
            "type": "histogram2d"
           }
          ],
          "histogram2dcontour": [
           {
            "colorbar": {
             "outlinewidth": 0,
             "ticks": ""
            },
            "colorscale": [
             [
              0,
              "#0d0887"
             ],
             [
              0.1111111111111111,
              "#46039f"
             ],
             [
              0.2222222222222222,
              "#7201a8"
             ],
             [
              0.3333333333333333,
              "#9c179e"
             ],
             [
              0.4444444444444444,
              "#bd3786"
             ],
             [
              0.5555555555555556,
              "#d8576b"
             ],
             [
              0.6666666666666666,
              "#ed7953"
             ],
             [
              0.7777777777777778,
              "#fb9f3a"
             ],
             [
              0.8888888888888888,
              "#fdca26"
             ],
             [
              1,
              "#f0f921"
             ]
            ],
            "type": "histogram2dcontour"
           }
          ],
          "mesh3d": [
           {
            "colorbar": {
             "outlinewidth": 0,
             "ticks": ""
            },
            "type": "mesh3d"
           }
          ],
          "parcoords": [
           {
            "line": {
             "colorbar": {
              "outlinewidth": 0,
              "ticks": ""
             }
            },
            "type": "parcoords"
           }
          ],
          "pie": [
           {
            "automargin": true,
            "type": "pie"
           }
          ],
          "scatter": [
           {
            "fillpattern": {
             "fillmode": "overlay",
             "size": 10,
             "solidity": 0.2
            },
            "type": "scatter"
           }
          ],
          "scatter3d": [
           {
            "line": {
             "colorbar": {
              "outlinewidth": 0,
              "ticks": ""
             }
            },
            "marker": {
             "colorbar": {
              "outlinewidth": 0,
              "ticks": ""
             }
            },
            "type": "scatter3d"
           }
          ],
          "scattercarpet": [
           {
            "marker": {
             "colorbar": {
              "outlinewidth": 0,
              "ticks": ""
             }
            },
            "type": "scattercarpet"
           }
          ],
          "scattergeo": [
           {
            "marker": {
             "colorbar": {
              "outlinewidth": 0,
              "ticks": ""
             }
            },
            "type": "scattergeo"
           }
          ],
          "scattergl": [
           {
            "marker": {
             "colorbar": {
              "outlinewidth": 0,
              "ticks": ""
             }
            },
            "type": "scattergl"
           }
          ],
          "scattermapbox": [
           {
            "marker": {
             "colorbar": {
              "outlinewidth": 0,
              "ticks": ""
             }
            },
            "type": "scattermapbox"
           }
          ],
          "scatterpolar": [
           {
            "marker": {
             "colorbar": {
              "outlinewidth": 0,
              "ticks": ""
             }
            },
            "type": "scatterpolar"
           }
          ],
          "scatterpolargl": [
           {
            "marker": {
             "colorbar": {
              "outlinewidth": 0,
              "ticks": ""
             }
            },
            "type": "scatterpolargl"
           }
          ],
          "scatterternary": [
           {
            "marker": {
             "colorbar": {
              "outlinewidth": 0,
              "ticks": ""
             }
            },
            "type": "scatterternary"
           }
          ],
          "surface": [
           {
            "colorbar": {
             "outlinewidth": 0,
             "ticks": ""
            },
            "colorscale": [
             [
              0,
              "#0d0887"
             ],
             [
              0.1111111111111111,
              "#46039f"
             ],
             [
              0.2222222222222222,
              "#7201a8"
             ],
             [
              0.3333333333333333,
              "#9c179e"
             ],
             [
              0.4444444444444444,
              "#bd3786"
             ],
             [
              0.5555555555555556,
              "#d8576b"
             ],
             [
              0.6666666666666666,
              "#ed7953"
             ],
             [
              0.7777777777777778,
              "#fb9f3a"
             ],
             [
              0.8888888888888888,
              "#fdca26"
             ],
             [
              1,
              "#f0f921"
             ]
            ],
            "type": "surface"
           }
          ],
          "table": [
           {
            "cells": {
             "fill": {
              "color": "#EBF0F8"
             },
             "line": {
              "color": "white"
             }
            },
            "header": {
             "fill": {
              "color": "#C8D4E3"
             },
             "line": {
              "color": "white"
             }
            },
            "type": "table"
           }
          ]
         },
         "layout": {
          "annotationdefaults": {
           "arrowcolor": "#2a3f5f",
           "arrowhead": 0,
           "arrowwidth": 1
          },
          "autotypenumbers": "strict",
          "coloraxis": {
           "colorbar": {
            "outlinewidth": 0,
            "ticks": ""
           }
          },
          "colorscale": {
           "diverging": [
            [
             0,
             "#8e0152"
            ],
            [
             0.1,
             "#c51b7d"
            ],
            [
             0.2,
             "#de77ae"
            ],
            [
             0.3,
             "#f1b6da"
            ],
            [
             0.4,
             "#fde0ef"
            ],
            [
             0.5,
             "#f7f7f7"
            ],
            [
             0.6,
             "#e6f5d0"
            ],
            [
             0.7,
             "#b8e186"
            ],
            [
             0.8,
             "#7fbc41"
            ],
            [
             0.9,
             "#4d9221"
            ],
            [
             1,
             "#276419"
            ]
           ],
           "sequential": [
            [
             0,
             "#0d0887"
            ],
            [
             0.1111111111111111,
             "#46039f"
            ],
            [
             0.2222222222222222,
             "#7201a8"
            ],
            [
             0.3333333333333333,
             "#9c179e"
            ],
            [
             0.4444444444444444,
             "#bd3786"
            ],
            [
             0.5555555555555556,
             "#d8576b"
            ],
            [
             0.6666666666666666,
             "#ed7953"
            ],
            [
             0.7777777777777778,
             "#fb9f3a"
            ],
            [
             0.8888888888888888,
             "#fdca26"
            ],
            [
             1,
             "#f0f921"
            ]
           ],
           "sequentialminus": [
            [
             0,
             "#0d0887"
            ],
            [
             0.1111111111111111,
             "#46039f"
            ],
            [
             0.2222222222222222,
             "#7201a8"
            ],
            [
             0.3333333333333333,
             "#9c179e"
            ],
            [
             0.4444444444444444,
             "#bd3786"
            ],
            [
             0.5555555555555556,
             "#d8576b"
            ],
            [
             0.6666666666666666,
             "#ed7953"
            ],
            [
             0.7777777777777778,
             "#fb9f3a"
            ],
            [
             0.8888888888888888,
             "#fdca26"
            ],
            [
             1,
             "#f0f921"
            ]
           ]
          },
          "colorway": [
           "#636efa",
           "#EF553B",
           "#00cc96",
           "#ab63fa",
           "#FFA15A",
           "#19d3f3",
           "#FF6692",
           "#B6E880",
           "#FF97FF",
           "#FECB52"
          ],
          "font": {
           "color": "#2a3f5f"
          },
          "geo": {
           "bgcolor": "white",
           "lakecolor": "white",
           "landcolor": "#E5ECF6",
           "showlakes": true,
           "showland": true,
           "subunitcolor": "white"
          },
          "hoverlabel": {
           "align": "left"
          },
          "hovermode": "closest",
          "mapbox": {
           "style": "light"
          },
          "paper_bgcolor": "white",
          "plot_bgcolor": "#E5ECF6",
          "polar": {
           "angularaxis": {
            "gridcolor": "white",
            "linecolor": "white",
            "ticks": ""
           },
           "bgcolor": "#E5ECF6",
           "radialaxis": {
            "gridcolor": "white",
            "linecolor": "white",
            "ticks": ""
           }
          },
          "scene": {
           "xaxis": {
            "backgroundcolor": "#E5ECF6",
            "gridcolor": "white",
            "gridwidth": 2,
            "linecolor": "white",
            "showbackground": true,
            "ticks": "",
            "zerolinecolor": "white"
           },
           "yaxis": {
            "backgroundcolor": "#E5ECF6",
            "gridcolor": "white",
            "gridwidth": 2,
            "linecolor": "white",
            "showbackground": true,
            "ticks": "",
            "zerolinecolor": "white"
           },
           "zaxis": {
            "backgroundcolor": "#E5ECF6",
            "gridcolor": "white",
            "gridwidth": 2,
            "linecolor": "white",
            "showbackground": true,
            "ticks": "",
            "zerolinecolor": "white"
           }
          },
          "shapedefaults": {
           "line": {
            "color": "#2a3f5f"
           }
          },
          "ternary": {
           "aaxis": {
            "gridcolor": "white",
            "linecolor": "white",
            "ticks": ""
           },
           "baxis": {
            "gridcolor": "white",
            "linecolor": "white",
            "ticks": ""
           },
           "bgcolor": "#E5ECF6",
           "caxis": {
            "gridcolor": "white",
            "linecolor": "white",
            "ticks": ""
           }
          },
          "title": {
           "x": 0.05
          },
          "xaxis": {
           "automargin": true,
           "gridcolor": "white",
           "linecolor": "white",
           "ticks": "",
           "title": {
            "standoff": 15
           },
           "zerolinecolor": "white",
           "zerolinewidth": 2
          },
          "yaxis": {
           "automargin": true,
           "gridcolor": "white",
           "linecolor": "white",
           "ticks": "",
           "title": {
            "standoff": 15
           },
           "zerolinecolor": "white",
           "zerolinewidth": 2
          }
         }
        },
        "title": {
         "text": "Pareto-front Plot"
        },
        "xaxis": {
         "title": {
          "text": "Max Fitness"
         }
        },
        "yaxis": {
         "title": {
          "text": "Mean Fitness"
         }
        }
       }
      }
     },
     "metadata": {},
     "output_type": "display_data"
    },
    {
     "data": {
      "application/vnd.plotly.v1+json": {
       "config": {
        "plotlyServerURL": "https://plot.ly"
       },
       "data": [
        {
         "hovertemplate": "%{text}<extra>Trial</extra>",
         "marker": {
          "color": [
           0,
           1,
           2,
           3,
           4,
           5,
           6,
           7,
           8,
           9,
           10,
           11,
           12,
           13,
           14,
           15,
           16,
           17,
           18,
           19,
           20,
           21,
           22,
           23,
           24,
           25,
           26,
           27,
           28,
           29,
           30,
           31,
           32,
           33,
           34,
           35,
           36,
           37,
           38,
           39,
           40,
           41,
           42,
           43,
           44,
           45,
           46,
           47,
           48,
           49,
           50,
           51,
           52,
           53,
           54,
           55,
           56,
           57,
           58,
           59,
           60,
           61,
           62,
           63,
           64,
           65,
           66,
           67,
           68,
           69,
           70,
           71,
           72,
           73,
           74,
           77,
           78,
           79,
           80,
           83,
           84,
           85,
           86,
           87,
           88,
           89,
           90,
           91,
           92,
           94,
           95,
           96,
           97,
           98,
           99,
           100,
           101,
           102,
           103,
           104,
           105,
           106,
           107,
           108,
           109,
           110,
           111,
           112,
           113,
           114,
           115,
           116,
           119,
           121,
           122,
           124,
           125,
           126,
           127,
           128,
           129,
           130,
           131,
           132,
           133,
           134,
           135,
           136,
           137,
           138,
           139,
           140,
           141,
           142,
           143,
           144,
           145,
           146,
           147,
           148,
           149,
           150,
           152,
           153,
           154,
           155,
           156,
           157,
           158,
           159,
           160,
           161,
           162,
           163,
           164,
           165,
           166,
           167,
           168,
           169,
           170,
           171,
           172,
           173,
           174,
           175,
           176,
           177,
           178,
           179,
           181,
           186,
           188,
           190,
           192,
           196,
           199
          ],
          "colorbar": {
           "title": {
            "text": "Trial"
           }
          },
          "colorscale": [
           [
            0,
            "rgb(247,251,255)"
           ],
           [
            0.125,
            "rgb(222,235,247)"
           ],
           [
            0.25,
            "rgb(198,219,239)"
           ],
           [
            0.375,
            "rgb(158,202,225)"
           ],
           [
            0.5,
            "rgb(107,174,214)"
           ],
           [
            0.625,
            "rgb(66,146,198)"
           ],
           [
            0.75,
            "rgb(33,113,181)"
           ],
           [
            0.875,
            "rgb(8,81,156)"
           ],
           [
            1,
            "rgb(8,48,107)"
           ]
          ],
          "line": {
           "color": "Grey",
           "width": 0.5
          }
         },
         "mode": "markers",
         "showlegend": false,
         "text": [
          "{<br>  \"number\": 0,<br>  \"values\": [<br>    0.5299442410469055,<br>    0.4982863306999207,<br>    4.281626462936401<br>  ],<br>  \"params\": {<br>    \"mutation_method\": \"mutExponential\",<br>    \"mutation_prob\": 0.7451031795762046,<br>    \"mutation_rate_start\": 0.6880389508958511,<br>    \"mutation_rate_end\": 0.7720713866811632,<br>    \"mutation_rate_degree\": 2,<br>    \"crossover_method\": \"cxUniform\",<br>    \"crossover_rate\": 0.3056757271265841,<br>    \"selection_method\": \"selTournament\",<br>    \"tournsize\": 2,<br>    \"elitism_rate\": 0.9840055794539837,<br>    \"survival_rate\": 0.43355666980078933<br>  }<br>}",
          "{<br>  \"number\": 1,<br>  \"values\": [<br>    0.6026304960250854,<br>    0.5805169343948364,<br>    12.192527770996094<br>  ],<br>  \"params\": {<br>    \"mutation_method\": \"mutConstant\",<br>    \"mutation_prob\": 0.8102419379121539,<br>    \"mutation_rate\": 0.5670036927595026,<br>    \"crossover_method\": \"cxUniform\",<br>    \"crossover_rate\": 0.5865318684900694,<br>    \"selection_method\": \"selBest\",<br>    \"elitism_rate\": 0.012888018616700636,<br>    \"survival_rate\": 0.8227622351133875<br>  }<br>}",
          "{<br>  \"number\": 2,<br>  \"values\": [<br>    0.6563820242881775,<br>    0.5904802918434143,<br>    6.830501556396484<br>  ],<br>  \"params\": {<br>    \"mutation_method\": \"mutConstant\",<br>    \"mutation_prob\": 0.5151791118223629,<br>    \"mutation_rate\": 0.6753487319019037,<br>    \"crossover_method\": \"cxTwoPoint\",<br>    \"crossover_rate\": 0.2438869438066591,<br>    \"crossover_points\": 4,<br>    \"selection_method\": \"selRoulette\",<br>    \"elitism_rate\": 0.6671046655575785,<br>    \"survival_rate\": 0.585180022004546<br>  }<br>}",
          "{<br>  \"number\": 3,<br>  \"values\": [<br>    0.818134605884552,<br>    0.7648661494255066,<br>    12.57694411277771<br>  ],<br>  \"params\": {<br>    \"mutation_method\": \"mutLinear\",<br>    \"mutation_prob\": 0.2807446944101759,<br>    \"mutation_rate_start\": 0.6873342483095609,<br>    \"mutation_rate_end\": 0.17718317573663955,<br>    \"crossover_method\": \"cxUniform\",<br>    \"crossover_rate\": 0.3643006881692137,<br>    \"selection_method\": \"selRoulette\",<br>    \"elitism_rate\": 0.0991596503537504,<br>    \"survival_rate\": 0.543867577337406<br>  }<br>}",
          "{<br>  \"number\": 4,<br>  \"values\": [<br>    0.6569432616233826,<br>    0.6014132142066956,<br>    9.884447813034058<br>  ],<br>  \"params\": {<br>    \"mutation_method\": \"mutEntropy\",<br>    \"mutation_prob\": 0.49115283087924577,<br>    \"mutation_rate_start\": 0.9644203813145801,<br>    \"mutation_rate_end\": 0.5531002194910911,<br>    \"crossover_method\": \"cxTwoPoint\",<br>    \"crossover_rate\": 0.7027756139769191,<br>    \"crossover_points\": 4,<br>    \"selection_method\": \"selTournament\",<br>    \"tournsize\": 5,<br>    \"elitism_rate\": 0.3703103077728167,<br>    \"survival_rate\": 0.04408655632160752<br>  }<br>}",
          "{<br>  \"number\": 5,<br>  \"values\": [<br>    0.7581605911254883,<br>    0.6731084823608399,<br>    7.605344533920288<br>  ],<br>  \"params\": {<br>    \"mutation_method\": \"mutExponential\",<br>    \"mutation_prob\": 0.04604836892498898,<br>    \"mutation_rate_start\": 0.11051918805864003,<br>    \"mutation_rate_end\": 0.3169625303581831,<br>    \"mutation_rate_degree\": 4,<br>    \"crossover_method\": \"cxOnePoint\",<br>    \"crossover_rate\": 0.09401569931366005,<br>    \"selection_method\": \"selBest\",<br>    \"elitism_rate\": 0.18867875386226285,<br>    \"survival_rate\": 0.04291723302351225<br>  }<br>}",
          "{<br>  \"number\": 6,<br>  \"values\": [<br>    0.6108515858650208,<br>    0.5978142976760864,<br>    7.210463523864746<br>  ],<br>  \"params\": {<br>    \"mutation_method\": \"mutExponential\",<br>    \"mutation_prob\": 0.3223016855569708,<br>    \"mutation_rate_start\": 0.3939045481124015,<br>    \"mutation_rate_end\": 0.8733477068809429,<br>    \"mutation_rate_degree\": 4,<br>    \"crossover_method\": \"cxOnePoint\",<br>    \"crossover_rate\": 0.5299420778031193,<br>    \"selection_method\": \"selBoltzmann\",<br>    \"boltzmann_temperature\": 0.5461645965763832,<br>    \"elitism_rate\": 0.5982708721710486,<br>    \"survival_rate\": 0.2993355345621487<br>  }<br>}",
          "{<br>  \"number\": 7,<br>  \"values\": [<br>    0.5438743829727173,<br>    0.523196530342102,<br>    5.791201829910278<br>  ],<br>  \"params\": {<br>    \"mutation_method\": \"mutEntropy\",<br>    \"mutation_prob\": 0.9791032959892848,<br>    \"mutation_rate_start\": 0.6978238326399361,<br>    \"mutation_rate_end\": 0.898885462473212,<br>    \"crossover_method\": \"cxOnePoint\",<br>    \"crossover_rate\": 0.4973364571048754,<br>    \"selection_method\": \"selTournamentWithoutReplacement\",<br>    \"tournsize\": 2,<br>    \"elitism_rate\": 0.9387809494446677,<br>    \"survival_rate\": 0.9519137625974511<br>  }<br>}",
          "{<br>  \"number\": 8,<br>  \"values\": [<br>    0.6804086565971375,<br>    0.6434842228889466,<br>    6.883536100387573<br>  ],<br>  \"params\": {<br>    \"mutation_method\": \"mutLinear\",<br>    \"mutation_prob\": 0.24897059065453364,<br>    \"mutation_rate_start\": 0.06208851346776201,<br>    \"mutation_rate_end\": 0.9217517952159444,<br>    \"crossover_method\": \"cxTwoPoint\",<br>    \"crossover_rate\": 0.17522954616650177,<br>    \"crossover_points\": 3,<br>    \"selection_method\": \"selBoltzmann\",<br>    \"boltzmann_temperature\": 0.03593482054638997,<br>    \"elitism_rate\": 0.6428338870577289,<br>    \"survival_rate\": 0.9942160573114461<br>  }<br>}",
          "{<br>  \"number\": 9,<br>  \"values\": [<br>    0.767907977104187,<br>    0.742623794078827,<br>    12.784364461898804<br>  ],<br>  \"params\": {<br>    \"mutation_method\": \"mutEntropy\",<br>    \"mutation_prob\": 0.24291833054836098,<br>    \"mutation_rate_start\": 0.6717070570280173,<br>    \"mutation_rate_end\": 0.5753249121473145,<br>    \"crossover_method\": \"cxTwoPoint\",<br>    \"crossover_rate\": 0.4167816468531038,<br>    \"crossover_points\": 4,<br>    \"selection_method\": \"selStochasticUniversalSampling\",<br>    \"elitism_rate\": 0.09155353902905572,<br>    \"survival_rate\": 0.37819723039676956<br>  }<br>}",
          "{<br>  \"number\": 10,<br>  \"values\": [<br>    0.76732337474823,<br>    0.7065917015075683,<br>    9.042007684707642<br>  ],<br>  \"params\": {<br>    \"mutation_method\": \"mutExponential\",<br>    \"mutation_prob\": 0.07914413554435107,<br>    \"mutation_rate_start\": 0.01821256131398874,<br>    \"mutation_rate_end\": 0.13097321368493753,<br>    \"mutation_rate_degree\": 4,<br>    \"crossover_method\": \"cxKPoint\",<br>    \"crossover_rate\": 0.03086645166802822,<br>    \"crossover_points\": 1,<br>    \"selection_method\": \"selBest\",<br>    \"elitism_rate\": 0.3139947218672011,<br>    \"survival_rate\": 0.013136959370521693<br>  }<br>}",
          "{<br>  \"number\": 11,<br>  \"values\": [<br>    0.6832256317138672,<br>    0.6345887660980225,<br>    5.483475208282471<br>  ],<br>  \"params\": {<br>    \"mutation_method\": \"mutExponential\",<br>    \"mutation_prob\": 0.02932959396594991,<br>    \"mutation_rate_start\": 0.0029633028704482145,<br>    \"mutation_rate_end\": 0.1247614418258498,<br>    \"mutation_rate_degree\": 4,<br>    \"crossover_method\": \"cxKPoint\",<br>    \"crossover_rate\": 0.02479047484167186,<br>    \"crossover_points\": 1,<br>    \"selection_method\": \"selBest\",<br>    \"elitism_rate\": 0.3316384445050473,<br>    \"survival_rate\": 0.00814723119791742<br>  }<br>}",
          "{<br>  \"number\": 12,<br>  \"values\": [<br>    0.5222430229187012,<br>    0.5076983451843262,<br>    3.8452095985412598<br>  ],<br>  \"params\": {<br>    \"mutation_method\": \"mutExponential\",<br>    \"mutation_prob\": 0.002050456706710377,<br>    \"mutation_rate_start\": 0.2105648885348006,<br>    \"mutation_rate_end\": 0.32836923061995005,<br>    \"mutation_rate_degree\": 4,<br>    \"crossover_method\": \"cxKPoint\",<br>    \"crossover_rate\": 0.027690939567136086,<br>    \"crossover_points\": 1,<br>    \"selection_method\": \"selRandom\",<br>    \"elitism_rate\": 0.25930596861273764,<br>    \"survival_rate\": 0.20521652369779705<br>  }<br>}",
          "{<br>  \"number\": 13,<br>  \"values\": [<br>    0.6813010573387146,<br>    0.6507925271987915,<br>    9.419226169586182<br>  ],<br>  \"params\": {<br>    \"mutation_method\": \"mutExponential\",<br>    \"mutation_prob\": 0.11330038587497443,<br>    \"mutation_rate_start\": 0.260062812227864,<br>    \"mutation_rate_end\": 0.0062143605101443455,<br>    \"mutation_rate_degree\": 3,<br>    \"crossover_method\": \"cxKPoint\",<br>    \"crossover_rate\": 0.13181724215090307,<br>    \"crossover_points\": 2,<br>    \"selection_method\": \"selNormRoulette\",<br>    \"elitism_rate\": 0.44832677835509716,<br>    \"survival_rate\": 0.1613388876240066<br>  }<br>}",
          "{<br>  \"number\": 14,<br>  \"values\": [<br>    0.7907454371452332,<br>    0.75472172498703,<br>    12.820128202438354<br>  ],<br>  \"params\": {<br>    \"mutation_method\": \"mutExponential\",<br>    \"mutation_prob\": 0.47560579368900957,<br>    \"mutation_rate_start\": 0.1529559054464372,<br>    \"mutation_rate_end\": 0.35965263951502163,<br>    \"mutation_rate_degree\": 1,<br>    \"crossover_method\": \"cxOnePoint\",<br>    \"crossover_rate\": 0.9945680880950329,<br>    \"selection_method\": \"selBest\",<br>    \"elitism_rate\": 0.21808238960297327,<br>    \"survival_rate\": 0.14646018393581917<br>  }<br>}",
          "{<br>  \"number\": 15,<br>  \"values\": [<br>    0.6903026700019836,<br>    0.6463760018348694,<br>    9.649763822555542<br>  ],<br>  \"params\": {<br>    \"mutation_method\": \"mutExponential\",<br>    \"mutation_prob\": 0.13373190266469767,<br>    \"mutation_rate_start\": 0.3738788902310859,<br>    \"mutation_rate_end\": 0.3392001828225362,<br>    \"mutation_rate_degree\": 3,<br>    \"crossover_method\": \"cxKPoint\",<br>    \"crossover_rate\": 0.10915007638025001,<br>    \"crossover_points\": 2,<br>    \"selection_method\": \"selBest\",<br>    \"elitism_rate\": 0.43772442275776813,<br>    \"survival_rate\": 0.011079546829202425<br>  }<br>}",
          "{<br>  \"number\": 16,<br>  \"values\": [<br>    0.6069177985191345,<br>    0.5779878735542298,<br>    5.705043077468872<br>  ],<br>  \"params\": {<br>    \"mutation_method\": \"mutExponential\",<br>    \"mutation_prob\": 0.01018235626841163,<br>    \"mutation_rate_start\": 0.09583083701473502,<br>    \"mutation_rate_end\": 0.17199842603518356,<br>    \"mutation_rate_degree\": 4,<br>    \"crossover_method\": \"cxOnePoint\",<br>    \"crossover_rate\": 0.0015812928331684906,<br>    \"selection_method\": \"selBest\",<br>    \"elitism_rate\": 0.18770166287133536,<br>    \"survival_rate\": 0.6660960645187651<br>  }<br>}",
          "{<br>  \"number\": 17,<br>  \"values\": [<br>    0.8395792245864868,<br>    0.7878612875938416,<br>    7.1308982372283936<br>  ],<br>  \"params\": {<br>    \"mutation_method\": \"mutConstant\",<br>    \"mutation_prob\": 0.4115375324464282,<br>    \"mutation_rate\": 0.11911212894739742,<br>    \"crossover_method\": \"cxKPoint\",<br>    \"crossover_rate\": 0.7854699784027136,<br>    \"crossover_points\": 1,<br>    \"selection_method\": \"selTournamentWithoutReplacement\",<br>    \"tournsize\": 10,<br>    \"elitism_rate\": 0.5428821438597352,<br>    \"survival_rate\": 0.26568562904187004<br>  }<br>}",
          "{<br>  \"number\": 18,<br>  \"values\": [<br>    0.8308054804801941,<br>    0.7715441584587097,<br>    5.727808475494385<br>  ],<br>  \"params\": {<br>    \"mutation_method\": \"mutConstant\",<br>    \"mutation_prob\": 0.6374533733471582,<br>    \"mutation_rate\": 0.030921607815573737,<br>    \"crossover_method\": \"cxKPoint\",<br>    \"crossover_rate\": 0.8475148038173734,<br>    \"crossover_points\": 1,<br>    \"selection_method\": \"selTournamentWithoutReplacement\",<br>    \"tournsize\": 10,<br>    \"elitism_rate\": 0.8126176713253929,<br>    \"survival_rate\": 0.28199153960291745<br>  }<br>}",
          "{<br>  \"number\": 19,<br>  \"values\": [<br>    0.7670469284057617,<br>    0.7171781659126282,<br>    5.648449182510376<br>  ],<br>  \"params\": {<br>    \"mutation_method\": \"mutConstant\",<br>    \"mutation_prob\": 0.6463454144075953,<br>    \"mutation_rate\": 0.014813755452300088,<br>    \"crossover_method\": \"cxKPoint\",<br>    \"crossover_rate\": 0.9976446967882108,<br>    \"crossover_points\": 2,<br>    \"selection_method\": \"selTournamentWithoutReplacement\",<br>    \"tournsize\": 10,<br>    \"elitism_rate\": 0.7614623024751036,<br>    \"survival_rate\": 0.7659345472723585<br>  }<br>}",
          "{<br>  \"number\": 20,<br>  \"values\": [<br>    0.5486484169960022,<br>    0.5330130457878113,<br>    6.81147575378418<br>  ],<br>  \"params\": {<br>    \"mutation_method\": \"mutConstant\",<br>    \"mutation_prob\": 0.6324158278393734,<br>    \"mutation_rate\": 0.9761477719583962,<br>    \"crossover_method\": \"cxKPoint\",<br>    \"crossover_rate\": 0.8635313787461434,<br>    \"crossover_points\": 3,<br>    \"selection_method\": \"selTournamentWithoutReplacement\",<br>    \"tournsize\": 7,<br>    \"elitism_rate\": 0.7857427001187488,<br>    \"survival_rate\": 0.48728468452413565<br>  }<br>}",
          "{<br>  \"number\": 21,<br>  \"values\": [<br>    0.5824716091156006,<br>    0.5162872433662414,<br>    1.2085256576538086<br>  ],<br>  \"params\": {<br>    \"mutation_method\": \"mutConstant\",<br>    \"mutation_prob\": 0.9080987958683588,<br>    \"mutation_rate\": 0.00031116350484017286,<br>    \"crossover_method\": \"cxKPoint\",<br>    \"crossover_rate\": 0.7736567904330015,<br>    \"crossover_points\": 1,<br>    \"selection_method\": \"selTournamentWithoutReplacement\",<br>    \"tournsize\": 10,<br>    \"elitism_rate\": 0.824245288594315,<br>    \"survival_rate\": 0.2902698647719749<br>  }<br>}",
          "{<br>  \"number\": 22,<br>  \"values\": [<br>    0.7679969668388367,<br>    0.7125959396362305,<br>    5.974289417266846<br>  ],<br>  \"params\": {<br>    \"mutation_method\": \"mutConstant\",<br>    \"mutation_prob\": 0.9403201457307947,<br>    \"mutation_rate\": 0.2570284687405525,<br>    \"crossover_method\": \"cxKPoint\",<br>    \"crossover_rate\": 0.8590363860625331,<br>    \"crossover_points\": 1,<br>    \"selection_method\": \"selTournamentWithoutReplacement\",<br>    \"tournsize\": 7,<br>    \"elitism_rate\": 0.861334340036568,<br>    \"survival_rate\": 0.35361671829481883<br>  }<br>}",
          "{<br>  \"number\": 23,<br>  \"values\": [<br>    0.7729471921920776,<br>    0.697440242767334,<br>    7.149623870849609<br>  ],<br>  \"params\": {<br>    \"mutation_method\": \"mutConstant\",<br>    \"mutation_prob\": 0.8462288411734853,<br>    \"mutation_rate\": 0.22103943217959018,<br>    \"crossover_method\": \"cxKPoint\",<br>    \"crossover_rate\": 0.6467836750959369,<br>    \"crossover_points\": 1,<br>    \"selection_method\": \"selStochasticUniversalSampling\",<br>    \"elitism_rate\": 0.716767698234896,<br>    \"survival_rate\": 0.2517544036786864<br>  }<br>}",
          "{<br>  \"number\": 24,<br>  \"values\": [<br>    0.6052874326705933,<br>    0.5585859775543213,<br>    5.768560886383057<br>  ],<br>  \"params\": {<br>    \"mutation_method\": \"mutLinear\",<br>    \"mutation_prob\": 0.6615160172508315,<br>    \"mutation_rate_start\": 0.980440731049015,<br>    \"mutation_rate_end\": 0.6859500651227584,<br>    \"crossover_method\": \"cxKPoint\",<br>    \"crossover_rate\": 0.7550740838409976,<br>    \"crossover_points\": 2,<br>    \"selection_method\": \"selNormRoulette\",<br>    \"elitism_rate\": 0.8838474573380611,<br>    \"survival_rate\": 0.6298312817705376<br>  }<br>}",
          "{<br>  \"number\": 25,<br>  \"values\": [<br>    0.6101658940315247,<br>    0.5827593326568603,<br>    8.117768287658691<br>  ],<br>  \"params\": {<br>    \"mutation_method\": \"mutConstant\",<br>    \"mutation_prob\": 0.8788215630527032,<br>    \"mutation_rate\": 0.3543498537134758,<br>    \"crossover_method\": \"cxKPoint\",<br>    \"crossover_rate\": 0.8997295249259861,<br>    \"crossover_points\": 1,<br>    \"selection_method\": \"selRandom\",<br>    \"elitism_rate\": 0.8648804590805184,<br>    \"survival_rate\": 0.11245330914786383<br>  }<br>}",
          "{<br>  \"number\": 26,<br>  \"values\": [<br>    0.7990807294845581,<br>    0.7601740837097168,<br>    9.290120363235474<br>  ],<br>  \"params\": {<br>    \"mutation_method\": \"mutConstant\",<br>    \"mutation_prob\": 0.745469334767908,<br>    \"mutation_rate\": 0.014988369636433619,<br>    \"crossover_method\": \"cxUniform\",<br>    \"crossover_rate\": 0.7985845093233377,<br>    \"selection_method\": \"selTournamentWithoutReplacement\",<br>    \"tournsize\": 8,<br>    \"elitism_rate\": 0.513843368314721,<br>    \"survival_rate\": 0.4407762724145538<br>  }<br>}",
          "{<br>  \"number\": 27,<br>  \"values\": [<br>    0.6902449131011963,<br>    0.6584548830986023,<br>    6.343273162841797<br>  ],<br>  \"params\": {<br>    \"mutation_method\": \"mutConstant\",<br>    \"mutation_prob\": 0.5703307642476951,<br>    \"mutation_rate\": 0.38958965389629263,<br>    \"crossover_method\": \"cxKPoint\",<br>    \"crossover_rate\": 0.9208618497612943,<br>    \"crossover_points\": 1,<br>    \"selection_method\": \"selTournamentWithoutReplacement\",<br>    \"tournsize\": 4,<br>    \"elitism_rate\": 0.787415988635883,<br>    \"survival_rate\": 0.33598973378914526<br>  }<br>}",
          "{<br>  \"number\": 28,<br>  \"values\": [<br>    0.533074140548706,<br>    0.5020869135856628,<br>    4.457805633544922<br>  ],<br>  \"params\": {<br>    \"mutation_method\": \"mutEntropy\",<br>    \"mutation_prob\": 0.38124891651324044,<br>    \"mutation_rate_start\": 0.5179493763409413,<br>    \"mutation_rate_end\": 0.6901596474095105,<br>    \"crossover_method\": \"cxKPoint\",<br>    \"crossover_rate\": 0.6893213902430837,<br>    \"crossover_points\": 2,<br>    \"selection_method\": \"selTournamentWithoutReplacement\",<br>    \"tournsize\": 9,<br>    \"elitism_rate\": 0.9943478651517155,<br>    \"survival_rate\": 0.23046343162937152<br>  }<br>}",
          "{<br>  \"number\": 29,<br>  \"values\": [<br>    0.6361677646636963,<br>    0.5857226133346558,<br>    5.091538667678833<br>  ],<br>  \"params\": {<br>    \"mutation_method\": \"mutLinear\",<br>    \"mutation_prob\": 0.7289800610608714,<br>    \"mutation_rate_start\": 0.5462921699926226,<br>    \"mutation_rate_end\": 0.43609510836487797,<br>    \"crossover_method\": \"cxUniform\",<br>    \"crossover_rate\": 0.6042283231143359,<br>    \"selection_method\": \"selTournament\",<br>    \"tournsize\": 6,<br>    \"elitism_rate\": 0.9448877006112935,<br>    \"survival_rate\": 0.4242669292582666<br>  }<br>}",
          "{<br>  \"number\": 30,<br>  \"values\": [<br>    0.6129070520401001,<br>    0.58589688539505,<br>    5.027351140975952<br>  ],<br>  \"params\": {<br>    \"mutation_method\": \"mutLinear\",<br>    \"mutation_prob\": 0.743309684334142,<br>    \"mutation_rate_start\": 0.8046008828664453,<br>    \"mutation_rate_end\": 0.43659019247107067,<br>    \"crossover_method\": \"cxUniform\",<br>    \"crossover_rate\": 0.6195844654903504,<br>    \"selection_method\": \"selTournament\",<br>    \"tournsize\": 8,<br>    \"elitism_rate\": 0.9589685445832843,<br>    \"survival_rate\": 0.43668106700514797<br>  }<br>}",
          "{<br>  \"number\": 31,<br>  \"values\": [<br>    0.8208284378051758,<br>    0.7889212846755982,<br>    7.9705259799957275<br>  ],<br>  \"params\": {<br>    \"mutation_method\": \"mutConstant\",<br>    \"mutation_prob\": 0.7241032195416145,<br>    \"mutation_rate\": 0.09450770661069326,<br>    \"crossover_method\": \"cxUniform\",<br>    \"crossover_rate\": 0.7822698852820764,<br>    \"selection_method\": \"selTournamentWithoutReplacement\",<br>    \"tournsize\": 10,<br>    \"elitism_rate\": 0.5618462456811011,<br>    \"survival_rate\": 0.26469154784006965<br>  }<br>}",
          "{<br>  \"number\": 32,<br>  \"values\": [<br>    0.7668366432189941,<br>    0.7219496011734009,<br>    6.616721868515015<br>  ],<br>  \"params\": {<br>    \"mutation_method\": \"mutConstant\",<br>    \"mutation_prob\": 0.43804829385653293,<br>    \"mutation_rate\": 0.1542585362277079,<br>    \"crossover_method\": \"cxTwoPoint\",<br>    \"crossover_rate\": 0.8214655670831865,<br>    \"crossover_points\": 3,<br>    \"selection_method\": \"selTournament\",<br>    \"tournsize\": 10,<br>    \"elitism_rate\": 0.7027962561139224,<br>    \"survival_rate\": 0.3735978747837502<br>  }<br>}",
          "{<br>  \"number\": 33,<br>  \"values\": [<br>    0.5576106309890747,<br>    0.5355578780174255,<br>    5.944640874862671<br>  ],<br>  \"params\": {<br>    \"mutation_method\": \"mutConstant\",<br>    \"mutation_prob\": 0.5668621913384349,<br>    \"mutation_rate\": 0.9826740180011049,<br>    \"crossover_method\": \"cxUniform\",<br>    \"crossover_rate\": 0.9348154823911109,<br>    \"selection_method\": \"selRoulette\",<br>    \"elitism_rate\": 0.8465405774746432,<br>    \"survival_rate\": 0.30757239754330146<br>  }<br>}",
          "{<br>  \"number\": 34,<br>  \"values\": [<br>    0.6837390065193176,<br>    0.6683830499649048,<br>    5.519277572631836<br>  ],<br>  \"params\": {<br>    \"mutation_method\": \"mutConstant\",<br>    \"mutation_prob\": 0.5755508906721216,<br>    \"mutation_rate\": 0.003715652871261854,<br>    \"crossover_method\": \"cxKPoint\",<br>    \"crossover_rate\": 0.7212900229554746,<br>    \"crossover_points\": 1,<br>    \"selection_method\": \"selTournamentWithoutReplacement\",<br>    \"tournsize\": 9,<br>    \"elitism_rate\": 0.6344741301994463,<br>    \"survival_rate\": 0.5103163732495428<br>  }<br>}",
          "{<br>  \"number\": 35,<br>  \"values\": [<br>    0.8264716863632202,<br>    0.7930272698402405,<br>    9.04025673866272<br>  ],<br>  \"params\": {<br>    \"mutation_method\": \"mutLinear\",<br>    \"mutation_prob\": 0.7993082259714598,<br>    \"mutation_rate_start\": 0.5356238159628599,<br>    \"mutation_rate_end\": 0.005012985110230961,<br>    \"crossover_method\": \"cxTwoPoint\",<br>    \"crossover_rate\": 0.27075359603353216,<br>    \"crossover_points\": 2,<br>    \"selection_method\": \"selStochasticUniversalSampling\",<br>    \"elitism_rate\": 0.4941318980456837,<br>    \"survival_rate\": 0.8572075074092543<br>  }<br>}",
          "{<br>  \"number\": 36,<br>  \"values\": [<br>    0.5762501955032349,<br>    0.5416767477989197,<br>    5.466883420944214<br>  ],<br>  \"params\": {<br>    \"mutation_method\": \"mutConstant\",<br>    \"mutation_prob\": 0.689653853944852,<br>    \"mutation_rate\": 0.7732155073297662,<br>    \"crossover_method\": \"cxUniform\",<br>    \"crossover_rate\": 0.5772544744860586,<br>    \"selection_method\": \"selRoulette\",<br>    \"elitism_rate\": 0.9182863097376107,<br>    \"survival_rate\": 0.11012182674878235<br>  }<br>}",
          "{<br>  \"number\": 37,<br>  \"values\": [<br>    0.6365219950675964,<br>    0.5792543411254882,<br>    6.675653696060181<br>  ],<br>  \"params\": {<br>    \"mutation_method\": \"mutEntropy\",<br>    \"mutation_prob\": 0.41563723625608506,<br>    \"mutation_rate_start\": 0.8229615390385575,<br>    \"mutation_rate_end\": 0.4653782824085525,<br>    \"crossover_method\": \"cxKPoint\",<br>    \"crossover_rate\": 0.8356858479766378,<br>    \"crossover_points\": 1,<br>    \"selection_method\": \"selBoltzmann\",<br>    \"boltzmann_temperature\": 0.9752092270290817,<br>    \"elitism_rate\": 0.7295683528426449,<br>    \"survival_rate\": 0.19214350464668228<br>  }<br>}",
          "{<br>  \"number\": 38,<br>  \"values\": [<br>    0.5935354232788086,<br>    0.5666745066642761,<br>    7.5788726806640625<br>  ],<br>  \"params\": {<br>    \"mutation_method\": \"mutLinear\",<br>    \"mutation_prob\": 0.5276113345614626,<br>    \"mutation_rate_start\": 0.34396569741564126,<br>    \"mutation_rate_end\": 0.9793221980293592,<br>    \"crossover_method\": \"cxOnePoint\",<br>    \"crossover_rate\": 0.42502042119503997,<br>    \"selection_method\": \"selRandom\",<br>    \"elitism_rate\": 0.5806448550118857,<br>    \"survival_rate\": 0.5767789923181699<br>  }<br>}",
          "{<br>  \"number\": 39,<br>  \"values\": [<br>    0.7232884764671326,<br>    0.6599147200584412,<br>    6.357525587081909<br>  ],<br>  \"params\": {<br>    \"mutation_method\": \"mutConstant\",<br>    \"mutation_prob\": 0.7900784306819642,<br>    \"mutation_rate\": 0.14639340574495077,<br>    \"crossover_method\": \"cxTwoPoint\",<br>    \"crossover_rate\": 0.7451231842460793,<br>    \"crossover_points\": 1,<br>    \"selection_method\": \"selNormRoulette\",<br>    \"elitism_rate\": 0.808463881575128,<br>    \"survival_rate\": 0.7363754367080626<br>  }<br>}",
          "{<br>  \"number\": 40,<br>  \"values\": [<br>    0.5917640328407288,<br>    0.5744365930557251,<br>    8.000487804412842<br>  ],<br>  \"params\": {<br>    \"mutation_method\": \"mutEntropy\",<br>    \"mutation_prob\": 0.8832235516317477,<br>    \"mutation_rate_start\": 0.8549547336857555,<br>    \"mutation_rate_end\": 0.7920681908860744,<br>    \"crossover_method\": \"cxOnePoint\",<br>    \"crossover_rate\": 0.6673229325447767,<br>    \"selection_method\": \"selTournament\",<br>    \"tournsize\": 10,<br>    \"elitism_rate\": 0.6787847565242935,<br>    \"survival_rate\": 0.28823873974052094<br>  }<br>}",
          "{<br>  \"number\": 41,<br>  \"values\": [<br>    0.7242881655693054,<br>    0.7057913064956665,<br>    6.01300835609436<br>  ],<br>  \"params\": {<br>    \"mutation_method\": \"mutConstant\",<br>    \"mutation_prob\": 0.6067688204428697,<br>    \"mutation_rate\": 0.007582045199353054,<br>    \"crossover_method\": \"cxKPoint\",<br>    \"crossover_rate\": 0.7526162636945772,<br>    \"crossover_points\": 1,<br>    \"selection_method\": \"selTournamentWithoutReplacement\",<br>    \"tournsize\": 9,<br>    \"elitism_rate\": 0.617149705587237,<br>    \"survival_rate\": 0.39760765558576244<br>  }<br>}",
          "{<br>  \"number\": 42,<br>  \"values\": [<br>    0.7486201524734497,<br>    0.7137616634368896,<br>    5.284050703048706<br>  ],<br>  \"params\": {<br>    \"mutation_method\": \"mutConstant\",<br>    \"mutation_prob\": 0.5791117897939707,<br>    \"mutation_rate\": 0.1128329041731844,<br>    \"crossover_method\": \"cxKPoint\",<br>    \"crossover_rate\": 0.7308194279380388,<br>    \"crossover_points\": 1,<br>    \"selection_method\": \"selTournamentWithoutReplacement\",<br>    \"tournsize\": 9,<br>    \"elitism_rate\": 0.9053767796211049,<br>    \"survival_rate\": 0.5137073235070153<br>  }<br>}",
          "{<br>  \"number\": 43,<br>  \"values\": [<br>    0.8573745489120483,<br>    0.7862641930580139,<br>    10.693814516067505<br>  ],<br>  \"params\": {<br>    \"mutation_method\": \"mutConstant\",<br>    \"mutation_prob\": 0.5208390612831411,<br>    \"mutation_rate\": 0.1301842138427458,<br>    \"crossover_method\": \"cxKPoint\",<br>    \"crossover_rate\": 0.530092678958193,<br>    \"crossover_points\": 2,<br>    \"selection_method\": \"selTournamentWithoutReplacement\",<br>    \"tournsize\": 10,<br>    \"elitism_rate\": 0.019436425655565914,<br>    \"survival_rate\": 0.4845831609635555<br>  }<br>}",
          "{<br>  \"number\": 44,<br>  \"values\": [<br>    0.8650826215744019,<br>    0.8021474599838256,<br>    9.934348344802856<br>  ],<br>  \"params\": {<br>    \"mutation_method\": \"mutConstant\",<br>    \"mutation_prob\": 0.316796981892883,<br>    \"mutation_rate\": 0.14921723296310424,<br>    \"crossover_method\": \"cxKPoint\",<br>    \"crossover_rate\": 0.947447116689346,<br>    \"crossover_points\": 1,<br>    \"selection_method\": \"selTournamentWithoutReplacement\",<br>    \"tournsize\": 10,<br>    \"elitism_rate\": 0.0936608495613292,<br>    \"survival_rate\": 0.47962676269837873<br>  }<br>}",
          "{<br>  \"number\": 45,<br>  \"values\": [<br>    0.6909237504005432,<br>    0.6447667837142944,<br>    5.061288356781006<br>  ],<br>  \"params\": {<br>    \"mutation_method\": \"mutConstant\",<br>    \"mutation_prob\": 0.3155208604582805,<br>    \"mutation_rate\": 0.2458243151627273,<br>    \"crossover_method\": \"cxKPoint\",<br>    \"crossover_rate\": 0.9492567521322971,<br>    \"crossover_points\": 1,<br>    \"selection_method\": \"selTournamentWithoutReplacement\",<br>    \"tournsize\": 9,<br>    \"elitism_rate\": 0.9092716623502966,<br>    \"survival_rate\": 0.3216762560967746<br>  }<br>}",
          "{<br>  \"number\": 46,<br>  \"values\": [<br>    0.7500684261322021,<br>    0.7125379800796509,<br>    5.808561563491821<br>  ],<br>  \"params\": {<br>    \"mutation_method\": \"mutConstant\",<br>    \"mutation_prob\": 0.35158223426886925,<br>    \"mutation_rate\": 0.11109108483818622,<br>    \"crossover_method\": \"cxKPoint\",<br>    \"crossover_rate\": 0.8777268145928776,<br>    \"crossover_points\": 1,<br>    \"selection_method\": \"selTournamentWithoutReplacement\",<br>    \"tournsize\": 8,<br>    \"elitism_rate\": 0.8234273044654884,<br>    \"survival_rate\": 0.536529753235941<br>  }<br>}",
          "{<br>  \"number\": 47,<br>  \"values\": [<br>    0.7621884346008301,<br>    0.7141341805458069,<br>    7.69478178024292<br>  ],<br>  \"params\": {<br>    \"mutation_method\": \"mutConstant\",<br>    \"mutation_prob\": 0.2073029994930864,<br>    \"mutation_rate\": 0.08622167653495534,<br>    \"crossover_method\": \"cxKPoint\",<br>    \"crossover_rate\": 0.7927402905382815,<br>    \"crossover_points\": 1,<br>    \"selection_method\": \"selBoltzmann\",<br>    \"boltzmann_temperature\": 0.03247325800233147,<br>    \"elitism_rate\": 0.41303653753501246,<br>    \"survival_rate\": 0.1108347670105779<br>  }<br>}",
          "{<br>  \"number\": 48,<br>  \"values\": [<br>    0.7918167114257812,<br>    0.7244485139846801,<br>    7.293055534362793<br>  ],<br>  \"params\": {<br>    \"mutation_method\": \"mutConstant\",<br>    \"mutation_prob\": 0.18809126145005847,<br>    \"mutation_rate\": 0.21870606822259137,<br>    \"crossover_method\": \"cxKPoint\",<br>    \"crossover_rate\": 0.3522093100860269,<br>    \"crossover_points\": 1,<br>    \"selection_method\": \"selTournamentWithoutReplacement\",<br>    \"tournsize\": 10,<br>    \"elitism_rate\": 0.5355347098924907,<br>    \"survival_rate\": 0.21994246146768884<br>  }<br>}",
          "{<br>  \"number\": 49,<br>  \"values\": [<br>    0.6980844736099243,<br>    0.6521105885505676,<br>    13.825255632400513<br>  ],<br>  \"params\": {<br>    \"mutation_method\": \"mutConstant\",<br>    \"mutation_prob\": 0.466792321959262,<br>    \"mutation_rate\": 0.34101057748645874,<br>    \"crossover_method\": \"cxKPoint\",<br>    \"crossover_rate\": 0.9632099430308162,<br>    \"crossover_points\": 1,<br>    \"selection_method\": \"selTournamentWithoutReplacement\",<br>    \"tournsize\": 1,<br>    \"elitism_rate\": 0.11834508306916214,<br>    \"survival_rate\": 0.6202229686994529<br>  }<br>}",
          "{<br>  \"number\": 50,<br>  \"values\": [<br>    0.8333197832107544,<br>    0.793281078338623,<br>    14.157666206359863<br>  ],<br>  \"params\": {<br>    \"mutation_method\": \"mutEntropy\",<br>    \"mutation_prob\": 0.38683745307452805,<br>    \"mutation_rate_start\": 0.4407517305683662,<br>    \"mutation_rate_end\": 0.6499326452679253,<br>    \"crossover_method\": \"cxTwoPoint\",<br>    \"crossover_rate\": 0.7083102483183459,<br>    \"crossover_points\": 4,<br>    \"selection_method\": \"selRoulette\",<br>    \"elitism_rate\": 0.289632447656809,<br>    \"survival_rate\": 0.8959619213744233<br>  }<br>}",
          "{<br>  \"number\": 51,<br>  \"values\": [<br>    0.8692777156829834,<br>    0.7756580710411072,<br>    11.72983169555664<br>  ],<br>  \"params\": {<br>    \"mutation_method\": \"mutConstant\",<br>    \"mutation_prob\": 0.3201795683905999,<br>    \"mutation_rate\": 0.06928644543233717,<br>    \"crossover_method\": \"cxKPoint\",<br>    \"crossover_rate\": 0.9601122782406033,<br>    \"crossover_points\": 1,<br>    \"selection_method\": \"selTournamentWithoutReplacement\",<br>    \"tournsize\": 9,<br>    \"elitism_rate\": 0.3782954300430988,<br>    \"survival_rate\": 0.3145191294278597<br>  }<br>}",
          "{<br>  \"number\": 52,<br>  \"values\": [<br>    0.7243697643280029,<br>    0.7019487619400024,<br>    8.364702701568604<br>  ],<br>  \"params\": {<br>    \"mutation_method\": \"mutConstant\",<br>    \"mutation_prob\": 0.9423970773096122,<br>    \"mutation_rate\": 0.19780003139526087,<br>    \"crossover_method\": \"cxKPoint\",<br>    \"crossover_rate\": 0.83461718117613,<br>    \"crossover_points\": 1,<br>    \"selection_method\": \"selTournamentWithoutReplacement\",<br>    \"tournsize\": 9,<br>    \"elitism_rate\": 0.896258005417526,<br>    \"survival_rate\": 0.1711414058173923<br>  }<br>}",
          "{<br>  \"number\": 53,<br>  \"values\": [<br>    0.7580796480178833,<br>    0.7063711285591125,<br>    8.839512586593628<br>  ],<br>  \"params\": {<br>    \"mutation_method\": \"mutConstant\",<br>    \"mutation_prob\": 0.3251277719982326,<br>    \"mutation_rate\": 0.07963211774019531,<br>    \"crossover_method\": \"cxKPoint\",<br>    \"crossover_rate\": 0.8668609012564503,<br>    \"crossover_points\": 1,<br>    \"selection_method\": \"selTournamentWithoutReplacement\",<br>    \"tournsize\": 10,<br>    \"elitism_rate\": 0.7502909404302258,<br>    \"survival_rate\": 0.2684046101468821<br>  }<br>}",
          "{<br>  \"number\": 54,<br>  \"values\": [<br>    0.69142746925354,<br>    0.6631678342819214,<br>    11.409740447998047<br>  ],<br>  \"params\": {<br>    \"mutation_method\": \"mutConstant\",<br>    \"mutation_prob\": 0.2854751152153699,<br>    \"mutation_rate\": 0.2701622206684078,<br>    \"crossover_method\": \"cxOnePoint\",<br>    \"crossover_rate\": 0.9032683106862296,<br>    \"selection_method\": \"selStochasticUniversalSampling\",<br>    \"elitism_rate\": 0.4804850755719622,<br>    \"survival_rate\": 0.33853645303018987<br>  }<br>}",
          "{<br>  \"number\": 55,<br>  \"values\": [<br>    0.591215193271637,<br>    0.574392294883728,<br>    16.857346057891846<br>  ],<br>  \"params\": {<br>    \"mutation_method\": \"mutExponential\",<br>    \"mutation_prob\": 0.9861964039255972,<br>    \"mutation_rate_start\": 0.5831225515443533,<br>    \"mutation_rate_end\": 0.802685188826328,<br>    \"mutation_rate_degree\": 1,<br>    \"crossover_method\": \"cxKPoint\",<br>    \"crossover_rate\": 0.9632491857861658,<br>    \"crossover_points\": 3,<br>    \"selection_method\": \"selNormRoulette\",<br>    \"elitism_rate\": 0.15581017058485147,<br>    \"survival_rate\": 0.05638260191246913<br>  }<br>}",
          "{<br>  \"number\": 56,<br>  \"values\": [<br>    0.7047635316848755,<br>    0.6597479820251465,<br>    10.693931341171265<br>  ],<br>  \"params\": {<br>    \"mutation_method\": \"mutConstant\",<br>    \"mutation_prob\": 0.4475444596426982,<br>    \"mutation_rate\": 0.165317778090724,<br>    \"crossover_method\": \"cxKPoint\",<br>    \"crossover_rate\": 0.7798982685981093,<br>    \"crossover_points\": 4,<br>    \"selection_method\": \"selRandom\",<br>    \"elitism_rate\": 0.6621848504388042,<br>    \"survival_rate\": 0.39320514992438516<br>  }<br>}",
          "{<br>  \"number\": 57,<br>  \"values\": [<br>    0.664401113986969,<br>    0.634699821472168,<br>    12.914820194244385<br>  ],<br>  \"params\": {<br>    \"mutation_method\": \"mutConstant\",<br>    \"mutation_prob\": 0.5032255506666872,<br>    \"mutation_rate\": 0.5549925802391695,<br>    \"crossover_method\": \"cxKPoint\",<br>    \"crossover_rate\": 0.19373149587903227,<br>    \"crossover_points\": 1,<br>    \"selection_method\": \"selTournamentWithoutReplacement\",<br>    \"tournsize\": 9,<br>    \"elitism_rate\": 0.25558913057255594,<br>    \"survival_rate\": 0.7030730424300224<br>  }<br>}",
          "{<br>  \"number\": 58,<br>  \"values\": [<br>    0.5417815446853638,<br>    0.5014139175415039,<br>    3.5364763736724854<br>  ],<br>  \"params\": {<br>    \"mutation_method\": \"mutEntropy\",<br>    \"mutation_prob\": 0.12862943767743218,<br>    \"mutation_rate_start\": 0.2771588352197157,<br>    \"mutation_rate_end\": 0.22803692701909495,<br>    \"crossover_method\": \"cxKPoint\",<br>    \"crossover_rate\": 0.4641562049690571,<br>    \"crossover_points\": 1,<br>    \"selection_method\": \"selBoltzmann\",<br>    \"boltzmann_temperature\": 0.9901729812505086,<br>    \"elitism_rate\": 0.9682397891099914,<br>    \"survival_rate\": 0.15052306586987838<br>  }<br>}",
          "{<br>  \"number\": 59,<br>  \"values\": [<br>    0.7137970924377441,<br>    0.6440411925315856,<br>    11.32872200012207<br>  ],<br>  \"params\": {<br>    \"mutation_method\": \"mutExponential\",<br>    \"mutation_prob\": 0.1829051155404292,<br>    \"mutation_rate_start\": 0.8928535896981982,<br>    \"mutation_rate_end\": 0.9971069374765588,<br>    \"mutation_rate_degree\": 2,<br>    \"crossover_method\": \"cxOnePoint\",<br>    \"crossover_rate\": 0.9323396609026964,<br>    \"selection_method\": \"selTournamentWithoutReplacement\",<br>    \"tournsize\": 10,<br>    \"elitism_rate\": 0.3676515214579824,<br>    \"survival_rate\": 0.47593452075575<br>  }<br>}",
          "{<br>  \"number\": 60,<br>  \"values\": [<br>    0.7423235177993774,<br>    0.7156306266784668,<br>    11.22008204460144<br>  ],<br>  \"params\": {<br>    \"mutation_method\": \"mutConstant\",<br>    \"mutation_prob\": 0.25314627217705615,<br>    \"mutation_rate\": 0.44911930613915707,<br>    \"crossover_method\": \"cxTwoPoint\",<br>    \"crossover_rate\": 0.8444794328300604,<br>    \"crossover_points\": 1,<br>    \"selection_method\": \"selBest\",<br>    \"elitism_rate\": 0.041419578733483675,<br>    \"survival_rate\": 0.22476415128329336<br>  }<br>}",
          "{<br>  \"number\": 61,<br>  \"values\": [<br>    0.7786968946456909,<br>    0.756228768825531,<br>    7.699518918991089<br>  ],<br>  \"params\": {<br>    \"mutation_method\": \"mutConstant\",<br>    \"mutation_prob\": 0.30781336077782195,<br>    \"mutation_rate\": 0.06714121654920538,<br>    \"crossover_method\": \"cxKPoint\",<br>    \"crossover_rate\": 0.968033012741237,<br>    \"crossover_points\": 1,<br>    \"selection_method\": \"selTournamentWithoutReplacement\",<br>    \"tournsize\": 9,<br>    \"elitism_rate\": 0.3842895413698655,<br>    \"survival_rate\": 0.3193598958747742<br>  }<br>}",
          "{<br>  \"number\": 62,<br>  \"values\": [<br>    0.8374745845794678,<br>    0.7757434844970703,<br>    9.254179239273071<br>  ],<br>  \"params\": {<br>    \"mutation_method\": \"mutConstant\",<br>    \"mutation_prob\": 0.38120759214627853,<br>    \"mutation_rate\": 0.058752422086049305,<br>    \"crossover_method\": \"cxKPoint\",<br>    \"crossover_rate\": 0.8929779694531698,<br>    \"crossover_points\": 1,<br>    \"selection_method\": \"selTournamentWithoutReplacement\",<br>    \"tournsize\": 10,<br>    \"elitism_rate\": 0.07197244926131763,<br>    \"survival_rate\": 0.28560773324884026<br>  }<br>}",
          "{<br>  \"number\": 63,<br>  \"values\": [<br>    0.5538285374641418,<br>    0.5171374559402466,<br>    5.186428546905518<br>  ],<br>  \"params\": {<br>    \"mutation_method\": \"mutConstant\",<br>    \"mutation_prob\": 0.3358394981590884,<br>    \"mutation_rate\": 0.7147508508622937,<br>    \"crossover_method\": \"cxKPoint\",<br>    \"crossover_rate\": 0.8014396273783416,<br>    \"crossover_points\": 1,<br>    \"selection_method\": \"selTournamentWithoutReplacement\",<br>    \"tournsize\": 3,<br>    \"elitism_rate\": 0.91421819338885,<br>    \"survival_rate\": 0.3571582676443261<br>  }<br>}",
          "{<br>  \"number\": 64,<br>  \"values\": [<br>    0.5844070911407471,<br>    0.535198175907135,<br>    1.8827767372131348<br>  ],<br>  \"params\": {<br>    \"mutation_method\": \"mutConstant\",<br>    \"mutation_prob\": 0.28234951154978644,<br>    \"mutation_rate\": 0.05304202575574599,<br>    \"crossover_method\": \"cxKPoint\",<br>    \"crossover_rate\": 0.932311460328832,<br>    \"crossover_points\": 1,<br>    \"selection_method\": \"selTournamentWithoutReplacement\",<br>    \"tournsize\": 9,<br>    \"elitism_rate\": 0.9998931820590614,<br>    \"survival_rate\": 0.41867681141559154<br>  }<br>}",
          "{<br>  \"number\": 65,<br>  \"values\": [<br>    0.5925326943397522,<br>    0.5649633765220642,<br>    7.221463918685913<br>  ],<br>  \"params\": {<br>    \"mutation_method\": \"mutLinear\",<br>    \"mutation_prob\": 0.08023241099148726,<br>    \"mutation_rate_start\": 0.7557504320142315,<br>    \"mutation_rate_end\": 0.5714073835642428,<br>    \"crossover_method\": \"cxKPoint\",<br>    \"crossover_rate\": 0.9995855431093569,<br>    \"crossover_points\": 4,<br>    \"selection_method\": \"selStochasticUniversalSampling\",<br>    \"elitism_rate\": 0.4578871519919523,<br>    \"survival_rate\": 0.5551085833978749<br>  }<br>}",
          "{<br>  \"number\": 66,<br>  \"values\": [<br>    0.6962236762046814,<br>    0.6395657539367676,<br>    5.9245710372924805<br>  ],<br>  \"params\": {<br>    \"mutation_method\": \"mutExponential\",<br>    \"mutation_prob\": 0.692830673776271,<br>    \"mutation_rate_start\": 0.6101215990487464,<br>    \"mutation_rate_end\": 0.2697400998315623,<br>    \"mutation_rate_degree\": 2,<br>    \"crossover_method\": \"cxUniform\",<br>    \"crossover_rate\": 0.7428408533141821,<br>    \"selection_method\": \"selTournamentWithoutReplacement\",<br>    \"tournsize\": 9,<br>    \"elitism_rate\": 0.8315053460957803,<br>    \"survival_rate\": 0.42132340043427136<br>  }<br>}",
          "{<br>  \"number\": 67,<br>  \"values\": [<br>    0.5760484933853149,<br>    0.552339243888855,<br>    6.5084569454193115<br>  ],<br>  \"params\": {<br>    \"mutation_method\": \"mutConstant\",<br>    \"mutation_prob\": 0.6045584180275481,<br>    \"mutation_rate\": 0.8906787970891297,<br>    \"crossover_method\": \"cxKPoint\",<br>    \"crossover_rate\": 0.8212136907415479,<br>    \"crossover_points\": 2,<br>    \"selection_method\": \"selRandom\",<br>    \"elitism_rate\": 0.7618217856339105,<br>    \"survival_rate\": 0.45627777234733763<br>  }<br>}",
          "{<br>  \"number\": 68,<br>  \"values\": [<br>    0.6379641890525818,<br>    0.5875467658042908,<br>    5.691802740097046<br>  ],<br>  \"params\": {<br>    \"mutation_method\": \"mutEntropy\",<br>    \"mutation_prob\": 0.41601788080030655,<br>    \"mutation_rate_start\": 0.45815488607984733,<br>    \"mutation_rate_end\": 0.07015142811857289,<br>    \"crossover_method\": \"cxOnePoint\",<br>    \"crossover_rate\": 0.6525348698047082,<br>    \"selection_method\": \"selRoulette\",<br>    \"elitism_rate\": 0.8714095914286389,<br>    \"survival_rate\": 0.1988900355223965<br>  }<br>}",
          "{<br>  \"number\": 69,<br>  \"values\": [<br>    0.5286989808082581,<br>    0.5028066396713257,<br>    4.430026292800903<br>  ],<br>  \"params\": {<br>    \"mutation_method\": \"mutLinear\",<br>    \"mutation_prob\": 0.8289871699967705,<br>    \"mutation_rate_start\": 0.18562255667520788,<br>    \"mutation_rate_end\": 0.7121140869580633,<br>    \"crossover_method\": \"cxKPoint\",<br>    \"crossover_rate\": 0.06653538213172139,<br>    \"crossover_points\": 3,<br>    \"selection_method\": \"selNormRoulette\",<br>    \"elitism_rate\": 0.9992141206967006,<br>    \"survival_rate\": 0.2528188728339185<br>  }<br>}",
          "{<br>  \"number\": 70,<br>  \"values\": [<br>    0.7526695132255554,<br>    0.7094979882240295,<br>    7.636411428451538<br>  ],<br>  \"params\": {<br>    \"mutation_method\": \"mutConstant\",<br>    \"mutation_prob\": 0.48061659636756116,<br>    \"mutation_rate\": 0.27393910569916036,<br>    \"crossover_method\": \"cxTwoPoint\",<br>    \"crossover_rate\": 0.9116618526145706,<br>    \"crossover_points\": 1,<br>    \"selection_method\": \"selTournamentWithoutReplacement\",<br>    \"tournsize\": 4,<br>    \"elitism_rate\": 0.5357716256795709,<br>    \"survival_rate\": 0.5231130712455232<br>  }<br>}",
          "{<br>  \"number\": 71,<br>  \"values\": [<br>    0.8624998331069946,<br>    0.7595485568046569,<br>    8.962169647216797<br>  ],<br>  \"params\": {<br>    \"mutation_method\": \"mutConstant\",<br>    \"mutation_prob\": 0.28682166310026946,<br>    \"mutation_rate\": 0.059138748649512365,<br>    \"crossover_method\": \"cxKPoint\",<br>    \"crossover_rate\": 0.9394942785849485,<br>    \"crossover_points\": 1,<br>    \"selection_method\": \"selTournamentWithoutReplacement\",<br>    \"tournsize\": 10,<br>    \"elitism_rate\": 0.21928420413268934,<br>    \"survival_rate\": 0.9811104499102568<br>  }<br>}",
          "{<br>  \"number\": 72,<br>  \"values\": [<br>    0.8872778415679932,<br>    0.810823404788971,<br>    9.5696542263031<br>  ],<br>  \"params\": {<br>    \"mutation_method\": \"mutConstant\",<br>    \"mutation_prob\": 0.7749303187714041,<br>    \"mutation_rate\": 0.039110120182776376,<br>    \"crossover_method\": \"cxKPoint\",<br>    \"crossover_rate\": 0.8875376195447244,<br>    \"crossover_points\": 1,<br>    \"selection_method\": \"selBest\",<br>    \"elitism_rate\": 0.19767572073937745,<br>    \"survival_rate\": 0.9838008994647881<br>  }<br>}",
          "{<br>  \"number\": 73,<br>  \"values\": [<br>    0.8618898987770081,<br>    0.8128230690956115,<br>    11.053302764892578<br>  ],<br>  \"params\": {<br>    \"mutation_method\": \"mutConstant\",<br>    \"mutation_prob\": 0.7746137069489649,<br>    \"mutation_rate\": 0.04517597526198858,<br>    \"crossover_method\": \"cxKPoint\",<br>    \"crossover_rate\": 0.8758241336089164,<br>    \"crossover_points\": 2,<br>    \"selection_method\": \"selBest\",<br>    \"elitism_rate\": 0.2483516137186103,<br>    \"survival_rate\": 0.9826780856477177<br>  }<br>}",
          "{<br>  \"number\": 74,<br>  \"values\": [<br>    0.8608505725860596,<br>    0.8328556537628173,<br>    11.936561822891235<br>  ],<br>  \"params\": {<br>    \"mutation_method\": \"mutConstant\",<br>    \"mutation_prob\": 0.5490260569162128,<br>    \"mutation_rate\": 0.030829764756427024,<br>    \"crossover_method\": \"cxUniform\",<br>    \"crossover_rate\": 0.6888467311170552,<br>    \"selection_method\": \"selBest\",<br>    \"elitism_rate\": 0.33567201638606226,<br>    \"survival_rate\": 0.8918362667557032<br>  }<br>}",
          "{<br>  \"number\": 77,<br>  \"values\": [<br>    0.8873186111450195,<br>    0.8130439996719361,<br>    10.459941625595093<br>  ],<br>  \"params\": {<br>    \"mutation_method\": \"mutConstant\",<br>    \"mutation_prob\": 0.6705630288464847,<br>    \"mutation_rate\": 0.10981501202508143,<br>    \"crossover_method\": \"cxUniform\",<br>    \"crossover_rate\": 0.8127409858604039,<br>    \"selection_method\": \"selTournament\",<br>    \"tournsize\": 8,<br>    \"elitism_rate\": 0.16699063084759572,<br>    \"survival_rate\": 0.8568154724845319<br>  }<br>}",
          "{<br>  \"number\": 78,<br>  \"values\": [<br>    0.7244789600372314,<br>    0.6851771116256714,<br>    10.521625518798828<br>  ],<br>  \"params\": {<br>    \"mutation_method\": \"mutExponential\",<br>    \"mutation_prob\": 0.6213987529324426,<br>    \"mutation_rate_start\": 0.9400192858671944,<br>    \"mutation_rate_end\": 0.6268602220523751,<br>    \"mutation_rate_degree\": 3,<br>    \"crossover_method\": \"cxUniform\",<br>    \"crossover_rate\": 0.7229181725257986,<br>    \"selection_method\": \"selTournament\",<br>    \"tournsize\": 7,<br>    \"elitism_rate\": 0.22015146318665016,<br>    \"survival_rate\": 0.9331065476126693<br>  }<br>}",
          "{<br>  \"number\": 79,<br>  \"values\": [<br>    0.8670804500579834,<br>    0.8030961036682129,<br>    10.866069793701172<br>  ],<br>  \"params\": {<br>    \"mutation_method\": \"mutConstant\",<br>    \"mutation_prob\": 0.5845675595104045,<br>    \"mutation_rate\": 0.18800307309779818,<br>    \"crossover_method\": \"cxUniform\",<br>    \"crossover_rate\": 0.8474865896938001,<br>    \"selection_method\": \"selTournament\",<br>    \"tournsize\": 5,<br>    \"elitism_rate\": 0.12787536055000037,<br>    \"survival_rate\": 0.7726682560712866<br>  }<br>}",
          "{<br>  \"number\": 80,<br>  \"values\": [<br>    0.8427196741104126,<br>    0.8100426435470581,<br>    10.697926759719849<br>  ],<br>  \"params\": {<br>    \"mutation_method\": \"mutLinear\",<br>    \"mutation_prob\": 0.6442054565569234,<br>    \"mutation_rate_start\": 0.29098033658817885,<br>    \"mutation_rate_end\": 0.5055138044718712,<br>    \"crossover_method\": \"cxUniform\",<br>    \"crossover_rate\": 0.7699702246116933,<br>    \"selection_method\": \"selBoltzmann\",<br>    \"boltzmann_temperature\": 0.4603510487485151,<br>    \"elitism_rate\": 0.2955799573163242,<br>    \"survival_rate\": 0.8052707665245695<br>  }<br>}",
          "{<br>  \"number\": 83,<br>  \"values\": [<br>    0.60161954164505,<br>    0.5521320581436158,<br>    5.453848600387573<br>  ],<br>  \"params\": {<br>    \"mutation_method\": \"mutEntropy\",<br>    \"mutation_prob\": 0.7139896960751873,<br>    \"mutation_rate_start\": 0.6435405076587413,<br>    \"mutation_rate_end\": 0.404275269236135,<br>    \"crossover_method\": \"cxUniform\",<br>    \"crossover_rate\": 0.3878018125980798,<br>    \"selection_method\": \"selBest\",<br>    \"elitism_rate\": 0.9509807799837621,<br>    \"survival_rate\": 0.922799994765758<br>  }<br>}",
          "{<br>  \"number\": 84,<br>  \"values\": [<br>    0.8242324590682983,<br>    0.7697979569435119,<br>    7.232109785079956<br>  ],<br>  \"params\": {<br>    \"mutation_method\": \"mutConstant\",<br>    \"mutation_prob\": 0.7487767065908919,<br>    \"mutation_rate\": 0.0013882251855541483,<br>    \"crossover_method\": \"cxUniform\",<br>    \"crossover_rate\": 0.2788762961266261,<br>    \"selection_method\": \"selBest\",<br>    \"elitism_rate\": 0.2151994605316434,<br>    \"survival_rate\": 0.991958961684842<br>  }<br>}",
          "{<br>  \"number\": 85,<br>  \"values\": [<br>    0.6371427178382874,<br>    0.6026830315589905,<br>    6.328842401504517<br>  ],<br>  \"params\": {<br>    \"mutation_method\": \"mutConstant\",<br>    \"mutation_prob\": 0.6642308724367513,<br>    \"mutation_rate\": 0.6458389072354009,<br>    \"crossover_method\": \"cxUniform\",<br>    \"crossover_rate\": 0.4376871173915563,<br>    \"selection_method\": \"selBest\",<br>    \"elitism_rate\": 0.8022552371343897,<br>    \"survival_rate\": 0.8624855462912895<br>  }<br>}",
          "{<br>  \"number\": 86,<br>  \"values\": [<br>    0.7762359380722046,<br>    0.7039140582084655,<br>    4.806036710739136<br>  ],<br>  \"params\": {<br>    \"mutation_method\": \"mutConstant\",<br>    \"mutation_prob\": 0.8548651454403737,<br>    \"mutation_rate\": 0.051594097601363936,<br>    \"crossover_method\": \"cxUniform\",<br>    \"crossover_rate\": 0.19404045529322245,<br>    \"selection_method\": \"selBest\",<br>    \"elitism_rate\": 0.9643818486974902,<br>    \"survival_rate\": 0.9529851607570938<br>  }<br>}",
          "{<br>  \"number\": 87,<br>  \"values\": [<br>    0.7375279664993286,<br>    0.6734021544456482,<br>    4.528090476989746<br>  ],<br>  \"params\": {<br>    \"mutation_method\": \"mutConstant\",<br>    \"mutation_prob\": 0.7721131041837015,<br>    \"mutation_rate\": 0.03940604391759493,<br>    \"crossover_method\": \"cxUniform\",<br>    \"crossover_rate\": 0.16291715294835063,<br>    \"selection_method\": \"selBest\",<br>    \"elitism_rate\": 0.9780984363072686,<br>    \"survival_rate\": 0.9647527953496414<br>  }<br>}",
          "{<br>  \"number\": 88,<br>  \"values\": [<br>    0.787883460521698,<br>    0.7551933169364929,<br>    5.7911012172698975<br>  ],<br>  \"params\": {<br>    \"mutation_method\": \"mutConstant\",<br>    \"mutation_prob\": 0.7697348926005387,<br>    \"mutation_rate\": 0.0934487282632089,<br>    \"crossover_method\": \"cxUniform\",<br>    \"crossover_rate\": 0.5104276427231389,<br>    \"selection_method\": \"selBest\",<br>    \"elitism_rate\": 0.8722729427468549,<br>    \"survival_rate\": 0.9072485608502142<br>  }<br>}",
          "{<br>  \"number\": 89,<br>  \"values\": [<br>    0.5488332509994507,<br>    0.5233053207397461,<br>    1.0841686725616455<br>  ],<br>  \"params\": {<br>    \"mutation_method\": \"mutConstant\",<br>    \"mutation_prob\": 0.8091943312001051,<br>    \"mutation_rate\": 0.0027834041395852424,<br>    \"crossover_method\": \"cxUniform\",<br>    \"crossover_rate\": 0.12630965215660395,<br>    \"selection_method\": \"selBest\",<br>    \"elitism_rate\": 0.9716005560718396,<br>    \"survival_rate\": 0.9651439645278914<br>  }<br>}",
          "{<br>  \"number\": 90,<br>  \"values\": [<br>    0.785000205039978,<br>    0.7320003747940064,<br>    5.642149448394775<br>  ],<br>  \"params\": {<br>    \"mutation_method\": \"mutConstant\",<br>    \"mutation_prob\": 0.7049994390897293,<br>    \"mutation_rate\": 0.13333826716138483,<br>    \"crossover_method\": \"cxUniform\",<br>    \"crossover_rate\": 0.16756048214727817,<br>    \"selection_method\": \"selBest\",<br>    \"elitism_rate\": 0.9394881394856864,<br>    \"survival_rate\": 0.833084328954251<br>  }<br>}",
          "{<br>  \"number\": 91,<br>  \"values\": [<br>    0.8656853437423706,<br>    0.8271149516105651,<br>    9.263393640518188<br>  ],<br>  \"params\": {<br>    \"mutation_method\": \"mutConstant\",<br>    \"mutation_prob\": 0.7385978832089074,<br>    \"mutation_rate\": 0.03307300260997971,<br>    \"crossover_method\": \"cxUniform\",<br>    \"crossover_rate\": 0.06937960746378194,<br>    \"selection_method\": \"selBest\",<br>    \"elitism_rate\": 0.18886222003479636,<br>    \"survival_rate\": 0.9299167900176151<br>  }<br>}",
          "{<br>  \"number\": 92,<br>  \"values\": [<br>    0.8144384622573853,<br>    0.7797468185424805,<br>    6.472506284713745<br>  ],<br>  \"params\": {<br>    \"mutation_method\": \"mutConstant\",<br>    \"mutation_prob\": 0.6185210094023408,<br>    \"mutation_rate\": 0.031538524508824356,<br>    \"crossover_method\": \"cxUniform\",<br>    \"crossover_rate\": 0.05502756567735692,<br>    \"selection_method\": \"selBest\",<br>    \"elitism_rate\": 0.6838967183688462,<br>    \"survival_rate\": 0.9432879438950882<br>  }<br>}",
          "{<br>  \"number\": 94,<br>  \"values\": [<br>    0.5985336899757385,<br>    0.5813653469085693,<br>    8.573959589004517<br>  ],<br>  \"params\": {<br>    \"mutation_method\": \"mutLinear\",<br>    \"mutation_prob\": 0.8644162185304107,<br>    \"mutation_rate_start\": 0.7343939724410384,<br>    \"mutation_rate_end\": 0.8451004603482436,<br>    \"crossover_method\": \"cxUniform\",<br>    \"crossover_rate\": 0.2250504979342035,<br>    \"selection_method\": \"selTournament\",<br>    \"tournsize\": 6,<br>    \"elitism_rate\": 0.6187392936268206,<br>    \"survival_rate\": 0.8127811601192753<br>  }<br>}",
          "{<br>  \"number\": 95,<br>  \"values\": [<br>    0.6095179915428162,<br>    0.5769115805625915,<br>    8.35151720046997<br>  ],<br>  \"params\": {<br>    \"mutation_method\": \"mutExponential\",<br>    \"mutation_prob\": 0.8336600523998451,<br>    \"mutation_rate_start\": 0.9236561767509625,<br>    \"mutation_rate_end\": 0.7387030947333222,<br>    \"mutation_rate_degree\": 1,<br>    \"crossover_method\": \"cxUniform\",<br>    \"crossover_rate\": 0.157441258575801,<br>    \"selection_method\": \"selTournament\",<br>    \"tournsize\": 6,<br>    \"elitism_rate\": 0.5871555110031381,<br>    \"survival_rate\": 0.7820479121911165<br>  }<br>}",
          "{<br>  \"number\": 96,<br>  \"values\": [<br>    0.8515413999557495,<br>    0.7729399085044861,<br>    9.516045331954956<br>  ],<br>  \"params\": {<br>    \"mutation_method\": \"mutEntropy\",<br>    \"mutation_prob\": 0.7573775166657539,<br>    \"mutation_rate_start\": 0.43087532840808057,<br>    \"mutation_rate_end\": 0.2593290881089406,<br>    \"crossover_method\": \"cxUniform\",<br>    \"crossover_rate\": 0.23373180422605985,<br>    \"selection_method\": \"selTournament\",<br>    \"tournsize\": 7,<br>    \"elitism_rate\": 0.41251473384808224,<br>    \"survival_rate\": 0.8747035604670585<br>  }<br>}",
          "{<br>  \"number\": 97,<br>  \"values\": [<br>    0.7295569181442261,<br>    0.7139707326889038,<br>    8.791261196136475<br>  ],<br>  \"params\": {<br>    \"mutation_method\": \"mutExponential\",<br>    \"mutation_prob\": 0.896299894884595,<br>    \"mutation_rate_start\": 0.3401613883009468,<br>    \"mutation_rate_end\": 0.5079662723616286,<br>    \"mutation_rate_degree\": 2,<br>    \"crossover_method\": \"cxUniform\",<br>    \"crossover_rate\": 0.21011186256822462,<br>    \"selection_method\": \"selTournament\",<br>    \"tournsize\": 4,<br>    \"elitism_rate\": 0.5597420444748674,<br>    \"survival_rate\": 0.8326206854978777<br>  }<br>}",
          "{<br>  \"number\": 98,<br>  \"values\": [<br>    0.7557958960533142,<br>    0.6944842100143432,<br>    7.782492399215698<br>  ],<br>  \"params\": {<br>    \"mutation_method\": \"mutLinear\",<br>    \"mutation_prob\": 0.906786875151381,<br>    \"mutation_rate_start\": 0.05348032108737111,<br>    \"mutation_rate_end\": 0.9396365233347528,<br>    \"crossover_method\": \"cxTwoPoint\",<br>    \"crossover_rate\": 0.27796468851580924,<br>    \"crossover_points\": 4,<br>    \"selection_method\": \"selTournament\",<br>    \"tournsize\": 5,<br>    \"elitism_rate\": 0.6590747804253947,<br>    \"survival_rate\": 0.7546980377207205<br>  }<br>}",
          "{<br>  \"number\": 99,<br>  \"values\": [<br>    0.7143161296844482,<br>    0.6924257636070251,<br>    7.26221489906311<br>  ],<br>  \"params\": {<br>    \"mutation_method\": \"mutEntropy\",<br>    \"mutation_prob\": 0.7258154867537133,<br>    \"mutation_rate_start\": 0.714620243363292,<br>    \"mutation_rate_end\": 0.07398802611922095,<br>    \"crossover_method\": \"cxOnePoint\",<br>    \"crossover_rate\": 0.31505128217480793,<br>    \"selection_method\": \"selTournament\",<br>    \"tournsize\": 3,<br>    \"elitism_rate\": 0.7119349130095706,<br>    \"survival_rate\": 0.718064843380899<br>  }<br>}",
          "{<br>  \"number\": 100,<br>  \"values\": [<br>    0.8552659749984741,<br>    0.8195011258125305,<br>    8.600071668624878<br>  ],<br>  \"params\": {<br>    \"mutation_method\": \"mutConstant\",<br>    \"mutation_prob\": 0.8171503615311478,<br>    \"mutation_rate\": 0.17250058548939565,<br>    \"crossover_method\": \"cxUniform\",<br>    \"crossover_rate\": 0.0987223944375134,<br>    \"selection_method\": \"selTournament\",<br>    \"tournsize\": 6,<br>    \"elitism_rate\": 0.5005654064794194,<br>    \"survival_rate\": 0.9074786465634974<br>  }<br>}",
          "{<br>  \"number\": 101,<br>  \"values\": [<br>    0.7075375914573669,<br>    0.656189751625061,<br>    6.790233612060547<br>  ],<br>  \"params\": {<br>    \"mutation_method\": \"mutConstant\",<br>    \"mutation_prob\": 0.7885270425902492,<br>    \"mutation_rate\": 0.909439839265188,<br>    \"crossover_method\": \"cxUniform\",<br>    \"crossover_rate\": 0.33215237795807295,<br>    \"selection_method\": \"selTournament\",<br>    \"tournsize\": 7,<br>    \"elitism_rate\": 0.7472479508275109,<br>    \"survival_rate\": 0.8476720065125134<br>  }<br>}",
          "{<br>  \"number\": 102,<br>  \"values\": [<br>    0.703630805015564,<br>    0.6377573728561401,<br>    8.845324993133545<br>  ],<br>  \"params\": {<br>    \"mutation_method\": \"mutConstant\",<br>    \"mutation_prob\": 0.6976244596372063,<br>    \"mutation_rate\": 0.7903478541589886,<br>    \"crossover_method\": \"cxUniform\",<br>    \"crossover_rate\": 0.25824085677375974,<br>    \"selection_method\": \"selTournament\",<br>    \"tournsize\": 1,<br>    \"elitism_rate\": 0.46246724295472574,<br>    \"survival_rate\": 0.875383359888928<br>  }<br>}",
          "{<br>  \"number\": 103,<br>  \"values\": [<br>    0.7372389435768127,<br>    0.7100221037864685,<br>    8.243107795715332<br>  ],<br>  \"params\": {<br>    \"mutation_method\": \"mutExponential\",<br>    \"mutation_prob\": 0.6778085681631827,<br>    \"mutation_rate_start\": 0.1408015204890284,<br>    \"mutation_rate_end\": 0.8428397534439462,<br>    \"mutation_rate_degree\": 3,<br>    \"crossover_method\": \"cxUniform\",<br>    \"crossover_rate\": 0.19778818725179884,<br>    \"selection_method\": \"selStochasticUniversalSampling\",<br>    \"elitism_rate\": 0.6382610639958204,<br>    \"survival_rate\": 0.9629976173132956<br>  }<br>}",
          "{<br>  \"number\": 104,<br>  \"values\": [<br>    0.6796737909317017,<br>    0.6543216466903686,<br>    8.468327522277832<br>  ],<br>  \"params\": {<br>    \"mutation_method\": \"mutLinear\",<br>    \"mutation_prob\": 0.6481193726805999,<br>    \"mutation_rate_start\": 0.7654330586746295,<br>    \"mutation_rate_end\": 0.607994089697357,<br>    \"crossover_method\": \"cxTwoPoint\",<br>    \"crossover_rate\": 0.13929251144271104,<br>    \"crossover_points\": 3,<br>    \"selection_method\": \"selRoulette\",<br>    \"elitism_rate\": 0.5268634147897292,<br>    \"survival_rate\": 0.6787402337544532<br>  }<br>}",
          "{<br>  \"number\": 105,<br>  \"values\": [<br>    0.8697941303253174,<br>    0.8079589486122132,<br>    9.395375728607178<br>  ],<br>  \"params\": {<br>    \"mutation_method\": \"mutEntropy\",<br>    \"mutation_prob\": 0.8563450768394918,<br>    \"mutation_rate_start\": 0.21401845831856336,<br>    \"mutation_rate_end\": 0.19818388506384188,<br>    \"crossover_method\": \"cxOnePoint\",<br>    \"crossover_rate\": 0.3820149958149024,<br>    \"selection_method\": \"selTournament\",<br>    \"tournsize\": 4,<br>    \"elitism_rate\": 0.426339252573845,<br>    \"survival_rate\": 0.7954730656176634<br>  }<br>}",
          "{<br>  \"number\": 106,<br>  \"values\": [<br>    0.7744708061218262,<br>    0.7353510737419129,<br>    5.980165243148804<br>  ],<br>  \"params\": {<br>    \"mutation_method\": \"mutConstant\",<br>    \"mutation_prob\": 0.03288613288384623,<br>    \"mutation_rate\": 0.47569782444784886,<br>    \"crossover_method\": \"cxUniform\",<br>    \"crossover_rate\": 0.5560404567294462,<br>    \"selection_method\": \"selRandom\",<br>    \"elitism_rate\": 0.7743017819697329,<br>    \"survival_rate\": 0.8808516226106543<br>  }<br>}",
          "{<br>  \"number\": 107,<br>  \"values\": [<br>    0.8525139689445496,<br>    0.7977709889411926,<br>    9.263933420181274<br>  ],<br>  \"params\": {<br>    \"mutation_method\": \"mutConstant\",<br>    \"mutation_prob\": 0.7192161685963865,<br>    \"mutation_rate\": 0.10538889280900225,<br>    \"crossover_method\": \"cxUniform\",<br>    \"crossover_rate\": 0.24827971959419767,<br>    \"selection_method\": \"selTournament\",<br>    \"tournsize\": 2,<br>    \"elitism_rate\": 0.3413837294127074,<br>    \"survival_rate\": 0.6236422303858578<br>  }<br>}",
          "{<br>  \"number\": 108,<br>  \"values\": [<br>    0.7644667625427246,<br>    0.6970188856124878,<br>    7.330302000045776<br>  ],<br>  \"params\": {<br>    \"mutation_method\": \"mutConstant\",<br>    \"mutation_prob\": 0.9449964952133655,<br>    \"mutation_rate\": 0.13567498955882112,<br>    \"crossover_method\": \"cxUniform\",<br>    \"crossover_rate\": 0.1865814873578664,<br>    \"selection_method\": \"selNormRoulette\",<br>    \"elitism_rate\": 0.6951714920471822,<br>    \"survival_rate\": 0.07657600767800421<br>  }<br>}",
          "{<br>  \"number\": 109,<br>  \"values\": [<br>    0.7650972604751587,<br>    0.7289986371994018,<br>    8.235111236572266<br>  ],<br>  \"params\": {<br>    \"mutation_method\": \"mutConstant\",<br>    \"mutation_prob\": 0.7660818766764151,<br>    \"mutation_rate\": 0.31629024017966884,<br>    \"crossover_method\": \"cxOnePoint\",<br>    \"crossover_rate\": 0.3037092508257285,<br>    \"selection_method\": \"selBoltzmann\",<br>    \"boltzmann_temperature\": 0.521286344339332,<br>    \"elitism_rate\": 0.5639541822566979,<br>    \"survival_rate\": 0.9014227878251145<br>  }<br>}",
          "{<br>  \"number\": 110,<br>  \"values\": [<br>    0.6937138438224792,<br>    0.6707345604896545,<br>    5.31147027015686<br>  ],<br>  \"params\": {<br>    \"mutation_method\": \"mutConstant\",<br>    \"mutation_prob\": 0.6877963138531646,<br>    \"mutation_rate\": 0.0927965148435252,<br>    \"crossover_method\": \"cxTwoPoint\",<br>    \"crossover_rate\": 0.014763165293375846,<br>    \"crossover_points\": 2,<br>    \"selection_method\": \"selTournament\",<br>    \"tournsize\": 8,<br>    \"elitism_rate\": 0.9301597877003392,<br>    \"survival_rate\": 0.8311680010351121<br>  }<br>}",
          "{<br>  \"number\": 111,<br>  \"values\": [<br>    0.7485284805297852,<br>    0.6767004251480102,<br>    8.005518913269043<br>  ],<br>  \"params\": {<br>    \"mutation_method\": \"mutConstant\",<br>    \"mutation_prob\": 0.7957587498409112,<br>    \"mutation_rate\": 0.6009353137785507,<br>    \"crossover_method\": \"cxUniform\",<br>    \"crossover_rate\": 0.2962711259672246,<br>    \"selection_method\": \"selTournament\",<br>    \"tournsize\": 5,<br>    \"elitism_rate\": 0.6134142155267652,<br>    \"survival_rate\": 0.9541066273337726<br>  }<br>}",
          "{<br>  \"number\": 112,<br>  \"values\": [<br>    0.8119908571243286,<br>    0.7695672512054443,<br>    6.802855491638184<br>  ],<br>  \"params\": {<br>    \"mutation_method\": \"mutExponential\",<br>    \"mutation_prob\": 0.07073802314681954,<br>    \"mutation_rate_start\": 0.6747563637759872,<br>    \"mutation_rate_end\": 0.292187462447931,<br>    \"mutation_rate_degree\": 1,<br>    \"crossover_method\": \"cxUniform\",<br>    \"crossover_rate\": 0.34255123168367074,<br>    \"selection_method\": \"selStochasticUniversalSampling\",<br>    \"elitism_rate\": 0.6022257156977842,<br>    \"survival_rate\": 0.9229024684297114<br>  }<br>}",
          "{<br>  \"number\": 113,<br>  \"values\": [<br>    0.7452239990234375,<br>    0.7207557559013367,<br>    8.02190375328064<br>  ],<br>  \"params\": {<br>    \"mutation_method\": \"mutConstant\",<br>    \"mutation_prob\": 0.6289221347834812,<br>    \"mutation_rate\": 0.391323880357919,<br>    \"crossover_method\": \"cxUniform\",<br>    \"crossover_rate\": 0.21283408361202347,<br>    \"selection_method\": \"selTournament\",<br>    \"tournsize\": 6,<br>    \"elitism_rate\": 0.554844570919194,<br>    \"survival_rate\": 0.9403772880045269<br>  }<br>}",
          "{<br>  \"number\": 114,<br>  \"values\": [<br>    0.6250601410865784,<br>    0.5917785882949829,<br>    7.588160514831543<br>  ],<br>  \"params\": {<br>    \"mutation_method\": \"mutLinear\",<br>    \"mutation_prob\": 0.735387924368827,<br>    \"mutation_rate_start\": 0.9916461644045421,<br>    \"mutation_rate_end\": 0.5374851668361147,<br>    \"crossover_method\": \"cxUniform\",<br>    \"crossover_rate\": 0.07141407854807386,<br>    \"selection_method\": \"selRoulette\",<br>    \"elitism_rate\": 0.6535849696286843,<br>    \"survival_rate\": 0.5818313161632989<br>  }<br>}",
          "{<br>  \"number\": 115,<br>  \"values\": [<br>    0.6872473955154419,<br>    0.6718847870826721,<br>    7.477092981338501<br>  ],<br>  \"params\": {<br>    \"mutation_method\": \"mutEntropy\",<br>    \"mutation_prob\": 0.6041649120075516,<br>    \"mutation_rate_start\": 0.48497921179146397,<br>    \"mutation_rate_end\": 0.35789729224319755,<br>    \"crossover_method\": \"cxUniform\",<br>    \"crossover_rate\": 0.15388037732769225,<br>    \"selection_method\": \"selRandom\",<br>    \"elitism_rate\": 0.686440150766592,<br>    \"survival_rate\": 0.846971233240214<br>  }<br>}",
          "{<br>  \"number\": 116,<br>  \"values\": [<br>    0.8136813640594482,<br>    0.7598564863204956,<br>    7.916576147079468<br>  ],<br>  \"params\": {<br>    \"mutation_method\": \"mutConstant\",<br>    \"mutation_prob\": 0.6514579392423258,<br>    \"mutation_rate\": 0.1349658139663935,<br>    \"crossover_method\": \"cxUniform\",<br>    \"crossover_rate\": 0.4659791018500954,<br>    \"selection_method\": \"selNormRoulette\",<br>    \"elitism_rate\": 0.6366366652328279,<br>    \"survival_rate\": 0.7552699710547038<br>  }<br>}",
          "{<br>  \"number\": 119,<br>  \"values\": [<br>    0.702701985836029,<br>    0.6567657589912415,<br>    7.150908470153809<br>  ],<br>  \"params\": {<br>    \"mutation_method\": \"mutConstant\",<br>    \"mutation_prob\": 0.7497554202218406,<br>    \"mutation_rate\": 0.5343059070714361,<br>    \"crossover_method\": \"cxTwoPoint\",<br>    \"crossover_rate\": 0.14756770692884752,<br>    \"crossover_points\": 3,<br>    \"selection_method\": \"selTournament\",<br>    \"tournsize\": 7,<br>    \"elitism_rate\": 0.7319984256922716,<br>    \"survival_rate\": 0.9146302808354826<br>  }<br>}",
          "{<br>  \"number\": 121,<br>  \"values\": [<br>    0.6209492087364197,<br>    0.5881105065345764,<br>    4.480245590209961<br>  ],<br>  \"params\": {<br>    \"mutation_method\": \"mutConstant\",<br>    \"mutation_prob\": 0.7102312970491015,<br>    \"mutation_rate\": 0.042061071640015824,<br>    \"crossover_method\": \"cxTwoPoint\",<br>    \"crossover_rate\": 0.17740878380362746,<br>    \"crossover_points\": 4,<br>    \"selection_method\": \"selTournament\",<br>    \"tournsize\": 7,<br>    \"elitism_rate\": 0.9754858337954271,<br>    \"survival_rate\": 0.9452973563238992<br>  }<br>}",
          "{<br>  \"number\": 122,<br>  \"values\": [<br>    0.7780280113220215,<br>    0.7316186547279357,<br>    5.536460638046265<br>  ],<br>  \"params\": {<br>    \"mutation_method\": \"mutConstant\",<br>    \"mutation_prob\": 0.6665973835882181,<br>    \"mutation_rate\": 0.08908665264226841,<br>    \"crossover_method\": \"cxUniform\",<br>    \"crossover_rate\": 0.13479701988351772,<br>    \"selection_method\": \"selTournament\",<br>    \"tournsize\": 6,<br>    \"elitism_rate\": 0.8958069950944473,<br>    \"survival_rate\": 0.9633119359508899<br>  }<br>}",
          "{<br>  \"number\": 124,<br>  \"values\": [<br>    0.7816976308822632,<br>    0.7352604389190673,<br>    5.819043397903442<br>  ],<br>  \"params\": {<br>    \"mutation_method\": \"mutConstant\",<br>    \"mutation_prob\": 0.8301313700751162,<br>    \"mutation_rate\": 0.16429056922683974,<br>    \"crossover_method\": \"cxUniform\",<br>    \"crossover_rate\": 0.1110831210244751,<br>    \"selection_method\": \"selBest\",<br>    \"elitism_rate\": 0.8537802824791426,<br>    \"survival_rate\": 0.8624428297233537<br>  }<br>}",
          "{<br>  \"number\": 125,<br>  \"values\": [<br>    0.8405024409294128,<br>    0.7929819822311401,<br>    11.347211360931396<br>  ],<br>  \"params\": {<br>    \"mutation_method\": \"mutConstant\",<br>    \"mutation_prob\": 0.7846274609052757,<br>    \"mutation_rate\": 0.11734117105175189,<br>    \"crossover_method\": \"cxUniform\",<br>    \"crossover_rate\": 0.10877430675154265,<br>    \"selection_method\": \"selBoltzmann\",<br>    \"boltzmann_temperature\": 0.273419168142532,<br>    \"elitism_rate\": 0.0646127599912229,<br>    \"survival_rate\": 0.8152214570562992<br>  }<br>}",
          "{<br>  \"number\": 126,<br>  \"values\": [<br>    0.8382444381713867,<br>    0.7908034563064575,<br>    5.716701507568359<br>  ],<br>  \"params\": {<br>    \"mutation_method\": \"mutConstant\",<br>    \"mutation_prob\": 0.7620486506015608,<br>    \"mutation_rate\": 0.07444087150941736,<br>    \"crossover_method\": \"cxUniform\",<br>    \"crossover_rate\": 0.23868245588021317,<br>    \"selection_method\": \"selBest\",<br>    \"elitism_rate\": 0.8271871888915658,<br>    \"survival_rate\": 0.9951540175219374<br>  }<br>}",
          "{<br>  \"number\": 127,<br>  \"values\": [<br>    0.8133363723754883,<br>    0.785739541053772,<br>    8.789867401123047<br>  ],<br>  \"params\": {<br>    \"mutation_method\": \"mutConstant\",<br>    \"mutation_prob\": 0.8078616978396339,<br>    \"mutation_rate\": 0.2258013291667128,<br>    \"crossover_method\": \"cxUniform\",<br>    \"crossover_rate\": 0.23412050368358495,<br>    \"selection_method\": \"selBest\",<br>    \"elitism_rate\": 0.4780224773220659,<br>    \"survival_rate\": 0.9919942964841926<br>  }<br>}",
          "{<br>  \"number\": 128,<br>  \"values\": [<br>    0.7136715650558472,<br>    0.6775544643402099,<br>    11.567696571350098<br>  ],<br>  \"params\": {<br>    \"mutation_method\": \"mutConstant\",<br>    \"mutation_prob\": 0.754719590713043,<br>    \"mutation_rate\": 0.07079859152063586,<br>    \"crossover_method\": \"cxUniform\",<br>    \"crossover_rate\": 0.2067229873886431,<br>    \"selection_method\": \"selBest\",<br>    \"elitism_rate\": 0.0035805933077524,<br>    \"survival_rate\": 0.7939139903458844<br>  }<br>}",
          "{<br>  \"number\": 129,<br>  \"values\": [<br>    0.6761409640312195,<br>    0.6386338949203492,<br>    3.6149609088897705<br>  ],<br>  \"params\": {<br>    \"mutation_method\": \"mutConstant\",<br>    \"mutation_prob\": 0.15281181476946537,<br>    \"mutation_rate\": 0.07740070345733834,<br>    \"crossover_method\": \"cxUniform\",<br>    \"crossover_rate\": 0.26663435895885873,<br>    \"selection_method\": \"selBest\",<br>    \"elitism_rate\": 0.9280283176191716,<br>    \"survival_rate\": 0.883104683025422<br>  }<br>}",
          "{<br>  \"number\": 130,<br>  \"values\": [<br>    0.7537811994552612,<br>    0.7254857540130615,<br>    5.255598783493042<br>  ],<br>  \"params\": {<br>    \"mutation_method\": \"mutExponential\",<br>    \"mutation_prob\": 0.22387323325436237,<br>    \"mutation_rate_start\": 0.08951693972412178,<br>    \"mutation_rate_end\": 0.09814887762965185,<br>    \"mutation_rate_degree\": 2,<br>    \"crossover_method\": \"cxUniform\",<br>    \"crossover_rate\": 0.24536679230317873,<br>    \"selection_method\": \"selBest\",<br>    \"elitism_rate\": 0.8342044946934192,<br>    \"survival_rate\": 0.8666305191787771<br>  }<br>}",
          "{<br>  \"number\": 131,<br>  \"values\": [<br>    0.7127809524536133,<br>    0.6872129201889038,<br>    5.186677932739258<br>  ],<br>  \"params\": {<br>    \"mutation_method\": \"mutConstant\",<br>    \"mutation_prob\": 0.16360015616054313,<br>    \"mutation_rate\": 0.07690103781899195,<br>    \"crossover_method\": \"cxUniform\",<br>    \"crossover_rate\": 0.29201867589317826,<br>    \"selection_method\": \"selBest\",<br>    \"elitism_rate\": 0.9270495159720433,<br>    \"survival_rate\": 0.8881953402897013<br>  }<br>}",
          "{<br>  \"number\": 132,<br>  \"values\": [<br>    0.5969163179397583,<br>    0.5469732642173767,<br>    2.3193325996398926<br>  ],<br>  \"params\": {<br>    \"mutation_method\": \"mutConstant\",<br>    \"mutation_prob\": 0.16148309656566706,<br>    \"mutation_rate\": 0.1078536359388105,<br>    \"crossover_method\": \"cxUniform\",<br>    \"crossover_rate\": 0.27213181563182814,<br>    \"selection_method\": \"selBest\",<br>    \"elitism_rate\": 0.9870413947756285,<br>    \"survival_rate\": 0.840605162990456<br>  }<br>}",
          "{<br>  \"number\": 133,<br>  \"values\": [<br>    0.6473578214645386,<br>    0.6171535849571228,<br>    7.321643114089966<br>  ],<br>  \"params\": {<br>    \"mutation_method\": \"mutLinear\",<br>    \"mutation_prob\": 0.18366988156399766,<br>    \"mutation_rate_start\": 0.39087641218290897,<br>    \"mutation_rate_end\": 0.8897137325370714,<br>    \"crossover_method\": \"cxOnePoint\",<br>    \"crossover_rate\": 0.2640321319151988,<br>    \"selection_method\": \"selStochasticUniversalSampling\",<br>    \"elitism_rate\": 0.799813827562976,<br>    \"survival_rate\": 0.841186913499453<br>  }<br>}",
          "{<br>  \"number\": 134,<br>  \"values\": [<br>    0.5222430229187012,<br>    0.4782281994819641,<br>    1.2497315406799316<br>  ],<br>  \"params\": {<br>    \"mutation_method\": \"mutConstant\",<br>    \"mutation_prob\": 0.1193671024951738,<br>    \"mutation_rate\": 0.7841394626518398,<br>    \"crossover_method\": \"cxUniform\",<br>    \"crossover_rate\": 0.22677973492431666,<br>    \"selection_method\": \"selRoulette\",<br>    \"elitism_rate\": 0.9993913532577271,<br>    \"survival_rate\": 0.910502962578488<br>  }<br>}",
          "{<br>  \"number\": 135,<br>  \"values\": [<br>    0.5222430229187012,<br>    0.4991493821144104,<br>    1.2301175594329834<br>  ],<br>  \"params\": {<br>    \"mutation_method\": \"mutEntropy\",<br>    \"mutation_prob\": 0.0024044652105810194,<br>    \"mutation_rate_start\": 0.035565034415266705,<br>    \"mutation_rate_end\": 0.3923773279163929,<br>    \"crossover_method\": \"cxUniform\",<br>    \"crossover_rate\": 0.6243870849118403,<br>    \"selection_method\": \"selRandom\",<br>    \"elitism_rate\": 0.8842917710729453,<br>    \"survival_rate\": 0.8192466816783531<br>  }<br>}",
          "{<br>  \"number\": 136,<br>  \"values\": [<br>    0.644752562046051,<br>    0.5374748229980468,<br>    3.974242925643921<br>  ],<br>  \"params\": {<br>    \"mutation_method\": \"mutConstant\",<br>    \"mutation_prob\": 0.15045369042620138,<br>    \"mutation_rate\": 0.11915574813334504,<br>    \"crossover_method\": \"cxUniform\",<br>    \"crossover_rate\": 0.243759225152382,<br>    \"selection_method\": \"selNormRoulette\",<br>    \"elitism_rate\": 0.9562759666000762,<br>    \"survival_rate\": 0.8862775573198183<br>  }<br>}",
          "{<br>  \"number\": 137,<br>  \"values\": [<br>    0.7341532707214355,<br>    0.6870513916015625,<br>    12.229810237884521<br>  ],<br>  \"params\": {<br>    \"mutation_method\": \"mutConstant\",<br>    \"mutation_prob\": 0.7356857049102572,<br>    \"mutation_rate\": 0.7231493948685337,<br>    \"crossover_method\": \"cxUniform\",<br>    \"crossover_rate\": 0.31361488827520034,<br>    \"selection_method\": \"selBest\",<br>    \"elitism_rate\": 0.39894080433840595,<br>    \"survival_rate\": 0.8524057830075948<br>  }<br>}",
          "{<br>  \"number\": 138,<br>  \"values\": [<br>    0.6314542293548584,<br>    0.5683303713798523,<br>    6.755206346511841<br>  ],<br>  \"params\": {<br>    \"mutation_method\": \"mutExponential\",<br>    \"mutation_prob\": 0.09949072374491175,<br>    \"mutation_rate_start\": 0.5874908590707147,<br>    \"mutation_rate_end\": 0.15266739848206934,<br>    \"mutation_rate_degree\": 3,<br>    \"crossover_method\": \"cxUniform\",<br>    \"crossover_rate\": 0.3218638261588069,<br>    \"selection_method\": \"selTournament\",<br>    \"tournsize\": 5,<br>    \"elitism_rate\": 0.7864764905597664,<br>    \"survival_rate\": 0.647281887305885<br>  }<br>}",
          "{<br>  \"number\": 139,<br>  \"values\": [<br>    0.8244102001190186,<br>    0.7887337327003479,<br>    11.904733657836914<br>  ],<br>  \"params\": {<br>    \"mutation_method\": \"mutConstant\",<br>    \"mutation_prob\": 0.2621605511777322,<br>    \"mutation_rate\": 0.14943474085116265,<br>    \"crossover_method\": \"cxOnePoint\",<br>    \"crossover_rate\": 0.2752315370018402,<br>    \"selection_method\": \"selBest\",<br>    \"elitism_rate\": 0.1429301176402038,<br>    \"survival_rate\": 0.917449715773663<br>  }<br>}",
          "{<br>  \"number\": 140,<br>  \"values\": [<br>    0.7564940452575684,<br>    0.6561237812042237,<br>    9.725370168685913<br>  ],<br>  \"params\": {<br>    \"mutation_method\": \"mutLinear\",<br>    \"mutation_prob\": 0.708936096314723,<br>    \"mutation_rate_start\": 0.2379127090136437,<br>    \"mutation_rate_end\": 0.7517194281298354,<br>    \"crossover_method\": \"cxUniform\",<br>    \"crossover_rate\": 0.20624891536810297,<br>    \"selection_method\": \"selTournament\",<br>    \"tournsize\": 3,<br>    \"elitism_rate\": 0.721555339611714,<br>    \"survival_rate\": 0.9316848253574584<br>  }<br>}",
          "{<br>  \"number\": 141,<br>  \"values\": [<br>    0.8534071445465088,<br>    0.807226026058197,<br>    9.929492473602295<br>  ],<br>  \"params\": {<br>    \"mutation_method\": \"mutConstant\",<br>    \"mutation_prob\": 0.7704964671175981,<br>    \"mutation_rate\": 0.05637388499471801,<br>    \"crossover_method\": \"cxUniform\",<br>    \"crossover_rate\": 0.177542000632245,<br>    \"selection_method\": \"selBest\",<br>    \"elitism_rate\": 0.5018715538210247,<br>    \"survival_rate\": 0.9749300355111757<br>  }<br>}",
          "{<br>  \"number\": 142,<br>  \"values\": [<br>    0.8140562772750854,<br>    0.7390016794204712,<br>    6.657668113708496<br>  ],<br>  \"params\": {<br>    \"mutation_method\": \"mutConstant\",<br>    \"mutation_prob\": 0.2020275922754523,<br>    \"mutation_rate\": 0.08938685234624323,<br>    \"crossover_method\": \"cxUniform\",<br>    \"crossover_rate\": 0.26125516669873194,<br>    \"selection_method\": \"selBest\",<br>    \"elitism_rate\": 0.8452598068828104,<br>    \"survival_rate\": 0.9996406386285033<br>  }<br>}",
          "{<br>  \"number\": 143,<br>  \"values\": [<br>    0.7892032265663147,<br>    0.7404499411582947,<br>    11.207138776779175<br>  ],<br>  \"params\": {<br>    \"mutation_method\": \"mutConstant\",<br>    \"mutation_prob\": 0.15755313090503215,<br>    \"mutation_rate\": 0.10955773389815715,<br>    \"crossover_method\": \"cxUniform\",<br>    \"crossover_rate\": 0.22710782647234956,<br>    \"selection_method\": \"selBest\",<br>    \"elitism_rate\": 0.35707085284442064,<br>    \"survival_rate\": 0.8785192739229075<br>  }<br>}",
          "{<br>  \"number\": 144,<br>  \"values\": [<br>    0.7640902996063232,<br>    0.712254548072815,<br>    7.419671297073364<br>  ],<br>  \"params\": {<br>    \"mutation_method\": \"mutConstant\",<br>    \"mutation_prob\": 0.7241843635026435,<br>    \"mutation_rate\": 0.018199561478181914,<br>    \"crossover_method\": \"cxUniform\",<br>    \"crossover_rate\": 0.2856036261880225,<br>    \"selection_method\": \"selTournament\",<br>    \"tournsize\": 6,<br>    \"elitism_rate\": 0.8178364193621562,<br>    \"survival_rate\": 0.02705095263629531<br>  }<br>}",
          "{<br>  \"number\": 145,<br>  \"values\": [<br>    0.8502579927444458,<br>    0.8110150933265686,<br>    11.192684412002563<br>  ],<br>  \"params\": {<br>    \"mutation_method\": \"mutConstant\",<br>    \"mutation_prob\": 0.6901662292247251,<br>    \"mutation_rate\": 0.05857047812088018,<br>    \"crossover_method\": \"cxUniform\",<br>    \"crossover_rate\": 0.1911484935106447,<br>    \"selection_method\": \"selBest\",<br>    \"elitism_rate\": 0.4410730473207901,<br>    \"survival_rate\": 0.9504777436888843<br>  }<br>}",
          "{<br>  \"number\": 146,<br>  \"values\": [<br>    0.7769181728363037,<br>    0.758759880065918,<br>    13.781190395355225<br>  ],<br>  \"params\": {<br>    \"mutation_method\": \"mutConstant\",<br>    \"mutation_prob\": 0.9235641780352376,<br>    \"mutation_rate\": 0.19090486411655774,<br>    \"crossover_method\": \"cxUniform\",<br>    \"crossover_rate\": 0.2532978129465676,<br>    \"selection_method\": \"selBoltzmann\",<br>    \"boltzmann_temperature\": 0.7513386154306315,<br>    \"elitism_rate\": 0.2792424207623191,<br>    \"survival_rate\": 0.8998430528218327<br>  }<br>}",
          "{<br>  \"number\": 147,<br>  \"values\": [<br>    0.6499607563018799,<br>    0.6284419775009156,<br>    6.8730714321136475<br>  ],<br>  \"params\": {<br>    \"mutation_method\": \"mutConstant\",<br>    \"mutation_prob\": 0.839068031811075,<br>    \"mutation_rate\": 0.028528931271290192,<br>    \"crossover_method\": \"cxUniform\",<br>    \"crossover_rate\": 0.16604734461998316,<br>    \"selection_method\": \"selTournament\",<br>    \"tournsize\": 5,<br>    \"elitism_rate\": 0.9550786375062114,<br>    \"survival_rate\": 0.8645689546478<br>  }<br>}",
          "{<br>  \"number\": 148,<br>  \"values\": [<br>    0.6552239656448364,<br>    0.6289979934692382,<br>    4.5899200439453125<br>  ],<br>  \"params\": {<br>    \"mutation_method\": \"mutConstant\",<br>    \"mutation_prob\": 0.09342523074107717,<br>    \"mutation_rate\": 0.08061762819582839,<br>    \"crossover_method\": \"cxUniform\",<br>    \"crossover_rate\": 0.21774228956593952,<br>    \"selection_method\": \"selBest\",<br>    \"elitism_rate\": 0.9068520624591808,<br>    \"survival_rate\": 0.7309420536067301<br>  }<br>}",
          "{<br>  \"number\": 149,<br>  \"values\": [<br>    0.7127889394760132,<br>    0.6413763642311097,<br>    9.263620376586914<br>  ],<br>  \"params\": {<br>    \"mutation_method\": \"mutEntropy\",<br>    \"mutation_prob\": 0.05306472137499052,<br>    \"mutation_rate_start\": 0.8560124824363075,<br>    \"mutation_rate_end\": 0.9354991626887188,<br>    \"crossover_method\": \"cxUniform\",<br>    \"crossover_rate\": 0.5816439337191244,<br>    \"selection_method\": \"selTournament\",<br>    \"tournsize\": 8,<br>    \"elitism_rate\": 0.518063191584979,<br>    \"survival_rate\": 0.8304535003535145<br>  }<br>}",
          "{<br>  \"number\": 150,<br>  \"values\": [<br>    0.5623332262039185,<br>    0.5247093558311462,<br>    7.132538318634033<br>  ],<br>  \"params\": {<br>    \"mutation_method\": \"mutConstant\",<br>    \"mutation_prob\": 0.8006422766067861,<br>    \"mutation_rate\": 0.8388893010714567,<br>    \"crossover_method\": \"cxTwoPoint\",<br>    \"crossover_rate\": 0.3642897484886621,<br>    \"crossover_points\": 4,<br>    \"selection_method\": \"selBest\",<br>    \"elitism_rate\": 0.9856189386112535,<br>    \"survival_rate\": 0.5527530164525629<br>  }<br>}",
          "{<br>  \"number\": 152,<br>  \"values\": [<br>    0.5712780356407166,<br>    0.5372369289398193,<br>    2.7684974670410156<br>  ],<br>  \"params\": {<br>    \"mutation_method\": \"mutConstant\",<br>    \"mutation_prob\": 0.8516038125203583,<br>    \"mutation_rate\": 0.004707599733353325,<br>    \"crossover_method\": \"cxUniform\",<br>    \"crossover_rate\": 0.11682712301590704,<br>    \"selection_method\": \"selTournament\",<br>    \"tournsize\": 7,<br>    \"elitism_rate\": 0.9670977516530175,<br>    \"survival_rate\": 0.9766119601366237<br>  }<br>}",
          "{<br>  \"number\": 153,<br>  \"values\": [<br>    0.5588280558586121,<br>    0.5336584448814392,<br>    8.400187492370605<br>  ],<br>  \"params\": {<br>    \"mutation_method\": \"mutConstant\",<br>    \"mutation_prob\": 0.8149579078256441,<br>    \"mutation_rate\": 0.9649992023567056,<br>    \"crossover_method\": \"cxOnePoint\",<br>    \"crossover_rate\": 0.1731123423900568,<br>    \"selection_method\": \"selStochasticUniversalSampling\",<br>    \"elitism_rate\": 0.9276536917983662,<br>    \"survival_rate\": 0.9686426143295007<br>  }<br>}",
          "{<br>  \"number\": 154,<br>  \"values\": [<br>    0.724901020526886,<br>    0.6845428109169006,<br>    8.109035015106201<br>  ],<br>  \"params\": {<br>    \"mutation_method\": \"mutConstant\",<br>    \"mutation_prob\": 0.7868331957428952,<br>    \"mutation_rate\": 0.018727663462298066,<br>    \"crossover_method\": \"cxUniform\",<br>    \"crossover_rate\": 0.19504936543772627,<br>    \"selection_method\": \"selTournament\",<br>    \"tournsize\": 2,<br>    \"elitism_rate\": 0.882463957238564,<br>    \"survival_rate\": 0.9337336074923638<br>  }<br>}",
          "{<br>  \"number\": 155,<br>  \"values\": [<br>    0.7835715413093567,<br>    0.7145975351333618,<br>    9.630924463272095<br>  ],<br>  \"params\": {<br>    \"mutation_method\": \"mutConstant\",<br>    \"mutation_prob\": 0.7641054997871337,<br>    \"mutation_rate\": 0.036071273546023935,<br>    \"crossover_method\": \"cxUniform\",<br>    \"crossover_rate\": 0.13870366907486628,<br>    \"selection_method\": \"selRoulette\",<br>    \"elitism_rate\": 0.7482096532838866,<br>    \"survival_rate\": 0.956050968923466<br>  }<br>}",
          "{<br>  \"number\": 156,<br>  \"values\": [<br>    0.8193671703338623,<br>    0.7626748442649841,<br>    11.092101812362671<br>  ],<br>  \"params\": {<br>    \"mutation_method\": \"mutConstant\",<br>    \"mutation_prob\": 0.7334780852603568,<br>    \"mutation_rate\": 0.0024981224124042277,<br>    \"crossover_method\": \"cxUniform\",<br>    \"crossover_rate\": 0.22398457213799364,<br>    \"selection_method\": \"selBest\",<br>    \"elitism_rate\": 0.10730031880580204,<br>    \"survival_rate\": 0.9039081530060735<br>  }<br>}",
          "{<br>  \"number\": 157,<br>  \"values\": [<br>    0.7015371322631836,<br>    0.6843278288841248,<br>    10.986972570419312<br>  ],<br>  \"params\": {<br>    \"mutation_method\": \"mutExponential\",<br>    \"mutation_prob\": 0.9659055461440796,<br>    \"mutation_rate_start\": 0.32778076309781495,<br>    \"mutation_rate_end\": 0.2111644432184029,<br>    \"mutation_rate_degree\": 1,<br>    \"crossover_method\": \"cxUniform\",<br>    \"crossover_rate\": 0.24285971608566156,<br>    \"selection_method\": \"selNormRoulette\",<br>    \"elitism_rate\": 0.5813395580250602,<br>    \"survival_rate\": 0.9243421604471876<br>  }<br>}",
          "{<br>  \"number\": 158,<br>  \"values\": [<br>    0.585026204586029,<br>    0.563994312286377,<br>    7.467326402664185<br>  ],<br>  \"params\": {<br>    \"mutation_method\": \"mutLinear\",<br>    \"mutation_prob\": 0.8767767156172301,<br>    \"mutation_rate_start\": 0.1318727841240891,<br>    \"mutation_rate_end\": 0.03287801435220861,<br>    \"crossover_method\": \"cxTwoPoint\",<br>    \"crossover_rate\": 0.7639495610652824,<br>    \"crossover_points\": 3,<br>    \"selection_method\": \"selRandom\",<br>    \"elitism_rate\": 0.943819931305983,<br>    \"survival_rate\": 0.6962786752275111<br>  }<br>}",
          "{<br>  \"number\": 159,<br>  \"values\": [<br>    0.8855192065238953,<br>    0.8121291995048523,<br>    12.866137981414795<br>  ],<br>  \"params\": {<br>    \"mutation_method\": \"mutEntropy\",<br>    \"mutation_prob\": 0.8125373612719221,<br>    \"mutation_rate_start\": 0.00032141554907549885,<br>    \"mutation_rate_end\": 0.46601530061827434,<br>    \"crossover_method\": \"cxUniform\",<br>    \"crossover_rate\": 0.04423389981428416,<br>    \"selection_method\": \"selTournament\",<br>    \"tournsize\": 5,<br>    \"elitism_rate\": 0.31963205421962226,<br>    \"survival_rate\": 0.7949956604437897<br>  }<br>}",
          "{<br>  \"number\": 160,<br>  \"values\": [<br>    0.8481228947639465,<br>    0.818397045135498,<br>    14.114709377288818<br>  ],<br>  \"params\": {<br>    \"mutation_method\": \"mutConstant\",<br>    \"mutation_prob\": 0.755655517144344,<br>    \"mutation_rate\": 0.10106782955636746,<br>    \"crossover_method\": \"cxUniform\",<br>    \"crossover_rate\": 0.47437089768437585,<br>    \"selection_method\": \"selBest\",<br>    \"elitism_rate\": 0.027369731806971553,<br>    \"survival_rate\": 0.09051199528388121<br>  }<br>}",
          "{<br>  \"number\": 161,<br>  \"values\": [<br>    0.8419916033744812,<br>    0.7778851747512817,<br>    9.826594829559326<br>  ],<br>  \"params\": {<br>    \"mutation_method\": \"mutConstant\",<br>    \"mutation_prob\": 0.7931098804844041,<br>    \"mutation_rate\": 0.05428058949941433,<br>    \"crossover_method\": \"cxUniform\",<br>    \"crossover_rate\": 0.18940394215794668,<br>    \"selection_method\": \"selTournament\",<br>    \"tournsize\": 6,<br>    \"elitism_rate\": 0.6738632885113481,<br>    \"survival_rate\": 0.9477653946680431<br>  }<br>}",
          "{<br>  \"number\": 162,<br>  \"values\": [<br>    0.7462373971939087,<br>    0.7045283913612366,<br>    10.114530086517334<br>  ],<br>  \"params\": {<br>    \"mutation_method\": \"mutConstant\",<br>    \"mutation_prob\": 0.7084434042154731,<br>    \"mutation_rate\": 0.39071613258883,<br>    \"crossover_method\": \"cxOnePoint\",<br>    \"crossover_rate\": 0.40299572568477154,<br>    \"selection_method\": \"selTournament\",<br>    \"tournsize\": 6,<br>    \"elitism_rate\": 0.4704300371355179,<br>    \"survival_rate\": 0.8803419108411118<br>  }<br>}",
          "{<br>  \"number\": 163,<br>  \"values\": [<br>    0.8487569093704224,<br>    0.770827567577362,<br>    8.132323741912842<br>  ],<br>  \"params\": {<br>    \"mutation_method\": \"mutConstant\",<br>    \"mutation_prob\": 0.6797320287243053,<br>    \"mutation_rate\": 0.12680921895707212,<br>    \"crossover_method\": \"cxUniform\",<br>    \"crossover_rate\": 0.16149408447444952,<br>    \"selection_method\": \"selBest\",<br>    \"elitism_rate\": 0.5467942143365707,<br>    \"survival_rate\": 0.1787881892987157<br>  }<br>}",
          "{<br>  \"number\": 164,<br>  \"values\": [<br>    0.8499248027801514,<br>    0.7813852906227112,<br>    13.630631685256958<br>  ],<br>  \"params\": {<br>    \"mutation_method\": \"mutConstant\",<br>    \"mutation_prob\": 0.7435578914866043,<br>    \"mutation_rate\": 0.04576352299083564,<br>    \"crossover_method\": \"cxUniform\",<br>    \"crossover_rate\": 0.5339839095150075,<br>    \"selection_method\": \"selBoltzmann\",<br>    \"boltzmann_temperature\": 0.2895622191016639,<br>    \"elitism_rate\": 0.16744104248861372,<br>    \"survival_rate\": 0.8469637876282594<br>  }<br>}",
          "{<br>  \"number\": 165,<br>  \"values\": [<br>    0.7552635073661804,<br>    0.7177905678749085,<br>    13.259012699127197<br>  ],<br>  \"params\": {<br>    \"mutation_method\": \"mutConstant\",<br>    \"mutation_prob\": 0.7717400841784877,<br>    \"mutation_rate\": 0.4195259660218466,<br>    \"crossover_method\": \"cxUniform\",<br>    \"crossover_rate\": 0.0850773850821489,<br>    \"selection_method\": \"selTournament\",<br>    \"tournsize\": 7,<br>    \"elitism_rate\": 0.23553937619163276,<br>    \"survival_rate\": 0.9649369197979721<br>  }<br>}",
          "{<br>  \"number\": 166,<br>  \"values\": [<br>    0.587949812412262,<br>    0.5620612025260925,<br>    8.27386212348938<br>  ],<br>  \"params\": {<br>    \"mutation_method\": \"mutExponential\",<br>    \"mutation_prob\": 0.8172998310433176,<br>    \"mutation_rate_start\": 0.802341592620429,<br>    \"mutation_rate_end\": 0.6675015878694701,<br>    \"mutation_rate_degree\": 2,<br>    \"crossover_method\": \"cxTwoPoint\",<br>    \"crossover_rate\": 0.20497239671363074,<br>    \"crossover_points\": 2,<br>    \"selection_method\": \"selBest\",<br>    \"elitism_rate\": 0.8619616992845752,<br>    \"survival_rate\": 0.9021174070408442<br>  }<br>}",
          "{<br>  \"number\": 167,<br>  \"values\": [<br>    0.8420442342758179,<br>    0.7780998468399047,<br>    7.90504264831543<br>  ],<br>  \"params\": {<br>    \"mutation_method\": \"mutConstant\",<br>    \"mutation_prob\": 0.7242928218073069,<br>    \"mutation_rate\": 0.14761289033391004,<br>    \"crossover_method\": \"cxUniform\",<br>    \"crossover_rate\": 0.6867339983285092,<br>    \"selection_method\": \"selTournament\",<br>    \"tournsize\": 8,<br>    \"elitism_rate\": 0.6159385069128923,<br>    \"survival_rate\": 0.41079749738748667<br>  }<br>}",
          "{<br>  \"number\": 168,<br>  \"values\": [<br>    0.5946351289749146,<br>    0.5680109977722168,<br>    7.855188369750977<br>  ],<br>  \"params\": {<br>    \"mutation_method\": \"mutLinear\",<br>    \"mutation_prob\": 0.7539006631451932,<br>    \"mutation_rate_start\": 0.632632282304864,<br>    \"mutation_rate_end\": 0.8164157830051889,<br>    \"crossover_method\": \"cxUniform\",<br>    \"crossover_rate\": 0.8046164712881595,<br>    \"selection_method\": \"selStochasticUniversalSampling\",<br>    \"elitism_rate\": 0.7692517313806821,<br>    \"survival_rate\": 0.4460996383425986<br>  }<br>}",
          "{<br>  \"number\": 169,<br>  \"values\": [<br>    0.825075626373291,<br>    0.7692519307136536,<br>    11.55194878578186<br>  ],<br>  \"params\": {<br>    \"mutation_method\": \"mutEntropy\",<br>    \"mutation_prob\": 0.7840310484321401,<br>    \"mutation_rate_start\": 0.5497566898234393,<br>    \"mutation_rate_end\": 0.13178324346536607,<br>    \"crossover_method\": \"cxUniform\",<br>    \"crossover_rate\": 0.12435147236669683,<br>    \"selection_method\": \"selTournament\",<br>    \"tournsize\": 4,<br>    \"elitism_rate\": 0.5700073877316637,<br>    \"survival_rate\": 0.8625073315656175<br>  }<br>}",
          "{<br>  \"number\": 170,<br>  \"values\": [<br>    0.56929612159729,<br>    0.5407845497131347,<br>    7.813166618347168<br>  ],<br>  \"params\": {<br>    \"mutation_method\": \"mutConstant\",<br>    \"mutation_prob\": 0.9973121589233953,<br>    \"mutation_rate\": 0.07378428505215426,<br>    \"crossover_method\": \"cxOnePoint\",<br>    \"crossover_rate\": 0.2684093910586136,<br>    \"selection_method\": \"selRoulette\",<br>    \"elitism_rate\": 0.9758811754054877,<br>    \"survival_rate\": 0.9318236801187646<br>  }<br>}",
          "{<br>  \"number\": 171,<br>  \"values\": [<br>    0.6137763261795044,<br>    0.57413090467453,<br>    8.104165077209473<br>  ],<br>  \"params\": {<br>    \"mutation_method\": \"mutConstant\",<br>    \"mutation_prob\": 0.5436851337639316,<br>    \"mutation_rate\": 0.6253777151667124,<br>    \"crossover_method\": \"cxTwoPoint\",<br>    \"crossover_rate\": 0.44315530847591794,<br>    \"crossover_points\": 3,<br>    \"selection_method\": \"selBest\",<br>    \"elitism_rate\": 0.9109391998245673,<br>    \"survival_rate\": 0.8883537111945746<br>  }<br>}",
          "{<br>  \"number\": 172,<br>  \"values\": [<br>    0.6940164566040039,<br>    0.6579868197441101,<br>    8.217258214950562<br>  ],<br>  \"params\": {<br>    \"mutation_method\": \"mutConstant\",<br>    \"mutation_prob\": 0.7004002993703802,<br>    \"mutation_rate\": 0.31991495611389953,<br>    \"crossover_method\": \"cxUniform\",<br>    \"crossover_rate\": 0.21454020512679126,<br>    \"selection_method\": \"selTournament\",<br>    \"tournsize\": 7,<br>    \"elitism_rate\": 0.8938680724651619,<br>    \"survival_rate\": 0.8170419629490667<br>  }<br>}",
          "{<br>  \"number\": 173,<br>  \"values\": [<br>    0.8018476366996765,<br>    0.7841417670249939,<br>    8.577054262161255<br>  ],<br>  \"params\": {<br>    \"mutation_method\": \"mutConstant\",<br>    \"mutation_prob\": 0.36622954685951375,<br>    \"mutation_rate\": 0.06724365811377231,<br>    \"crossover_method\": \"cxUniform\",<br>    \"crossover_rate\": 0.23673488805833087,<br>    \"selection_method\": \"selBest\",<br>    \"elitism_rate\": 0.5935709856685664,<br>    \"survival_rate\": 0.3754396659719057<br>  }<br>}",
          "{<br>  \"number\": 174,<br>  \"values\": [<br>    0.7315923571586609,<br>    0.6805294990539551,<br>    7.142976522445679<br>  ],<br>  \"params\": {<br>    \"mutation_method\": \"mutConstant\",<br>    \"mutation_prob\": 0.8420521981452738,<br>    \"mutation_rate\": 0.10353132801215209,<br>    \"crossover_method\": \"cxUniform\",<br>    \"crossover_rate\": 0.17843020331552914,<br>    \"selection_method\": \"selRandom\",<br>    \"elitism_rate\": 0.6985977409444768,<br>    \"survival_rate\": 0.002925436902911027<br>  }<br>}",
          "{<br>  \"number\": 175,<br>  \"values\": [<br>    0.6630094051361084,<br>    0.6015054106712341,<br>    7.215134382247925<br>  ],<br>  \"params\": {<br>    \"mutation_method\": \"mutConstant\",<br>    \"mutation_prob\": 0.4493420100050826,<br>    \"mutation_rate\": 0.6829384126433355,<br>    \"crossover_method\": \"cxUniform\",<br>    \"crossover_rate\": 0.825274029256645,<br>    \"selection_method\": \"selTournament\",<br>    \"tournsize\": 8,<br>    \"elitism_rate\": 0.6476068092468079,<br>    \"survival_rate\": 0.12815761586251706<br>  }<br>}",
          "{<br>  \"number\": 176,<br>  \"values\": [<br>    0.6385305523872375,<br>    0.6105479240417481,<br>    5.363036632537842<br>  ],<br>  \"params\": {<br>    \"mutation_method\": \"mutConstant\",<br>    \"mutation_prob\": 0.7470670230263776,<br>    \"mutation_rate\": 0.08892847225617047,<br>    \"crossover_method\": \"cxTwoPoint\",<br>    \"crossover_rate\": 0.25103420335110865,<br>    \"crossover_points\": 3,<br>    \"selection_method\": \"selNormRoulette\",<br>    \"elitism_rate\": 0.9358058154625654,<br>    \"survival_rate\": 0.9898911338744345<br>  }<br>}",
          "{<br>  \"number\": 177,<br>  \"values\": [<br>    0.6036298871040344,<br>    0.5855995297431946,<br>    15.369373559951782<br>  ],<br>  \"params\": {<br>    \"mutation_method\": \"mutExponential\",<br>    \"mutation_prob\": 0.6562526401152526,<br>    \"mutation_rate_start\": 0.5008663795235728,<br>    \"mutation_rate_end\": 0.964656431974935,<br>    \"mutation_rate_degree\": 3,<br>    \"crossover_method\": \"cxUniform\",<br>    \"crossover_rate\": 0.19860331335651255,<br>    \"selection_method\": \"selTournament\",<br>    \"tournsize\": 1,<br>    \"elitism_rate\": 0.07093975640168781,<br>    \"survival_rate\": 0.4960679759830351<br>  }<br>}",
          "{<br>  \"number\": 178,<br>  \"values\": [<br>    0.8389024138450623,<br>    0.7825105309486389,<br>    9.985116004943848<br>  ],<br>  \"params\": {<br>    \"mutation_method\": \"mutConstant\",<br>    \"mutation_prob\": 0.7777801634616337,<br>    \"mutation_rate\": 0.02230278708334412,<br>    \"crossover_method\": \"cxUniform\",<br>    \"crossover_rate\": 0.22685027774294603,<br>    \"selection_method\": \"selBest\",<br>    \"elitism_rate\": 0.4847210659871929,<br>    \"survival_rate\": 0.9992342608053152<br>  }<br>}",
          "{<br>  \"number\": 179,<br>  \"values\": [<br>    0.7558532357215881,<br>    0.6934648871421814,<br>    11.113600254058838<br>  ],<br>  \"params\": {<br>    \"mutation_method\": \"mutLinear\",<br>    \"mutation_prob\": 0.7169413200767007,<br>    \"mutation_rate_start\": 0.30509423029669896,<br>    \"mutation_rate_end\": 0.6120682120115115,<br>    \"crossover_method\": \"cxUniform\",<br>    \"crossover_rate\": 0.15883054700705013,<br>    \"selection_method\": \"selBoltzmann\",<br>    \"boltzmann_temperature\": 0.8033785765596722,<br>    \"elitism_rate\": 0.4229032143412984,<br>    \"survival_rate\": 0.8851635149036771<br>  }<br>}",
          "{<br>  \"number\": 181,<br>  \"values\": [<br>    0.6968963146209717,<br>    0.6601797699928283,<br>    3.8396377563476562<br>  ],<br>  \"params\": {<br>    \"mutation_method\": \"mutConstant\",<br>    \"mutation_prob\": 0.8630036914263552,<br>    \"mutation_rate\": 0.04542531989750149,<br>    \"crossover_method\": \"cxOnePoint\",<br>    \"crossover_rate\": 0.4052076753869854,<br>    \"selection_method\": \"selBest\",<br>    \"elitism_rate\": 0.9835369208882347,<br>    \"survival_rate\": 0.9670050465872508<br>  }<br>}",
          "{<br>  \"number\": 186,<br>  \"values\": [<br>    0.784367024898529,<br>    0.7300968885421752,<br>    5.41038966178894<br>  ],<br>  \"params\": {<br>    \"mutation_method\": \"mutConstant\",<br>    \"mutation_prob\": 0.921118034208254,<br>    \"mutation_rate\": 0.019111977193534427,<br>    \"crossover_method\": \"cxOnePoint\",<br>    \"crossover_rate\": 0.3703675824138636,<br>    \"selection_method\": \"selBest\",<br>    \"elitism_rate\": 0.8286163613340749,<br>    \"survival_rate\": 0.596766693398192<br>  }<br>}",
          "{<br>  \"number\": 188,<br>  \"values\": [<br>    0.669679582118988,<br>    0.6245637893676758,<br>    2.3509840965270996<br>  ],<br>  \"params\": {<br>    \"mutation_method\": \"mutConstant\",<br>    \"mutation_prob\": 0.895868909276588,<br>    \"mutation_rate\": 0.0050166897610326895,<br>    \"crossover_method\": \"cxOnePoint\",<br>    \"crossover_rate\": 0.3379070747077897,<br>    \"selection_method\": \"selBest\",<br>    \"elitism_rate\": 0.9530196491829362,<br>    \"survival_rate\": 0.9818690097424515<br>  }<br>}",
          "{<br>  \"number\": 190,<br>  \"values\": [<br>    0.7620771527290344,<br>    0.7199794888496399,<br>    4.846604824066162<br>  ],<br>  \"params\": {<br>    \"mutation_method\": \"mutConstant\",<br>    \"mutation_prob\": 0.9696967203120522,<br>    \"mutation_rate\": 0.024872877364665622,<br>    \"crossover_method\": \"cxOnePoint\",<br>    \"crossover_rate\": 0.36139506948135275,<br>    \"selection_method\": \"selBest\",<br>    \"elitism_rate\": 0.9599695462896422,<br>    \"survival_rate\": 0.9986794109789048<br>  }<br>}",
          "{<br>  \"number\": 192,<br>  \"values\": [<br>    0.6890486478805542,<br>    0.5947172522544861,<br>    2.097076177597046<br>  ],<br>  \"params\": {<br>    \"mutation_method\": \"mutConstant\",<br>    \"mutation_prob\": 0.9288419999322567,<br>    \"mutation_rate\": 0.0017708570645343091,<br>    \"crossover_method\": \"cxOnePoint\",<br>    \"crossover_rate\": 0.3929805960210541,<br>    \"selection_method\": \"selBest\",<br>    \"elitism_rate\": 0.9187264303117161,<br>    \"survival_rate\": 0.9800042317191622<br>  }<br>}",
          "{<br>  \"number\": 196,<br>  \"values\": [<br>    0.6755014657974243,<br>    0.6469186186790467,<br>    5.539141654968262<br>  ],<br>  \"params\": {<br>    \"mutation_method\": \"mutConstant\",<br>    \"mutation_prob\": 0.8873818335812617,<br>    \"mutation_rate\": 0.5090646484300313,<br>    \"crossover_method\": \"cxOnePoint\",<br>    \"crossover_rate\": 0.35353911888473616,<br>    \"selection_method\": \"selBest\",<br>    \"elitism_rate\": 0.9120233835260915,<br>    \"survival_rate\": 0.9991150470395888<br>  }<br>}",
          "{<br>  \"number\": 199,<br>  \"values\": [<br>    0.5693527460098267,<br>    0.5250326752662658,<br>    0.8787951469421387<br>  ],<br>  \"params\": {<br>    \"mutation_method\": \"mutConstant\",<br>    \"mutation_prob\": 0.9145845512146288,<br>    \"mutation_rate\": 0.00018895756331584277,<br>    \"crossover_method\": \"cxOnePoint\",<br>    \"crossover_rate\": 0.3761245411705998,<br>    \"selection_method\": \"selBest\",<br>    \"elitism_rate\": 0.9011946131972496,<br>    \"survival_rate\": 0.9720358804151373<br>  }<br>}"
         ],
         "type": "scatter",
         "x": [
          0.5299442410469055,
          0.6026304960250854,
          0.6563820242881775,
          0.818134605884552,
          0.6569432616233826,
          0.7581605911254883,
          0.6108515858650208,
          0.5438743829727173,
          0.6804086565971375,
          0.767907977104187,
          0.76732337474823,
          0.6832256317138672,
          0.5222430229187012,
          0.6813010573387146,
          0.7907454371452332,
          0.6903026700019836,
          0.6069177985191345,
          0.8395792245864868,
          0.8308054804801941,
          0.7670469284057617,
          0.5486484169960022,
          0.5824716091156006,
          0.7679969668388367,
          0.7729471921920776,
          0.6052874326705933,
          0.6101658940315247,
          0.7990807294845581,
          0.6902449131011963,
          0.533074140548706,
          0.6361677646636963,
          0.6129070520401001,
          0.8208284378051758,
          0.7668366432189941,
          0.5576106309890747,
          0.6837390065193176,
          0.8264716863632202,
          0.5762501955032349,
          0.6365219950675964,
          0.5935354232788086,
          0.7232884764671326,
          0.5917640328407288,
          0.7242881655693054,
          0.7486201524734497,
          0.8573745489120483,
          0.8650826215744019,
          0.6909237504005432,
          0.7500684261322021,
          0.7621884346008301,
          0.7918167114257812,
          0.6980844736099243,
          0.8333197832107544,
          0.8692777156829834,
          0.7243697643280029,
          0.7580796480178833,
          0.69142746925354,
          0.591215193271637,
          0.7047635316848755,
          0.664401113986969,
          0.5417815446853638,
          0.7137970924377441,
          0.7423235177993774,
          0.7786968946456909,
          0.8374745845794678,
          0.5538285374641418,
          0.5844070911407471,
          0.5925326943397522,
          0.6962236762046814,
          0.5760484933853149,
          0.6379641890525818,
          0.5286989808082581,
          0.7526695132255554,
          0.8624998331069946,
          0.8872778415679932,
          0.8618898987770081,
          0.8608505725860596,
          0.8873186111450195,
          0.7244789600372314,
          0.8670804500579834,
          0.8427196741104126,
          0.60161954164505,
          0.8242324590682983,
          0.6371427178382874,
          0.7762359380722046,
          0.7375279664993286,
          0.787883460521698,
          0.5488332509994507,
          0.785000205039978,
          0.8656853437423706,
          0.8144384622573853,
          0.5985336899757385,
          0.6095179915428162,
          0.8515413999557495,
          0.7295569181442261,
          0.7557958960533142,
          0.7143161296844482,
          0.8552659749984741,
          0.7075375914573669,
          0.703630805015564,
          0.7372389435768127,
          0.6796737909317017,
          0.8697941303253174,
          0.7744708061218262,
          0.8525139689445496,
          0.7644667625427246,
          0.7650972604751587,
          0.6937138438224792,
          0.7485284805297852,
          0.8119908571243286,
          0.7452239990234375,
          0.6250601410865784,
          0.6872473955154419,
          0.8136813640594482,
          0.702701985836029,
          0.6209492087364197,
          0.7780280113220215,
          0.7816976308822632,
          0.8405024409294128,
          0.8382444381713867,
          0.8133363723754883,
          0.7136715650558472,
          0.6761409640312195,
          0.7537811994552612,
          0.7127809524536133,
          0.5969163179397583,
          0.6473578214645386,
          0.5222430229187012,
          0.5222430229187012,
          0.644752562046051,
          0.7341532707214355,
          0.6314542293548584,
          0.8244102001190186,
          0.7564940452575684,
          0.8534071445465088,
          0.8140562772750854,
          0.7892032265663147,
          0.7640902996063232,
          0.8502579927444458,
          0.7769181728363037,
          0.6499607563018799,
          0.6552239656448364,
          0.7127889394760132,
          0.5623332262039185,
          0.5712780356407166,
          0.5588280558586121,
          0.724901020526886,
          0.7835715413093567,
          0.8193671703338623,
          0.7015371322631836,
          0.585026204586029,
          0.8855192065238953,
          0.8481228947639465,
          0.8419916033744812,
          0.7462373971939087,
          0.8487569093704224,
          0.8499248027801514,
          0.7552635073661804,
          0.587949812412262,
          0.8420442342758179,
          0.5946351289749146,
          0.825075626373291,
          0.56929612159729,
          0.6137763261795044,
          0.6940164566040039,
          0.8018476366996765,
          0.7315923571586609,
          0.6630094051361084,
          0.6385305523872375,
          0.6036298871040344,
          0.8389024138450623,
          0.7558532357215881,
          0.6968963146209717,
          0.784367024898529,
          0.669679582118988,
          0.7620771527290344,
          0.6890486478805542,
          0.6755014657974243,
          0.5693527460098267
         ],
         "y": [
          4.281626462936401,
          12.192527770996094,
          6.830501556396484,
          12.57694411277771,
          9.884447813034058,
          7.605344533920288,
          7.210463523864746,
          5.791201829910278,
          6.883536100387573,
          12.784364461898804,
          9.042007684707642,
          5.483475208282471,
          3.8452095985412598,
          9.419226169586182,
          12.820128202438354,
          9.649763822555542,
          5.705043077468872,
          7.1308982372283936,
          5.727808475494385,
          5.648449182510376,
          6.81147575378418,
          1.2085256576538086,
          5.974289417266846,
          7.149623870849609,
          5.768560886383057,
          8.117768287658691,
          9.290120363235474,
          6.343273162841797,
          4.457805633544922,
          5.091538667678833,
          5.027351140975952,
          7.9705259799957275,
          6.616721868515015,
          5.944640874862671,
          5.519277572631836,
          9.04025673866272,
          5.466883420944214,
          6.675653696060181,
          7.5788726806640625,
          6.357525587081909,
          8.000487804412842,
          6.01300835609436,
          5.284050703048706,
          10.693814516067505,
          9.934348344802856,
          5.061288356781006,
          5.808561563491821,
          7.69478178024292,
          7.293055534362793,
          13.825255632400513,
          14.157666206359863,
          11.72983169555664,
          8.364702701568604,
          8.839512586593628,
          11.409740447998047,
          16.857346057891846,
          10.693931341171265,
          12.914820194244385,
          3.5364763736724854,
          11.32872200012207,
          11.22008204460144,
          7.699518918991089,
          9.254179239273071,
          5.186428546905518,
          1.8827767372131348,
          7.221463918685913,
          5.9245710372924805,
          6.5084569454193115,
          5.691802740097046,
          4.430026292800903,
          7.636411428451538,
          8.962169647216797,
          9.5696542263031,
          11.053302764892578,
          11.936561822891235,
          10.459941625595093,
          10.521625518798828,
          10.866069793701172,
          10.697926759719849,
          5.453848600387573,
          7.232109785079956,
          6.328842401504517,
          4.806036710739136,
          4.528090476989746,
          5.7911012172698975,
          1.0841686725616455,
          5.642149448394775,
          9.263393640518188,
          6.472506284713745,
          8.573959589004517,
          8.35151720046997,
          9.516045331954956,
          8.791261196136475,
          7.782492399215698,
          7.26221489906311,
          8.600071668624878,
          6.790233612060547,
          8.845324993133545,
          8.243107795715332,
          8.468327522277832,
          9.395375728607178,
          5.980165243148804,
          9.263933420181274,
          7.330302000045776,
          8.235111236572266,
          5.31147027015686,
          8.005518913269043,
          6.802855491638184,
          8.02190375328064,
          7.588160514831543,
          7.477092981338501,
          7.916576147079468,
          7.150908470153809,
          4.480245590209961,
          5.536460638046265,
          5.819043397903442,
          11.347211360931396,
          5.716701507568359,
          8.789867401123047,
          11.567696571350098,
          3.6149609088897705,
          5.255598783493042,
          5.186677932739258,
          2.3193325996398926,
          7.321643114089966,
          1.2497315406799316,
          1.2301175594329834,
          3.974242925643921,
          12.229810237884521,
          6.755206346511841,
          11.904733657836914,
          9.725370168685913,
          9.929492473602295,
          6.657668113708496,
          11.207138776779175,
          7.419671297073364,
          11.192684412002563,
          13.781190395355225,
          6.8730714321136475,
          4.5899200439453125,
          9.263620376586914,
          7.132538318634033,
          2.7684974670410156,
          8.400187492370605,
          8.109035015106201,
          9.630924463272095,
          11.092101812362671,
          10.986972570419312,
          7.467326402664185,
          12.866137981414795,
          14.114709377288818,
          9.826594829559326,
          10.114530086517334,
          8.132323741912842,
          13.630631685256958,
          13.259012699127197,
          8.27386212348938,
          7.90504264831543,
          7.855188369750977,
          11.55194878578186,
          7.813166618347168,
          8.104165077209473,
          8.217258214950562,
          8.577054262161255,
          7.142976522445679,
          7.215134382247925,
          5.363036632537842,
          15.369373559951782,
          9.985116004943848,
          11.113600254058838,
          3.8396377563476562,
          5.41038966178894,
          2.3509840965270996,
          4.846604824066162,
          2.097076177597046,
          5.539141654968262,
          0.8787951469421387
         ]
        },
        {
         "hovertemplate": "%{text}<extra>Best Trial</extra>",
         "marker": {
          "color": [
           75,
           76,
           81,
           82,
           93,
           117,
           118,
           120,
           123,
           151,
           180,
           182,
           183,
           184,
           185,
           187,
           189,
           191,
           193,
           194,
           195,
           197,
           198
          ],
          "colorbar": {
           "title": {
            "text": "Best Trial"
           },
           "x": 1.1,
           "xpad": 40
          },
          "colorscale": [
           [
            0,
            "rgb(255,245,240)"
           ],
           [
            0.125,
            "rgb(254,224,210)"
           ],
           [
            0.25,
            "rgb(252,187,161)"
           ],
           [
            0.375,
            "rgb(252,146,114)"
           ],
           [
            0.5,
            "rgb(251,106,74)"
           ],
           [
            0.625,
            "rgb(239,59,44)"
           ],
           [
            0.75,
            "rgb(203,24,29)"
           ],
           [
            0.875,
            "rgb(165,15,21)"
           ],
           [
            1,
            "rgb(103,0,13)"
           ]
          ],
          "line": {
           "color": "Grey",
           "width": 0.5
          }
         },
         "mode": "markers",
         "showlegend": false,
         "text": [
          "{<br>  \"number\": 75,<br>  \"values\": [<br>    0.8854624629020691,<br>    0.8540900826454163,<br>    9.794409990310669<br>  ],<br>  \"params\": {<br>    \"mutation_method\": \"mutConstant\",<br>    \"mutation_prob\": 0.6598763850840953,<br>    \"mutation_rate\": 0.03628406307181536,<br>    \"crossover_method\": \"cxUniform\",<br>    \"crossover_rate\": 0.8233794193061796,<br>    \"selection_method\": \"selBest\",<br>    \"elitism_rate\": 0.18454432510062468,<br>    \"survival_rate\": 0.9054792845094493<br>  }<br>}",
          "{<br>  \"number\": 76,<br>  \"values\": [<br>    0.923918604850769,<br>    0.8276800394058228,<br>    9.992426872253418<br>  ],<br>  \"params\": {<br>    \"mutation_method\": \"mutConstant\",<br>    \"mutation_prob\": 0.6673931232243625,<br>    \"mutation_rate\": 0.10391134148676051,<br>    \"crossover_method\": \"cxUniform\",<br>    \"crossover_rate\": 0.8081836775325513,<br>    \"selection_method\": \"selTournament\",<br>    \"tournsize\": 8,<br>    \"elitism_rate\": 0.2117669369786903,<br>    \"survival_rate\": 0.8185897951100862<br>  }<br>}",
          "{<br>  \"number\": 81,<br>  \"values\": [<br>    0.8064058423042297,<br>    0.7468477725982666,<br>    5.288511037826538<br>  ],<br>  \"params\": {<br>    \"mutation_method\": \"mutConstant\",<br>    \"mutation_prob\": 0.6931128163924014,<br>    \"mutation_rate\": 0.044268525734875705,<br>    \"crossover_method\": \"cxUniform\",<br>    \"crossover_rate\": 0.3282215429079543,<br>    \"selection_method\": \"selBest\",<br>    \"elitism_rate\": 0.9335209624306304,<br>    \"survival_rate\": 0.9553365619742651<br>  }<br>}",
          "{<br>  \"number\": 82,<br>  \"values\": [<br>    0.7905995845794678,<br>    0.7511340498924255,<br>    4.940675497055054<br>  ],<br>  \"params\": {<br>    \"mutation_method\": \"mutConstant\",<br>    \"mutation_prob\": 0.6998485257683061,<br>    \"mutation_rate\": 0.04225174825966995,<br>    \"crossover_method\": \"cxUniform\",<br>    \"crossover_rate\": 0.36930267119114585,<br>    \"selection_method\": \"selBest\",<br>    \"elitism_rate\": 0.9472577615695945,<br>    \"survival_rate\": 0.956374611798376<br>  }<br>}",
          "{<br>  \"number\": 93,<br>  \"values\": [<br>    0.8951467275619507,<br>    0.8444380044937134,<br>    7.515658140182495<br>  ],<br>  \"params\": {<br>    \"mutation_method\": \"mutConstant\",<br>    \"mutation_prob\": 0.7487182245382854,<br>    \"mutation_rate\": 0.10050319769132943,<br>    \"crossover_method\": \"cxUniform\",<br>    \"crossover_rate\": 0.22362890067395697,<br>    \"selection_method\": \"selTournament\",<br>    \"tournsize\": 6,<br>    \"elitism_rate\": 0.5981089702239115,<br>    \"survival_rate\": 0.8716464989024215<br>  }<br>}",
          "{<br>  \"number\": 117,<br>  \"values\": [<br>    0.8540976047515869,<br>    0.7924973845481873,<br>    7.145756006240845<br>  ],<br>  \"params\": {<br>    \"mutation_method\": \"mutConstant\",<br>    \"mutation_prob\": 0.5429230961301623,<br>    \"mutation_rate\": 0.06512821343611891,<br>    \"crossover_method\": \"cxTwoPoint\",<br>    \"crossover_rate\": 0.3813700279848192,<br>    \"crossover_points\": 3,<br>    \"selection_method\": \"selTournament\",<br>    \"tournsize\": 8,<br>    \"elitism_rate\": 0.5854733447058508,<br>    \"survival_rate\": 0.890664820913173<br>  }<br>}",
          "{<br>  \"number\": 118,<br>  \"values\": [<br>    0.8613600134849548,<br>    0.7914595007896423,<br>    6.7430579662323<br>  ],<br>  \"params\": {<br>    \"mutation_method\": \"mutConstant\",<br>    \"mutation_prob\": 0.7121096995753994,<br>    \"mutation_rate\": 0.07055696288480454,<br>    \"crossover_method\": \"cxTwoPoint\",<br>    \"crossover_rate\": 0.11960465413496205,<br>    \"crossover_points\": 3,<br>    \"selection_method\": \"selTournament\",<br>    \"tournsize\": 7,<br>    \"elitism_rate\": 0.7287903731598115,<br>    \"survival_rate\": 0.9477862586003798<br>  }<br>}",
          "{<br>  \"number\": 120,<br>  \"values\": [<br>    0.8902074098587036,<br>    0.7915812492370605,<br>    7.397045135498047<br>  ],<br>  \"params\": {<br>    \"mutation_method\": \"mutConstant\",<br>    \"mutation_prob\": 0.784767435882427,<br>    \"mutation_rate\": 0.03096251118799108,<br>    \"crossover_method\": \"cxTwoPoint\",<br>    \"crossover_rate\": 0.1760857119541675,<br>    \"crossover_points\": 4,<br>    \"selection_method\": \"selTournament\",<br>    \"tournsize\": 7,<br>    \"elitism_rate\": 0.5115734825118949,<br>    \"survival_rate\": 0.9491199137076598<br>  }<br>}",
          "{<br>  \"number\": 123,<br>  \"values\": [<br>    0.8547669649124146,<br>    0.7676729679107666,<br>    5.673705577850342<br>  ],<br>  \"params\": {<br>    \"mutation_method\": \"mutConstant\",<br>    \"mutation_prob\": 0.7871981419439681,<br>    \"mutation_rate\": 0.07022576316568384,<br>    \"crossover_method\": \"cxUniform\",<br>    \"crossover_rate\": 0.11981382337068133,<br>    \"selection_method\": \"selBest\",<br>    \"elitism_rate\": 0.838298700916809,<br>    \"survival_rate\": 0.8679687290621243<br>  }<br>}",
          "{<br>  \"number\": 151,<br>  \"values\": [<br>    0.7477208971977234,<br>    0.6323667287826538,<br>    3.4655237197875977<br>  ],<br>  \"params\": {<br>    \"mutation_method\": \"mutConstant\",<br>    \"mutation_prob\": 0.8147767074674013,<br>    \"mutation_rate\": 0.003927515790687543,<br>    \"crossover_method\": \"cxUniform\",<br>    \"crossover_rate\": 0.1932673913847286,<br>    \"selection_method\": \"selBest\",<br>    \"elitism_rate\": 0.9310667056840607,<br>    \"survival_rate\": 0.9533227018465018<br>  }<br>}",
          "{<br>  \"number\": 180,<br>  \"values\": [<br>    0.9025082588195801,<br>    0.8458395004272461,<br>    7.744183540344238<br>  ],<br>  \"params\": {<br>    \"mutation_method\": \"mutConstant\",<br>    \"mutation_prob\": 0.8055855520791119,<br>    \"mutation_rate\": 0.05098339381437001,<br>    \"crossover_method\": \"cxOnePoint\",<br>    \"crossover_rate\": 0.37567396654607194,<br>    \"selection_method\": \"selTournament\",<br>    \"tournsize\": 5,<br>    \"elitism_rate\": 0.5228290412795907,<br>    \"survival_rate\": 0.5995201050273067<br>  }<br>}",
          "{<br>  \"number\": 182,<br>  \"values\": [<br>    0.6953625082969666,<br>    0.6800897717475891,<br>    3.4773764610290527<br>  ],<br>  \"params\": {<br>    \"mutation_method\": \"mutConstant\",<br>    \"mutation_prob\": 0.8817152691538593,<br>    \"mutation_rate\": 0.016742856830051556,<br>    \"crossover_method\": \"cxOnePoint\",<br>    \"crossover_rate\": 0.3528018631499808,<br>    \"selection_method\": \"selBest\",<br>    \"elitism_rate\": 0.9725750337250829,<br>    \"survival_rate\": 0.9708041358079065<br>  }<br>}",
          "{<br>  \"number\": 183,<br>  \"values\": [<br>    0.7679356336593628,<br>    0.6987065434455871,<br>    3.750519275665283<br>  ],<br>  \"params\": {<br>    \"mutation_method\": \"mutConstant\",<br>    \"mutation_prob\": 0.9033276549502472,<br>    \"mutation_rate\": 0.01794064476610361,<br>    \"crossover_method\": \"cxOnePoint\",<br>    \"crossover_rate\": 0.3762631560460478,<br>    \"selection_method\": \"selBest\",<br>    \"elitism_rate\": 0.9609712351248867,<br>    \"survival_rate\": 0.9736210884067252<br>  }<br>}",
          "{<br>  \"number\": 184,<br>  \"values\": [<br>    0.7688446044921875,<br>    0.7202653646469116,<br>    4.258705139160156<br>  ],<br>  \"params\": {<br>    \"mutation_method\": \"mutConstant\",<br>    \"mutation_prob\": 0.9022967265316846,<br>    \"mutation_rate\": 0.015938422847849035,<br>    \"crossover_method\": \"cxOnePoint\",<br>    \"crossover_rate\": 0.3743636210736509,<br>    \"selection_method\": \"selBest\",<br>    \"elitism_rate\": 0.9594762888257095,<br>    \"survival_rate\": 0.9860095894775898<br>  }<br>}",
          "{<br>  \"number\": 185,<br>  \"values\": [<br>    0.7514509558677673,<br>    0.6714015960693359,<br>    3.6505343914031982<br>  ],<br>  \"params\": {<br>    \"mutation_method\": \"mutConstant\",<br>    \"mutation_prob\": 0.9069536153162705,<br>    \"mutation_rate\": 0.01845082963694148,<br>    \"crossover_method\": \"cxOnePoint\",<br>    \"crossover_rate\": 0.3573219009014678,<br>    \"selection_method\": \"selBest\",<br>    \"elitism_rate\": 0.9656949369530458,<br>    \"survival_rate\": 0.981288635644566<br>  }<br>}",
          "{<br>  \"number\": 187,<br>  \"values\": [<br>    0.6897009015083313,<br>    0.6366015672683716,<br>    2.354341983795166<br>  ],<br>  \"params\": {<br>    \"mutation_method\": \"mutConstant\",<br>    \"mutation_prob\": 0.9096801476322451,<br>    \"mutation_rate\": 0.004992457745420283,<br>    \"crossover_method\": \"cxOnePoint\",<br>    \"crossover_rate\": 0.3388805185924581,<br>    \"selection_method\": \"selBest\",<br>    \"elitism_rate\": 0.9594005905329805,<br>    \"survival_rate\": 0.9912487945251589<br>  }<br>}",
          "{<br>  \"number\": 189,<br>  \"values\": [<br>    0.6085581183433533,<br>    0.5448145508766175,<br>    0.860762357711792<br>  ],<br>  \"params\": {<br>    \"mutation_method\": \"mutConstant\",<br>    \"mutation_prob\": 0.9698090197805452,<br>    \"mutation_rate\": 0.0006409546851695799,<br>    \"crossover_method\": \"cxOnePoint\",<br>    \"crossover_rate\": 0.35093219173754203,<br>    \"selection_method\": \"selBest\",<br>    \"elitism_rate\": 0.9566370018439161,<br>    \"survival_rate\": 0.9947939831685751<br>  }<br>}",
          "{<br>  \"number\": 191,<br>  \"values\": [<br>    0.7139984369277954,<br>    0.6317980885505676,<br>    1.4995670318603516<br>  ],<br>  \"params\": {<br>    \"mutation_method\": \"mutConstant\",<br>    \"mutation_prob\": 0.8979313666190631,<br>    \"mutation_rate\": 0.001708139860426474,<br>    \"crossover_method\": \"cxOnePoint\",<br>    \"crossover_rate\": 0.34514715302800386,<br>    \"selection_method\": \"selBest\",<br>    \"elitism_rate\": 0.9370313209736911,<br>    \"survival_rate\": 0.9791980198208216<br>  }<br>}",
          "{<br>  \"number\": 193,<br>  \"values\": [<br>    0.8045469522476196,<br>    0.7319595813751221,<br>    4.642755508422852<br>  ],<br>  \"params\": {<br>    \"mutation_method\": \"mutConstant\",<br>    \"mutation_prob\": 0.8791868782949805,<br>    \"mutation_rate\": 0.02406507872585721,<br>    \"crossover_method\": \"cxOnePoint\",<br>    \"crossover_rate\": 0.4211476346672719,<br>    \"selection_method\": \"selBest\",<br>    \"elitism_rate\": 0.9426677585253302,<br>    \"survival_rate\": 0.949834107425065<br>  }<br>}",
          "{<br>  \"number\": 194,<br>  \"values\": [<br>    0.8128746747970581,<br>    0.7217819213867187,<br>    4.620246887207031<br>  ],<br>  \"params\": {<br>    \"mutation_method\": \"mutConstant\",<br>    \"mutation_prob\": 0.8893260498876614,<br>    \"mutation_rate\": 0.02567024857184086,<br>    \"crossover_method\": \"cxOnePoint\",<br>    \"crossover_rate\": 0.3520958547316676,<br>    \"selection_method\": \"selBest\",<br>    \"elitism_rate\": 0.9457439691335595,<br>    \"survival_rate\": 0.9508164914007334<br>  }<br>}",
          "{<br>  \"number\": 195,<br>  \"values\": [<br>    0.7520912885665894,<br>    0.7353623151779175,<br>    4.558118581771851<br>  ],<br>  \"params\": {<br>    \"mutation_method\": \"mutConstant\",<br>    \"mutation_prob\": 0.900779321382763,<br>    \"mutation_rate\": 0.025847343435966827,<br>    \"crossover_method\": \"cxOnePoint\",<br>    \"crossover_rate\": 0.35703390532245627,<br>    \"selection_method\": \"selBest\",<br>    \"elitism_rate\": 0.9444681830360765,<br>    \"survival_rate\": 0.9985750570286566<br>  }<br>}",
          "{<br>  \"number\": 197,<br>  \"values\": [<br>    0.8462645411491394,<br>    0.7972839593887329,<br>    5.446197271347046<br>  ],<br>  \"params\": {<br>    \"mutation_method\": \"mutConstant\",<br>    \"mutation_prob\": 0.9093573798897021,<br>    \"mutation_rate\": 0.02611899084468277,<br>    \"crossover_method\": \"cxOnePoint\",<br>    \"crossover_rate\": 0.3389727986348964,<br>    \"selection_method\": \"selBest\",<br>    \"elitism_rate\": 0.8822256911502233,<br>    \"survival_rate\": 0.9774900883118786<br>  }<br>}",
          "{<br>  \"number\": 198,<br>  \"values\": [<br>    0.8515337705612183,<br>    0.7774155855178833,<br>    5.531543254852295<br>  ],<br>  \"params\": {<br>    \"mutation_method\": \"mutConstant\",<br>    \"mutation_prob\": 0.9497994755257352,<br>    \"mutation_rate\": 0.0235015358011747,<br>    \"crossover_method\": \"cxOnePoint\",<br>    \"crossover_rate\": 0.34667272385046194,<br>    \"selection_method\": \"selBest\",<br>    \"elitism_rate\": 0.8719815436110794,<br>    \"survival_rate\": 0.9518966679119109<br>  }<br>}"
         ],
         "type": "scatter",
         "x": [
          0.8854624629020691,
          0.923918604850769,
          0.8064058423042297,
          0.7905995845794678,
          0.8951467275619507,
          0.8540976047515869,
          0.8613600134849548,
          0.8902074098587036,
          0.8547669649124146,
          0.7477208971977234,
          0.9025082588195801,
          0.6953625082969666,
          0.7679356336593628,
          0.7688446044921875,
          0.7514509558677673,
          0.6897009015083313,
          0.6085581183433533,
          0.7139984369277954,
          0.8045469522476196,
          0.8128746747970581,
          0.7520912885665894,
          0.8462645411491394,
          0.8515337705612183
         ],
         "y": [
          9.794409990310669,
          9.992426872253418,
          5.288511037826538,
          4.940675497055054,
          7.515658140182495,
          7.145756006240845,
          6.7430579662323,
          7.397045135498047,
          5.673705577850342,
          3.4655237197875977,
          7.744183540344238,
          3.4773764610290527,
          3.750519275665283,
          4.258705139160156,
          3.6505343914031982,
          2.354341983795166,
          0.860762357711792,
          1.4995670318603516,
          4.642755508422852,
          4.620246887207031,
          4.558118581771851,
          5.446197271347046,
          5.531543254852295
         ]
        }
       ],
       "layout": {
        "template": {
         "data": {
          "bar": [
           {
            "error_x": {
             "color": "#2a3f5f"
            },
            "error_y": {
             "color": "#2a3f5f"
            },
            "marker": {
             "line": {
              "color": "#E5ECF6",
              "width": 0.5
             },
             "pattern": {
              "fillmode": "overlay",
              "size": 10,
              "solidity": 0.2
             }
            },
            "type": "bar"
           }
          ],
          "barpolar": [
           {
            "marker": {
             "line": {
              "color": "#E5ECF6",
              "width": 0.5
             },
             "pattern": {
              "fillmode": "overlay",
              "size": 10,
              "solidity": 0.2
             }
            },
            "type": "barpolar"
           }
          ],
          "carpet": [
           {
            "aaxis": {
             "endlinecolor": "#2a3f5f",
             "gridcolor": "white",
             "linecolor": "white",
             "minorgridcolor": "white",
             "startlinecolor": "#2a3f5f"
            },
            "baxis": {
             "endlinecolor": "#2a3f5f",
             "gridcolor": "white",
             "linecolor": "white",
             "minorgridcolor": "white",
             "startlinecolor": "#2a3f5f"
            },
            "type": "carpet"
           }
          ],
          "choropleth": [
           {
            "colorbar": {
             "outlinewidth": 0,
             "ticks": ""
            },
            "type": "choropleth"
           }
          ],
          "contour": [
           {
            "colorbar": {
             "outlinewidth": 0,
             "ticks": ""
            },
            "colorscale": [
             [
              0,
              "#0d0887"
             ],
             [
              0.1111111111111111,
              "#46039f"
             ],
             [
              0.2222222222222222,
              "#7201a8"
             ],
             [
              0.3333333333333333,
              "#9c179e"
             ],
             [
              0.4444444444444444,
              "#bd3786"
             ],
             [
              0.5555555555555556,
              "#d8576b"
             ],
             [
              0.6666666666666666,
              "#ed7953"
             ],
             [
              0.7777777777777778,
              "#fb9f3a"
             ],
             [
              0.8888888888888888,
              "#fdca26"
             ],
             [
              1,
              "#f0f921"
             ]
            ],
            "type": "contour"
           }
          ],
          "contourcarpet": [
           {
            "colorbar": {
             "outlinewidth": 0,
             "ticks": ""
            },
            "type": "contourcarpet"
           }
          ],
          "heatmap": [
           {
            "colorbar": {
             "outlinewidth": 0,
             "ticks": ""
            },
            "colorscale": [
             [
              0,
              "#0d0887"
             ],
             [
              0.1111111111111111,
              "#46039f"
             ],
             [
              0.2222222222222222,
              "#7201a8"
             ],
             [
              0.3333333333333333,
              "#9c179e"
             ],
             [
              0.4444444444444444,
              "#bd3786"
             ],
             [
              0.5555555555555556,
              "#d8576b"
             ],
             [
              0.6666666666666666,
              "#ed7953"
             ],
             [
              0.7777777777777778,
              "#fb9f3a"
             ],
             [
              0.8888888888888888,
              "#fdca26"
             ],
             [
              1,
              "#f0f921"
             ]
            ],
            "type": "heatmap"
           }
          ],
          "heatmapgl": [
           {
            "colorbar": {
             "outlinewidth": 0,
             "ticks": ""
            },
            "colorscale": [
             [
              0,
              "#0d0887"
             ],
             [
              0.1111111111111111,
              "#46039f"
             ],
             [
              0.2222222222222222,
              "#7201a8"
             ],
             [
              0.3333333333333333,
              "#9c179e"
             ],
             [
              0.4444444444444444,
              "#bd3786"
             ],
             [
              0.5555555555555556,
              "#d8576b"
             ],
             [
              0.6666666666666666,
              "#ed7953"
             ],
             [
              0.7777777777777778,
              "#fb9f3a"
             ],
             [
              0.8888888888888888,
              "#fdca26"
             ],
             [
              1,
              "#f0f921"
             ]
            ],
            "type": "heatmapgl"
           }
          ],
          "histogram": [
           {
            "marker": {
             "pattern": {
              "fillmode": "overlay",
              "size": 10,
              "solidity": 0.2
             }
            },
            "type": "histogram"
           }
          ],
          "histogram2d": [
           {
            "colorbar": {
             "outlinewidth": 0,
             "ticks": ""
            },
            "colorscale": [
             [
              0,
              "#0d0887"
             ],
             [
              0.1111111111111111,
              "#46039f"
             ],
             [
              0.2222222222222222,
              "#7201a8"
             ],
             [
              0.3333333333333333,
              "#9c179e"
             ],
             [
              0.4444444444444444,
              "#bd3786"
             ],
             [
              0.5555555555555556,
              "#d8576b"
             ],
             [
              0.6666666666666666,
              "#ed7953"
             ],
             [
              0.7777777777777778,
              "#fb9f3a"
             ],
             [
              0.8888888888888888,
              "#fdca26"
             ],
             [
              1,
              "#f0f921"
             ]
            ],
            "type": "histogram2d"
           }
          ],
          "histogram2dcontour": [
           {
            "colorbar": {
             "outlinewidth": 0,
             "ticks": ""
            },
            "colorscale": [
             [
              0,
              "#0d0887"
             ],
             [
              0.1111111111111111,
              "#46039f"
             ],
             [
              0.2222222222222222,
              "#7201a8"
             ],
             [
              0.3333333333333333,
              "#9c179e"
             ],
             [
              0.4444444444444444,
              "#bd3786"
             ],
             [
              0.5555555555555556,
              "#d8576b"
             ],
             [
              0.6666666666666666,
              "#ed7953"
             ],
             [
              0.7777777777777778,
              "#fb9f3a"
             ],
             [
              0.8888888888888888,
              "#fdca26"
             ],
             [
              1,
              "#f0f921"
             ]
            ],
            "type": "histogram2dcontour"
           }
          ],
          "mesh3d": [
           {
            "colorbar": {
             "outlinewidth": 0,
             "ticks": ""
            },
            "type": "mesh3d"
           }
          ],
          "parcoords": [
           {
            "line": {
             "colorbar": {
              "outlinewidth": 0,
              "ticks": ""
             }
            },
            "type": "parcoords"
           }
          ],
          "pie": [
           {
            "automargin": true,
            "type": "pie"
           }
          ],
          "scatter": [
           {
            "fillpattern": {
             "fillmode": "overlay",
             "size": 10,
             "solidity": 0.2
            },
            "type": "scatter"
           }
          ],
          "scatter3d": [
           {
            "line": {
             "colorbar": {
              "outlinewidth": 0,
              "ticks": ""
             }
            },
            "marker": {
             "colorbar": {
              "outlinewidth": 0,
              "ticks": ""
             }
            },
            "type": "scatter3d"
           }
          ],
          "scattercarpet": [
           {
            "marker": {
             "colorbar": {
              "outlinewidth": 0,
              "ticks": ""
             }
            },
            "type": "scattercarpet"
           }
          ],
          "scattergeo": [
           {
            "marker": {
             "colorbar": {
              "outlinewidth": 0,
              "ticks": ""
             }
            },
            "type": "scattergeo"
           }
          ],
          "scattergl": [
           {
            "marker": {
             "colorbar": {
              "outlinewidth": 0,
              "ticks": ""
             }
            },
            "type": "scattergl"
           }
          ],
          "scattermapbox": [
           {
            "marker": {
             "colorbar": {
              "outlinewidth": 0,
              "ticks": ""
             }
            },
            "type": "scattermapbox"
           }
          ],
          "scatterpolar": [
           {
            "marker": {
             "colorbar": {
              "outlinewidth": 0,
              "ticks": ""
             }
            },
            "type": "scatterpolar"
           }
          ],
          "scatterpolargl": [
           {
            "marker": {
             "colorbar": {
              "outlinewidth": 0,
              "ticks": ""
             }
            },
            "type": "scatterpolargl"
           }
          ],
          "scatterternary": [
           {
            "marker": {
             "colorbar": {
              "outlinewidth": 0,
              "ticks": ""
             }
            },
            "type": "scatterternary"
           }
          ],
          "surface": [
           {
            "colorbar": {
             "outlinewidth": 0,
             "ticks": ""
            },
            "colorscale": [
             [
              0,
              "#0d0887"
             ],
             [
              0.1111111111111111,
              "#46039f"
             ],
             [
              0.2222222222222222,
              "#7201a8"
             ],
             [
              0.3333333333333333,
              "#9c179e"
             ],
             [
              0.4444444444444444,
              "#bd3786"
             ],
             [
              0.5555555555555556,
              "#d8576b"
             ],
             [
              0.6666666666666666,
              "#ed7953"
             ],
             [
              0.7777777777777778,
              "#fb9f3a"
             ],
             [
              0.8888888888888888,
              "#fdca26"
             ],
             [
              1,
              "#f0f921"
             ]
            ],
            "type": "surface"
           }
          ],
          "table": [
           {
            "cells": {
             "fill": {
              "color": "#EBF0F8"
             },
             "line": {
              "color": "white"
             }
            },
            "header": {
             "fill": {
              "color": "#C8D4E3"
             },
             "line": {
              "color": "white"
             }
            },
            "type": "table"
           }
          ]
         },
         "layout": {
          "annotationdefaults": {
           "arrowcolor": "#2a3f5f",
           "arrowhead": 0,
           "arrowwidth": 1
          },
          "autotypenumbers": "strict",
          "coloraxis": {
           "colorbar": {
            "outlinewidth": 0,
            "ticks": ""
           }
          },
          "colorscale": {
           "diverging": [
            [
             0,
             "#8e0152"
            ],
            [
             0.1,
             "#c51b7d"
            ],
            [
             0.2,
             "#de77ae"
            ],
            [
             0.3,
             "#f1b6da"
            ],
            [
             0.4,
             "#fde0ef"
            ],
            [
             0.5,
             "#f7f7f7"
            ],
            [
             0.6,
             "#e6f5d0"
            ],
            [
             0.7,
             "#b8e186"
            ],
            [
             0.8,
             "#7fbc41"
            ],
            [
             0.9,
             "#4d9221"
            ],
            [
             1,
             "#276419"
            ]
           ],
           "sequential": [
            [
             0,
             "#0d0887"
            ],
            [
             0.1111111111111111,
             "#46039f"
            ],
            [
             0.2222222222222222,
             "#7201a8"
            ],
            [
             0.3333333333333333,
             "#9c179e"
            ],
            [
             0.4444444444444444,
             "#bd3786"
            ],
            [
             0.5555555555555556,
             "#d8576b"
            ],
            [
             0.6666666666666666,
             "#ed7953"
            ],
            [
             0.7777777777777778,
             "#fb9f3a"
            ],
            [
             0.8888888888888888,
             "#fdca26"
            ],
            [
             1,
             "#f0f921"
            ]
           ],
           "sequentialminus": [
            [
             0,
             "#0d0887"
            ],
            [
             0.1111111111111111,
             "#46039f"
            ],
            [
             0.2222222222222222,
             "#7201a8"
            ],
            [
             0.3333333333333333,
             "#9c179e"
            ],
            [
             0.4444444444444444,
             "#bd3786"
            ],
            [
             0.5555555555555556,
             "#d8576b"
            ],
            [
             0.6666666666666666,
             "#ed7953"
            ],
            [
             0.7777777777777778,
             "#fb9f3a"
            ],
            [
             0.8888888888888888,
             "#fdca26"
            ],
            [
             1,
             "#f0f921"
            ]
           ]
          },
          "colorway": [
           "#636efa",
           "#EF553B",
           "#00cc96",
           "#ab63fa",
           "#FFA15A",
           "#19d3f3",
           "#FF6692",
           "#B6E880",
           "#FF97FF",
           "#FECB52"
          ],
          "font": {
           "color": "#2a3f5f"
          },
          "geo": {
           "bgcolor": "white",
           "lakecolor": "white",
           "landcolor": "#E5ECF6",
           "showlakes": true,
           "showland": true,
           "subunitcolor": "white"
          },
          "hoverlabel": {
           "align": "left"
          },
          "hovermode": "closest",
          "mapbox": {
           "style": "light"
          },
          "paper_bgcolor": "white",
          "plot_bgcolor": "#E5ECF6",
          "polar": {
           "angularaxis": {
            "gridcolor": "white",
            "linecolor": "white",
            "ticks": ""
           },
           "bgcolor": "#E5ECF6",
           "radialaxis": {
            "gridcolor": "white",
            "linecolor": "white",
            "ticks": ""
           }
          },
          "scene": {
           "xaxis": {
            "backgroundcolor": "#E5ECF6",
            "gridcolor": "white",
            "gridwidth": 2,
            "linecolor": "white",
            "showbackground": true,
            "ticks": "",
            "zerolinecolor": "white"
           },
           "yaxis": {
            "backgroundcolor": "#E5ECF6",
            "gridcolor": "white",
            "gridwidth": 2,
            "linecolor": "white",
            "showbackground": true,
            "ticks": "",
            "zerolinecolor": "white"
           },
           "zaxis": {
            "backgroundcolor": "#E5ECF6",
            "gridcolor": "white",
            "gridwidth": 2,
            "linecolor": "white",
            "showbackground": true,
            "ticks": "",
            "zerolinecolor": "white"
           }
          },
          "shapedefaults": {
           "line": {
            "color": "#2a3f5f"
           }
          },
          "ternary": {
           "aaxis": {
            "gridcolor": "white",
            "linecolor": "white",
            "ticks": ""
           },
           "baxis": {
            "gridcolor": "white",
            "linecolor": "white",
            "ticks": ""
           },
           "bgcolor": "#E5ECF6",
           "caxis": {
            "gridcolor": "white",
            "linecolor": "white",
            "ticks": ""
           }
          },
          "title": {
           "x": 0.05
          },
          "xaxis": {
           "automargin": true,
           "gridcolor": "white",
           "linecolor": "white",
           "ticks": "",
           "title": {
            "standoff": 15
           },
           "zerolinecolor": "white",
           "zerolinewidth": 2
          },
          "yaxis": {
           "automargin": true,
           "gridcolor": "white",
           "linecolor": "white",
           "ticks": "",
           "title": {
            "standoff": 15
           },
           "zerolinecolor": "white",
           "zerolinewidth": 2
          }
         }
        },
        "title": {
         "text": "Pareto-front Plot"
        },
        "xaxis": {
         "title": {
          "text": "Min Fitness"
         }
        },
        "yaxis": {
         "title": {
          "text": "Runtime"
         }
        }
       }
      }
     },
     "metadata": {},
     "output_type": "display_data"
    },
    {
     "data": {
      "application/vnd.plotly.v1+json": {
       "config": {
        "plotlyServerURL": "https://plot.ly"
       },
       "data": [
        {
         "hovertemplate": "%{text}<extra>Trial</extra>",
         "marker": {
          "color": [
           0,
           1,
           2,
           3,
           4,
           5,
           6,
           7,
           8,
           9,
           10,
           11,
           12,
           13,
           14,
           15,
           16,
           17,
           18,
           19,
           20,
           21,
           22,
           23,
           24,
           25,
           26,
           27,
           28,
           29,
           30,
           31,
           32,
           33,
           34,
           35,
           36,
           37,
           38,
           39,
           40,
           41,
           42,
           43,
           44,
           45,
           46,
           47,
           48,
           49,
           50,
           51,
           52,
           53,
           54,
           55,
           56,
           57,
           58,
           59,
           60,
           61,
           62,
           63,
           64,
           65,
           66,
           67,
           68,
           69,
           70,
           71,
           72,
           73,
           74,
           77,
           78,
           79,
           80,
           83,
           84,
           85,
           86,
           87,
           88,
           89,
           90,
           91,
           92,
           94,
           95,
           96,
           97,
           98,
           99,
           100,
           101,
           102,
           103,
           104,
           105,
           106,
           107,
           108,
           109,
           110,
           111,
           112,
           113,
           114,
           115,
           116,
           119,
           121,
           122,
           124,
           125,
           126,
           127,
           128,
           129,
           130,
           131,
           132,
           133,
           134,
           135,
           136,
           137,
           138,
           139,
           140,
           141,
           142,
           143,
           144,
           145,
           146,
           147,
           148,
           149,
           150,
           152,
           153,
           154,
           155,
           156,
           157,
           158,
           159,
           160,
           161,
           162,
           163,
           164,
           165,
           166,
           167,
           168,
           169,
           170,
           171,
           172,
           173,
           174,
           175,
           176,
           177,
           178,
           179,
           181,
           186,
           188,
           190,
           192,
           196,
           199
          ],
          "colorbar": {
           "title": {
            "text": "Trial"
           }
          },
          "colorscale": [
           [
            0,
            "rgb(247,251,255)"
           ],
           [
            0.125,
            "rgb(222,235,247)"
           ],
           [
            0.25,
            "rgb(198,219,239)"
           ],
           [
            0.375,
            "rgb(158,202,225)"
           ],
           [
            0.5,
            "rgb(107,174,214)"
           ],
           [
            0.625,
            "rgb(66,146,198)"
           ],
           [
            0.75,
            "rgb(33,113,181)"
           ],
           [
            0.875,
            "rgb(8,81,156)"
           ],
           [
            1,
            "rgb(8,48,107)"
           ]
          ],
          "line": {
           "color": "Grey",
           "width": 0.5
          }
         },
         "mode": "markers",
         "showlegend": false,
         "text": [
          "{<br>  \"number\": 0,<br>  \"values\": [<br>    0.5299442410469055,<br>    0.4982863306999207,<br>    4.281626462936401<br>  ],<br>  \"params\": {<br>    \"mutation_method\": \"mutExponential\",<br>    \"mutation_prob\": 0.7451031795762046,<br>    \"mutation_rate_start\": 0.6880389508958511,<br>    \"mutation_rate_end\": 0.7720713866811632,<br>    \"mutation_rate_degree\": 2,<br>    \"crossover_method\": \"cxUniform\",<br>    \"crossover_rate\": 0.3056757271265841,<br>    \"selection_method\": \"selTournament\",<br>    \"tournsize\": 2,<br>    \"elitism_rate\": 0.9840055794539837,<br>    \"survival_rate\": 0.43355666980078933<br>  }<br>}",
          "{<br>  \"number\": 1,<br>  \"values\": [<br>    0.6026304960250854,<br>    0.5805169343948364,<br>    12.192527770996094<br>  ],<br>  \"params\": {<br>    \"mutation_method\": \"mutConstant\",<br>    \"mutation_prob\": 0.8102419379121539,<br>    \"mutation_rate\": 0.5670036927595026,<br>    \"crossover_method\": \"cxUniform\",<br>    \"crossover_rate\": 0.5865318684900694,<br>    \"selection_method\": \"selBest\",<br>    \"elitism_rate\": 0.012888018616700636,<br>    \"survival_rate\": 0.8227622351133875<br>  }<br>}",
          "{<br>  \"number\": 2,<br>  \"values\": [<br>    0.6563820242881775,<br>    0.5904802918434143,<br>    6.830501556396484<br>  ],<br>  \"params\": {<br>    \"mutation_method\": \"mutConstant\",<br>    \"mutation_prob\": 0.5151791118223629,<br>    \"mutation_rate\": 0.6753487319019037,<br>    \"crossover_method\": \"cxTwoPoint\",<br>    \"crossover_rate\": 0.2438869438066591,<br>    \"crossover_points\": 4,<br>    \"selection_method\": \"selRoulette\",<br>    \"elitism_rate\": 0.6671046655575785,<br>    \"survival_rate\": 0.585180022004546<br>  }<br>}",
          "{<br>  \"number\": 3,<br>  \"values\": [<br>    0.818134605884552,<br>    0.7648661494255066,<br>    12.57694411277771<br>  ],<br>  \"params\": {<br>    \"mutation_method\": \"mutLinear\",<br>    \"mutation_prob\": 0.2807446944101759,<br>    \"mutation_rate_start\": 0.6873342483095609,<br>    \"mutation_rate_end\": 0.17718317573663955,<br>    \"crossover_method\": \"cxUniform\",<br>    \"crossover_rate\": 0.3643006881692137,<br>    \"selection_method\": \"selRoulette\",<br>    \"elitism_rate\": 0.0991596503537504,<br>    \"survival_rate\": 0.543867577337406<br>  }<br>}",
          "{<br>  \"number\": 4,<br>  \"values\": [<br>    0.6569432616233826,<br>    0.6014132142066956,<br>    9.884447813034058<br>  ],<br>  \"params\": {<br>    \"mutation_method\": \"mutEntropy\",<br>    \"mutation_prob\": 0.49115283087924577,<br>    \"mutation_rate_start\": 0.9644203813145801,<br>    \"mutation_rate_end\": 0.5531002194910911,<br>    \"crossover_method\": \"cxTwoPoint\",<br>    \"crossover_rate\": 0.7027756139769191,<br>    \"crossover_points\": 4,<br>    \"selection_method\": \"selTournament\",<br>    \"tournsize\": 5,<br>    \"elitism_rate\": 0.3703103077728167,<br>    \"survival_rate\": 0.04408655632160752<br>  }<br>}",
          "{<br>  \"number\": 5,<br>  \"values\": [<br>    0.7581605911254883,<br>    0.6731084823608399,<br>    7.605344533920288<br>  ],<br>  \"params\": {<br>    \"mutation_method\": \"mutExponential\",<br>    \"mutation_prob\": 0.04604836892498898,<br>    \"mutation_rate_start\": 0.11051918805864003,<br>    \"mutation_rate_end\": 0.3169625303581831,<br>    \"mutation_rate_degree\": 4,<br>    \"crossover_method\": \"cxOnePoint\",<br>    \"crossover_rate\": 0.09401569931366005,<br>    \"selection_method\": \"selBest\",<br>    \"elitism_rate\": 0.18867875386226285,<br>    \"survival_rate\": 0.04291723302351225<br>  }<br>}",
          "{<br>  \"number\": 6,<br>  \"values\": [<br>    0.6108515858650208,<br>    0.5978142976760864,<br>    7.210463523864746<br>  ],<br>  \"params\": {<br>    \"mutation_method\": \"mutExponential\",<br>    \"mutation_prob\": 0.3223016855569708,<br>    \"mutation_rate_start\": 0.3939045481124015,<br>    \"mutation_rate_end\": 0.8733477068809429,<br>    \"mutation_rate_degree\": 4,<br>    \"crossover_method\": \"cxOnePoint\",<br>    \"crossover_rate\": 0.5299420778031193,<br>    \"selection_method\": \"selBoltzmann\",<br>    \"boltzmann_temperature\": 0.5461645965763832,<br>    \"elitism_rate\": 0.5982708721710486,<br>    \"survival_rate\": 0.2993355345621487<br>  }<br>}",
          "{<br>  \"number\": 7,<br>  \"values\": [<br>    0.5438743829727173,<br>    0.523196530342102,<br>    5.791201829910278<br>  ],<br>  \"params\": {<br>    \"mutation_method\": \"mutEntropy\",<br>    \"mutation_prob\": 0.9791032959892848,<br>    \"mutation_rate_start\": 0.6978238326399361,<br>    \"mutation_rate_end\": 0.898885462473212,<br>    \"crossover_method\": \"cxOnePoint\",<br>    \"crossover_rate\": 0.4973364571048754,<br>    \"selection_method\": \"selTournamentWithoutReplacement\",<br>    \"tournsize\": 2,<br>    \"elitism_rate\": 0.9387809494446677,<br>    \"survival_rate\": 0.9519137625974511<br>  }<br>}",
          "{<br>  \"number\": 8,<br>  \"values\": [<br>    0.6804086565971375,<br>    0.6434842228889466,<br>    6.883536100387573<br>  ],<br>  \"params\": {<br>    \"mutation_method\": \"mutLinear\",<br>    \"mutation_prob\": 0.24897059065453364,<br>    \"mutation_rate_start\": 0.06208851346776201,<br>    \"mutation_rate_end\": 0.9217517952159444,<br>    \"crossover_method\": \"cxTwoPoint\",<br>    \"crossover_rate\": 0.17522954616650177,<br>    \"crossover_points\": 3,<br>    \"selection_method\": \"selBoltzmann\",<br>    \"boltzmann_temperature\": 0.03593482054638997,<br>    \"elitism_rate\": 0.6428338870577289,<br>    \"survival_rate\": 0.9942160573114461<br>  }<br>}",
          "{<br>  \"number\": 9,<br>  \"values\": [<br>    0.767907977104187,<br>    0.742623794078827,<br>    12.784364461898804<br>  ],<br>  \"params\": {<br>    \"mutation_method\": \"mutEntropy\",<br>    \"mutation_prob\": 0.24291833054836098,<br>    \"mutation_rate_start\": 0.6717070570280173,<br>    \"mutation_rate_end\": 0.5753249121473145,<br>    \"crossover_method\": \"cxTwoPoint\",<br>    \"crossover_rate\": 0.4167816468531038,<br>    \"crossover_points\": 4,<br>    \"selection_method\": \"selStochasticUniversalSampling\",<br>    \"elitism_rate\": 0.09155353902905572,<br>    \"survival_rate\": 0.37819723039676956<br>  }<br>}",
          "{<br>  \"number\": 10,<br>  \"values\": [<br>    0.76732337474823,<br>    0.7065917015075683,<br>    9.042007684707642<br>  ],<br>  \"params\": {<br>    \"mutation_method\": \"mutExponential\",<br>    \"mutation_prob\": 0.07914413554435107,<br>    \"mutation_rate_start\": 0.01821256131398874,<br>    \"mutation_rate_end\": 0.13097321368493753,<br>    \"mutation_rate_degree\": 4,<br>    \"crossover_method\": \"cxKPoint\",<br>    \"crossover_rate\": 0.03086645166802822,<br>    \"crossover_points\": 1,<br>    \"selection_method\": \"selBest\",<br>    \"elitism_rate\": 0.3139947218672011,<br>    \"survival_rate\": 0.013136959370521693<br>  }<br>}",
          "{<br>  \"number\": 11,<br>  \"values\": [<br>    0.6832256317138672,<br>    0.6345887660980225,<br>    5.483475208282471<br>  ],<br>  \"params\": {<br>    \"mutation_method\": \"mutExponential\",<br>    \"mutation_prob\": 0.02932959396594991,<br>    \"mutation_rate_start\": 0.0029633028704482145,<br>    \"mutation_rate_end\": 0.1247614418258498,<br>    \"mutation_rate_degree\": 4,<br>    \"crossover_method\": \"cxKPoint\",<br>    \"crossover_rate\": 0.02479047484167186,<br>    \"crossover_points\": 1,<br>    \"selection_method\": \"selBest\",<br>    \"elitism_rate\": 0.3316384445050473,<br>    \"survival_rate\": 0.00814723119791742<br>  }<br>}",
          "{<br>  \"number\": 12,<br>  \"values\": [<br>    0.5222430229187012,<br>    0.5076983451843262,<br>    3.8452095985412598<br>  ],<br>  \"params\": {<br>    \"mutation_method\": \"mutExponential\",<br>    \"mutation_prob\": 0.002050456706710377,<br>    \"mutation_rate_start\": 0.2105648885348006,<br>    \"mutation_rate_end\": 0.32836923061995005,<br>    \"mutation_rate_degree\": 4,<br>    \"crossover_method\": \"cxKPoint\",<br>    \"crossover_rate\": 0.027690939567136086,<br>    \"crossover_points\": 1,<br>    \"selection_method\": \"selRandom\",<br>    \"elitism_rate\": 0.25930596861273764,<br>    \"survival_rate\": 0.20521652369779705<br>  }<br>}",
          "{<br>  \"number\": 13,<br>  \"values\": [<br>    0.6813010573387146,<br>    0.6507925271987915,<br>    9.419226169586182<br>  ],<br>  \"params\": {<br>    \"mutation_method\": \"mutExponential\",<br>    \"mutation_prob\": 0.11330038587497443,<br>    \"mutation_rate_start\": 0.260062812227864,<br>    \"mutation_rate_end\": 0.0062143605101443455,<br>    \"mutation_rate_degree\": 3,<br>    \"crossover_method\": \"cxKPoint\",<br>    \"crossover_rate\": 0.13181724215090307,<br>    \"crossover_points\": 2,<br>    \"selection_method\": \"selNormRoulette\",<br>    \"elitism_rate\": 0.44832677835509716,<br>    \"survival_rate\": 0.1613388876240066<br>  }<br>}",
          "{<br>  \"number\": 14,<br>  \"values\": [<br>    0.7907454371452332,<br>    0.75472172498703,<br>    12.820128202438354<br>  ],<br>  \"params\": {<br>    \"mutation_method\": \"mutExponential\",<br>    \"mutation_prob\": 0.47560579368900957,<br>    \"mutation_rate_start\": 0.1529559054464372,<br>    \"mutation_rate_end\": 0.35965263951502163,<br>    \"mutation_rate_degree\": 1,<br>    \"crossover_method\": \"cxOnePoint\",<br>    \"crossover_rate\": 0.9945680880950329,<br>    \"selection_method\": \"selBest\",<br>    \"elitism_rate\": 0.21808238960297327,<br>    \"survival_rate\": 0.14646018393581917<br>  }<br>}",
          "{<br>  \"number\": 15,<br>  \"values\": [<br>    0.6903026700019836,<br>    0.6463760018348694,<br>    9.649763822555542<br>  ],<br>  \"params\": {<br>    \"mutation_method\": \"mutExponential\",<br>    \"mutation_prob\": 0.13373190266469767,<br>    \"mutation_rate_start\": 0.3738788902310859,<br>    \"mutation_rate_end\": 0.3392001828225362,<br>    \"mutation_rate_degree\": 3,<br>    \"crossover_method\": \"cxKPoint\",<br>    \"crossover_rate\": 0.10915007638025001,<br>    \"crossover_points\": 2,<br>    \"selection_method\": \"selBest\",<br>    \"elitism_rate\": 0.43772442275776813,<br>    \"survival_rate\": 0.011079546829202425<br>  }<br>}",
          "{<br>  \"number\": 16,<br>  \"values\": [<br>    0.6069177985191345,<br>    0.5779878735542298,<br>    5.705043077468872<br>  ],<br>  \"params\": {<br>    \"mutation_method\": \"mutExponential\",<br>    \"mutation_prob\": 0.01018235626841163,<br>    \"mutation_rate_start\": 0.09583083701473502,<br>    \"mutation_rate_end\": 0.17199842603518356,<br>    \"mutation_rate_degree\": 4,<br>    \"crossover_method\": \"cxOnePoint\",<br>    \"crossover_rate\": 0.0015812928331684906,<br>    \"selection_method\": \"selBest\",<br>    \"elitism_rate\": 0.18770166287133536,<br>    \"survival_rate\": 0.6660960645187651<br>  }<br>}",
          "{<br>  \"number\": 17,<br>  \"values\": [<br>    0.8395792245864868,<br>    0.7878612875938416,<br>    7.1308982372283936<br>  ],<br>  \"params\": {<br>    \"mutation_method\": \"mutConstant\",<br>    \"mutation_prob\": 0.4115375324464282,<br>    \"mutation_rate\": 0.11911212894739742,<br>    \"crossover_method\": \"cxKPoint\",<br>    \"crossover_rate\": 0.7854699784027136,<br>    \"crossover_points\": 1,<br>    \"selection_method\": \"selTournamentWithoutReplacement\",<br>    \"tournsize\": 10,<br>    \"elitism_rate\": 0.5428821438597352,<br>    \"survival_rate\": 0.26568562904187004<br>  }<br>}",
          "{<br>  \"number\": 18,<br>  \"values\": [<br>    0.8308054804801941,<br>    0.7715441584587097,<br>    5.727808475494385<br>  ],<br>  \"params\": {<br>    \"mutation_method\": \"mutConstant\",<br>    \"mutation_prob\": 0.6374533733471582,<br>    \"mutation_rate\": 0.030921607815573737,<br>    \"crossover_method\": \"cxKPoint\",<br>    \"crossover_rate\": 0.8475148038173734,<br>    \"crossover_points\": 1,<br>    \"selection_method\": \"selTournamentWithoutReplacement\",<br>    \"tournsize\": 10,<br>    \"elitism_rate\": 0.8126176713253929,<br>    \"survival_rate\": 0.28199153960291745<br>  }<br>}",
          "{<br>  \"number\": 19,<br>  \"values\": [<br>    0.7670469284057617,<br>    0.7171781659126282,<br>    5.648449182510376<br>  ],<br>  \"params\": {<br>    \"mutation_method\": \"mutConstant\",<br>    \"mutation_prob\": 0.6463454144075953,<br>    \"mutation_rate\": 0.014813755452300088,<br>    \"crossover_method\": \"cxKPoint\",<br>    \"crossover_rate\": 0.9976446967882108,<br>    \"crossover_points\": 2,<br>    \"selection_method\": \"selTournamentWithoutReplacement\",<br>    \"tournsize\": 10,<br>    \"elitism_rate\": 0.7614623024751036,<br>    \"survival_rate\": 0.7659345472723585<br>  }<br>}",
          "{<br>  \"number\": 20,<br>  \"values\": [<br>    0.5486484169960022,<br>    0.5330130457878113,<br>    6.81147575378418<br>  ],<br>  \"params\": {<br>    \"mutation_method\": \"mutConstant\",<br>    \"mutation_prob\": 0.6324158278393734,<br>    \"mutation_rate\": 0.9761477719583962,<br>    \"crossover_method\": \"cxKPoint\",<br>    \"crossover_rate\": 0.8635313787461434,<br>    \"crossover_points\": 3,<br>    \"selection_method\": \"selTournamentWithoutReplacement\",<br>    \"tournsize\": 7,<br>    \"elitism_rate\": 0.7857427001187488,<br>    \"survival_rate\": 0.48728468452413565<br>  }<br>}",
          "{<br>  \"number\": 21,<br>  \"values\": [<br>    0.5824716091156006,<br>    0.5162872433662414,<br>    1.2085256576538086<br>  ],<br>  \"params\": {<br>    \"mutation_method\": \"mutConstant\",<br>    \"mutation_prob\": 0.9080987958683588,<br>    \"mutation_rate\": 0.00031116350484017286,<br>    \"crossover_method\": \"cxKPoint\",<br>    \"crossover_rate\": 0.7736567904330015,<br>    \"crossover_points\": 1,<br>    \"selection_method\": \"selTournamentWithoutReplacement\",<br>    \"tournsize\": 10,<br>    \"elitism_rate\": 0.824245288594315,<br>    \"survival_rate\": 0.2902698647719749<br>  }<br>}",
          "{<br>  \"number\": 22,<br>  \"values\": [<br>    0.7679969668388367,<br>    0.7125959396362305,<br>    5.974289417266846<br>  ],<br>  \"params\": {<br>    \"mutation_method\": \"mutConstant\",<br>    \"mutation_prob\": 0.9403201457307947,<br>    \"mutation_rate\": 0.2570284687405525,<br>    \"crossover_method\": \"cxKPoint\",<br>    \"crossover_rate\": 0.8590363860625331,<br>    \"crossover_points\": 1,<br>    \"selection_method\": \"selTournamentWithoutReplacement\",<br>    \"tournsize\": 7,<br>    \"elitism_rate\": 0.861334340036568,<br>    \"survival_rate\": 0.35361671829481883<br>  }<br>}",
          "{<br>  \"number\": 23,<br>  \"values\": [<br>    0.7729471921920776,<br>    0.697440242767334,<br>    7.149623870849609<br>  ],<br>  \"params\": {<br>    \"mutation_method\": \"mutConstant\",<br>    \"mutation_prob\": 0.8462288411734853,<br>    \"mutation_rate\": 0.22103943217959018,<br>    \"crossover_method\": \"cxKPoint\",<br>    \"crossover_rate\": 0.6467836750959369,<br>    \"crossover_points\": 1,<br>    \"selection_method\": \"selStochasticUniversalSampling\",<br>    \"elitism_rate\": 0.716767698234896,<br>    \"survival_rate\": 0.2517544036786864<br>  }<br>}",
          "{<br>  \"number\": 24,<br>  \"values\": [<br>    0.6052874326705933,<br>    0.5585859775543213,<br>    5.768560886383057<br>  ],<br>  \"params\": {<br>    \"mutation_method\": \"mutLinear\",<br>    \"mutation_prob\": 0.6615160172508315,<br>    \"mutation_rate_start\": 0.980440731049015,<br>    \"mutation_rate_end\": 0.6859500651227584,<br>    \"crossover_method\": \"cxKPoint\",<br>    \"crossover_rate\": 0.7550740838409976,<br>    \"crossover_points\": 2,<br>    \"selection_method\": \"selNormRoulette\",<br>    \"elitism_rate\": 0.8838474573380611,<br>    \"survival_rate\": 0.6298312817705376<br>  }<br>}",
          "{<br>  \"number\": 25,<br>  \"values\": [<br>    0.6101658940315247,<br>    0.5827593326568603,<br>    8.117768287658691<br>  ],<br>  \"params\": {<br>    \"mutation_method\": \"mutConstant\",<br>    \"mutation_prob\": 0.8788215630527032,<br>    \"mutation_rate\": 0.3543498537134758,<br>    \"crossover_method\": \"cxKPoint\",<br>    \"crossover_rate\": 0.8997295249259861,<br>    \"crossover_points\": 1,<br>    \"selection_method\": \"selRandom\",<br>    \"elitism_rate\": 0.8648804590805184,<br>    \"survival_rate\": 0.11245330914786383<br>  }<br>}",
          "{<br>  \"number\": 26,<br>  \"values\": [<br>    0.7990807294845581,<br>    0.7601740837097168,<br>    9.290120363235474<br>  ],<br>  \"params\": {<br>    \"mutation_method\": \"mutConstant\",<br>    \"mutation_prob\": 0.745469334767908,<br>    \"mutation_rate\": 0.014988369636433619,<br>    \"crossover_method\": \"cxUniform\",<br>    \"crossover_rate\": 0.7985845093233377,<br>    \"selection_method\": \"selTournamentWithoutReplacement\",<br>    \"tournsize\": 8,<br>    \"elitism_rate\": 0.513843368314721,<br>    \"survival_rate\": 0.4407762724145538<br>  }<br>}",
          "{<br>  \"number\": 27,<br>  \"values\": [<br>    0.6902449131011963,<br>    0.6584548830986023,<br>    6.343273162841797<br>  ],<br>  \"params\": {<br>    \"mutation_method\": \"mutConstant\",<br>    \"mutation_prob\": 0.5703307642476951,<br>    \"mutation_rate\": 0.38958965389629263,<br>    \"crossover_method\": \"cxKPoint\",<br>    \"crossover_rate\": 0.9208618497612943,<br>    \"crossover_points\": 1,<br>    \"selection_method\": \"selTournamentWithoutReplacement\",<br>    \"tournsize\": 4,<br>    \"elitism_rate\": 0.787415988635883,<br>    \"survival_rate\": 0.33598973378914526<br>  }<br>}",
          "{<br>  \"number\": 28,<br>  \"values\": [<br>    0.533074140548706,<br>    0.5020869135856628,<br>    4.457805633544922<br>  ],<br>  \"params\": {<br>    \"mutation_method\": \"mutEntropy\",<br>    \"mutation_prob\": 0.38124891651324044,<br>    \"mutation_rate_start\": 0.5179493763409413,<br>    \"mutation_rate_end\": 0.6901596474095105,<br>    \"crossover_method\": \"cxKPoint\",<br>    \"crossover_rate\": 0.6893213902430837,<br>    \"crossover_points\": 2,<br>    \"selection_method\": \"selTournamentWithoutReplacement\",<br>    \"tournsize\": 9,<br>    \"elitism_rate\": 0.9943478651517155,<br>    \"survival_rate\": 0.23046343162937152<br>  }<br>}",
          "{<br>  \"number\": 29,<br>  \"values\": [<br>    0.6361677646636963,<br>    0.5857226133346558,<br>    5.091538667678833<br>  ],<br>  \"params\": {<br>    \"mutation_method\": \"mutLinear\",<br>    \"mutation_prob\": 0.7289800610608714,<br>    \"mutation_rate_start\": 0.5462921699926226,<br>    \"mutation_rate_end\": 0.43609510836487797,<br>    \"crossover_method\": \"cxUniform\",<br>    \"crossover_rate\": 0.6042283231143359,<br>    \"selection_method\": \"selTournament\",<br>    \"tournsize\": 6,<br>    \"elitism_rate\": 0.9448877006112935,<br>    \"survival_rate\": 0.4242669292582666<br>  }<br>}",
          "{<br>  \"number\": 30,<br>  \"values\": [<br>    0.6129070520401001,<br>    0.58589688539505,<br>    5.027351140975952<br>  ],<br>  \"params\": {<br>    \"mutation_method\": \"mutLinear\",<br>    \"mutation_prob\": 0.743309684334142,<br>    \"mutation_rate_start\": 0.8046008828664453,<br>    \"mutation_rate_end\": 0.43659019247107067,<br>    \"crossover_method\": \"cxUniform\",<br>    \"crossover_rate\": 0.6195844654903504,<br>    \"selection_method\": \"selTournament\",<br>    \"tournsize\": 8,<br>    \"elitism_rate\": 0.9589685445832843,<br>    \"survival_rate\": 0.43668106700514797<br>  }<br>}",
          "{<br>  \"number\": 31,<br>  \"values\": [<br>    0.8208284378051758,<br>    0.7889212846755982,<br>    7.9705259799957275<br>  ],<br>  \"params\": {<br>    \"mutation_method\": \"mutConstant\",<br>    \"mutation_prob\": 0.7241032195416145,<br>    \"mutation_rate\": 0.09450770661069326,<br>    \"crossover_method\": \"cxUniform\",<br>    \"crossover_rate\": 0.7822698852820764,<br>    \"selection_method\": \"selTournamentWithoutReplacement\",<br>    \"tournsize\": 10,<br>    \"elitism_rate\": 0.5618462456811011,<br>    \"survival_rate\": 0.26469154784006965<br>  }<br>}",
          "{<br>  \"number\": 32,<br>  \"values\": [<br>    0.7668366432189941,<br>    0.7219496011734009,<br>    6.616721868515015<br>  ],<br>  \"params\": {<br>    \"mutation_method\": \"mutConstant\",<br>    \"mutation_prob\": 0.43804829385653293,<br>    \"mutation_rate\": 0.1542585362277079,<br>    \"crossover_method\": \"cxTwoPoint\",<br>    \"crossover_rate\": 0.8214655670831865,<br>    \"crossover_points\": 3,<br>    \"selection_method\": \"selTournament\",<br>    \"tournsize\": 10,<br>    \"elitism_rate\": 0.7027962561139224,<br>    \"survival_rate\": 0.3735978747837502<br>  }<br>}",
          "{<br>  \"number\": 33,<br>  \"values\": [<br>    0.5576106309890747,<br>    0.5355578780174255,<br>    5.944640874862671<br>  ],<br>  \"params\": {<br>    \"mutation_method\": \"mutConstant\",<br>    \"mutation_prob\": 0.5668621913384349,<br>    \"mutation_rate\": 0.9826740180011049,<br>    \"crossover_method\": \"cxUniform\",<br>    \"crossover_rate\": 0.9348154823911109,<br>    \"selection_method\": \"selRoulette\",<br>    \"elitism_rate\": 0.8465405774746432,<br>    \"survival_rate\": 0.30757239754330146<br>  }<br>}",
          "{<br>  \"number\": 34,<br>  \"values\": [<br>    0.6837390065193176,<br>    0.6683830499649048,<br>    5.519277572631836<br>  ],<br>  \"params\": {<br>    \"mutation_method\": \"mutConstant\",<br>    \"mutation_prob\": 0.5755508906721216,<br>    \"mutation_rate\": 0.003715652871261854,<br>    \"crossover_method\": \"cxKPoint\",<br>    \"crossover_rate\": 0.7212900229554746,<br>    \"crossover_points\": 1,<br>    \"selection_method\": \"selTournamentWithoutReplacement\",<br>    \"tournsize\": 9,<br>    \"elitism_rate\": 0.6344741301994463,<br>    \"survival_rate\": 0.5103163732495428<br>  }<br>}",
          "{<br>  \"number\": 35,<br>  \"values\": [<br>    0.8264716863632202,<br>    0.7930272698402405,<br>    9.04025673866272<br>  ],<br>  \"params\": {<br>    \"mutation_method\": \"mutLinear\",<br>    \"mutation_prob\": 0.7993082259714598,<br>    \"mutation_rate_start\": 0.5356238159628599,<br>    \"mutation_rate_end\": 0.005012985110230961,<br>    \"crossover_method\": \"cxTwoPoint\",<br>    \"crossover_rate\": 0.27075359603353216,<br>    \"crossover_points\": 2,<br>    \"selection_method\": \"selStochasticUniversalSampling\",<br>    \"elitism_rate\": 0.4941318980456837,<br>    \"survival_rate\": 0.8572075074092543<br>  }<br>}",
          "{<br>  \"number\": 36,<br>  \"values\": [<br>    0.5762501955032349,<br>    0.5416767477989197,<br>    5.466883420944214<br>  ],<br>  \"params\": {<br>    \"mutation_method\": \"mutConstant\",<br>    \"mutation_prob\": 0.689653853944852,<br>    \"mutation_rate\": 0.7732155073297662,<br>    \"crossover_method\": \"cxUniform\",<br>    \"crossover_rate\": 0.5772544744860586,<br>    \"selection_method\": \"selRoulette\",<br>    \"elitism_rate\": 0.9182863097376107,<br>    \"survival_rate\": 0.11012182674878235<br>  }<br>}",
          "{<br>  \"number\": 37,<br>  \"values\": [<br>    0.6365219950675964,<br>    0.5792543411254882,<br>    6.675653696060181<br>  ],<br>  \"params\": {<br>    \"mutation_method\": \"mutEntropy\",<br>    \"mutation_prob\": 0.41563723625608506,<br>    \"mutation_rate_start\": 0.8229615390385575,<br>    \"mutation_rate_end\": 0.4653782824085525,<br>    \"crossover_method\": \"cxKPoint\",<br>    \"crossover_rate\": 0.8356858479766378,<br>    \"crossover_points\": 1,<br>    \"selection_method\": \"selBoltzmann\",<br>    \"boltzmann_temperature\": 0.9752092270290817,<br>    \"elitism_rate\": 0.7295683528426449,<br>    \"survival_rate\": 0.19214350464668228<br>  }<br>}",
          "{<br>  \"number\": 38,<br>  \"values\": [<br>    0.5935354232788086,<br>    0.5666745066642761,<br>    7.5788726806640625<br>  ],<br>  \"params\": {<br>    \"mutation_method\": \"mutLinear\",<br>    \"mutation_prob\": 0.5276113345614626,<br>    \"mutation_rate_start\": 0.34396569741564126,<br>    \"mutation_rate_end\": 0.9793221980293592,<br>    \"crossover_method\": \"cxOnePoint\",<br>    \"crossover_rate\": 0.42502042119503997,<br>    \"selection_method\": \"selRandom\",<br>    \"elitism_rate\": 0.5806448550118857,<br>    \"survival_rate\": 0.5767789923181699<br>  }<br>}",
          "{<br>  \"number\": 39,<br>  \"values\": [<br>    0.7232884764671326,<br>    0.6599147200584412,<br>    6.357525587081909<br>  ],<br>  \"params\": {<br>    \"mutation_method\": \"mutConstant\",<br>    \"mutation_prob\": 0.7900784306819642,<br>    \"mutation_rate\": 0.14639340574495077,<br>    \"crossover_method\": \"cxTwoPoint\",<br>    \"crossover_rate\": 0.7451231842460793,<br>    \"crossover_points\": 1,<br>    \"selection_method\": \"selNormRoulette\",<br>    \"elitism_rate\": 0.808463881575128,<br>    \"survival_rate\": 0.7363754367080626<br>  }<br>}",
          "{<br>  \"number\": 40,<br>  \"values\": [<br>    0.5917640328407288,<br>    0.5744365930557251,<br>    8.000487804412842<br>  ],<br>  \"params\": {<br>    \"mutation_method\": \"mutEntropy\",<br>    \"mutation_prob\": 0.8832235516317477,<br>    \"mutation_rate_start\": 0.8549547336857555,<br>    \"mutation_rate_end\": 0.7920681908860744,<br>    \"crossover_method\": \"cxOnePoint\",<br>    \"crossover_rate\": 0.6673229325447767,<br>    \"selection_method\": \"selTournament\",<br>    \"tournsize\": 10,<br>    \"elitism_rate\": 0.6787847565242935,<br>    \"survival_rate\": 0.28823873974052094<br>  }<br>}",
          "{<br>  \"number\": 41,<br>  \"values\": [<br>    0.7242881655693054,<br>    0.7057913064956665,<br>    6.01300835609436<br>  ],<br>  \"params\": {<br>    \"mutation_method\": \"mutConstant\",<br>    \"mutation_prob\": 0.6067688204428697,<br>    \"mutation_rate\": 0.007582045199353054,<br>    \"crossover_method\": \"cxKPoint\",<br>    \"crossover_rate\": 0.7526162636945772,<br>    \"crossover_points\": 1,<br>    \"selection_method\": \"selTournamentWithoutReplacement\",<br>    \"tournsize\": 9,<br>    \"elitism_rate\": 0.617149705587237,<br>    \"survival_rate\": 0.39760765558576244<br>  }<br>}",
          "{<br>  \"number\": 42,<br>  \"values\": [<br>    0.7486201524734497,<br>    0.7137616634368896,<br>    5.284050703048706<br>  ],<br>  \"params\": {<br>    \"mutation_method\": \"mutConstant\",<br>    \"mutation_prob\": 0.5791117897939707,<br>    \"mutation_rate\": 0.1128329041731844,<br>    \"crossover_method\": \"cxKPoint\",<br>    \"crossover_rate\": 0.7308194279380388,<br>    \"crossover_points\": 1,<br>    \"selection_method\": \"selTournamentWithoutReplacement\",<br>    \"tournsize\": 9,<br>    \"elitism_rate\": 0.9053767796211049,<br>    \"survival_rate\": 0.5137073235070153<br>  }<br>}",
          "{<br>  \"number\": 43,<br>  \"values\": [<br>    0.8573745489120483,<br>    0.7862641930580139,<br>    10.693814516067505<br>  ],<br>  \"params\": {<br>    \"mutation_method\": \"mutConstant\",<br>    \"mutation_prob\": 0.5208390612831411,<br>    \"mutation_rate\": 0.1301842138427458,<br>    \"crossover_method\": \"cxKPoint\",<br>    \"crossover_rate\": 0.530092678958193,<br>    \"crossover_points\": 2,<br>    \"selection_method\": \"selTournamentWithoutReplacement\",<br>    \"tournsize\": 10,<br>    \"elitism_rate\": 0.019436425655565914,<br>    \"survival_rate\": 0.4845831609635555<br>  }<br>}",
          "{<br>  \"number\": 44,<br>  \"values\": [<br>    0.8650826215744019,<br>    0.8021474599838256,<br>    9.934348344802856<br>  ],<br>  \"params\": {<br>    \"mutation_method\": \"mutConstant\",<br>    \"mutation_prob\": 0.316796981892883,<br>    \"mutation_rate\": 0.14921723296310424,<br>    \"crossover_method\": \"cxKPoint\",<br>    \"crossover_rate\": 0.947447116689346,<br>    \"crossover_points\": 1,<br>    \"selection_method\": \"selTournamentWithoutReplacement\",<br>    \"tournsize\": 10,<br>    \"elitism_rate\": 0.0936608495613292,<br>    \"survival_rate\": 0.47962676269837873<br>  }<br>}",
          "{<br>  \"number\": 45,<br>  \"values\": [<br>    0.6909237504005432,<br>    0.6447667837142944,<br>    5.061288356781006<br>  ],<br>  \"params\": {<br>    \"mutation_method\": \"mutConstant\",<br>    \"mutation_prob\": 0.3155208604582805,<br>    \"mutation_rate\": 0.2458243151627273,<br>    \"crossover_method\": \"cxKPoint\",<br>    \"crossover_rate\": 0.9492567521322971,<br>    \"crossover_points\": 1,<br>    \"selection_method\": \"selTournamentWithoutReplacement\",<br>    \"tournsize\": 9,<br>    \"elitism_rate\": 0.9092716623502966,<br>    \"survival_rate\": 0.3216762560967746<br>  }<br>}",
          "{<br>  \"number\": 46,<br>  \"values\": [<br>    0.7500684261322021,<br>    0.7125379800796509,<br>    5.808561563491821<br>  ],<br>  \"params\": {<br>    \"mutation_method\": \"mutConstant\",<br>    \"mutation_prob\": 0.35158223426886925,<br>    \"mutation_rate\": 0.11109108483818622,<br>    \"crossover_method\": \"cxKPoint\",<br>    \"crossover_rate\": 0.8777268145928776,<br>    \"crossover_points\": 1,<br>    \"selection_method\": \"selTournamentWithoutReplacement\",<br>    \"tournsize\": 8,<br>    \"elitism_rate\": 0.8234273044654884,<br>    \"survival_rate\": 0.536529753235941<br>  }<br>}",
          "{<br>  \"number\": 47,<br>  \"values\": [<br>    0.7621884346008301,<br>    0.7141341805458069,<br>    7.69478178024292<br>  ],<br>  \"params\": {<br>    \"mutation_method\": \"mutConstant\",<br>    \"mutation_prob\": 0.2073029994930864,<br>    \"mutation_rate\": 0.08622167653495534,<br>    \"crossover_method\": \"cxKPoint\",<br>    \"crossover_rate\": 0.7927402905382815,<br>    \"crossover_points\": 1,<br>    \"selection_method\": \"selBoltzmann\",<br>    \"boltzmann_temperature\": 0.03247325800233147,<br>    \"elitism_rate\": 0.41303653753501246,<br>    \"survival_rate\": 0.1108347670105779<br>  }<br>}",
          "{<br>  \"number\": 48,<br>  \"values\": [<br>    0.7918167114257812,<br>    0.7244485139846801,<br>    7.293055534362793<br>  ],<br>  \"params\": {<br>    \"mutation_method\": \"mutConstant\",<br>    \"mutation_prob\": 0.18809126145005847,<br>    \"mutation_rate\": 0.21870606822259137,<br>    \"crossover_method\": \"cxKPoint\",<br>    \"crossover_rate\": 0.3522093100860269,<br>    \"crossover_points\": 1,<br>    \"selection_method\": \"selTournamentWithoutReplacement\",<br>    \"tournsize\": 10,<br>    \"elitism_rate\": 0.5355347098924907,<br>    \"survival_rate\": 0.21994246146768884<br>  }<br>}",
          "{<br>  \"number\": 49,<br>  \"values\": [<br>    0.6980844736099243,<br>    0.6521105885505676,<br>    13.825255632400513<br>  ],<br>  \"params\": {<br>    \"mutation_method\": \"mutConstant\",<br>    \"mutation_prob\": 0.466792321959262,<br>    \"mutation_rate\": 0.34101057748645874,<br>    \"crossover_method\": \"cxKPoint\",<br>    \"crossover_rate\": 0.9632099430308162,<br>    \"crossover_points\": 1,<br>    \"selection_method\": \"selTournamentWithoutReplacement\",<br>    \"tournsize\": 1,<br>    \"elitism_rate\": 0.11834508306916214,<br>    \"survival_rate\": 0.6202229686994529<br>  }<br>}",
          "{<br>  \"number\": 50,<br>  \"values\": [<br>    0.8333197832107544,<br>    0.793281078338623,<br>    14.157666206359863<br>  ],<br>  \"params\": {<br>    \"mutation_method\": \"mutEntropy\",<br>    \"mutation_prob\": 0.38683745307452805,<br>    \"mutation_rate_start\": 0.4407517305683662,<br>    \"mutation_rate_end\": 0.6499326452679253,<br>    \"crossover_method\": \"cxTwoPoint\",<br>    \"crossover_rate\": 0.7083102483183459,<br>    \"crossover_points\": 4,<br>    \"selection_method\": \"selRoulette\",<br>    \"elitism_rate\": 0.289632447656809,<br>    \"survival_rate\": 0.8959619213744233<br>  }<br>}",
          "{<br>  \"number\": 51,<br>  \"values\": [<br>    0.8692777156829834,<br>    0.7756580710411072,<br>    11.72983169555664<br>  ],<br>  \"params\": {<br>    \"mutation_method\": \"mutConstant\",<br>    \"mutation_prob\": 0.3201795683905999,<br>    \"mutation_rate\": 0.06928644543233717,<br>    \"crossover_method\": \"cxKPoint\",<br>    \"crossover_rate\": 0.9601122782406033,<br>    \"crossover_points\": 1,<br>    \"selection_method\": \"selTournamentWithoutReplacement\",<br>    \"tournsize\": 9,<br>    \"elitism_rate\": 0.3782954300430988,<br>    \"survival_rate\": 0.3145191294278597<br>  }<br>}",
          "{<br>  \"number\": 52,<br>  \"values\": [<br>    0.7243697643280029,<br>    0.7019487619400024,<br>    8.364702701568604<br>  ],<br>  \"params\": {<br>    \"mutation_method\": \"mutConstant\",<br>    \"mutation_prob\": 0.9423970773096122,<br>    \"mutation_rate\": 0.19780003139526087,<br>    \"crossover_method\": \"cxKPoint\",<br>    \"crossover_rate\": 0.83461718117613,<br>    \"crossover_points\": 1,<br>    \"selection_method\": \"selTournamentWithoutReplacement\",<br>    \"tournsize\": 9,<br>    \"elitism_rate\": 0.896258005417526,<br>    \"survival_rate\": 0.1711414058173923<br>  }<br>}",
          "{<br>  \"number\": 53,<br>  \"values\": [<br>    0.7580796480178833,<br>    0.7063711285591125,<br>    8.839512586593628<br>  ],<br>  \"params\": {<br>    \"mutation_method\": \"mutConstant\",<br>    \"mutation_prob\": 0.3251277719982326,<br>    \"mutation_rate\": 0.07963211774019531,<br>    \"crossover_method\": \"cxKPoint\",<br>    \"crossover_rate\": 0.8668609012564503,<br>    \"crossover_points\": 1,<br>    \"selection_method\": \"selTournamentWithoutReplacement\",<br>    \"tournsize\": 10,<br>    \"elitism_rate\": 0.7502909404302258,<br>    \"survival_rate\": 0.2684046101468821<br>  }<br>}",
          "{<br>  \"number\": 54,<br>  \"values\": [<br>    0.69142746925354,<br>    0.6631678342819214,<br>    11.409740447998047<br>  ],<br>  \"params\": {<br>    \"mutation_method\": \"mutConstant\",<br>    \"mutation_prob\": 0.2854751152153699,<br>    \"mutation_rate\": 0.2701622206684078,<br>    \"crossover_method\": \"cxOnePoint\",<br>    \"crossover_rate\": 0.9032683106862296,<br>    \"selection_method\": \"selStochasticUniversalSampling\",<br>    \"elitism_rate\": 0.4804850755719622,<br>    \"survival_rate\": 0.33853645303018987<br>  }<br>}",
          "{<br>  \"number\": 55,<br>  \"values\": [<br>    0.591215193271637,<br>    0.574392294883728,<br>    16.857346057891846<br>  ],<br>  \"params\": {<br>    \"mutation_method\": \"mutExponential\",<br>    \"mutation_prob\": 0.9861964039255972,<br>    \"mutation_rate_start\": 0.5831225515443533,<br>    \"mutation_rate_end\": 0.802685188826328,<br>    \"mutation_rate_degree\": 1,<br>    \"crossover_method\": \"cxKPoint\",<br>    \"crossover_rate\": 0.9632491857861658,<br>    \"crossover_points\": 3,<br>    \"selection_method\": \"selNormRoulette\",<br>    \"elitism_rate\": 0.15581017058485147,<br>    \"survival_rate\": 0.05638260191246913<br>  }<br>}",
          "{<br>  \"number\": 56,<br>  \"values\": [<br>    0.7047635316848755,<br>    0.6597479820251465,<br>    10.693931341171265<br>  ],<br>  \"params\": {<br>    \"mutation_method\": \"mutConstant\",<br>    \"mutation_prob\": 0.4475444596426982,<br>    \"mutation_rate\": 0.165317778090724,<br>    \"crossover_method\": \"cxKPoint\",<br>    \"crossover_rate\": 0.7798982685981093,<br>    \"crossover_points\": 4,<br>    \"selection_method\": \"selRandom\",<br>    \"elitism_rate\": 0.6621848504388042,<br>    \"survival_rate\": 0.39320514992438516<br>  }<br>}",
          "{<br>  \"number\": 57,<br>  \"values\": [<br>    0.664401113986969,<br>    0.634699821472168,<br>    12.914820194244385<br>  ],<br>  \"params\": {<br>    \"mutation_method\": \"mutConstant\",<br>    \"mutation_prob\": 0.5032255506666872,<br>    \"mutation_rate\": 0.5549925802391695,<br>    \"crossover_method\": \"cxKPoint\",<br>    \"crossover_rate\": 0.19373149587903227,<br>    \"crossover_points\": 1,<br>    \"selection_method\": \"selTournamentWithoutReplacement\",<br>    \"tournsize\": 9,<br>    \"elitism_rate\": 0.25558913057255594,<br>    \"survival_rate\": 0.7030730424300224<br>  }<br>}",
          "{<br>  \"number\": 58,<br>  \"values\": [<br>    0.5417815446853638,<br>    0.5014139175415039,<br>    3.5364763736724854<br>  ],<br>  \"params\": {<br>    \"mutation_method\": \"mutEntropy\",<br>    \"mutation_prob\": 0.12862943767743218,<br>    \"mutation_rate_start\": 0.2771588352197157,<br>    \"mutation_rate_end\": 0.22803692701909495,<br>    \"crossover_method\": \"cxKPoint\",<br>    \"crossover_rate\": 0.4641562049690571,<br>    \"crossover_points\": 1,<br>    \"selection_method\": \"selBoltzmann\",<br>    \"boltzmann_temperature\": 0.9901729812505086,<br>    \"elitism_rate\": 0.9682397891099914,<br>    \"survival_rate\": 0.15052306586987838<br>  }<br>}",
          "{<br>  \"number\": 59,<br>  \"values\": [<br>    0.7137970924377441,<br>    0.6440411925315856,<br>    11.32872200012207<br>  ],<br>  \"params\": {<br>    \"mutation_method\": \"mutExponential\",<br>    \"mutation_prob\": 0.1829051155404292,<br>    \"mutation_rate_start\": 0.8928535896981982,<br>    \"mutation_rate_end\": 0.9971069374765588,<br>    \"mutation_rate_degree\": 2,<br>    \"crossover_method\": \"cxOnePoint\",<br>    \"crossover_rate\": 0.9323396609026964,<br>    \"selection_method\": \"selTournamentWithoutReplacement\",<br>    \"tournsize\": 10,<br>    \"elitism_rate\": 0.3676515214579824,<br>    \"survival_rate\": 0.47593452075575<br>  }<br>}",
          "{<br>  \"number\": 60,<br>  \"values\": [<br>    0.7423235177993774,<br>    0.7156306266784668,<br>    11.22008204460144<br>  ],<br>  \"params\": {<br>    \"mutation_method\": \"mutConstant\",<br>    \"mutation_prob\": 0.25314627217705615,<br>    \"mutation_rate\": 0.44911930613915707,<br>    \"crossover_method\": \"cxTwoPoint\",<br>    \"crossover_rate\": 0.8444794328300604,<br>    \"crossover_points\": 1,<br>    \"selection_method\": \"selBest\",<br>    \"elitism_rate\": 0.041419578733483675,<br>    \"survival_rate\": 0.22476415128329336<br>  }<br>}",
          "{<br>  \"number\": 61,<br>  \"values\": [<br>    0.7786968946456909,<br>    0.756228768825531,<br>    7.699518918991089<br>  ],<br>  \"params\": {<br>    \"mutation_method\": \"mutConstant\",<br>    \"mutation_prob\": 0.30781336077782195,<br>    \"mutation_rate\": 0.06714121654920538,<br>    \"crossover_method\": \"cxKPoint\",<br>    \"crossover_rate\": 0.968033012741237,<br>    \"crossover_points\": 1,<br>    \"selection_method\": \"selTournamentWithoutReplacement\",<br>    \"tournsize\": 9,<br>    \"elitism_rate\": 0.3842895413698655,<br>    \"survival_rate\": 0.3193598958747742<br>  }<br>}",
          "{<br>  \"number\": 62,<br>  \"values\": [<br>    0.8374745845794678,<br>    0.7757434844970703,<br>    9.254179239273071<br>  ],<br>  \"params\": {<br>    \"mutation_method\": \"mutConstant\",<br>    \"mutation_prob\": 0.38120759214627853,<br>    \"mutation_rate\": 0.058752422086049305,<br>    \"crossover_method\": \"cxKPoint\",<br>    \"crossover_rate\": 0.8929779694531698,<br>    \"crossover_points\": 1,<br>    \"selection_method\": \"selTournamentWithoutReplacement\",<br>    \"tournsize\": 10,<br>    \"elitism_rate\": 0.07197244926131763,<br>    \"survival_rate\": 0.28560773324884026<br>  }<br>}",
          "{<br>  \"number\": 63,<br>  \"values\": [<br>    0.5538285374641418,<br>    0.5171374559402466,<br>    5.186428546905518<br>  ],<br>  \"params\": {<br>    \"mutation_method\": \"mutConstant\",<br>    \"mutation_prob\": 0.3358394981590884,<br>    \"mutation_rate\": 0.7147508508622937,<br>    \"crossover_method\": \"cxKPoint\",<br>    \"crossover_rate\": 0.8014396273783416,<br>    \"crossover_points\": 1,<br>    \"selection_method\": \"selTournamentWithoutReplacement\",<br>    \"tournsize\": 3,<br>    \"elitism_rate\": 0.91421819338885,<br>    \"survival_rate\": 0.3571582676443261<br>  }<br>}",
          "{<br>  \"number\": 64,<br>  \"values\": [<br>    0.5844070911407471,<br>    0.535198175907135,<br>    1.8827767372131348<br>  ],<br>  \"params\": {<br>    \"mutation_method\": \"mutConstant\",<br>    \"mutation_prob\": 0.28234951154978644,<br>    \"mutation_rate\": 0.05304202575574599,<br>    \"crossover_method\": \"cxKPoint\",<br>    \"crossover_rate\": 0.932311460328832,<br>    \"crossover_points\": 1,<br>    \"selection_method\": \"selTournamentWithoutReplacement\",<br>    \"tournsize\": 9,<br>    \"elitism_rate\": 0.9998931820590614,<br>    \"survival_rate\": 0.41867681141559154<br>  }<br>}",
          "{<br>  \"number\": 65,<br>  \"values\": [<br>    0.5925326943397522,<br>    0.5649633765220642,<br>    7.221463918685913<br>  ],<br>  \"params\": {<br>    \"mutation_method\": \"mutLinear\",<br>    \"mutation_prob\": 0.08023241099148726,<br>    \"mutation_rate_start\": 0.7557504320142315,<br>    \"mutation_rate_end\": 0.5714073835642428,<br>    \"crossover_method\": \"cxKPoint\",<br>    \"crossover_rate\": 0.9995855431093569,<br>    \"crossover_points\": 4,<br>    \"selection_method\": \"selStochasticUniversalSampling\",<br>    \"elitism_rate\": 0.4578871519919523,<br>    \"survival_rate\": 0.5551085833978749<br>  }<br>}",
          "{<br>  \"number\": 66,<br>  \"values\": [<br>    0.6962236762046814,<br>    0.6395657539367676,<br>    5.9245710372924805<br>  ],<br>  \"params\": {<br>    \"mutation_method\": \"mutExponential\",<br>    \"mutation_prob\": 0.692830673776271,<br>    \"mutation_rate_start\": 0.6101215990487464,<br>    \"mutation_rate_end\": 0.2697400998315623,<br>    \"mutation_rate_degree\": 2,<br>    \"crossover_method\": \"cxUniform\",<br>    \"crossover_rate\": 0.7428408533141821,<br>    \"selection_method\": \"selTournamentWithoutReplacement\",<br>    \"tournsize\": 9,<br>    \"elitism_rate\": 0.8315053460957803,<br>    \"survival_rate\": 0.42132340043427136<br>  }<br>}",
          "{<br>  \"number\": 67,<br>  \"values\": [<br>    0.5760484933853149,<br>    0.552339243888855,<br>    6.5084569454193115<br>  ],<br>  \"params\": {<br>    \"mutation_method\": \"mutConstant\",<br>    \"mutation_prob\": 0.6045584180275481,<br>    \"mutation_rate\": 0.8906787970891297,<br>    \"crossover_method\": \"cxKPoint\",<br>    \"crossover_rate\": 0.8212136907415479,<br>    \"crossover_points\": 2,<br>    \"selection_method\": \"selRandom\",<br>    \"elitism_rate\": 0.7618217856339105,<br>    \"survival_rate\": 0.45627777234733763<br>  }<br>}",
          "{<br>  \"number\": 68,<br>  \"values\": [<br>    0.6379641890525818,<br>    0.5875467658042908,<br>    5.691802740097046<br>  ],<br>  \"params\": {<br>    \"mutation_method\": \"mutEntropy\",<br>    \"mutation_prob\": 0.41601788080030655,<br>    \"mutation_rate_start\": 0.45815488607984733,<br>    \"mutation_rate_end\": 0.07015142811857289,<br>    \"crossover_method\": \"cxOnePoint\",<br>    \"crossover_rate\": 0.6525348698047082,<br>    \"selection_method\": \"selRoulette\",<br>    \"elitism_rate\": 0.8714095914286389,<br>    \"survival_rate\": 0.1988900355223965<br>  }<br>}",
          "{<br>  \"number\": 69,<br>  \"values\": [<br>    0.5286989808082581,<br>    0.5028066396713257,<br>    4.430026292800903<br>  ],<br>  \"params\": {<br>    \"mutation_method\": \"mutLinear\",<br>    \"mutation_prob\": 0.8289871699967705,<br>    \"mutation_rate_start\": 0.18562255667520788,<br>    \"mutation_rate_end\": 0.7121140869580633,<br>    \"crossover_method\": \"cxKPoint\",<br>    \"crossover_rate\": 0.06653538213172139,<br>    \"crossover_points\": 3,<br>    \"selection_method\": \"selNormRoulette\",<br>    \"elitism_rate\": 0.9992141206967006,<br>    \"survival_rate\": 0.2528188728339185<br>  }<br>}",
          "{<br>  \"number\": 70,<br>  \"values\": [<br>    0.7526695132255554,<br>    0.7094979882240295,<br>    7.636411428451538<br>  ],<br>  \"params\": {<br>    \"mutation_method\": \"mutConstant\",<br>    \"mutation_prob\": 0.48061659636756116,<br>    \"mutation_rate\": 0.27393910569916036,<br>    \"crossover_method\": \"cxTwoPoint\",<br>    \"crossover_rate\": 0.9116618526145706,<br>    \"crossover_points\": 1,<br>    \"selection_method\": \"selTournamentWithoutReplacement\",<br>    \"tournsize\": 4,<br>    \"elitism_rate\": 0.5357716256795709,<br>    \"survival_rate\": 0.5231130712455232<br>  }<br>}",
          "{<br>  \"number\": 71,<br>  \"values\": [<br>    0.8624998331069946,<br>    0.7595485568046569,<br>    8.962169647216797<br>  ],<br>  \"params\": {<br>    \"mutation_method\": \"mutConstant\",<br>    \"mutation_prob\": 0.28682166310026946,<br>    \"mutation_rate\": 0.059138748649512365,<br>    \"crossover_method\": \"cxKPoint\",<br>    \"crossover_rate\": 0.9394942785849485,<br>    \"crossover_points\": 1,<br>    \"selection_method\": \"selTournamentWithoutReplacement\",<br>    \"tournsize\": 10,<br>    \"elitism_rate\": 0.21928420413268934,<br>    \"survival_rate\": 0.9811104499102568<br>  }<br>}",
          "{<br>  \"number\": 72,<br>  \"values\": [<br>    0.8872778415679932,<br>    0.810823404788971,<br>    9.5696542263031<br>  ],<br>  \"params\": {<br>    \"mutation_method\": \"mutConstant\",<br>    \"mutation_prob\": 0.7749303187714041,<br>    \"mutation_rate\": 0.039110120182776376,<br>    \"crossover_method\": \"cxKPoint\",<br>    \"crossover_rate\": 0.8875376195447244,<br>    \"crossover_points\": 1,<br>    \"selection_method\": \"selBest\",<br>    \"elitism_rate\": 0.19767572073937745,<br>    \"survival_rate\": 0.9838008994647881<br>  }<br>}",
          "{<br>  \"number\": 73,<br>  \"values\": [<br>    0.8618898987770081,<br>    0.8128230690956115,<br>    11.053302764892578<br>  ],<br>  \"params\": {<br>    \"mutation_method\": \"mutConstant\",<br>    \"mutation_prob\": 0.7746137069489649,<br>    \"mutation_rate\": 0.04517597526198858,<br>    \"crossover_method\": \"cxKPoint\",<br>    \"crossover_rate\": 0.8758241336089164,<br>    \"crossover_points\": 2,<br>    \"selection_method\": \"selBest\",<br>    \"elitism_rate\": 0.2483516137186103,<br>    \"survival_rate\": 0.9826780856477177<br>  }<br>}",
          "{<br>  \"number\": 74,<br>  \"values\": [<br>    0.8608505725860596,<br>    0.8328556537628173,<br>    11.936561822891235<br>  ],<br>  \"params\": {<br>    \"mutation_method\": \"mutConstant\",<br>    \"mutation_prob\": 0.5490260569162128,<br>    \"mutation_rate\": 0.030829764756427024,<br>    \"crossover_method\": \"cxUniform\",<br>    \"crossover_rate\": 0.6888467311170552,<br>    \"selection_method\": \"selBest\",<br>    \"elitism_rate\": 0.33567201638606226,<br>    \"survival_rate\": 0.8918362667557032<br>  }<br>}",
          "{<br>  \"number\": 77,<br>  \"values\": [<br>    0.8873186111450195,<br>    0.8130439996719361,<br>    10.459941625595093<br>  ],<br>  \"params\": {<br>    \"mutation_method\": \"mutConstant\",<br>    \"mutation_prob\": 0.6705630288464847,<br>    \"mutation_rate\": 0.10981501202508143,<br>    \"crossover_method\": \"cxUniform\",<br>    \"crossover_rate\": 0.8127409858604039,<br>    \"selection_method\": \"selTournament\",<br>    \"tournsize\": 8,<br>    \"elitism_rate\": 0.16699063084759572,<br>    \"survival_rate\": 0.8568154724845319<br>  }<br>}",
          "{<br>  \"number\": 78,<br>  \"values\": [<br>    0.7244789600372314,<br>    0.6851771116256714,<br>    10.521625518798828<br>  ],<br>  \"params\": {<br>    \"mutation_method\": \"mutExponential\",<br>    \"mutation_prob\": 0.6213987529324426,<br>    \"mutation_rate_start\": 0.9400192858671944,<br>    \"mutation_rate_end\": 0.6268602220523751,<br>    \"mutation_rate_degree\": 3,<br>    \"crossover_method\": \"cxUniform\",<br>    \"crossover_rate\": 0.7229181725257986,<br>    \"selection_method\": \"selTournament\",<br>    \"tournsize\": 7,<br>    \"elitism_rate\": 0.22015146318665016,<br>    \"survival_rate\": 0.9331065476126693<br>  }<br>}",
          "{<br>  \"number\": 79,<br>  \"values\": [<br>    0.8670804500579834,<br>    0.8030961036682129,<br>    10.866069793701172<br>  ],<br>  \"params\": {<br>    \"mutation_method\": \"mutConstant\",<br>    \"mutation_prob\": 0.5845675595104045,<br>    \"mutation_rate\": 0.18800307309779818,<br>    \"crossover_method\": \"cxUniform\",<br>    \"crossover_rate\": 0.8474865896938001,<br>    \"selection_method\": \"selTournament\",<br>    \"tournsize\": 5,<br>    \"elitism_rate\": 0.12787536055000037,<br>    \"survival_rate\": 0.7726682560712866<br>  }<br>}",
          "{<br>  \"number\": 80,<br>  \"values\": [<br>    0.8427196741104126,<br>    0.8100426435470581,<br>    10.697926759719849<br>  ],<br>  \"params\": {<br>    \"mutation_method\": \"mutLinear\",<br>    \"mutation_prob\": 0.6442054565569234,<br>    \"mutation_rate_start\": 0.29098033658817885,<br>    \"mutation_rate_end\": 0.5055138044718712,<br>    \"crossover_method\": \"cxUniform\",<br>    \"crossover_rate\": 0.7699702246116933,<br>    \"selection_method\": \"selBoltzmann\",<br>    \"boltzmann_temperature\": 0.4603510487485151,<br>    \"elitism_rate\": 0.2955799573163242,<br>    \"survival_rate\": 0.8052707665245695<br>  }<br>}",
          "{<br>  \"number\": 83,<br>  \"values\": [<br>    0.60161954164505,<br>    0.5521320581436158,<br>    5.453848600387573<br>  ],<br>  \"params\": {<br>    \"mutation_method\": \"mutEntropy\",<br>    \"mutation_prob\": 0.7139896960751873,<br>    \"mutation_rate_start\": 0.6435405076587413,<br>    \"mutation_rate_end\": 0.404275269236135,<br>    \"crossover_method\": \"cxUniform\",<br>    \"crossover_rate\": 0.3878018125980798,<br>    \"selection_method\": \"selBest\",<br>    \"elitism_rate\": 0.9509807799837621,<br>    \"survival_rate\": 0.922799994765758<br>  }<br>}",
          "{<br>  \"number\": 84,<br>  \"values\": [<br>    0.8242324590682983,<br>    0.7697979569435119,<br>    7.232109785079956<br>  ],<br>  \"params\": {<br>    \"mutation_method\": \"mutConstant\",<br>    \"mutation_prob\": 0.7487767065908919,<br>    \"mutation_rate\": 0.0013882251855541483,<br>    \"crossover_method\": \"cxUniform\",<br>    \"crossover_rate\": 0.2788762961266261,<br>    \"selection_method\": \"selBest\",<br>    \"elitism_rate\": 0.2151994605316434,<br>    \"survival_rate\": 0.991958961684842<br>  }<br>}",
          "{<br>  \"number\": 85,<br>  \"values\": [<br>    0.6371427178382874,<br>    0.6026830315589905,<br>    6.328842401504517<br>  ],<br>  \"params\": {<br>    \"mutation_method\": \"mutConstant\",<br>    \"mutation_prob\": 0.6642308724367513,<br>    \"mutation_rate\": 0.6458389072354009,<br>    \"crossover_method\": \"cxUniform\",<br>    \"crossover_rate\": 0.4376871173915563,<br>    \"selection_method\": \"selBest\",<br>    \"elitism_rate\": 0.8022552371343897,<br>    \"survival_rate\": 0.8624855462912895<br>  }<br>}",
          "{<br>  \"number\": 86,<br>  \"values\": [<br>    0.7762359380722046,<br>    0.7039140582084655,<br>    4.806036710739136<br>  ],<br>  \"params\": {<br>    \"mutation_method\": \"mutConstant\",<br>    \"mutation_prob\": 0.8548651454403737,<br>    \"mutation_rate\": 0.051594097601363936,<br>    \"crossover_method\": \"cxUniform\",<br>    \"crossover_rate\": 0.19404045529322245,<br>    \"selection_method\": \"selBest\",<br>    \"elitism_rate\": 0.9643818486974902,<br>    \"survival_rate\": 0.9529851607570938<br>  }<br>}",
          "{<br>  \"number\": 87,<br>  \"values\": [<br>    0.7375279664993286,<br>    0.6734021544456482,<br>    4.528090476989746<br>  ],<br>  \"params\": {<br>    \"mutation_method\": \"mutConstant\",<br>    \"mutation_prob\": 0.7721131041837015,<br>    \"mutation_rate\": 0.03940604391759493,<br>    \"crossover_method\": \"cxUniform\",<br>    \"crossover_rate\": 0.16291715294835063,<br>    \"selection_method\": \"selBest\",<br>    \"elitism_rate\": 0.9780984363072686,<br>    \"survival_rate\": 0.9647527953496414<br>  }<br>}",
          "{<br>  \"number\": 88,<br>  \"values\": [<br>    0.787883460521698,<br>    0.7551933169364929,<br>    5.7911012172698975<br>  ],<br>  \"params\": {<br>    \"mutation_method\": \"mutConstant\",<br>    \"mutation_prob\": 0.7697348926005387,<br>    \"mutation_rate\": 0.0934487282632089,<br>    \"crossover_method\": \"cxUniform\",<br>    \"crossover_rate\": 0.5104276427231389,<br>    \"selection_method\": \"selBest\",<br>    \"elitism_rate\": 0.8722729427468549,<br>    \"survival_rate\": 0.9072485608502142<br>  }<br>}",
          "{<br>  \"number\": 89,<br>  \"values\": [<br>    0.5488332509994507,<br>    0.5233053207397461,<br>    1.0841686725616455<br>  ],<br>  \"params\": {<br>    \"mutation_method\": \"mutConstant\",<br>    \"mutation_prob\": 0.8091943312001051,<br>    \"mutation_rate\": 0.0027834041395852424,<br>    \"crossover_method\": \"cxUniform\",<br>    \"crossover_rate\": 0.12630965215660395,<br>    \"selection_method\": \"selBest\",<br>    \"elitism_rate\": 0.9716005560718396,<br>    \"survival_rate\": 0.9651439645278914<br>  }<br>}",
          "{<br>  \"number\": 90,<br>  \"values\": [<br>    0.785000205039978,<br>    0.7320003747940064,<br>    5.642149448394775<br>  ],<br>  \"params\": {<br>    \"mutation_method\": \"mutConstant\",<br>    \"mutation_prob\": 0.7049994390897293,<br>    \"mutation_rate\": 0.13333826716138483,<br>    \"crossover_method\": \"cxUniform\",<br>    \"crossover_rate\": 0.16756048214727817,<br>    \"selection_method\": \"selBest\",<br>    \"elitism_rate\": 0.9394881394856864,<br>    \"survival_rate\": 0.833084328954251<br>  }<br>}",
          "{<br>  \"number\": 91,<br>  \"values\": [<br>    0.8656853437423706,<br>    0.8271149516105651,<br>    9.263393640518188<br>  ],<br>  \"params\": {<br>    \"mutation_method\": \"mutConstant\",<br>    \"mutation_prob\": 0.7385978832089074,<br>    \"mutation_rate\": 0.03307300260997971,<br>    \"crossover_method\": \"cxUniform\",<br>    \"crossover_rate\": 0.06937960746378194,<br>    \"selection_method\": \"selBest\",<br>    \"elitism_rate\": 0.18886222003479636,<br>    \"survival_rate\": 0.9299167900176151<br>  }<br>}",
          "{<br>  \"number\": 92,<br>  \"values\": [<br>    0.8144384622573853,<br>    0.7797468185424805,<br>    6.472506284713745<br>  ],<br>  \"params\": {<br>    \"mutation_method\": \"mutConstant\",<br>    \"mutation_prob\": 0.6185210094023408,<br>    \"mutation_rate\": 0.031538524508824356,<br>    \"crossover_method\": \"cxUniform\",<br>    \"crossover_rate\": 0.05502756567735692,<br>    \"selection_method\": \"selBest\",<br>    \"elitism_rate\": 0.6838967183688462,<br>    \"survival_rate\": 0.9432879438950882<br>  }<br>}",
          "{<br>  \"number\": 94,<br>  \"values\": [<br>    0.5985336899757385,<br>    0.5813653469085693,<br>    8.573959589004517<br>  ],<br>  \"params\": {<br>    \"mutation_method\": \"mutLinear\",<br>    \"mutation_prob\": 0.8644162185304107,<br>    \"mutation_rate_start\": 0.7343939724410384,<br>    \"mutation_rate_end\": 0.8451004603482436,<br>    \"crossover_method\": \"cxUniform\",<br>    \"crossover_rate\": 0.2250504979342035,<br>    \"selection_method\": \"selTournament\",<br>    \"tournsize\": 6,<br>    \"elitism_rate\": 0.6187392936268206,<br>    \"survival_rate\": 0.8127811601192753<br>  }<br>}",
          "{<br>  \"number\": 95,<br>  \"values\": [<br>    0.6095179915428162,<br>    0.5769115805625915,<br>    8.35151720046997<br>  ],<br>  \"params\": {<br>    \"mutation_method\": \"mutExponential\",<br>    \"mutation_prob\": 0.8336600523998451,<br>    \"mutation_rate_start\": 0.9236561767509625,<br>    \"mutation_rate_end\": 0.7387030947333222,<br>    \"mutation_rate_degree\": 1,<br>    \"crossover_method\": \"cxUniform\",<br>    \"crossover_rate\": 0.157441258575801,<br>    \"selection_method\": \"selTournament\",<br>    \"tournsize\": 6,<br>    \"elitism_rate\": 0.5871555110031381,<br>    \"survival_rate\": 0.7820479121911165<br>  }<br>}",
          "{<br>  \"number\": 96,<br>  \"values\": [<br>    0.8515413999557495,<br>    0.7729399085044861,<br>    9.516045331954956<br>  ],<br>  \"params\": {<br>    \"mutation_method\": \"mutEntropy\",<br>    \"mutation_prob\": 0.7573775166657539,<br>    \"mutation_rate_start\": 0.43087532840808057,<br>    \"mutation_rate_end\": 0.2593290881089406,<br>    \"crossover_method\": \"cxUniform\",<br>    \"crossover_rate\": 0.23373180422605985,<br>    \"selection_method\": \"selTournament\",<br>    \"tournsize\": 7,<br>    \"elitism_rate\": 0.41251473384808224,<br>    \"survival_rate\": 0.8747035604670585<br>  }<br>}",
          "{<br>  \"number\": 97,<br>  \"values\": [<br>    0.7295569181442261,<br>    0.7139707326889038,<br>    8.791261196136475<br>  ],<br>  \"params\": {<br>    \"mutation_method\": \"mutExponential\",<br>    \"mutation_prob\": 0.896299894884595,<br>    \"mutation_rate_start\": 0.3401613883009468,<br>    \"mutation_rate_end\": 0.5079662723616286,<br>    \"mutation_rate_degree\": 2,<br>    \"crossover_method\": \"cxUniform\",<br>    \"crossover_rate\": 0.21011186256822462,<br>    \"selection_method\": \"selTournament\",<br>    \"tournsize\": 4,<br>    \"elitism_rate\": 0.5597420444748674,<br>    \"survival_rate\": 0.8326206854978777<br>  }<br>}",
          "{<br>  \"number\": 98,<br>  \"values\": [<br>    0.7557958960533142,<br>    0.6944842100143432,<br>    7.782492399215698<br>  ],<br>  \"params\": {<br>    \"mutation_method\": \"mutLinear\",<br>    \"mutation_prob\": 0.906786875151381,<br>    \"mutation_rate_start\": 0.05348032108737111,<br>    \"mutation_rate_end\": 0.9396365233347528,<br>    \"crossover_method\": \"cxTwoPoint\",<br>    \"crossover_rate\": 0.27796468851580924,<br>    \"crossover_points\": 4,<br>    \"selection_method\": \"selTournament\",<br>    \"tournsize\": 5,<br>    \"elitism_rate\": 0.6590747804253947,<br>    \"survival_rate\": 0.7546980377207205<br>  }<br>}",
          "{<br>  \"number\": 99,<br>  \"values\": [<br>    0.7143161296844482,<br>    0.6924257636070251,<br>    7.26221489906311<br>  ],<br>  \"params\": {<br>    \"mutation_method\": \"mutEntropy\",<br>    \"mutation_prob\": 0.7258154867537133,<br>    \"mutation_rate_start\": 0.714620243363292,<br>    \"mutation_rate_end\": 0.07398802611922095,<br>    \"crossover_method\": \"cxOnePoint\",<br>    \"crossover_rate\": 0.31505128217480793,<br>    \"selection_method\": \"selTournament\",<br>    \"tournsize\": 3,<br>    \"elitism_rate\": 0.7119349130095706,<br>    \"survival_rate\": 0.718064843380899<br>  }<br>}",
          "{<br>  \"number\": 100,<br>  \"values\": [<br>    0.8552659749984741,<br>    0.8195011258125305,<br>    8.600071668624878<br>  ],<br>  \"params\": {<br>    \"mutation_method\": \"mutConstant\",<br>    \"mutation_prob\": 0.8171503615311478,<br>    \"mutation_rate\": 0.17250058548939565,<br>    \"crossover_method\": \"cxUniform\",<br>    \"crossover_rate\": 0.0987223944375134,<br>    \"selection_method\": \"selTournament\",<br>    \"tournsize\": 6,<br>    \"elitism_rate\": 0.5005654064794194,<br>    \"survival_rate\": 0.9074786465634974<br>  }<br>}",
          "{<br>  \"number\": 101,<br>  \"values\": [<br>    0.7075375914573669,<br>    0.656189751625061,<br>    6.790233612060547<br>  ],<br>  \"params\": {<br>    \"mutation_method\": \"mutConstant\",<br>    \"mutation_prob\": 0.7885270425902492,<br>    \"mutation_rate\": 0.909439839265188,<br>    \"crossover_method\": \"cxUniform\",<br>    \"crossover_rate\": 0.33215237795807295,<br>    \"selection_method\": \"selTournament\",<br>    \"tournsize\": 7,<br>    \"elitism_rate\": 0.7472479508275109,<br>    \"survival_rate\": 0.8476720065125134<br>  }<br>}",
          "{<br>  \"number\": 102,<br>  \"values\": [<br>    0.703630805015564,<br>    0.6377573728561401,<br>    8.845324993133545<br>  ],<br>  \"params\": {<br>    \"mutation_method\": \"mutConstant\",<br>    \"mutation_prob\": 0.6976244596372063,<br>    \"mutation_rate\": 0.7903478541589886,<br>    \"crossover_method\": \"cxUniform\",<br>    \"crossover_rate\": 0.25824085677375974,<br>    \"selection_method\": \"selTournament\",<br>    \"tournsize\": 1,<br>    \"elitism_rate\": 0.46246724295472574,<br>    \"survival_rate\": 0.875383359888928<br>  }<br>}",
          "{<br>  \"number\": 103,<br>  \"values\": [<br>    0.7372389435768127,<br>    0.7100221037864685,<br>    8.243107795715332<br>  ],<br>  \"params\": {<br>    \"mutation_method\": \"mutExponential\",<br>    \"mutation_prob\": 0.6778085681631827,<br>    \"mutation_rate_start\": 0.1408015204890284,<br>    \"mutation_rate_end\": 0.8428397534439462,<br>    \"mutation_rate_degree\": 3,<br>    \"crossover_method\": \"cxUniform\",<br>    \"crossover_rate\": 0.19778818725179884,<br>    \"selection_method\": \"selStochasticUniversalSampling\",<br>    \"elitism_rate\": 0.6382610639958204,<br>    \"survival_rate\": 0.9629976173132956<br>  }<br>}",
          "{<br>  \"number\": 104,<br>  \"values\": [<br>    0.6796737909317017,<br>    0.6543216466903686,<br>    8.468327522277832<br>  ],<br>  \"params\": {<br>    \"mutation_method\": \"mutLinear\",<br>    \"mutation_prob\": 0.6481193726805999,<br>    \"mutation_rate_start\": 0.7654330586746295,<br>    \"mutation_rate_end\": 0.607994089697357,<br>    \"crossover_method\": \"cxTwoPoint\",<br>    \"crossover_rate\": 0.13929251144271104,<br>    \"crossover_points\": 3,<br>    \"selection_method\": \"selRoulette\",<br>    \"elitism_rate\": 0.5268634147897292,<br>    \"survival_rate\": 0.6787402337544532<br>  }<br>}",
          "{<br>  \"number\": 105,<br>  \"values\": [<br>    0.8697941303253174,<br>    0.8079589486122132,<br>    9.395375728607178<br>  ],<br>  \"params\": {<br>    \"mutation_method\": \"mutEntropy\",<br>    \"mutation_prob\": 0.8563450768394918,<br>    \"mutation_rate_start\": 0.21401845831856336,<br>    \"mutation_rate_end\": 0.19818388506384188,<br>    \"crossover_method\": \"cxOnePoint\",<br>    \"crossover_rate\": 0.3820149958149024,<br>    \"selection_method\": \"selTournament\",<br>    \"tournsize\": 4,<br>    \"elitism_rate\": 0.426339252573845,<br>    \"survival_rate\": 0.7954730656176634<br>  }<br>}",
          "{<br>  \"number\": 106,<br>  \"values\": [<br>    0.7744708061218262,<br>    0.7353510737419129,<br>    5.980165243148804<br>  ],<br>  \"params\": {<br>    \"mutation_method\": \"mutConstant\",<br>    \"mutation_prob\": 0.03288613288384623,<br>    \"mutation_rate\": 0.47569782444784886,<br>    \"crossover_method\": \"cxUniform\",<br>    \"crossover_rate\": 0.5560404567294462,<br>    \"selection_method\": \"selRandom\",<br>    \"elitism_rate\": 0.7743017819697329,<br>    \"survival_rate\": 0.8808516226106543<br>  }<br>}",
          "{<br>  \"number\": 107,<br>  \"values\": [<br>    0.8525139689445496,<br>    0.7977709889411926,<br>    9.263933420181274<br>  ],<br>  \"params\": {<br>    \"mutation_method\": \"mutConstant\",<br>    \"mutation_prob\": 0.7192161685963865,<br>    \"mutation_rate\": 0.10538889280900225,<br>    \"crossover_method\": \"cxUniform\",<br>    \"crossover_rate\": 0.24827971959419767,<br>    \"selection_method\": \"selTournament\",<br>    \"tournsize\": 2,<br>    \"elitism_rate\": 0.3413837294127074,<br>    \"survival_rate\": 0.6236422303858578<br>  }<br>}",
          "{<br>  \"number\": 108,<br>  \"values\": [<br>    0.7644667625427246,<br>    0.6970188856124878,<br>    7.330302000045776<br>  ],<br>  \"params\": {<br>    \"mutation_method\": \"mutConstant\",<br>    \"mutation_prob\": 0.9449964952133655,<br>    \"mutation_rate\": 0.13567498955882112,<br>    \"crossover_method\": \"cxUniform\",<br>    \"crossover_rate\": 0.1865814873578664,<br>    \"selection_method\": \"selNormRoulette\",<br>    \"elitism_rate\": 0.6951714920471822,<br>    \"survival_rate\": 0.07657600767800421<br>  }<br>}",
          "{<br>  \"number\": 109,<br>  \"values\": [<br>    0.7650972604751587,<br>    0.7289986371994018,<br>    8.235111236572266<br>  ],<br>  \"params\": {<br>    \"mutation_method\": \"mutConstant\",<br>    \"mutation_prob\": 0.7660818766764151,<br>    \"mutation_rate\": 0.31629024017966884,<br>    \"crossover_method\": \"cxOnePoint\",<br>    \"crossover_rate\": 0.3037092508257285,<br>    \"selection_method\": \"selBoltzmann\",<br>    \"boltzmann_temperature\": 0.521286344339332,<br>    \"elitism_rate\": 0.5639541822566979,<br>    \"survival_rate\": 0.9014227878251145<br>  }<br>}",
          "{<br>  \"number\": 110,<br>  \"values\": [<br>    0.6937138438224792,<br>    0.6707345604896545,<br>    5.31147027015686<br>  ],<br>  \"params\": {<br>    \"mutation_method\": \"mutConstant\",<br>    \"mutation_prob\": 0.6877963138531646,<br>    \"mutation_rate\": 0.0927965148435252,<br>    \"crossover_method\": \"cxTwoPoint\",<br>    \"crossover_rate\": 0.014763165293375846,<br>    \"crossover_points\": 2,<br>    \"selection_method\": \"selTournament\",<br>    \"tournsize\": 8,<br>    \"elitism_rate\": 0.9301597877003392,<br>    \"survival_rate\": 0.8311680010351121<br>  }<br>}",
          "{<br>  \"number\": 111,<br>  \"values\": [<br>    0.7485284805297852,<br>    0.6767004251480102,<br>    8.005518913269043<br>  ],<br>  \"params\": {<br>    \"mutation_method\": \"mutConstant\",<br>    \"mutation_prob\": 0.7957587498409112,<br>    \"mutation_rate\": 0.6009353137785507,<br>    \"crossover_method\": \"cxUniform\",<br>    \"crossover_rate\": 0.2962711259672246,<br>    \"selection_method\": \"selTournament\",<br>    \"tournsize\": 5,<br>    \"elitism_rate\": 0.6134142155267652,<br>    \"survival_rate\": 0.9541066273337726<br>  }<br>}",
          "{<br>  \"number\": 112,<br>  \"values\": [<br>    0.8119908571243286,<br>    0.7695672512054443,<br>    6.802855491638184<br>  ],<br>  \"params\": {<br>    \"mutation_method\": \"mutExponential\",<br>    \"mutation_prob\": 0.07073802314681954,<br>    \"mutation_rate_start\": 0.6747563637759872,<br>    \"mutation_rate_end\": 0.292187462447931,<br>    \"mutation_rate_degree\": 1,<br>    \"crossover_method\": \"cxUniform\",<br>    \"crossover_rate\": 0.34255123168367074,<br>    \"selection_method\": \"selStochasticUniversalSampling\",<br>    \"elitism_rate\": 0.6022257156977842,<br>    \"survival_rate\": 0.9229024684297114<br>  }<br>}",
          "{<br>  \"number\": 113,<br>  \"values\": [<br>    0.7452239990234375,<br>    0.7207557559013367,<br>    8.02190375328064<br>  ],<br>  \"params\": {<br>    \"mutation_method\": \"mutConstant\",<br>    \"mutation_prob\": 0.6289221347834812,<br>    \"mutation_rate\": 0.391323880357919,<br>    \"crossover_method\": \"cxUniform\",<br>    \"crossover_rate\": 0.21283408361202347,<br>    \"selection_method\": \"selTournament\",<br>    \"tournsize\": 6,<br>    \"elitism_rate\": 0.554844570919194,<br>    \"survival_rate\": 0.9403772880045269<br>  }<br>}",
          "{<br>  \"number\": 114,<br>  \"values\": [<br>    0.6250601410865784,<br>    0.5917785882949829,<br>    7.588160514831543<br>  ],<br>  \"params\": {<br>    \"mutation_method\": \"mutLinear\",<br>    \"mutation_prob\": 0.735387924368827,<br>    \"mutation_rate_start\": 0.9916461644045421,<br>    \"mutation_rate_end\": 0.5374851668361147,<br>    \"crossover_method\": \"cxUniform\",<br>    \"crossover_rate\": 0.07141407854807386,<br>    \"selection_method\": \"selRoulette\",<br>    \"elitism_rate\": 0.6535849696286843,<br>    \"survival_rate\": 0.5818313161632989<br>  }<br>}",
          "{<br>  \"number\": 115,<br>  \"values\": [<br>    0.6872473955154419,<br>    0.6718847870826721,<br>    7.477092981338501<br>  ],<br>  \"params\": {<br>    \"mutation_method\": \"mutEntropy\",<br>    \"mutation_prob\": 0.6041649120075516,<br>    \"mutation_rate_start\": 0.48497921179146397,<br>    \"mutation_rate_end\": 0.35789729224319755,<br>    \"crossover_method\": \"cxUniform\",<br>    \"crossover_rate\": 0.15388037732769225,<br>    \"selection_method\": \"selRandom\",<br>    \"elitism_rate\": 0.686440150766592,<br>    \"survival_rate\": 0.846971233240214<br>  }<br>}",
          "{<br>  \"number\": 116,<br>  \"values\": [<br>    0.8136813640594482,<br>    0.7598564863204956,<br>    7.916576147079468<br>  ],<br>  \"params\": {<br>    \"mutation_method\": \"mutConstant\",<br>    \"mutation_prob\": 0.6514579392423258,<br>    \"mutation_rate\": 0.1349658139663935,<br>    \"crossover_method\": \"cxUniform\",<br>    \"crossover_rate\": 0.4659791018500954,<br>    \"selection_method\": \"selNormRoulette\",<br>    \"elitism_rate\": 0.6366366652328279,<br>    \"survival_rate\": 0.7552699710547038<br>  }<br>}",
          "{<br>  \"number\": 119,<br>  \"values\": [<br>    0.702701985836029,<br>    0.6567657589912415,<br>    7.150908470153809<br>  ],<br>  \"params\": {<br>    \"mutation_method\": \"mutConstant\",<br>    \"mutation_prob\": 0.7497554202218406,<br>    \"mutation_rate\": 0.5343059070714361,<br>    \"crossover_method\": \"cxTwoPoint\",<br>    \"crossover_rate\": 0.14756770692884752,<br>    \"crossover_points\": 3,<br>    \"selection_method\": \"selTournament\",<br>    \"tournsize\": 7,<br>    \"elitism_rate\": 0.7319984256922716,<br>    \"survival_rate\": 0.9146302808354826<br>  }<br>}",
          "{<br>  \"number\": 121,<br>  \"values\": [<br>    0.6209492087364197,<br>    0.5881105065345764,<br>    4.480245590209961<br>  ],<br>  \"params\": {<br>    \"mutation_method\": \"mutConstant\",<br>    \"mutation_prob\": 0.7102312970491015,<br>    \"mutation_rate\": 0.042061071640015824,<br>    \"crossover_method\": \"cxTwoPoint\",<br>    \"crossover_rate\": 0.17740878380362746,<br>    \"crossover_points\": 4,<br>    \"selection_method\": \"selTournament\",<br>    \"tournsize\": 7,<br>    \"elitism_rate\": 0.9754858337954271,<br>    \"survival_rate\": 0.9452973563238992<br>  }<br>}",
          "{<br>  \"number\": 122,<br>  \"values\": [<br>    0.7780280113220215,<br>    0.7316186547279357,<br>    5.536460638046265<br>  ],<br>  \"params\": {<br>    \"mutation_method\": \"mutConstant\",<br>    \"mutation_prob\": 0.6665973835882181,<br>    \"mutation_rate\": 0.08908665264226841,<br>    \"crossover_method\": \"cxUniform\",<br>    \"crossover_rate\": 0.13479701988351772,<br>    \"selection_method\": \"selTournament\",<br>    \"tournsize\": 6,<br>    \"elitism_rate\": 0.8958069950944473,<br>    \"survival_rate\": 0.9633119359508899<br>  }<br>}",
          "{<br>  \"number\": 124,<br>  \"values\": [<br>    0.7816976308822632,<br>    0.7352604389190673,<br>    5.819043397903442<br>  ],<br>  \"params\": {<br>    \"mutation_method\": \"mutConstant\",<br>    \"mutation_prob\": 0.8301313700751162,<br>    \"mutation_rate\": 0.16429056922683974,<br>    \"crossover_method\": \"cxUniform\",<br>    \"crossover_rate\": 0.1110831210244751,<br>    \"selection_method\": \"selBest\",<br>    \"elitism_rate\": 0.8537802824791426,<br>    \"survival_rate\": 0.8624428297233537<br>  }<br>}",
          "{<br>  \"number\": 125,<br>  \"values\": [<br>    0.8405024409294128,<br>    0.7929819822311401,<br>    11.347211360931396<br>  ],<br>  \"params\": {<br>    \"mutation_method\": \"mutConstant\",<br>    \"mutation_prob\": 0.7846274609052757,<br>    \"mutation_rate\": 0.11734117105175189,<br>    \"crossover_method\": \"cxUniform\",<br>    \"crossover_rate\": 0.10877430675154265,<br>    \"selection_method\": \"selBoltzmann\",<br>    \"boltzmann_temperature\": 0.273419168142532,<br>    \"elitism_rate\": 0.0646127599912229,<br>    \"survival_rate\": 0.8152214570562992<br>  }<br>}",
          "{<br>  \"number\": 126,<br>  \"values\": [<br>    0.8382444381713867,<br>    0.7908034563064575,<br>    5.716701507568359<br>  ],<br>  \"params\": {<br>    \"mutation_method\": \"mutConstant\",<br>    \"mutation_prob\": 0.7620486506015608,<br>    \"mutation_rate\": 0.07444087150941736,<br>    \"crossover_method\": \"cxUniform\",<br>    \"crossover_rate\": 0.23868245588021317,<br>    \"selection_method\": \"selBest\",<br>    \"elitism_rate\": 0.8271871888915658,<br>    \"survival_rate\": 0.9951540175219374<br>  }<br>}",
          "{<br>  \"number\": 127,<br>  \"values\": [<br>    0.8133363723754883,<br>    0.785739541053772,<br>    8.789867401123047<br>  ],<br>  \"params\": {<br>    \"mutation_method\": \"mutConstant\",<br>    \"mutation_prob\": 0.8078616978396339,<br>    \"mutation_rate\": 0.2258013291667128,<br>    \"crossover_method\": \"cxUniform\",<br>    \"crossover_rate\": 0.23412050368358495,<br>    \"selection_method\": \"selBest\",<br>    \"elitism_rate\": 0.4780224773220659,<br>    \"survival_rate\": 0.9919942964841926<br>  }<br>}",
          "{<br>  \"number\": 128,<br>  \"values\": [<br>    0.7136715650558472,<br>    0.6775544643402099,<br>    11.567696571350098<br>  ],<br>  \"params\": {<br>    \"mutation_method\": \"mutConstant\",<br>    \"mutation_prob\": 0.754719590713043,<br>    \"mutation_rate\": 0.07079859152063586,<br>    \"crossover_method\": \"cxUniform\",<br>    \"crossover_rate\": 0.2067229873886431,<br>    \"selection_method\": \"selBest\",<br>    \"elitism_rate\": 0.0035805933077524,<br>    \"survival_rate\": 0.7939139903458844<br>  }<br>}",
          "{<br>  \"number\": 129,<br>  \"values\": [<br>    0.6761409640312195,<br>    0.6386338949203492,<br>    3.6149609088897705<br>  ],<br>  \"params\": {<br>    \"mutation_method\": \"mutConstant\",<br>    \"mutation_prob\": 0.15281181476946537,<br>    \"mutation_rate\": 0.07740070345733834,<br>    \"crossover_method\": \"cxUniform\",<br>    \"crossover_rate\": 0.26663435895885873,<br>    \"selection_method\": \"selBest\",<br>    \"elitism_rate\": 0.9280283176191716,<br>    \"survival_rate\": 0.883104683025422<br>  }<br>}",
          "{<br>  \"number\": 130,<br>  \"values\": [<br>    0.7537811994552612,<br>    0.7254857540130615,<br>    5.255598783493042<br>  ],<br>  \"params\": {<br>    \"mutation_method\": \"mutExponential\",<br>    \"mutation_prob\": 0.22387323325436237,<br>    \"mutation_rate_start\": 0.08951693972412178,<br>    \"mutation_rate_end\": 0.09814887762965185,<br>    \"mutation_rate_degree\": 2,<br>    \"crossover_method\": \"cxUniform\",<br>    \"crossover_rate\": 0.24536679230317873,<br>    \"selection_method\": \"selBest\",<br>    \"elitism_rate\": 0.8342044946934192,<br>    \"survival_rate\": 0.8666305191787771<br>  }<br>}",
          "{<br>  \"number\": 131,<br>  \"values\": [<br>    0.7127809524536133,<br>    0.6872129201889038,<br>    5.186677932739258<br>  ],<br>  \"params\": {<br>    \"mutation_method\": \"mutConstant\",<br>    \"mutation_prob\": 0.16360015616054313,<br>    \"mutation_rate\": 0.07690103781899195,<br>    \"crossover_method\": \"cxUniform\",<br>    \"crossover_rate\": 0.29201867589317826,<br>    \"selection_method\": \"selBest\",<br>    \"elitism_rate\": 0.9270495159720433,<br>    \"survival_rate\": 0.8881953402897013<br>  }<br>}",
          "{<br>  \"number\": 132,<br>  \"values\": [<br>    0.5969163179397583,<br>    0.5469732642173767,<br>    2.3193325996398926<br>  ],<br>  \"params\": {<br>    \"mutation_method\": \"mutConstant\",<br>    \"mutation_prob\": 0.16148309656566706,<br>    \"mutation_rate\": 0.1078536359388105,<br>    \"crossover_method\": \"cxUniform\",<br>    \"crossover_rate\": 0.27213181563182814,<br>    \"selection_method\": \"selBest\",<br>    \"elitism_rate\": 0.9870413947756285,<br>    \"survival_rate\": 0.840605162990456<br>  }<br>}",
          "{<br>  \"number\": 133,<br>  \"values\": [<br>    0.6473578214645386,<br>    0.6171535849571228,<br>    7.321643114089966<br>  ],<br>  \"params\": {<br>    \"mutation_method\": \"mutLinear\",<br>    \"mutation_prob\": 0.18366988156399766,<br>    \"mutation_rate_start\": 0.39087641218290897,<br>    \"mutation_rate_end\": 0.8897137325370714,<br>    \"crossover_method\": \"cxOnePoint\",<br>    \"crossover_rate\": 0.2640321319151988,<br>    \"selection_method\": \"selStochasticUniversalSampling\",<br>    \"elitism_rate\": 0.799813827562976,<br>    \"survival_rate\": 0.841186913499453<br>  }<br>}",
          "{<br>  \"number\": 134,<br>  \"values\": [<br>    0.5222430229187012,<br>    0.4782281994819641,<br>    1.2497315406799316<br>  ],<br>  \"params\": {<br>    \"mutation_method\": \"mutConstant\",<br>    \"mutation_prob\": 0.1193671024951738,<br>    \"mutation_rate\": 0.7841394626518398,<br>    \"crossover_method\": \"cxUniform\",<br>    \"crossover_rate\": 0.22677973492431666,<br>    \"selection_method\": \"selRoulette\",<br>    \"elitism_rate\": 0.9993913532577271,<br>    \"survival_rate\": 0.910502962578488<br>  }<br>}",
          "{<br>  \"number\": 135,<br>  \"values\": [<br>    0.5222430229187012,<br>    0.4991493821144104,<br>    1.2301175594329834<br>  ],<br>  \"params\": {<br>    \"mutation_method\": \"mutEntropy\",<br>    \"mutation_prob\": 0.0024044652105810194,<br>    \"mutation_rate_start\": 0.035565034415266705,<br>    \"mutation_rate_end\": 0.3923773279163929,<br>    \"crossover_method\": \"cxUniform\",<br>    \"crossover_rate\": 0.6243870849118403,<br>    \"selection_method\": \"selRandom\",<br>    \"elitism_rate\": 0.8842917710729453,<br>    \"survival_rate\": 0.8192466816783531<br>  }<br>}",
          "{<br>  \"number\": 136,<br>  \"values\": [<br>    0.644752562046051,<br>    0.5374748229980468,<br>    3.974242925643921<br>  ],<br>  \"params\": {<br>    \"mutation_method\": \"mutConstant\",<br>    \"mutation_prob\": 0.15045369042620138,<br>    \"mutation_rate\": 0.11915574813334504,<br>    \"crossover_method\": \"cxUniform\",<br>    \"crossover_rate\": 0.243759225152382,<br>    \"selection_method\": \"selNormRoulette\",<br>    \"elitism_rate\": 0.9562759666000762,<br>    \"survival_rate\": 0.8862775573198183<br>  }<br>}",
          "{<br>  \"number\": 137,<br>  \"values\": [<br>    0.7341532707214355,<br>    0.6870513916015625,<br>    12.229810237884521<br>  ],<br>  \"params\": {<br>    \"mutation_method\": \"mutConstant\",<br>    \"mutation_prob\": 0.7356857049102572,<br>    \"mutation_rate\": 0.7231493948685337,<br>    \"crossover_method\": \"cxUniform\",<br>    \"crossover_rate\": 0.31361488827520034,<br>    \"selection_method\": \"selBest\",<br>    \"elitism_rate\": 0.39894080433840595,<br>    \"survival_rate\": 0.8524057830075948<br>  }<br>}",
          "{<br>  \"number\": 138,<br>  \"values\": [<br>    0.6314542293548584,<br>    0.5683303713798523,<br>    6.755206346511841<br>  ],<br>  \"params\": {<br>    \"mutation_method\": \"mutExponential\",<br>    \"mutation_prob\": 0.09949072374491175,<br>    \"mutation_rate_start\": 0.5874908590707147,<br>    \"mutation_rate_end\": 0.15266739848206934,<br>    \"mutation_rate_degree\": 3,<br>    \"crossover_method\": \"cxUniform\",<br>    \"crossover_rate\": 0.3218638261588069,<br>    \"selection_method\": \"selTournament\",<br>    \"tournsize\": 5,<br>    \"elitism_rate\": 0.7864764905597664,<br>    \"survival_rate\": 0.647281887305885<br>  }<br>}",
          "{<br>  \"number\": 139,<br>  \"values\": [<br>    0.8244102001190186,<br>    0.7887337327003479,<br>    11.904733657836914<br>  ],<br>  \"params\": {<br>    \"mutation_method\": \"mutConstant\",<br>    \"mutation_prob\": 0.2621605511777322,<br>    \"mutation_rate\": 0.14943474085116265,<br>    \"crossover_method\": \"cxOnePoint\",<br>    \"crossover_rate\": 0.2752315370018402,<br>    \"selection_method\": \"selBest\",<br>    \"elitism_rate\": 0.1429301176402038,<br>    \"survival_rate\": 0.917449715773663<br>  }<br>}",
          "{<br>  \"number\": 140,<br>  \"values\": [<br>    0.7564940452575684,<br>    0.6561237812042237,<br>    9.725370168685913<br>  ],<br>  \"params\": {<br>    \"mutation_method\": \"mutLinear\",<br>    \"mutation_prob\": 0.708936096314723,<br>    \"mutation_rate_start\": 0.2379127090136437,<br>    \"mutation_rate_end\": 0.7517194281298354,<br>    \"crossover_method\": \"cxUniform\",<br>    \"crossover_rate\": 0.20624891536810297,<br>    \"selection_method\": \"selTournament\",<br>    \"tournsize\": 3,<br>    \"elitism_rate\": 0.721555339611714,<br>    \"survival_rate\": 0.9316848253574584<br>  }<br>}",
          "{<br>  \"number\": 141,<br>  \"values\": [<br>    0.8534071445465088,<br>    0.807226026058197,<br>    9.929492473602295<br>  ],<br>  \"params\": {<br>    \"mutation_method\": \"mutConstant\",<br>    \"mutation_prob\": 0.7704964671175981,<br>    \"mutation_rate\": 0.05637388499471801,<br>    \"crossover_method\": \"cxUniform\",<br>    \"crossover_rate\": 0.177542000632245,<br>    \"selection_method\": \"selBest\",<br>    \"elitism_rate\": 0.5018715538210247,<br>    \"survival_rate\": 0.9749300355111757<br>  }<br>}",
          "{<br>  \"number\": 142,<br>  \"values\": [<br>    0.8140562772750854,<br>    0.7390016794204712,<br>    6.657668113708496<br>  ],<br>  \"params\": {<br>    \"mutation_method\": \"mutConstant\",<br>    \"mutation_prob\": 0.2020275922754523,<br>    \"mutation_rate\": 0.08938685234624323,<br>    \"crossover_method\": \"cxUniform\",<br>    \"crossover_rate\": 0.26125516669873194,<br>    \"selection_method\": \"selBest\",<br>    \"elitism_rate\": 0.8452598068828104,<br>    \"survival_rate\": 0.9996406386285033<br>  }<br>}",
          "{<br>  \"number\": 143,<br>  \"values\": [<br>    0.7892032265663147,<br>    0.7404499411582947,<br>    11.207138776779175<br>  ],<br>  \"params\": {<br>    \"mutation_method\": \"mutConstant\",<br>    \"mutation_prob\": 0.15755313090503215,<br>    \"mutation_rate\": 0.10955773389815715,<br>    \"crossover_method\": \"cxUniform\",<br>    \"crossover_rate\": 0.22710782647234956,<br>    \"selection_method\": \"selBest\",<br>    \"elitism_rate\": 0.35707085284442064,<br>    \"survival_rate\": 0.8785192739229075<br>  }<br>}",
          "{<br>  \"number\": 144,<br>  \"values\": [<br>    0.7640902996063232,<br>    0.712254548072815,<br>    7.419671297073364<br>  ],<br>  \"params\": {<br>    \"mutation_method\": \"mutConstant\",<br>    \"mutation_prob\": 0.7241843635026435,<br>    \"mutation_rate\": 0.018199561478181914,<br>    \"crossover_method\": \"cxUniform\",<br>    \"crossover_rate\": 0.2856036261880225,<br>    \"selection_method\": \"selTournament\",<br>    \"tournsize\": 6,<br>    \"elitism_rate\": 0.8178364193621562,<br>    \"survival_rate\": 0.02705095263629531<br>  }<br>}",
          "{<br>  \"number\": 145,<br>  \"values\": [<br>    0.8502579927444458,<br>    0.8110150933265686,<br>    11.192684412002563<br>  ],<br>  \"params\": {<br>    \"mutation_method\": \"mutConstant\",<br>    \"mutation_prob\": 0.6901662292247251,<br>    \"mutation_rate\": 0.05857047812088018,<br>    \"crossover_method\": \"cxUniform\",<br>    \"crossover_rate\": 0.1911484935106447,<br>    \"selection_method\": \"selBest\",<br>    \"elitism_rate\": 0.4410730473207901,<br>    \"survival_rate\": 0.9504777436888843<br>  }<br>}",
          "{<br>  \"number\": 146,<br>  \"values\": [<br>    0.7769181728363037,<br>    0.758759880065918,<br>    13.781190395355225<br>  ],<br>  \"params\": {<br>    \"mutation_method\": \"mutConstant\",<br>    \"mutation_prob\": 0.9235641780352376,<br>    \"mutation_rate\": 0.19090486411655774,<br>    \"crossover_method\": \"cxUniform\",<br>    \"crossover_rate\": 0.2532978129465676,<br>    \"selection_method\": \"selBoltzmann\",<br>    \"boltzmann_temperature\": 0.7513386154306315,<br>    \"elitism_rate\": 0.2792424207623191,<br>    \"survival_rate\": 0.8998430528218327<br>  }<br>}",
          "{<br>  \"number\": 147,<br>  \"values\": [<br>    0.6499607563018799,<br>    0.6284419775009156,<br>    6.8730714321136475<br>  ],<br>  \"params\": {<br>    \"mutation_method\": \"mutConstant\",<br>    \"mutation_prob\": 0.839068031811075,<br>    \"mutation_rate\": 0.028528931271290192,<br>    \"crossover_method\": \"cxUniform\",<br>    \"crossover_rate\": 0.16604734461998316,<br>    \"selection_method\": \"selTournament\",<br>    \"tournsize\": 5,<br>    \"elitism_rate\": 0.9550786375062114,<br>    \"survival_rate\": 0.8645689546478<br>  }<br>}",
          "{<br>  \"number\": 148,<br>  \"values\": [<br>    0.6552239656448364,<br>    0.6289979934692382,<br>    4.5899200439453125<br>  ],<br>  \"params\": {<br>    \"mutation_method\": \"mutConstant\",<br>    \"mutation_prob\": 0.09342523074107717,<br>    \"mutation_rate\": 0.08061762819582839,<br>    \"crossover_method\": \"cxUniform\",<br>    \"crossover_rate\": 0.21774228956593952,<br>    \"selection_method\": \"selBest\",<br>    \"elitism_rate\": 0.9068520624591808,<br>    \"survival_rate\": 0.7309420536067301<br>  }<br>}",
          "{<br>  \"number\": 149,<br>  \"values\": [<br>    0.7127889394760132,<br>    0.6413763642311097,<br>    9.263620376586914<br>  ],<br>  \"params\": {<br>    \"mutation_method\": \"mutEntropy\",<br>    \"mutation_prob\": 0.05306472137499052,<br>    \"mutation_rate_start\": 0.8560124824363075,<br>    \"mutation_rate_end\": 0.9354991626887188,<br>    \"crossover_method\": \"cxUniform\",<br>    \"crossover_rate\": 0.5816439337191244,<br>    \"selection_method\": \"selTournament\",<br>    \"tournsize\": 8,<br>    \"elitism_rate\": 0.518063191584979,<br>    \"survival_rate\": 0.8304535003535145<br>  }<br>}",
          "{<br>  \"number\": 150,<br>  \"values\": [<br>    0.5623332262039185,<br>    0.5247093558311462,<br>    7.132538318634033<br>  ],<br>  \"params\": {<br>    \"mutation_method\": \"mutConstant\",<br>    \"mutation_prob\": 0.8006422766067861,<br>    \"mutation_rate\": 0.8388893010714567,<br>    \"crossover_method\": \"cxTwoPoint\",<br>    \"crossover_rate\": 0.3642897484886621,<br>    \"crossover_points\": 4,<br>    \"selection_method\": \"selBest\",<br>    \"elitism_rate\": 0.9856189386112535,<br>    \"survival_rate\": 0.5527530164525629<br>  }<br>}",
          "{<br>  \"number\": 152,<br>  \"values\": [<br>    0.5712780356407166,<br>    0.5372369289398193,<br>    2.7684974670410156<br>  ],<br>  \"params\": {<br>    \"mutation_method\": \"mutConstant\",<br>    \"mutation_prob\": 0.8516038125203583,<br>    \"mutation_rate\": 0.004707599733353325,<br>    \"crossover_method\": \"cxUniform\",<br>    \"crossover_rate\": 0.11682712301590704,<br>    \"selection_method\": \"selTournament\",<br>    \"tournsize\": 7,<br>    \"elitism_rate\": 0.9670977516530175,<br>    \"survival_rate\": 0.9766119601366237<br>  }<br>}",
          "{<br>  \"number\": 153,<br>  \"values\": [<br>    0.5588280558586121,<br>    0.5336584448814392,<br>    8.400187492370605<br>  ],<br>  \"params\": {<br>    \"mutation_method\": \"mutConstant\",<br>    \"mutation_prob\": 0.8149579078256441,<br>    \"mutation_rate\": 0.9649992023567056,<br>    \"crossover_method\": \"cxOnePoint\",<br>    \"crossover_rate\": 0.1731123423900568,<br>    \"selection_method\": \"selStochasticUniversalSampling\",<br>    \"elitism_rate\": 0.9276536917983662,<br>    \"survival_rate\": 0.9686426143295007<br>  }<br>}",
          "{<br>  \"number\": 154,<br>  \"values\": [<br>    0.724901020526886,<br>    0.6845428109169006,<br>    8.109035015106201<br>  ],<br>  \"params\": {<br>    \"mutation_method\": \"mutConstant\",<br>    \"mutation_prob\": 0.7868331957428952,<br>    \"mutation_rate\": 0.018727663462298066,<br>    \"crossover_method\": \"cxUniform\",<br>    \"crossover_rate\": 0.19504936543772627,<br>    \"selection_method\": \"selTournament\",<br>    \"tournsize\": 2,<br>    \"elitism_rate\": 0.882463957238564,<br>    \"survival_rate\": 0.9337336074923638<br>  }<br>}",
          "{<br>  \"number\": 155,<br>  \"values\": [<br>    0.7835715413093567,<br>    0.7145975351333618,<br>    9.630924463272095<br>  ],<br>  \"params\": {<br>    \"mutation_method\": \"mutConstant\",<br>    \"mutation_prob\": 0.7641054997871337,<br>    \"mutation_rate\": 0.036071273546023935,<br>    \"crossover_method\": \"cxUniform\",<br>    \"crossover_rate\": 0.13870366907486628,<br>    \"selection_method\": \"selRoulette\",<br>    \"elitism_rate\": 0.7482096532838866,<br>    \"survival_rate\": 0.956050968923466<br>  }<br>}",
          "{<br>  \"number\": 156,<br>  \"values\": [<br>    0.8193671703338623,<br>    0.7626748442649841,<br>    11.092101812362671<br>  ],<br>  \"params\": {<br>    \"mutation_method\": \"mutConstant\",<br>    \"mutation_prob\": 0.7334780852603568,<br>    \"mutation_rate\": 0.0024981224124042277,<br>    \"crossover_method\": \"cxUniform\",<br>    \"crossover_rate\": 0.22398457213799364,<br>    \"selection_method\": \"selBest\",<br>    \"elitism_rate\": 0.10730031880580204,<br>    \"survival_rate\": 0.9039081530060735<br>  }<br>}",
          "{<br>  \"number\": 157,<br>  \"values\": [<br>    0.7015371322631836,<br>    0.6843278288841248,<br>    10.986972570419312<br>  ],<br>  \"params\": {<br>    \"mutation_method\": \"mutExponential\",<br>    \"mutation_prob\": 0.9659055461440796,<br>    \"mutation_rate_start\": 0.32778076309781495,<br>    \"mutation_rate_end\": 0.2111644432184029,<br>    \"mutation_rate_degree\": 1,<br>    \"crossover_method\": \"cxUniform\",<br>    \"crossover_rate\": 0.24285971608566156,<br>    \"selection_method\": \"selNormRoulette\",<br>    \"elitism_rate\": 0.5813395580250602,<br>    \"survival_rate\": 0.9243421604471876<br>  }<br>}",
          "{<br>  \"number\": 158,<br>  \"values\": [<br>    0.585026204586029,<br>    0.563994312286377,<br>    7.467326402664185<br>  ],<br>  \"params\": {<br>    \"mutation_method\": \"mutLinear\",<br>    \"mutation_prob\": 0.8767767156172301,<br>    \"mutation_rate_start\": 0.1318727841240891,<br>    \"mutation_rate_end\": 0.03287801435220861,<br>    \"crossover_method\": \"cxTwoPoint\",<br>    \"crossover_rate\": 0.7639495610652824,<br>    \"crossover_points\": 3,<br>    \"selection_method\": \"selRandom\",<br>    \"elitism_rate\": 0.943819931305983,<br>    \"survival_rate\": 0.6962786752275111<br>  }<br>}",
          "{<br>  \"number\": 159,<br>  \"values\": [<br>    0.8855192065238953,<br>    0.8121291995048523,<br>    12.866137981414795<br>  ],<br>  \"params\": {<br>    \"mutation_method\": \"mutEntropy\",<br>    \"mutation_prob\": 0.8125373612719221,<br>    \"mutation_rate_start\": 0.00032141554907549885,<br>    \"mutation_rate_end\": 0.46601530061827434,<br>    \"crossover_method\": \"cxUniform\",<br>    \"crossover_rate\": 0.04423389981428416,<br>    \"selection_method\": \"selTournament\",<br>    \"tournsize\": 5,<br>    \"elitism_rate\": 0.31963205421962226,<br>    \"survival_rate\": 0.7949956604437897<br>  }<br>}",
          "{<br>  \"number\": 160,<br>  \"values\": [<br>    0.8481228947639465,<br>    0.818397045135498,<br>    14.114709377288818<br>  ],<br>  \"params\": {<br>    \"mutation_method\": \"mutConstant\",<br>    \"mutation_prob\": 0.755655517144344,<br>    \"mutation_rate\": 0.10106782955636746,<br>    \"crossover_method\": \"cxUniform\",<br>    \"crossover_rate\": 0.47437089768437585,<br>    \"selection_method\": \"selBest\",<br>    \"elitism_rate\": 0.027369731806971553,<br>    \"survival_rate\": 0.09051199528388121<br>  }<br>}",
          "{<br>  \"number\": 161,<br>  \"values\": [<br>    0.8419916033744812,<br>    0.7778851747512817,<br>    9.826594829559326<br>  ],<br>  \"params\": {<br>    \"mutation_method\": \"mutConstant\",<br>    \"mutation_prob\": 0.7931098804844041,<br>    \"mutation_rate\": 0.05428058949941433,<br>    \"crossover_method\": \"cxUniform\",<br>    \"crossover_rate\": 0.18940394215794668,<br>    \"selection_method\": \"selTournament\",<br>    \"tournsize\": 6,<br>    \"elitism_rate\": 0.6738632885113481,<br>    \"survival_rate\": 0.9477653946680431<br>  }<br>}",
          "{<br>  \"number\": 162,<br>  \"values\": [<br>    0.7462373971939087,<br>    0.7045283913612366,<br>    10.114530086517334<br>  ],<br>  \"params\": {<br>    \"mutation_method\": \"mutConstant\",<br>    \"mutation_prob\": 0.7084434042154731,<br>    \"mutation_rate\": 0.39071613258883,<br>    \"crossover_method\": \"cxOnePoint\",<br>    \"crossover_rate\": 0.40299572568477154,<br>    \"selection_method\": \"selTournament\",<br>    \"tournsize\": 6,<br>    \"elitism_rate\": 0.4704300371355179,<br>    \"survival_rate\": 0.8803419108411118<br>  }<br>}",
          "{<br>  \"number\": 163,<br>  \"values\": [<br>    0.8487569093704224,<br>    0.770827567577362,<br>    8.132323741912842<br>  ],<br>  \"params\": {<br>    \"mutation_method\": \"mutConstant\",<br>    \"mutation_prob\": 0.6797320287243053,<br>    \"mutation_rate\": 0.12680921895707212,<br>    \"crossover_method\": \"cxUniform\",<br>    \"crossover_rate\": 0.16149408447444952,<br>    \"selection_method\": \"selBest\",<br>    \"elitism_rate\": 0.5467942143365707,<br>    \"survival_rate\": 0.1787881892987157<br>  }<br>}",
          "{<br>  \"number\": 164,<br>  \"values\": [<br>    0.8499248027801514,<br>    0.7813852906227112,<br>    13.630631685256958<br>  ],<br>  \"params\": {<br>    \"mutation_method\": \"mutConstant\",<br>    \"mutation_prob\": 0.7435578914866043,<br>    \"mutation_rate\": 0.04576352299083564,<br>    \"crossover_method\": \"cxUniform\",<br>    \"crossover_rate\": 0.5339839095150075,<br>    \"selection_method\": \"selBoltzmann\",<br>    \"boltzmann_temperature\": 0.2895622191016639,<br>    \"elitism_rate\": 0.16744104248861372,<br>    \"survival_rate\": 0.8469637876282594<br>  }<br>}",
          "{<br>  \"number\": 165,<br>  \"values\": [<br>    0.7552635073661804,<br>    0.7177905678749085,<br>    13.259012699127197<br>  ],<br>  \"params\": {<br>    \"mutation_method\": \"mutConstant\",<br>    \"mutation_prob\": 0.7717400841784877,<br>    \"mutation_rate\": 0.4195259660218466,<br>    \"crossover_method\": \"cxUniform\",<br>    \"crossover_rate\": 0.0850773850821489,<br>    \"selection_method\": \"selTournament\",<br>    \"tournsize\": 7,<br>    \"elitism_rate\": 0.23553937619163276,<br>    \"survival_rate\": 0.9649369197979721<br>  }<br>}",
          "{<br>  \"number\": 166,<br>  \"values\": [<br>    0.587949812412262,<br>    0.5620612025260925,<br>    8.27386212348938<br>  ],<br>  \"params\": {<br>    \"mutation_method\": \"mutExponential\",<br>    \"mutation_prob\": 0.8172998310433176,<br>    \"mutation_rate_start\": 0.802341592620429,<br>    \"mutation_rate_end\": 0.6675015878694701,<br>    \"mutation_rate_degree\": 2,<br>    \"crossover_method\": \"cxTwoPoint\",<br>    \"crossover_rate\": 0.20497239671363074,<br>    \"crossover_points\": 2,<br>    \"selection_method\": \"selBest\",<br>    \"elitism_rate\": 0.8619616992845752,<br>    \"survival_rate\": 0.9021174070408442<br>  }<br>}",
          "{<br>  \"number\": 167,<br>  \"values\": [<br>    0.8420442342758179,<br>    0.7780998468399047,<br>    7.90504264831543<br>  ],<br>  \"params\": {<br>    \"mutation_method\": \"mutConstant\",<br>    \"mutation_prob\": 0.7242928218073069,<br>    \"mutation_rate\": 0.14761289033391004,<br>    \"crossover_method\": \"cxUniform\",<br>    \"crossover_rate\": 0.6867339983285092,<br>    \"selection_method\": \"selTournament\",<br>    \"tournsize\": 8,<br>    \"elitism_rate\": 0.6159385069128923,<br>    \"survival_rate\": 0.41079749738748667<br>  }<br>}",
          "{<br>  \"number\": 168,<br>  \"values\": [<br>    0.5946351289749146,<br>    0.5680109977722168,<br>    7.855188369750977<br>  ],<br>  \"params\": {<br>    \"mutation_method\": \"mutLinear\",<br>    \"mutation_prob\": 0.7539006631451932,<br>    \"mutation_rate_start\": 0.632632282304864,<br>    \"mutation_rate_end\": 0.8164157830051889,<br>    \"crossover_method\": \"cxUniform\",<br>    \"crossover_rate\": 0.8046164712881595,<br>    \"selection_method\": \"selStochasticUniversalSampling\",<br>    \"elitism_rate\": 0.7692517313806821,<br>    \"survival_rate\": 0.4460996383425986<br>  }<br>}",
          "{<br>  \"number\": 169,<br>  \"values\": [<br>    0.825075626373291,<br>    0.7692519307136536,<br>    11.55194878578186<br>  ],<br>  \"params\": {<br>    \"mutation_method\": \"mutEntropy\",<br>    \"mutation_prob\": 0.7840310484321401,<br>    \"mutation_rate_start\": 0.5497566898234393,<br>    \"mutation_rate_end\": 0.13178324346536607,<br>    \"crossover_method\": \"cxUniform\",<br>    \"crossover_rate\": 0.12435147236669683,<br>    \"selection_method\": \"selTournament\",<br>    \"tournsize\": 4,<br>    \"elitism_rate\": 0.5700073877316637,<br>    \"survival_rate\": 0.8625073315656175<br>  }<br>}",
          "{<br>  \"number\": 170,<br>  \"values\": [<br>    0.56929612159729,<br>    0.5407845497131347,<br>    7.813166618347168<br>  ],<br>  \"params\": {<br>    \"mutation_method\": \"mutConstant\",<br>    \"mutation_prob\": 0.9973121589233953,<br>    \"mutation_rate\": 0.07378428505215426,<br>    \"crossover_method\": \"cxOnePoint\",<br>    \"crossover_rate\": 0.2684093910586136,<br>    \"selection_method\": \"selRoulette\",<br>    \"elitism_rate\": 0.9758811754054877,<br>    \"survival_rate\": 0.9318236801187646<br>  }<br>}",
          "{<br>  \"number\": 171,<br>  \"values\": [<br>    0.6137763261795044,<br>    0.57413090467453,<br>    8.104165077209473<br>  ],<br>  \"params\": {<br>    \"mutation_method\": \"mutConstant\",<br>    \"mutation_prob\": 0.5436851337639316,<br>    \"mutation_rate\": 0.6253777151667124,<br>    \"crossover_method\": \"cxTwoPoint\",<br>    \"crossover_rate\": 0.44315530847591794,<br>    \"crossover_points\": 3,<br>    \"selection_method\": \"selBest\",<br>    \"elitism_rate\": 0.9109391998245673,<br>    \"survival_rate\": 0.8883537111945746<br>  }<br>}",
          "{<br>  \"number\": 172,<br>  \"values\": [<br>    0.6940164566040039,<br>    0.6579868197441101,<br>    8.217258214950562<br>  ],<br>  \"params\": {<br>    \"mutation_method\": \"mutConstant\",<br>    \"mutation_prob\": 0.7004002993703802,<br>    \"mutation_rate\": 0.31991495611389953,<br>    \"crossover_method\": \"cxUniform\",<br>    \"crossover_rate\": 0.21454020512679126,<br>    \"selection_method\": \"selTournament\",<br>    \"tournsize\": 7,<br>    \"elitism_rate\": 0.8938680724651619,<br>    \"survival_rate\": 0.8170419629490667<br>  }<br>}",
          "{<br>  \"number\": 173,<br>  \"values\": [<br>    0.8018476366996765,<br>    0.7841417670249939,<br>    8.577054262161255<br>  ],<br>  \"params\": {<br>    \"mutation_method\": \"mutConstant\",<br>    \"mutation_prob\": 0.36622954685951375,<br>    \"mutation_rate\": 0.06724365811377231,<br>    \"crossover_method\": \"cxUniform\",<br>    \"crossover_rate\": 0.23673488805833087,<br>    \"selection_method\": \"selBest\",<br>    \"elitism_rate\": 0.5935709856685664,<br>    \"survival_rate\": 0.3754396659719057<br>  }<br>}",
          "{<br>  \"number\": 174,<br>  \"values\": [<br>    0.7315923571586609,<br>    0.6805294990539551,<br>    7.142976522445679<br>  ],<br>  \"params\": {<br>    \"mutation_method\": \"mutConstant\",<br>    \"mutation_prob\": 0.8420521981452738,<br>    \"mutation_rate\": 0.10353132801215209,<br>    \"crossover_method\": \"cxUniform\",<br>    \"crossover_rate\": 0.17843020331552914,<br>    \"selection_method\": \"selRandom\",<br>    \"elitism_rate\": 0.6985977409444768,<br>    \"survival_rate\": 0.002925436902911027<br>  }<br>}",
          "{<br>  \"number\": 175,<br>  \"values\": [<br>    0.6630094051361084,<br>    0.6015054106712341,<br>    7.215134382247925<br>  ],<br>  \"params\": {<br>    \"mutation_method\": \"mutConstant\",<br>    \"mutation_prob\": 0.4493420100050826,<br>    \"mutation_rate\": 0.6829384126433355,<br>    \"crossover_method\": \"cxUniform\",<br>    \"crossover_rate\": 0.825274029256645,<br>    \"selection_method\": \"selTournament\",<br>    \"tournsize\": 8,<br>    \"elitism_rate\": 0.6476068092468079,<br>    \"survival_rate\": 0.12815761586251706<br>  }<br>}",
          "{<br>  \"number\": 176,<br>  \"values\": [<br>    0.6385305523872375,<br>    0.6105479240417481,<br>    5.363036632537842<br>  ],<br>  \"params\": {<br>    \"mutation_method\": \"mutConstant\",<br>    \"mutation_prob\": 0.7470670230263776,<br>    \"mutation_rate\": 0.08892847225617047,<br>    \"crossover_method\": \"cxTwoPoint\",<br>    \"crossover_rate\": 0.25103420335110865,<br>    \"crossover_points\": 3,<br>    \"selection_method\": \"selNormRoulette\",<br>    \"elitism_rate\": 0.9358058154625654,<br>    \"survival_rate\": 0.9898911338744345<br>  }<br>}",
          "{<br>  \"number\": 177,<br>  \"values\": [<br>    0.6036298871040344,<br>    0.5855995297431946,<br>    15.369373559951782<br>  ],<br>  \"params\": {<br>    \"mutation_method\": \"mutExponential\",<br>    \"mutation_prob\": 0.6562526401152526,<br>    \"mutation_rate_start\": 0.5008663795235728,<br>    \"mutation_rate_end\": 0.964656431974935,<br>    \"mutation_rate_degree\": 3,<br>    \"crossover_method\": \"cxUniform\",<br>    \"crossover_rate\": 0.19860331335651255,<br>    \"selection_method\": \"selTournament\",<br>    \"tournsize\": 1,<br>    \"elitism_rate\": 0.07093975640168781,<br>    \"survival_rate\": 0.4960679759830351<br>  }<br>}",
          "{<br>  \"number\": 178,<br>  \"values\": [<br>    0.8389024138450623,<br>    0.7825105309486389,<br>    9.985116004943848<br>  ],<br>  \"params\": {<br>    \"mutation_method\": \"mutConstant\",<br>    \"mutation_prob\": 0.7777801634616337,<br>    \"mutation_rate\": 0.02230278708334412,<br>    \"crossover_method\": \"cxUniform\",<br>    \"crossover_rate\": 0.22685027774294603,<br>    \"selection_method\": \"selBest\",<br>    \"elitism_rate\": 0.4847210659871929,<br>    \"survival_rate\": 0.9992342608053152<br>  }<br>}",
          "{<br>  \"number\": 179,<br>  \"values\": [<br>    0.7558532357215881,<br>    0.6934648871421814,<br>    11.113600254058838<br>  ],<br>  \"params\": {<br>    \"mutation_method\": \"mutLinear\",<br>    \"mutation_prob\": 0.7169413200767007,<br>    \"mutation_rate_start\": 0.30509423029669896,<br>    \"mutation_rate_end\": 0.6120682120115115,<br>    \"crossover_method\": \"cxUniform\",<br>    \"crossover_rate\": 0.15883054700705013,<br>    \"selection_method\": \"selBoltzmann\",<br>    \"boltzmann_temperature\": 0.8033785765596722,<br>    \"elitism_rate\": 0.4229032143412984,<br>    \"survival_rate\": 0.8851635149036771<br>  }<br>}",
          "{<br>  \"number\": 181,<br>  \"values\": [<br>    0.6968963146209717,<br>    0.6601797699928283,<br>    3.8396377563476562<br>  ],<br>  \"params\": {<br>    \"mutation_method\": \"mutConstant\",<br>    \"mutation_prob\": 0.8630036914263552,<br>    \"mutation_rate\": 0.04542531989750149,<br>    \"crossover_method\": \"cxOnePoint\",<br>    \"crossover_rate\": 0.4052076753869854,<br>    \"selection_method\": \"selBest\",<br>    \"elitism_rate\": 0.9835369208882347,<br>    \"survival_rate\": 0.9670050465872508<br>  }<br>}",
          "{<br>  \"number\": 186,<br>  \"values\": [<br>    0.784367024898529,<br>    0.7300968885421752,<br>    5.41038966178894<br>  ],<br>  \"params\": {<br>    \"mutation_method\": \"mutConstant\",<br>    \"mutation_prob\": 0.921118034208254,<br>    \"mutation_rate\": 0.019111977193534427,<br>    \"crossover_method\": \"cxOnePoint\",<br>    \"crossover_rate\": 0.3703675824138636,<br>    \"selection_method\": \"selBest\",<br>    \"elitism_rate\": 0.8286163613340749,<br>    \"survival_rate\": 0.596766693398192<br>  }<br>}",
          "{<br>  \"number\": 188,<br>  \"values\": [<br>    0.669679582118988,<br>    0.6245637893676758,<br>    2.3509840965270996<br>  ],<br>  \"params\": {<br>    \"mutation_method\": \"mutConstant\",<br>    \"mutation_prob\": 0.895868909276588,<br>    \"mutation_rate\": 0.0050166897610326895,<br>    \"crossover_method\": \"cxOnePoint\",<br>    \"crossover_rate\": 0.3379070747077897,<br>    \"selection_method\": \"selBest\",<br>    \"elitism_rate\": 0.9530196491829362,<br>    \"survival_rate\": 0.9818690097424515<br>  }<br>}",
          "{<br>  \"number\": 190,<br>  \"values\": [<br>    0.7620771527290344,<br>    0.7199794888496399,<br>    4.846604824066162<br>  ],<br>  \"params\": {<br>    \"mutation_method\": \"mutConstant\",<br>    \"mutation_prob\": 0.9696967203120522,<br>    \"mutation_rate\": 0.024872877364665622,<br>    \"crossover_method\": \"cxOnePoint\",<br>    \"crossover_rate\": 0.36139506948135275,<br>    \"selection_method\": \"selBest\",<br>    \"elitism_rate\": 0.9599695462896422,<br>    \"survival_rate\": 0.9986794109789048<br>  }<br>}",
          "{<br>  \"number\": 192,<br>  \"values\": [<br>    0.6890486478805542,<br>    0.5947172522544861,<br>    2.097076177597046<br>  ],<br>  \"params\": {<br>    \"mutation_method\": \"mutConstant\",<br>    \"mutation_prob\": 0.9288419999322567,<br>    \"mutation_rate\": 0.0017708570645343091,<br>    \"crossover_method\": \"cxOnePoint\",<br>    \"crossover_rate\": 0.3929805960210541,<br>    \"selection_method\": \"selBest\",<br>    \"elitism_rate\": 0.9187264303117161,<br>    \"survival_rate\": 0.9800042317191622<br>  }<br>}",
          "{<br>  \"number\": 196,<br>  \"values\": [<br>    0.6755014657974243,<br>    0.6469186186790467,<br>    5.539141654968262<br>  ],<br>  \"params\": {<br>    \"mutation_method\": \"mutConstant\",<br>    \"mutation_prob\": 0.8873818335812617,<br>    \"mutation_rate\": 0.5090646484300313,<br>    \"crossover_method\": \"cxOnePoint\",<br>    \"crossover_rate\": 0.35353911888473616,<br>    \"selection_method\": \"selBest\",<br>    \"elitism_rate\": 0.9120233835260915,<br>    \"survival_rate\": 0.9991150470395888<br>  }<br>}",
          "{<br>  \"number\": 199,<br>  \"values\": [<br>    0.5693527460098267,<br>    0.5250326752662658,<br>    0.8787951469421387<br>  ],<br>  \"params\": {<br>    \"mutation_method\": \"mutConstant\",<br>    \"mutation_prob\": 0.9145845512146288,<br>    \"mutation_rate\": 0.00018895756331584277,<br>    \"crossover_method\": \"cxOnePoint\",<br>    \"crossover_rate\": 0.3761245411705998,<br>    \"selection_method\": \"selBest\",<br>    \"elitism_rate\": 0.9011946131972496,<br>    \"survival_rate\": 0.9720358804151373<br>  }<br>}"
         ],
         "type": "scatter",
         "x": [
          0.4982863306999207,
          0.5805169343948364,
          0.5904802918434143,
          0.7648661494255066,
          0.6014132142066956,
          0.6731084823608399,
          0.5978142976760864,
          0.523196530342102,
          0.6434842228889466,
          0.742623794078827,
          0.7065917015075683,
          0.6345887660980225,
          0.5076983451843262,
          0.6507925271987915,
          0.75472172498703,
          0.6463760018348694,
          0.5779878735542298,
          0.7878612875938416,
          0.7715441584587097,
          0.7171781659126282,
          0.5330130457878113,
          0.5162872433662414,
          0.7125959396362305,
          0.697440242767334,
          0.5585859775543213,
          0.5827593326568603,
          0.7601740837097168,
          0.6584548830986023,
          0.5020869135856628,
          0.5857226133346558,
          0.58589688539505,
          0.7889212846755982,
          0.7219496011734009,
          0.5355578780174255,
          0.6683830499649048,
          0.7930272698402405,
          0.5416767477989197,
          0.5792543411254882,
          0.5666745066642761,
          0.6599147200584412,
          0.5744365930557251,
          0.7057913064956665,
          0.7137616634368896,
          0.7862641930580139,
          0.8021474599838256,
          0.6447667837142944,
          0.7125379800796509,
          0.7141341805458069,
          0.7244485139846801,
          0.6521105885505676,
          0.793281078338623,
          0.7756580710411072,
          0.7019487619400024,
          0.7063711285591125,
          0.6631678342819214,
          0.574392294883728,
          0.6597479820251465,
          0.634699821472168,
          0.5014139175415039,
          0.6440411925315856,
          0.7156306266784668,
          0.756228768825531,
          0.7757434844970703,
          0.5171374559402466,
          0.535198175907135,
          0.5649633765220642,
          0.6395657539367676,
          0.552339243888855,
          0.5875467658042908,
          0.5028066396713257,
          0.7094979882240295,
          0.7595485568046569,
          0.810823404788971,
          0.8128230690956115,
          0.8328556537628173,
          0.8130439996719361,
          0.6851771116256714,
          0.8030961036682129,
          0.8100426435470581,
          0.5521320581436158,
          0.7697979569435119,
          0.6026830315589905,
          0.7039140582084655,
          0.6734021544456482,
          0.7551933169364929,
          0.5233053207397461,
          0.7320003747940064,
          0.8271149516105651,
          0.7797468185424805,
          0.5813653469085693,
          0.5769115805625915,
          0.7729399085044861,
          0.7139707326889038,
          0.6944842100143432,
          0.6924257636070251,
          0.8195011258125305,
          0.656189751625061,
          0.6377573728561401,
          0.7100221037864685,
          0.6543216466903686,
          0.8079589486122132,
          0.7353510737419129,
          0.7977709889411926,
          0.6970188856124878,
          0.7289986371994018,
          0.6707345604896545,
          0.6767004251480102,
          0.7695672512054443,
          0.7207557559013367,
          0.5917785882949829,
          0.6718847870826721,
          0.7598564863204956,
          0.6567657589912415,
          0.5881105065345764,
          0.7316186547279357,
          0.7352604389190673,
          0.7929819822311401,
          0.7908034563064575,
          0.785739541053772,
          0.6775544643402099,
          0.6386338949203492,
          0.7254857540130615,
          0.6872129201889038,
          0.5469732642173767,
          0.6171535849571228,
          0.4782281994819641,
          0.4991493821144104,
          0.5374748229980468,
          0.6870513916015625,
          0.5683303713798523,
          0.7887337327003479,
          0.6561237812042237,
          0.807226026058197,
          0.7390016794204712,
          0.7404499411582947,
          0.712254548072815,
          0.8110150933265686,
          0.758759880065918,
          0.6284419775009156,
          0.6289979934692382,
          0.6413763642311097,
          0.5247093558311462,
          0.5372369289398193,
          0.5336584448814392,
          0.6845428109169006,
          0.7145975351333618,
          0.7626748442649841,
          0.6843278288841248,
          0.563994312286377,
          0.8121291995048523,
          0.818397045135498,
          0.7778851747512817,
          0.7045283913612366,
          0.770827567577362,
          0.7813852906227112,
          0.7177905678749085,
          0.5620612025260925,
          0.7780998468399047,
          0.5680109977722168,
          0.7692519307136536,
          0.5407845497131347,
          0.57413090467453,
          0.6579868197441101,
          0.7841417670249939,
          0.6805294990539551,
          0.6015054106712341,
          0.6105479240417481,
          0.5855995297431946,
          0.7825105309486389,
          0.6934648871421814,
          0.6601797699928283,
          0.7300968885421752,
          0.6245637893676758,
          0.7199794888496399,
          0.5947172522544861,
          0.6469186186790467,
          0.5250326752662658
         ],
         "y": [
          4.281626462936401,
          12.192527770996094,
          6.830501556396484,
          12.57694411277771,
          9.884447813034058,
          7.605344533920288,
          7.210463523864746,
          5.791201829910278,
          6.883536100387573,
          12.784364461898804,
          9.042007684707642,
          5.483475208282471,
          3.8452095985412598,
          9.419226169586182,
          12.820128202438354,
          9.649763822555542,
          5.705043077468872,
          7.1308982372283936,
          5.727808475494385,
          5.648449182510376,
          6.81147575378418,
          1.2085256576538086,
          5.974289417266846,
          7.149623870849609,
          5.768560886383057,
          8.117768287658691,
          9.290120363235474,
          6.343273162841797,
          4.457805633544922,
          5.091538667678833,
          5.027351140975952,
          7.9705259799957275,
          6.616721868515015,
          5.944640874862671,
          5.519277572631836,
          9.04025673866272,
          5.466883420944214,
          6.675653696060181,
          7.5788726806640625,
          6.357525587081909,
          8.000487804412842,
          6.01300835609436,
          5.284050703048706,
          10.693814516067505,
          9.934348344802856,
          5.061288356781006,
          5.808561563491821,
          7.69478178024292,
          7.293055534362793,
          13.825255632400513,
          14.157666206359863,
          11.72983169555664,
          8.364702701568604,
          8.839512586593628,
          11.409740447998047,
          16.857346057891846,
          10.693931341171265,
          12.914820194244385,
          3.5364763736724854,
          11.32872200012207,
          11.22008204460144,
          7.699518918991089,
          9.254179239273071,
          5.186428546905518,
          1.8827767372131348,
          7.221463918685913,
          5.9245710372924805,
          6.5084569454193115,
          5.691802740097046,
          4.430026292800903,
          7.636411428451538,
          8.962169647216797,
          9.5696542263031,
          11.053302764892578,
          11.936561822891235,
          10.459941625595093,
          10.521625518798828,
          10.866069793701172,
          10.697926759719849,
          5.453848600387573,
          7.232109785079956,
          6.328842401504517,
          4.806036710739136,
          4.528090476989746,
          5.7911012172698975,
          1.0841686725616455,
          5.642149448394775,
          9.263393640518188,
          6.472506284713745,
          8.573959589004517,
          8.35151720046997,
          9.516045331954956,
          8.791261196136475,
          7.782492399215698,
          7.26221489906311,
          8.600071668624878,
          6.790233612060547,
          8.845324993133545,
          8.243107795715332,
          8.468327522277832,
          9.395375728607178,
          5.980165243148804,
          9.263933420181274,
          7.330302000045776,
          8.235111236572266,
          5.31147027015686,
          8.005518913269043,
          6.802855491638184,
          8.02190375328064,
          7.588160514831543,
          7.477092981338501,
          7.916576147079468,
          7.150908470153809,
          4.480245590209961,
          5.536460638046265,
          5.819043397903442,
          11.347211360931396,
          5.716701507568359,
          8.789867401123047,
          11.567696571350098,
          3.6149609088897705,
          5.255598783493042,
          5.186677932739258,
          2.3193325996398926,
          7.321643114089966,
          1.2497315406799316,
          1.2301175594329834,
          3.974242925643921,
          12.229810237884521,
          6.755206346511841,
          11.904733657836914,
          9.725370168685913,
          9.929492473602295,
          6.657668113708496,
          11.207138776779175,
          7.419671297073364,
          11.192684412002563,
          13.781190395355225,
          6.8730714321136475,
          4.5899200439453125,
          9.263620376586914,
          7.132538318634033,
          2.7684974670410156,
          8.400187492370605,
          8.109035015106201,
          9.630924463272095,
          11.092101812362671,
          10.986972570419312,
          7.467326402664185,
          12.866137981414795,
          14.114709377288818,
          9.826594829559326,
          10.114530086517334,
          8.132323741912842,
          13.630631685256958,
          13.259012699127197,
          8.27386212348938,
          7.90504264831543,
          7.855188369750977,
          11.55194878578186,
          7.813166618347168,
          8.104165077209473,
          8.217258214950562,
          8.577054262161255,
          7.142976522445679,
          7.215134382247925,
          5.363036632537842,
          15.369373559951782,
          9.985116004943848,
          11.113600254058838,
          3.8396377563476562,
          5.41038966178894,
          2.3509840965270996,
          4.846604824066162,
          2.097076177597046,
          5.539141654968262,
          0.8787951469421387
         ]
        },
        {
         "hovertemplate": "%{text}<extra>Best Trial</extra>",
         "marker": {
          "color": [
           75,
           76,
           81,
           82,
           93,
           117,
           118,
           120,
           123,
           151,
           180,
           182,
           183,
           184,
           185,
           187,
           189,
           191,
           193,
           194,
           195,
           197,
           198
          ],
          "colorbar": {
           "title": {
            "text": "Best Trial"
           },
           "x": 1.1,
           "xpad": 40
          },
          "colorscale": [
           [
            0,
            "rgb(255,245,240)"
           ],
           [
            0.125,
            "rgb(254,224,210)"
           ],
           [
            0.25,
            "rgb(252,187,161)"
           ],
           [
            0.375,
            "rgb(252,146,114)"
           ],
           [
            0.5,
            "rgb(251,106,74)"
           ],
           [
            0.625,
            "rgb(239,59,44)"
           ],
           [
            0.75,
            "rgb(203,24,29)"
           ],
           [
            0.875,
            "rgb(165,15,21)"
           ],
           [
            1,
            "rgb(103,0,13)"
           ]
          ],
          "line": {
           "color": "Grey",
           "width": 0.5
          }
         },
         "mode": "markers",
         "showlegend": false,
         "text": [
          "{<br>  \"number\": 75,<br>  \"values\": [<br>    0.8854624629020691,<br>    0.8540900826454163,<br>    9.794409990310669<br>  ],<br>  \"params\": {<br>    \"mutation_method\": \"mutConstant\",<br>    \"mutation_prob\": 0.6598763850840953,<br>    \"mutation_rate\": 0.03628406307181536,<br>    \"crossover_method\": \"cxUniform\",<br>    \"crossover_rate\": 0.8233794193061796,<br>    \"selection_method\": \"selBest\",<br>    \"elitism_rate\": 0.18454432510062468,<br>    \"survival_rate\": 0.9054792845094493<br>  }<br>}",
          "{<br>  \"number\": 76,<br>  \"values\": [<br>    0.923918604850769,<br>    0.8276800394058228,<br>    9.992426872253418<br>  ],<br>  \"params\": {<br>    \"mutation_method\": \"mutConstant\",<br>    \"mutation_prob\": 0.6673931232243625,<br>    \"mutation_rate\": 0.10391134148676051,<br>    \"crossover_method\": \"cxUniform\",<br>    \"crossover_rate\": 0.8081836775325513,<br>    \"selection_method\": \"selTournament\",<br>    \"tournsize\": 8,<br>    \"elitism_rate\": 0.2117669369786903,<br>    \"survival_rate\": 0.8185897951100862<br>  }<br>}",
          "{<br>  \"number\": 81,<br>  \"values\": [<br>    0.8064058423042297,<br>    0.7468477725982666,<br>    5.288511037826538<br>  ],<br>  \"params\": {<br>    \"mutation_method\": \"mutConstant\",<br>    \"mutation_prob\": 0.6931128163924014,<br>    \"mutation_rate\": 0.044268525734875705,<br>    \"crossover_method\": \"cxUniform\",<br>    \"crossover_rate\": 0.3282215429079543,<br>    \"selection_method\": \"selBest\",<br>    \"elitism_rate\": 0.9335209624306304,<br>    \"survival_rate\": 0.9553365619742651<br>  }<br>}",
          "{<br>  \"number\": 82,<br>  \"values\": [<br>    0.7905995845794678,<br>    0.7511340498924255,<br>    4.940675497055054<br>  ],<br>  \"params\": {<br>    \"mutation_method\": \"mutConstant\",<br>    \"mutation_prob\": 0.6998485257683061,<br>    \"mutation_rate\": 0.04225174825966995,<br>    \"crossover_method\": \"cxUniform\",<br>    \"crossover_rate\": 0.36930267119114585,<br>    \"selection_method\": \"selBest\",<br>    \"elitism_rate\": 0.9472577615695945,<br>    \"survival_rate\": 0.956374611798376<br>  }<br>}",
          "{<br>  \"number\": 93,<br>  \"values\": [<br>    0.8951467275619507,<br>    0.8444380044937134,<br>    7.515658140182495<br>  ],<br>  \"params\": {<br>    \"mutation_method\": \"mutConstant\",<br>    \"mutation_prob\": 0.7487182245382854,<br>    \"mutation_rate\": 0.10050319769132943,<br>    \"crossover_method\": \"cxUniform\",<br>    \"crossover_rate\": 0.22362890067395697,<br>    \"selection_method\": \"selTournament\",<br>    \"tournsize\": 6,<br>    \"elitism_rate\": 0.5981089702239115,<br>    \"survival_rate\": 0.8716464989024215<br>  }<br>}",
          "{<br>  \"number\": 117,<br>  \"values\": [<br>    0.8540976047515869,<br>    0.7924973845481873,<br>    7.145756006240845<br>  ],<br>  \"params\": {<br>    \"mutation_method\": \"mutConstant\",<br>    \"mutation_prob\": 0.5429230961301623,<br>    \"mutation_rate\": 0.06512821343611891,<br>    \"crossover_method\": \"cxTwoPoint\",<br>    \"crossover_rate\": 0.3813700279848192,<br>    \"crossover_points\": 3,<br>    \"selection_method\": \"selTournament\",<br>    \"tournsize\": 8,<br>    \"elitism_rate\": 0.5854733447058508,<br>    \"survival_rate\": 0.890664820913173<br>  }<br>}",
          "{<br>  \"number\": 118,<br>  \"values\": [<br>    0.8613600134849548,<br>    0.7914595007896423,<br>    6.7430579662323<br>  ],<br>  \"params\": {<br>    \"mutation_method\": \"mutConstant\",<br>    \"mutation_prob\": 0.7121096995753994,<br>    \"mutation_rate\": 0.07055696288480454,<br>    \"crossover_method\": \"cxTwoPoint\",<br>    \"crossover_rate\": 0.11960465413496205,<br>    \"crossover_points\": 3,<br>    \"selection_method\": \"selTournament\",<br>    \"tournsize\": 7,<br>    \"elitism_rate\": 0.7287903731598115,<br>    \"survival_rate\": 0.9477862586003798<br>  }<br>}",
          "{<br>  \"number\": 120,<br>  \"values\": [<br>    0.8902074098587036,<br>    0.7915812492370605,<br>    7.397045135498047<br>  ],<br>  \"params\": {<br>    \"mutation_method\": \"mutConstant\",<br>    \"mutation_prob\": 0.784767435882427,<br>    \"mutation_rate\": 0.03096251118799108,<br>    \"crossover_method\": \"cxTwoPoint\",<br>    \"crossover_rate\": 0.1760857119541675,<br>    \"crossover_points\": 4,<br>    \"selection_method\": \"selTournament\",<br>    \"tournsize\": 7,<br>    \"elitism_rate\": 0.5115734825118949,<br>    \"survival_rate\": 0.9491199137076598<br>  }<br>}",
          "{<br>  \"number\": 123,<br>  \"values\": [<br>    0.8547669649124146,<br>    0.7676729679107666,<br>    5.673705577850342<br>  ],<br>  \"params\": {<br>    \"mutation_method\": \"mutConstant\",<br>    \"mutation_prob\": 0.7871981419439681,<br>    \"mutation_rate\": 0.07022576316568384,<br>    \"crossover_method\": \"cxUniform\",<br>    \"crossover_rate\": 0.11981382337068133,<br>    \"selection_method\": \"selBest\",<br>    \"elitism_rate\": 0.838298700916809,<br>    \"survival_rate\": 0.8679687290621243<br>  }<br>}",
          "{<br>  \"number\": 151,<br>  \"values\": [<br>    0.7477208971977234,<br>    0.6323667287826538,<br>    3.4655237197875977<br>  ],<br>  \"params\": {<br>    \"mutation_method\": \"mutConstant\",<br>    \"mutation_prob\": 0.8147767074674013,<br>    \"mutation_rate\": 0.003927515790687543,<br>    \"crossover_method\": \"cxUniform\",<br>    \"crossover_rate\": 0.1932673913847286,<br>    \"selection_method\": \"selBest\",<br>    \"elitism_rate\": 0.9310667056840607,<br>    \"survival_rate\": 0.9533227018465018<br>  }<br>}",
          "{<br>  \"number\": 180,<br>  \"values\": [<br>    0.9025082588195801,<br>    0.8458395004272461,<br>    7.744183540344238<br>  ],<br>  \"params\": {<br>    \"mutation_method\": \"mutConstant\",<br>    \"mutation_prob\": 0.8055855520791119,<br>    \"mutation_rate\": 0.05098339381437001,<br>    \"crossover_method\": \"cxOnePoint\",<br>    \"crossover_rate\": 0.37567396654607194,<br>    \"selection_method\": \"selTournament\",<br>    \"tournsize\": 5,<br>    \"elitism_rate\": 0.5228290412795907,<br>    \"survival_rate\": 0.5995201050273067<br>  }<br>}",
          "{<br>  \"number\": 182,<br>  \"values\": [<br>    0.6953625082969666,<br>    0.6800897717475891,<br>    3.4773764610290527<br>  ],<br>  \"params\": {<br>    \"mutation_method\": \"mutConstant\",<br>    \"mutation_prob\": 0.8817152691538593,<br>    \"mutation_rate\": 0.016742856830051556,<br>    \"crossover_method\": \"cxOnePoint\",<br>    \"crossover_rate\": 0.3528018631499808,<br>    \"selection_method\": \"selBest\",<br>    \"elitism_rate\": 0.9725750337250829,<br>    \"survival_rate\": 0.9708041358079065<br>  }<br>}",
          "{<br>  \"number\": 183,<br>  \"values\": [<br>    0.7679356336593628,<br>    0.6987065434455871,<br>    3.750519275665283<br>  ],<br>  \"params\": {<br>    \"mutation_method\": \"mutConstant\",<br>    \"mutation_prob\": 0.9033276549502472,<br>    \"mutation_rate\": 0.01794064476610361,<br>    \"crossover_method\": \"cxOnePoint\",<br>    \"crossover_rate\": 0.3762631560460478,<br>    \"selection_method\": \"selBest\",<br>    \"elitism_rate\": 0.9609712351248867,<br>    \"survival_rate\": 0.9736210884067252<br>  }<br>}",
          "{<br>  \"number\": 184,<br>  \"values\": [<br>    0.7688446044921875,<br>    0.7202653646469116,<br>    4.258705139160156<br>  ],<br>  \"params\": {<br>    \"mutation_method\": \"mutConstant\",<br>    \"mutation_prob\": 0.9022967265316846,<br>    \"mutation_rate\": 0.015938422847849035,<br>    \"crossover_method\": \"cxOnePoint\",<br>    \"crossover_rate\": 0.3743636210736509,<br>    \"selection_method\": \"selBest\",<br>    \"elitism_rate\": 0.9594762888257095,<br>    \"survival_rate\": 0.9860095894775898<br>  }<br>}",
          "{<br>  \"number\": 185,<br>  \"values\": [<br>    0.7514509558677673,<br>    0.6714015960693359,<br>    3.6505343914031982<br>  ],<br>  \"params\": {<br>    \"mutation_method\": \"mutConstant\",<br>    \"mutation_prob\": 0.9069536153162705,<br>    \"mutation_rate\": 0.01845082963694148,<br>    \"crossover_method\": \"cxOnePoint\",<br>    \"crossover_rate\": 0.3573219009014678,<br>    \"selection_method\": \"selBest\",<br>    \"elitism_rate\": 0.9656949369530458,<br>    \"survival_rate\": 0.981288635644566<br>  }<br>}",
          "{<br>  \"number\": 187,<br>  \"values\": [<br>    0.6897009015083313,<br>    0.6366015672683716,<br>    2.354341983795166<br>  ],<br>  \"params\": {<br>    \"mutation_method\": \"mutConstant\",<br>    \"mutation_prob\": 0.9096801476322451,<br>    \"mutation_rate\": 0.004992457745420283,<br>    \"crossover_method\": \"cxOnePoint\",<br>    \"crossover_rate\": 0.3388805185924581,<br>    \"selection_method\": \"selBest\",<br>    \"elitism_rate\": 0.9594005905329805,<br>    \"survival_rate\": 0.9912487945251589<br>  }<br>}",
          "{<br>  \"number\": 189,<br>  \"values\": [<br>    0.6085581183433533,<br>    0.5448145508766175,<br>    0.860762357711792<br>  ],<br>  \"params\": {<br>    \"mutation_method\": \"mutConstant\",<br>    \"mutation_prob\": 0.9698090197805452,<br>    \"mutation_rate\": 0.0006409546851695799,<br>    \"crossover_method\": \"cxOnePoint\",<br>    \"crossover_rate\": 0.35093219173754203,<br>    \"selection_method\": \"selBest\",<br>    \"elitism_rate\": 0.9566370018439161,<br>    \"survival_rate\": 0.9947939831685751<br>  }<br>}",
          "{<br>  \"number\": 191,<br>  \"values\": [<br>    0.7139984369277954,<br>    0.6317980885505676,<br>    1.4995670318603516<br>  ],<br>  \"params\": {<br>    \"mutation_method\": \"mutConstant\",<br>    \"mutation_prob\": 0.8979313666190631,<br>    \"mutation_rate\": 0.001708139860426474,<br>    \"crossover_method\": \"cxOnePoint\",<br>    \"crossover_rate\": 0.34514715302800386,<br>    \"selection_method\": \"selBest\",<br>    \"elitism_rate\": 0.9370313209736911,<br>    \"survival_rate\": 0.9791980198208216<br>  }<br>}",
          "{<br>  \"number\": 193,<br>  \"values\": [<br>    0.8045469522476196,<br>    0.7319595813751221,<br>    4.642755508422852<br>  ],<br>  \"params\": {<br>    \"mutation_method\": \"mutConstant\",<br>    \"mutation_prob\": 0.8791868782949805,<br>    \"mutation_rate\": 0.02406507872585721,<br>    \"crossover_method\": \"cxOnePoint\",<br>    \"crossover_rate\": 0.4211476346672719,<br>    \"selection_method\": \"selBest\",<br>    \"elitism_rate\": 0.9426677585253302,<br>    \"survival_rate\": 0.949834107425065<br>  }<br>}",
          "{<br>  \"number\": 194,<br>  \"values\": [<br>    0.8128746747970581,<br>    0.7217819213867187,<br>    4.620246887207031<br>  ],<br>  \"params\": {<br>    \"mutation_method\": \"mutConstant\",<br>    \"mutation_prob\": 0.8893260498876614,<br>    \"mutation_rate\": 0.02567024857184086,<br>    \"crossover_method\": \"cxOnePoint\",<br>    \"crossover_rate\": 0.3520958547316676,<br>    \"selection_method\": \"selBest\",<br>    \"elitism_rate\": 0.9457439691335595,<br>    \"survival_rate\": 0.9508164914007334<br>  }<br>}",
          "{<br>  \"number\": 195,<br>  \"values\": [<br>    0.7520912885665894,<br>    0.7353623151779175,<br>    4.558118581771851<br>  ],<br>  \"params\": {<br>    \"mutation_method\": \"mutConstant\",<br>    \"mutation_prob\": 0.900779321382763,<br>    \"mutation_rate\": 0.025847343435966827,<br>    \"crossover_method\": \"cxOnePoint\",<br>    \"crossover_rate\": 0.35703390532245627,<br>    \"selection_method\": \"selBest\",<br>    \"elitism_rate\": 0.9444681830360765,<br>    \"survival_rate\": 0.9985750570286566<br>  }<br>}",
          "{<br>  \"number\": 197,<br>  \"values\": [<br>    0.8462645411491394,<br>    0.7972839593887329,<br>    5.446197271347046<br>  ],<br>  \"params\": {<br>    \"mutation_method\": \"mutConstant\",<br>    \"mutation_prob\": 0.9093573798897021,<br>    \"mutation_rate\": 0.02611899084468277,<br>    \"crossover_method\": \"cxOnePoint\",<br>    \"crossover_rate\": 0.3389727986348964,<br>    \"selection_method\": \"selBest\",<br>    \"elitism_rate\": 0.8822256911502233,<br>    \"survival_rate\": 0.9774900883118786<br>  }<br>}",
          "{<br>  \"number\": 198,<br>  \"values\": [<br>    0.8515337705612183,<br>    0.7774155855178833,<br>    5.531543254852295<br>  ],<br>  \"params\": {<br>    \"mutation_method\": \"mutConstant\",<br>    \"mutation_prob\": 0.9497994755257352,<br>    \"mutation_rate\": 0.0235015358011747,<br>    \"crossover_method\": \"cxOnePoint\",<br>    \"crossover_rate\": 0.34667272385046194,<br>    \"selection_method\": \"selBest\",<br>    \"elitism_rate\": 0.8719815436110794,<br>    \"survival_rate\": 0.9518966679119109<br>  }<br>}"
         ],
         "type": "scatter",
         "x": [
          0.8540900826454163,
          0.8276800394058228,
          0.7468477725982666,
          0.7511340498924255,
          0.8444380044937134,
          0.7924973845481873,
          0.7914595007896423,
          0.7915812492370605,
          0.7676729679107666,
          0.6323667287826538,
          0.8458395004272461,
          0.6800897717475891,
          0.6987065434455871,
          0.7202653646469116,
          0.6714015960693359,
          0.6366015672683716,
          0.5448145508766175,
          0.6317980885505676,
          0.7319595813751221,
          0.7217819213867187,
          0.7353623151779175,
          0.7972839593887329,
          0.7774155855178833
         ],
         "y": [
          9.794409990310669,
          9.992426872253418,
          5.288511037826538,
          4.940675497055054,
          7.515658140182495,
          7.145756006240845,
          6.7430579662323,
          7.397045135498047,
          5.673705577850342,
          3.4655237197875977,
          7.744183540344238,
          3.4773764610290527,
          3.750519275665283,
          4.258705139160156,
          3.6505343914031982,
          2.354341983795166,
          0.860762357711792,
          1.4995670318603516,
          4.642755508422852,
          4.620246887207031,
          4.558118581771851,
          5.446197271347046,
          5.531543254852295
         ]
        }
       ],
       "layout": {
        "template": {
         "data": {
          "bar": [
           {
            "error_x": {
             "color": "#2a3f5f"
            },
            "error_y": {
             "color": "#2a3f5f"
            },
            "marker": {
             "line": {
              "color": "#E5ECF6",
              "width": 0.5
             },
             "pattern": {
              "fillmode": "overlay",
              "size": 10,
              "solidity": 0.2
             }
            },
            "type": "bar"
           }
          ],
          "barpolar": [
           {
            "marker": {
             "line": {
              "color": "#E5ECF6",
              "width": 0.5
             },
             "pattern": {
              "fillmode": "overlay",
              "size": 10,
              "solidity": 0.2
             }
            },
            "type": "barpolar"
           }
          ],
          "carpet": [
           {
            "aaxis": {
             "endlinecolor": "#2a3f5f",
             "gridcolor": "white",
             "linecolor": "white",
             "minorgridcolor": "white",
             "startlinecolor": "#2a3f5f"
            },
            "baxis": {
             "endlinecolor": "#2a3f5f",
             "gridcolor": "white",
             "linecolor": "white",
             "minorgridcolor": "white",
             "startlinecolor": "#2a3f5f"
            },
            "type": "carpet"
           }
          ],
          "choropleth": [
           {
            "colorbar": {
             "outlinewidth": 0,
             "ticks": ""
            },
            "type": "choropleth"
           }
          ],
          "contour": [
           {
            "colorbar": {
             "outlinewidth": 0,
             "ticks": ""
            },
            "colorscale": [
             [
              0,
              "#0d0887"
             ],
             [
              0.1111111111111111,
              "#46039f"
             ],
             [
              0.2222222222222222,
              "#7201a8"
             ],
             [
              0.3333333333333333,
              "#9c179e"
             ],
             [
              0.4444444444444444,
              "#bd3786"
             ],
             [
              0.5555555555555556,
              "#d8576b"
             ],
             [
              0.6666666666666666,
              "#ed7953"
             ],
             [
              0.7777777777777778,
              "#fb9f3a"
             ],
             [
              0.8888888888888888,
              "#fdca26"
             ],
             [
              1,
              "#f0f921"
             ]
            ],
            "type": "contour"
           }
          ],
          "contourcarpet": [
           {
            "colorbar": {
             "outlinewidth": 0,
             "ticks": ""
            },
            "type": "contourcarpet"
           }
          ],
          "heatmap": [
           {
            "colorbar": {
             "outlinewidth": 0,
             "ticks": ""
            },
            "colorscale": [
             [
              0,
              "#0d0887"
             ],
             [
              0.1111111111111111,
              "#46039f"
             ],
             [
              0.2222222222222222,
              "#7201a8"
             ],
             [
              0.3333333333333333,
              "#9c179e"
             ],
             [
              0.4444444444444444,
              "#bd3786"
             ],
             [
              0.5555555555555556,
              "#d8576b"
             ],
             [
              0.6666666666666666,
              "#ed7953"
             ],
             [
              0.7777777777777778,
              "#fb9f3a"
             ],
             [
              0.8888888888888888,
              "#fdca26"
             ],
             [
              1,
              "#f0f921"
             ]
            ],
            "type": "heatmap"
           }
          ],
          "heatmapgl": [
           {
            "colorbar": {
             "outlinewidth": 0,
             "ticks": ""
            },
            "colorscale": [
             [
              0,
              "#0d0887"
             ],
             [
              0.1111111111111111,
              "#46039f"
             ],
             [
              0.2222222222222222,
              "#7201a8"
             ],
             [
              0.3333333333333333,
              "#9c179e"
             ],
             [
              0.4444444444444444,
              "#bd3786"
             ],
             [
              0.5555555555555556,
              "#d8576b"
             ],
             [
              0.6666666666666666,
              "#ed7953"
             ],
             [
              0.7777777777777778,
              "#fb9f3a"
             ],
             [
              0.8888888888888888,
              "#fdca26"
             ],
             [
              1,
              "#f0f921"
             ]
            ],
            "type": "heatmapgl"
           }
          ],
          "histogram": [
           {
            "marker": {
             "pattern": {
              "fillmode": "overlay",
              "size": 10,
              "solidity": 0.2
             }
            },
            "type": "histogram"
           }
          ],
          "histogram2d": [
           {
            "colorbar": {
             "outlinewidth": 0,
             "ticks": ""
            },
            "colorscale": [
             [
              0,
              "#0d0887"
             ],
             [
              0.1111111111111111,
              "#46039f"
             ],
             [
              0.2222222222222222,
              "#7201a8"
             ],
             [
              0.3333333333333333,
              "#9c179e"
             ],
             [
              0.4444444444444444,
              "#bd3786"
             ],
             [
              0.5555555555555556,
              "#d8576b"
             ],
             [
              0.6666666666666666,
              "#ed7953"
             ],
             [
              0.7777777777777778,
              "#fb9f3a"
             ],
             [
              0.8888888888888888,
              "#fdca26"
             ],
             [
              1,
              "#f0f921"
             ]
            ],
            "type": "histogram2d"
           }
          ],
          "histogram2dcontour": [
           {
            "colorbar": {
             "outlinewidth": 0,
             "ticks": ""
            },
            "colorscale": [
             [
              0,
              "#0d0887"
             ],
             [
              0.1111111111111111,
              "#46039f"
             ],
             [
              0.2222222222222222,
              "#7201a8"
             ],
             [
              0.3333333333333333,
              "#9c179e"
             ],
             [
              0.4444444444444444,
              "#bd3786"
             ],
             [
              0.5555555555555556,
              "#d8576b"
             ],
             [
              0.6666666666666666,
              "#ed7953"
             ],
             [
              0.7777777777777778,
              "#fb9f3a"
             ],
             [
              0.8888888888888888,
              "#fdca26"
             ],
             [
              1,
              "#f0f921"
             ]
            ],
            "type": "histogram2dcontour"
           }
          ],
          "mesh3d": [
           {
            "colorbar": {
             "outlinewidth": 0,
             "ticks": ""
            },
            "type": "mesh3d"
           }
          ],
          "parcoords": [
           {
            "line": {
             "colorbar": {
              "outlinewidth": 0,
              "ticks": ""
             }
            },
            "type": "parcoords"
           }
          ],
          "pie": [
           {
            "automargin": true,
            "type": "pie"
           }
          ],
          "scatter": [
           {
            "fillpattern": {
             "fillmode": "overlay",
             "size": 10,
             "solidity": 0.2
            },
            "type": "scatter"
           }
          ],
          "scatter3d": [
           {
            "line": {
             "colorbar": {
              "outlinewidth": 0,
              "ticks": ""
             }
            },
            "marker": {
             "colorbar": {
              "outlinewidth": 0,
              "ticks": ""
             }
            },
            "type": "scatter3d"
           }
          ],
          "scattercarpet": [
           {
            "marker": {
             "colorbar": {
              "outlinewidth": 0,
              "ticks": ""
             }
            },
            "type": "scattercarpet"
           }
          ],
          "scattergeo": [
           {
            "marker": {
             "colorbar": {
              "outlinewidth": 0,
              "ticks": ""
             }
            },
            "type": "scattergeo"
           }
          ],
          "scattergl": [
           {
            "marker": {
             "colorbar": {
              "outlinewidth": 0,
              "ticks": ""
             }
            },
            "type": "scattergl"
           }
          ],
          "scattermapbox": [
           {
            "marker": {
             "colorbar": {
              "outlinewidth": 0,
              "ticks": ""
             }
            },
            "type": "scattermapbox"
           }
          ],
          "scatterpolar": [
           {
            "marker": {
             "colorbar": {
              "outlinewidth": 0,
              "ticks": ""
             }
            },
            "type": "scatterpolar"
           }
          ],
          "scatterpolargl": [
           {
            "marker": {
             "colorbar": {
              "outlinewidth": 0,
              "ticks": ""
             }
            },
            "type": "scatterpolargl"
           }
          ],
          "scatterternary": [
           {
            "marker": {
             "colorbar": {
              "outlinewidth": 0,
              "ticks": ""
             }
            },
            "type": "scatterternary"
           }
          ],
          "surface": [
           {
            "colorbar": {
             "outlinewidth": 0,
             "ticks": ""
            },
            "colorscale": [
             [
              0,
              "#0d0887"
             ],
             [
              0.1111111111111111,
              "#46039f"
             ],
             [
              0.2222222222222222,
              "#7201a8"
             ],
             [
              0.3333333333333333,
              "#9c179e"
             ],
             [
              0.4444444444444444,
              "#bd3786"
             ],
             [
              0.5555555555555556,
              "#d8576b"
             ],
             [
              0.6666666666666666,
              "#ed7953"
             ],
             [
              0.7777777777777778,
              "#fb9f3a"
             ],
             [
              0.8888888888888888,
              "#fdca26"
             ],
             [
              1,
              "#f0f921"
             ]
            ],
            "type": "surface"
           }
          ],
          "table": [
           {
            "cells": {
             "fill": {
              "color": "#EBF0F8"
             },
             "line": {
              "color": "white"
             }
            },
            "header": {
             "fill": {
              "color": "#C8D4E3"
             },
             "line": {
              "color": "white"
             }
            },
            "type": "table"
           }
          ]
         },
         "layout": {
          "annotationdefaults": {
           "arrowcolor": "#2a3f5f",
           "arrowhead": 0,
           "arrowwidth": 1
          },
          "autotypenumbers": "strict",
          "coloraxis": {
           "colorbar": {
            "outlinewidth": 0,
            "ticks": ""
           }
          },
          "colorscale": {
           "diverging": [
            [
             0,
             "#8e0152"
            ],
            [
             0.1,
             "#c51b7d"
            ],
            [
             0.2,
             "#de77ae"
            ],
            [
             0.3,
             "#f1b6da"
            ],
            [
             0.4,
             "#fde0ef"
            ],
            [
             0.5,
             "#f7f7f7"
            ],
            [
             0.6,
             "#e6f5d0"
            ],
            [
             0.7,
             "#b8e186"
            ],
            [
             0.8,
             "#7fbc41"
            ],
            [
             0.9,
             "#4d9221"
            ],
            [
             1,
             "#276419"
            ]
           ],
           "sequential": [
            [
             0,
             "#0d0887"
            ],
            [
             0.1111111111111111,
             "#46039f"
            ],
            [
             0.2222222222222222,
             "#7201a8"
            ],
            [
             0.3333333333333333,
             "#9c179e"
            ],
            [
             0.4444444444444444,
             "#bd3786"
            ],
            [
             0.5555555555555556,
             "#d8576b"
            ],
            [
             0.6666666666666666,
             "#ed7953"
            ],
            [
             0.7777777777777778,
             "#fb9f3a"
            ],
            [
             0.8888888888888888,
             "#fdca26"
            ],
            [
             1,
             "#f0f921"
            ]
           ],
           "sequentialminus": [
            [
             0,
             "#0d0887"
            ],
            [
             0.1111111111111111,
             "#46039f"
            ],
            [
             0.2222222222222222,
             "#7201a8"
            ],
            [
             0.3333333333333333,
             "#9c179e"
            ],
            [
             0.4444444444444444,
             "#bd3786"
            ],
            [
             0.5555555555555556,
             "#d8576b"
            ],
            [
             0.6666666666666666,
             "#ed7953"
            ],
            [
             0.7777777777777778,
             "#fb9f3a"
            ],
            [
             0.8888888888888888,
             "#fdca26"
            ],
            [
             1,
             "#f0f921"
            ]
           ]
          },
          "colorway": [
           "#636efa",
           "#EF553B",
           "#00cc96",
           "#ab63fa",
           "#FFA15A",
           "#19d3f3",
           "#FF6692",
           "#B6E880",
           "#FF97FF",
           "#FECB52"
          ],
          "font": {
           "color": "#2a3f5f"
          },
          "geo": {
           "bgcolor": "white",
           "lakecolor": "white",
           "landcolor": "#E5ECF6",
           "showlakes": true,
           "showland": true,
           "subunitcolor": "white"
          },
          "hoverlabel": {
           "align": "left"
          },
          "hovermode": "closest",
          "mapbox": {
           "style": "light"
          },
          "paper_bgcolor": "white",
          "plot_bgcolor": "#E5ECF6",
          "polar": {
           "angularaxis": {
            "gridcolor": "white",
            "linecolor": "white",
            "ticks": ""
           },
           "bgcolor": "#E5ECF6",
           "radialaxis": {
            "gridcolor": "white",
            "linecolor": "white",
            "ticks": ""
           }
          },
          "scene": {
           "xaxis": {
            "backgroundcolor": "#E5ECF6",
            "gridcolor": "white",
            "gridwidth": 2,
            "linecolor": "white",
            "showbackground": true,
            "ticks": "",
            "zerolinecolor": "white"
           },
           "yaxis": {
            "backgroundcolor": "#E5ECF6",
            "gridcolor": "white",
            "gridwidth": 2,
            "linecolor": "white",
            "showbackground": true,
            "ticks": "",
            "zerolinecolor": "white"
           },
           "zaxis": {
            "backgroundcolor": "#E5ECF6",
            "gridcolor": "white",
            "gridwidth": 2,
            "linecolor": "white",
            "showbackground": true,
            "ticks": "",
            "zerolinecolor": "white"
           }
          },
          "shapedefaults": {
           "line": {
            "color": "#2a3f5f"
           }
          },
          "ternary": {
           "aaxis": {
            "gridcolor": "white",
            "linecolor": "white",
            "ticks": ""
           },
           "baxis": {
            "gridcolor": "white",
            "linecolor": "white",
            "ticks": ""
           },
           "bgcolor": "#E5ECF6",
           "caxis": {
            "gridcolor": "white",
            "linecolor": "white",
            "ticks": ""
           }
          },
          "title": {
           "x": 0.05
          },
          "xaxis": {
           "automargin": true,
           "gridcolor": "white",
           "linecolor": "white",
           "ticks": "",
           "title": {
            "standoff": 15
           },
           "zerolinecolor": "white",
           "zerolinewidth": 2
          },
          "yaxis": {
           "automargin": true,
           "gridcolor": "white",
           "linecolor": "white",
           "ticks": "",
           "title": {
            "standoff": 15
           },
           "zerolinecolor": "white",
           "zerolinewidth": 2
          }
         }
        },
        "title": {
         "text": "Pareto-front Plot"
        },
        "xaxis": {
         "title": {
          "text": "Mean Fitness"
         }
        },
        "yaxis": {
         "title": {
          "text": "Runtime"
         }
        }
       }
      }
     },
     "metadata": {},
     "output_type": "display_data"
    }
   ],
   "source": [
    "fig = vis.plot_pareto_front(\n",
    "    study,\n",
    "    targets=lambda t: (t.values[0], t.values[1]),\n",
    "    target_names=[\"Max Fitness\", \"Mean Fitness\"],\n",
    ").show()\n",
    "\n",
    "fig = vis.plot_pareto_front(\n",
    "    study,\n",
    "    targets=lambda t: (t.values[0], t.values[2]),\n",
    "    target_names=[\"Min Fitness\", \"Runtime\"],\n",
    ").show()\n",
    "\n",
    "fig = vis.plot_pareto_front(\n",
    "    study,\n",
    "    targets=lambda t: (t.values[1], t.values[2]),\n",
    "    target_names=[\"Mean Fitness\", \"Runtime\"],\n",
    ").show()"
   ]
  },
  {
   "cell_type": "code",
   "execution_count": 36,
   "id": "35409eca",
   "metadata": {},
   "outputs": [
    {
     "name": "stdout",
     "output_type": "stream",
     "text": [
      "[0.923918604850769, 0.8276800394058228, 9.992426872253418]\n",
      "  mutation_method: mutConstant\n",
      "  mutation_prob: 0.6673931232243625\n",
      "  mutation_rate: 0.10391134148676051\n",
      "  crossover_method: cxUniform\n",
      "  crossover_rate: 0.8081836775325513\n",
      "  selection_method: selTournament\n",
      "  tournsize: 8\n",
      "  elitism_rate: 0.2117669369786903\n",
      "  survival_rate: 0.8185897951100862\n"
     ]
    }
   ],
   "source": [
    "print(study.trials[76].values)\n",
    "for k, v in study.trials[76].params.items():\n",
    "    print(f\"  {k}: {v}\")"
   ]
  },
  {
   "cell_type": "code",
   "execution_count": 18,
   "id": "6db681e5",
   "metadata": {},
   "outputs": [
    {
     "name": "stdout",
     "output_type": "stream",
     "text": [
      "Trial 50:\n",
      "  Values: [0.8333197832107544, 0.793281078338623, 14.157666206359863]\n",
      "  Params: {'mutation_method': 'mutEntropy', 'mutation_prob': 0.38683745307452805, 'mutation_rate_start': 0.4407517305683662, 'mutation_rate_end': 0.6499326452679253, 'crossover_method': 'cxTwoPoint', 'crossover_rate': 0.7083102483183459, 'crossover_points': 4, 'selection_method': 'selRoulette', 'elitism_rate': 0.289632447656809, 'survival_rate': 0.8959619213744233}\n",
      "Trial 55:\n",
      "  Values: [0.591215193271637, 0.574392294883728, 16.857346057891846]\n",
      "  Params: {'mutation_method': 'mutExponential', 'mutation_prob': 0.9861964039255972, 'mutation_rate_start': 0.5831225515443533, 'mutation_rate_end': 0.802685188826328, 'mutation_rate_degree': 1, 'crossover_method': 'cxKPoint', 'crossover_rate': 0.9632491857861658, 'crossover_points': 3, 'selection_method': 'selNormRoulette', 'elitism_rate': 0.15581017058485147, 'survival_rate': 0.05638260191246913}\n",
      "Trial 73:\n",
      "  Values: [0.8618898987770081, 0.8128230690956115, 11.053302764892578]\n",
      "  Params: {'mutation_method': 'mutConstant', 'mutation_prob': 0.7746137069489649, 'mutation_rate': 0.04517597526198858, 'crossover_method': 'cxKPoint', 'crossover_rate': 0.8758241336089164, 'crossover_points': 2, 'selection_method': 'selBest', 'elitism_rate': 0.2483516137186103, 'survival_rate': 0.9826780856477177}\n",
      "Trial 74:\n",
      "  Values: [0.8608505725860596, 0.8328556537628173, 11.936561822891235]\n",
      "  Params: {'mutation_method': 'mutConstant', 'mutation_prob': 0.5490260569162128, 'mutation_rate': 0.030829764756427024, 'crossover_method': 'cxUniform', 'crossover_rate': 0.6888467311170552, 'selection_method': 'selBest', 'elitism_rate': 0.33567201638606226, 'survival_rate': 0.8918362667557032}\n",
      "Trial 75:\n",
      "  Values: [0.8854624629020691, 0.8540900826454163, 9.794409990310669]\n",
      "  Params: {'mutation_method': 'mutConstant', 'mutation_prob': 0.6598763850840953, 'mutation_rate': 0.03628406307181536, 'crossover_method': 'cxUniform', 'crossover_rate': 0.8233794193061796, 'selection_method': 'selBest', 'elitism_rate': 0.18454432510062468, 'survival_rate': 0.9054792845094493}\n",
      "Trial 76:\n",
      "  Values: [0.923918604850769, 0.8276800394058228, 9.992426872253418]\n",
      "  Params: {'mutation_method': 'mutConstant', 'mutation_prob': 0.6673931232243625, 'mutation_rate': 0.10391134148676051, 'crossover_method': 'cxUniform', 'crossover_rate': 0.8081836775325513, 'selection_method': 'selTournament', 'tournsize': 8, 'elitism_rate': 0.2117669369786903, 'survival_rate': 0.8185897951100862}\n",
      "Trial 77:\n",
      "  Values: [0.8873186111450195, 0.8130439996719361, 10.459941625595093]\n",
      "  Params: {'mutation_method': 'mutConstant', 'mutation_prob': 0.6705630288464847, 'mutation_rate': 0.10981501202508143, 'crossover_method': 'cxUniform', 'crossover_rate': 0.8127409858604039, 'selection_method': 'selTournament', 'tournsize': 8, 'elitism_rate': 0.16699063084759572, 'survival_rate': 0.8568154724845319}\n",
      "Trial 159:\n",
      "  Values: [0.8855192065238953, 0.8121291995048523, 12.866137981414795]\n",
      "  Params: {'mutation_method': 'mutEntropy', 'mutation_prob': 0.8125373612719221, 'mutation_rate_start': 0.00032141554907549885, 'mutation_rate_end': 0.46601530061827434, 'crossover_method': 'cxUniform', 'crossover_rate': 0.04423389981428416, 'selection_method': 'selTournament', 'tournsize': 5, 'elitism_rate': 0.31963205421962226, 'survival_rate': 0.7949956604437897}\n",
      "Trial 160:\n",
      "  Values: [0.8481228947639465, 0.818397045135498, 14.114709377288818]\n",
      "  Params: {'mutation_method': 'mutConstant', 'mutation_prob': 0.755655517144344, 'mutation_rate': 0.10106782955636746, 'crossover_method': 'cxUniform', 'crossover_rate': 0.47437089768437585, 'selection_method': 'selBest', 'elitism_rate': 0.027369731806971553, 'survival_rate': 0.09051199528388121}\n",
      "Trial 164:\n",
      "  Values: [0.8499248027801514, 0.7813852906227112, 13.630631685256958]\n",
      "  Params: {'mutation_method': 'mutConstant', 'mutation_prob': 0.7435578914866043, 'mutation_rate': 0.04576352299083564, 'crossover_method': 'cxUniform', 'crossover_rate': 0.5339839095150075, 'selection_method': 'selBoltzmann', 'boltzmann_temperature': 0.2895622191016639, 'elitism_rate': 0.16744104248861372, 'survival_rate': 0.8469637876282594}\n",
      "Trial 177:\n",
      "  Values: [0.6036298871040344, 0.5855995297431946, 15.369373559951782]\n",
      "  Params: {'mutation_method': 'mutExponential', 'mutation_prob': 0.6562526401152526, 'mutation_rate_start': 0.5008663795235728, 'mutation_rate_end': 0.964656431974935, 'mutation_rate_degree': 3, 'crossover_method': 'cxUniform', 'crossover_rate': 0.19860331335651255, 'selection_method': 'selTournament', 'tournsize': 1, 'elitism_rate': 0.07093975640168781, 'survival_rate': 0.4960679759830351}\n",
      "Trial 180:\n",
      "  Values: [0.9025082588195801, 0.8458395004272461, 7.744183540344238]\n",
      "  Params: {'mutation_method': 'mutConstant', 'mutation_prob': 0.8055855520791119, 'mutation_rate': 0.05098339381437001, 'crossover_method': 'cxOnePoint', 'crossover_rate': 0.37567396654607194, 'selection_method': 'selTournament', 'tournsize': 5, 'elitism_rate': 0.5228290412795907, 'survival_rate': 0.5995201050273067}\n"
     ]
    }
   ],
   "source": [
    "import optuna\n",
    "\n",
    "def is_dominated(trial_values, other_values):\n",
    "    return all(tv <= ov for tv, ov in zip(trial_values, other_values)) and any(tv < ov for tv, ov in zip(trial_values, other_values))\n",
    "\n",
    "def get_pareto_front_trials(study):\n",
    "    completed_trials = [t for t in study.trials if t.state == optuna.trial.TrialState.COMPLETE]\n",
    "    pareto_trials = []\n",
    "\n",
    "    for trial in completed_trials:\n",
    "        dominated = False\n",
    "        for other in completed_trials:\n",
    "            if trial.number != other.number and is_dominated(trial.values, other.values):\n",
    "                dominated = True\n",
    "                break\n",
    "        if not dominated:\n",
    "            pareto_trials.append(trial)\n",
    "\n",
    "    return pareto_trials\n",
    "\n",
    "pareto_trials = get_pareto_front_trials(study)\n",
    "\n",
    "for t in pareto_trials:\n",
    "    print(f\"Trial {t.number}:\")\n",
    "    print(f\"  Values: {t.values}\")\n",
    "    print(f\"  Params: {t.params}\")\n"
   ]
  },
  {
   "cell_type": "code",
   "execution_count": null,
   "id": "2e64b4c4",
   "metadata": {},
   "outputs": [
    {
     "name": "stdout",
     "output_type": "stream",
     "text": [
      "Cluster 2 | Trial 50 | Values [0.8333197832107544, 0.793281078338623, 14.157666206359863] | Params {'mutation_method': 'mutEntropy', 'mutation_prob': 0.38683745307452805, 'mutation_rate_start': 0.4407517305683662, 'mutation_rate_end': 0.6499326452679253, 'crossover_method': 'cxTwoPoint', 'crossover_rate': 0.7083102483183459, 'crossover_points': 4, 'selection_method': 'selRoulette', 'elitism_rate': 0.289632447656809, 'survival_rate': 0.8959619213744233}\n",
      "Cluster 1 | Trial 55 | Values [0.591215193271637, 0.574392294883728, 16.857346057891846] | Params {'mutation_method': 'mutExponential', 'mutation_prob': 0.9861964039255972, 'mutation_rate_start': 0.5831225515443533, 'mutation_rate_end': 0.802685188826328, 'mutation_rate_degree': 1, 'crossover_method': 'cxKPoint', 'crossover_rate': 0.9632491857861658, 'crossover_points': 3, 'selection_method': 'selNormRoulette', 'elitism_rate': 0.15581017058485147, 'survival_rate': 0.05638260191246913}\n",
      "Cluster 0 | Trial 73 | Values [0.8618898987770081, 0.8128230690956115, 11.053302764892578] | Params {'mutation_method': 'mutConstant', 'mutation_prob': 0.7746137069489649, 'mutation_rate': 0.04517597526198858, 'crossover_method': 'cxKPoint', 'crossover_rate': 0.8758241336089164, 'crossover_points': 2, 'selection_method': 'selBest', 'elitism_rate': 0.2483516137186103, 'survival_rate': 0.9826780856477177}\n",
      "Cluster 2 | Trial 74 | Values [0.8608505725860596, 0.8328556537628173, 11.936561822891235] | Params {'mutation_method': 'mutConstant', 'mutation_prob': 0.5490260569162128, 'mutation_rate': 0.030829764756427024, 'crossover_method': 'cxUniform', 'crossover_rate': 0.6888467311170552, 'selection_method': 'selBest', 'elitism_rate': 0.33567201638606226, 'survival_rate': 0.8918362667557032}\n",
      "Cluster 0 | Trial 75 | Values [0.8854624629020691, 0.8540900826454163, 9.794409990310669] | Params {'mutation_method': 'mutConstant', 'mutation_prob': 0.6598763850840953, 'mutation_rate': 0.03628406307181536, 'crossover_method': 'cxUniform', 'crossover_rate': 0.8233794193061796, 'selection_method': 'selBest', 'elitism_rate': 0.18454432510062468, 'survival_rate': 0.9054792845094493}\n",
      "Cluster 0 | Trial 76 | Values [0.923918604850769, 0.8276800394058228, 9.992426872253418] | Params {'mutation_method': 'mutConstant', 'mutation_prob': 0.6673931232243625, 'mutation_rate': 0.10391134148676051, 'crossover_method': 'cxUniform', 'crossover_rate': 0.8081836775325513, 'selection_method': 'selTournament', 'tournsize': 8, 'elitism_rate': 0.2117669369786903, 'survival_rate': 0.8185897951100862}\n",
      "Cluster 0 | Trial 77 | Values [0.8873186111450195, 0.8130439996719361, 10.459941625595093] | Params {'mutation_method': 'mutConstant', 'mutation_prob': 0.6705630288464847, 'mutation_rate': 0.10981501202508143, 'crossover_method': 'cxUniform', 'crossover_rate': 0.8127409858604039, 'selection_method': 'selTournament', 'tournsize': 8, 'elitism_rate': 0.16699063084759572, 'survival_rate': 0.8568154724845319}\n",
      "Cluster 2 | Trial 159 | Values [0.8855192065238953, 0.8121291995048523, 12.866137981414795] | Params {'mutation_method': 'mutEntropy', 'mutation_prob': 0.8125373612719221, 'mutation_rate_start': 0.00032141554907549885, 'mutation_rate_end': 0.46601530061827434, 'crossover_method': 'cxUniform', 'crossover_rate': 0.04423389981428416, 'selection_method': 'selTournament', 'tournsize': 5, 'elitism_rate': 0.31963205421962226, 'survival_rate': 0.7949956604437897}\n",
      "Cluster 2 | Trial 160 | Values [0.8481228947639465, 0.818397045135498, 14.114709377288818] | Params {'mutation_method': 'mutConstant', 'mutation_prob': 0.755655517144344, 'mutation_rate': 0.10106782955636746, 'crossover_method': 'cxUniform', 'crossover_rate': 0.47437089768437585, 'selection_method': 'selBest', 'elitism_rate': 0.027369731806971553, 'survival_rate': 0.09051199528388121}\n",
      "Cluster 2 | Trial 164 | Values [0.8499248027801514, 0.7813852906227112, 13.630631685256958] | Params {'mutation_method': 'mutConstant', 'mutation_prob': 0.7435578914866043, 'mutation_rate': 0.04576352299083564, 'crossover_method': 'cxUniform', 'crossover_rate': 0.5339839095150075, 'selection_method': 'selBoltzmann', 'boltzmann_temperature': 0.2895622191016639, 'elitism_rate': 0.16744104248861372, 'survival_rate': 0.8469637876282594}\n",
      "Cluster 1 | Trial 177 | Values [0.6036298871040344, 0.5855995297431946, 15.369373559951782] | Params {'mutation_method': 'mutExponential', 'mutation_prob': 0.6562526401152526, 'mutation_rate_start': 0.5008663795235728, 'mutation_rate_end': 0.964656431974935, 'mutation_rate_degree': 3, 'crossover_method': 'cxUniform', 'crossover_rate': 0.19860331335651255, 'selection_method': 'selTournament', 'tournsize': 1, 'elitism_rate': 0.07093975640168781, 'survival_rate': 0.4960679759830351}\n",
      "Cluster 0 | Trial 180 | Values [0.9025082588195801, 0.8458395004272461, 7.744183540344238] | Params {'mutation_method': 'mutConstant', 'mutation_prob': 0.8055855520791119, 'mutation_rate': 0.05098339381437001, 'crossover_method': 'cxOnePoint', 'crossover_rate': 0.37567396654607194, 'selection_method': 'selTournament', 'tournsize': 5, 'elitism_rate': 0.5228290412795907, 'survival_rate': 0.5995201050273067}\n"
     ]
    },
    {
     "data": {
      "image/png": "[encoded data removed]",
      "text/plain": [
       "<Figure size 640x480 with 1 Axes>"
      ]
     },
     "metadata": {},
     "output_type": "display_data"
    }
   ],
   "source": [
    "import pandas as pd\n",
    "from sklearn.cluster import KMeans\n",
    "import matplotlib.pyplot as plt\n",
    "from mpl_toolkits.mplot3d import Axes3D\n",
    "\n",
    "X = pd.DataFrame([t.values for t in pareto_trials])\n",
    "kmeans = KMeans(n_clusters=3).fit(X)\n",
    "for i, t in enumerate(pareto_trials):\n",
    "    print(f\"Cluster {kmeans.labels_[i]} | Trial {t.number} | Values {t.values} | Params {t.params}\")\n",
    "\n",
    "fig = plt.figure()\n",
    "ax = fig.add_subplot(111, projection='3d')\n",
    "ax.scatter(X[0], X[1], X[2], c=kmeans.labels_, s=60)\n",
    "ax.set_xlabel(\"Max Fitness\")\n",
    "ax.set_ylabel(\"Mean Fitness\")\n",
    "ax.set_zlabel(\"Runtime\")\n",
    "plt.title(\"3D Cluster Plot of Pareto-optimal Trials\")\n",
    "plt.show()\n"
   ]
  },
  {
   "cell_type": "code",
   "execution_count": 22,
   "id": "f85d1590",
   "metadata": {},
   "outputs": [
    {
     "data": {
      "application/vnd.plotly.v1+json": {
       "config": {
        "plotlyServerURL": "https://plot.ly"
       },
       "data": [
        {
         "mode": "markers",
         "name": "Max Fitness",
         "type": "scatter",
         "x": [
          0,
          1,
          2,
          3,
          4,
          5,
          6,
          7,
          8,
          9,
          10,
          11,
          12,
          13,
          14,
          15,
          16,
          17,
          18,
          19,
          20,
          21,
          22,
          23,
          24,
          25,
          26,
          27,
          28,
          29,
          30,
          31,
          32,
          33,
          34,
          35,
          36,
          37,
          38,
          39,
          40,
          41,
          42,
          43,
          44,
          45,
          46,
          47,
          48,
          49,
          50,
          51,
          52,
          53,
          54,
          55,
          56,
          57,
          58,
          59,
          60,
          61,
          62,
          63,
          64,
          65,
          66,
          67,
          68,
          69,
          70,
          71,
          72,
          73,
          74,
          75,
          76,
          77,
          78,
          79,
          80,
          81,
          82,
          83,
          84,
          85,
          86,
          87,
          88,
          89,
          90,
          91,
          92,
          93,
          94,
          95,
          96,
          97,
          98,
          99,
          100,
          101,
          102,
          103,
          104,
          105,
          106,
          107,
          108,
          109,
          110,
          111,
          112,
          113,
          114,
          115,
          116,
          117,
          118,
          119,
          120,
          121,
          122,
          123,
          124,
          125,
          126,
          127,
          128,
          129,
          130,
          131,
          132,
          133,
          134,
          135,
          136,
          137,
          138,
          139,
          140,
          141,
          142,
          143,
          144,
          145,
          146,
          147,
          148,
          149,
          150,
          151,
          152,
          153,
          154,
          155,
          156,
          157,
          158,
          159,
          160,
          161,
          162,
          163,
          164,
          165,
          166,
          167,
          168,
          169,
          170,
          171,
          172,
          173,
          174,
          175,
          176,
          177,
          178,
          179,
          180,
          181,
          182,
          183,
          184,
          185,
          186,
          187,
          188,
          189,
          190,
          191,
          192,
          193,
          194,
          195,
          196,
          197,
          198,
          199
         ],
         "y": [
          0.5299442410469055,
          0.6026304960250854,
          0.6563820242881775,
          0.818134605884552,
          0.6569432616233826,
          0.7581605911254883,
          0.6108515858650208,
          0.5438743829727173,
          0.6804086565971375,
          0.767907977104187,
          0.76732337474823,
          0.6832256317138672,
          0.5222430229187012,
          0.6813010573387146,
          0.7907454371452332,
          0.6903026700019836,
          0.6069177985191345,
          0.8395792245864868,
          0.8308054804801941,
          0.7670469284057617,
          0.5486484169960022,
          0.5824716091156006,
          0.7679969668388367,
          0.7729471921920776,
          0.6052874326705933,
          0.6101658940315247,
          0.7990807294845581,
          0.6902449131011963,
          0.533074140548706,
          0.6361677646636963,
          0.6129070520401001,
          0.8208284378051758,
          0.7668366432189941,
          0.5576106309890747,
          0.6837390065193176,
          0.8264716863632202,
          0.5762501955032349,
          0.6365219950675964,
          0.5935354232788086,
          0.7232884764671326,
          0.5917640328407288,
          0.7242881655693054,
          0.7486201524734497,
          0.8573745489120483,
          0.8650826215744019,
          0.6909237504005432,
          0.7500684261322021,
          0.7621884346008301,
          0.7918167114257812,
          0.6980844736099243,
          0.8333197832107544,
          0.8692777156829834,
          0.7243697643280029,
          0.7580796480178833,
          0.69142746925354,
          0.591215193271637,
          0.7047635316848755,
          0.664401113986969,
          0.5417815446853638,
          0.7137970924377441,
          0.7423235177993774,
          0.7786968946456909,
          0.8374745845794678,
          0.5538285374641418,
          0.5844070911407471,
          0.5925326943397522,
          0.6962236762046814,
          0.5760484933853149,
          0.6379641890525818,
          0.5286989808082581,
          0.7526695132255554,
          0.8624998331069946,
          0.8872778415679932,
          0.8618898987770081,
          0.8608505725860596,
          0.8854624629020691,
          0.923918604850769,
          0.8873186111450195,
          0.7244789600372314,
          0.8670804500579834,
          0.8427196741104126,
          0.8064058423042297,
          0.7905995845794678,
          0.60161954164505,
          0.8242324590682983,
          0.6371427178382874,
          0.7762359380722046,
          0.7375279664993286,
          0.787883460521698,
          0.5488332509994507,
          0.785000205039978,
          0.8656853437423706,
          0.8144384622573853,
          0.8951467275619507,
          0.5985336899757385,
          0.6095179915428162,
          0.8515413999557495,
          0.7295569181442261,
          0.7557958960533142,
          0.7143161296844482,
          0.8552659749984741,
          0.7075375914573669,
          0.703630805015564,
          0.7372389435768127,
          0.6796737909317017,
          0.8697941303253174,
          0.7744708061218262,
          0.8525139689445496,
          0.7644667625427246,
          0.7650972604751587,
          0.6937138438224792,
          0.7485284805297852,
          0.8119908571243286,
          0.7452239990234375,
          0.6250601410865784,
          0.6872473955154419,
          0.8136813640594482,
          0.8540976047515869,
          0.8613600134849548,
          0.702701985836029,
          0.8902074098587036,
          0.6209492087364197,
          0.7780280113220215,
          0.8547669649124146,
          0.7816976308822632,
          0.8405024409294128,
          0.8382444381713867,
          0.8133363723754883,
          0.7136715650558472,
          0.6761409640312195,
          0.7537811994552612,
          0.7127809524536133,
          0.5969163179397583,
          0.6473578214645386,
          0.5222430229187012,
          0.5222430229187012,
          0.644752562046051,
          0.7341532707214355,
          0.6314542293548584,
          0.8244102001190186,
          0.7564940452575684,
          0.8534071445465088,
          0.8140562772750854,
          0.7892032265663147,
          0.7640902996063232,
          0.8502579927444458,
          0.7769181728363037,
          0.6499607563018799,
          0.6552239656448364,
          0.7127889394760132,
          0.5623332262039185,
          0.7477208971977234,
          0.5712780356407166,
          0.5588280558586121,
          0.724901020526886,
          0.7835715413093567,
          0.8193671703338623,
          0.7015371322631836,
          0.585026204586029,
          0.8855192065238953,
          0.8481228947639465,
          0.8419916033744812,
          0.7462373971939087,
          0.8487569093704224,
          0.8499248027801514,
          0.7552635073661804,
          0.587949812412262,
          0.8420442342758179,
          0.5946351289749146,
          0.825075626373291,
          0.56929612159729,
          0.6137763261795044,
          0.6940164566040039,
          0.8018476366996765,
          0.7315923571586609,
          0.6630094051361084,
          0.6385305523872375,
          0.6036298871040344,
          0.8389024138450623,
          0.7558532357215881,
          0.9025082588195801,
          0.6968963146209717,
          0.6953625082969666,
          0.7679356336593628,
          0.7688446044921875,
          0.7514509558677673,
          0.784367024898529,
          0.6897009015083313,
          0.669679582118988,
          0.6085581183433533,
          0.7620771527290344,
          0.7139984369277954,
          0.6890486478805542,
          0.8045469522476196,
          0.8128746747970581,
          0.7520912885665894,
          0.6755014657974243,
          0.8462645411491394,
          0.8515337705612183,
          0.5693527460098267
         ]
        },
        {
         "marker": {
          "color": "#cccccc"
         },
         "mode": "markers",
         "name": "Infeasible Trial",
         "showlegend": false,
         "type": "scatter",
         "x": [],
         "y": []
        }
       ],
       "layout": {
        "template": {
         "data": {
          "bar": [
           {
            "error_x": {
             "color": "#2a3f5f"
            },
            "error_y": {
             "color": "#2a3f5f"
            },
            "marker": {
             "line": {
              "color": "#E5ECF6",
              "width": 0.5
             },
             "pattern": {
              "fillmode": "overlay",
              "size": 10,
              "solidity": 0.2
             }
            },
            "type": "bar"
           }
          ],
          "barpolar": [
           {
            "marker": {
             "line": {
              "color": "#E5ECF6",
              "width": 0.5
             },
             "pattern": {
              "fillmode": "overlay",
              "size": 10,
              "solidity": 0.2
             }
            },
            "type": "barpolar"
           }
          ],
          "carpet": [
           {
            "aaxis": {
             "endlinecolor": "#2a3f5f",
             "gridcolor": "white",
             "linecolor": "white",
             "minorgridcolor": "white",
             "startlinecolor": "#2a3f5f"
            },
            "baxis": {
             "endlinecolor": "#2a3f5f",
             "gridcolor": "white",
             "linecolor": "white",
             "minorgridcolor": "white",
             "startlinecolor": "#2a3f5f"
            },
            "type": "carpet"
           }
          ],
          "choropleth": [
           {
            "colorbar": {
             "outlinewidth": 0,
             "ticks": ""
            },
            "type": "choropleth"
           }
          ],
          "contour": [
           {
            "colorbar": {
             "outlinewidth": 0,
             "ticks": ""
            },
            "colorscale": [
             [
              0,
              "#0d0887"
             ],
             [
              0.1111111111111111,
              "#46039f"
             ],
             [
              0.2222222222222222,
              "#7201a8"
             ],
             [
              0.3333333333333333,
              "#9c179e"
             ],
             [
              0.4444444444444444,
              "#bd3786"
             ],
             [
              0.5555555555555556,
              "#d8576b"
             ],
             [
              0.6666666666666666,
              "#ed7953"
             ],
             [
              0.7777777777777778,
              "#fb9f3a"
             ],
             [
              0.8888888888888888,
              "#fdca26"
             ],
             [
              1,
              "#f0f921"
             ]
            ],
            "type": "contour"
           }
          ],
          "contourcarpet": [
           {
            "colorbar": {
             "outlinewidth": 0,
             "ticks": ""
            },
            "type": "contourcarpet"
           }
          ],
          "heatmap": [
           {
            "colorbar": {
             "outlinewidth": 0,
             "ticks": ""
            },
            "colorscale": [
             [
              0,
              "#0d0887"
             ],
             [
              0.1111111111111111,
              "#46039f"
             ],
             [
              0.2222222222222222,
              "#7201a8"
             ],
             [
              0.3333333333333333,
              "#9c179e"
             ],
             [
              0.4444444444444444,
              "#bd3786"
             ],
             [
              0.5555555555555556,
              "#d8576b"
             ],
             [
              0.6666666666666666,
              "#ed7953"
             ],
             [
              0.7777777777777778,
              "#fb9f3a"
             ],
             [
              0.8888888888888888,
              "#fdca26"
             ],
             [
              1,
              "#f0f921"
             ]
            ],
            "type": "heatmap"
           }
          ],
          "heatmapgl": [
           {
            "colorbar": {
             "outlinewidth": 0,
             "ticks": ""
            },
            "colorscale": [
             [
              0,
              "#0d0887"
             ],
             [
              0.1111111111111111,
              "#46039f"
             ],
             [
              0.2222222222222222,
              "#7201a8"
             ],
             [
              0.3333333333333333,
              "#9c179e"
             ],
             [
              0.4444444444444444,
              "#bd3786"
             ],
             [
              0.5555555555555556,
              "#d8576b"
             ],
             [
              0.6666666666666666,
              "#ed7953"
             ],
             [
              0.7777777777777778,
              "#fb9f3a"
             ],
             [
              0.8888888888888888,
              "#fdca26"
             ],
             [
              1,
              "#f0f921"
             ]
            ],
            "type": "heatmapgl"
           }
          ],
          "histogram": [
           {
            "marker": {
             "pattern": {
              "fillmode": "overlay",
              "size": 10,
              "solidity": 0.2
             }
            },
            "type": "histogram"
           }
          ],
          "histogram2d": [
           {
            "colorbar": {
             "outlinewidth": 0,
             "ticks": ""
            },
            "colorscale": [
             [
              0,
              "#0d0887"
             ],
             [
              0.1111111111111111,
              "#46039f"
             ],
             [
              0.2222222222222222,
              "#7201a8"
             ],
             [
              0.3333333333333333,
              "#9c179e"
             ],
             [
              0.4444444444444444,
              "#bd3786"
             ],
             [
              0.5555555555555556,
              "#d8576b"
             ],
             [
              0.6666666666666666,
              "#ed7953"
             ],
             [
              0.7777777777777778,
              "#fb9f3a"
             ],
             [
              0.8888888888888888,
              "#fdca26"
             ],
             [
              1,
              "#f0f921"
             ]
            ],
            "type": "histogram2d"
           }
          ],
          "histogram2dcontour": [
           {
            "colorbar": {
             "outlinewidth": 0,
             "ticks": ""
            },
            "colorscale": [
             [
              0,
              "#0d0887"
             ],
             [
              0.1111111111111111,
              "#46039f"
             ],
             [
              0.2222222222222222,
              "#7201a8"
             ],
             [
              0.3333333333333333,
              "#9c179e"
             ],
             [
              0.4444444444444444,
              "#bd3786"
             ],
             [
              0.5555555555555556,
              "#d8576b"
             ],
             [
              0.6666666666666666,
              "#ed7953"
             ],
             [
              0.7777777777777778,
              "#fb9f3a"
             ],
             [
              0.8888888888888888,
              "#fdca26"
             ],
             [
              1,
              "#f0f921"
             ]
            ],
            "type": "histogram2dcontour"
           }
          ],
          "mesh3d": [
           {
            "colorbar": {
             "outlinewidth": 0,
             "ticks": ""
            },
            "type": "mesh3d"
           }
          ],
          "parcoords": [
           {
            "line": {
             "colorbar": {
              "outlinewidth": 0,
              "ticks": ""
             }
            },
            "type": "parcoords"
           }
          ],
          "pie": [
           {
            "automargin": true,
            "type": "pie"
           }
          ],
          "scatter": [
           {
            "fillpattern": {
             "fillmode": "overlay",
             "size": 10,
             "solidity": 0.2
            },
            "type": "scatter"
           }
          ],
          "scatter3d": [
           {
            "line": {
             "colorbar": {
              "outlinewidth": 0,
              "ticks": ""
             }
            },
            "marker": {
             "colorbar": {
              "outlinewidth": 0,
              "ticks": ""
             }
            },
            "type": "scatter3d"
           }
          ],
          "scattercarpet": [
           {
            "marker": {
             "colorbar": {
              "outlinewidth": 0,
              "ticks": ""
             }
            },
            "type": "scattercarpet"
           }
          ],
          "scattergeo": [
           {
            "marker": {
             "colorbar": {
              "outlinewidth": 0,
              "ticks": ""
             }
            },
            "type": "scattergeo"
           }
          ],
          "scattergl": [
           {
            "marker": {
             "colorbar": {
              "outlinewidth": 0,
              "ticks": ""
             }
            },
            "type": "scattergl"
           }
          ],
          "scattermapbox": [
           {
            "marker": {
             "colorbar": {
              "outlinewidth": 0,
              "ticks": ""
             }
            },
            "type": "scattermapbox"
           }
          ],
          "scatterpolar": [
           {
            "marker": {
             "colorbar": {
              "outlinewidth": 0,
              "ticks": ""
             }
            },
            "type": "scatterpolar"
           }
          ],
          "scatterpolargl": [
           {
            "marker": {
             "colorbar": {
              "outlinewidth": 0,
              "ticks": ""
             }
            },
            "type": "scatterpolargl"
           }
          ],
          "scatterternary": [
           {
            "marker": {
             "colorbar": {
              "outlinewidth": 0,
              "ticks": ""
             }
            },
            "type": "scatterternary"
           }
          ],
          "surface": [
           {
            "colorbar": {
             "outlinewidth": 0,
             "ticks": ""
            },
            "colorscale": [
             [
              0,
              "#0d0887"
             ],
             [
              0.1111111111111111,
              "#46039f"
             ],
             [
              0.2222222222222222,
              "#7201a8"
             ],
             [
              0.3333333333333333,
              "#9c179e"
             ],
             [
              0.4444444444444444,
              "#bd3786"
             ],
             [
              0.5555555555555556,
              "#d8576b"
             ],
             [
              0.6666666666666666,
              "#ed7953"
             ],
             [
              0.7777777777777778,
              "#fb9f3a"
             ],
             [
              0.8888888888888888,
              "#fdca26"
             ],
             [
              1,
              "#f0f921"
             ]
            ],
            "type": "surface"
           }
          ],
          "table": [
           {
            "cells": {
             "fill": {
              "color": "#EBF0F8"
             },
             "line": {
              "color": "white"
             }
            },
            "header": {
             "fill": {
              "color": "#C8D4E3"
             },
             "line": {
              "color": "white"
             }
            },
            "type": "table"
           }
          ]
         },
         "layout": {
          "annotationdefaults": {
           "arrowcolor": "#2a3f5f",
           "arrowhead": 0,
           "arrowwidth": 1
          },
          "autotypenumbers": "strict",
          "coloraxis": {
           "colorbar": {
            "outlinewidth": 0,
            "ticks": ""
           }
          },
          "colorscale": {
           "diverging": [
            [
             0,
             "#8e0152"
            ],
            [
             0.1,
             "#c51b7d"
            ],
            [
             0.2,
             "#de77ae"
            ],
            [
             0.3,
             "#f1b6da"
            ],
            [
             0.4,
             "#fde0ef"
            ],
            [
             0.5,
             "#f7f7f7"
            ],
            [
             0.6,
             "#e6f5d0"
            ],
            [
             0.7,
             "#b8e186"
            ],
            [
             0.8,
             "#7fbc41"
            ],
            [
             0.9,
             "#4d9221"
            ],
            [
             1,
             "#276419"
            ]
           ],
           "sequential": [
            [
             0,
             "#0d0887"
            ],
            [
             0.1111111111111111,
             "#46039f"
            ],
            [
             0.2222222222222222,
             "#7201a8"
            ],
            [
             0.3333333333333333,
             "#9c179e"
            ],
            [
             0.4444444444444444,
             "#bd3786"
            ],
            [
             0.5555555555555556,
             "#d8576b"
            ],
            [
             0.6666666666666666,
             "#ed7953"
            ],
            [
             0.7777777777777778,
             "#fb9f3a"
            ],
            [
             0.8888888888888888,
             "#fdca26"
            ],
            [
             1,
             "#f0f921"
            ]
           ],
           "sequentialminus": [
            [
             0,
             "#0d0887"
            ],
            [
             0.1111111111111111,
             "#46039f"
            ],
            [
             0.2222222222222222,
             "#7201a8"
            ],
            [
             0.3333333333333333,
             "#9c179e"
            ],
            [
             0.4444444444444444,
             "#bd3786"
            ],
            [
             0.5555555555555556,
             "#d8576b"
            ],
            [
             0.6666666666666666,
             "#ed7953"
            ],
            [
             0.7777777777777778,
             "#fb9f3a"
            ],
            [
             0.8888888888888888,
             "#fdca26"
            ],
            [
             1,
             "#f0f921"
            ]
           ]
          },
          "colorway": [
           "#636efa",
           "#EF553B",
           "#00cc96",
           "#ab63fa",
           "#FFA15A",
           "#19d3f3",
           "#FF6692",
           "#B6E880",
           "#FF97FF",
           "#FECB52"
          ],
          "font": {
           "color": "#2a3f5f"
          },
          "geo": {
           "bgcolor": "white",
           "lakecolor": "white",
           "landcolor": "#E5ECF6",
           "showlakes": true,
           "showland": true,
           "subunitcolor": "white"
          },
          "hoverlabel": {
           "align": "left"
          },
          "hovermode": "closest",
          "mapbox": {
           "style": "light"
          },
          "paper_bgcolor": "white",
          "plot_bgcolor": "#E5ECF6",
          "polar": {
           "angularaxis": {
            "gridcolor": "white",
            "linecolor": "white",
            "ticks": ""
           },
           "bgcolor": "#E5ECF6",
           "radialaxis": {
            "gridcolor": "white",
            "linecolor": "white",
            "ticks": ""
           }
          },
          "scene": {
           "xaxis": {
            "backgroundcolor": "#E5ECF6",
            "gridcolor": "white",
            "gridwidth": 2,
            "linecolor": "white",
            "showbackground": true,
            "ticks": "",
            "zerolinecolor": "white"
           },
           "yaxis": {
            "backgroundcolor": "#E5ECF6",
            "gridcolor": "white",
            "gridwidth": 2,
            "linecolor": "white",
            "showbackground": true,
            "ticks": "",
            "zerolinecolor": "white"
           },
           "zaxis": {
            "backgroundcolor": "#E5ECF6",
            "gridcolor": "white",
            "gridwidth": 2,
            "linecolor": "white",
            "showbackground": true,
            "ticks": "",
            "zerolinecolor": "white"
           }
          },
          "shapedefaults": {
           "line": {
            "color": "#2a3f5f"
           }
          },
          "ternary": {
           "aaxis": {
            "gridcolor": "white",
            "linecolor": "white",
            "ticks": ""
           },
           "baxis": {
            "gridcolor": "white",
            "linecolor": "white",
            "ticks": ""
           },
           "bgcolor": "#E5ECF6",
           "caxis": {
            "gridcolor": "white",
            "linecolor": "white",
            "ticks": ""
           }
          },
          "title": {
           "x": 0.05
          },
          "xaxis": {
           "automargin": true,
           "gridcolor": "white",
           "linecolor": "white",
           "ticks": "",
           "title": {
            "standoff": 15
           },
           "zerolinecolor": "white",
           "zerolinewidth": 2
          },
          "yaxis": {
           "automargin": true,
           "gridcolor": "white",
           "linecolor": "white",
           "ticks": "",
           "title": {
            "standoff": 15
           },
           "zerolinecolor": "white",
           "zerolinewidth": 2
          }
         }
        },
        "title": {
         "text": "Optimization History Plot"
        },
        "xaxis": {
         "title": {
          "text": "Trial"
         }
        },
        "yaxis": {
         "title": {
          "text": "Max Fitness"
         }
        }
       }
      }
     },
     "metadata": {},
     "output_type": "display_data"
    },
    {
     "data": {
      "application/vnd.plotly.v1+json": {
       "config": {
        "plotlyServerURL": "https://plot.ly"
       },
       "data": [
        {
         "mode": "markers",
         "name": "Mean Fitness",
         "type": "scatter",
         "x": [
          0,
          1,
          2,
          3,
          4,
          5,
          6,
          7,
          8,
          9,
          10,
          11,
          12,
          13,
          14,
          15,
          16,
          17,
          18,
          19,
          20,
          21,
          22,
          23,
          24,
          25,
          26,
          27,
          28,
          29,
          30,
          31,
          32,
          33,
          34,
          35,
          36,
          37,
          38,
          39,
          40,
          41,
          42,
          43,
          44,
          45,
          46,
          47,
          48,
          49,
          50,
          51,
          52,
          53,
          54,
          55,
          56,
          57,
          58,
          59,
          60,
          61,
          62,
          63,
          64,
          65,
          66,
          67,
          68,
          69,
          70,
          71,
          72,
          73,
          74,
          75,
          76,
          77,
          78,
          79,
          80,
          81,
          82,
          83,
          84,
          85,
          86,
          87,
          88,
          89,
          90,
          91,
          92,
          93,
          94,
          95,
          96,
          97,
          98,
          99,
          100,
          101,
          102,
          103,
          104,
          105,
          106,
          107,
          108,
          109,
          110,
          111,
          112,
          113,
          114,
          115,
          116,
          117,
          118,
          119,
          120,
          121,
          122,
          123,
          124,
          125,
          126,
          127,
          128,
          129,
          130,
          131,
          132,
          133,
          134,
          135,
          136,
          137,
          138,
          139,
          140,
          141,
          142,
          143,
          144,
          145,
          146,
          147,
          148,
          149,
          150,
          151,
          152,
          153,
          154,
          155,
          156,
          157,
          158,
          159,
          160,
          161,
          162,
          163,
          164,
          165,
          166,
          167,
          168,
          169,
          170,
          171,
          172,
          173,
          174,
          175,
          176,
          177,
          178,
          179,
          180,
          181,
          182,
          183,
          184,
          185,
          186,
          187,
          188,
          189,
          190,
          191,
          192,
          193,
          194,
          195,
          196,
          197,
          198,
          199
         ],
         "y": [
          0.4982863306999207,
          0.5805169343948364,
          0.5904802918434143,
          0.7648661494255066,
          0.6014132142066956,
          0.6731084823608399,
          0.5978142976760864,
          0.523196530342102,
          0.6434842228889466,
          0.742623794078827,
          0.7065917015075683,
          0.6345887660980225,
          0.5076983451843262,
          0.6507925271987915,
          0.75472172498703,
          0.6463760018348694,
          0.5779878735542298,
          0.7878612875938416,
          0.7715441584587097,
          0.7171781659126282,
          0.5330130457878113,
          0.5162872433662414,
          0.7125959396362305,
          0.697440242767334,
          0.5585859775543213,
          0.5827593326568603,
          0.7601740837097168,
          0.6584548830986023,
          0.5020869135856628,
          0.5857226133346558,
          0.58589688539505,
          0.7889212846755982,
          0.7219496011734009,
          0.5355578780174255,
          0.6683830499649048,
          0.7930272698402405,
          0.5416767477989197,
          0.5792543411254882,
          0.5666745066642761,
          0.6599147200584412,
          0.5744365930557251,
          0.7057913064956665,
          0.7137616634368896,
          0.7862641930580139,
          0.8021474599838256,
          0.6447667837142944,
          0.7125379800796509,
          0.7141341805458069,
          0.7244485139846801,
          0.6521105885505676,
          0.793281078338623,
          0.7756580710411072,
          0.7019487619400024,
          0.7063711285591125,
          0.6631678342819214,
          0.574392294883728,
          0.6597479820251465,
          0.634699821472168,
          0.5014139175415039,
          0.6440411925315856,
          0.7156306266784668,
          0.756228768825531,
          0.7757434844970703,
          0.5171374559402466,
          0.535198175907135,
          0.5649633765220642,
          0.6395657539367676,
          0.552339243888855,
          0.5875467658042908,
          0.5028066396713257,
          0.7094979882240295,
          0.7595485568046569,
          0.810823404788971,
          0.8128230690956115,
          0.8328556537628173,
          0.8540900826454163,
          0.8276800394058228,
          0.8130439996719361,
          0.6851771116256714,
          0.8030961036682129,
          0.8100426435470581,
          0.7468477725982666,
          0.7511340498924255,
          0.5521320581436158,
          0.7697979569435119,
          0.6026830315589905,
          0.7039140582084655,
          0.6734021544456482,
          0.7551933169364929,
          0.5233053207397461,
          0.7320003747940064,
          0.8271149516105651,
          0.7797468185424805,
          0.8444380044937134,
          0.5813653469085693,
          0.5769115805625915,
          0.7729399085044861,
          0.7139707326889038,
          0.6944842100143432,
          0.6924257636070251,
          0.8195011258125305,
          0.656189751625061,
          0.6377573728561401,
          0.7100221037864685,
          0.6543216466903686,
          0.8079589486122132,
          0.7353510737419129,
          0.7977709889411926,
          0.6970188856124878,
          0.7289986371994018,
          0.6707345604896545,
          0.6767004251480102,
          0.7695672512054443,
          0.7207557559013367,
          0.5917785882949829,
          0.6718847870826721,
          0.7598564863204956,
          0.7924973845481873,
          0.7914595007896423,
          0.6567657589912415,
          0.7915812492370605,
          0.5881105065345764,
          0.7316186547279357,
          0.7676729679107666,
          0.7352604389190673,
          0.7929819822311401,
          0.7908034563064575,
          0.785739541053772,
          0.6775544643402099,
          0.6386338949203492,
          0.7254857540130615,
          0.6872129201889038,
          0.5469732642173767,
          0.6171535849571228,
          0.4782281994819641,
          0.4991493821144104,
          0.5374748229980468,
          0.6870513916015625,
          0.5683303713798523,
          0.7887337327003479,
          0.6561237812042237,
          0.807226026058197,
          0.7390016794204712,
          0.7404499411582947,
          0.712254548072815,
          0.8110150933265686,
          0.758759880065918,
          0.6284419775009156,
          0.6289979934692382,
          0.6413763642311097,
          0.5247093558311462,
          0.6323667287826538,
          0.5372369289398193,
          0.5336584448814392,
          0.6845428109169006,
          0.7145975351333618,
          0.7626748442649841,
          0.6843278288841248,
          0.563994312286377,
          0.8121291995048523,
          0.818397045135498,
          0.7778851747512817,
          0.7045283913612366,
          0.770827567577362,
          0.7813852906227112,
          0.7177905678749085,
          0.5620612025260925,
          0.7780998468399047,
          0.5680109977722168,
          0.7692519307136536,
          0.5407845497131347,
          0.57413090467453,
          0.6579868197441101,
          0.7841417670249939,
          0.6805294990539551,
          0.6015054106712341,
          0.6105479240417481,
          0.5855995297431946,
          0.7825105309486389,
          0.6934648871421814,
          0.8458395004272461,
          0.6601797699928283,
          0.6800897717475891,
          0.6987065434455871,
          0.7202653646469116,
          0.6714015960693359,
          0.7300968885421752,
          0.6366015672683716,
          0.6245637893676758,
          0.5448145508766175,
          0.7199794888496399,
          0.6317980885505676,
          0.5947172522544861,
          0.7319595813751221,
          0.7217819213867187,
          0.7353623151779175,
          0.6469186186790467,
          0.7972839593887329,
          0.7774155855178833,
          0.5250326752662658
         ]
        },
        {
         "marker": {
          "color": "#cccccc"
         },
         "mode": "markers",
         "name": "Infeasible Trial",
         "showlegend": false,
         "type": "scatter",
         "x": [],
         "y": []
        }
       ],
       "layout": {
        "template": {
         "data": {
          "bar": [
           {
            "error_x": {
             "color": "#2a3f5f"
            },
            "error_y": {
             "color": "#2a3f5f"
            },
            "marker": {
             "line": {
              "color": "#E5ECF6",
              "width": 0.5
             },
             "pattern": {
              "fillmode": "overlay",
              "size": 10,
              "solidity": 0.2
             }
            },
            "type": "bar"
           }
          ],
          "barpolar": [
           {
            "marker": {
             "line": {
              "color": "#E5ECF6",
              "width": 0.5
             },
             "pattern": {
              "fillmode": "overlay",
              "size": 10,
              "solidity": 0.2
             }
            },
            "type": "barpolar"
           }
          ],
          "carpet": [
           {
            "aaxis": {
             "endlinecolor": "#2a3f5f",
             "gridcolor": "white",
             "linecolor": "white",
             "minorgridcolor": "white",
             "startlinecolor": "#2a3f5f"
            },
            "baxis": {
             "endlinecolor": "#2a3f5f",
             "gridcolor": "white",
             "linecolor": "white",
             "minorgridcolor": "white",
             "startlinecolor": "#2a3f5f"
            },
            "type": "carpet"
           }
          ],
          "choropleth": [
           {
            "colorbar": {
             "outlinewidth": 0,
             "ticks": ""
            },
            "type": "choropleth"
           }
          ],
          "contour": [
           {
            "colorbar": {
             "outlinewidth": 0,
             "ticks": ""
            },
            "colorscale": [
             [
              0,
              "#0d0887"
             ],
             [
              0.1111111111111111,
              "#46039f"
             ],
             [
              0.2222222222222222,
              "#7201a8"
             ],
             [
              0.3333333333333333,
              "#9c179e"
             ],
             [
              0.4444444444444444,
              "#bd3786"
             ],
             [
              0.5555555555555556,
              "#d8576b"
             ],
             [
              0.6666666666666666,
              "#ed7953"
             ],
             [
              0.7777777777777778,
              "#fb9f3a"
             ],
             [
              0.8888888888888888,
              "#fdca26"
             ],
             [
              1,
              "#f0f921"
             ]
            ],
            "type": "contour"
           }
          ],
          "contourcarpet": [
           {
            "colorbar": {
             "outlinewidth": 0,
             "ticks": ""
            },
            "type": "contourcarpet"
           }
          ],
          "heatmap": [
           {
            "colorbar": {
             "outlinewidth": 0,
             "ticks": ""
            },
            "colorscale": [
             [
              0,
              "#0d0887"
             ],
             [
              0.1111111111111111,
              "#46039f"
             ],
             [
              0.2222222222222222,
              "#7201a8"
             ],
             [
              0.3333333333333333,
              "#9c179e"
             ],
             [
              0.4444444444444444,
              "#bd3786"
             ],
             [
              0.5555555555555556,
              "#d8576b"
             ],
             [
              0.6666666666666666,
              "#ed7953"
             ],
             [
              0.7777777777777778,
              "#fb9f3a"
             ],
             [
              0.8888888888888888,
              "#fdca26"
             ],
             [
              1,
              "#f0f921"
             ]
            ],
            "type": "heatmap"
           }
          ],
          "heatmapgl": [
           {
            "colorbar": {
             "outlinewidth": 0,
             "ticks": ""
            },
            "colorscale": [
             [
              0,
              "#0d0887"
             ],
             [
              0.1111111111111111,
              "#46039f"
             ],
             [
              0.2222222222222222,
              "#7201a8"
             ],
             [
              0.3333333333333333,
              "#9c179e"
             ],
             [
              0.4444444444444444,
              "#bd3786"
             ],
             [
              0.5555555555555556,
              "#d8576b"
             ],
             [
              0.6666666666666666,
              "#ed7953"
             ],
             [
              0.7777777777777778,
              "#fb9f3a"
             ],
             [
              0.8888888888888888,
              "#fdca26"
             ],
             [
              1,
              "#f0f921"
             ]
            ],
            "type": "heatmapgl"
           }
          ],
          "histogram": [
           {
            "marker": {
             "pattern": {
              "fillmode": "overlay",
              "size": 10,
              "solidity": 0.2
             }
            },
            "type": "histogram"
           }
          ],
          "histogram2d": [
           {
            "colorbar": {
             "outlinewidth": 0,
             "ticks": ""
            },
            "colorscale": [
             [
              0,
              "#0d0887"
             ],
             [
              0.1111111111111111,
              "#46039f"
             ],
             [
              0.2222222222222222,
              "#7201a8"
             ],
             [
              0.3333333333333333,
              "#9c179e"
             ],
             [
              0.4444444444444444,
              "#bd3786"
             ],
             [
              0.5555555555555556,
              "#d8576b"
             ],
             [
              0.6666666666666666,
              "#ed7953"
             ],
             [
              0.7777777777777778,
              "#fb9f3a"
             ],
             [
              0.8888888888888888,
              "#fdca26"
             ],
             [
              1,
              "#f0f921"
             ]
            ],
            "type": "histogram2d"
           }
          ],
          "histogram2dcontour": [
           {
            "colorbar": {
             "outlinewidth": 0,
             "ticks": ""
            },
            "colorscale": [
             [
              0,
              "#0d0887"
             ],
             [
              0.1111111111111111,
              "#46039f"
             ],
             [
              0.2222222222222222,
              "#7201a8"
             ],
             [
              0.3333333333333333,
              "#9c179e"
             ],
             [
              0.4444444444444444,
              "#bd3786"
             ],
             [
              0.5555555555555556,
              "#d8576b"
             ],
             [
              0.6666666666666666,
              "#ed7953"
             ],
             [
              0.7777777777777778,
              "#fb9f3a"
             ],
             [
              0.8888888888888888,
              "#fdca26"
             ],
             [
              1,
              "#f0f921"
             ]
            ],
            "type": "histogram2dcontour"
           }
          ],
          "mesh3d": [
           {
            "colorbar": {
             "outlinewidth": 0,
             "ticks": ""
            },
            "type": "mesh3d"
           }
          ],
          "parcoords": [
           {
            "line": {
             "colorbar": {
              "outlinewidth": 0,
              "ticks": ""
             }
            },
            "type": "parcoords"
           }
          ],
          "pie": [
           {
            "automargin": true,
            "type": "pie"
           }
          ],
          "scatter": [
           {
            "fillpattern": {
             "fillmode": "overlay",
             "size": 10,
             "solidity": 0.2
            },
            "type": "scatter"
           }
          ],
          "scatter3d": [
           {
            "line": {
             "colorbar": {
              "outlinewidth": 0,
              "ticks": ""
             }
            },
            "marker": {
             "colorbar": {
              "outlinewidth": 0,
              "ticks": ""
             }
            },
            "type": "scatter3d"
           }
          ],
          "scattercarpet": [
           {
            "marker": {
             "colorbar": {
              "outlinewidth": 0,
              "ticks": ""
             }
            },
            "type": "scattercarpet"
           }
          ],
          "scattergeo": [
           {
            "marker": {
             "colorbar": {
              "outlinewidth": 0,
              "ticks": ""
             }
            },
            "type": "scattergeo"
           }
          ],
          "scattergl": [
           {
            "marker": {
             "colorbar": {
              "outlinewidth": 0,
              "ticks": ""
             }
            },
            "type": "scattergl"
           }
          ],
          "scattermapbox": [
           {
            "marker": {
             "colorbar": {
              "outlinewidth": 0,
              "ticks": ""
             }
            },
            "type": "scattermapbox"
           }
          ],
          "scatterpolar": [
           {
            "marker": {
             "colorbar": {
              "outlinewidth": 0,
              "ticks": ""
             }
            },
            "type": "scatterpolar"
           }
          ],
          "scatterpolargl": [
           {
            "marker": {
             "colorbar": {
              "outlinewidth": 0,
              "ticks": ""
             }
            },
            "type": "scatterpolargl"
           }
          ],
          "scatterternary": [
           {
            "marker": {
             "colorbar": {
              "outlinewidth": 0,
              "ticks": ""
             }
            },
            "type": "scatterternary"
           }
          ],
          "surface": [
           {
            "colorbar": {
             "outlinewidth": 0,
             "ticks": ""
            },
            "colorscale": [
             [
              0,
              "#0d0887"
             ],
             [
              0.1111111111111111,
              "#46039f"
             ],
             [
              0.2222222222222222,
              "#7201a8"
             ],
             [
              0.3333333333333333,
              "#9c179e"
             ],
             [
              0.4444444444444444,
              "#bd3786"
             ],
             [
              0.5555555555555556,
              "#d8576b"
             ],
             [
              0.6666666666666666,
              "#ed7953"
             ],
             [
              0.7777777777777778,
              "#fb9f3a"
             ],
             [
              0.8888888888888888,
              "#fdca26"
             ],
             [
              1,
              "#f0f921"
             ]
            ],
            "type": "surface"
           }
          ],
          "table": [
           {
            "cells": {
             "fill": {
              "color": "#EBF0F8"
             },
             "line": {
              "color": "white"
             }
            },
            "header": {
             "fill": {
              "color": "#C8D4E3"
             },
             "line": {
              "color": "white"
             }
            },
            "type": "table"
           }
          ]
         },
         "layout": {
          "annotationdefaults": {
           "arrowcolor": "#2a3f5f",
           "arrowhead": 0,
           "arrowwidth": 1
          },
          "autotypenumbers": "strict",
          "coloraxis": {
           "colorbar": {
            "outlinewidth": 0,
            "ticks": ""
           }
          },
          "colorscale": {
           "diverging": [
            [
             0,
             "#8e0152"
            ],
            [
             0.1,
             "#c51b7d"
            ],
            [
             0.2,
             "#de77ae"
            ],
            [
             0.3,
             "#f1b6da"
            ],
            [
             0.4,
             "#fde0ef"
            ],
            [
             0.5,
             "#f7f7f7"
            ],
            [
             0.6,
             "#e6f5d0"
            ],
            [
             0.7,
             "#b8e186"
            ],
            [
             0.8,
             "#7fbc41"
            ],
            [
             0.9,
             "#4d9221"
            ],
            [
             1,
             "#276419"
            ]
           ],
           "sequential": [
            [
             0,
             "#0d0887"
            ],
            [
             0.1111111111111111,
             "#46039f"
            ],
            [
             0.2222222222222222,
             "#7201a8"
            ],
            [
             0.3333333333333333,
             "#9c179e"
            ],
            [
             0.4444444444444444,
             "#bd3786"
            ],
            [
             0.5555555555555556,
             "#d8576b"
            ],
            [
             0.6666666666666666,
             "#ed7953"
            ],
            [
             0.7777777777777778,
             "#fb9f3a"
            ],
            [
             0.8888888888888888,
             "#fdca26"
            ],
            [
             1,
             "#f0f921"
            ]
           ],
           "sequentialminus": [
            [
             0,
             "#0d0887"
            ],
            [
             0.1111111111111111,
             "#46039f"
            ],
            [
             0.2222222222222222,
             "#7201a8"
            ],
            [
             0.3333333333333333,
             "#9c179e"
            ],
            [
             0.4444444444444444,
             "#bd3786"
            ],
            [
             0.5555555555555556,
             "#d8576b"
            ],
            [
             0.6666666666666666,
             "#ed7953"
            ],
            [
             0.7777777777777778,
             "#fb9f3a"
            ],
            [
             0.8888888888888888,
             "#fdca26"
            ],
            [
             1,
             "#f0f921"
            ]
           ]
          },
          "colorway": [
           "#636efa",
           "#EF553B",
           "#00cc96",
           "#ab63fa",
           "#FFA15A",
           "#19d3f3",
           "#FF6692",
           "#B6E880",
           "#FF97FF",
           "#FECB52"
          ],
          "font": {
           "color": "#2a3f5f"
          },
          "geo": {
           "bgcolor": "white",
           "lakecolor": "white",
           "landcolor": "#E5ECF6",
           "showlakes": true,
           "showland": true,
           "subunitcolor": "white"
          },
          "hoverlabel": {
           "align": "left"
          },
          "hovermode": "closest",
          "mapbox": {
           "style": "light"
          },
          "paper_bgcolor": "white",
          "plot_bgcolor": "#E5ECF6",
          "polar": {
           "angularaxis": {
            "gridcolor": "white",
            "linecolor": "white",
            "ticks": ""
           },
           "bgcolor": "#E5ECF6",
           "radialaxis": {
            "gridcolor": "white",
            "linecolor": "white",
            "ticks": ""
           }
          },
          "scene": {
           "xaxis": {
            "backgroundcolor": "#E5ECF6",
            "gridcolor": "white",
            "gridwidth": 2,
            "linecolor": "white",
            "showbackground": true,
            "ticks": "",
            "zerolinecolor": "white"
           },
           "yaxis": {
            "backgroundcolor": "#E5ECF6",
            "gridcolor": "white",
            "gridwidth": 2,
            "linecolor": "white",
            "showbackground": true,
            "ticks": "",
            "zerolinecolor": "white"
           },
           "zaxis": {
            "backgroundcolor": "#E5ECF6",
            "gridcolor": "white",
            "gridwidth": 2,
            "linecolor": "white",
            "showbackground": true,
            "ticks": "",
            "zerolinecolor": "white"
           }
          },
          "shapedefaults": {
           "line": {
            "color": "#2a3f5f"
           }
          },
          "ternary": {
           "aaxis": {
            "gridcolor": "white",
            "linecolor": "white",
            "ticks": ""
           },
           "baxis": {
            "gridcolor": "white",
            "linecolor": "white",
            "ticks": ""
           },
           "bgcolor": "#E5ECF6",
           "caxis": {
            "gridcolor": "white",
            "linecolor": "white",
            "ticks": ""
           }
          },
          "title": {
           "x": 0.05
          },
          "xaxis": {
           "automargin": true,
           "gridcolor": "white",
           "linecolor": "white",
           "ticks": "",
           "title": {
            "standoff": 15
           },
           "zerolinecolor": "white",
           "zerolinewidth": 2
          },
          "yaxis": {
           "automargin": true,
           "gridcolor": "white",
           "linecolor": "white",
           "ticks": "",
           "title": {
            "standoff": 15
           },
           "zerolinecolor": "white",
           "zerolinewidth": 2
          }
         }
        },
        "title": {
         "text": "Optimization History Plot"
        },
        "xaxis": {
         "title": {
          "text": "Trial"
         }
        },
        "yaxis": {
         "title": {
          "text": "Mean Fitness"
         }
        }
       }
      }
     },
     "metadata": {},
     "output_type": "display_data"
    },
    {
     "data": {
      "application/vnd.plotly.v1+json": {
       "config": {
        "plotlyServerURL": "https://plot.ly"
       },
       "data": [
        {
         "mode": "markers",
         "name": "Runtime",
         "type": "scatter",
         "x": [
          0,
          1,
          2,
          3,
          4,
          5,
          6,
          7,
          8,
          9,
          10,
          11,
          12,
          13,
          14,
          15,
          16,
          17,
          18,
          19,
          20,
          21,
          22,
          23,
          24,
          25,
          26,
          27,
          28,
          29,
          30,
          31,
          32,
          33,
          34,
          35,
          36,
          37,
          38,
          39,
          40,
          41,
          42,
          43,
          44,
          45,
          46,
          47,
          48,
          49,
          50,
          51,
          52,
          53,
          54,
          55,
          56,
          57,
          58,
          59,
          60,
          61,
          62,
          63,
          64,
          65,
          66,
          67,
          68,
          69,
          70,
          71,
          72,
          73,
          74,
          75,
          76,
          77,
          78,
          79,
          80,
          81,
          82,
          83,
          84,
          85,
          86,
          87,
          88,
          89,
          90,
          91,
          92,
          93,
          94,
          95,
          96,
          97,
          98,
          99,
          100,
          101,
          102,
          103,
          104,
          105,
          106,
          107,
          108,
          109,
          110,
          111,
          112,
          113,
          114,
          115,
          116,
          117,
          118,
          119,
          120,
          121,
          122,
          123,
          124,
          125,
          126,
          127,
          128,
          129,
          130,
          131,
          132,
          133,
          134,
          135,
          136,
          137,
          138,
          139,
          140,
          141,
          142,
          143,
          144,
          145,
          146,
          147,
          148,
          149,
          150,
          151,
          152,
          153,
          154,
          155,
          156,
          157,
          158,
          159,
          160,
          161,
          162,
          163,
          164,
          165,
          166,
          167,
          168,
          169,
          170,
          171,
          172,
          173,
          174,
          175,
          176,
          177,
          178,
          179,
          180,
          181,
          182,
          183,
          184,
          185,
          186,
          187,
          188,
          189,
          190,
          191,
          192,
          193,
          194,
          195,
          196,
          197,
          198,
          199
         ],
         "y": [
          4.281626462936401,
          12.192527770996094,
          6.830501556396484,
          12.57694411277771,
          9.884447813034058,
          7.605344533920288,
          7.210463523864746,
          5.791201829910278,
          6.883536100387573,
          12.784364461898804,
          9.042007684707642,
          5.483475208282471,
          3.8452095985412598,
          9.419226169586182,
          12.820128202438354,
          9.649763822555542,
          5.705043077468872,
          7.1308982372283936,
          5.727808475494385,
          5.648449182510376,
          6.81147575378418,
          1.2085256576538086,
          5.974289417266846,
          7.149623870849609,
          5.768560886383057,
          8.117768287658691,
          9.290120363235474,
          6.343273162841797,
          4.457805633544922,
          5.091538667678833,
          5.027351140975952,
          7.9705259799957275,
          6.616721868515015,
          5.944640874862671,
          5.519277572631836,
          9.04025673866272,
          5.466883420944214,
          6.675653696060181,
          7.5788726806640625,
          6.357525587081909,
          8.000487804412842,
          6.01300835609436,
          5.284050703048706,
          10.693814516067505,
          9.934348344802856,
          5.061288356781006,
          5.808561563491821,
          7.69478178024292,
          7.293055534362793,
          13.825255632400513,
          14.157666206359863,
          11.72983169555664,
          8.364702701568604,
          8.839512586593628,
          11.409740447998047,
          16.857346057891846,
          10.693931341171265,
          12.914820194244385,
          3.5364763736724854,
          11.32872200012207,
          11.22008204460144,
          7.699518918991089,
          9.254179239273071,
          5.186428546905518,
          1.8827767372131348,
          7.221463918685913,
          5.9245710372924805,
          6.5084569454193115,
          5.691802740097046,
          4.430026292800903,
          7.636411428451538,
          8.962169647216797,
          9.5696542263031,
          11.053302764892578,
          11.936561822891235,
          9.794409990310669,
          9.992426872253418,
          10.459941625595093,
          10.521625518798828,
          10.866069793701172,
          10.697926759719849,
          5.288511037826538,
          4.940675497055054,
          5.453848600387573,
          7.232109785079956,
          6.328842401504517,
          4.806036710739136,
          4.528090476989746,
          5.7911012172698975,
          1.0841686725616455,
          5.642149448394775,
          9.263393640518188,
          6.472506284713745,
          7.515658140182495,
          8.573959589004517,
          8.35151720046997,
          9.516045331954956,
          8.791261196136475,
          7.782492399215698,
          7.26221489906311,
          8.600071668624878,
          6.790233612060547,
          8.845324993133545,
          8.243107795715332,
          8.468327522277832,
          9.395375728607178,
          5.980165243148804,
          9.263933420181274,
          7.330302000045776,
          8.235111236572266,
          5.31147027015686,
          8.005518913269043,
          6.802855491638184,
          8.02190375328064,
          7.588160514831543,
          7.477092981338501,
          7.916576147079468,
          7.145756006240845,
          6.7430579662323,
          7.150908470153809,
          7.397045135498047,
          4.480245590209961,
          5.536460638046265,
          5.673705577850342,
          5.819043397903442,
          11.347211360931396,
          5.716701507568359,
          8.789867401123047,
          11.567696571350098,
          3.6149609088897705,
          5.255598783493042,
          5.186677932739258,
          2.3193325996398926,
          7.321643114089966,
          1.2497315406799316,
          1.2301175594329834,
          3.974242925643921,
          12.229810237884521,
          6.755206346511841,
          11.904733657836914,
          9.725370168685913,
          9.929492473602295,
          6.657668113708496,
          11.207138776779175,
          7.419671297073364,
          11.192684412002563,
          13.781190395355225,
          6.8730714321136475,
          4.5899200439453125,
          9.263620376586914,
          7.132538318634033,
          3.4655237197875977,
          2.7684974670410156,
          8.400187492370605,
          8.109035015106201,
          9.630924463272095,
          11.092101812362671,
          10.986972570419312,
          7.467326402664185,
          12.866137981414795,
          14.114709377288818,
          9.826594829559326,
          10.114530086517334,
          8.132323741912842,
          13.630631685256958,
          13.259012699127197,
          8.27386212348938,
          7.90504264831543,
          7.855188369750977,
          11.55194878578186,
          7.813166618347168,
          8.104165077209473,
          8.217258214950562,
          8.577054262161255,
          7.142976522445679,
          7.215134382247925,
          5.363036632537842,
          15.369373559951782,
          9.985116004943848,
          11.113600254058838,
          7.744183540344238,
          3.8396377563476562,
          3.4773764610290527,
          3.750519275665283,
          4.258705139160156,
          3.6505343914031982,
          5.41038966178894,
          2.354341983795166,
          2.3509840965270996,
          0.860762357711792,
          4.846604824066162,
          1.4995670318603516,
          2.097076177597046,
          4.642755508422852,
          4.620246887207031,
          4.558118581771851,
          5.539141654968262,
          5.446197271347046,
          5.531543254852295,
          0.8787951469421387
         ]
        },
        {
         "marker": {
          "color": "#cccccc"
         },
         "mode": "markers",
         "name": "Infeasible Trial",
         "showlegend": false,
         "type": "scatter",
         "x": [],
         "y": []
        }
       ],
       "layout": {
        "template": {
         "data": {
          "bar": [
           {
            "error_x": {
             "color": "#2a3f5f"
            },
            "error_y": {
             "color": "#2a3f5f"
            },
            "marker": {
             "line": {
              "color": "#E5ECF6",
              "width": 0.5
             },
             "pattern": {
              "fillmode": "overlay",
              "size": 10,
              "solidity": 0.2
             }
            },
            "type": "bar"
           }
          ],
          "barpolar": [
           {
            "marker": {
             "line": {
              "color": "#E5ECF6",
              "width": 0.5
             },
             "pattern": {
              "fillmode": "overlay",
              "size": 10,
              "solidity": 0.2
             }
            },
            "type": "barpolar"
           }
          ],
          "carpet": [
           {
            "aaxis": {
             "endlinecolor": "#2a3f5f",
             "gridcolor": "white",
             "linecolor": "white",
             "minorgridcolor": "white",
             "startlinecolor": "#2a3f5f"
            },
            "baxis": {
             "endlinecolor": "#2a3f5f",
             "gridcolor": "white",
             "linecolor": "white",
             "minorgridcolor": "white",
             "startlinecolor": "#2a3f5f"
            },
            "type": "carpet"
           }
          ],
          "choropleth": [
           {
            "colorbar": {
             "outlinewidth": 0,
             "ticks": ""
            },
            "type": "choropleth"
           }
          ],
          "contour": [
           {
            "colorbar": {
             "outlinewidth": 0,
             "ticks": ""
            },
            "colorscale": [
             [
              0,
              "#0d0887"
             ],
             [
              0.1111111111111111,
              "#46039f"
             ],
             [
              0.2222222222222222,
              "#7201a8"
             ],
             [
              0.3333333333333333,
              "#9c179e"
             ],
             [
              0.4444444444444444,
              "#bd3786"
             ],
             [
              0.5555555555555556,
              "#d8576b"
             ],
             [
              0.6666666666666666,
              "#ed7953"
             ],
             [
              0.7777777777777778,
              "#fb9f3a"
             ],
             [
              0.8888888888888888,
              "#fdca26"
             ],
             [
              1,
              "#f0f921"
             ]
            ],
            "type": "contour"
           }
          ],
          "contourcarpet": [
           {
            "colorbar": {
             "outlinewidth": 0,
             "ticks": ""
            },
            "type": "contourcarpet"
           }
          ],
          "heatmap": [
           {
            "colorbar": {
             "outlinewidth": 0,
             "ticks": ""
            },
            "colorscale": [
             [
              0,
              "#0d0887"
             ],
             [
              0.1111111111111111,
              "#46039f"
             ],
             [
              0.2222222222222222,
              "#7201a8"
             ],
             [
              0.3333333333333333,
              "#9c179e"
             ],
             [
              0.4444444444444444,
              "#bd3786"
             ],
             [
              0.5555555555555556,
              "#d8576b"
             ],
             [
              0.6666666666666666,
              "#ed7953"
             ],
             [
              0.7777777777777778,
              "#fb9f3a"
             ],
             [
              0.8888888888888888,
              "#fdca26"
             ],
             [
              1,
              "#f0f921"
             ]
            ],
            "type": "heatmap"
           }
          ],
          "heatmapgl": [
           {
            "colorbar": {
             "outlinewidth": 0,
             "ticks": ""
            },
            "colorscale": [
             [
              0,
              "#0d0887"
             ],
             [
              0.1111111111111111,
              "#46039f"
             ],
             [
              0.2222222222222222,
              "#7201a8"
             ],
             [
              0.3333333333333333,
              "#9c179e"
             ],
             [
              0.4444444444444444,
              "#bd3786"
             ],
             [
              0.5555555555555556,
              "#d8576b"
             ],
             [
              0.6666666666666666,
              "#ed7953"
             ],
             [
              0.7777777777777778,
              "#fb9f3a"
             ],
             [
              0.8888888888888888,
              "#fdca26"
             ],
             [
              1,
              "#f0f921"
             ]
            ],
            "type": "heatmapgl"
           }
          ],
          "histogram": [
           {
            "marker": {
             "pattern": {
              "fillmode": "overlay",
              "size": 10,
              "solidity": 0.2
             }
            },
            "type": "histogram"
           }
          ],
          "histogram2d": [
           {
            "colorbar": {
             "outlinewidth": 0,
             "ticks": ""
            },
            "colorscale": [
             [
              0,
              "#0d0887"
             ],
             [
              0.1111111111111111,
              "#46039f"
             ],
             [
              0.2222222222222222,
              "#7201a8"
             ],
             [
              0.3333333333333333,
              "#9c179e"
             ],
             [
              0.4444444444444444,
              "#bd3786"
             ],
             [
              0.5555555555555556,
              "#d8576b"
             ],
             [
              0.6666666666666666,
              "#ed7953"
             ],
             [
              0.7777777777777778,
              "#fb9f3a"
             ],
             [
              0.8888888888888888,
              "#fdca26"
             ],
             [
              1,
              "#f0f921"
             ]
            ],
            "type": "histogram2d"
           }
          ],
          "histogram2dcontour": [
           {
            "colorbar": {
             "outlinewidth": 0,
             "ticks": ""
            },
            "colorscale": [
             [
              0,
              "#0d0887"
             ],
             [
              0.1111111111111111,
              "#46039f"
             ],
             [
              0.2222222222222222,
              "#7201a8"
             ],
             [
              0.3333333333333333,
              "#9c179e"
             ],
             [
              0.4444444444444444,
              "#bd3786"
             ],
             [
              0.5555555555555556,
              "#d8576b"
             ],
             [
              0.6666666666666666,
              "#ed7953"
             ],
             [
              0.7777777777777778,
              "#fb9f3a"
             ],
             [
              0.8888888888888888,
              "#fdca26"
             ],
             [
              1,
              "#f0f921"
             ]
            ],
            "type": "histogram2dcontour"
           }
          ],
          "mesh3d": [
           {
            "colorbar": {
             "outlinewidth": 0,
             "ticks": ""
            },
            "type": "mesh3d"
           }
          ],
          "parcoords": [
           {
            "line": {
             "colorbar": {
              "outlinewidth": 0,
              "ticks": ""
             }
            },
            "type": "parcoords"
           }
          ],
          "pie": [
           {
            "automargin": true,
            "type": "pie"
           }
          ],
          "scatter": [
           {
            "fillpattern": {
             "fillmode": "overlay",
             "size": 10,
             "solidity": 0.2
            },
            "type": "scatter"
           }
          ],
          "scatter3d": [
           {
            "line": {
             "colorbar": {
              "outlinewidth": 0,
              "ticks": ""
             }
            },
            "marker": {
             "colorbar": {
              "outlinewidth": 0,
              "ticks": ""
             }
            },
            "type": "scatter3d"
           }
          ],
          "scattercarpet": [
           {
            "marker": {
             "colorbar": {
              "outlinewidth": 0,
              "ticks": ""
             }
            },
            "type": "scattercarpet"
           }
          ],
          "scattergeo": [
           {
            "marker": {
             "colorbar": {
              "outlinewidth": 0,
              "ticks": ""
             }
            },
            "type": "scattergeo"
           }
          ],
          "scattergl": [
           {
            "marker": {
             "colorbar": {
              "outlinewidth": 0,
              "ticks": ""
             }
            },
            "type": "scattergl"
           }
          ],
          "scattermapbox": [
           {
            "marker": {
             "colorbar": {
              "outlinewidth": 0,
              "ticks": ""
             }
            },
            "type": "scattermapbox"
           }
          ],
          "scatterpolar": [
           {
            "marker": {
             "colorbar": {
              "outlinewidth": 0,
              "ticks": ""
             }
            },
            "type": "scatterpolar"
           }
          ],
          "scatterpolargl": [
           {
            "marker": {
             "colorbar": {
              "outlinewidth": 0,
              "ticks": ""
             }
            },
            "type": "scatterpolargl"
           }
          ],
          "scatterternary": [
           {
            "marker": {
             "colorbar": {
              "outlinewidth": 0,
              "ticks": ""
             }
            },
            "type": "scatterternary"
           }
          ],
          "surface": [
           {
            "colorbar": {
             "outlinewidth": 0,
             "ticks": ""
            },
            "colorscale": [
             [
              0,
              "#0d0887"
             ],
             [
              0.1111111111111111,
              "#46039f"
             ],
             [
              0.2222222222222222,
              "#7201a8"
             ],
             [
              0.3333333333333333,
              "#9c179e"
             ],
             [
              0.4444444444444444,
              "#bd3786"
             ],
             [
              0.5555555555555556,
              "#d8576b"
             ],
             [
              0.6666666666666666,
              "#ed7953"
             ],
             [
              0.7777777777777778,
              "#fb9f3a"
             ],
             [
              0.8888888888888888,
              "#fdca26"
             ],
             [
              1,
              "#f0f921"
             ]
            ],
            "type": "surface"
           }
          ],
          "table": [
           {
            "cells": {
             "fill": {
              "color": "#EBF0F8"
             },
             "line": {
              "color": "white"
             }
            },
            "header": {
             "fill": {
              "color": "#C8D4E3"
             },
             "line": {
              "color": "white"
             }
            },
            "type": "table"
           }
          ]
         },
         "layout": {
          "annotationdefaults": {
           "arrowcolor": "#2a3f5f",
           "arrowhead": 0,
           "arrowwidth": 1
          },
          "autotypenumbers": "strict",
          "coloraxis": {
           "colorbar": {
            "outlinewidth": 0,
            "ticks": ""
           }
          },
          "colorscale": {
           "diverging": [
            [
             0,
             "#8e0152"
            ],
            [
             0.1,
             "#c51b7d"
            ],
            [
             0.2,
             "#de77ae"
            ],
            [
             0.3,
             "#f1b6da"
            ],
            [
             0.4,
             "#fde0ef"
            ],
            [
             0.5,
             "#f7f7f7"
            ],
            [
             0.6,
             "#e6f5d0"
            ],
            [
             0.7,
             "#b8e186"
            ],
            [
             0.8,
             "#7fbc41"
            ],
            [
             0.9,
             "#4d9221"
            ],
            [
             1,
             "#276419"
            ]
           ],
           "sequential": [
            [
             0,
             "#0d0887"
            ],
            [
             0.1111111111111111,
             "#46039f"
            ],
            [
             0.2222222222222222,
             "#7201a8"
            ],
            [
             0.3333333333333333,
             "#9c179e"
            ],
            [
             0.4444444444444444,
             "#bd3786"
            ],
            [
             0.5555555555555556,
             "#d8576b"
            ],
            [
             0.6666666666666666,
             "#ed7953"
            ],
            [
             0.7777777777777778,
             "#fb9f3a"
            ],
            [
             0.8888888888888888,
             "#fdca26"
            ],
            [
             1,
             "#f0f921"
            ]
           ],
           "sequentialminus": [
            [
             0,
             "#0d0887"
            ],
            [
             0.1111111111111111,
             "#46039f"
            ],
            [
             0.2222222222222222,
             "#7201a8"
            ],
            [
             0.3333333333333333,
             "#9c179e"
            ],
            [
             0.4444444444444444,
             "#bd3786"
            ],
            [
             0.5555555555555556,
             "#d8576b"
            ],
            [
             0.6666666666666666,
             "#ed7953"
            ],
            [
             0.7777777777777778,
             "#fb9f3a"
            ],
            [
             0.8888888888888888,
             "#fdca26"
            ],
            [
             1,
             "#f0f921"
            ]
           ]
          },
          "colorway": [
           "#636efa",
           "#EF553B",
           "#00cc96",
           "#ab63fa",
           "#FFA15A",
           "#19d3f3",
           "#FF6692",
           "#B6E880",
           "#FF97FF",
           "#FECB52"
          ],
          "font": {
           "color": "#2a3f5f"
          },
          "geo": {
           "bgcolor": "white",
           "lakecolor": "white",
           "landcolor": "#E5ECF6",
           "showlakes": true,
           "showland": true,
           "subunitcolor": "white"
          },
          "hoverlabel": {
           "align": "left"
          },
          "hovermode": "closest",
          "mapbox": {
           "style": "light"
          },
          "paper_bgcolor": "white",
          "plot_bgcolor": "#E5ECF6",
          "polar": {
           "angularaxis": {
            "gridcolor": "white",
            "linecolor": "white",
            "ticks": ""
           },
           "bgcolor": "#E5ECF6",
           "radialaxis": {
            "gridcolor": "white",
            "linecolor": "white",
            "ticks": ""
           }
          },
          "scene": {
           "xaxis": {
            "backgroundcolor": "#E5ECF6",
            "gridcolor": "white",
            "gridwidth": 2,
            "linecolor": "white",
            "showbackground": true,
            "ticks": "",
            "zerolinecolor": "white"
           },
           "yaxis": {
            "backgroundcolor": "#E5ECF6",
            "gridcolor": "white",
            "gridwidth": 2,
            "linecolor": "white",
            "showbackground": true,
            "ticks": "",
            "zerolinecolor": "white"
           },
           "zaxis": {
            "backgroundcolor": "#E5ECF6",
            "gridcolor": "white",
            "gridwidth": 2,
            "linecolor": "white",
            "showbackground": true,
            "ticks": "",
            "zerolinecolor": "white"
           }
          },
          "shapedefaults": {
           "line": {
            "color": "#2a3f5f"
           }
          },
          "ternary": {
           "aaxis": {
            "gridcolor": "white",
            "linecolor": "white",
            "ticks": ""
           },
           "baxis": {
            "gridcolor": "white",
            "linecolor": "white",
            "ticks": ""
           },
           "bgcolor": "#E5ECF6",
           "caxis": {
            "gridcolor": "white",
            "linecolor": "white",
            "ticks": ""
           }
          },
          "title": {
           "x": 0.05
          },
          "xaxis": {
           "automargin": true,
           "gridcolor": "white",
           "linecolor": "white",
           "ticks": "",
           "title": {
            "standoff": 15
           },
           "zerolinecolor": "white",
           "zerolinewidth": 2
          },
          "yaxis": {
           "automargin": true,
           "gridcolor": "white",
           "linecolor": "white",
           "ticks": "",
           "title": {
            "standoff": 15
           },
           "zerolinecolor": "white",
           "zerolinewidth": 2
          }
         }
        },
        "title": {
         "text": "Optimization History Plot"
        },
        "xaxis": {
         "title": {
          "text": "Trial"
         }
        },
        "yaxis": {
         "title": {
          "text": "Runtime"
         }
        }
       }
      }
     },
     "metadata": {},
     "output_type": "display_data"
    }
   ],
   "source": [
    "vis.plot_optimization_history(\n",
    "    study, \n",
    "    target=lambda t: t.values[0],\n",
    "    target_name=\"Max Fitness\"\n",
    ").show()\n",
    "vis.plot_optimization_history(\n",
    "    study, \n",
    "    target=lambda t: t.values[1],\n",
    "    target_name=\"Mean Fitness\"\n",
    ").show()\n",
    "vis.plot_optimization_history(\n",
    "    study, \n",
    "    target=lambda t: t.values[2],\n",
    "    target_name=\"Runtime\"\n",
    ").show()"
   ]
  },
  {
   "cell_type": "code",
   "execution_count": 9,
   "id": "2a002e4a",
   "metadata": {},
   "outputs": [
    {
     "data": {
      "text/plain": [
       "406"
      ]
     },
     "execution_count": 9,
     "metadata": {},
     "output_type": "execute_result"
    }
   ],
   "source": [
    "import gc \n",
    "gc.collect()"
   ]
  }
 ],
 "metadata": {
  "kernelspec": {
   "display_name": "TX_prediction",
   "language": "python",
   "name": "python3"
  },
  "language_info": {
   "codemirror_mode": {
    "name": "ipython",
    "version": 3
   },
   "file_extension": ".py",
   "mimetype": "text/x-python",
   "name": "python",
   "nbconvert_exporter": "python",
   "pygments_lexer": "ipython3",
   "version": "3.12.3"
  }
 },
 "nbformat": 4,
 "nbformat_minor": 5
}
