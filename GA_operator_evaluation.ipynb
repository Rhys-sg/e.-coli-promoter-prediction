{
 "cells": [
  {
   "cell_type": "code",
   "execution_count": 1,
   "id": "ee6a76fe",
   "metadata": {},
   "outputs": [
    {
     "name": "stderr",
     "output_type": "stream",
     "text": [
      "c:\\Users\\rsore\\anaconda3\\envs\\TX_prediction\\Lib\\site-packages\\tqdm\\auto.py:21: TqdmWarning: IProgress not found. Please update jupyter and ipywidgets. See https://ipywidgets.readthedocs.io/en/stable/user_install.html\n",
      "  from .autonotebook import tqdm as notebook_tqdm\n"
     ]
    }
   ],
   "source": [
    "import optuna\n",
    "import joblib\n",
    "import optuna.visualization as vis\n",
    "import time\n",
    "\n",
    "from Generators.GA.TestGeneticAlgorithm import GeneticAlgorithm\n",
    "from Generators.Operators.CrossoverMethod import CrossoverMethod\n",
    "from Generators.Operators.MutationRate import MutationRate\n",
    "from Generators.Operators.SelectionMethod import SelectionMethod"
   ]
  },
  {
   "cell_type": "code",
   "execution_count": 2,
   "id": "d9afbf8b",
   "metadata": {},
   "outputs": [],
   "source": [
    "# ------------------------ pareto_front optimization ------------------------\n",
    "\n",
    "\n",
    "# ----- Fixed experiment settings -----\n",
    "base_kwargs = {\n",
    "    \"cnn_model_path\": 'Models/CNN_6_1_2.keras',\n",
    "    \"masked_sequence\": \"AATACTAGAGGTCTTCCGACNNNNNNNNNNNNNNNNNNNNNNNNNNNNNNGTGTGGGCGGGAAGACAACTAGGGG\",\n",
    "    \"target_expression\": 1,\n",
    "    \"generations\": 100,\n",
    "    \"population_size\": 100,\n",
    "    \"track_history\": False,\n",
    "    \"track_convergence\": False,\n",
    "    \"elitism_rate\": 0,\n",
    "    \"survival_rate\": 0.5,\n",
    "    \"seed\": 42\n",
    "}\n",
    "\n",
    "NUM_LINEAGES = 5\n",
    "\n",
    "# ----- Objective Function -----\n",
    "def objective(trial):\n",
    "    # Mutation\n",
    "    mutation_method = trial.suggest_categorical(\"mutation_method\", MutationRate.get_all_methods())\n",
    "    mutation_prob = trial.suggest_float(\"mutation_prob\", 0, 1.0)\n",
    "    mutation_by_deletion_rate = trial.suggest_float(\"mutation_by_deletion_rate\", 0, 1.0)\n",
    "\n",
    "    mutation_rate = None\n",
    "    mutation_rate_start = None\n",
    "    mutation_rate_end = None\n",
    "    mutation_rate_degree = None\n",
    "\n",
    "    if mutation_method == \"mutConstant\":\n",
    "        mutation_rate = trial.suggest_float(\"mutation_rate\", 0, 1.0)\n",
    "    elif mutation_method in [\"mutLinear\", \"mutEntropy\"]:\n",
    "        mutation_rate_start = trial.suggest_float(\"mutation_rate_start\", 0, 1.0)\n",
    "        mutation_rate_end = trial.suggest_float(\"mutation_rate_end\", 0, 1.0)\n",
    "    elif mutation_method == \"mutExponential\":\n",
    "        mutation_rate_start = trial.suggest_float(\"mutation_rate_start\", 0, 1.0)\n",
    "        mutation_rate_end = trial.suggest_float(\"mutation_rate_end\", 0, 1.0)\n",
    "        mutation_rate_degree = trial.suggest_int(\"mutation_rate_degree\", 1, 4)\n",
    "\n",
    "    # Crossover\n",
    "    crossover_method = trial.suggest_categorical(\"crossover_method\", CrossoverMethod.get_all_methods())\n",
    "    crossover_rate = trial.suggest_float(\"crossover_rate\", 0, 1.0)\n",
    "    crossover_points = None\n",
    "    if crossover_method in [\"cxKPoint\", \"cxTwoPoint\"]:\n",
    "        crossover_points = trial.suggest_int(\"crossover_points\", 1, 4)\n",
    "\n",
    "    # Selection\n",
    "    selection_method = trial.suggest_categorical(\"selection_method\", SelectionMethod.get_all_methods())\n",
    "    boltzmann_temperature = None\n",
    "    tournsize = None\n",
    "    if selection_method == \"selBoltzmann\":\n",
    "        boltzmann_temperature = trial.suggest_float(\"boltzmann_temperature\", 0, 1.0)\n",
    "    elif selection_method in [\"selTournament\", \"selTournamentWithoutReplacement\"]:\n",
    "        tournsize = trial.suggest_int(\"tournsize\", 1, 10)\n",
    "\n",
    "    # Always-used parameters\n",
    "    elitism_rate = trial.suggest_float(\"elitism_rate\", 0, 1)\n",
    "    survival_rate = trial.suggest_float(\"survival_rate\", 0, 1)\n",
    "\n",
    "    # --- GA kwargs ---\n",
    "    kwargs = base_kwargs.copy()\n",
    "    kwargs.update({\n",
    "        \"mutation_method\": mutation_method,\n",
    "        \"mutation_prob\": mutation_prob,\n",
    "        \"mutation_by_deletion_rate\": mutation_by_deletion_rate,\n",
    "        \"crossover_method\": crossover_method,\n",
    "        \"crossover_rate\": crossover_rate,\n",
    "        \"selection_method\": selection_method,\n",
    "        \"elitism_rate\": elitism_rate,\n",
    "        \"survival_rate\": survival_rate\n",
    "    })\n",
    "\n",
    "    if mutation_rate is not None:\n",
    "        kwargs[\"mutation_rate\"] = mutation_rate\n",
    "    if mutation_rate_start is not None:\n",
    "        kwargs[\"mutation_rate_start\"] = mutation_rate_start\n",
    "    if mutation_rate_end is not None:\n",
    "        kwargs[\"mutation_rate_end\"] = mutation_rate_end\n",
    "    if mutation_rate_degree is not None:\n",
    "        kwargs[\"mutation_rate_degree\"] = mutation_rate_degree\n",
    "\n",
    "    if crossover_points is not None:\n",
    "        kwargs[\"crossover_points\"] = crossover_points\n",
    "\n",
    "    if boltzmann_temperature is not None:\n",
    "        kwargs[\"boltzmann_temperature\"] = boltzmann_temperature\n",
    "    if tournsize is not None:\n",
    "        kwargs[\"tournsize\"] = tournsize\n",
    "\n",
    "    # --- Run GA ---\n",
    "    try:\n",
    "        ga = GeneticAlgorithm(**kwargs)\n",
    "        start_time = time.time()\n",
    "        ga.run(lineages=NUM_LINEAGES)\n",
    "        end_time = time.time()\n",
    "        max_fitness = max(ga.best_fitnesses)\n",
    "        average_fitness = sum(ga.best_fitnesses) / len(ga.best_fitnesses)\n",
    "        runtime = end_time - start_time\n",
    "        return max_fitness, average_fitness, runtime\n",
    "    except Exception as e:\n",
    "        print(f\"Trial failed: {e}\")\n",
    "        return 0.0, 0.0, float(\"inf\")\n",
    "\n",
    "# ----- Run Optimization -----\n",
    "def run_optimization(n_trials=50):\n",
    "    study = optuna.create_study(directions=[\"maximize\", \"maximize\", \"minimize\"], sampler=optuna.samplers.TPESampler())\n",
    "    study.optimize(objective, n_trials=n_trials)\n",
    "\n",
    "    return study\n"
   ]
  },
  {
   "cell_type": "code",
   "execution_count": 3,
   "id": "af4d48e1",
   "metadata": {},
   "outputs": [
    {
     "name": "stderr",
     "output_type": "stream",
     "text": [
      "[I 2025-05-11 20:32:10,699] A new study created in memory with name: no-name-878b1a5f-35e4-4511-b570-54c0e2298c49\n",
      "[I 2025-05-11 20:32:37,309] Trial 0 finished with values: [0.7278436422348022, 0.7173630833625794, 26.43183946609497] and parameters: {'mutation_method': 'mutEntropy', 'mutation_prob': 0.7502196830487934, 'mutation_by_deletion_rate': 0.41852106822436086, 'mutation_rate_start': 0.9311477975368458, 'mutation_rate_end': 0.9217377046761324, 'crossover_method': 'cxOnePoint', 'crossover_rate': 0.6144312698049044, 'selection_method': 'selBest', 'elitism_rate': 0.5226421991002623, 'survival_rate': 0.987319369731687}.\n",
      "[I 2025-05-11 20:33:09,606] Trial 1 finished with values: [0.7588212490081787, 0.7058565378189087, 32.15183663368225] and parameters: {'mutation_method': 'mutConstant', 'mutation_prob': 0.8404065891923009, 'mutation_by_deletion_rate': 0.6406694443085853, 'mutation_rate': 0.05360811217034689, 'crossover_method': 'cxUniform', 'crossover_rate': 0.3134574460390277, 'selection_method': 'selStochasticUniversalSampling', 'elitism_rate': 0.5353900944952268, 'survival_rate': 0.0382868997282414}.\n",
      "[I 2025-05-11 20:33:40,702] Trial 2 finished with values: [0.6106458902359009, 0.5896970748901367, 30.86444878578186] and parameters: {'mutation_method': 'mutExponential', 'mutation_prob': 0.9129489971952728, 'mutation_by_deletion_rate': 0.11911068233071287, 'mutation_rate_start': 0.431657290010943, 'mutation_rate_end': 0.9407973890358179, 'mutation_rate_degree': 1, 'crossover_method': 'cxTwoPoint', 'crossover_rate': 0.4329178763245165, 'crossover_points': 1, 'selection_method': 'selNormRoulette', 'elitism_rate': 0.29834833035126673, 'survival_rate': 0.02351702719066029}.\n",
      "[I 2025-05-11 20:34:06,605] Trial 3 finished with values: [0.7704668641090393, 0.6904151916503907, 25.75602698326111] and parameters: {'mutation_method': 'mutConstant', 'mutation_prob': 0.4742387600659319, 'mutation_by_deletion_rate': 0.7348650533789207, 'mutation_rate': 0.9676134159440335, 'crossover_method': 'cxTwoPoint', 'crossover_rate': 0.31839742619532163, 'crossover_points': 2, 'selection_method': 'selRoulette', 'elitism_rate': 0.3392878752254671, 'survival_rate': 0.6012609697929668}.\n",
      "[I 2025-05-11 20:34:32,527] Trial 4 finished with values: [0.7855526208877563, 0.7310947775840759, 25.77109670639038] and parameters: {'mutation_method': 'mutConstant', 'mutation_prob': 0.8147199134168505, 'mutation_by_deletion_rate': 0.3842063447539349, 'mutation_rate': 0.4847961612758859, 'crossover_method': 'cxTwoPoint', 'crossover_rate': 0.5049666143376991, 'crossover_points': 4, 'selection_method': 'selBest', 'elitism_rate': 0.4590257345691281, 'survival_rate': 0.7528152581566717}.\n",
      "[I 2025-05-11 20:34:56,906] Trial 5 finished with values: [0.6472018957138062, 0.6194018483161926, 24.227615356445312] and parameters: {'mutation_method': 'mutConstant', 'mutation_prob': 0.3039886774069849, 'mutation_by_deletion_rate': 0.27922593095533155, 'mutation_rate': 0.5043983816025335, 'crossover_method': 'cxOnePoint', 'crossover_rate': 0.37947311985937904, 'selection_method': 'selTournamentWithoutReplacement', 'tournsize': 3, 'elitism_rate': 0.2539143659718174, 'survival_rate': 0.19490680244505587}.\n",
      "[I 2025-05-11 20:35:20,030] Trial 6 finished with values: [0.6176146268844604, 0.5983564972877502, 22.9801344871521] and parameters: {'mutation_method': 'mutEntropy', 'mutation_prob': 0.6535006839113269, 'mutation_by_deletion_rate': 0.3931022926115091, 'mutation_rate_start': 0.7866054678124218, 'mutation_rate_end': 0.33830074765189255, 'crossover_method': 'cxKPoint', 'crossover_rate': 0.7223410730949732, 'crossover_points': 1, 'selection_method': 'selStochasticUniversalSampling', 'elitism_rate': 0.6551321562535907, 'survival_rate': 0.17020934772683693}.\n",
      "[I 2025-05-11 20:35:41,089] Trial 7 finished with values: [0.6595203876495361, 0.6154430270195007, 20.911468982696533] and parameters: {'mutation_method': 'mutEntropy', 'mutation_prob': 0.2761560752072034, 'mutation_by_deletion_rate': 0.7022176713583942, 'mutation_rate_start': 0.6760430410117911, 'mutation_rate_end': 0.2615199297203541, 'crossover_method': 'cxKPoint', 'crossover_rate': 0.8410559344655071, 'crossover_points': 3, 'selection_method': 'selBest', 'elitism_rate': 0.8831415091846696, 'survival_rate': 0.6311563865505256}.\n",
      "[I 2025-05-11 20:36:08,002] Trial 8 finished with values: [0.8358239531517029, 0.7935378789901734, 26.76857829093933] and parameters: {'mutation_method': 'mutLinear', 'mutation_prob': 0.7582936005420714, 'mutation_by_deletion_rate': 0.23854462123117315, 'mutation_rate_start': 0.33260925956657983, 'mutation_rate_end': 0.16702505002526669, 'crossover_method': 'cxKPoint', 'crossover_rate': 0.005439601422436047, 'crossover_points': 1, 'selection_method': 'selTournament', 'tournsize': 9, 'elitism_rate': 0.2968932038589901, 'survival_rate': 0.6660564349514776}.\n",
      "[I 2025-05-11 20:36:37,178] Trial 9 finished with values: [0.7059294581413269, 0.6605339884757996, 29.030198335647583] and parameters: {'mutation_method': 'mutLinear', 'mutation_prob': 0.5542137193766543, 'mutation_by_deletion_rate': 0.05219462430846844, 'mutation_rate_start': 0.5884741441270753, 'mutation_rate_end': 0.9555618819245146, 'crossover_method': 'cxUniform', 'crossover_rate': 0.5070502561523005, 'selection_method': 'selNormRoulette', 'elitism_rate': 0.8000992271310291, 'survival_rate': 0.9835609926946999}.\n",
      "[I 2025-05-11 20:37:13,546] Trial 10 finished with values: [0.6898598074913025, 0.6463033795356751, 36.06828713417053] and parameters: {'mutation_method': 'mutLinear', 'mutation_prob': 0.07387433921273334, 'mutation_by_deletion_rate': 0.9925003371397549, 'mutation_rate_start': 0.02076786639918532, 'mutation_rate_end': 0.005167750845288199, 'crossover_method': 'cxKPoint', 'crossover_rate': 0.010786353809021675, 'crossover_points': 2, 'selection_method': 'selTournament', 'tournsize': 10, 'elitism_rate': 0.007998110327579244, 'survival_rate': 0.4033422006682724}.\n",
      "[I 2025-05-11 20:37:54,877] Trial 11 finished with values: [0.923918604850769, 0.8391998887062073, 41.04654264450073] and parameters: {'mutation_method': 'mutLinear', 'mutation_prob': 0.9972720568071717, 'mutation_by_deletion_rate': 0.23036547022651194, 'mutation_rate_start': 0.2716226253477045, 'mutation_rate_end': 0.027950562686698766, 'crossover_method': 'cxKPoint', 'crossover_rate': 0.05608825247669138, 'crossover_points': 4, 'selection_method': 'selTournament', 'tournsize': 9, 'elitism_rate': 0.07884562816541624, 'survival_rate': 0.7629746214466814}.\n",
      "[I 2025-05-11 20:38:36,139] Trial 12 finished with values: [0.8956600427627563, 0.8491518497467041, 41.03565549850464] and parameters: {'mutation_method': 'mutLinear', 'mutation_prob': 0.9819365445375368, 'mutation_by_deletion_rate': 0.19540522987303344, 'mutation_rate_start': 0.18414394546821544, 'mutation_rate_end': 0.03751556972142428, 'crossover_method': 'cxKPoint', 'crossover_rate': 0.0018307391073909421, 'crossover_points': 4, 'selection_method': 'selTournament', 'tournsize': 9, 'elitism_rate': 0.05257648286443003, 'survival_rate': 0.7762406950234005}.\n",
      "[I 2025-05-11 20:39:22,359] Trial 13 finished with values: [0.6457276940345764, 0.6243708848953247, 45.918150424957275] and parameters: {'mutation_method': 'mutLinear', 'mutation_prob': 0.9821494892366078, 'mutation_by_deletion_rate': 0.230911914784004, 'mutation_rate_start': 0.34274162039412237, 'mutation_rate_end': 0.6024596020007837, 'crossover_method': 'cxKPoint', 'crossover_rate': 0.16627318531703789, 'crossover_points': 3, 'selection_method': 'selRandom', 'elitism_rate': 0.137966779707615, 'survival_rate': 0.40395646886065706}.\n",
      "[I 2025-05-11 20:40:01,418] Trial 14 finished with values: [0.839830756187439, 0.7992067337036133, 38.809659004211426] and parameters: {'mutation_method': 'mutLinear', 'mutation_prob': 0.6877152054866291, 'mutation_by_deletion_rate': 0.04077603835693053, 'mutation_rate_start': 0.15512516563229695, 'mutation_rate_end': 0.21092785762164623, 'crossover_method': 'cxKPoint', 'crossover_rate': 0.14842128302046664, 'crossover_points': 1, 'selection_method': 'selTournament', 'tournsize': 7, 'elitism_rate': 0.2026395906375509, 'survival_rate': 0.7899900139501526}.\n",
      "[I 2025-05-11 20:40:37,694] Trial 15 finished with values: [0.7118198871612549, 0.6940473318099976, 35.982830286026] and parameters: {'mutation_method': 'mutExponential', 'mutation_prob': 0.5540606664067688, 'mutation_by_deletion_rate': 0.5195257542521955, 'mutation_rate_start': 0.30928805921133495, 'mutation_rate_end': 0.5609387976154518, 'mutation_rate_degree': 4, 'crossover_method': 'cxKPoint', 'crossover_rate': 0.14734456093241322, 'crossover_points': 2, 'selection_method': 'selBoltzmann', 'boltzmann_temperature': 0.12151850682547427, 'elitism_rate': 0.3917103502707659, 'survival_rate': 0.512301959995284}.\n",
      "[I 2025-05-11 20:41:21,305] Trial 16 finished with values: [0.8492773771286011, 0.8099842548370362, 43.38106560707092] and parameters: {'mutation_method': 'mutLinear', 'mutation_prob': 0.8734835899863495, 'mutation_by_deletion_rate': 0.29071980655678004, 'mutation_rate_start': 0.5109341786011371, 'mutation_rate_end': 0.15465714870043623, 'crossover_method': 'cxOnePoint', 'crossover_rate': 0.19570294311080616, 'selection_method': 'selTournament', 'tournsize': 6, 'elitism_rate': 0.12766769252325016, 'survival_rate': 0.8808306588713616}.\n",
      "[I 2025-05-11 20:41:56,332] Trial 17 finished with values: [0.7211655974388123, 0.6768061637878418, 34.762670040130615] and parameters: {'mutation_method': 'mutLinear', 'mutation_prob': 0.3701309605311062, 'mutation_by_deletion_rate': 0.555209398063415, 'mutation_rate_start': 0.26470118644809226, 'mutation_rate_end': 0.38358995691795295, 'crossover_method': 'cxUniform', 'crossover_rate': 0.9156895711286334, 'selection_method': 'selTournament', 'tournsize': 8, 'elitism_rate': 0.6476999709447189, 'survival_rate': 0.6526686466604352}.\n",
      "[I 2025-05-11 20:42:38,302] Trial 18 finished with values: [0.6942210793495178, 0.65797039270401, 41.72091770172119] and parameters: {'mutation_method': 'mutExponential', 'mutation_prob': 0.7268191600668945, 'mutation_by_deletion_rate': 0.14630052581326447, 'mutation_rate_start': 0.09171311333899101, 'mutation_rate_end': 0.6860149410682572, 'mutation_rate_degree': 1, 'crossover_method': 'cxKPoint', 'crossover_rate': 0.06982610674739777, 'crossover_points': 3, 'selection_method': 'selRandom', 'elitism_rate': 0.17064310788489412, 'survival_rate': 0.43118106273438095}.\n",
      "[I 2025-05-11 20:43:15,083] Trial 19 finished with values: [0.7342208027839661, 0.705997633934021, 36.47714805603027] and parameters: {'mutation_method': 'mutLinear', 'mutation_prob': 0.6195814823499455, 'mutation_by_deletion_rate': 0.9003359254711417, 'mutation_rate_start': 0.4156124180652234, 'mutation_rate_end': 0.13608400517970787, 'crossover_method': 'cxKPoint', 'crossover_rate': 0.27407931490294435, 'crossover_points': 4, 'selection_method': 'selTournamentWithoutReplacement', 'tournsize': 2, 'elitism_rate': 0.4400539248714448, 'survival_rate': 0.5446705976768951}.\n",
      "[I 2025-05-11 20:43:53,610] Trial 20 finished with values: [0.6888698935508728, 0.6392642259597778, 38.24952459335327] and parameters: {'mutation_method': 'mutLinear', 'mutation_prob': 0.0943507822092402, 'mutation_by_deletion_rate': 0.3379140322608271, 'mutation_rate_start': 0.2535558340982569, 'mutation_rate_end': 0.43120031859030944, 'crossover_method': 'cxKPoint', 'crossover_rate': 0.07303479011363981, 'crossover_points': 2, 'selection_method': 'selRoulette', 'elitism_rate': 0.07511179147980508, 'survival_rate': 0.69701369882658}.\n",
      "[I 2025-05-11 20:44:32,730] Trial 21 finished with values: [0.7742751240730286, 0.7435018181800842, 38.867915868759155] and parameters: {'mutation_method': 'mutLinear', 'mutation_prob': 0.7718361976814522, 'mutation_by_deletion_rate': 0.4254679114099146, 'mutation_rate_start': 0.5815969402567647, 'mutation_rate_end': 0.7000453991304378, 'crossover_method': 'cxTwoPoint', 'crossover_rate': 0.5550890550957199, 'crossover_points': 4, 'selection_method': 'selTournament', 'tournsize': 4, 'elitism_rate': 0.32233897510803344, 'survival_rate': 0.7706058256969637}.\n",
      "[I 2025-05-11 20:45:08,661] Trial 22 finished with values: [0.8319792151451111, 0.7838121056556702, 35.689494609832764] and parameters: {'mutation_method': 'mutConstant', 'mutation_prob': 0.8340452909855601, 'mutation_by_deletion_rate': 0.0016011399463516929, 'mutation_rate': 0.022278685878354354, 'crossover_method': 'cxTwoPoint', 'crossover_rate': 0.23734573143427223, 'crossover_points': 4, 'selection_method': 'selBoltzmann', 'boltzmann_temperature': 0.9892904365617449, 'elitism_rate': 0.23236945374370033, 'survival_rate': 0.8505775635235606}.\n",
      "[I 2025-05-11 20:45:43,892] Trial 23 finished with values: [0.8673994541168213, 0.7964959979057312, 34.960737228393555] and parameters: {'mutation_method': 'mutLinear', 'mutation_prob': 0.9972610603080143, 'mutation_by_deletion_rate': 0.17670504237167, 'mutation_rate_start': 0.000804960856217618, 'mutation_rate_end': 0.0798110503467153, 'crossover_method': 'cxKPoint', 'crossover_rate': 0.08560173962296976, 'crossover_points': 1, 'selection_method': 'selTournament', 'tournsize': 10, 'elitism_rate': 0.45430397423666785, 'survival_rate': 0.7027737504490086}.\n",
      "[I 2025-05-11 20:46:18,291] Trial 24 finished with values: [0.9007651805877686, 0.8404918670654297, 34.14579224586487] and parameters: {'mutation_method': 'mutLinear', 'mutation_prob': 0.9290120509716085, 'mutation_by_deletion_rate': 0.13521077317922242, 'mutation_rate_start': 0.023174070395484025, 'mutation_rate_end': 0.09461408317455078, 'crossover_method': 'cxKPoint', 'crossover_rate': 0.08354995840534381, 'crossover_points': 1, 'selection_method': 'selTournament', 'tournsize': 10, 'elitism_rate': 0.6067077400215346, 'survival_rate': 0.8503107952283073}.\n",
      "[I 2025-05-11 20:46:54,023] Trial 25 finished with values: [0.8446002006530762, 0.8117538690567017, 35.437535762786865] and parameters: {'mutation_method': 'mutExponential', 'mutation_prob': 0.463775238075715, 'mutation_by_deletion_rate': 0.10167413881467757, 'mutation_rate_start': 0.12411583128986547, 'mutation_rate_end': 0.30846745983006024, 'mutation_rate_degree': 4, 'crossover_method': 'cxUniform', 'crossover_rate': 0.7392593232176882, 'selection_method': 'selBest', 'elitism_rate': 0.6404471913767397, 'survival_rate': 0.8920069415689775}.\n",
      "[I 2025-05-11 20:47:31,112] Trial 26 finished with values: [0.581763505935669, 0.564957070350647, 36.82492756843567] and parameters: {'mutation_method': 'mutEntropy', 'mutation_prob': 0.7939724637335964, 'mutation_by_deletion_rate': 0.33211810472099046, 'mutation_rate_start': 0.9962808346293649, 'mutation_rate_end': 0.4659834291327136, 'crossover_method': 'cxOnePoint', 'crossover_rate': 0.4083688937679444, 'selection_method': 'selTournament', 'tournsize': 5, 'elitism_rate': 0.5750422047204089, 'survival_rate': 0.5656607271434297}.\n",
      "[I 2025-05-11 20:48:03,733] Trial 27 finished with values: [0.6221267580986023, 0.6055234432220459, 32.32112240791321] and parameters: {'mutation_method': 'mutLinear', 'mutation_prob': 0.8868454383212858, 'mutation_by_deletion_rate': 0.4738039926033108, 'mutation_rate_start': 0.7809930903221188, 'mutation_rate_end': 0.20986934958733175, 'crossover_method': 'cxKPoint', 'crossover_rate': 0.2275438501837126, 'crossover_points': 1, 'selection_method': 'selBoltzmann', 'boltzmann_temperature': 0.6996898434863744, 'elitism_rate': 0.8008861731074964, 'survival_rate': 0.2784263574550826}.\n",
      "[I 2025-05-11 20:48:36,824] Trial 28 finished with values: [0.5268564820289612, 0.5067627429962158, 32.834874629974365] and parameters: {'mutation_method': 'mutConstant', 'mutation_prob': 0.6052275053107888, 'mutation_by_deletion_rate': 0.08279229578248076, 'mutation_rate': 0.9716489926143702, 'crossover_method': 'cxTwoPoint', 'crossover_rate': 0.11883357501862407, 'crossover_points': 1, 'selection_method': 'selStochasticUniversalSampling', 'elitism_rate': 0.974254460805399, 'survival_rate': 0.9250052705732855}.\n",
      "[I 2025-05-11 20:49:10,313] Trial 29 finished with values: [0.7991272211074829, 0.7718638181686401, 33.2280912399292] and parameters: {'mutation_method': 'mutEntropy', 'mutation_prob': 0.7308358123145066, 'mutation_by_deletion_rate': 0.39672110736964616, 'mutation_rate_start': 0.39010376385805373, 'mutation_rate_end': 0.12300176978036442, 'crossover_method': 'cxOnePoint', 'crossover_rate': 0.6632718370234191, 'selection_method': 'selBest', 'elitism_rate': 0.7614169558392022, 'survival_rate': 0.9792705384675913}.\n",
      "[I 2025-05-11 20:49:45,465] Trial 30 finished with values: [0.7315282821655273, 0.6730147123336792, 34.91692352294922] and parameters: {'mutation_method': 'mutLinear', 'mutation_prob': 0.9162213328301341, 'mutation_by_deletion_rate': 0.2689751478463883, 'mutation_rate_start': 0.5022701594005101, 'mutation_rate_end': 0.26426982758941125, 'crossover_method': 'cxKPoint', 'crossover_rate': 0.9745502418950645, 'crossover_points': 2, 'selection_method': 'selNormRoulette', 'elitism_rate': 0.4856689745424031, 'survival_rate': 0.460975226617091}.\n",
      "[I 2025-05-11 20:50:19,753] Trial 31 finished with values: [0.8806635141372681, 0.8393709421157837, 34.016571044921875] and parameters: {'mutation_method': 'mutLinear', 'mutation_prob': 0.9528086030828742, 'mutation_by_deletion_rate': 0.21839488437430893, 'mutation_rate_start': 0.2184155130604776, 'mutation_rate_end': 0.008314091937721702, 'crossover_method': 'cxKPoint', 'crossover_rate': 0.003016067306132797, 'crossover_points': 1, 'selection_method': 'selTournament', 'tournsize': 8, 'elitism_rate': 0.5736017926838887, 'survival_rate': 0.7193099157477512}.\n",
      "[I 2025-05-11 20:50:29,058] Trial 32 finished with values: [0.7039453983306885, 0.6345831274986267, 9.065346717834473] and parameters: {'mutation_method': 'mutLinear', 'mutation_prob': 0.0014623594792664285, 'mutation_by_deletion_rate': 0.1526570427109354, 'mutation_rate_start': 0.10997596419618011, 'mutation_rate_end': 0.8384533280385608, 'crossover_method': 'cxUniform', 'crossover_rate': 0.5967452814188627, 'selection_method': 'selTournament', 'tournsize': 10, 'elitism_rate': 0.38181972200096803, 'survival_rate': 0.8251889635274392}.\n",
      "[I 2025-05-11 20:51:05,396] Trial 33 finished with values: [0.827492356300354, 0.7861511468887329, 36.100486755371094] and parameters: {'mutation_method': 'mutLinear', 'mutation_prob': 0.6963639348272717, 'mutation_by_deletion_rate': 0.15130202748757354, 'mutation_rate_start': 0.07419393614143444, 'mutation_rate_end': 0.7032097077432694, 'crossover_method': 'cxUniform', 'crossover_rate': 0.5748600761035493, 'selection_method': 'selTournament', 'tournsize': 10, 'elitism_rate': 0.3417164976169443, 'survival_rate': 0.8216712542393412}.\n",
      "[I 2025-05-11 20:51:16,617] Trial 34 finished with values: [0.5610727667808533, 0.5416243433952331, 10.967486381530762] and parameters: {'mutation_method': 'mutExponential', 'mutation_prob': 0.006099679880187408, 'mutation_by_deletion_rate': 0.6051531857025192, 'mutation_rate_start': 0.30088322770467524, 'mutation_rate_end': 0.881939021040194, 'mutation_rate_degree': 2, 'crossover_method': 'cxUniform', 'crossover_rate': 0.3213191209867731, 'selection_method': 'selTournament', 'tournsize': 8, 'elitism_rate': 0.5280406858283941, 'survival_rate': 0.6705088982635847}.\n",
      "[I 2025-05-11 20:51:49,265] Trial 35 finished with values: [0.6824824810028076, 0.6554707765579224, 32.37101864814758] and parameters: {'mutation_method': 'mutLinear', 'mutation_prob': 0.2212683042589294, 'mutation_by_deletion_rate': 0.783271522254354, 'mutation_rate_start': 0.07480088859195458, 'mutation_rate_end': 0.8535560651923803, 'crossover_method': 'cxUniform', 'crossover_rate': 0.057721670749054835, 'selection_method': 'selRoulette', 'elitism_rate': 0.38842186983103766, 'survival_rate': 0.8311543626602782}.\n",
      "[I 2025-05-11 20:52:20,424] Trial 36 finished with values: [0.7771769165992737, 0.7364848375320434, 30.925816535949707] and parameters: {'mutation_method': 'mutLinear', 'mutation_prob': 0.463041030934073, 'mutation_by_deletion_rate': 0.11343013259699453, 'mutation_rate_start': 0.23403300436025595, 'mutation_rate_end': 0.09656494857713212, 'crossover_method': 'cxKPoint', 'crossover_rate': 0.47127591903124333, 'crossover_points': 1, 'selection_method': 'selTournamentWithoutReplacement', 'tournsize': 9, 'elitism_rate': 0.7149242767355064, 'survival_rate': 0.5978139786869099}.\n",
      "[I 2025-05-11 20:52:59,556] Trial 37 finished with values: [0.7776364088058472, 0.7443564295768738, 38.89921522140503] and parameters: {'mutation_method': 'mutEntropy', 'mutation_prob': 0.8599952731486534, 'mutation_by_deletion_rate': 0.46151387722997206, 'mutation_rate_start': 0.17407275532056773, 'mutation_rate_end': 0.18714059715758402, 'crossover_method': 'cxOnePoint', 'crossover_rate': 0.3492580012406005, 'selection_method': 'selRandom', 'elitism_rate': 0.2836299877184763, 'survival_rate': 0.33401794809687424}.\n",
      "[I 2025-05-11 20:53:34,062] Trial 38 finished with values: [0.654380202293396, 0.6372327446937561, 34.239696741104126] and parameters: {'mutation_method': 'mutConstant', 'mutation_prob': 0.39810690383474273, 'mutation_by_deletion_rate': 0.34372588434363793, 'mutation_rate': 0.5396643942582329, 'crossover_method': 'cxKPoint', 'crossover_rate': 0.7942373076912052, 'crossover_points': 2, 'selection_method': 'selStochasticUniversalSampling', 'elitism_rate': 0.3938812394557551, 'survival_rate': 0.9316366255005377}.\n",
      "[I 2025-05-11 20:54:11,152] Trial 39 finished with values: [0.6863411068916321, 0.671571695804596, 36.83689069747925] and parameters: {'mutation_method': 'mutExponential', 'mutation_prob': 0.931728049428689, 'mutation_by_deletion_rate': 0.2589894618699343, 'mutation_rate_start': 0.3365933621358626, 'mutation_rate_end': 0.8070426240499147, 'mutation_rate_degree': 3, 'crossover_method': 'cxTwoPoint', 'crossover_rate': 0.6504146724650745, 'crossover_points': 1, 'selection_method': 'selNormRoulette', 'elitism_rate': 0.5399543518785768, 'survival_rate': 0.728594911254021}.\n",
      "[I 2025-05-11 20:54:42,355] Trial 40 finished with values: [0.7159580588340759, 0.6311599254608155, 30.973251819610596] and parameters: {'mutation_method': 'mutLinear', 'mutation_prob': 0.18606768709484578, 'mutation_by_deletion_rate': 0.004363200005122803, 'mutation_rate_start': 0.4336379385564314, 'mutation_rate_end': 0.5390332779580302, 'crossover_method': 'cxUniform', 'crossover_rate': 0.284282940182501, 'selection_method': 'selTournament', 'tournsize': 1, 'elitism_rate': 0.5968091852713969, 'survival_rate': 0.61988825048517}.\n",
      "[I 2025-05-11 20:55:14,335] Trial 41 finished with values: [0.7473331093788147, 0.707270348072052, 31.74371314048767] and parameters: {'mutation_method': 'mutConstant', 'mutation_prob': 0.8161277605465931, 'mutation_by_deletion_rate': 0.17946726275183902, 'mutation_rate': 0.30684202161398555, 'crossover_method': 'cxKPoint', 'crossover_rate': 0.4862807115242817, 'crossover_points': 3, 'selection_method': 'selTournament', 'tournsize': 9, 'elitism_rate': 0.6800408133157438, 'survival_rate': 0.1157903913602415}.\n",
      "[I 2025-05-11 20:55:50,554] Trial 42 finished with values: [0.8186487555503845, 0.7788805961608887, 35.9852192401886] and parameters: {'mutation_method': 'mutLinear', 'mutation_prob': 0.9145200309659494, 'mutation_by_deletion_rate': 0.06914546843880029, 'mutation_rate_start': 0.039254979324673395, 'mutation_rate_end': 0.3857856716406838, 'crossover_method': 'cxKPoint', 'crossover_rate': 0.05147627412036502, 'crossover_points': 2, 'selection_method': 'selBest', 'elitism_rate': 0.4635465697802953, 'survival_rate': 0.7640267263587476}.\n",
      "[I 2025-05-11 20:56:21,168] Trial 43 finished with values: [0.7312736511230469, 0.6758518695831299, 30.359400510787964] and parameters: {'mutation_method': 'mutLinear', 'mutation_prob': 0.7754989627999205, 'mutation_by_deletion_rate': 0.22882171167672297, 'mutation_rate_start': 0.13252330290695594, 'mutation_rate_end': 0.2676430591595018, 'crossover_method': 'cxTwoPoint', 'crossover_rate': 0.5546351165157327, 'crossover_points': 1, 'selection_method': 'selTournament', 'tournsize': 10, 'elitism_rate': 0.8870379911641919, 'survival_rate': 0.8715509880427355}.\n",
      "[I 2025-05-11 20:57:01,081] Trial 44 finished with values: [0.6001713275909424, 0.572340977191925, 39.66998481750488] and parameters: {'mutation_method': 'mutEntropy', 'mutation_prob': 0.5229875610057956, 'mutation_by_deletion_rate': 0.3008277839496161, 'mutation_rate_start': 0.8128944152527391, 'mutation_rate_end': 0.9836030460895868, 'crossover_method': 'cxKPoint', 'crossover_rate': 0.4312752126380688, 'crossover_points': 3, 'selection_method': 'selRoulette', 'elitism_rate': 0.26576182642902274, 'survival_rate': 0.9999175828883891}.\n",
      "[I 2025-05-11 20:57:35,498] Trial 45 finished with values: [0.8431911468505859, 0.7808421611785888, 34.149587631225586] and parameters: {'mutation_method': 'mutLinear', 'mutation_prob': 0.8379350463825421, 'mutation_by_deletion_rate': 0.11793481973769383, 'mutation_rate_start': 0.20542324637761913, 'mutation_rate_end': 0.08287222424425633, 'crossover_method': 'cxUniform', 'crossover_rate': 0.1082964704348156, 'selection_method': 'selTournament', 'tournsize': 9, 'elitism_rate': 0.6042169453092883, 'survival_rate': 0.8005004487535287}.\n",
      "[I 2025-05-11 20:58:09,822] Trial 46 finished with values: [0.6889136433601379, 0.6078521370887756, 34.06014442443848] and parameters: {'mutation_method': 'mutConstant', 'mutation_prob': 0.34876045852141047, 'mutation_by_deletion_rate': 0.1532639131327535, 'mutation_rate': 0.7289401296235, 'crossover_method': 'cxKPoint', 'crossover_rate': 0.6108923701666209, 'crossover_points': 1, 'selection_method': 'selTournamentWithoutReplacement', 'tournsize': 7, 'elitism_rate': 0.42490414558933176, 'survival_rate': 0.9336575814832099}.\n",
      "[I 2025-05-11 20:58:46,262] Trial 47 finished with values: [0.8410845994949341, 0.7910833120346069, 36.20443105697632] and parameters: {'mutation_method': 'mutLinear', 'mutation_prob': 0.6394718523411634, 'mutation_by_deletion_rate': 0.2216779140903231, 'mutation_rate_start': 0.059616112038114046, 'mutation_rate_end': 0.05685418310101994, 'crossover_method': 'cxOnePoint', 'crossover_rate': 0.187229639138486, 'selection_method': 'selTournament', 'tournsize': 10, 'elitism_rate': 0.35453330924003607, 'survival_rate': 0.005675611919139012}.\n",
      "[I 2025-05-11 20:59:23,464] Trial 48 finished with values: [0.6756318807601929, 0.6636139273643493, 36.92072129249573] and parameters: {'mutation_method': 'mutLinear', 'mutation_prob': 0.9576899028724433, 'mutation_by_deletion_rate': 0.04191443538263906, 'mutation_rate_start': 0.12804890669698527, 'mutation_rate_end': 0.35165447618765333, 'crossover_method': 'cxKPoint', 'crossover_rate': 0.042417598317544325, 'crossover_points': 1, 'selection_method': 'selRandom', 'elitism_rate': 0.5113071375432007, 'survival_rate': 0.7315371644674498}.\n",
      "[I 2025-05-11 21:00:08,090] Trial 49 finished with values: [0.6365086436271667, 0.6165026307106019, 44.36992931365967] and parameters: {'mutation_method': 'mutLinear', 'mutation_prob': 0.8759799480894866, 'mutation_by_deletion_rate': 0.8377800509305462, 'mutation_rate_start': 0.00020863416896674258, 'mutation_rate_end': 0.1595599853126441, 'crossover_method': 'cxKPoint', 'crossover_rate': 0.1389905397482766, 'crossover_points': 2, 'selection_method': 'selStochasticUniversalSampling', 'elitism_rate': 0.006767582682113471, 'survival_rate': 0.6608375039934543}.\n",
      "[I 2025-05-11 21:00:45,307] Trial 50 finished with values: [0.7879999876022339, 0.7271000146865845, 36.93705725669861] and parameters: {'mutation_method': 'mutExponential', 'mutation_prob': 0.1657851043646298, 'mutation_by_deletion_rate': 0.3509584257388156, 'mutation_rate_start': 0.6884137468576331, 'mutation_rate_end': 0.7658256044419851, 'mutation_rate_degree': 3, 'crossover_method': 'cxUniform', 'crossover_rate': 0.8538276655890157, 'selection_method': 'selTournament', 'tournsize': 7, 'elitism_rate': 0.20403540505767168, 'survival_rate': 0.7595040707481207}.\n",
      "[I 2025-05-11 21:01:29,853] Trial 51 finished with values: [0.923918604850769, 0.8450579524040223, 44.26289939880371] and parameters: {'mutation_method': 'mutLinear', 'mutation_prob': 0.9724134473200928, 'mutation_by_deletion_rate': 0.1865662871079647, 'mutation_rate_start': 0.1776760399937272, 'mutation_rate_end': 0.021495672838030666, 'crossover_method': 'cxKPoint', 'crossover_rate': 0.01884623749434998, 'crossover_points': 4, 'selection_method': 'selTournament', 'tournsize': 9, 'elitism_rate': 0.08693222344646767, 'survival_rate': 0.8103851555137289}.\n",
      "[I 2025-05-11 21:02:03,954] Trial 52 finished with values: [0.7397379279136658, 0.708776593208313, 33.8101692199707] and parameters: {'mutation_method': 'mutLinear', 'mutation_prob': 0.5756174993679118, 'mutation_by_deletion_rate': 0.9852641969022281, 'mutation_rate_start': 0.36962269344470816, 'mutation_rate_end': 0.05105598066454019, 'crossover_method': 'cxKPoint', 'crossover_rate': 0.693902501056183, 'crossover_points': 1, 'selection_method': 'selTournament', 'tournsize': 9, 'elitism_rate': 0.718999643440627, 'survival_rate': 0.9105068780171406}.\n",
      "[I 2025-05-11 21:02:41,233] Trial 53 finished with values: [0.7891584634780884, 0.7349591135978699, 36.99980401992798] and parameters: {'mutation_method': 'mutLinear', 'mutation_prob': 0.2720924548784479, 'mutation_by_deletion_rate': 0.19442037165330134, 'mutation_rate_start': 0.2963463362918685, 'mutation_rate_end': 0.5975644740033781, 'crossover_method': 'cxTwoPoint', 'crossover_rate': 0.3818705121123649, 'crossover_points': 4, 'selection_method': 'selBoltzmann', 'boltzmann_temperature': 0.0578534077031827, 'elitism_rate': 0.10460767674435478, 'survival_rate': 0.8703984303668656}.\n",
      "[I 2025-05-11 21:03:17,528] Trial 54 finished with values: [0.7070520520210266, 0.6644346594810486, 36.030149936676025] and parameters: {'mutation_method': 'mutLinear', 'mutation_prob': 0.8881998907827173, 'mutation_by_deletion_rate': 0.6563669158369068, 'mutation_rate_start': 0.10345241081753331, 'mutation_rate_end': 0.30104651746335526, 'crossover_method': 'cxKPoint', 'crossover_rate': 0.09013658721191413, 'crossover_points': 1, 'selection_method': 'selNormRoulette', 'elitism_rate': 0.623024620531283, 'survival_rate': 0.5098234309483838}.\n",
      "[I 2025-05-11 21:03:54,129] Trial 55 finished with values: [0.7364332675933838, 0.7123331427574158, 36.32043433189392] and parameters: {'mutation_method': 'mutConstant', 'mutation_prob': 0.993572807883533, 'mutation_by_deletion_rate': 0.2959958412619087, 'mutation_rate': 0.27471592052564586, 'crossover_method': 'cxKPoint', 'crossover_rate': 0.18380463698622762, 'crossover_points': 2, 'selection_method': 'selTournament', 'tournsize': 10, 'elitism_rate': 0.6775422709152031, 'survival_rate': 0.7745009794883313}.\n",
      "[I 2025-05-11 21:04:33,633] Trial 56 finished with values: [0.7811287641525269, 0.7625243186950683, 39.224778175354004] and parameters: {'mutation_method': 'mutEntropy', 'mutation_prob': 0.6865678417652218, 'mutation_by_deletion_rate': 0.13729007461410475, 'mutation_rate_start': 0.04204518120125504, 'mutation_rate_end': 0.23253725468293715, 'crossover_method': 'cxOnePoint', 'crossover_rate': 0.00975405003621925, 'selection_method': 'selTournament', 'tournsize': 8, 'elitism_rate': 0.3085093402985588, 'survival_rate': 0.9668840757321682}.\n",
      "[I 2025-05-11 21:05:12,716] Trial 57 finished with values: [0.8338178396224976, 0.7573147654533386, 38.58611798286438] and parameters: {'mutation_method': 'mutLinear', 'mutation_prob': 0.4324462256807633, 'mutation_by_deletion_rate': 0.2545311250797209, 'mutation_rate_start': 0.4694700554742385, 'mutation_rate_end': 0.17224232498755745, 'crossover_method': 'cxKPoint', 'crossover_rate': 0.5194792327529154, 'crossover_points': 3, 'selection_method': 'selBest', 'elitism_rate': 0.1673964005865306, 'survival_rate': 0.5766424812481666}.\n",
      "[I 2025-05-11 21:05:57,195] Trial 58 finished with values: [0.8410730361938477, 0.8142565727233887, 44.18554925918579] and parameters: {'mutation_method': 'mutLinear', 'mutation_prob': 0.7466737255818626, 'mutation_by_deletion_rate': 0.06434469602464887, 'mutation_rate_start': 0.5964187500559917, 'mutation_rate_end': 0.10806100203228483, 'crossover_method': 'cxUniform', 'crossover_rate': 0.25401953200371813, 'selection_method': 'selTournamentWithoutReplacement', 'tournsize': 5, 'elitism_rate': 0.053276686305239185, 'survival_rate': 0.8398030416694591}.\n",
      "[I 2025-05-11 21:06:36,073] Trial 59 finished with values: [0.7159609794616699, 0.6445376753807068, 38.5636785030365] and parameters: {'mutation_method': 'mutExponential', 'mutation_prob': 0.8173187704879751, 'mutation_by_deletion_rate': 0.525406982925554, 'mutation_rate_start': 0.2679696546732775, 'mutation_rate_end': 0.4994093337670635, 'mutation_rate_degree': 2, 'crossover_method': 'cxTwoPoint', 'crossover_rate': 0.7382167596379878, 'crossover_points': 1, 'selection_method': 'selRoulette', 'elitism_rate': 0.5544768218420898, 'survival_rate': 0.24418172533903026}.\n",
      "[I 2025-05-11 21:07:21,024] Trial 60 finished with values: [0.733029842376709, 0.7041908860206604, 44.6192946434021] and parameters: {'mutation_method': 'mutLinear', 'mutation_prob': 0.9365845742781858, 'mutation_by_deletion_rate': 0.38748415488988774, 'mutation_rate_start': 0.18998937495594395, 'mutation_rate_end': 0.6383785891878189, 'crossover_method': 'cxKPoint', 'crossover_rate': 0.12809307374942314, 'crossover_points': 2, 'selection_method': 'selTournament', 'tournsize': 9, 'elitism_rate': 0.2347522919316892, 'survival_rate': 0.11815497136926412}.\n",
      "[I 2025-05-11 21:07:56,312] Trial 61 finished with values: [0.5519899129867554, 0.5217427492141724, 35.00260353088379] and parameters: {'mutation_method': 'mutConstant', 'mutation_prob': 0.08024898101789536, 'mutation_by_deletion_rate': 0.4291076465443041, 'mutation_rate': 0.7576440936326975, 'crossover_method': 'cxUniform', 'crossover_rate': 0.001345634345170611, 'selection_method': 'selTournament', 'tournsize': 8, 'elitism_rate': 0.36666870414933184, 'survival_rate': 0.7000136479081406}.\n",
      "[I 2025-05-11 21:08:32,715] Trial 62 finished with values: [0.824042797088623, 0.7514571070671081, 36.07604956626892] and parameters: {'mutation_method': 'mutLinear', 'mutation_prob': 0.5260897624122647, 'mutation_by_deletion_rate': 0.21573646042786088, 'mutation_rate_start': 0.23205104391702272, 'mutation_rate_end': 0.003171353349845085, 'crossover_method': 'cxUniform', 'crossover_rate': 0.03554322697719742, 'selection_method': 'selBoltzmann', 'boltzmann_temperature': 0.4617864243642624, 'elitism_rate': 0.4157125476205128, 'survival_rate': 0.4784356434080182}.\n",
      "[I 2025-05-11 21:08:42,077] Trial 63 finished with values: [0.7269577383995056, 0.6562639117240906, 9.06501317024231] and parameters: {'mutation_method': 'mutEntropy', 'mutation_prob': 0.00198299956580305, 'mutation_by_deletion_rate': 0.3059016500965548, 'mutation_rate_start': 0.5384213113742765, 'mutation_rate_end': 0.43071537645587016, 'crossover_method': 'cxTwoPoint', 'crossover_rate': 0.6017610099146925, 'crossover_points': 1, 'selection_method': 'selBest', 'elitism_rate': 0.2971989227389479, 'survival_rate': 0.3704056167151541}.\n",
      "[I 2025-05-11 21:09:19,628] Trial 64 finished with values: [0.7852331399917603, 0.7389002919197083, 37.22005891799927] and parameters: {'mutation_method': 'mutEntropy', 'mutation_prob': 0.30993904634624636, 'mutation_by_deletion_rate': 0.29891965985861496, 'mutation_rate_start': 0.5815771881848601, 'mutation_rate_end': 0.42561035523686314, 'crossover_method': 'cxTwoPoint', 'crossover_rate': 0.6531554752115676, 'crossover_points': 1, 'selection_method': 'selBest', 'elitism_rate': 0.19039613135371936, 'survival_rate': 0.3876590070862467}.\n",
      "[I 2025-05-11 21:09:56,374] Trial 65 finished with values: [0.7198595404624939, 0.678218412399292, 36.39551258087158] and parameters: {'mutation_method': 'mutEntropy', 'mutation_prob': 0.043588013531310296, 'mutation_by_deletion_rate': 0.3805548249941819, 'mutation_rate_start': 0.6305039074512574, 'mutation_rate_end': 0.32450608434706635, 'crossover_method': 'cxTwoPoint', 'crossover_rate': 0.08721281364783584, 'crossover_points': 1, 'selection_method': 'selBest', 'elitism_rate': 0.055824427478387006, 'survival_rate': 0.337502316035189}.\n",
      "[I 2025-05-11 21:10:32,868] Trial 66 finished with values: [0.7470958232879639, 0.6966751456260681, 36.19727110862732] and parameters: {'mutation_method': 'mutEntropy', 'mutation_prob': 0.14893327763797976, 'mutation_by_deletion_rate': 0.31270971863155883, 'mutation_rate_start': 0.5366553706159896, 'mutation_rate_end': 0.23719849527852327, 'crossover_method': 'cxTwoPoint', 'crossover_rate': 0.0012941277659093454, 'crossover_points': 1, 'selection_method': 'selBest', 'elitism_rate': 0.2927070046397523, 'survival_rate': 0.36236117363241155}.\n",
      "[I 2025-05-11 21:11:15,487] Trial 67 finished with values: [0.8324827551841736, 0.7940099000930786, 42.32256484031677] and parameters: {'mutation_method': 'mutEntropy', 'mutation_prob': 0.6743116541751529, 'mutation_by_deletion_rate': 0.25748801030689866, 'mutation_rate_start': 0.44178924581897155, 'mutation_rate_end': 0.3767939059372214, 'crossover_method': 'cxTwoPoint', 'crossover_rate': 0.542091885786666, 'crossover_points': 4, 'selection_method': 'selBest', 'elitism_rate': 0.14901950011486298, 'survival_rate': 0.5442907735096199}.\n",
      "[I 2025-05-11 21:11:58,216] Trial 68 finished with values: [0.6624289751052856, 0.6153616666793823, 42.41461539268494] and parameters: {'mutation_method': 'mutEntropy', 'mutation_prob': 0.7246960289560243, 'mutation_by_deletion_rate': 0.35624868480756805, 'mutation_rate_start': 0.5430245298060379, 'mutation_rate_end': 0.5109703412304993, 'crossover_method': 'cxTwoPoint', 'crossover_rate': 0.050258836011490726, 'crossover_points': 1, 'selection_method': 'selRandom', 'elitism_rate': 0.11831785626526853, 'survival_rate': 0.43922023457624015}.\n",
      "[I 2025-05-11 21:12:32,878] Trial 69 finished with values: [0.8179866671562195, 0.7718769550323487, 34.288644552230835] and parameters: {'mutation_method': 'mutEntropy', 'mutation_prob': 0.23999408600629013, 'mutation_by_deletion_rate': 0.24179241211606917, 'mutation_rate_start': 0.7092414836115971, 'mutation_rate_end': 0.03405549045672206, 'crossover_method': 'cxOnePoint', 'crossover_rate': 0.22092040395665924, 'selection_method': 'selBest', 'elitism_rate': 0.4814637482751976, 'survival_rate': 0.19874954195468075}.\n",
      "[I 2025-05-11 21:13:10,515] Trial 70 finished with values: [0.7827468514442444, 0.7519469380378723, 37.323917388916016] and parameters: {'mutation_method': 'mutExponential', 'mutation_prob': 0.12663472853792562, 'mutation_by_deletion_rate': 0.20539003078632556, 'mutation_rate_start': 0.3729761812868779, 'mutation_rate_end': 0.4220637171239847, 'mutation_rate_degree': 4, 'crossover_method': 'cxTwoPoint', 'crossover_rate': 0.9922278669768525, 'crossover_points': 1, 'selection_method': 'selStochasticUniversalSampling', 'elitism_rate': 0.22535951790507813, 'survival_rate': 0.2902683840072028}.\n",
      "[I 2025-05-11 21:13:58,322] Trial 71 finished with values: [0.7092493772506714, 0.6851785898208618, 47.41383123397827] and parameters: {'mutation_method': 'mutEntropy', 'mutation_prob': 0.9640664577028335, 'mutation_by_deletion_rate': 0.2773556653695439, 'mutation_rate_start': 0.4713078594790372, 'mutation_rate_end': 0.03473588063592447, 'crossover_method': 'cxKPoint', 'crossover_rate': 0.03054354740701666, 'crossover_points': 4, 'selection_method': 'selBest', 'elitism_rate': 0.08395299826228808, 'survival_rate': 0.41588202324978596}.\n",
      "[I 2025-05-11 21:14:38,623] Trial 72 finished with values: [0.7266479730606079, 0.6980661630630494, 39.74447989463806] and parameters: {'mutation_method': 'mutConstant', 'mutation_prob': 0.5921392744414546, 'mutation_by_deletion_rate': 0.17732518469052544, 'mutation_rate': 0.2711283234127328, 'crossover_method': 'cxKPoint', 'crossover_rate': 0.5873150549941661, 'crossover_points': 3, 'selection_method': 'selNormRoulette', 'elitism_rate': 0.31711490051599933, 'survival_rate': 0.6239965801470732}.\n",
      "[I 2025-05-11 21:15:20,380] Trial 73 finished with values: [0.6077612042427063, 0.5771896123886109, 41.43715453147888] and parameters: {'mutation_method': 'mutEntropy', 'mutation_prob': 0.4981467271869528, 'mutation_by_deletion_rate': 0.32031968659106713, 'mutation_rate_start': 0.841124017547996, 'mutation_rate_end': 0.9248010224016813, 'crossover_method': 'cxKPoint', 'crossover_rate': 0.785713879553521, 'crossover_points': 1, 'selection_method': 'selTournament', 'tournsize': 3, 'elitism_rate': 0.04156030942796441, 'survival_rate': 0.6780780527824949}.\n",
      "[I 2025-05-11 21:15:53,205] Trial 74 finished with values: [0.5858001708984375, 0.5717511415481568, 32.519243001937866] and parameters: {'mutation_method': 'mutLinear', 'mutation_prob': 0.4083272068336692, 'mutation_by_deletion_rate': 0.45060991692732866, 'mutation_rate_start': 0.9055278800592029, 'mutation_rate_end': 0.12805364363671187, 'crossover_method': 'cxTwoPoint', 'crossover_rate': 0.4548489466815071, 'crossover_points': 4, 'selection_method': 'selRoulette', 'elitism_rate': 0.9142516934328171, 'survival_rate': 0.5343589792934912}.\n",
      "[I 2025-05-11 21:16:27,376] Trial 75 finished with values: [0.6921095848083496, 0.6553534865379333, 33.56611752510071] and parameters: {'mutation_method': 'mutLinear', 'mutation_prob': 0.7900024870964848, 'mutation_by_deletion_rate': 0.7503225900199316, 'mutation_rate_start': 0.3319799000460807, 'mutation_rate_end': 0.27816467184202437, 'crossover_method': 'cxKPoint', 'crossover_rate': 0.10122035879408925, 'crossover_points': 1, 'selection_method': 'selTournamentWithoutReplacement', 'tournsize': 9, 'elitism_rate': 0.8026399969605995, 'survival_rate': 0.05284469750527199}.\n",
      "[I 2025-05-11 21:17:03,131] Trial 76 finished with values: [0.6793094873428345, 0.6559566617012024, 35.463175535202026] and parameters: {'mutation_method': 'mutEntropy', 'mutation_prob': 0.33662036082528685, 'mutation_by_deletion_rate': 0.3682313671482278, 'mutation_rate_start': 0.41262297097297684, 'mutation_rate_end': 0.47153270421065024, 'crossover_method': 'cxKPoint', 'crossover_rate': 0.15162027203627582, 'crossover_points': 1, 'selection_method': 'selTournament', 'tournsize': 8, 'elitism_rate': 0.44093596600733087, 'survival_rate': 0.7327753596294881}.\n",
      "[I 2025-05-11 21:17:44,182] Trial 77 finished with values: [0.800360918045044, 0.7521824359893798, 40.749242544174194] and parameters: {'mutation_method': 'mutExponential', 'mutation_prob': 0.8936387986515462, 'mutation_by_deletion_rate': 0.1911088341051281, 'mutation_rate_start': 0.6207465589818093, 'mutation_rate_end': 0.5757252747266716, 'mutation_rate_degree': 2, 'crossover_method': 'cxTwoPoint', 'crossover_rate': 0.6902428674974508, 'crossover_points': 4, 'selection_method': 'selBest', 'elitism_rate': 0.3379757148480517, 'survival_rate': 0.7997549373631402}.\n",
      "[I 2025-05-11 21:18:25,265] Trial 78 finished with values: [0.7296648025512695, 0.7030602693557739, 40.77132058143616] and parameters: {'mutation_method': 'mutConstant', 'mutation_prob': 0.6438423815694417, 'mutation_by_deletion_rate': 0.5929023922755903, 'mutation_rate': 0.7551381045218448, 'crossover_method': 'cxOnePoint', 'crossover_rate': 0.6359400524829846, 'selection_method': 'selBoltzmann', 'boltzmann_temperature': 0.42103510733634, 'elitism_rate': 0.26754336007181556, 'survival_rate': 0.5965252935659502}.\n",
      "[I 2025-05-11 21:19:09,076] Trial 79 finished with values: [0.7290562987327576, 0.7102700710296631, 43.51756739616394] and parameters: {'mutation_method': 'mutLinear', 'mutation_prob': 0.9696600571502234, 'mutation_by_deletion_rate': 0.10166318077618028, 'mutation_rate_start': 0.16360143881845216, 'mutation_rate_end': 0.20599763411442018, 'crossover_method': 'cxKPoint', 'crossover_rate': 0.06665501458467415, 'crossover_points': 1, 'selection_method': 'selRandom', 'elitism_rate': 0.15238900843674003, 'survival_rate': 0.48570720212231033}.\n",
      "[I 2025-05-11 21:19:38,762] Trial 80 finished with values: [0.5368230938911438, 0.5299887895584107, 29.38054132461548] and parameters: {'mutation_method': 'mutLinear', 'mutation_prob': 0.85357870407898, 'mutation_by_deletion_rate': 0.4126200389900489, 'mutation_rate_start': 0.5266442205268975, 'mutation_rate_end': 0.1523496144199017, 'crossover_method': 'cxKPoint', 'crossover_rate': 0.028238352133316783, 'crossover_points': 2, 'selection_method': 'selTournament', 'tournsize': 9, 'elitism_rate': 0.9967688567495361, 'survival_rate': 0.6487528034489795}.\n",
      "[I 2025-05-11 21:20:16,341] Trial 81 finished with values: [0.7897964715957642, 0.7411091685295105, 37.224798917770386] and parameters: {'mutation_method': 'mutLinear', 'mutation_prob': 0.9477940336078268, 'mutation_by_deletion_rate': 0.27260085524609734, 'mutation_rate_start': 0.9990463864074866, 'mutation_rate_end': 0.006377457195317012, 'crossover_method': 'cxKPoint', 'crossover_rate': 0.9102928646105523, 'crossover_points': 1, 'selection_method': 'selTournament', 'tournsize': 7, 'elitism_rate': 0.570579515064092, 'survival_rate': 0.7091441014407813}.\n",
      "[I 2025-05-11 21:20:53,312] Trial 82 finished with values: [0.6453681588172913, 0.6104266047477722, 36.699060916900635] and parameters: {'mutation_method': 'mutEntropy', 'mutation_prob': 0.5448586037720985, 'mutation_by_deletion_rate': 0.9643893348227172, 'mutation_rate_start': 0.49578609827282166, 'mutation_rate_end': 0.7407831692057474, 'crossover_method': 'cxKPoint', 'crossover_rate': 0.07300126411047571, 'crossover_points': 1, 'selection_method': 'selStochasticUniversalSampling', 'elitism_rate': 0.4046104261305713, 'survival_rate': 0.2906430025627196}.\n",
      "[I 2025-05-11 21:21:35,480] Trial 83 finished with values: [0.8221539258956909, 0.7712409734725952, 41.883124351501465] and parameters: {'mutation_method': 'mutLinear', 'mutation_prob': 0.7108520370997927, 'mutation_by_deletion_rate': 0.23230326660839962, 'mutation_rate_start': 0.2766823689269605, 'mutation_rate_end': 0.07365578424955388, 'crossover_method': 'cxTwoPoint', 'crossover_rate': 0.5166314023835813, 'crossover_points': 1, 'selection_method': 'selTournament', 'tournsize': 1, 'elitism_rate': 0.195228980230842, 'survival_rate': 0.6451503806697005}.\n",
      "[I 2025-05-11 21:22:09,209] Trial 84 finished with values: [0.6225752234458923, 0.576842999458313, 33.402432441711426] and parameters: {'mutation_method': 'mutLinear', 'mutation_prob': 0.03147187482136985, 'mutation_by_deletion_rate': 0.3310181398292588, 'mutation_rate_start': 0.22850490749456184, 'mutation_rate_end': 0.6473493712742924, 'crossover_method': 'cxKPoint', 'crossover_rate': 0.11144180264995515, 'crossover_points': 2, 'selection_method': 'selTournament', 'tournsize': 8, 'elitism_rate': 0.24190816080347655, 'survival_rate': 0.7473779062737466}.\n",
      "[I 2025-05-11 21:22:47,984] Trial 85 finished with values: [0.6747480034828186, 0.6462585091590881, 38.46428894996643] and parameters: {'mutation_method': 'mutExponential', 'mutation_prob': 0.49485769632849147, 'mutation_by_deletion_rate': 0.16179481319817068, 'mutation_rate_start': 0.6596260585904788, 'mutation_rate_end': 0.3673414001814841, 'mutation_rate_degree': 3, 'crossover_method': 'cxOnePoint', 'crossover_rate': 0.01840764194276956, 'selection_method': 'selBest', 'elitism_rate': 0.2825584623803771, 'survival_rate': 0.6812635994802405}.\n",
      "[I 2025-05-11 21:23:24,413] Trial 86 finished with values: [0.7546871900558472, 0.6528613448143006, 36.14768123626709] and parameters: {'mutation_method': 'mutLinear', 'mutation_prob': 0.4526880265026702, 'mutation_by_deletion_rate': 0.8531518848233306, 'mutation_rate_start': 0.40864794321315656, 'mutation_rate_end': 0.40335990870550587, 'crossover_method': 'cxKPoint', 'crossover_rate': 0.6254883316028731, 'crossover_points': 1, 'selection_method': 'selNormRoulette', 'elitism_rate': 0.36901534821559134, 'survival_rate': 0.5964188348917696}.\n",
      "[I 2025-05-11 21:24:01,691] Trial 87 finished with values: [0.717465341091156, 0.6484408497810363, 36.981825828552246] and parameters: {'mutation_method': 'mutEntropy', 'mutation_prob': 0.7606876471307793, 'mutation_by_deletion_rate': 0.13300641520948275, 'mutation_rate_start': 0.5702059734996409, 'mutation_rate_end': 0.4662732236338804, 'crossover_method': 'cxTwoPoint', 'crossover_rate': 0.05885683789292721, 'crossover_points': 3, 'selection_method': 'selTournament', 'tournsize': 3, 'elitism_rate': 0.4984717088856505, 'survival_rate': 0.22882078991479093}.\n",
      "[I 2025-05-11 21:24:43,619] Trial 88 finished with values: [0.7666546702384949, 0.7307247877120971, 41.60932970046997] and parameters: {'mutation_method': 'mutLinear', 'mutation_prob': 0.918888065099502, 'mutation_by_deletion_rate': 0.2067717713279885, 'mutation_rate_start': 0.35115841181874696, 'mutation_rate_end': 0.19476234130510564, 'crossover_method': 'cxKPoint', 'crossover_rate': 0.6820257909844931, 'crossover_points': 1, 'selection_method': 'selRoulette', 'elitism_rate': 0.3284474072487917, 'survival_rate': 0.7801352300466324}.\n",
      "[I 2025-05-11 21:25:16,140] Trial 89 finished with values: [0.5833253264427185, 0.544021487236023, 32.2087025642395] and parameters: {'mutation_method': 'mutConstant', 'mutation_prob': 0.6242936240362706, 'mutation_by_deletion_rate': 0.09432640396897496, 'mutation_rate': 0.8745445504398, 'crossover_method': 'cxKPoint', 'crossover_rate': 0.35513415054229325, 'crossover_points': 2, 'selection_method': 'selTournamentWithoutReplacement', 'tournsize': 9, 'elitism_rate': 0.7572552008692368, 'survival_rate': 0.32886510895675464}.\n",
      "[I 2025-05-11 21:25:49,631] Trial 90 finished with values: [0.7037366032600403, 0.6721386551856995, 33.186771392822266] and parameters: {'mutation_method': 'mutLinear', 'mutation_prob': 0.8143474280710798, 'mutation_by_deletion_rate': 0.6917772799015489, 'mutation_rate_start': 0.7623187407995659, 'mutation_rate_end': 0.10998377605314905, 'crossover_method': 'cxTwoPoint', 'crossover_rate': 0.5768301477733666, 'crossover_points': 4, 'selection_method': 'selTournament', 'tournsize': 6, 'elitism_rate': 0.8379051028453167, 'survival_rate': 0.13508199071050875}.\n",
      "[I 2025-05-11 21:26:28,816] Trial 91 finished with values: [0.7995247840881348, 0.7639199018478393, 38.82355880737305] and parameters: {'mutation_method': 'mutLinear', 'mutation_prob': 0.9942320027536136, 'mutation_by_deletion_rate': 0.17394771125202685, 'mutation_rate_start': 0.30917930569128765, 'mutation_rate_end': 0.24156896886103887, 'crossover_method': 'cxKPoint', 'crossover_rate': 0.07667265475524539, 'crossover_points': 1, 'selection_method': 'selTournament', 'tournsize': 10, 'elitism_rate': 0.4482308391970539, 'survival_rate': 0.714069072830446}.\n",
      "[I 2025-05-11 21:27:09,480] Trial 92 finished with values: [0.7088115215301514, 0.6676718592643738, 40.36926078796387] and parameters: {'mutation_method': 'mutEntropy', 'mutation_prob': 0.5802080850586554, 'mutation_by_deletion_rate': 0.25008796648456416, 'mutation_rate_start': 0.45523401207814174, 'mutation_rate_end': 0.08862341967608922, 'crossover_method': 'cxKPoint', 'crossover_rate': 0.03091031662688646, 'crossover_points': 1, 'selection_method': 'selBest', 'elitism_rate': 0.02116148336301714, 'survival_rate': 0.5672133957373404}.\n",
      "[I 2025-05-11 21:27:42,502] Trial 93 finished with values: [0.653691828250885, 0.5932877779006958, 32.72807478904724] and parameters: {'mutation_method': 'mutLinear', 'mutation_prob': 0.2163737043033209, 'mutation_by_deletion_rate': 0.2831337968203255, 'mutation_rate_start': 0.49414542128810707, 'mutation_rate_end': 0.31806610880573827, 'crossover_method': 'cxOnePoint', 'crossover_rate': 0.0007780004370561448, 'selection_method': 'selTournament', 'tournsize': 4, 'elitism_rate': 0.6575939102549309, 'survival_rate': 0.6260506710447692}.\n",
      "[I 2025-05-11 21:28:22,277] Trial 94 finished with values: [0.7945880889892578, 0.7518698930740356, 39.4741313457489] and parameters: {'mutation_method': 'mutLinear', 'mutation_prob': 0.3682202439957964, 'mutation_by_deletion_rate': 0.025359674873914995, 'mutation_rate_start': 0.1460688195483908, 'mutation_rate_end': 0.14012853059365718, 'crossover_method': 'cxTwoPoint', 'crossover_rate': 0.15023545588747242, 'crossover_points': 1, 'selection_method': 'selBoltzmann', 'boltzmann_temperature': 0.9386013549891546, 'elitism_rate': 0.08414661179124693, 'survival_rate': 0.6849033748161324}.\n",
      "[I 2025-05-11 21:29:02,200] Trial 95 finished with values: [0.6648522615432739, 0.6342072725296021, 39.611525774002075] and parameters: {'mutation_method': 'mutExponential', 'mutation_prob': 0.6636810390609039, 'mutation_by_deletion_rate': 0.22790559444432626, 'mutation_rate_start': 0.20629943342313578, 'mutation_rate_end': 0.5564945712558815, 'mutation_rate_degree': 1, 'crossover_method': 'cxKPoint', 'crossover_rate': 0.09734704654656445, 'crossover_points': 3, 'selection_method': 'selRandom', 'elitism_rate': 0.10933533357764091, 'survival_rate': 0.8545821631629744}.\n",
      "[I 2025-05-11 21:29:39,618] Trial 96 finished with values: [0.5957351922988892, 0.5570340991020203, 37.09906029701233] and parameters: {'mutation_method': 'mutEntropy', 'mutation_prob': 0.9732320818509738, 'mutation_by_deletion_rate': 0.3094966106120131, 'mutation_rate_start': 0.9491724780124051, 'mutation_rate_end': 0.05860562756036512, 'crossover_method': 'cxKPoint', 'crossover_rate': 0.17181876011859298, 'crossover_points': 2, 'selection_method': 'selStochasticUniversalSampling', 'elitism_rate': 0.5971598603317609, 'survival_rate': 0.07544060782487227}.\n",
      "[I 2025-05-11 21:30:15,544] Trial 97 finished with values: [0.6986208558082581, 0.6619326829910278, 35.65146613121033] and parameters: {'mutation_method': 'mutConstant', 'mutation_prob': 0.2487923711526685, 'mutation_by_deletion_rate': 0.2763197148626414, 'mutation_rate': 0.6317497848551459, 'crossover_method': 'cxTwoPoint', 'crossover_rate': 0.12543684867129667, 'crossover_points': 1, 'selection_method': 'selTournament', 'tournsize': 10, 'elitism_rate': 0.2191307351766032, 'survival_rate': 0.3851886054811244}.\n",
      "[I 2025-05-11 21:30:54,106] Trial 98 finished with values: [0.877703070640564, 0.7990853428840637, 38.24931597709656] and parameters: {'mutation_method': 'mutLinear', 'mutation_prob': 0.8335595252672573, 'mutation_by_deletion_rate': 0.49123448796979635, 'mutation_rate_start': 0.08708313772407007, 'mutation_rate_end': 0.2873869983739442, 'crossover_method': 'cxKPoint', 'crossover_rate': 0.052431108583194955, 'crossover_points': 1, 'selection_method': 'selBest', 'elitism_rate': 0.4683212144015047, 'survival_rate': 0.7426359788067577}.\n",
      "[I 2025-05-11 21:31:31,498] Trial 99 finished with values: [0.5996505618095398, 0.5892487168312073, 37.123597145080566] and parameters: {'mutation_method': 'mutLinear', 'mutation_prob': 0.9025433741169274, 'mutation_by_deletion_rate': 0.33707530512336037, 'mutation_rate_start': 0.5573498449694338, 'mutation_rate_end': 0.6613553567148777, 'crossover_method': 'cxUniform', 'crossover_rate': 0.7688300102867726, 'selection_method': 'selNormRoulette', 'elitism_rate': 0.5312520341629811, 'survival_rate': 0.4449903468230242}.\n",
      "[I 2025-05-11 21:32:08,334] Trial 100 finished with values: [0.752388596534729, 0.703179657459259, 36.57809400558472] and parameters: {'mutation_method': 'mutEntropy', 'mutation_prob': 0.3162813116076334, 'mutation_by_deletion_rate': 0.20358210768719015, 'mutation_rate_start': 0.017068295939594053, 'mutation_rate_end': 0.778166769944231, 'crossover_method': 'cxOnePoint', 'crossover_rate': 0.8309965352601901, 'selection_method': 'selTournament', 'tournsize': 9, 'elitism_rate': 0.17560300549827057, 'survival_rate': 0.5230080510075275}.\n",
      "[I 2025-05-11 21:32:49,521] Trial 101 finished with values: [0.6163912415504456, 0.6038847208023072, 40.756608724594116] and parameters: {'mutation_method': 'mutLinear', 'mutation_prob': 0.7329857721205131, 'mutation_by_deletion_rate': 0.24443688037600336, 'mutation_rate_start': 0.7252106541711879, 'mutation_rate_end': 0.9044459688772748, 'crossover_method': 'cxKPoint', 'crossover_rate': 0.49629723324182523, 'crossover_points': 4, 'selection_method': 'selTournament', 'tournsize': 8, 'elitism_rate': 0.26001858657742116, 'survival_rate': 0.9531978596541584}.\n",
      "[I 2025-05-11 21:33:30,611] Trial 102 finished with values: [0.8023749589920044, 0.7786256670951843, 40.77740025520325] and parameters: {'mutation_method': 'mutLinear', 'mutation_prob': 0.7835714999566105, 'mutation_by_deletion_rate': 0.13688171405985003, 'mutation_rate_start': 0.8482814348796092, 'mutation_rate_end': 0.17917485915696618, 'crossover_method': 'cxTwoPoint', 'crossover_rate': 0.5391805196760813, 'crossover_points': 1, 'selection_method': 'selBest', 'elitism_rate': 0.3009752402080672, 'survival_rate': 0.8142955029031433}.\n",
      "[I 2025-05-11 21:34:04,827] Trial 103 finished with values: [0.7560480237007141, 0.7209091067314148, 33.911813735961914] and parameters: {'mutation_method': 'mutEntropy', 'mutation_prob': 0.757719257368411, 'mutation_by_deletion_rate': 0.16640312854848655, 'mutation_rate_start': 0.28345204200750823, 'mutation_rate_end': 0.02841226591652682, 'crossover_method': 'cxKPoint', 'crossover_rate': 0.7134241889012927, 'crossover_points': 2, 'selection_method': 'selRoulette', 'elitism_rate': 0.6300292763653232, 'survival_rate': 0.6552305732355228}.\n",
      "[I 2025-05-11 21:34:43,842] Trial 104 finished with values: [0.7022519707679749, 0.662966275215149, 38.718910932540894] and parameters: {'mutation_method': 'mutConstant', 'mutation_prob': 0.6935732553303173, 'mutation_by_deletion_rate': 0.9384623857283682, 'mutation_rate': 0.4145522184931648, 'crossover_method': 'cxTwoPoint', 'crossover_rate': 0.02238569832858995, 'crossover_points': 1, 'selection_method': 'selTournament', 'tournsize': 2, 'elitism_rate': 0.34958999235001903, 'survival_rate': 0.26581233084890193}.\n",
      "[I 2025-05-11 21:35:17,556] Trial 105 finished with values: [0.7318933606147766, 0.6721117496490479, 33.38467812538147] and parameters: {'mutation_method': 'mutLinear', 'mutation_prob': 0.7387116964637244, 'mutation_by_deletion_rate': 0.2921546229761168, 'mutation_rate_start': 0.24140003628538617, 'mutation_rate_end': 0.5171200614968798, 'crossover_method': 'cxKPoint', 'crossover_rate': 0.20216505320517825, 'crossover_points': 1, 'selection_method': 'selTournamentWithoutReplacement', 'tournsize': 10, 'elitism_rate': 0.7043782359954696, 'survival_rate': 0.17194049819039636}.\n",
      "[I 2025-05-11 21:36:01,078] Trial 106 finished with values: [0.7647905349731445, 0.7354385018348694, 43.20650005340576] and parameters: {'mutation_method': 'mutExponential', 'mutation_prob': 0.8031140531794784, 'mutation_by_deletion_rate': 0.18858137879314466, 'mutation_rate_start': 0.38649183171160834, 'mutation_rate_end': 0.6138144964278778, 'mutation_rate_degree': 3, 'crossover_method': 'cxUniform', 'crossover_rate': 0.610165410246993, 'selection_method': 'selBest', 'elitism_rate': 0.13150369733497116, 'survival_rate': 0.7153902322414301}.\n",
      "[I 2025-05-11 21:36:33,977] Trial 107 finished with values: [0.6369455456733704, 0.5981921553611755, 32.59736704826355] and parameters: {'mutation_method': 'mutEntropy', 'mutation_prob': 0.8572683746170647, 'mutation_by_deletion_rate': 0.7571038560841808, 'mutation_rate_start': 0.35386205090924194, 'mutation_rate_end': 0.7093513740384892, 'crossover_method': 'cxKPoint', 'crossover_rate': 0.041351733356288826, 'crossover_points': 2, 'selection_method': 'selTournament', 'tournsize': 9, 'elitism_rate': 0.9438063970130024, 'survival_rate': 0.8998315951600387}.\n",
      "[I 2025-05-11 21:37:15,966] Trial 108 finished with values: [0.7315438985824585, 0.6882436513900757, 41.69943022727966] and parameters: {'mutation_method': 'mutLinear', 'mutation_prob': 0.8669750524720954, 'mutation_by_deletion_rate': 0.2657981976228263, 'mutation_rate_start': 0.32944973543780626, 'mutation_rate_end': 0.9760209441022105, 'crossover_method': 'cxTwoPoint', 'crossover_rate': 0.4216505434107449, 'crossover_points': 1, 'selection_method': 'selBoltzmann', 'boltzmann_temperature': 0.2824652750752841, 'elitism_rate': 0.3718202298559007, 'survival_rate': 0.6101143303607122}.\n",
      "[I 2025-05-11 21:37:58,450] Trial 109 finished with values: [0.756585955619812, 0.7159015774726868, 42.112648248672485] and parameters: {'mutation_method': 'mutLinear', 'mutation_prob': 0.7130158981754633, 'mutation_by_deletion_rate': 0.4053036119673816, 'mutation_rate_start': 0.18506415010823885, 'mutation_rate_end': 0.3472406464568748, 'crossover_method': 'cxKPoint', 'crossover_rate': 0.45244837573263114, 'crossover_points': 3, 'selection_method': 'selTournament', 'tournsize': 4, 'elitism_rate': 0.24642655676831504, 'survival_rate': 0.6949970395461127}.\n",
      "[I 2025-05-11 21:38:32,703] Trial 110 finished with values: [0.6542184948921204, 0.5903032302856446, 33.956154346466064] and parameters: {'mutation_method': 'mutEntropy', 'mutation_prob': 0.11998231429046391, 'mutation_by_deletion_rate': 0.222960206857433, 'mutation_rate_start': 0.11772898731115666, 'mutation_rate_end': 0.2277978418118386, 'crossover_method': 'cxOnePoint', 'crossover_rate': 0.08615705882910166, 'selection_method': 'selRandom', 'elitism_rate': 0.5778954933440863, 'survival_rate': 0.5784049893651452}.\n",
      "[I 2025-05-11 21:39:07,946] Trial 111 finished with values: [0.7136111259460449, 0.6678914904594422, 34.9494891166687] and parameters: {'mutation_method': 'mutEntropy', 'mutation_prob': 0.17823878705723206, 'mutation_by_deletion_rate': 0.35725878063523836, 'mutation_rate_start': 0.05758540887916552, 'mutation_rate_end': 0.3947797930750964, 'crossover_method': 'cxTwoPoint', 'crossover_rate': 0.5647570906401853, 'crossover_points': 1, 'selection_method': 'selBest', 'elitism_rate': 0.325512211402874, 'survival_rate': 0.31436486158174165}.\n",
      "[I 2025-05-11 21:39:12,556] Trial 112 finished with values: [0.5222430229187012, 0.4788781046867371, 4.304807901382446] and parameters: {'mutation_method': 'mutEntropy', 'mutation_prob': 0.00012013531013410628, 'mutation_by_deletion_rate': 0.3221927330837361, 'mutation_rate_start': 0.2087608299372249, 'mutation_rate_end': 0.8705003096863864, 'crossover_method': 'cxTwoPoint', 'crossover_rate': 0.5978661287273939, 'crossover_points': 1, 'selection_method': 'selBest', 'elitism_rate': 0.3903639595162337, 'survival_rate': 0.3688837660821426}.\n",
      "[I 2025-05-11 21:39:49,076] Trial 113 finished with values: [0.6984911561012268, 0.652990746498108, 36.20120644569397] and parameters: {'mutation_method': 'mutEntropy', 'mutation_prob': 0.27294513467009773, 'mutation_by_deletion_rate': 0.3743097393293247, 'mutation_rate_start': 0.8715927831171458, 'mutation_rate_end': 0.48678975969301536, 'crossover_method': 'cxTwoPoint', 'crossover_rate': 0.6091417174187844, 'crossover_points': 1, 'selection_method': 'selBest', 'elitism_rate': 0.2901401735454716, 'survival_rate': 0.3670624054793489}.\n",
      "[I 2025-05-11 21:40:25,709] Trial 114 finished with values: [0.7696993947029114, 0.7388336062431335, 36.312854051589966] and parameters: {'mutation_method': 'mutEntropy', 'mutation_prob': 0.0518498753981389, 'mutation_by_deletion_rate': 0.3188726444767171, 'mutation_rate_start': 0.7864937015687994, 'mutation_rate_end': 0.8527433047469796, 'crossover_method': 'cxTwoPoint', 'crossover_rate': 0.9422156900784424, 'crossover_points': 1, 'selection_method': 'selBest', 'elitism_rate': 0.2164244256066487, 'survival_rate': 0.4050680579187425}.\n",
      "[I 2025-05-11 21:41:03,743] Trial 115 finished with values: [0.6543329358100891, 0.6410045027732849, 37.71540379524231] and parameters: {'mutation_method': 'mutEntropy', 'mutation_prob': 0.41327492574941377, 'mutation_by_deletion_rate': 0.6038418622653958, 'mutation_rate_start': 0.9642068291524175, 'mutation_rate_end': 0.44968533690660595, 'crossover_method': 'cxTwoPoint', 'crossover_rate': 0.5471771049498654, 'crossover_points': 1, 'selection_method': 'selBest', 'elitism_rate': 0.2704574908931326, 'survival_rate': 0.4707546352956366}.\n",
      "[I 2025-05-11 21:41:40,449] Trial 116 finished with values: [0.6556683778762817, 0.6057892799377441, 36.332345724105835] and parameters: {'mutation_method': 'mutEntropy', 'mutation_prob': 0.19989850996987743, 'mutation_by_deletion_rate': 0.3234843695566377, 'mutation_rate_start': 0.6421875900281695, 'mutation_rate_end': 0.5333761020764629, 'crossover_method': 'cxTwoPoint', 'crossover_rate': 0.6324350352936583, 'crossover_points': 1, 'selection_method': 'selBest', 'elitism_rate': 0.301894416045031, 'survival_rate': 0.2020728689229162}.\n",
      "[I 2025-05-11 21:42:04,502] Trial 117 finished with values: [0.5222430229187012, 0.5049369931221008, 23.755059003829956] and parameters: {'mutation_method': 'mutEntropy', 'mutation_prob': 0.015512541222402976, 'mutation_by_deletion_rate': 0.5483009467122767, 'mutation_rate_start': 0.7410956124854358, 'mutation_rate_end': 0.8246772002396349, 'crossover_method': 'cxTwoPoint', 'crossover_rate': 0.6052242424918004, 'crossover_points': 1, 'selection_method': 'selBest', 'elitism_rate': 0.3852486156339893, 'survival_rate': 0.36129986375694756}.\n",
      "[I 2025-05-11 21:42:40,926] Trial 118 finished with values: [0.5877988338470459, 0.561488676071167, 36.09942364692688] and parameters: {'mutation_method': 'mutEntropy', 'mutation_prob': 0.09691348605184996, 'mutation_by_deletion_rate': 0.8395655104535621, 'mutation_rate_start': 0.6921192822309379, 'mutation_rate_end': 0.596010530059522, 'crossover_method': 'cxTwoPoint', 'crossover_rate': 0.6765110377169969, 'crossover_points': 3, 'selection_method': 'selBest', 'elitism_rate': 0.34878324915178704, 'survival_rate': 0.25465379380445524}.\n",
      "[I 2025-05-11 21:43:16,986] Trial 119 finished with values: [0.7215800881385803, 0.6749534368515014, 35.785887002944946] and parameters: {'mutation_method': 'mutEntropy', 'mutation_prob': 0.3790935508471146, 'mutation_by_deletion_rate': 0.44896982070829083, 'mutation_rate_start': 0.6062500233665294, 'mutation_rate_end': 0.33421716216504305, 'crossover_method': 'cxTwoPoint', 'crossover_rate': 0.5880940989544913, 'crossover_points': 1, 'selection_method': 'selBest', 'elitism_rate': 0.31270027678676315, 'survival_rate': 0.4310899051351642}.\n",
      "[I 2025-05-11 21:43:36,720] Trial 120 finished with values: [0.5349524021148682, 0.5037762641906738, 19.434324979782104] and parameters: {'mutation_method': 'mutEntropy', 'mutation_prob': 0.06169555595476428, 'mutation_by_deletion_rate': 0.8793301770358487, 'mutation_rate_start': 0.9193919859695807, 'mutation_rate_end': 0.7413195129949548, 'crossover_method': 'cxTwoPoint', 'crossover_rate': 0.6557925573241767, 'crossover_points': 1, 'selection_method': 'selStochasticUniversalSampling', 'elitism_rate': 0.8683538642261321, 'survival_rate': 0.4954293104858473}.\n",
      "[I 2025-05-11 21:44:11,573] Trial 121 finished with values: [0.7057828307151794, 0.6688182353973389, 34.55379509925842] and parameters: {'mutation_method': 'mutExponential', 'mutation_prob': 0.13988919271746558, 'mutation_by_deletion_rate': 0.8022338920023413, 'mutation_rate_start': 0.6679435113506993, 'mutation_rate_end': 0.41232415677735273, 'mutation_rate_degree': 2, 'crossover_method': 'cxUniform', 'crossover_rate': 0.591354460245179, 'selection_method': 'selBest', 'elitism_rate': 0.28073634533365555, 'survival_rate': 0.3819218443965414}.\n",
      "[I 2025-05-11 21:44:46,385] Trial 122 finished with values: [0.6866185069084167, 0.6548490047454834, 34.506486654281616] and parameters: {'mutation_method': 'mutEntropy', 'mutation_prob': 0.09244938808610204, 'mutation_by_deletion_rate': 0.6335696502575203, 'mutation_rate_start': 0.5111881531509794, 'mutation_rate_end': 0.673898224734822, 'crossover_method': 'cxTwoPoint', 'crossover_rate': 0.31169064131625857, 'crossover_points': 4, 'selection_method': 'selNormRoulette', 'elitism_rate': 0.25768956886094396, 'survival_rate': 0.3122636987084826}.\n",
      "[I 2025-05-11 21:45:10,803] Trial 123 finished with values: [0.7109161615371704, 0.6502297878265381, 24.151944637298584] and parameters: {'mutation_method': 'mutConstant', 'mutation_prob': 0.019709881136604823, 'mutation_by_deletion_rate': 0.3453637959188174, 'mutation_rate': 0.0894994242587458, 'crossover_method': 'cxTwoPoint', 'crossover_rate': 0.5317120976921732, 'crossover_points': 1, 'selection_method': 'selBest', 'elitism_rate': 0.32775456562913746, 'survival_rate': 0.16070758508583208}.\n",
      "[I 2025-05-11 21:45:46,358] Trial 124 finished with values: [0.6438296437263489, 0.62487233877182, 35.252275705337524] and parameters: {'mutation_method': 'mutEntropy', 'mutation_prob': 0.4861434689715387, 'mutation_by_deletion_rate': 0.2944795686583314, 'mutation_rate_start': 0.8056155892743482, 'mutation_rate_end': 0.2921305265692319, 'crossover_method': 'cxTwoPoint', 'crossover_rate': 0.5686653093101178, 'crossover_points': 1, 'selection_method': 'selRoulette', 'elitism_rate': 0.393608370583266, 'survival_rate': 0.21278562452065275}.\n",
      "[I 2025-05-11 21:46:24,687] Trial 125 finished with values: [0.7634557485580444, 0.7424275636672973, 38.023603200912476] and parameters: {'mutation_method': 'mutEntropy', 'mutation_prob': 0.28756428432228887, 'mutation_by_deletion_rate': 0.6795515969929506, 'mutation_rate_start': 0.4282122424100592, 'mutation_rate_end': 0.4425698833098364, 'crossover_method': 'cxOnePoint', 'crossover_rate': 0.628756240601161, 'selection_method': 'selTournamentWithoutReplacement', 'tournsize': 2, 'elitism_rate': 0.24425863653487123, 'survival_rate': 0.4218701479576042}.\n",
      "[I 2025-05-11 21:46:57,803] Trial 126 finished with values: [0.6724451780319214, 0.64987211227417, 32.81380915641785] and parameters: {'mutation_method': 'mutExponential', 'mutation_prob': 0.33294151642486836, 'mutation_by_deletion_rate': 0.7348060524501845, 'mutation_rate_start': 0.47910524935648574, 'mutation_rate_end': 0.2476412179847498, 'mutation_rate_degree': 1, 'crossover_method': 'cxUniform', 'crossover_rate': 0.7114892636836541, 'selection_method': 'selBest', 'elitism_rate': 0.760164912016507, 'survival_rate': 0.35134807854974537}.\n",
      "[I 2025-05-11 21:47:33,135] Trial 127 finished with values: [0.6938449740409851, 0.6315998435020447, 35.04684233665466] and parameters: {'mutation_method': 'mutEntropy', 'mutation_prob': 0.4417352249259374, 'mutation_by_deletion_rate': 0.3076011354623894, 'mutation_rate_start': 0.2511657962192468, 'mutation_rate_end': 0.626196811684526, 'crossover_method': 'cxTwoPoint', 'crossover_rate': 0.6560563560400583, 'crossover_points': 1, 'selection_method': 'selBoltzmann', 'boltzmann_temperature': 0.709913729989905, 'elitism_rate': 0.4308869318658722, 'survival_rate': 0.2872404903964319}.\n",
      "[I 2025-05-11 21:48:09,444] Trial 128 finished with values: [0.8796648979187012, 0.8144384860992432, 36.02121186256409] and parameters: {'mutation_method': 'mutConstant', 'mutation_prob': 0.5282985338612401, 'mutation_by_deletion_rate': 0.2579788691198402, 'mutation_rate': 0.17694143093085246, 'crossover_method': 'cxTwoPoint', 'crossover_rate': 0.3932972037599768, 'crossover_points': 3, 'selection_method': 'selBest', 'elitism_rate': 0.3700626731120838, 'survival_rate': 0.45009792965760775}.\n",
      "[I 2025-05-11 21:48:28,313] Trial 129 finished with values: [0.689732015132904, 0.6631931066513062, 18.521081924438477] and parameters: {'mutation_method': 'mutEntropy', 'mutation_prob': 0.0014748695274113058, 'mutation_by_deletion_rate': 0.420150654839074, 'mutation_rate_start': 0.21853319647575575, 'mutation_rate_end': 0.9999078884568289, 'crossover_method': 'cxTwoPoint', 'crossover_rate': 0.8567541314313146, 'crossover_points': 1, 'selection_method': 'selRandom', 'elitism_rate': 0.30427779877818456, 'survival_rate': 0.4011430794140426}.\n",
      "[I 2025-05-11 21:49:08,235] Trial 130 finished with values: [0.7956542372703552, 0.7794510364532471, 39.60966110229492] and parameters: {'mutation_method': 'mutEntropy', 'mutation_prob': 0.6224030737857864, 'mutation_by_deletion_rate': 0.37998338453614283, 'mutation_rate_start': 0.2052256704660064, 'mutation_rate_end': 0.1583052309312878, 'crossover_method': 'cxTwoPoint', 'crossover_rate': 0.6413142459465064, 'crossover_points': 1, 'selection_method': 'selRandom', 'elitism_rate': 0.20939093431563288, 'survival_rate': 0.3422791145270577}.\n",
      "[I 2025-05-11 21:49:43,059] Trial 131 finished with values: [0.5779446363449097, 0.5557971954345703, 34.45599722862244] and parameters: {'mutation_method': 'mutEntropy', 'mutation_prob': 0.2505598975923723, 'mutation_by_deletion_rate': 0.28449083101601547, 'mutation_rate_start': 0.02267224942908641, 'mutation_rate_end': 0.9427420457965663, 'crossover_method': 'cxOnePoint', 'crossover_rate': 0.48081931184642, 'selection_method': 'selStochasticUniversalSampling', 'elitism_rate': 0.41273708585903135, 'survival_rate': 0.39571637778116164}.\n",
      "[I 2025-05-11 21:50:16,758] Trial 132 finished with values: [0.765335202217102, 0.7339499354362488, 33.396170139312744] and parameters: {'mutation_method': 'mutExponential', 'mutation_prob': 0.38682567522149924, 'mutation_by_deletion_rate': 0.2386633023649165, 'mutation_rate_start': 0.1090402399844069, 'mutation_rate_end': 0.5659523224924172, 'mutation_rate_degree': 4, 'crossover_method': 'cxTwoPoint', 'crossover_rate': 0.5103057177784472, 'crossover_points': 1, 'selection_method': 'selBest', 'elitism_rate': 0.5117841783270249, 'survival_rate': 0.31233372801773}.\n",
      "[I 2025-05-11 21:50:56,033] Trial 133 finished with values: [0.816871166229248, 0.7418452739715576, 38.95106267929077] and parameters: {'mutation_method': 'mutConstant', 'mutation_prob': 0.7625701373846315, 'mutation_by_deletion_rate': 0.3540651059093219, 'mutation_rate': 0.3943627353169111, 'crossover_method': 'cxUniform', 'crossover_rate': 0.8562030288742211, 'selection_method': 'selBest', 'elitism_rate': 0.3084762183650128, 'survival_rate': 0.3811213184846874}.\n",
      "[I 2025-05-11 21:51:36,226] Trial 134 finished with values: [0.7540360689163208, 0.7244474649429321, 39.90438747406006] and parameters: {'mutation_method': 'mutEntropy', 'mutation_prob': 0.6735360770203674, 'mutation_by_deletion_rate': 0.32955214974116054, 'mutation_rate_start': 0.7566129995459667, 'mutation_rate_end': 0.8817479490739107, 'crossover_method': 'cxTwoPoint', 'crossover_rate': 0.5670483473961972, 'crossover_points': 4, 'selection_method': 'selNormRoulette', 'elitism_rate': 0.2889396819818479, 'survival_rate': 0.36536246082303303}.\n",
      "[I 2025-05-11 21:52:19,553] Trial 135 finished with values: [0.7631176710128784, 0.7227425694465637, 43.02949523925781] and parameters: {'mutation_method': 'mutEntropy', 'mutation_prob': 0.47136593989916026, 'mutation_by_deletion_rate': 0.9328007097846762, 'mutation_rate_start': 0.1523232148807848, 'mutation_rate_end': 0.3595428449087439, 'crossover_method': 'cxTwoPoint', 'crossover_rate': 0.5938466499604698, 'crossover_points': 1, 'selection_method': 'selRoulette', 'elitism_rate': 0.03129643674678706, 'survival_rate': 0.32357072331394243}.\n",
      "[I 2025-05-11 21:52:59,219] Trial 136 finished with values: [0.711453378200531, 0.6610419511795044, 39.387731075286865] and parameters: {'mutation_method': 'mutEntropy', 'mutation_prob': 0.7830279842144372, 'mutation_by_deletion_rate': 0.41514632459128836, 'mutation_rate_start': 0.8960045453345289, 'mutation_rate_end': 0.06807106645087281, 'crossover_method': 'cxOnePoint', 'crossover_rate': 0.6174557201252283, 'selection_method': 'selRandom', 'elitism_rate': 0.3394729908584598, 'survival_rate': 0.4149837267386044}.\n",
      "[I 2025-05-11 21:53:13,005] Trial 137 finished with values: [0.6440722346305847, 0.5862468719482422, 13.49260663986206] and parameters: {'mutation_method': 'mutConstant', 'mutation_prob': 0.002207642982838154, 'mutation_by_deletion_rate': 0.26264634612505683, 'mutation_rate': 0.9949893089998323, 'crossover_method': 'cxTwoPoint', 'crossover_rate': 0.27779353085259173, 'crossover_points': 1, 'selection_method': 'selTournamentWithoutReplacement', 'tournsize': 6, 'elitism_rate': 0.06584011300459094, 'survival_rate': 0.6679182782258098}.\n",
      "[I 2025-05-11 21:53:47,423] Trial 138 finished with values: [0.7291814088821411, 0.7046485543251038, 34.096728801727295] and parameters: {'mutation_method': 'mutExponential', 'mutation_prob': 0.16381464512585553, 'mutation_by_deletion_rate': 0.43593815237442624, 'mutation_rate_start': 0.38215886727753623, 'mutation_rate_end': 0.25594577409639924, 'mutation_rate_degree': 2, 'crossover_method': 'cxUniform', 'crossover_rate': 0.020993552964522627, 'selection_method': 'selBest', 'elitism_rate': 0.23361459893012612, 'survival_rate': 0.342654302151983}.\n",
      "[I 2025-05-11 21:54:28,003] Trial 139 finished with values: [0.8653249740600586, 0.823905062675476, 40.266300678253174] and parameters: {'mutation_method': 'mutEntropy', 'mutation_prob': 0.35845724750208535, 'mutation_by_deletion_rate': 0.3959411743638107, 'mutation_rate_start': 0.40419225255132896, 'mutation_rate_end': 0.10348892649546229, 'crossover_method': 'cxTwoPoint', 'crossover_rate': 0.7392457619972624, 'crossover_points': 1, 'selection_method': 'selBoltzmann', 'boltzmann_temperature': 0.7439809347769543, 'elitism_rate': 0.18920805904741733, 'survival_rate': 0.6356673795948393}.\n",
      "[I 2025-05-11 21:54:59,469] Trial 140 finished with values: [0.7357660531997681, 0.7155866622924805, 31.160573482513428] and parameters: {'mutation_method': 'mutConstant', 'mutation_prob': 0.5615751637067808, 'mutation_by_deletion_rate': 0.2573237209154278, 'mutation_rate': 0.17075532415772143, 'crossover_method': 'cxTwoPoint', 'crossover_rate': 0.8950190615062332, 'crossover_points': 3, 'selection_method': 'selBest', 'elitism_rate': 0.8342907776971983, 'survival_rate': 0.0841367375870371}.\n",
      "[I 2025-05-11 21:55:39,357] Trial 141 finished with values: [0.7070106863975525, 0.6598525285720825, 39.32696986198425] and parameters: {'mutation_method': 'mutLinear', 'mutation_prob': 0.8232100446386105, 'mutation_by_deletion_rate': 0.3058179399984761, 'mutation_rate_start': 0.3196498171565421, 'mutation_rate_end': 0.7151274261848399, 'crossover_method': 'cxKPoint', 'crossover_rate': 0.5541681000848824, 'crossover_points': 1, 'selection_method': 'selBest', 'elitism_rate': 0.3533066711013997, 'survival_rate': 0.4025729522504939}.\n",
      "[I 2025-05-11 21:56:18,408] Trial 142 finished with values: [0.6839749813079834, 0.6492917776107788, 38.752175092697144] and parameters: {'mutation_method': 'mutEntropy', 'mutation_prob': 0.5276872765829916, 'mutation_by_deletion_rate': 0.2116650889324222, 'mutation_rate_start': 0.2152602107913405, 'mutation_rate_end': 0.5890111151368655, 'crossover_method': 'cxTwoPoint', 'crossover_rate': 0.001856810863361493, 'crossover_points': 1, 'selection_method': 'selBest', 'elitism_rate': 0.2757298574411847, 'survival_rate': 0.4585120181727277}.\n",
      "[I 2025-05-11 21:56:48,792] Trial 143 finished with values: [0.6445983648300171, 0.6141116738319397, 30.072044610977173] and parameters: {'mutation_method': 'mutLinear', 'mutation_prob': 0.21032784983043776, 'mutation_by_deletion_rate': 0.27874223866854614, 'mutation_rate_start': 0.26351858892858354, 'mutation_rate_end': 0.9980682167259964, 'crossover_method': 'cxKPoint', 'crossover_rate': 0.5974932114090805, 'crossover_points': 4, 'selection_method': 'selTournament', 'tournsize': 5, 'elitism_rate': 0.6047193133955744, 'survival_rate': 0.79793569372628}.\n",
      "[I 2025-05-11 21:57:19,872] Trial 144 finished with values: [0.7417641878128052, 0.7099527955055237, 30.575434684753418] and parameters: {'mutation_method': 'mutEntropy', 'mutation_prob': 0.11799059405986978, 'mutation_by_deletion_rate': 0.12502345084822397, 'mutation_rate_start': 0.972182725861271, 'mutation_rate_end': 0.2122732291945919, 'crossover_method': 'cxTwoPoint', 'crossover_rate': 0.3821772289786596, 'crossover_points': 2, 'selection_method': 'selStochasticUniversalSampling', 'elitism_rate': 0.5547214384425265, 'survival_rate': 0.7559260478395573}.\n",
      "[I 2025-05-11 21:57:51,094] Trial 145 finished with values: [0.6982384324073792, 0.6722455501556397, 30.93048119544983] and parameters: {'mutation_method': 'mutLinear', 'mutation_prob': 0.23763887769608516, 'mutation_by_deletion_rate': 0.2534919432918841, 'mutation_rate_start': 0.3612161334603145, 'mutation_rate_end': 0.026694199000831476, 'crossover_method': 'cxUniform', 'crossover_rate': 0.05458371700641238, 'selection_method': 'selNormRoulette', 'elitism_rate': 0.3739202992585637, 'survival_rate': 0.37866540117244724}.\n",
      "[I 2025-05-11 21:58:21,620] Trial 146 finished with values: [0.6847978234291077, 0.6534147381782531, 30.20831799507141] and parameters: {'mutation_method': 'mutEntropy', 'mutation_prob': 0.4246824336267122, 'mutation_by_deletion_rate': 0.4819794067112973, 'mutation_rate_start': 0.8224378051075023, 'mutation_rate_end': 0.3090934006351177, 'crossover_method': 'cxOnePoint', 'crossover_rate': 0.7670755433737866, 'selection_method': 'selBest', 'elitism_rate': 0.6575661550708733, 'survival_rate': 0.44912023016724617}.\n",
      "[I 2025-05-11 21:58:57,921] Trial 147 finished with values: [0.6485612392425537, 0.6102165699005127, 36.02253437042236] and parameters: {'mutation_method': 'mutConstant', 'mutation_prob': 0.7479002306911859, 'mutation_by_deletion_rate': 0.0743533755896679, 'mutation_rate': 0.610669188175789, 'crossover_method': 'cxKPoint', 'crossover_rate': 0.6777012615087687, 'crossover_points': 1, 'selection_method': 'selTournament', 'tournsize': 1, 'elitism_rate': 0.31577094345013784, 'survival_rate': 0.3045745071209769}.\n",
      "[I 2025-05-11 21:59:31,535] Trial 148 finished with values: [0.8165640830993652, 0.7451800346374512, 33.340341091156006] and parameters: {'mutation_method': 'mutLinear', 'mutation_prob': 0.2978905430834674, 'mutation_by_deletion_rate': 0.5636849778815336, 'mutation_rate_start': 0.07782755591464355, 'mutation_rate_end': 0.5439562466821926, 'crossover_method': 'cxTwoPoint', 'crossover_rate': 0.9637683895987325, 'crossover_points': 1, 'selection_method': 'selBest', 'elitism_rate': 0.0989782652269825, 'survival_rate': 0.018547170155778336}.\n",
      "[I 2025-05-11 22:00:13,825] Trial 149 finished with values: [0.6207950115203857, 0.5810410261154175, 41.98984909057617] and parameters: {'mutation_method': 'mutExponential', 'mutation_prob': 0.8433162942919928, 'mutation_by_deletion_rate': 0.23448695417949403, 'mutation_rate_start': 0.5562333517088485, 'mutation_rate_end': 0.12447637228752655, 'mutation_rate_degree': 3, 'crossover_method': 'cxKPoint', 'crossover_rate': 0.8214782612903037, 'crossover_points': 1, 'selection_method': 'selRandom', 'elitism_rate': 0.007103482785270808, 'survival_rate': 0.36267198246704097}.\n",
      "[I 2025-05-11 22:00:45,080] Trial 150 finished with values: [0.617056131362915, 0.5937845826148986, 30.95453405380249] and parameters: {'mutation_method': 'mutEntropy', 'mutation_prob': 0.7120435182127451, 'mutation_by_deletion_rate': 0.3380271760203502, 'mutation_rate_start': 0.2890219857486492, 'mutation_rate_end': 0.7839035905369973, 'crossover_method': 'cxTwoPoint', 'crossover_rate': 0.5747590668313687, 'crossover_points': 1, 'selection_method': 'selTournament', 'tournsize': 7, 'elitism_rate': 0.6936278079937997, 'survival_rate': 0.4181852142467691}.\n",
      "[I 2025-05-11 22:01:15,555] Trial 151 finished with values: [0.7729278802871704, 0.7338194012641907, 30.188660144805908] and parameters: {'mutation_method': 'mutLinear', 'mutation_prob': 0.8018434144571511, 'mutation_by_deletion_rate': 0.31716153324703167, 'mutation_rate_start': 0.45312640972306945, 'mutation_rate_end': 0.09752591711846463, 'crossover_method': 'cxKPoint', 'crossover_rate': 0.6236582958192984, 'crossover_points': 4, 'selection_method': 'selTournamentWithoutReplacement', 'tournsize': 9, 'elitism_rate': 0.743788527373854, 'survival_rate': 0.3397251068894001}.\n",
      "[I 2025-05-11 22:01:45,720] Trial 152 finished with values: [0.6069772839546204, 0.5907711625099182, 29.877091646194458] and parameters: {'mutation_method': 'mutLinear', 'mutation_prob': 0.9408072916710998, 'mutation_by_deletion_rate': 0.29949767318891435, 'mutation_rate_start': 0.4284015168637069, 'mutation_rate_end': 0.48351576942866825, 'crossover_method': 'cxTwoPoint', 'crossover_rate': 0.6244507679170216, 'crossover_points': 4, 'selection_method': 'selRoulette', 'elitism_rate': 0.7845807881289151, 'survival_rate': 0.3392205159728748}.\n",
      "[I 2025-05-11 22:02:17,456] Trial 153 finished with values: [0.586037814617157, 0.547877061367035, 31.366228818893433] and parameters: {'mutation_method': 'mutEntropy', 'mutation_prob': 0.0711481631950246, 'mutation_by_deletion_rate': 0.5157908323563921, 'mutation_rate_start': 0.3402166497076781, 'mutation_rate_end': 0.8183360194494256, 'crossover_method': 'cxKPoint', 'crossover_rate': 0.25170723814483514, 'crossover_points': 1, 'selection_method': 'selBest', 'elitism_rate': 0.2649413883098622, 'survival_rate': 0.398798067554298}.\n",
      "[I 2025-05-11 22:02:46,161] Trial 154 finished with values: [0.6895948052406311, 0.6617899537086487, 28.3398699760437] and parameters: {'mutation_method': 'mutLinear', 'mutation_prob': 0.7957218578550649, 'mutation_by_deletion_rate': 0.32210262754464425, 'mutation_rate_start': 0.30968254521072813, 'mutation_rate_end': 0.08493524412608532, 'crossover_method': 'cxTwoPoint', 'crossover_rate': 0.036087076538090374, 'crossover_points': 3, 'selection_method': 'selTournament', 'tournsize': 8, 'elitism_rate': 0.9470497103608742, 'survival_rate': 0.7144301212742136}.\n",
      "[I 2025-05-11 22:03:25,045] Trial 155 finished with values: [0.8289503455162048, 0.7788899660110473, 38.59110927581787] and parameters: {'mutation_method': 'mutEntropy', 'mutation_prob': 0.7647560532587628, 'mutation_by_deletion_rate': 0.27713972127158376, 'mutation_rate_start': 0.1757290111376001, 'mutation_rate_end': 0.3785680395597607, 'crossover_method': 'cxKPoint', 'crossover_rate': 0.6430795959010545, 'crossover_points': 1, 'selection_method': 'selTournamentWithoutReplacement', 'tournsize': 9, 'elitism_rate': 0.3030178053788573, 'survival_rate': 0.3518795638309489}.\n",
      "[I 2025-05-11 22:04:06,035] Trial 156 finished with values: [0.6359370350837708, 0.6217008709907532, 40.703792095184326] and parameters: {'mutation_method': 'mutEntropy', 'mutation_prob': 0.6522577498268711, 'mutation_by_deletion_rate': 0.363177404008231, 'mutation_rate_start': 0.4523810450006997, 'mutation_rate_end': 0.6872777228232566, 'crossover_method': 'cxUniform', 'crossover_rate': 0.0724377655035392, 'selection_method': 'selBest', 'elitism_rate': 0.15245810071763452, 'survival_rate': 0.9850131622795408}.\n",
      "[I 2025-05-11 22:04:38,972] Trial 157 finished with values: [0.7619964480400085, 0.7333148956298828, 32.64456486701965] and parameters: {'mutation_method': 'mutLinear', 'mutation_prob': 0.19352125832370506, 'mutation_by_deletion_rate': 0.18932127855498304, 'mutation_rate_start': 0.5198723288046572, 'mutation_rate_end': 0.011895886517026527, 'crossover_method': 'cxOnePoint', 'crossover_rate': 0.01562522190155421, 'selection_method': 'selBoltzmann', 'boltzmann_temperature': 0.2763774965677976, 'elitism_rate': 0.3298007308734398, 'survival_rate': 0.8827068981154732}.\n",
      "[I 2025-05-11 22:05:17,499] Trial 158 finished with values: [0.8562235832214355, 0.8214829444885254, 38.226046323776245] and parameters: {'mutation_method': 'mutConstant', 'mutation_prob': 0.5970602678487748, 'mutation_by_deletion_rate': 0.991517383996304, 'mutation_rate': 0.15612574256152012, 'crossover_method': 'cxTwoPoint', 'crossover_rate': 0.5215611310875284, 'crossover_points': 1, 'selection_method': 'selTournament', 'tournsize': 10, 'elitism_rate': 0.25049456667624564, 'survival_rate': 0.8574757639513827}.\n",
      "[I 2025-05-11 22:05:48,077] Trial 159 finished with values: [0.6069400906562805, 0.5598477005958558, 30.262810707092285] and parameters: {'mutation_method': 'mutEntropy', 'mutation_prob': 0.03977275114939771, 'mutation_by_deletion_rate': 0.15001504507839575, 'mutation_rate_start': 0.6517931812528701, 'mutation_rate_end': 0.505932408097334, 'crossover_method': 'cxKPoint', 'crossover_rate': 0.32645068942967725, 'crossover_points': 1, 'selection_method': 'selBest', 'elitism_rate': 0.4830574449259673, 'survival_rate': 0.6638784471060599}.\n",
      "[I 2025-05-11 22:06:21,225] Trial 160 finished with values: [0.6860761642456055, 0.602415406703949, 32.827463150024414] and parameters: {'mutation_method': 'mutExponential', 'mutation_prob': 0.7305228140207604, 'mutation_by_deletion_rate': 0.21847475418646742, 'mutation_rate_start': 0.7188720022775349, 'mutation_rate_end': 0.45154806955825055, 'mutation_rate_degree': 1, 'crossover_method': 'cxTwoPoint', 'crossover_rate': 0.11177678890833559, 'crossover_points': 1, 'selection_method': 'selStochasticUniversalSampling', 'elitism_rate': 0.7441939549489334, 'survival_rate': 0.27270974380005597}.\n",
      "[I 2025-05-11 22:07:00,531] Trial 161 finished with values: [0.7898143529891968, 0.7564774036407471, 39.008209466934204] and parameters: {'mutation_method': 'mutEntropy', 'mutation_prob': 0.6996139817971135, 'mutation_by_deletion_rate': 0.29522825584332024, 'mutation_rate_start': 0.39378610405384173, 'mutation_rate_end': 0.1711137892810969, 'crossover_method': 'cxKPoint', 'crossover_rate': 0.5820951968115005, 'crossover_points': 2, 'selection_method': 'selBest', 'elitism_rate': 0.2887021547633661, 'survival_rate': 0.8199748342217539}.\n",
      "[I 2025-05-11 22:07:41,068] Trial 162 finished with values: [0.7953899502754211, 0.7436204195022583, 40.211261510849] and parameters: {'mutation_method': 'mutLinear', 'mutation_prob': 0.9995398611041131, 'mutation_by_deletion_rate': 0.25065490364212206, 'mutation_rate_start': 0.30270650637486707, 'mutation_rate_end': 0.271981055656231, 'crossover_method': 'cxTwoPoint', 'crossover_rate': 0.6549558638729023, 'crossover_points': 4, 'selection_method': 'selTournament', 'tournsize': 2, 'elitism_rate': 0.34459922875031224, 'survival_rate': 0.604802417955166}.\n",
      "[I 2025-05-11 22:08:21,945] Trial 163 finished with values: [0.84247887134552, 0.7758145809173584, 40.57652425765991] and parameters: {'mutation_method': 'mutLinear', 'mutation_prob': 0.8801540435404134, 'mutation_by_deletion_rate': 0.3198533240190907, 'mutation_rate_start': 0.8676484708633276, 'mutation_rate_end': 0.04738644396766379, 'crossover_method': 'cxTwoPoint', 'crossover_rate': 0.6028279683571957, 'crossover_points': 1, 'selection_method': 'selBest', 'elitism_rate': 0.26920667532724507, 'survival_rate': 0.37305584262755126}.\n",
      "[I 2025-05-11 22:08:57,136] Trial 164 finished with values: [0.8064595460891724, 0.7658223867416382, 34.84465003013611] and parameters: {'mutation_method': 'mutEntropy', 'mutation_prob': 0.14571196177894052, 'mutation_by_deletion_rate': 0.2674168803016281, 'mutation_rate_start': 0.6136103870076322, 'mutation_rate_end': 0.13393044199316773, 'crossover_method': 'cxOnePoint', 'crossover_rate': 0.5550025017641497, 'selection_method': 'selNormRoulette', 'elitism_rate': 0.3599257416304687, 'survival_rate': 0.7739225421763071}.\n",
      "[I 2025-05-11 22:09:32,417] Trial 165 finished with values: [0.7271966934204102, 0.685290539264679, 34.92019772529602] and parameters: {'mutation_method': 'mutEntropy', 'mutation_prob': 0.31750443458004807, 'mutation_by_deletion_rate': 0.11161618149712271, 'mutation_rate_start': 0.27418837638148247, 'mutation_rate_end': 0.4230185297979557, 'crossover_method': 'cxKPoint', 'crossover_rate': 0.003213222237997755, 'crossover_points': 1, 'selection_method': 'selTournament', 'tournsize': 6, 'elitism_rate': 0.4587786361785719, 'survival_rate': 0.7366742028049238}.\n",
      "[I 2025-05-11 22:10:12,002] Trial 166 finished with values: [0.7868730425834656, 0.748797333240509, 39.25185513496399] and parameters: {'mutation_method': 'mutLinear', 'mutation_prob': 0.8077876991612271, 'mutation_by_deletion_rate': 0.04449959419665794, 'mutation_rate_start': 0.372703470999778, 'mutation_rate_end': 0.6506936570682563, 'crossover_method': 'cxUniform', 'crossover_rate': 0.6699740421676927, 'selection_method': 'selBest', 'elitism_rate': 0.30178628052628753, 'survival_rate': 0.5553512630583948}.\n",
      "[I 2025-05-11 22:10:54,063] Trial 167 finished with values: [0.7499423027038574, 0.6582605004310608, 41.72869253158569] and parameters: {'mutation_method': 'mutConstant', 'mutation_prob': 0.7771298875658701, 'mutation_by_deletion_rate': 0.6591706480114101, 'mutation_rate': 0.8774123004206527, 'crossover_method': 'cxTwoPoint', 'crossover_rate': 0.6176806962934296, 'crossover_points': 1, 'selection_method': 'selRandom', 'elitism_rate': 0.22661546989186931, 'survival_rate': 0.6888703769306187}.\n",
      "[I 2025-05-11 22:11:28,711] Trial 168 finished with values: [0.5776277780532837, 0.5491045117378235, 34.301621198654175] and parameters: {'mutation_method': 'mutEntropy', 'mutation_prob': 0.10040152167011732, 'mutation_by_deletion_rate': 0.3408333750164355, 'mutation_rate_start': 0.3376292643962652, 'mutation_rate_end': 0.730918162696623, 'crossover_method': 'cxKPoint', 'crossover_rate': 0.04718989108830115, 'crossover_points': 3, 'selection_method': 'selRoulette', 'elitism_rate': 0.3185637975142233, 'survival_rate': 0.043238656321809454}.\n",
      "[I 2025-05-11 22:12:06,582] Trial 169 finished with values: [0.7278872132301331, 0.6912458419799805, 37.49318480491638] and parameters: {'mutation_method': 'mutExponential', 'mutation_prob': 0.9153869647933386, 'mutation_by_deletion_rate': 0.7907884433115285, 'mutation_rate_start': 0.6941795586376129, 'mutation_rate_end': 0.8595572368793614, 'mutation_rate_degree': 4, 'crossover_method': 'cxTwoPoint', 'crossover_rate': 0.8758242251947426, 'crossover_points': 1, 'selection_method': 'selTournamentWithoutReplacement', 'tournsize': 5, 'elitism_rate': 0.5149298688250287, 'survival_rate': 0.9392456255272119}.\n",
      "[I 2025-05-11 22:12:47,715] Trial 170 finished with values: [0.7355497479438782, 0.6921810626983642, 40.75421071052551] and parameters: {'mutation_method': 'mutLinear', 'mutation_prob': 0.963437460315147, 'mutation_by_deletion_rate': 0.2875922998464528, 'mutation_rate_start': 0.22194102690551104, 'mutation_rate_end': 0.7634017457048059, 'crossover_method': 'cxTwoPoint', 'crossover_rate': 0.029047547052426168, 'crossover_points': 1, 'selection_method': 'selTournament', 'tournsize': 9, 'elitism_rate': 0.2812958585453792, 'survival_rate': 0.3931158081181913}.\n",
      "[I 2025-05-11 22:13:22,928] Trial 171 finished with values: [0.8230640888214111, 0.7845830678939819, 34.87657189369202] and parameters: {'mutation_method': 'mutConstant', 'mutation_prob': 0.2641078969901095, 'mutation_by_deletion_rate': 0.7231095983511413, 'mutation_rate': 0.15494072222350952, 'crossover_method': 'cxTwoPoint', 'crossover_rate': 0.5312259877221235, 'crossover_points': 1, 'selection_method': 'selBest', 'elitism_rate': 0.29739068302189103, 'survival_rate': 0.3306481084124834}.\n",
      "[I 2025-05-11 22:14:02,254] Trial 172 finished with values: [0.6209244132041931, 0.5924120664596557, 38.95072412490845] and parameters: {'mutation_method': 'mutEntropy', 'mutation_prob': 0.5970053881345145, 'mutation_by_deletion_rate': 0.231708737360077, 'mutation_rate_start': 0.9354812259296587, 'mutation_rate_end': 0.3335818747771644, 'crossover_method': 'cxKPoint', 'crossover_rate': 0.4582847039718032, 'crossover_points': 1, 'selection_method': 'selTournament', 'tournsize': 10, 'elitism_rate': 0.24975568365940282, 'survival_rate': 0.8578855110034735}.\n",
      "[I 2025-05-11 22:14:42,600] Trial 173 finished with values: [0.7987520694732666, 0.7487171649932861, 39.9927031993866] and parameters: {'mutation_method': 'mutEntropy', 'mutation_prob': 0.744797211632769, 'mutation_by_deletion_rate': 0.9977651742768379, 'mutation_rate_start': 0.24399825948173917, 'mutation_rate_end': 0.20362340588033, 'crossover_method': 'cxTwoPoint', 'crossover_rate': 0.5979937255510203, 'crossover_points': 4, 'selection_method': 'selBest', 'elitism_rate': 0.25778493364740895, 'survival_rate': 0.3561443935450179}.\n",
      "[I 2025-05-11 22:15:16,939] Trial 174 finished with values: [0.7080999612808228, 0.6680881142616272, 34.00104761123657] and parameters: {'mutation_method': 'mutLinear', 'mutation_prob': 0.16522765558918917, 'mutation_by_deletion_rate': 0.022294756086918777, 'mutation_rate_start': 0.6335752602639099, 'mutation_rate_end': 0.5239031999510345, 'crossover_method': 'cxOnePoint', 'crossover_rate': 0.4080483126319394, 'selection_method': 'selTournament', 'tournsize': 7, 'elitism_rate': 0.32864694332400946, 'survival_rate': 0.633293958747955}.\n",
      "[I 2025-05-11 22:15:55,178] Trial 175 finished with values: [0.6333327889442444, 0.600256335735321, 37.90218472480774] and parameters: {'mutation_method': 'mutEntropy', 'mutation_prob': 0.5066637301645347, 'mutation_by_deletion_rate': 0.30630463504876543, 'mutation_rate_start': 0.5779220959506568, 'mutation_rate_end': 0.9092077654457161, 'crossover_method': 'cxKPoint', 'crossover_rate': 0.5747781898660157, 'crossover_points': 2, 'selection_method': 'selBoltzmann', 'boltzmann_temperature': 0.5864056787812706, 'elitism_rate': 0.3098384181753534, 'survival_rate': 0.4378080779258422}.\n",
      "[I 2025-05-11 22:16:33,995] Trial 176 finished with values: [0.871685802936554, 0.803826105594635, 38.49399185180664] and parameters: {'mutation_method': 'mutConstant', 'mutation_prob': 0.540899353146216, 'mutation_by_deletion_rate': 0.9117600660484649, 'mutation_rate': 0.36413886096075715, 'crossover_method': 'cxUniform', 'crossover_rate': 0.6372737245889739, 'selection_method': 'selBest', 'elitism_rate': 0.2816099978648288, 'survival_rate': 0.9120818361334811}.\n",
      "[I 2025-05-11 22:17:06,510] Trial 177 finished with values: [0.7126734256744385, 0.6902157425880432, 32.164268255233765] and parameters: {'mutation_method': 'mutLinear', 'mutation_prob': 0.03234720352260645, 'mutation_by_deletion_rate': 0.20510977340645195, 'mutation_rate_start': 0.05815219393792215, 'mutation_rate_end': 0.3912247697354906, 'crossover_method': 'cxTwoPoint', 'crossover_rate': 0.939777507371231, 'crossover_points': 1, 'selection_method': 'selStochasticUniversalSampling', 'elitism_rate': 0.33638176867689074, 'survival_rate': 0.37494969803563477}.\n",
      "[I 2025-05-11 22:17:36,231] Trial 178 finished with values: [0.5970922112464905, 0.547404408454895, 29.36123776435852] and parameters: {'mutation_method': 'mutEntropy', 'mutation_prob': 0.22712010545504885, 'mutation_by_deletion_rate': 0.2488226880361997, 'mutation_rate_start': 0.036970297663599515, 'mutation_rate_end': 0.5791349492384056, 'crossover_method': 'cxKPoint', 'crossover_rate': 0.06925136022631495, 'crossover_points': 1, 'selection_method': 'selTournament', 'tournsize': 4, 'elitism_rate': 0.8986187128398366, 'survival_rate': 0.8412216420429427}.\n",
      "[I 2025-05-11 22:18:11,525] Trial 179 finished with values: [0.7660773992538452, 0.7142853021621705, 34.95470690727234] and parameters: {'mutation_method': 'mutExponential', 'mutation_prob': 0.34861573660843154, 'mutation_by_deletion_rate': 0.9724890364801673, 'mutation_rate_start': 0.14370906413625217, 'mutation_rate_end': 0.9649989581579723, 'mutation_rate_degree': 3, 'crossover_method': 'cxTwoPoint', 'crossover_rate': 0.21448744356526017, 'crossover_points': 1, 'selection_method': 'selBest', 'elitism_rate': 0.24367226651938023, 'survival_rate': 0.30090132900402333}.\n",
      "[I 2025-05-11 22:18:50,277] Trial 180 finished with values: [0.8351483345031738, 0.7991580486297607, 38.43742394447327] and parameters: {'mutation_method': 'mutLinear', 'mutation_prob': 0.39675481522050904, 'mutation_by_deletion_rate': 0.2699096847218096, 'mutation_rate_start': 0.003855219893067738, 'mutation_rate_end': 0.6116607592030652, 'crossover_method': 'cxTwoPoint', 'crossover_rate': 0.6959827131870702, 'crossover_points': 1, 'selection_method': 'selNormRoulette', 'elitism_rate': 0.2865150531165188, 'survival_rate': 0.5867372851486308}.\n",
      "[I 2025-05-11 22:19:29,978] Trial 181 finished with values: [0.7031478881835938, 0.6763641357421875, 39.35206484794617] and parameters: {'mutation_method': 'mutEntropy', 'mutation_prob': 0.7774470942571814, 'mutation_by_deletion_rate': 0.321275204121204, 'mutation_rate_start': 0.7679265490860255, 'mutation_rate_end': 0.05201617162263972, 'crossover_method': 'cxKPoint', 'crossover_rate': 0.000530679441985038, 'crossover_points': 3, 'selection_method': 'selBest', 'elitism_rate': 0.3164326740654389, 'survival_rate': 0.3950338905231757}.\n",
      "[I 2025-05-11 22:19:59,228] Trial 182 finished with values: [0.5256597995758057, 0.49987045526504514, 28.890155792236328] and parameters: {'mutation_method': 'mutEntropy', 'mutation_prob': 0.7215604212291253, 'mutation_by_deletion_rate': 0.17122270011438934, 'mutation_rate_start': 0.8049745195287976, 'mutation_rate_end': 0.11328090964651708, 'crossover_method': 'cxTwoPoint', 'crossover_rate': 0.6142222449423257, 'crossover_points': 1, 'selection_method': 'selTournament', 'tournsize': 10, 'elitism_rate': 0.9985431702794386, 'survival_rate': 0.4161225790951135}.\n",
      "[I 2025-05-11 22:20:42,926] Trial 183 finished with values: [0.7399319410324097, 0.7344926953315735, 43.340224742889404] and parameters: {'mutation_method': 'mutLinear', 'mutation_prob': 0.9800253823860617, 'mutation_by_deletion_rate': 0.2900821687425118, 'mutation_rate_start': 0.3525106961151419, 'mutation_rate_end': 0.09111268797484227, 'crossover_method': 'cxKPoint', 'crossover_rate': 0.04209136420387918, 'crossover_points': 4, 'selection_method': 'selRandom', 'elitism_rate': 0.2647620780975596, 'survival_rate': 0.3413611676328415}.\n",
      "[I 2025-05-11 22:21:22,007] Trial 184 finished with values: [0.7678288817405701, 0.7401992440223694, 38.722057819366455] and parameters: {'mutation_method': 'mutEntropy', 'mutation_prob': 0.45676958502772597, 'mutation_by_deletion_rate': 0.3665772805142201, 'mutation_rate_start': 0.32110861653471395, 'mutation_rate_end': 0.5571471260825169, 'crossover_method': 'cxOnePoint', 'crossover_rate': 0.5215817339116843, 'selection_method': 'selBest', 'elitism_rate': 0.30727046401582225, 'survival_rate': 0.7904264935568661}.\n",
      "[I 2025-05-11 22:22:02,655] Trial 185 finished with values: [0.6242491006851196, 0.5927525758743286, 40.26584815979004] and parameters: {'mutation_method': 'mutConstant', 'mutation_prob': 0.6853380634033384, 'mutation_by_deletion_rate': 0.8215709257379763, 'mutation_rate': 0.6278271622696416, 'crossover_method': 'cxTwoPoint', 'crossover_rate': 0.8051546913717221, 'crossover_points': 1, 'selection_method': 'selRoulette', 'elitism_rate': 0.36633772425662275, 'survival_rate': 0.09612338261731057}.\n",
      "[I 2025-05-11 22:22:38,562] Trial 186 finished with values: [0.6141829490661621, 0.5844269394874573, 35.55988168716431] and parameters: {'mutation_method': 'mutLinear', 'mutation_prob': 0.05305788738425776, 'mutation_by_deletion_rate': 0.5701969081522704, 'mutation_rate_start': 0.4769034613347361, 'mutation_rate_end': 0.3582210356954986, 'crossover_method': 'cxUniform', 'crossover_rate': 0.018673639442782275, 'selection_method': 'selTournament', 'tournsize': 9, 'elitism_rate': 0.27581971953977913, 'survival_rate': 0.6499782994903744}.\n",
      "[I 2025-05-11 22:23:19,597] Trial 187 finished with values: [0.8289003968238831, 0.7696704983711242, 40.703898668289185] and parameters: {'mutation_method': 'mutEntropy', 'mutation_prob': 0.8322100774254135, 'mutation_by_deletion_rate': 0.8666313642680926, 'mutation_rate_start': 0.29345056315227314, 'mutation_rate_end': 0.14990733781487864, 'crossover_method': 'cxKPoint', 'crossover_rate': 0.9969774402233461, 'crossover_points': 1, 'selection_method': 'selBest', 'elitism_rate': 0.3394764969044555, 'survival_rate': 0.7233457869250529}.\n",
      "[I 2025-05-11 22:23:55,470] Trial 188 finished with values: [0.6469725370407104, 0.6122082233428955, 35.50710916519165] and parameters: {'mutation_method': 'mutExponential', 'mutation_prob': 0.07624913829741756, 'mutation_by_deletion_rate': 0.333731940789882, 'mutation_rate_start': 0.8846900289551138, 'mutation_rate_end': 0.22099446502248002, 'mutation_rate_degree': 2, 'crossover_method': 'cxTwoPoint', 'crossover_rate': 0.5863679368958351, 'crossover_points': 1, 'selection_method': 'selBest', 'elitism_rate': 0.2893686879776766, 'survival_rate': 0.37640616987007763}.\n",
      "[I 2025-05-11 22:24:28,362] Trial 189 finished with values: [0.7141220569610596, 0.6892849445343018, 32.46401762962341] and parameters: {'mutation_method': 'mutLinear', 'mutation_prob': 0.752750794653999, 'mutation_by_deletion_rate': 0.3049650144487577, 'mutation_rate_start': 0.09681402652123283, 'mutation_rate_end': 0.29643307552388465, 'crossover_method': 'cxTwoPoint', 'crossover_rate': 0.08777190464306417, 'crossover_points': 1, 'selection_method': 'selTournamentWithoutReplacement', 'tournsize': 8, 'elitism_rate': 0.839810763880966, 'survival_rate': 0.32154936252829586}.\n",
      "[I 2025-05-11 22:24:36,240] Trial 190 finished with values: [0.5360535979270935, 0.512525224685669, 7.557414531707764] and parameters: {'mutation_method': 'mutEntropy', 'mutation_prob': 0.0011143044899911095, 'mutation_by_deletion_rate': 0.2713128394056667, 'mutation_rate_start': 0.744385169988742, 'mutation_rate_end': 0.18664815130371876, 'crossover_method': 'cxKPoint', 'crossover_rate': 0.5464584815956636, 'crossover_points': 2, 'selection_method': 'selTournament', 'tournsize': 10, 'elitism_rate': 0.24805682047404287, 'survival_rate': 0.15749458526021998}.\n",
      "[I 2025-05-11 22:24:54,844] Trial 191 finished with values: [0.5822955965995789, 0.5457147717475891, 18.252070903778076] and parameters: {'mutation_method': 'mutLinear', 'mutation_prob': 0.009312623352711219, 'mutation_by_deletion_rate': 0.2684326143438002, 'mutation_rate_start': 0.5899437622899797, 'mutation_rate_end': 0.17851426870854414, 'crossover_method': 'cxKPoint', 'crossover_rate': 0.5553777519607649, 'crossover_points': 2, 'selection_method': 'selTournament', 'tournsize': 10, 'elitism_rate': 0.3205000050214974, 'survival_rate': 0.0008407285514996365}.\n",
      "[I 2025-05-11 22:25:29,913] Trial 192 finished with values: [0.6956800818443298, 0.6691726922988892, 34.70263433456421] and parameters: {'mutation_method': 'mutEntropy', 'mutation_prob': 0.9315364118346016, 'mutation_by_deletion_rate': 0.24245431872870823, 'mutation_rate_start': 0.4090569975011906, 'mutation_rate_end': 0.18066620028382246, 'crossover_method': 'cxKPoint', 'crossover_rate': 0.624797459557797, 'crossover_points': 2, 'selection_method': 'selTournament', 'tournsize': 3, 'elitism_rate': 0.7286873490230763, 'survival_rate': 0.7551895858043293}.\n",
      "[I 2025-05-11 22:26:13,353] Trial 193 finished with values: [0.7911331653594971, 0.7378254771232605, 43.037420988082886] and parameters: {'mutation_method': 'mutEntropy', 'mutation_prob': 0.7941657384511907, 'mutation_by_deletion_rate': 0.28235805985023227, 'mutation_rate_start': 0.546268677260183, 'mutation_rate_end': 0.19671424213624367, 'crossover_method': 'cxTwoPoint', 'crossover_rate': 0.6049509248895388, 'crossover_points': 2, 'selection_method': 'selBoltzmann', 'boltzmann_temperature': 0.2404237544132969, 'elitism_rate': 0.24723747105262045, 'survival_rate': 0.5174222520247711}.\n",
      "[I 2025-05-11 22:26:49,354] Trial 194 finished with values: [0.7142236828804016, 0.6601560950279236, 35.59647560119629] and parameters: {'mutation_method': 'mutLinear', 'mutation_prob': 0.11767270174284739, 'mutation_by_deletion_rate': 0.34982510664162975, 'mutation_rate_start': 0.6752797445122074, 'mutation_rate_end': 0.1553763527820741, 'crossover_method': 'cxKPoint', 'crossover_rate': 0.026598848847229108, 'crossover_points': 2, 'selection_method': 'selBest', 'elitism_rate': 0.2987255036068393, 'survival_rate': 0.7004626681644358}.\n",
      "[I 2025-05-11 22:27:30,582] Trial 195 finished with values: [0.7731344699859619, 0.7552766561508178, 40.88560342788696] and parameters: {'mutation_method': 'mutConstant', 'mutation_prob': 0.5643270956946275, 'mutation_by_deletion_rate': 0.21761287239904, 'mutation_rate': 0.19874831123861902, 'crossover_method': 'cxOnePoint', 'crossover_rate': 0.49624613102084886, 'selection_method': 'selTournament', 'tournsize': 9, 'elitism_rate': 0.2596601717961926, 'survival_rate': 0.23195043904305057}.\n",
      "[I 2025-05-11 22:28:06,106] Trial 196 finished with values: [0.81167072057724, 0.7611106276512146, 34.92068147659302] and parameters: {'mutation_method': 'mutEntropy', 'mutation_prob': 0.6168875472312498, 'mutation_by_deletion_rate': 0.31470172354153175, 'mutation_rate_start': 0.4546412993779817, 'mutation_rate_end': 0.13978309496178845, 'crossover_method': 'cxTwoPoint', 'crossover_rate': 0.5753252976958979, 'crossover_points': 2, 'selection_method': 'selBest', 'elitism_rate': 0.682018583202761, 'survival_rate': 0.6167407873253234}.\n",
      "[I 2025-05-11 22:28:43,866] Trial 197 finished with values: [0.6736312508583069, 0.6513156771659852, 37.387383699417114] and parameters: {'mutation_method': 'mutLinear', 'mutation_prob': 0.47791422686218216, 'mutation_by_deletion_rate': 0.18913905999744918, 'mutation_rate_start': 0.3693371241845961, 'mutation_rate_end': 0.2505877420286985, 'crossover_method': 'cxUniform', 'crossover_rate': 0.05247258226537296, 'selection_method': 'selStochasticUniversalSampling', 'elitism_rate': 0.3558260147436127, 'survival_rate': 0.35645603507558826}.\n",
      "[I 2025-05-11 22:29:18,684] Trial 198 finished with values: [0.7068942189216614, 0.6797090888023376, 34.43177103996277] and parameters: {'mutation_method': 'mutEntropy', 'mutation_prob': 0.2843384650040655, 'mutation_by_deletion_rate': 0.6351625009476738, 'mutation_rate_start': 0.1968534460414586, 'mutation_rate_end': 0.11602416636136476, 'crossover_method': 'cxKPoint', 'crossover_rate': 0.6595525362619011, 'crossover_points': 2, 'selection_method': 'selRandom', 'elitism_rate': 0.6184317029863939, 'survival_rate': 0.6758424758902758}.\n",
      "[I 2025-05-11 22:29:58,965] Trial 199 finished with values: [0.7999708652496338, 0.7377057194709777, 39.88054585456848] and parameters: {'mutation_method': 'mutExponential', 'mutation_prob': 0.43277610518725457, 'mutation_by_deletion_rate': 0.772141240751099, 'mutation_rate_start': 0.7338307026580952, 'mutation_rate_end': 0.07619540814851616, 'mutation_rate_degree': 1, 'crossover_method': 'cxTwoPoint', 'crossover_rate': 0.6397535276306063, 'crossover_points': 3, 'selection_method': 'selNormRoulette', 'elitism_rate': 0.3298729288716101, 'survival_rate': 0.3965979226486659}.\n"
     ]
    }
   ],
   "source": [
    "study = run_optimization(n_trials=200)"
   ]
  },
  {
   "cell_type": "code",
   "execution_count": 4,
   "id": "7078511c",
   "metadata": {},
   "outputs": [
    {
     "data": {
      "text/plain": [
       "['Data/Optimizer Hyperparameters/GA_hp_pareto_with_del_200.pkl']"
      ]
     },
     "execution_count": 4,
     "metadata": {},
     "output_type": "execute_result"
    }
   ],
   "source": [
    "joblib.dump(study, \"Data/Optimizer Hyperparameters/GA_hp_pareto_with_del_200.pkl\")"
   ]
  },
  {
   "cell_type": "code",
   "execution_count": 13,
   "id": "16f983fd",
   "metadata": {},
   "outputs": [],
   "source": [
    "study = joblib.load(\"Data/Optimizer Hyperparameters/GA_hp_pareto_with_del_200.pkl\")"
   ]
  },
  {
   "cell_type": "code",
   "execution_count": 14,
   "id": "698f5ecf",
   "metadata": {},
   "outputs": [
    {
     "data": {
      "application/vnd.plotly.v1+json": {
       "config": {
        "plotlyServerURL": "https://plot.ly"
       },
       "data": [
        {
         "cliponaxis": false,
         "hovertemplate": [
          "mutation_method (CategoricalDistribution): 0.021536719188089564<extra></extra>",
          "crossover_rate (FloatDistribution): 0.022625555961771633<extra></extra>",
          "crossover_method (CategoricalDistribution): 0.02605180259604011<extra></extra>",
          "mutation_by_deletion_rate (FloatDistribution): 0.03183125321357949<extra></extra>",
          "selection_method (CategoricalDistribution): 0.08926350080025397<extra></extra>",
          "survival_rate (FloatDistribution): 0.11328261494772461<extra></extra>",
          "mutation_prob (FloatDistribution): 0.2533318182392599<extra></extra>",
          "elitism_rate (FloatDistribution): 0.4420767350532809<extra></extra>"
         ],
         "name": "Objective Value 0",
         "orientation": "h",
         "text": [
          "0.02",
          "0.02",
          "0.03",
          "0.03",
          "0.09",
          "0.11",
          "0.25",
          "0.44"
         ],
         "textposition": "outside",
         "type": "bar",
         "x": [
          0.021536719188089564,
          0.022625555961771633,
          0.02605180259604011,
          0.03183125321357949,
          0.08926350080025397,
          0.11328261494772461,
          0.2533318182392599,
          0.4420767350532809
         ],
         "y": [
          "mutation_method",
          "crossover_rate",
          "crossover_method",
          "mutation_by_deletion_rate",
          "selection_method",
          "survival_rate",
          "mutation_prob",
          "elitism_rate"
         ]
        },
        {
         "cliponaxis": false,
         "hovertemplate": [
          "mutation_method (CategoricalDistribution): 0.014118841909846615<extra></extra>",
          "crossover_method (CategoricalDistribution): 0.026995593799035614<extra></extra>",
          "crossover_rate (FloatDistribution): 0.03068415566937249<extra></extra>",
          "mutation_by_deletion_rate (FloatDistribution): 0.042934736034434116<extra></extra>",
          "selection_method (CategoricalDistribution): 0.0716094938068045<extra></extra>",
          "survival_rate (FloatDistribution): 0.10815866341617235<extra></extra>",
          "mutation_prob (FloatDistribution): 0.2796839466113872<extra></extra>",
          "elitism_rate (FloatDistribution): 0.42581456875294715<extra></extra>"
         ],
         "name": "Objective Value 1",
         "orientation": "h",
         "text": [
          "0.01",
          "0.03",
          "0.03",
          "0.04",
          "0.07",
          "0.11",
          "0.28",
          "0.43"
         ],
         "textposition": "outside",
         "type": "bar",
         "x": [
          0.014118841909846615,
          0.026995593799035614,
          0.03068415566937249,
          0.042934736034434116,
          0.0716094938068045,
          0.10815866341617235,
          0.2796839466113872,
          0.42581456875294715
         ],
         "y": [
          "mutation_method",
          "crossover_method",
          "crossover_rate",
          "mutation_by_deletion_rate",
          "selection_method",
          "survival_rate",
          "mutation_prob",
          "elitism_rate"
         ]
        },
        {
         "cliponaxis": false,
         "hovertemplate": [
          "crossover_method (CategoricalDistribution): 0.0035364501287535456<extra></extra>",
          "mutation_method (CategoricalDistribution): 0.007733850463981777<extra></extra>",
          "survival_rate (FloatDistribution): 0.011209175375612123<extra></extra>",
          "crossover_rate (FloatDistribution): 0.011723968096405274<extra></extra>",
          "mutation_by_deletion_rate (FloatDistribution): 0.013571160974424408<extra></extra>",
          "selection_method (CategoricalDistribution): 0.014568716382215477<extra></extra>",
          "mutation_prob (FloatDistribution): 0.42934975054874175<extra></extra>",
          "elitism_rate (FloatDistribution): 0.5083069280298659<extra></extra>"
         ],
         "name": "Objective Value 2",
         "orientation": "h",
         "text": [
          "<0.01",
          "<0.01",
          "0.01",
          "0.01",
          "0.01",
          "0.01",
          "0.43",
          "0.51"
         ],
         "textposition": "outside",
         "type": "bar",
         "x": [
          0.0035364501287535456,
          0.007733850463981777,
          0.011209175375612123,
          0.011723968096405274,
          0.013571160974424408,
          0.014568716382215477,
          0.42934975054874175,
          0.5083069280298659
         ],
         "y": [
          "crossover_method",
          "mutation_method",
          "survival_rate",
          "crossover_rate",
          "mutation_by_deletion_rate",
          "selection_method",
          "mutation_prob",
          "elitism_rate"
         ]
        }
       ],
       "layout": {
        "template": {
         "data": {
          "bar": [
           {
            "error_x": {
             "color": "#2a3f5f"
            },
            "error_y": {
             "color": "#2a3f5f"
            },
            "marker": {
             "line": {
              "color": "#E5ECF6",
              "width": 0.5
             },
             "pattern": {
              "fillmode": "overlay",
              "size": 10,
              "solidity": 0.2
             }
            },
            "type": "bar"
           }
          ],
          "barpolar": [
           {
            "marker": {
             "line": {
              "color": "#E5ECF6",
              "width": 0.5
             },
             "pattern": {
              "fillmode": "overlay",
              "size": 10,
              "solidity": 0.2
             }
            },
            "type": "barpolar"
           }
          ],
          "carpet": [
           {
            "aaxis": {
             "endlinecolor": "#2a3f5f",
             "gridcolor": "white",
             "linecolor": "white",
             "minorgridcolor": "white",
             "startlinecolor": "#2a3f5f"
            },
            "baxis": {
             "endlinecolor": "#2a3f5f",
             "gridcolor": "white",
             "linecolor": "white",
             "minorgridcolor": "white",
             "startlinecolor": "#2a3f5f"
            },
            "type": "carpet"
           }
          ],
          "choropleth": [
           {
            "colorbar": {
             "outlinewidth": 0,
             "ticks": ""
            },
            "type": "choropleth"
           }
          ],
          "contour": [
           {
            "colorbar": {
             "outlinewidth": 0,
             "ticks": ""
            },
            "colorscale": [
             [
              0,
              "#0d0887"
             ],
             [
              0.1111111111111111,
              "#46039f"
             ],
             [
              0.2222222222222222,
              "#7201a8"
             ],
             [
              0.3333333333333333,
              "#9c179e"
             ],
             [
              0.4444444444444444,
              "#bd3786"
             ],
             [
              0.5555555555555556,
              "#d8576b"
             ],
             [
              0.6666666666666666,
              "#ed7953"
             ],
             [
              0.7777777777777778,
              "#fb9f3a"
             ],
             [
              0.8888888888888888,
              "#fdca26"
             ],
             [
              1,
              "#f0f921"
             ]
            ],
            "type": "contour"
           }
          ],
          "contourcarpet": [
           {
            "colorbar": {
             "outlinewidth": 0,
             "ticks": ""
            },
            "type": "contourcarpet"
           }
          ],
          "heatmap": [
           {
            "colorbar": {
             "outlinewidth": 0,
             "ticks": ""
            },
            "colorscale": [
             [
              0,
              "#0d0887"
             ],
             [
              0.1111111111111111,
              "#46039f"
             ],
             [
              0.2222222222222222,
              "#7201a8"
             ],
             [
              0.3333333333333333,
              "#9c179e"
             ],
             [
              0.4444444444444444,
              "#bd3786"
             ],
             [
              0.5555555555555556,
              "#d8576b"
             ],
             [
              0.6666666666666666,
              "#ed7953"
             ],
             [
              0.7777777777777778,
              "#fb9f3a"
             ],
             [
              0.8888888888888888,
              "#fdca26"
             ],
             [
              1,
              "#f0f921"
             ]
            ],
            "type": "heatmap"
           }
          ],
          "heatmapgl": [
           {
            "colorbar": {
             "outlinewidth": 0,
             "ticks": ""
            },
            "colorscale": [
             [
              0,
              "#0d0887"
             ],
             [
              0.1111111111111111,
              "#46039f"
             ],
             [
              0.2222222222222222,
              "#7201a8"
             ],
             [
              0.3333333333333333,
              "#9c179e"
             ],
             [
              0.4444444444444444,
              "#bd3786"
             ],
             [
              0.5555555555555556,
              "#d8576b"
             ],
             [
              0.6666666666666666,
              "#ed7953"
             ],
             [
              0.7777777777777778,
              "#fb9f3a"
             ],
             [
              0.8888888888888888,
              "#fdca26"
             ],
             [
              1,
              "#f0f921"
             ]
            ],
            "type": "heatmapgl"
           }
          ],
          "histogram": [
           {
            "marker": {
             "pattern": {
              "fillmode": "overlay",
              "size": 10,
              "solidity": 0.2
             }
            },
            "type": "histogram"
           }
          ],
          "histogram2d": [
           {
            "colorbar": {
             "outlinewidth": 0,
             "ticks": ""
            },
            "colorscale": [
             [
              0,
              "#0d0887"
             ],
             [
              0.1111111111111111,
              "#46039f"
             ],
             [
              0.2222222222222222,
              "#7201a8"
             ],
             [
              0.3333333333333333,
              "#9c179e"
             ],
             [
              0.4444444444444444,
              "#bd3786"
             ],
             [
              0.5555555555555556,
              "#d8576b"
             ],
             [
              0.6666666666666666,
              "#ed7953"
             ],
             [
              0.7777777777777778,
              "#fb9f3a"
             ],
             [
              0.8888888888888888,
              "#fdca26"
             ],
             [
              1,
              "#f0f921"
             ]
            ],
            "type": "histogram2d"
           }
          ],
          "histogram2dcontour": [
           {
            "colorbar": {
             "outlinewidth": 0,
             "ticks": ""
            },
            "colorscale": [
             [
              0,
              "#0d0887"
             ],
             [
              0.1111111111111111,
              "#46039f"
             ],
             [
              0.2222222222222222,
              "#7201a8"
             ],
             [
              0.3333333333333333,
              "#9c179e"
             ],
             [
              0.4444444444444444,
              "#bd3786"
             ],
             [
              0.5555555555555556,
              "#d8576b"
             ],
             [
              0.6666666666666666,
              "#ed7953"
             ],
             [
              0.7777777777777778,
              "#fb9f3a"
             ],
             [
              0.8888888888888888,
              "#fdca26"
             ],
             [
              1,
              "#f0f921"
             ]
            ],
            "type": "histogram2dcontour"
           }
          ],
          "mesh3d": [
           {
            "colorbar": {
             "outlinewidth": 0,
             "ticks": ""
            },
            "type": "mesh3d"
           }
          ],
          "parcoords": [
           {
            "line": {
             "colorbar": {
              "outlinewidth": 0,
              "ticks": ""
             }
            },
            "type": "parcoords"
           }
          ],
          "pie": [
           {
            "automargin": true,
            "type": "pie"
           }
          ],
          "scatter": [
           {
            "fillpattern": {
             "fillmode": "overlay",
             "size": 10,
             "solidity": 0.2
            },
            "type": "scatter"
           }
          ],
          "scatter3d": [
           {
            "line": {
             "colorbar": {
              "outlinewidth": 0,
              "ticks": ""
             }
            },
            "marker": {
             "colorbar": {
              "outlinewidth": 0,
              "ticks": ""
             }
            },
            "type": "scatter3d"
           }
          ],
          "scattercarpet": [
           {
            "marker": {
             "colorbar": {
              "outlinewidth": 0,
              "ticks": ""
             }
            },
            "type": "scattercarpet"
           }
          ],
          "scattergeo": [
           {
            "marker": {
             "colorbar": {
              "outlinewidth": 0,
              "ticks": ""
             }
            },
            "type": "scattergeo"
           }
          ],
          "scattergl": [
           {
            "marker": {
             "colorbar": {
              "outlinewidth": 0,
              "ticks": ""
             }
            },
            "type": "scattergl"
           }
          ],
          "scattermapbox": [
           {
            "marker": {
             "colorbar": {
              "outlinewidth": 0,
              "ticks": ""
             }
            },
            "type": "scattermapbox"
           }
          ],
          "scatterpolar": [
           {
            "marker": {
             "colorbar": {
              "outlinewidth": 0,
              "ticks": ""
             }
            },
            "type": "scatterpolar"
           }
          ],
          "scatterpolargl": [
           {
            "marker": {
             "colorbar": {
              "outlinewidth": 0,
              "ticks": ""
             }
            },
            "type": "scatterpolargl"
           }
          ],
          "scatterternary": [
           {
            "marker": {
             "colorbar": {
              "outlinewidth": 0,
              "ticks": ""
             }
            },
            "type": "scatterternary"
           }
          ],
          "surface": [
           {
            "colorbar": {
             "outlinewidth": 0,
             "ticks": ""
            },
            "colorscale": [
             [
              0,
              "#0d0887"
             ],
             [
              0.1111111111111111,
              "#46039f"
             ],
             [
              0.2222222222222222,
              "#7201a8"
             ],
             [
              0.3333333333333333,
              "#9c179e"
             ],
             [
              0.4444444444444444,
              "#bd3786"
             ],
             [
              0.5555555555555556,
              "#d8576b"
             ],
             [
              0.6666666666666666,
              "#ed7953"
             ],
             [
              0.7777777777777778,
              "#fb9f3a"
             ],
             [
              0.8888888888888888,
              "#fdca26"
             ],
             [
              1,
              "#f0f921"
             ]
            ],
            "type": "surface"
           }
          ],
          "table": [
           {
            "cells": {
             "fill": {
              "color": "#EBF0F8"
             },
             "line": {
              "color": "white"
             }
            },
            "header": {
             "fill": {
              "color": "#C8D4E3"
             },
             "line": {
              "color": "white"
             }
            },
            "type": "table"
           }
          ]
         },
         "layout": {
          "annotationdefaults": {
           "arrowcolor": "#2a3f5f",
           "arrowhead": 0,
           "arrowwidth": 1
          },
          "autotypenumbers": "strict",
          "coloraxis": {
           "colorbar": {
            "outlinewidth": 0,
            "ticks": ""
           }
          },
          "colorscale": {
           "diverging": [
            [
             0,
             "#8e0152"
            ],
            [
             0.1,
             "#c51b7d"
            ],
            [
             0.2,
             "#de77ae"
            ],
            [
             0.3,
             "#f1b6da"
            ],
            [
             0.4,
             "#fde0ef"
            ],
            [
             0.5,
             "#f7f7f7"
            ],
            [
             0.6,
             "#e6f5d0"
            ],
            [
             0.7,
             "#b8e186"
            ],
            [
             0.8,
             "#7fbc41"
            ],
            [
             0.9,
             "#4d9221"
            ],
            [
             1,
             "#276419"
            ]
           ],
           "sequential": [
            [
             0,
             "#0d0887"
            ],
            [
             0.1111111111111111,
             "#46039f"
            ],
            [
             0.2222222222222222,
             "#7201a8"
            ],
            [
             0.3333333333333333,
             "#9c179e"
            ],
            [
             0.4444444444444444,
             "#bd3786"
            ],
            [
             0.5555555555555556,
             "#d8576b"
            ],
            [
             0.6666666666666666,
             "#ed7953"
            ],
            [
             0.7777777777777778,
             "#fb9f3a"
            ],
            [
             0.8888888888888888,
             "#fdca26"
            ],
            [
             1,
             "#f0f921"
            ]
           ],
           "sequentialminus": [
            [
             0,
             "#0d0887"
            ],
            [
             0.1111111111111111,
             "#46039f"
            ],
            [
             0.2222222222222222,
             "#7201a8"
            ],
            [
             0.3333333333333333,
             "#9c179e"
            ],
            [
             0.4444444444444444,
             "#bd3786"
            ],
            [
             0.5555555555555556,
             "#d8576b"
            ],
            [
             0.6666666666666666,
             "#ed7953"
            ],
            [
             0.7777777777777778,
             "#fb9f3a"
            ],
            [
             0.8888888888888888,
             "#fdca26"
            ],
            [
             1,
             "#f0f921"
            ]
           ]
          },
          "colorway": [
           "#636efa",
           "#EF553B",
           "#00cc96",
           "#ab63fa",
           "#FFA15A",
           "#19d3f3",
           "#FF6692",
           "#B6E880",
           "#FF97FF",
           "#FECB52"
          ],
          "font": {
           "color": "#2a3f5f"
          },
          "geo": {
           "bgcolor": "white",
           "lakecolor": "white",
           "landcolor": "#E5ECF6",
           "showlakes": true,
           "showland": true,
           "subunitcolor": "white"
          },
          "hoverlabel": {
           "align": "left"
          },
          "hovermode": "closest",
          "mapbox": {
           "style": "light"
          },
          "paper_bgcolor": "white",
          "plot_bgcolor": "#E5ECF6",
          "polar": {
           "angularaxis": {
            "gridcolor": "white",
            "linecolor": "white",
            "ticks": ""
           },
           "bgcolor": "#E5ECF6",
           "radialaxis": {
            "gridcolor": "white",
            "linecolor": "white",
            "ticks": ""
           }
          },
          "scene": {
           "xaxis": {
            "backgroundcolor": "#E5ECF6",
            "gridcolor": "white",
            "gridwidth": 2,
            "linecolor": "white",
            "showbackground": true,
            "ticks": "",
            "zerolinecolor": "white"
           },
           "yaxis": {
            "backgroundcolor": "#E5ECF6",
            "gridcolor": "white",
            "gridwidth": 2,
            "linecolor": "white",
            "showbackground": true,
            "ticks": "",
            "zerolinecolor": "white"
           },
           "zaxis": {
            "backgroundcolor": "#E5ECF6",
            "gridcolor": "white",
            "gridwidth": 2,
            "linecolor": "white",
            "showbackground": true,
            "ticks": "",
            "zerolinecolor": "white"
           }
          },
          "shapedefaults": {
           "line": {
            "color": "#2a3f5f"
           }
          },
          "ternary": {
           "aaxis": {
            "gridcolor": "white",
            "linecolor": "white",
            "ticks": ""
           },
           "baxis": {
            "gridcolor": "white",
            "linecolor": "white",
            "ticks": ""
           },
           "bgcolor": "#E5ECF6",
           "caxis": {
            "gridcolor": "white",
            "linecolor": "white",
            "ticks": ""
           }
          },
          "title": {
           "x": 0.05
          },
          "xaxis": {
           "automargin": true,
           "gridcolor": "white",
           "linecolor": "white",
           "ticks": "",
           "title": {
            "standoff": 15
           },
           "zerolinecolor": "white",
           "zerolinewidth": 2
          },
          "yaxis": {
           "automargin": true,
           "gridcolor": "white",
           "linecolor": "white",
           "ticks": "",
           "title": {
            "standoff": 15
           },
           "zerolinecolor": "white",
           "zerolinewidth": 2
          }
         }
        },
        "title": {
         "text": "Hyperparameter Importances"
        },
        "xaxis": {
         "title": {
          "text": "Hyperparameter Importance"
         }
        },
        "yaxis": {
         "title": {
          "text": "Hyperparameter"
         }
        }
       }
      }
     },
     "metadata": {},
     "output_type": "display_data"
    }
   ],
   "source": [
    "vis.plot_param_importances(study).show()"
   ]
  },
  {
   "cell_type": "code",
   "execution_count": 7,
   "id": "568eedc1",
   "metadata": {},
   "outputs": [
    {
     "data": {
      "application/vnd.plotly.v1+json": {
       "config": {
        "plotlyServerURL": "https://plot.ly"
       },
       "data": [
        {
         "hovertemplate": "%{text}<extra>Trial</extra>",
         "marker": {
          "color": [
           0,
           1,
           2,
           5,
           6,
           7,
           9,
           10,
           13,
           14,
           15,
           16,
           17,
           18,
           19,
           20,
           21,
           22,
           23,
           25,
           26,
           27,
           28,
           29,
           30,
           32,
           33,
           34,
           35,
           36,
           37,
           38,
           39,
           40,
           41,
           42,
           43,
           44,
           45,
           46,
           47,
           48,
           49,
           50,
           52,
           53,
           54,
           55,
           56,
           57,
           58,
           59,
           60,
           61,
           62,
           64,
           65,
           66,
           67,
           68,
           69,
           70,
           71,
           72,
           73,
           74,
           75,
           76,
           77,
           78,
           79,
           80,
           81,
           82,
           83,
           84,
           85,
           86,
           87,
           88,
           89,
           90,
           91,
           92,
           93,
           94,
           95,
           96,
           97,
           98,
           99,
           100,
           101,
           102,
           103,
           104,
           105,
           106,
           107,
           108,
           109,
           110,
           111,
           113,
           114,
           115,
           116,
           117,
           118,
           119,
           120,
           121,
           122,
           123,
           124,
           125,
           126,
           127,
           128,
           130,
           131,
           132,
           133,
           134,
           135,
           136,
           137,
           138,
           139,
           140,
           141,
           142,
           143,
           144,
           145,
           146,
           147,
           148,
           149,
           150,
           151,
           152,
           153,
           154,
           155,
           156,
           157,
           158,
           159,
           160,
           161,
           162,
           163,
           164,
           165,
           166,
           167,
           168,
           169,
           170,
           171,
           172,
           173,
           174,
           175,
           176,
           177,
           178,
           179,
           180,
           181,
           182,
           183,
           184,
           185,
           186,
           187,
           188,
           189,
           191,
           192,
           193,
           194,
           195,
           196,
           197,
           198,
           199
          ],
          "colorbar": {
           "title": {
            "text": "Trial"
           }
          },
          "colorscale": [
           [
            0,
            "rgb(247,251,255)"
           ],
           [
            0.125,
            "rgb(222,235,247)"
           ],
           [
            0.25,
            "rgb(198,219,239)"
           ],
           [
            0.375,
            "rgb(158,202,225)"
           ],
           [
            0.5,
            "rgb(107,174,214)"
           ],
           [
            0.625,
            "rgb(66,146,198)"
           ],
           [
            0.75,
            "rgb(33,113,181)"
           ],
           [
            0.875,
            "rgb(8,81,156)"
           ],
           [
            1,
            "rgb(8,48,107)"
           ]
          ],
          "line": {
           "color": "Grey",
           "width": 0.5
          }
         },
         "mode": "markers",
         "showlegend": false,
         "text": [
          "{<br>  \"number\": 0,<br>  \"values\": [<br>    0.7278436422348022,<br>    0.7173630833625794,<br>    26.43183946609497<br>  ],<br>  \"params\": {<br>    \"mutation_method\": \"mutEntropy\",<br>    \"mutation_prob\": 0.7502196830487934,<br>    \"mutation_by_deletion_rate\": 0.41852106822436086,<br>    \"mutation_rate_start\": 0.9311477975368458,<br>    \"mutation_rate_end\": 0.9217377046761324,<br>    \"crossover_method\": \"cxOnePoint\",<br>    \"crossover_rate\": 0.6144312698049044,<br>    \"selection_method\": \"selBest\",<br>    \"elitism_rate\": 0.5226421991002623,<br>    \"survival_rate\": 0.987319369731687<br>  }<br>}",
          "{<br>  \"number\": 1,<br>  \"values\": [<br>    0.7588212490081787,<br>    0.7058565378189087,<br>    32.15183663368225<br>  ],<br>  \"params\": {<br>    \"mutation_method\": \"mutConstant\",<br>    \"mutation_prob\": 0.8404065891923009,<br>    \"mutation_by_deletion_rate\": 0.6406694443085853,<br>    \"mutation_rate\": 0.05360811217034689,<br>    \"crossover_method\": \"cxUniform\",<br>    \"crossover_rate\": 0.3134574460390277,<br>    \"selection_method\": \"selStochasticUniversalSampling\",<br>    \"elitism_rate\": 0.5353900944952268,<br>    \"survival_rate\": 0.0382868997282414<br>  }<br>}",
          "{<br>  \"number\": 2,<br>  \"values\": [<br>    0.6106458902359009,<br>    0.5896970748901367,<br>    30.86444878578186<br>  ],<br>  \"params\": {<br>    \"mutation_method\": \"mutExponential\",<br>    \"mutation_prob\": 0.9129489971952728,<br>    \"mutation_by_deletion_rate\": 0.11911068233071287,<br>    \"mutation_rate_start\": 0.431657290010943,<br>    \"mutation_rate_end\": 0.9407973890358179,<br>    \"mutation_rate_degree\": 1,<br>    \"crossover_method\": \"cxTwoPoint\",<br>    \"crossover_rate\": 0.4329178763245165,<br>    \"crossover_points\": 1,<br>    \"selection_method\": \"selNormRoulette\",<br>    \"elitism_rate\": 0.29834833035126673,<br>    \"survival_rate\": 0.02351702719066029<br>  }<br>}",
          "{<br>  \"number\": 5,<br>  \"values\": [<br>    0.6472018957138062,<br>    0.6194018483161926,<br>    24.227615356445312<br>  ],<br>  \"params\": {<br>    \"mutation_method\": \"mutConstant\",<br>    \"mutation_prob\": 0.3039886774069849,<br>    \"mutation_by_deletion_rate\": 0.27922593095533155,<br>    \"mutation_rate\": 0.5043983816025335,<br>    \"crossover_method\": \"cxOnePoint\",<br>    \"crossover_rate\": 0.37947311985937904,<br>    \"selection_method\": \"selTournamentWithoutReplacement\",<br>    \"tournsize\": 3,<br>    \"elitism_rate\": 0.2539143659718174,<br>    \"survival_rate\": 0.19490680244505587<br>  }<br>}",
          "{<br>  \"number\": 6,<br>  \"values\": [<br>    0.6176146268844604,<br>    0.5983564972877502,<br>    22.9801344871521<br>  ],<br>  \"params\": {<br>    \"mutation_method\": \"mutEntropy\",<br>    \"mutation_prob\": 0.6535006839113269,<br>    \"mutation_by_deletion_rate\": 0.3931022926115091,<br>    \"mutation_rate_start\": 0.7866054678124218,<br>    \"mutation_rate_end\": 0.33830074765189255,<br>    \"crossover_method\": \"cxKPoint\",<br>    \"crossover_rate\": 0.7223410730949732,<br>    \"crossover_points\": 1,<br>    \"selection_method\": \"selStochasticUniversalSampling\",<br>    \"elitism_rate\": 0.6551321562535907,<br>    \"survival_rate\": 0.17020934772683693<br>  }<br>}",
          "{<br>  \"number\": 7,<br>  \"values\": [<br>    0.6595203876495361,<br>    0.6154430270195007,<br>    20.911468982696533<br>  ],<br>  \"params\": {<br>    \"mutation_method\": \"mutEntropy\",<br>    \"mutation_prob\": 0.2761560752072034,<br>    \"mutation_by_deletion_rate\": 0.7022176713583942,<br>    \"mutation_rate_start\": 0.6760430410117911,<br>    \"mutation_rate_end\": 0.2615199297203541,<br>    \"crossover_method\": \"cxKPoint\",<br>    \"crossover_rate\": 0.8410559344655071,<br>    \"crossover_points\": 3,<br>    \"selection_method\": \"selBest\",<br>    \"elitism_rate\": 0.8831415091846696,<br>    \"survival_rate\": 0.6311563865505256<br>  }<br>}",
          "{<br>  \"number\": 9,<br>  \"values\": [<br>    0.7059294581413269,<br>    0.6605339884757996,<br>    29.030198335647583<br>  ],<br>  \"params\": {<br>    \"mutation_method\": \"mutLinear\",<br>    \"mutation_prob\": 0.5542137193766543,<br>    \"mutation_by_deletion_rate\": 0.05219462430846844,<br>    \"mutation_rate_start\": 0.5884741441270753,<br>    \"mutation_rate_end\": 0.9555618819245146,<br>    \"crossover_method\": \"cxUniform\",<br>    \"crossover_rate\": 0.5070502561523005,<br>    \"selection_method\": \"selNormRoulette\",<br>    \"elitism_rate\": 0.8000992271310291,<br>    \"survival_rate\": 0.9835609926946999<br>  }<br>}",
          "{<br>  \"number\": 10,<br>  \"values\": [<br>    0.6898598074913025,<br>    0.6463033795356751,<br>    36.06828713417053<br>  ],<br>  \"params\": {<br>    \"mutation_method\": \"mutLinear\",<br>    \"mutation_prob\": 0.07387433921273334,<br>    \"mutation_by_deletion_rate\": 0.9925003371397549,<br>    \"mutation_rate_start\": 0.02076786639918532,<br>    \"mutation_rate_end\": 0.005167750845288199,<br>    \"crossover_method\": \"cxKPoint\",<br>    \"crossover_rate\": 0.010786353809021675,<br>    \"crossover_points\": 2,<br>    \"selection_method\": \"selTournament\",<br>    \"tournsize\": 10,<br>    \"elitism_rate\": 0.007998110327579244,<br>    \"survival_rate\": 0.4033422006682724<br>  }<br>}",
          "{<br>  \"number\": 13,<br>  \"values\": [<br>    0.6457276940345764,<br>    0.6243708848953247,<br>    45.918150424957275<br>  ],<br>  \"params\": {<br>    \"mutation_method\": \"mutLinear\",<br>    \"mutation_prob\": 0.9821494892366078,<br>    \"mutation_by_deletion_rate\": 0.230911914784004,<br>    \"mutation_rate_start\": 0.34274162039412237,<br>    \"mutation_rate_end\": 0.6024596020007837,<br>    \"crossover_method\": \"cxKPoint\",<br>    \"crossover_rate\": 0.16627318531703789,<br>    \"crossover_points\": 3,<br>    \"selection_method\": \"selRandom\",<br>    \"elitism_rate\": 0.137966779707615,<br>    \"survival_rate\": 0.40395646886065706<br>  }<br>}",
          "{<br>  \"number\": 14,<br>  \"values\": [<br>    0.839830756187439,<br>    0.7992067337036133,<br>    38.809659004211426<br>  ],<br>  \"params\": {<br>    \"mutation_method\": \"mutLinear\",<br>    \"mutation_prob\": 0.6877152054866291,<br>    \"mutation_by_deletion_rate\": 0.04077603835693053,<br>    \"mutation_rate_start\": 0.15512516563229695,<br>    \"mutation_rate_end\": 0.21092785762164623,<br>    \"crossover_method\": \"cxKPoint\",<br>    \"crossover_rate\": 0.14842128302046664,<br>    \"crossover_points\": 1,<br>    \"selection_method\": \"selTournament\",<br>    \"tournsize\": 7,<br>    \"elitism_rate\": 0.2026395906375509,<br>    \"survival_rate\": 0.7899900139501526<br>  }<br>}",
          "{<br>  \"number\": 15,<br>  \"values\": [<br>    0.7118198871612549,<br>    0.6940473318099976,<br>    35.982830286026<br>  ],<br>  \"params\": {<br>    \"mutation_method\": \"mutExponential\",<br>    \"mutation_prob\": 0.5540606664067688,<br>    \"mutation_by_deletion_rate\": 0.5195257542521955,<br>    \"mutation_rate_start\": 0.30928805921133495,<br>    \"mutation_rate_end\": 0.5609387976154518,<br>    \"mutation_rate_degree\": 4,<br>    \"crossover_method\": \"cxKPoint\",<br>    \"crossover_rate\": 0.14734456093241322,<br>    \"crossover_points\": 2,<br>    \"selection_method\": \"selBoltzmann\",<br>    \"boltzmann_temperature\": 0.12151850682547427,<br>    \"elitism_rate\": 0.3917103502707659,<br>    \"survival_rate\": 0.512301959995284<br>  }<br>}",
          "{<br>  \"number\": 16,<br>  \"values\": [<br>    0.8492773771286011,<br>    0.8099842548370362,<br>    43.38106560707092<br>  ],<br>  \"params\": {<br>    \"mutation_method\": \"mutLinear\",<br>    \"mutation_prob\": 0.8734835899863495,<br>    \"mutation_by_deletion_rate\": 0.29071980655678004,<br>    \"mutation_rate_start\": 0.5109341786011371,<br>    \"mutation_rate_end\": 0.15465714870043623,<br>    \"crossover_method\": \"cxOnePoint\",<br>    \"crossover_rate\": 0.19570294311080616,<br>    \"selection_method\": \"selTournament\",<br>    \"tournsize\": 6,<br>    \"elitism_rate\": 0.12766769252325016,<br>    \"survival_rate\": 0.8808306588713616<br>  }<br>}",
          "{<br>  \"number\": 17,<br>  \"values\": [<br>    0.7211655974388123,<br>    0.6768061637878418,<br>    34.762670040130615<br>  ],<br>  \"params\": {<br>    \"mutation_method\": \"mutLinear\",<br>    \"mutation_prob\": 0.3701309605311062,<br>    \"mutation_by_deletion_rate\": 0.555209398063415,<br>    \"mutation_rate_start\": 0.26470118644809226,<br>    \"mutation_rate_end\": 0.38358995691795295,<br>    \"crossover_method\": \"cxUniform\",<br>    \"crossover_rate\": 0.9156895711286334,<br>    \"selection_method\": \"selTournament\",<br>    \"tournsize\": 8,<br>    \"elitism_rate\": 0.6476999709447189,<br>    \"survival_rate\": 0.6526686466604352<br>  }<br>}",
          "{<br>  \"number\": 18,<br>  \"values\": [<br>    0.6942210793495178,<br>    0.65797039270401,<br>    41.72091770172119<br>  ],<br>  \"params\": {<br>    \"mutation_method\": \"mutExponential\",<br>    \"mutation_prob\": 0.7268191600668945,<br>    \"mutation_by_deletion_rate\": 0.14630052581326447,<br>    \"mutation_rate_start\": 0.09171311333899101,<br>    \"mutation_rate_end\": 0.6860149410682572,<br>    \"mutation_rate_degree\": 1,<br>    \"crossover_method\": \"cxKPoint\",<br>    \"crossover_rate\": 0.06982610674739777,<br>    \"crossover_points\": 3,<br>    \"selection_method\": \"selRandom\",<br>    \"elitism_rate\": 0.17064310788489412,<br>    \"survival_rate\": 0.43118106273438095<br>  }<br>}",
          "{<br>  \"number\": 19,<br>  \"values\": [<br>    0.7342208027839661,<br>    0.705997633934021,<br>    36.47714805603027<br>  ],<br>  \"params\": {<br>    \"mutation_method\": \"mutLinear\",<br>    \"mutation_prob\": 0.6195814823499455,<br>    \"mutation_by_deletion_rate\": 0.9003359254711417,<br>    \"mutation_rate_start\": 0.4156124180652234,<br>    \"mutation_rate_end\": 0.13608400517970787,<br>    \"crossover_method\": \"cxKPoint\",<br>    \"crossover_rate\": 0.27407931490294435,<br>    \"crossover_points\": 4,<br>    \"selection_method\": \"selTournamentWithoutReplacement\",<br>    \"tournsize\": 2,<br>    \"elitism_rate\": 0.4400539248714448,<br>    \"survival_rate\": 0.5446705976768951<br>  }<br>}",
          "{<br>  \"number\": 20,<br>  \"values\": [<br>    0.6888698935508728,<br>    0.6392642259597778,<br>    38.24952459335327<br>  ],<br>  \"params\": {<br>    \"mutation_method\": \"mutLinear\",<br>    \"mutation_prob\": 0.0943507822092402,<br>    \"mutation_by_deletion_rate\": 0.3379140322608271,<br>    \"mutation_rate_start\": 0.2535558340982569,<br>    \"mutation_rate_end\": 0.43120031859030944,<br>    \"crossover_method\": \"cxKPoint\",<br>    \"crossover_rate\": 0.07303479011363981,<br>    \"crossover_points\": 2,<br>    \"selection_method\": \"selRoulette\",<br>    \"elitism_rate\": 0.07511179147980508,<br>    \"survival_rate\": 0.69701369882658<br>  }<br>}",
          "{<br>  \"number\": 21,<br>  \"values\": [<br>    0.7742751240730286,<br>    0.7435018181800842,<br>    38.867915868759155<br>  ],<br>  \"params\": {<br>    \"mutation_method\": \"mutLinear\",<br>    \"mutation_prob\": 0.7718361976814522,<br>    \"mutation_by_deletion_rate\": 0.4254679114099146,<br>    \"mutation_rate_start\": 0.5815969402567647,<br>    \"mutation_rate_end\": 0.7000453991304378,<br>    \"crossover_method\": \"cxTwoPoint\",<br>    \"crossover_rate\": 0.5550890550957199,<br>    \"crossover_points\": 4,<br>    \"selection_method\": \"selTournament\",<br>    \"tournsize\": 4,<br>    \"elitism_rate\": 0.32233897510803344,<br>    \"survival_rate\": 0.7706058256969637<br>  }<br>}",
          "{<br>  \"number\": 22,<br>  \"values\": [<br>    0.8319792151451111,<br>    0.7838121056556702,<br>    35.689494609832764<br>  ],<br>  \"params\": {<br>    \"mutation_method\": \"mutConstant\",<br>    \"mutation_prob\": 0.8340452909855601,<br>    \"mutation_by_deletion_rate\": 0.0016011399463516929,<br>    \"mutation_rate\": 0.022278685878354354,<br>    \"crossover_method\": \"cxTwoPoint\",<br>    \"crossover_rate\": 0.23734573143427223,<br>    \"crossover_points\": 4,<br>    \"selection_method\": \"selBoltzmann\",<br>    \"boltzmann_temperature\": 0.9892904365617449,<br>    \"elitism_rate\": 0.23236945374370033,<br>    \"survival_rate\": 0.8505775635235606<br>  }<br>}",
          "{<br>  \"number\": 23,<br>  \"values\": [<br>    0.8673994541168213,<br>    0.7964959979057312,<br>    34.960737228393555<br>  ],<br>  \"params\": {<br>    \"mutation_method\": \"mutLinear\",<br>    \"mutation_prob\": 0.9972610603080143,<br>    \"mutation_by_deletion_rate\": 0.17670504237167,<br>    \"mutation_rate_start\": 0.000804960856217618,<br>    \"mutation_rate_end\": 0.0798110503467153,<br>    \"crossover_method\": \"cxKPoint\",<br>    \"crossover_rate\": 0.08560173962296976,<br>    \"crossover_points\": 1,<br>    \"selection_method\": \"selTournament\",<br>    \"tournsize\": 10,<br>    \"elitism_rate\": 0.45430397423666785,<br>    \"survival_rate\": 0.7027737504490086<br>  }<br>}",
          "{<br>  \"number\": 25,<br>  \"values\": [<br>    0.8446002006530762,<br>    0.8117538690567017,<br>    35.437535762786865<br>  ],<br>  \"params\": {<br>    \"mutation_method\": \"mutExponential\",<br>    \"mutation_prob\": 0.463775238075715,<br>    \"mutation_by_deletion_rate\": 0.10167413881467757,<br>    \"mutation_rate_start\": 0.12411583128986547,<br>    \"mutation_rate_end\": 0.30846745983006024,<br>    \"mutation_rate_degree\": 4,<br>    \"crossover_method\": \"cxUniform\",<br>    \"crossover_rate\": 0.7392593232176882,<br>    \"selection_method\": \"selBest\",<br>    \"elitism_rate\": 0.6404471913767397,<br>    \"survival_rate\": 0.8920069415689775<br>  }<br>}",
          "{<br>  \"number\": 26,<br>  \"values\": [<br>    0.581763505935669,<br>    0.564957070350647,<br>    36.82492756843567<br>  ],<br>  \"params\": {<br>    \"mutation_method\": \"mutEntropy\",<br>    \"mutation_prob\": 0.7939724637335964,<br>    \"mutation_by_deletion_rate\": 0.33211810472099046,<br>    \"mutation_rate_start\": 0.9962808346293649,<br>    \"mutation_rate_end\": 0.4659834291327136,<br>    \"crossover_method\": \"cxOnePoint\",<br>    \"crossover_rate\": 0.4083688937679444,<br>    \"selection_method\": \"selTournament\",<br>    \"tournsize\": 5,<br>    \"elitism_rate\": 0.5750422047204089,<br>    \"survival_rate\": 0.5656607271434297<br>  }<br>}",
          "{<br>  \"number\": 27,<br>  \"values\": [<br>    0.6221267580986023,<br>    0.6055234432220459,<br>    32.32112240791321<br>  ],<br>  \"params\": {<br>    \"mutation_method\": \"mutLinear\",<br>    \"mutation_prob\": 0.8868454383212858,<br>    \"mutation_by_deletion_rate\": 0.4738039926033108,<br>    \"mutation_rate_start\": 0.7809930903221188,<br>    \"mutation_rate_end\": 0.20986934958733175,<br>    \"crossover_method\": \"cxKPoint\",<br>    \"crossover_rate\": 0.2275438501837126,<br>    \"crossover_points\": 1,<br>    \"selection_method\": \"selBoltzmann\",<br>    \"boltzmann_temperature\": 0.6996898434863744,<br>    \"elitism_rate\": 0.8008861731074964,<br>    \"survival_rate\": 0.2784263574550826<br>  }<br>}",
          "{<br>  \"number\": 28,<br>  \"values\": [<br>    0.5268564820289612,<br>    0.5067627429962158,<br>    32.834874629974365<br>  ],<br>  \"params\": {<br>    \"mutation_method\": \"mutConstant\",<br>    \"mutation_prob\": 0.6052275053107888,<br>    \"mutation_by_deletion_rate\": 0.08279229578248076,<br>    \"mutation_rate\": 0.9716489926143702,<br>    \"crossover_method\": \"cxTwoPoint\",<br>    \"crossover_rate\": 0.11883357501862407,<br>    \"crossover_points\": 1,<br>    \"selection_method\": \"selStochasticUniversalSampling\",<br>    \"elitism_rate\": 0.974254460805399,<br>    \"survival_rate\": 0.9250052705732855<br>  }<br>}",
          "{<br>  \"number\": 29,<br>  \"values\": [<br>    0.7991272211074829,<br>    0.7718638181686401,<br>    33.2280912399292<br>  ],<br>  \"params\": {<br>    \"mutation_method\": \"mutEntropy\",<br>    \"mutation_prob\": 0.7308358123145066,<br>    \"mutation_by_deletion_rate\": 0.39672110736964616,<br>    \"mutation_rate_start\": 0.39010376385805373,<br>    \"mutation_rate_end\": 0.12300176978036442,<br>    \"crossover_method\": \"cxOnePoint\",<br>    \"crossover_rate\": 0.6632718370234191,<br>    \"selection_method\": \"selBest\",<br>    \"elitism_rate\": 0.7614169558392022,<br>    \"survival_rate\": 0.9792705384675913<br>  }<br>}",
          "{<br>  \"number\": 30,<br>  \"values\": [<br>    0.7315282821655273,<br>    0.6730147123336792,<br>    34.91692352294922<br>  ],<br>  \"params\": {<br>    \"mutation_method\": \"mutLinear\",<br>    \"mutation_prob\": 0.9162213328301341,<br>    \"mutation_by_deletion_rate\": 0.2689751478463883,<br>    \"mutation_rate_start\": 0.5022701594005101,<br>    \"mutation_rate_end\": 0.26426982758941125,<br>    \"crossover_method\": \"cxKPoint\",<br>    \"crossover_rate\": 0.9745502418950645,<br>    \"crossover_points\": 2,<br>    \"selection_method\": \"selNormRoulette\",<br>    \"elitism_rate\": 0.4856689745424031,<br>    \"survival_rate\": 0.460975226617091<br>  }<br>}",
          "{<br>  \"number\": 32,<br>  \"values\": [<br>    0.7039453983306885,<br>    0.6345831274986267,<br>    9.065346717834473<br>  ],<br>  \"params\": {<br>    \"mutation_method\": \"mutLinear\",<br>    \"mutation_prob\": 0.0014623594792664285,<br>    \"mutation_by_deletion_rate\": 0.1526570427109354,<br>    \"mutation_rate_start\": 0.10997596419618011,<br>    \"mutation_rate_end\": 0.8384533280385608,<br>    \"crossover_method\": \"cxUniform\",<br>    \"crossover_rate\": 0.5967452814188627,<br>    \"selection_method\": \"selTournament\",<br>    \"tournsize\": 10,<br>    \"elitism_rate\": 0.38181972200096803,<br>    \"survival_rate\": 0.8251889635274392<br>  }<br>}",
          "{<br>  \"number\": 33,<br>  \"values\": [<br>    0.827492356300354,<br>    0.7861511468887329,<br>    36.100486755371094<br>  ],<br>  \"params\": {<br>    \"mutation_method\": \"mutLinear\",<br>    \"mutation_prob\": 0.6963639348272717,<br>    \"mutation_by_deletion_rate\": 0.15130202748757354,<br>    \"mutation_rate_start\": 0.07419393614143444,<br>    \"mutation_rate_end\": 0.7032097077432694,<br>    \"crossover_method\": \"cxUniform\",<br>    \"crossover_rate\": 0.5748600761035493,<br>    \"selection_method\": \"selTournament\",<br>    \"tournsize\": 10,<br>    \"elitism_rate\": 0.3417164976169443,<br>    \"survival_rate\": 0.8216712542393412<br>  }<br>}",
          "{<br>  \"number\": 34,<br>  \"values\": [<br>    0.5610727667808533,<br>    0.5416243433952331,<br>    10.967486381530762<br>  ],<br>  \"params\": {<br>    \"mutation_method\": \"mutExponential\",<br>    \"mutation_prob\": 0.006099679880187408,<br>    \"mutation_by_deletion_rate\": 0.6051531857025192,<br>    \"mutation_rate_start\": 0.30088322770467524,<br>    \"mutation_rate_end\": 0.881939021040194,<br>    \"mutation_rate_degree\": 2,<br>    \"crossover_method\": \"cxUniform\",<br>    \"crossover_rate\": 0.3213191209867731,<br>    \"selection_method\": \"selTournament\",<br>    \"tournsize\": 8,<br>    \"elitism_rate\": 0.5280406858283941,<br>    \"survival_rate\": 0.6705088982635847<br>  }<br>}",
          "{<br>  \"number\": 35,<br>  \"values\": [<br>    0.6824824810028076,<br>    0.6554707765579224,<br>    32.37101864814758<br>  ],<br>  \"params\": {<br>    \"mutation_method\": \"mutLinear\",<br>    \"mutation_prob\": 0.2212683042589294,<br>    \"mutation_by_deletion_rate\": 0.783271522254354,<br>    \"mutation_rate_start\": 0.07480088859195458,<br>    \"mutation_rate_end\": 0.8535560651923803,<br>    \"crossover_method\": \"cxUniform\",<br>    \"crossover_rate\": 0.057721670749054835,<br>    \"selection_method\": \"selRoulette\",<br>    \"elitism_rate\": 0.38842186983103766,<br>    \"survival_rate\": 0.8311543626602782<br>  }<br>}",
          "{<br>  \"number\": 36,<br>  \"values\": [<br>    0.7771769165992737,<br>    0.7364848375320434,<br>    30.925816535949707<br>  ],<br>  \"params\": {<br>    \"mutation_method\": \"mutLinear\",<br>    \"mutation_prob\": 0.463041030934073,<br>    \"mutation_by_deletion_rate\": 0.11343013259699453,<br>    \"mutation_rate_start\": 0.23403300436025595,<br>    \"mutation_rate_end\": 0.09656494857713212,<br>    \"crossover_method\": \"cxKPoint\",<br>    \"crossover_rate\": 0.47127591903124333,<br>    \"crossover_points\": 1,<br>    \"selection_method\": \"selTournamentWithoutReplacement\",<br>    \"tournsize\": 9,<br>    \"elitism_rate\": 0.7149242767355064,<br>    \"survival_rate\": 0.5978139786869099<br>  }<br>}",
          "{<br>  \"number\": 37,<br>  \"values\": [<br>    0.7776364088058472,<br>    0.7443564295768738,<br>    38.89921522140503<br>  ],<br>  \"params\": {<br>    \"mutation_method\": \"mutEntropy\",<br>    \"mutation_prob\": 0.8599952731486534,<br>    \"mutation_by_deletion_rate\": 0.46151387722997206,<br>    \"mutation_rate_start\": 0.17407275532056773,<br>    \"mutation_rate_end\": 0.18714059715758402,<br>    \"crossover_method\": \"cxOnePoint\",<br>    \"crossover_rate\": 0.3492580012406005,<br>    \"selection_method\": \"selRandom\",<br>    \"elitism_rate\": 0.2836299877184763,<br>    \"survival_rate\": 0.33401794809687424<br>  }<br>}",
          "{<br>  \"number\": 38,<br>  \"values\": [<br>    0.654380202293396,<br>    0.6372327446937561,<br>    34.239696741104126<br>  ],<br>  \"params\": {<br>    \"mutation_method\": \"mutConstant\",<br>    \"mutation_prob\": 0.39810690383474273,<br>    \"mutation_by_deletion_rate\": 0.34372588434363793,<br>    \"mutation_rate\": 0.5396643942582329,<br>    \"crossover_method\": \"cxKPoint\",<br>    \"crossover_rate\": 0.7942373076912052,<br>    \"crossover_points\": 2,<br>    \"selection_method\": \"selStochasticUniversalSampling\",<br>    \"elitism_rate\": 0.3938812394557551,<br>    \"survival_rate\": 0.9316366255005377<br>  }<br>}",
          "{<br>  \"number\": 39,<br>  \"values\": [<br>    0.6863411068916321,<br>    0.671571695804596,<br>    36.83689069747925<br>  ],<br>  \"params\": {<br>    \"mutation_method\": \"mutExponential\",<br>    \"mutation_prob\": 0.931728049428689,<br>    \"mutation_by_deletion_rate\": 0.2589894618699343,<br>    \"mutation_rate_start\": 0.3365933621358626,<br>    \"mutation_rate_end\": 0.8070426240499147,<br>    \"mutation_rate_degree\": 3,<br>    \"crossover_method\": \"cxTwoPoint\",<br>    \"crossover_rate\": 0.6504146724650745,<br>    \"crossover_points\": 1,<br>    \"selection_method\": \"selNormRoulette\",<br>    \"elitism_rate\": 0.5399543518785768,<br>    \"survival_rate\": 0.728594911254021<br>  }<br>}",
          "{<br>  \"number\": 40,<br>  \"values\": [<br>    0.7159580588340759,<br>    0.6311599254608155,<br>    30.973251819610596<br>  ],<br>  \"params\": {<br>    \"mutation_method\": \"mutLinear\",<br>    \"mutation_prob\": 0.18606768709484578,<br>    \"mutation_by_deletion_rate\": 0.004363200005122803,<br>    \"mutation_rate_start\": 0.4336379385564314,<br>    \"mutation_rate_end\": 0.5390332779580302,<br>    \"crossover_method\": \"cxUniform\",<br>    \"crossover_rate\": 0.284282940182501,<br>    \"selection_method\": \"selTournament\",<br>    \"tournsize\": 1,<br>    \"elitism_rate\": 0.5968091852713969,<br>    \"survival_rate\": 0.61988825048517<br>  }<br>}",
          "{<br>  \"number\": 41,<br>  \"values\": [<br>    0.7473331093788147,<br>    0.707270348072052,<br>    31.74371314048767<br>  ],<br>  \"params\": {<br>    \"mutation_method\": \"mutConstant\",<br>    \"mutation_prob\": 0.8161277605465931,<br>    \"mutation_by_deletion_rate\": 0.17946726275183902,<br>    \"mutation_rate\": 0.30684202161398555,<br>    \"crossover_method\": \"cxKPoint\",<br>    \"crossover_rate\": 0.4862807115242817,<br>    \"crossover_points\": 3,<br>    \"selection_method\": \"selTournament\",<br>    \"tournsize\": 9,<br>    \"elitism_rate\": 0.6800408133157438,<br>    \"survival_rate\": 0.1157903913602415<br>  }<br>}",
          "{<br>  \"number\": 42,<br>  \"values\": [<br>    0.8186487555503845,<br>    0.7788805961608887,<br>    35.9852192401886<br>  ],<br>  \"params\": {<br>    \"mutation_method\": \"mutLinear\",<br>    \"mutation_prob\": 0.9145200309659494,<br>    \"mutation_by_deletion_rate\": 0.06914546843880029,<br>    \"mutation_rate_start\": 0.039254979324673395,<br>    \"mutation_rate_end\": 0.3857856716406838,<br>    \"crossover_method\": \"cxKPoint\",<br>    \"crossover_rate\": 0.05147627412036502,<br>    \"crossover_points\": 2,<br>    \"selection_method\": \"selBest\",<br>    \"elitism_rate\": 0.4635465697802953,<br>    \"survival_rate\": 0.7640267263587476<br>  }<br>}",
          "{<br>  \"number\": 43,<br>  \"values\": [<br>    0.7312736511230469,<br>    0.6758518695831299,<br>    30.359400510787964<br>  ],<br>  \"params\": {<br>    \"mutation_method\": \"mutLinear\",<br>    \"mutation_prob\": 0.7754989627999205,<br>    \"mutation_by_deletion_rate\": 0.22882171167672297,<br>    \"mutation_rate_start\": 0.13252330290695594,<br>    \"mutation_rate_end\": 0.2676430591595018,<br>    \"crossover_method\": \"cxTwoPoint\",<br>    \"crossover_rate\": 0.5546351165157327,<br>    \"crossover_points\": 1,<br>    \"selection_method\": \"selTournament\",<br>    \"tournsize\": 10,<br>    \"elitism_rate\": 0.8870379911641919,<br>    \"survival_rate\": 0.8715509880427355<br>  }<br>}",
          "{<br>  \"number\": 44,<br>  \"values\": [<br>    0.6001713275909424,<br>    0.572340977191925,<br>    39.66998481750488<br>  ],<br>  \"params\": {<br>    \"mutation_method\": \"mutEntropy\",<br>    \"mutation_prob\": 0.5229875610057956,<br>    \"mutation_by_deletion_rate\": 0.3008277839496161,<br>    \"mutation_rate_start\": 0.8128944152527391,<br>    \"mutation_rate_end\": 0.9836030460895868,<br>    \"crossover_method\": \"cxKPoint\",<br>    \"crossover_rate\": 0.4312752126380688,<br>    \"crossover_points\": 3,<br>    \"selection_method\": \"selRoulette\",<br>    \"elitism_rate\": 0.26576182642902274,<br>    \"survival_rate\": 0.9999175828883891<br>  }<br>}",
          "{<br>  \"number\": 45,<br>  \"values\": [<br>    0.8431911468505859,<br>    0.7808421611785888,<br>    34.149587631225586<br>  ],<br>  \"params\": {<br>    \"mutation_method\": \"mutLinear\",<br>    \"mutation_prob\": 0.8379350463825421,<br>    \"mutation_by_deletion_rate\": 0.11793481973769383,<br>    \"mutation_rate_start\": 0.20542324637761913,<br>    \"mutation_rate_end\": 0.08287222424425633,<br>    \"crossover_method\": \"cxUniform\",<br>    \"crossover_rate\": 0.1082964704348156,<br>    \"selection_method\": \"selTournament\",<br>    \"tournsize\": 9,<br>    \"elitism_rate\": 0.6042169453092883,<br>    \"survival_rate\": 0.8005004487535287<br>  }<br>}",
          "{<br>  \"number\": 46,<br>  \"values\": [<br>    0.6889136433601379,<br>    0.6078521370887756,<br>    34.06014442443848<br>  ],<br>  \"params\": {<br>    \"mutation_method\": \"mutConstant\",<br>    \"mutation_prob\": 0.34876045852141047,<br>    \"mutation_by_deletion_rate\": 0.1532639131327535,<br>    \"mutation_rate\": 0.7289401296235,<br>    \"crossover_method\": \"cxKPoint\",<br>    \"crossover_rate\": 0.6108923701666209,<br>    \"crossover_points\": 1,<br>    \"selection_method\": \"selTournamentWithoutReplacement\",<br>    \"tournsize\": 7,<br>    \"elitism_rate\": 0.42490414558933176,<br>    \"survival_rate\": 0.9336575814832099<br>  }<br>}",
          "{<br>  \"number\": 47,<br>  \"values\": [<br>    0.8410845994949341,<br>    0.7910833120346069,<br>    36.20443105697632<br>  ],<br>  \"params\": {<br>    \"mutation_method\": \"mutLinear\",<br>    \"mutation_prob\": 0.6394718523411634,<br>    \"mutation_by_deletion_rate\": 0.2216779140903231,<br>    \"mutation_rate_start\": 0.059616112038114046,<br>    \"mutation_rate_end\": 0.05685418310101994,<br>    \"crossover_method\": \"cxOnePoint\",<br>    \"crossover_rate\": 0.187229639138486,<br>    \"selection_method\": \"selTournament\",<br>    \"tournsize\": 10,<br>    \"elitism_rate\": 0.35453330924003607,<br>    \"survival_rate\": 0.005675611919139012<br>  }<br>}",
          "{<br>  \"number\": 48,<br>  \"values\": [<br>    0.6756318807601929,<br>    0.6636139273643493,<br>    36.92072129249573<br>  ],<br>  \"params\": {<br>    \"mutation_method\": \"mutLinear\",<br>    \"mutation_prob\": 0.9576899028724433,<br>    \"mutation_by_deletion_rate\": 0.04191443538263906,<br>    \"mutation_rate_start\": 0.12804890669698527,<br>    \"mutation_rate_end\": 0.35165447618765333,<br>    \"crossover_method\": \"cxKPoint\",<br>    \"crossover_rate\": 0.042417598317544325,<br>    \"crossover_points\": 1,<br>    \"selection_method\": \"selRandom\",<br>    \"elitism_rate\": 0.5113071375432007,<br>    \"survival_rate\": 0.7315371644674498<br>  }<br>}",
          "{<br>  \"number\": 49,<br>  \"values\": [<br>    0.6365086436271667,<br>    0.6165026307106019,<br>    44.36992931365967<br>  ],<br>  \"params\": {<br>    \"mutation_method\": \"mutLinear\",<br>    \"mutation_prob\": 0.8759799480894866,<br>    \"mutation_by_deletion_rate\": 0.8377800509305462,<br>    \"mutation_rate_start\": 0.00020863416896674258,<br>    \"mutation_rate_end\": 0.1595599853126441,<br>    \"crossover_method\": \"cxKPoint\",<br>    \"crossover_rate\": 0.1389905397482766,<br>    \"crossover_points\": 2,<br>    \"selection_method\": \"selStochasticUniversalSampling\",<br>    \"elitism_rate\": 0.006767582682113471,<br>    \"survival_rate\": 0.6608375039934543<br>  }<br>}",
          "{<br>  \"number\": 50,<br>  \"values\": [<br>    0.7879999876022339,<br>    0.7271000146865845,<br>    36.93705725669861<br>  ],<br>  \"params\": {<br>    \"mutation_method\": \"mutExponential\",<br>    \"mutation_prob\": 0.1657851043646298,<br>    \"mutation_by_deletion_rate\": 0.3509584257388156,<br>    \"mutation_rate_start\": 0.6884137468576331,<br>    \"mutation_rate_end\": 0.7658256044419851,<br>    \"mutation_rate_degree\": 3,<br>    \"crossover_method\": \"cxUniform\",<br>    \"crossover_rate\": 0.8538276655890157,<br>    \"selection_method\": \"selTournament\",<br>    \"tournsize\": 7,<br>    \"elitism_rate\": 0.20403540505767168,<br>    \"survival_rate\": 0.7595040707481207<br>  }<br>}",
          "{<br>  \"number\": 52,<br>  \"values\": [<br>    0.7397379279136658,<br>    0.708776593208313,<br>    33.8101692199707<br>  ],<br>  \"params\": {<br>    \"mutation_method\": \"mutLinear\",<br>    \"mutation_prob\": 0.5756174993679118,<br>    \"mutation_by_deletion_rate\": 0.9852641969022281,<br>    \"mutation_rate_start\": 0.36962269344470816,<br>    \"mutation_rate_end\": 0.05105598066454019,<br>    \"crossover_method\": \"cxKPoint\",<br>    \"crossover_rate\": 0.693902501056183,<br>    \"crossover_points\": 1,<br>    \"selection_method\": \"selTournament\",<br>    \"tournsize\": 9,<br>    \"elitism_rate\": 0.718999643440627,<br>    \"survival_rate\": 0.9105068780171406<br>  }<br>}",
          "{<br>  \"number\": 53,<br>  \"values\": [<br>    0.7891584634780884,<br>    0.7349591135978699,<br>    36.99980401992798<br>  ],<br>  \"params\": {<br>    \"mutation_method\": \"mutLinear\",<br>    \"mutation_prob\": 0.2720924548784479,<br>    \"mutation_by_deletion_rate\": 0.19442037165330134,<br>    \"mutation_rate_start\": 0.2963463362918685,<br>    \"mutation_rate_end\": 0.5975644740033781,<br>    \"crossover_method\": \"cxTwoPoint\",<br>    \"crossover_rate\": 0.3818705121123649,<br>    \"crossover_points\": 4,<br>    \"selection_method\": \"selBoltzmann\",<br>    \"boltzmann_temperature\": 0.0578534077031827,<br>    \"elitism_rate\": 0.10460767674435478,<br>    \"survival_rate\": 0.8703984303668656<br>  }<br>}",
          "{<br>  \"number\": 54,<br>  \"values\": [<br>    0.7070520520210266,<br>    0.6644346594810486,<br>    36.030149936676025<br>  ],<br>  \"params\": {<br>    \"mutation_method\": \"mutLinear\",<br>    \"mutation_prob\": 0.8881998907827173,<br>    \"mutation_by_deletion_rate\": 0.6563669158369068,<br>    \"mutation_rate_start\": 0.10345241081753331,<br>    \"mutation_rate_end\": 0.30104651746335526,<br>    \"crossover_method\": \"cxKPoint\",<br>    \"crossover_rate\": 0.09013658721191413,<br>    \"crossover_points\": 1,<br>    \"selection_method\": \"selNormRoulette\",<br>    \"elitism_rate\": 0.623024620531283,<br>    \"survival_rate\": 0.5098234309483838<br>  }<br>}",
          "{<br>  \"number\": 55,<br>  \"values\": [<br>    0.7364332675933838,<br>    0.7123331427574158,<br>    36.32043433189392<br>  ],<br>  \"params\": {<br>    \"mutation_method\": \"mutConstant\",<br>    \"mutation_prob\": 0.993572807883533,<br>    \"mutation_by_deletion_rate\": 0.2959958412619087,<br>    \"mutation_rate\": 0.27471592052564586,<br>    \"crossover_method\": \"cxKPoint\",<br>    \"crossover_rate\": 0.18380463698622762,<br>    \"crossover_points\": 2,<br>    \"selection_method\": \"selTournament\",<br>    \"tournsize\": 10,<br>    \"elitism_rate\": 0.6775422709152031,<br>    \"survival_rate\": 0.7745009794883313<br>  }<br>}",
          "{<br>  \"number\": 56,<br>  \"values\": [<br>    0.7811287641525269,<br>    0.7625243186950683,<br>    39.224778175354004<br>  ],<br>  \"params\": {<br>    \"mutation_method\": \"mutEntropy\",<br>    \"mutation_prob\": 0.6865678417652218,<br>    \"mutation_by_deletion_rate\": 0.13729007461410475,<br>    \"mutation_rate_start\": 0.04204518120125504,<br>    \"mutation_rate_end\": 0.23253725468293715,<br>    \"crossover_method\": \"cxOnePoint\",<br>    \"crossover_rate\": 0.00975405003621925,<br>    \"selection_method\": \"selTournament\",<br>    \"tournsize\": 8,<br>    \"elitism_rate\": 0.3085093402985588,<br>    \"survival_rate\": 0.9668840757321682<br>  }<br>}",
          "{<br>  \"number\": 57,<br>  \"values\": [<br>    0.8338178396224976,<br>    0.7573147654533386,<br>    38.58611798286438<br>  ],<br>  \"params\": {<br>    \"mutation_method\": \"mutLinear\",<br>    \"mutation_prob\": 0.4324462256807633,<br>    \"mutation_by_deletion_rate\": 0.2545311250797209,<br>    \"mutation_rate_start\": 0.4694700554742385,<br>    \"mutation_rate_end\": 0.17224232498755745,<br>    \"crossover_method\": \"cxKPoint\",<br>    \"crossover_rate\": 0.5194792327529154,<br>    \"crossover_points\": 3,<br>    \"selection_method\": \"selBest\",<br>    \"elitism_rate\": 0.1673964005865306,<br>    \"survival_rate\": 0.5766424812481666<br>  }<br>}",
          "{<br>  \"number\": 58,<br>  \"values\": [<br>    0.8410730361938477,<br>    0.8142565727233887,<br>    44.18554925918579<br>  ],<br>  \"params\": {<br>    \"mutation_method\": \"mutLinear\",<br>    \"mutation_prob\": 0.7466737255818626,<br>    \"mutation_by_deletion_rate\": 0.06434469602464887,<br>    \"mutation_rate_start\": 0.5964187500559917,<br>    \"mutation_rate_end\": 0.10806100203228483,<br>    \"crossover_method\": \"cxUniform\",<br>    \"crossover_rate\": 0.25401953200371813,<br>    \"selection_method\": \"selTournamentWithoutReplacement\",<br>    \"tournsize\": 5,<br>    \"elitism_rate\": 0.053276686305239185,<br>    \"survival_rate\": 0.8398030416694591<br>  }<br>}",
          "{<br>  \"number\": 59,<br>  \"values\": [<br>    0.7159609794616699,<br>    0.6445376753807068,<br>    38.5636785030365<br>  ],<br>  \"params\": {<br>    \"mutation_method\": \"mutExponential\",<br>    \"mutation_prob\": 0.8173187704879751,<br>    \"mutation_by_deletion_rate\": 0.525406982925554,<br>    \"mutation_rate_start\": 0.2679696546732775,<br>    \"mutation_rate_end\": 0.4994093337670635,<br>    \"mutation_rate_degree\": 2,<br>    \"crossover_method\": \"cxTwoPoint\",<br>    \"crossover_rate\": 0.7382167596379878,<br>    \"crossover_points\": 1,<br>    \"selection_method\": \"selRoulette\",<br>    \"elitism_rate\": 0.5544768218420898,<br>    \"survival_rate\": 0.24418172533903026<br>  }<br>}",
          "{<br>  \"number\": 60,<br>  \"values\": [<br>    0.733029842376709,<br>    0.7041908860206604,<br>    44.6192946434021<br>  ],<br>  \"params\": {<br>    \"mutation_method\": \"mutLinear\",<br>    \"mutation_prob\": 0.9365845742781858,<br>    \"mutation_by_deletion_rate\": 0.38748415488988774,<br>    \"mutation_rate_start\": 0.18998937495594395,<br>    \"mutation_rate_end\": 0.6383785891878189,<br>    \"crossover_method\": \"cxKPoint\",<br>    \"crossover_rate\": 0.12809307374942314,<br>    \"crossover_points\": 2,<br>    \"selection_method\": \"selTournament\",<br>    \"tournsize\": 9,<br>    \"elitism_rate\": 0.2347522919316892,<br>    \"survival_rate\": 0.11815497136926412<br>  }<br>}",
          "{<br>  \"number\": 61,<br>  \"values\": [<br>    0.5519899129867554,<br>    0.5217427492141724,<br>    35.00260353088379<br>  ],<br>  \"params\": {<br>    \"mutation_method\": \"mutConstant\",<br>    \"mutation_prob\": 0.08024898101789536,<br>    \"mutation_by_deletion_rate\": 0.4291076465443041,<br>    \"mutation_rate\": 0.7576440936326975,<br>    \"crossover_method\": \"cxUniform\",<br>    \"crossover_rate\": 0.001345634345170611,<br>    \"selection_method\": \"selTournament\",<br>    \"tournsize\": 8,<br>    \"elitism_rate\": 0.36666870414933184,<br>    \"survival_rate\": 0.7000136479081406<br>  }<br>}",
          "{<br>  \"number\": 62,<br>  \"values\": [<br>    0.824042797088623,<br>    0.7514571070671081,<br>    36.07604956626892<br>  ],<br>  \"params\": {<br>    \"mutation_method\": \"mutLinear\",<br>    \"mutation_prob\": 0.5260897624122647,<br>    \"mutation_by_deletion_rate\": 0.21573646042786088,<br>    \"mutation_rate_start\": 0.23205104391702272,<br>    \"mutation_rate_end\": 0.003171353349845085,<br>    \"crossover_method\": \"cxUniform\",<br>    \"crossover_rate\": 0.03554322697719742,<br>    \"selection_method\": \"selBoltzmann\",<br>    \"boltzmann_temperature\": 0.4617864243642624,<br>    \"elitism_rate\": 0.4157125476205128,<br>    \"survival_rate\": 0.4784356434080182<br>  }<br>}",
          "{<br>  \"number\": 64,<br>  \"values\": [<br>    0.7852331399917603,<br>    0.7389002919197083,<br>    37.22005891799927<br>  ],<br>  \"params\": {<br>    \"mutation_method\": \"mutEntropy\",<br>    \"mutation_prob\": 0.30993904634624636,<br>    \"mutation_by_deletion_rate\": 0.29891965985861496,<br>    \"mutation_rate_start\": 0.5815771881848601,<br>    \"mutation_rate_end\": 0.42561035523686314,<br>    \"crossover_method\": \"cxTwoPoint\",<br>    \"crossover_rate\": 0.6531554752115676,<br>    \"crossover_points\": 1,<br>    \"selection_method\": \"selBest\",<br>    \"elitism_rate\": 0.19039613135371936,<br>    \"survival_rate\": 0.3876590070862467<br>  }<br>}",
          "{<br>  \"number\": 65,<br>  \"values\": [<br>    0.7198595404624939,<br>    0.678218412399292,<br>    36.39551258087158<br>  ],<br>  \"params\": {<br>    \"mutation_method\": \"mutEntropy\",<br>    \"mutation_prob\": 0.043588013531310296,<br>    \"mutation_by_deletion_rate\": 0.3805548249941819,<br>    \"mutation_rate_start\": 0.6305039074512574,<br>    \"mutation_rate_end\": 0.32450608434706635,<br>    \"crossover_method\": \"cxTwoPoint\",<br>    \"crossover_rate\": 0.08721281364783584,<br>    \"crossover_points\": 1,<br>    \"selection_method\": \"selBest\",<br>    \"elitism_rate\": 0.055824427478387006,<br>    \"survival_rate\": 0.337502316035189<br>  }<br>}",
          "{<br>  \"number\": 66,<br>  \"values\": [<br>    0.7470958232879639,<br>    0.6966751456260681,<br>    36.19727110862732<br>  ],<br>  \"params\": {<br>    \"mutation_method\": \"mutEntropy\",<br>    \"mutation_prob\": 0.14893327763797976,<br>    \"mutation_by_deletion_rate\": 0.31270971863155883,<br>    \"mutation_rate_start\": 0.5366553706159896,<br>    \"mutation_rate_end\": 0.23719849527852327,<br>    \"crossover_method\": \"cxTwoPoint\",<br>    \"crossover_rate\": 0.0012941277659093454,<br>    \"crossover_points\": 1,<br>    \"selection_method\": \"selBest\",<br>    \"elitism_rate\": 0.2927070046397523,<br>    \"survival_rate\": 0.36236117363241155<br>  }<br>}",
          "{<br>  \"number\": 67,<br>  \"values\": [<br>    0.8324827551841736,<br>    0.7940099000930786,<br>    42.32256484031677<br>  ],<br>  \"params\": {<br>    \"mutation_method\": \"mutEntropy\",<br>    \"mutation_prob\": 0.6743116541751529,<br>    \"mutation_by_deletion_rate\": 0.25748801030689866,<br>    \"mutation_rate_start\": 0.44178924581897155,<br>    \"mutation_rate_end\": 0.3767939059372214,<br>    \"crossover_method\": \"cxTwoPoint\",<br>    \"crossover_rate\": 0.542091885786666,<br>    \"crossover_points\": 4,<br>    \"selection_method\": \"selBest\",<br>    \"elitism_rate\": 0.14901950011486298,<br>    \"survival_rate\": 0.5442907735096199<br>  }<br>}",
          "{<br>  \"number\": 68,<br>  \"values\": [<br>    0.6624289751052856,<br>    0.6153616666793823,<br>    42.41461539268494<br>  ],<br>  \"params\": {<br>    \"mutation_method\": \"mutEntropy\",<br>    \"mutation_prob\": 0.7246960289560243,<br>    \"mutation_by_deletion_rate\": 0.35624868480756805,<br>    \"mutation_rate_start\": 0.5430245298060379,<br>    \"mutation_rate_end\": 0.5109703412304993,<br>    \"crossover_method\": \"cxTwoPoint\",<br>    \"crossover_rate\": 0.050258836011490726,<br>    \"crossover_points\": 1,<br>    \"selection_method\": \"selRandom\",<br>    \"elitism_rate\": 0.11831785626526853,<br>    \"survival_rate\": 0.43922023457624015<br>  }<br>}",
          "{<br>  \"number\": 69,<br>  \"values\": [<br>    0.8179866671562195,<br>    0.7718769550323487,<br>    34.288644552230835<br>  ],<br>  \"params\": {<br>    \"mutation_method\": \"mutEntropy\",<br>    \"mutation_prob\": 0.23999408600629013,<br>    \"mutation_by_deletion_rate\": 0.24179241211606917,<br>    \"mutation_rate_start\": 0.7092414836115971,<br>    \"mutation_rate_end\": 0.03405549045672206,<br>    \"crossover_method\": \"cxOnePoint\",<br>    \"crossover_rate\": 0.22092040395665924,<br>    \"selection_method\": \"selBest\",<br>    \"elitism_rate\": 0.4814637482751976,<br>    \"survival_rate\": 0.19874954195468075<br>  }<br>}",
          "{<br>  \"number\": 70,<br>  \"values\": [<br>    0.7827468514442444,<br>    0.7519469380378723,<br>    37.323917388916016<br>  ],<br>  \"params\": {<br>    \"mutation_method\": \"mutExponential\",<br>    \"mutation_prob\": 0.12663472853792562,<br>    \"mutation_by_deletion_rate\": 0.20539003078632556,<br>    \"mutation_rate_start\": 0.3729761812868779,<br>    \"mutation_rate_end\": 0.4220637171239847,<br>    \"mutation_rate_degree\": 4,<br>    \"crossover_method\": \"cxTwoPoint\",<br>    \"crossover_rate\": 0.9922278669768525,<br>    \"crossover_points\": 1,<br>    \"selection_method\": \"selStochasticUniversalSampling\",<br>    \"elitism_rate\": 0.22535951790507813,<br>    \"survival_rate\": 0.2902683840072028<br>  }<br>}",
          "{<br>  \"number\": 71,<br>  \"values\": [<br>    0.7092493772506714,<br>    0.6851785898208618,<br>    47.41383123397827<br>  ],<br>  \"params\": {<br>    \"mutation_method\": \"mutEntropy\",<br>    \"mutation_prob\": 0.9640664577028335,<br>    \"mutation_by_deletion_rate\": 0.2773556653695439,<br>    \"mutation_rate_start\": 0.4713078594790372,<br>    \"mutation_rate_end\": 0.03473588063592447,<br>    \"crossover_method\": \"cxKPoint\",<br>    \"crossover_rate\": 0.03054354740701666,<br>    \"crossover_points\": 4,<br>    \"selection_method\": \"selBest\",<br>    \"elitism_rate\": 0.08395299826228808,<br>    \"survival_rate\": 0.41588202324978596<br>  }<br>}",
          "{<br>  \"number\": 72,<br>  \"values\": [<br>    0.7266479730606079,<br>    0.6980661630630494,<br>    39.74447989463806<br>  ],<br>  \"params\": {<br>    \"mutation_method\": \"mutConstant\",<br>    \"mutation_prob\": 0.5921392744414546,<br>    \"mutation_by_deletion_rate\": 0.17732518469052544,<br>    \"mutation_rate\": 0.2711283234127328,<br>    \"crossover_method\": \"cxKPoint\",<br>    \"crossover_rate\": 0.5873150549941661,<br>    \"crossover_points\": 3,<br>    \"selection_method\": \"selNormRoulette\",<br>    \"elitism_rate\": 0.31711490051599933,<br>    \"survival_rate\": 0.6239965801470732<br>  }<br>}",
          "{<br>  \"number\": 73,<br>  \"values\": [<br>    0.6077612042427063,<br>    0.5771896123886109,<br>    41.43715453147888<br>  ],<br>  \"params\": {<br>    \"mutation_method\": \"mutEntropy\",<br>    \"mutation_prob\": 0.4981467271869528,<br>    \"mutation_by_deletion_rate\": 0.32031968659106713,<br>    \"mutation_rate_start\": 0.841124017547996,<br>    \"mutation_rate_end\": 0.9248010224016813,<br>    \"crossover_method\": \"cxKPoint\",<br>    \"crossover_rate\": 0.785713879553521,<br>    \"crossover_points\": 1,<br>    \"selection_method\": \"selTournament\",<br>    \"tournsize\": 3,<br>    \"elitism_rate\": 0.04156030942796441,<br>    \"survival_rate\": 0.6780780527824949<br>  }<br>}",
          "{<br>  \"number\": 74,<br>  \"values\": [<br>    0.5858001708984375,<br>    0.5717511415481568,<br>    32.519243001937866<br>  ],<br>  \"params\": {<br>    \"mutation_method\": \"mutLinear\",<br>    \"mutation_prob\": 0.4083272068336692,<br>    \"mutation_by_deletion_rate\": 0.45060991692732866,<br>    \"mutation_rate_start\": 0.9055278800592029,<br>    \"mutation_rate_end\": 0.12805364363671187,<br>    \"crossover_method\": \"cxTwoPoint\",<br>    \"crossover_rate\": 0.4548489466815071,<br>    \"crossover_points\": 4,<br>    \"selection_method\": \"selRoulette\",<br>    \"elitism_rate\": 0.9142516934328171,<br>    \"survival_rate\": 0.5343589792934912<br>  }<br>}",
          "{<br>  \"number\": 75,<br>  \"values\": [<br>    0.6921095848083496,<br>    0.6553534865379333,<br>    33.56611752510071<br>  ],<br>  \"params\": {<br>    \"mutation_method\": \"mutLinear\",<br>    \"mutation_prob\": 0.7900024870964848,<br>    \"mutation_by_deletion_rate\": 0.7503225900199316,<br>    \"mutation_rate_start\": 0.3319799000460807,<br>    \"mutation_rate_end\": 0.27816467184202437,<br>    \"crossover_method\": \"cxKPoint\",<br>    \"crossover_rate\": 0.10122035879408925,<br>    \"crossover_points\": 1,<br>    \"selection_method\": \"selTournamentWithoutReplacement\",<br>    \"tournsize\": 9,<br>    \"elitism_rate\": 0.8026399969605995,<br>    \"survival_rate\": 0.05284469750527199<br>  }<br>}",
          "{<br>  \"number\": 76,<br>  \"values\": [<br>    0.6793094873428345,<br>    0.6559566617012024,<br>    35.463175535202026<br>  ],<br>  \"params\": {<br>    \"mutation_method\": \"mutEntropy\",<br>    \"mutation_prob\": 0.33662036082528685,<br>    \"mutation_by_deletion_rate\": 0.3682313671482278,<br>    \"mutation_rate_start\": 0.41262297097297684,<br>    \"mutation_rate_end\": 0.47153270421065024,<br>    \"crossover_method\": \"cxKPoint\",<br>    \"crossover_rate\": 0.15162027203627582,<br>    \"crossover_points\": 1,<br>    \"selection_method\": \"selTournament\",<br>    \"tournsize\": 8,<br>    \"elitism_rate\": 0.44093596600733087,<br>    \"survival_rate\": 0.7327753596294881<br>  }<br>}",
          "{<br>  \"number\": 77,<br>  \"values\": [<br>    0.800360918045044,<br>    0.7521824359893798,<br>    40.749242544174194<br>  ],<br>  \"params\": {<br>    \"mutation_method\": \"mutExponential\",<br>    \"mutation_prob\": 0.8936387986515462,<br>    \"mutation_by_deletion_rate\": 0.1911088341051281,<br>    \"mutation_rate_start\": 0.6207465589818093,<br>    \"mutation_rate_end\": 0.5757252747266716,<br>    \"mutation_rate_degree\": 2,<br>    \"crossover_method\": \"cxTwoPoint\",<br>    \"crossover_rate\": 0.6902428674974508,<br>    \"crossover_points\": 4,<br>    \"selection_method\": \"selBest\",<br>    \"elitism_rate\": 0.3379757148480517,<br>    \"survival_rate\": 0.7997549373631402<br>  }<br>}",
          "{<br>  \"number\": 78,<br>  \"values\": [<br>    0.7296648025512695,<br>    0.7030602693557739,<br>    40.77132058143616<br>  ],<br>  \"params\": {<br>    \"mutation_method\": \"mutConstant\",<br>    \"mutation_prob\": 0.6438423815694417,<br>    \"mutation_by_deletion_rate\": 0.5929023922755903,<br>    \"mutation_rate\": 0.7551381045218448,<br>    \"crossover_method\": \"cxOnePoint\",<br>    \"crossover_rate\": 0.6359400524829846,<br>    \"selection_method\": \"selBoltzmann\",<br>    \"boltzmann_temperature\": 0.42103510733634,<br>    \"elitism_rate\": 0.26754336007181556,<br>    \"survival_rate\": 0.5965252935659502<br>  }<br>}",
          "{<br>  \"number\": 79,<br>  \"values\": [<br>    0.7290562987327576,<br>    0.7102700710296631,<br>    43.51756739616394<br>  ],<br>  \"params\": {<br>    \"mutation_method\": \"mutLinear\",<br>    \"mutation_prob\": 0.9696600571502234,<br>    \"mutation_by_deletion_rate\": 0.10166318077618028,<br>    \"mutation_rate_start\": 0.16360143881845216,<br>    \"mutation_rate_end\": 0.20599763411442018,<br>    \"crossover_method\": \"cxKPoint\",<br>    \"crossover_rate\": 0.06665501458467415,<br>    \"crossover_points\": 1,<br>    \"selection_method\": \"selRandom\",<br>    \"elitism_rate\": 0.15238900843674003,<br>    \"survival_rate\": 0.48570720212231033<br>  }<br>}",
          "{<br>  \"number\": 80,<br>  \"values\": [<br>    0.5368230938911438,<br>    0.5299887895584107,<br>    29.38054132461548<br>  ],<br>  \"params\": {<br>    \"mutation_method\": \"mutLinear\",<br>    \"mutation_prob\": 0.85357870407898,<br>    \"mutation_by_deletion_rate\": 0.4126200389900489,<br>    \"mutation_rate_start\": 0.5266442205268975,<br>    \"mutation_rate_end\": 0.1523496144199017,<br>    \"crossover_method\": \"cxKPoint\",<br>    \"crossover_rate\": 0.028238352133316783,<br>    \"crossover_points\": 2,<br>    \"selection_method\": \"selTournament\",<br>    \"tournsize\": 9,<br>    \"elitism_rate\": 0.9967688567495361,<br>    \"survival_rate\": 0.6487528034489795<br>  }<br>}",
          "{<br>  \"number\": 81,<br>  \"values\": [<br>    0.7897964715957642,<br>    0.7411091685295105,<br>    37.224798917770386<br>  ],<br>  \"params\": {<br>    \"mutation_method\": \"mutLinear\",<br>    \"mutation_prob\": 0.9477940336078268,<br>    \"mutation_by_deletion_rate\": 0.27260085524609734,<br>    \"mutation_rate_start\": 0.9990463864074866,<br>    \"mutation_rate_end\": 0.006377457195317012,<br>    \"crossover_method\": \"cxKPoint\",<br>    \"crossover_rate\": 0.9102928646105523,<br>    \"crossover_points\": 1,<br>    \"selection_method\": \"selTournament\",<br>    \"tournsize\": 7,<br>    \"elitism_rate\": 0.570579515064092,<br>    \"survival_rate\": 0.7091441014407813<br>  }<br>}",
          "{<br>  \"number\": 82,<br>  \"values\": [<br>    0.6453681588172913,<br>    0.6104266047477722,<br>    36.699060916900635<br>  ],<br>  \"params\": {<br>    \"mutation_method\": \"mutEntropy\",<br>    \"mutation_prob\": 0.5448586037720985,<br>    \"mutation_by_deletion_rate\": 0.9643893348227172,<br>    \"mutation_rate_start\": 0.49578609827282166,<br>    \"mutation_rate_end\": 0.7407831692057474,<br>    \"crossover_method\": \"cxKPoint\",<br>    \"crossover_rate\": 0.07300126411047571,<br>    \"crossover_points\": 1,<br>    \"selection_method\": \"selStochasticUniversalSampling\",<br>    \"elitism_rate\": 0.4046104261305713,<br>    \"survival_rate\": 0.2906430025627196<br>  }<br>}",
          "{<br>  \"number\": 83,<br>  \"values\": [<br>    0.8221539258956909,<br>    0.7712409734725952,<br>    41.883124351501465<br>  ],<br>  \"params\": {<br>    \"mutation_method\": \"mutLinear\",<br>    \"mutation_prob\": 0.7108520370997927,<br>    \"mutation_by_deletion_rate\": 0.23230326660839962,<br>    \"mutation_rate_start\": 0.2766823689269605,<br>    \"mutation_rate_end\": 0.07365578424955388,<br>    \"crossover_method\": \"cxTwoPoint\",<br>    \"crossover_rate\": 0.5166314023835813,<br>    \"crossover_points\": 1,<br>    \"selection_method\": \"selTournament\",<br>    \"tournsize\": 1,<br>    \"elitism_rate\": 0.195228980230842,<br>    \"survival_rate\": 0.6451503806697005<br>  }<br>}",
          "{<br>  \"number\": 84,<br>  \"values\": [<br>    0.6225752234458923,<br>    0.576842999458313,<br>    33.402432441711426<br>  ],<br>  \"params\": {<br>    \"mutation_method\": \"mutLinear\",<br>    \"mutation_prob\": 0.03147187482136985,<br>    \"mutation_by_deletion_rate\": 0.3310181398292588,<br>    \"mutation_rate_start\": 0.22850490749456184,<br>    \"mutation_rate_end\": 0.6473493712742924,<br>    \"crossover_method\": \"cxKPoint\",<br>    \"crossover_rate\": 0.11144180264995515,<br>    \"crossover_points\": 2,<br>    \"selection_method\": \"selTournament\",<br>    \"tournsize\": 8,<br>    \"elitism_rate\": 0.24190816080347655,<br>    \"survival_rate\": 0.7473779062737466<br>  }<br>}",
          "{<br>  \"number\": 85,<br>  \"values\": [<br>    0.6747480034828186,<br>    0.6462585091590881,<br>    38.46428894996643<br>  ],<br>  \"params\": {<br>    \"mutation_method\": \"mutExponential\",<br>    \"mutation_prob\": 0.49485769632849147,<br>    \"mutation_by_deletion_rate\": 0.16179481319817068,<br>    \"mutation_rate_start\": 0.6596260585904788,<br>    \"mutation_rate_end\": 0.3673414001814841,<br>    \"mutation_rate_degree\": 3,<br>    \"crossover_method\": \"cxOnePoint\",<br>    \"crossover_rate\": 0.01840764194276956,<br>    \"selection_method\": \"selBest\",<br>    \"elitism_rate\": 0.2825584623803771,<br>    \"survival_rate\": 0.6812635994802405<br>  }<br>}",
          "{<br>  \"number\": 86,<br>  \"values\": [<br>    0.7546871900558472,<br>    0.6528613448143006,<br>    36.14768123626709<br>  ],<br>  \"params\": {<br>    \"mutation_method\": \"mutLinear\",<br>    \"mutation_prob\": 0.4526880265026702,<br>    \"mutation_by_deletion_rate\": 0.8531518848233306,<br>    \"mutation_rate_start\": 0.40864794321315656,<br>    \"mutation_rate_end\": 0.40335990870550587,<br>    \"crossover_method\": \"cxKPoint\",<br>    \"crossover_rate\": 0.6254883316028731,<br>    \"crossover_points\": 1,<br>    \"selection_method\": \"selNormRoulette\",<br>    \"elitism_rate\": 0.36901534821559134,<br>    \"survival_rate\": 0.5964188348917696<br>  }<br>}",
          "{<br>  \"number\": 87,<br>  \"values\": [<br>    0.717465341091156,<br>    0.6484408497810363,<br>    36.981825828552246<br>  ],<br>  \"params\": {<br>    \"mutation_method\": \"mutEntropy\",<br>    \"mutation_prob\": 0.7606876471307793,<br>    \"mutation_by_deletion_rate\": 0.13300641520948275,<br>    \"mutation_rate_start\": 0.5702059734996409,<br>    \"mutation_rate_end\": 0.4662732236338804,<br>    \"crossover_method\": \"cxTwoPoint\",<br>    \"crossover_rate\": 0.05885683789292721,<br>    \"crossover_points\": 3,<br>    \"selection_method\": \"selTournament\",<br>    \"tournsize\": 3,<br>    \"elitism_rate\": 0.4984717088856505,<br>    \"survival_rate\": 0.22882078991479093<br>  }<br>}",
          "{<br>  \"number\": 88,<br>  \"values\": [<br>    0.7666546702384949,<br>    0.7307247877120971,<br>    41.60932970046997<br>  ],<br>  \"params\": {<br>    \"mutation_method\": \"mutLinear\",<br>    \"mutation_prob\": 0.918888065099502,<br>    \"mutation_by_deletion_rate\": 0.2067717713279885,<br>    \"mutation_rate_start\": 0.35115841181874696,<br>    \"mutation_rate_end\": 0.19476234130510564,<br>    \"crossover_method\": \"cxKPoint\",<br>    \"crossover_rate\": 0.6820257909844931,<br>    \"crossover_points\": 1,<br>    \"selection_method\": \"selRoulette\",<br>    \"elitism_rate\": 0.3284474072487917,<br>    \"survival_rate\": 0.7801352300466324<br>  }<br>}",
          "{<br>  \"number\": 89,<br>  \"values\": [<br>    0.5833253264427185,<br>    0.544021487236023,<br>    32.2087025642395<br>  ],<br>  \"params\": {<br>    \"mutation_method\": \"mutConstant\",<br>    \"mutation_prob\": 0.6242936240362706,<br>    \"mutation_by_deletion_rate\": 0.09432640396897496,<br>    \"mutation_rate\": 0.8745445504398,<br>    \"crossover_method\": \"cxKPoint\",<br>    \"crossover_rate\": 0.35513415054229325,<br>    \"crossover_points\": 2,<br>    \"selection_method\": \"selTournamentWithoutReplacement\",<br>    \"tournsize\": 9,<br>    \"elitism_rate\": 0.7572552008692368,<br>    \"survival_rate\": 0.32886510895675464<br>  }<br>}",
          "{<br>  \"number\": 90,<br>  \"values\": [<br>    0.7037366032600403,<br>    0.6721386551856995,<br>    33.186771392822266<br>  ],<br>  \"params\": {<br>    \"mutation_method\": \"mutLinear\",<br>    \"mutation_prob\": 0.8143474280710798,<br>    \"mutation_by_deletion_rate\": 0.6917772799015489,<br>    \"mutation_rate_start\": 0.7623187407995659,<br>    \"mutation_rate_end\": 0.10998377605314905,<br>    \"crossover_method\": \"cxTwoPoint\",<br>    \"crossover_rate\": 0.5768301477733666,<br>    \"crossover_points\": 4,<br>    \"selection_method\": \"selTournament\",<br>    \"tournsize\": 6,<br>    \"elitism_rate\": 0.8379051028453167,<br>    \"survival_rate\": 0.13508199071050875<br>  }<br>}",
          "{<br>  \"number\": 91,<br>  \"values\": [<br>    0.7995247840881348,<br>    0.7639199018478393,<br>    38.82355880737305<br>  ],<br>  \"params\": {<br>    \"mutation_method\": \"mutLinear\",<br>    \"mutation_prob\": 0.9942320027536136,<br>    \"mutation_by_deletion_rate\": 0.17394771125202685,<br>    \"mutation_rate_start\": 0.30917930569128765,<br>    \"mutation_rate_end\": 0.24156896886103887,<br>    \"crossover_method\": \"cxKPoint\",<br>    \"crossover_rate\": 0.07667265475524539,<br>    \"crossover_points\": 1,<br>    \"selection_method\": \"selTournament\",<br>    \"tournsize\": 10,<br>    \"elitism_rate\": 0.4482308391970539,<br>    \"survival_rate\": 0.714069072830446<br>  }<br>}",
          "{<br>  \"number\": 92,<br>  \"values\": [<br>    0.7088115215301514,<br>    0.6676718592643738,<br>    40.36926078796387<br>  ],<br>  \"params\": {<br>    \"mutation_method\": \"mutEntropy\",<br>    \"mutation_prob\": 0.5802080850586554,<br>    \"mutation_by_deletion_rate\": 0.25008796648456416,<br>    \"mutation_rate_start\": 0.45523401207814174,<br>    \"mutation_rate_end\": 0.08862341967608922,<br>    \"crossover_method\": \"cxKPoint\",<br>    \"crossover_rate\": 0.03091031662688646,<br>    \"crossover_points\": 1,<br>    \"selection_method\": \"selBest\",<br>    \"elitism_rate\": 0.02116148336301714,<br>    \"survival_rate\": 0.5672133957373404<br>  }<br>}",
          "{<br>  \"number\": 93,<br>  \"values\": [<br>    0.653691828250885,<br>    0.5932877779006958,<br>    32.72807478904724<br>  ],<br>  \"params\": {<br>    \"mutation_method\": \"mutLinear\",<br>    \"mutation_prob\": 0.2163737043033209,<br>    \"mutation_by_deletion_rate\": 0.2831337968203255,<br>    \"mutation_rate_start\": 0.49414542128810707,<br>    \"mutation_rate_end\": 0.31806610880573827,<br>    \"crossover_method\": \"cxOnePoint\",<br>    \"crossover_rate\": 0.0007780004370561448,<br>    \"selection_method\": \"selTournament\",<br>    \"tournsize\": 4,<br>    \"elitism_rate\": 0.6575939102549309,<br>    \"survival_rate\": 0.6260506710447692<br>  }<br>}",
          "{<br>  \"number\": 94,<br>  \"values\": [<br>    0.7945880889892578,<br>    0.7518698930740356,<br>    39.4741313457489<br>  ],<br>  \"params\": {<br>    \"mutation_method\": \"mutLinear\",<br>    \"mutation_prob\": 0.3682202439957964,<br>    \"mutation_by_deletion_rate\": 0.025359674873914995,<br>    \"mutation_rate_start\": 0.1460688195483908,<br>    \"mutation_rate_end\": 0.14012853059365718,<br>    \"crossover_method\": \"cxTwoPoint\",<br>    \"crossover_rate\": 0.15023545588747242,<br>    \"crossover_points\": 1,<br>    \"selection_method\": \"selBoltzmann\",<br>    \"boltzmann_temperature\": 0.9386013549891546,<br>    \"elitism_rate\": 0.08414661179124693,<br>    \"survival_rate\": 0.6849033748161324<br>  }<br>}",
          "{<br>  \"number\": 95,<br>  \"values\": [<br>    0.6648522615432739,<br>    0.6342072725296021,<br>    39.611525774002075<br>  ],<br>  \"params\": {<br>    \"mutation_method\": \"mutExponential\",<br>    \"mutation_prob\": 0.6636810390609039,<br>    \"mutation_by_deletion_rate\": 0.22790559444432626,<br>    \"mutation_rate_start\": 0.20629943342313578,<br>    \"mutation_rate_end\": 0.5564945712558815,<br>    \"mutation_rate_degree\": 1,<br>    \"crossover_method\": \"cxKPoint\",<br>    \"crossover_rate\": 0.09734704654656445,<br>    \"crossover_points\": 3,<br>    \"selection_method\": \"selRandom\",<br>    \"elitism_rate\": 0.10933533357764091,<br>    \"survival_rate\": 0.8545821631629744<br>  }<br>}",
          "{<br>  \"number\": 96,<br>  \"values\": [<br>    0.5957351922988892,<br>    0.5570340991020203,<br>    37.09906029701233<br>  ],<br>  \"params\": {<br>    \"mutation_method\": \"mutEntropy\",<br>    \"mutation_prob\": 0.9732320818509738,<br>    \"mutation_by_deletion_rate\": 0.3094966106120131,<br>    \"mutation_rate_start\": 0.9491724780124051,<br>    \"mutation_rate_end\": 0.05860562756036512,<br>    \"crossover_method\": \"cxKPoint\",<br>    \"crossover_rate\": 0.17181876011859298,<br>    \"crossover_points\": 2,<br>    \"selection_method\": \"selStochasticUniversalSampling\",<br>    \"elitism_rate\": 0.5971598603317609,<br>    \"survival_rate\": 0.07544060782487227<br>  }<br>}",
          "{<br>  \"number\": 97,<br>  \"values\": [<br>    0.6986208558082581,<br>    0.6619326829910278,<br>    35.65146613121033<br>  ],<br>  \"params\": {<br>    \"mutation_method\": \"mutConstant\",<br>    \"mutation_prob\": 0.2487923711526685,<br>    \"mutation_by_deletion_rate\": 0.2763197148626414,<br>    \"mutation_rate\": 0.6317497848551459,<br>    \"crossover_method\": \"cxTwoPoint\",<br>    \"crossover_rate\": 0.12543684867129667,<br>    \"crossover_points\": 1,<br>    \"selection_method\": \"selTournament\",<br>    \"tournsize\": 10,<br>    \"elitism_rate\": 0.2191307351766032,<br>    \"survival_rate\": 0.3851886054811244<br>  }<br>}",
          "{<br>  \"number\": 98,<br>  \"values\": [<br>    0.877703070640564,<br>    0.7990853428840637,<br>    38.24931597709656<br>  ],<br>  \"params\": {<br>    \"mutation_method\": \"mutLinear\",<br>    \"mutation_prob\": 0.8335595252672573,<br>    \"mutation_by_deletion_rate\": 0.49123448796979635,<br>    \"mutation_rate_start\": 0.08708313772407007,<br>    \"mutation_rate_end\": 0.2873869983739442,<br>    \"crossover_method\": \"cxKPoint\",<br>    \"crossover_rate\": 0.052431108583194955,<br>    \"crossover_points\": 1,<br>    \"selection_method\": \"selBest\",<br>    \"elitism_rate\": 0.4683212144015047,<br>    \"survival_rate\": 0.7426359788067577<br>  }<br>}",
          "{<br>  \"number\": 99,<br>  \"values\": [<br>    0.5996505618095398,<br>    0.5892487168312073,<br>    37.123597145080566<br>  ],<br>  \"params\": {<br>    \"mutation_method\": \"mutLinear\",<br>    \"mutation_prob\": 0.9025433741169274,<br>    \"mutation_by_deletion_rate\": 0.33707530512336037,<br>    \"mutation_rate_start\": 0.5573498449694338,<br>    \"mutation_rate_end\": 0.6613553567148777,<br>    \"crossover_method\": \"cxUniform\",<br>    \"crossover_rate\": 0.7688300102867726,<br>    \"selection_method\": \"selNormRoulette\",<br>    \"elitism_rate\": 0.5312520341629811,<br>    \"survival_rate\": 0.4449903468230242<br>  }<br>}",
          "{<br>  \"number\": 100,<br>  \"values\": [<br>    0.752388596534729,<br>    0.703179657459259,<br>    36.57809400558472<br>  ],<br>  \"params\": {<br>    \"mutation_method\": \"mutEntropy\",<br>    \"mutation_prob\": 0.3162813116076334,<br>    \"mutation_by_deletion_rate\": 0.20358210768719015,<br>    \"mutation_rate_start\": 0.017068295939594053,<br>    \"mutation_rate_end\": 0.778166769944231,<br>    \"crossover_method\": \"cxOnePoint\",<br>    \"crossover_rate\": 0.8309965352601901,<br>    \"selection_method\": \"selTournament\",<br>    \"tournsize\": 9,<br>    \"elitism_rate\": 0.17560300549827057,<br>    \"survival_rate\": 0.5230080510075275<br>  }<br>}",
          "{<br>  \"number\": 101,<br>  \"values\": [<br>    0.6163912415504456,<br>    0.6038847208023072,<br>    40.756608724594116<br>  ],<br>  \"params\": {<br>    \"mutation_method\": \"mutLinear\",<br>    \"mutation_prob\": 0.7329857721205131,<br>    \"mutation_by_deletion_rate\": 0.24443688037600336,<br>    \"mutation_rate_start\": 0.7252106541711879,<br>    \"mutation_rate_end\": 0.9044459688772748,<br>    \"crossover_method\": \"cxKPoint\",<br>    \"crossover_rate\": 0.49629723324182523,<br>    \"crossover_points\": 4,<br>    \"selection_method\": \"selTournament\",<br>    \"tournsize\": 8,<br>    \"elitism_rate\": 0.26001858657742116,<br>    \"survival_rate\": 0.9531978596541584<br>  }<br>}",
          "{<br>  \"number\": 102,<br>  \"values\": [<br>    0.8023749589920044,<br>    0.7786256670951843,<br>    40.77740025520325<br>  ],<br>  \"params\": {<br>    \"mutation_method\": \"mutLinear\",<br>    \"mutation_prob\": 0.7835714999566105,<br>    \"mutation_by_deletion_rate\": 0.13688171405985003,<br>    \"mutation_rate_start\": 0.8482814348796092,<br>    \"mutation_rate_end\": 0.17917485915696618,<br>    \"crossover_method\": \"cxTwoPoint\",<br>    \"crossover_rate\": 0.5391805196760813,<br>    \"crossover_points\": 1,<br>    \"selection_method\": \"selBest\",<br>    \"elitism_rate\": 0.3009752402080672,<br>    \"survival_rate\": 0.8142955029031433<br>  }<br>}",
          "{<br>  \"number\": 103,<br>  \"values\": [<br>    0.7560480237007141,<br>    0.7209091067314148,<br>    33.911813735961914<br>  ],<br>  \"params\": {<br>    \"mutation_method\": \"mutEntropy\",<br>    \"mutation_prob\": 0.757719257368411,<br>    \"mutation_by_deletion_rate\": 0.16640312854848655,<br>    \"mutation_rate_start\": 0.28345204200750823,<br>    \"mutation_rate_end\": 0.02841226591652682,<br>    \"crossover_method\": \"cxKPoint\",<br>    \"crossover_rate\": 0.7134241889012927,<br>    \"crossover_points\": 2,<br>    \"selection_method\": \"selRoulette\",<br>    \"elitism_rate\": 0.6300292763653232,<br>    \"survival_rate\": 0.6552305732355228<br>  }<br>}",
          "{<br>  \"number\": 104,<br>  \"values\": [<br>    0.7022519707679749,<br>    0.662966275215149,<br>    38.718910932540894<br>  ],<br>  \"params\": {<br>    \"mutation_method\": \"mutConstant\",<br>    \"mutation_prob\": 0.6935732553303173,<br>    \"mutation_by_deletion_rate\": 0.9384623857283682,<br>    \"mutation_rate\": 0.4145522184931648,<br>    \"crossover_method\": \"cxTwoPoint\",<br>    \"crossover_rate\": 0.02238569832858995,<br>    \"crossover_points\": 1,<br>    \"selection_method\": \"selTournament\",<br>    \"tournsize\": 2,<br>    \"elitism_rate\": 0.34958999235001903,<br>    \"survival_rate\": 0.26581233084890193<br>  }<br>}",
          "{<br>  \"number\": 105,<br>  \"values\": [<br>    0.7318933606147766,<br>    0.6721117496490479,<br>    33.38467812538147<br>  ],<br>  \"params\": {<br>    \"mutation_method\": \"mutLinear\",<br>    \"mutation_prob\": 0.7387116964637244,<br>    \"mutation_by_deletion_rate\": 0.2921546229761168,<br>    \"mutation_rate_start\": 0.24140003628538617,<br>    \"mutation_rate_end\": 0.5171200614968798,<br>    \"crossover_method\": \"cxKPoint\",<br>    \"crossover_rate\": 0.20216505320517825,<br>    \"crossover_points\": 1,<br>    \"selection_method\": \"selTournamentWithoutReplacement\",<br>    \"tournsize\": 10,<br>    \"elitism_rate\": 0.7043782359954696,<br>    \"survival_rate\": 0.17194049819039636<br>  }<br>}",
          "{<br>  \"number\": 106,<br>  \"values\": [<br>    0.7647905349731445,<br>    0.7354385018348694,<br>    43.20650005340576<br>  ],<br>  \"params\": {<br>    \"mutation_method\": \"mutExponential\",<br>    \"mutation_prob\": 0.8031140531794784,<br>    \"mutation_by_deletion_rate\": 0.18858137879314466,<br>    \"mutation_rate_start\": 0.38649183171160834,<br>    \"mutation_rate_end\": 0.6138144964278778,<br>    \"mutation_rate_degree\": 3,<br>    \"crossover_method\": \"cxUniform\",<br>    \"crossover_rate\": 0.610165410246993,<br>    \"selection_method\": \"selBest\",<br>    \"elitism_rate\": 0.13150369733497116,<br>    \"survival_rate\": 0.7153902322414301<br>  }<br>}",
          "{<br>  \"number\": 107,<br>  \"values\": [<br>    0.6369455456733704,<br>    0.5981921553611755,<br>    32.59736704826355<br>  ],<br>  \"params\": {<br>    \"mutation_method\": \"mutEntropy\",<br>    \"mutation_prob\": 0.8572683746170647,<br>    \"mutation_by_deletion_rate\": 0.7571038560841808,<br>    \"mutation_rate_start\": 0.35386205090924194,<br>    \"mutation_rate_end\": 0.7093513740384892,<br>    \"crossover_method\": \"cxKPoint\",<br>    \"crossover_rate\": 0.041351733356288826,<br>    \"crossover_points\": 2,<br>    \"selection_method\": \"selTournament\",<br>    \"tournsize\": 9,<br>    \"elitism_rate\": 0.9438063970130024,<br>    \"survival_rate\": 0.8998315951600387<br>  }<br>}",
          "{<br>  \"number\": 108,<br>  \"values\": [<br>    0.7315438985824585,<br>    0.6882436513900757,<br>    41.69943022727966<br>  ],<br>  \"params\": {<br>    \"mutation_method\": \"mutLinear\",<br>    \"mutation_prob\": 0.8669750524720954,<br>    \"mutation_by_deletion_rate\": 0.2657981976228263,<br>    \"mutation_rate_start\": 0.32944973543780626,<br>    \"mutation_rate_end\": 0.9760209441022105,<br>    \"crossover_method\": \"cxTwoPoint\",<br>    \"crossover_rate\": 0.4216505434107449,<br>    \"crossover_points\": 1,<br>    \"selection_method\": \"selBoltzmann\",<br>    \"boltzmann_temperature\": 0.2824652750752841,<br>    \"elitism_rate\": 0.3718202298559007,<br>    \"survival_rate\": 0.6101143303607122<br>  }<br>}",
          "{<br>  \"number\": 109,<br>  \"values\": [<br>    0.756585955619812,<br>    0.7159015774726868,<br>    42.112648248672485<br>  ],<br>  \"params\": {<br>    \"mutation_method\": \"mutLinear\",<br>    \"mutation_prob\": 0.7130158981754633,<br>    \"mutation_by_deletion_rate\": 0.4053036119673816,<br>    \"mutation_rate_start\": 0.18506415010823885,<br>    \"mutation_rate_end\": 0.3472406464568748,<br>    \"crossover_method\": \"cxKPoint\",<br>    \"crossover_rate\": 0.45244837573263114,<br>    \"crossover_points\": 3,<br>    \"selection_method\": \"selTournament\",<br>    \"tournsize\": 4,<br>    \"elitism_rate\": 0.24642655676831504,<br>    \"survival_rate\": 0.6949970395461127<br>  }<br>}",
          "{<br>  \"number\": 110,<br>  \"values\": [<br>    0.6542184948921204,<br>    0.5903032302856446,<br>    33.956154346466064<br>  ],<br>  \"params\": {<br>    \"mutation_method\": \"mutEntropy\",<br>    \"mutation_prob\": 0.11998231429046391,<br>    \"mutation_by_deletion_rate\": 0.222960206857433,<br>    \"mutation_rate_start\": 0.11772898731115666,<br>    \"mutation_rate_end\": 0.2277978418118386,<br>    \"crossover_method\": \"cxOnePoint\",<br>    \"crossover_rate\": 0.08615705882910166,<br>    \"selection_method\": \"selRandom\",<br>    \"elitism_rate\": 0.5778954933440863,<br>    \"survival_rate\": 0.5784049893651452<br>  }<br>}",
          "{<br>  \"number\": 111,<br>  \"values\": [<br>    0.7136111259460449,<br>    0.6678914904594422,<br>    34.9494891166687<br>  ],<br>  \"params\": {<br>    \"mutation_method\": \"mutEntropy\",<br>    \"mutation_prob\": 0.17823878705723206,<br>    \"mutation_by_deletion_rate\": 0.35725878063523836,<br>    \"mutation_rate_start\": 0.05758540887916552,<br>    \"mutation_rate_end\": 0.3947797930750964,<br>    \"crossover_method\": \"cxTwoPoint\",<br>    \"crossover_rate\": 0.5647570906401853,<br>    \"crossover_points\": 1,<br>    \"selection_method\": \"selBest\",<br>    \"elitism_rate\": 0.325512211402874,<br>    \"survival_rate\": 0.31436486158174165<br>  }<br>}",
          "{<br>  \"number\": 113,<br>  \"values\": [<br>    0.6984911561012268,<br>    0.652990746498108,<br>    36.20120644569397<br>  ],<br>  \"params\": {<br>    \"mutation_method\": \"mutEntropy\",<br>    \"mutation_prob\": 0.27294513467009773,<br>    \"mutation_by_deletion_rate\": 0.3743097393293247,<br>    \"mutation_rate_start\": 0.8715927831171458,<br>    \"mutation_rate_end\": 0.48678975969301536,<br>    \"crossover_method\": \"cxTwoPoint\",<br>    \"crossover_rate\": 0.6091417174187844,<br>    \"crossover_points\": 1,<br>    \"selection_method\": \"selBest\",<br>    \"elitism_rate\": 0.2901401735454716,<br>    \"survival_rate\": 0.3670624054793489<br>  }<br>}",
          "{<br>  \"number\": 114,<br>  \"values\": [<br>    0.7696993947029114,<br>    0.7388336062431335,<br>    36.312854051589966<br>  ],<br>  \"params\": {<br>    \"mutation_method\": \"mutEntropy\",<br>    \"mutation_prob\": 0.0518498753981389,<br>    \"mutation_by_deletion_rate\": 0.3188726444767171,<br>    \"mutation_rate_start\": 0.7864937015687994,<br>    \"mutation_rate_end\": 0.8527433047469796,<br>    \"crossover_method\": \"cxTwoPoint\",<br>    \"crossover_rate\": 0.9422156900784424,<br>    \"crossover_points\": 1,<br>    \"selection_method\": \"selBest\",<br>    \"elitism_rate\": 0.2164244256066487,<br>    \"survival_rate\": 0.4050680579187425<br>  }<br>}",
          "{<br>  \"number\": 115,<br>  \"values\": [<br>    0.6543329358100891,<br>    0.6410045027732849,<br>    37.71540379524231<br>  ],<br>  \"params\": {<br>    \"mutation_method\": \"mutEntropy\",<br>    \"mutation_prob\": 0.41327492574941377,<br>    \"mutation_by_deletion_rate\": 0.6038418622653958,<br>    \"mutation_rate_start\": 0.9642068291524175,<br>    \"mutation_rate_end\": 0.44968533690660595,<br>    \"crossover_method\": \"cxTwoPoint\",<br>    \"crossover_rate\": 0.5471771049498654,<br>    \"crossover_points\": 1,<br>    \"selection_method\": \"selBest\",<br>    \"elitism_rate\": 0.2704574908931326,<br>    \"survival_rate\": 0.4707546352956366<br>  }<br>}",
          "{<br>  \"number\": 116,<br>  \"values\": [<br>    0.6556683778762817,<br>    0.6057892799377441,<br>    36.332345724105835<br>  ],<br>  \"params\": {<br>    \"mutation_method\": \"mutEntropy\",<br>    \"mutation_prob\": 0.19989850996987743,<br>    \"mutation_by_deletion_rate\": 0.3234843695566377,<br>    \"mutation_rate_start\": 0.6421875900281695,<br>    \"mutation_rate_end\": 0.5333761020764629,<br>    \"crossover_method\": \"cxTwoPoint\",<br>    \"crossover_rate\": 0.6324350352936583,<br>    \"crossover_points\": 1,<br>    \"selection_method\": \"selBest\",<br>    \"elitism_rate\": 0.301894416045031,<br>    \"survival_rate\": 0.2020728689229162<br>  }<br>}",
          "{<br>  \"number\": 117,<br>  \"values\": [<br>    0.5222430229187012,<br>    0.5049369931221008,<br>    23.755059003829956<br>  ],<br>  \"params\": {<br>    \"mutation_method\": \"mutEntropy\",<br>    \"mutation_prob\": 0.015512541222402976,<br>    \"mutation_by_deletion_rate\": 0.5483009467122767,<br>    \"mutation_rate_start\": 0.7410956124854358,<br>    \"mutation_rate_end\": 0.8246772002396349,<br>    \"crossover_method\": \"cxTwoPoint\",<br>    \"crossover_rate\": 0.6052242424918004,<br>    \"crossover_points\": 1,<br>    \"selection_method\": \"selBest\",<br>    \"elitism_rate\": 0.3852486156339893,<br>    \"survival_rate\": 0.36129986375694756<br>  }<br>}",
          "{<br>  \"number\": 118,<br>  \"values\": [<br>    0.5877988338470459,<br>    0.561488676071167,<br>    36.09942364692688<br>  ],<br>  \"params\": {<br>    \"mutation_method\": \"mutEntropy\",<br>    \"mutation_prob\": 0.09691348605184996,<br>    \"mutation_by_deletion_rate\": 0.8395655104535621,<br>    \"mutation_rate_start\": 0.6921192822309379,<br>    \"mutation_rate_end\": 0.596010530059522,<br>    \"crossover_method\": \"cxTwoPoint\",<br>    \"crossover_rate\": 0.6765110377169969,<br>    \"crossover_points\": 3,<br>    \"selection_method\": \"selBest\",<br>    \"elitism_rate\": 0.34878324915178704,<br>    \"survival_rate\": 0.25465379380445524<br>  }<br>}",
          "{<br>  \"number\": 119,<br>  \"values\": [<br>    0.7215800881385803,<br>    0.6749534368515014,<br>    35.785887002944946<br>  ],<br>  \"params\": {<br>    \"mutation_method\": \"mutEntropy\",<br>    \"mutation_prob\": 0.3790935508471146,<br>    \"mutation_by_deletion_rate\": 0.44896982070829083,<br>    \"mutation_rate_start\": 0.6062500233665294,<br>    \"mutation_rate_end\": 0.33421716216504305,<br>    \"crossover_method\": \"cxTwoPoint\",<br>    \"crossover_rate\": 0.5880940989544913,<br>    \"crossover_points\": 1,<br>    \"selection_method\": \"selBest\",<br>    \"elitism_rate\": 0.31270027678676315,<br>    \"survival_rate\": 0.4310899051351642<br>  }<br>}",
          "{<br>  \"number\": 120,<br>  \"values\": [<br>    0.5349524021148682,<br>    0.5037762641906738,<br>    19.434324979782104<br>  ],<br>  \"params\": {<br>    \"mutation_method\": \"mutEntropy\",<br>    \"mutation_prob\": 0.06169555595476428,<br>    \"mutation_by_deletion_rate\": 0.8793301770358487,<br>    \"mutation_rate_start\": 0.9193919859695807,<br>    \"mutation_rate_end\": 0.7413195129949548,<br>    \"crossover_method\": \"cxTwoPoint\",<br>    \"crossover_rate\": 0.6557925573241767,<br>    \"crossover_points\": 1,<br>    \"selection_method\": \"selStochasticUniversalSampling\",<br>    \"elitism_rate\": 0.8683538642261321,<br>    \"survival_rate\": 0.4954293104858473<br>  }<br>}",
          "{<br>  \"number\": 121,<br>  \"values\": [<br>    0.7057828307151794,<br>    0.6688182353973389,<br>    34.55379509925842<br>  ],<br>  \"params\": {<br>    \"mutation_method\": \"mutExponential\",<br>    \"mutation_prob\": 0.13988919271746558,<br>    \"mutation_by_deletion_rate\": 0.8022338920023413,<br>    \"mutation_rate_start\": 0.6679435113506993,<br>    \"mutation_rate_end\": 0.41232415677735273,<br>    \"mutation_rate_degree\": 2,<br>    \"crossover_method\": \"cxUniform\",<br>    \"crossover_rate\": 0.591354460245179,<br>    \"selection_method\": \"selBest\",<br>    \"elitism_rate\": 0.28073634533365555,<br>    \"survival_rate\": 0.3819218443965414<br>  }<br>}",
          "{<br>  \"number\": 122,<br>  \"values\": [<br>    0.6866185069084167,<br>    0.6548490047454834,<br>    34.506486654281616<br>  ],<br>  \"params\": {<br>    \"mutation_method\": \"mutEntropy\",<br>    \"mutation_prob\": 0.09244938808610204,<br>    \"mutation_by_deletion_rate\": 0.6335696502575203,<br>    \"mutation_rate_start\": 0.5111881531509794,<br>    \"mutation_rate_end\": 0.673898224734822,<br>    \"crossover_method\": \"cxTwoPoint\",<br>    \"crossover_rate\": 0.31169064131625857,<br>    \"crossover_points\": 4,<br>    \"selection_method\": \"selNormRoulette\",<br>    \"elitism_rate\": 0.25768956886094396,<br>    \"survival_rate\": 0.3122636987084826<br>  }<br>}",
          "{<br>  \"number\": 123,<br>  \"values\": [<br>    0.7109161615371704,<br>    0.6502297878265381,<br>    24.151944637298584<br>  ],<br>  \"params\": {<br>    \"mutation_method\": \"mutConstant\",<br>    \"mutation_prob\": 0.019709881136604823,<br>    \"mutation_by_deletion_rate\": 0.3453637959188174,<br>    \"mutation_rate\": 0.0894994242587458,<br>    \"crossover_method\": \"cxTwoPoint\",<br>    \"crossover_rate\": 0.5317120976921732,<br>    \"crossover_points\": 1,<br>    \"selection_method\": \"selBest\",<br>    \"elitism_rate\": 0.32775456562913746,<br>    \"survival_rate\": 0.16070758508583208<br>  }<br>}",
          "{<br>  \"number\": 124,<br>  \"values\": [<br>    0.6438296437263489,<br>    0.62487233877182,<br>    35.252275705337524<br>  ],<br>  \"params\": {<br>    \"mutation_method\": \"mutEntropy\",<br>    \"mutation_prob\": 0.4861434689715387,<br>    \"mutation_by_deletion_rate\": 0.2944795686583314,<br>    \"mutation_rate_start\": 0.8056155892743482,<br>    \"mutation_rate_end\": 0.2921305265692319,<br>    \"crossover_method\": \"cxTwoPoint\",<br>    \"crossover_rate\": 0.5686653093101178,<br>    \"crossover_points\": 1,<br>    \"selection_method\": \"selRoulette\",<br>    \"elitism_rate\": 0.393608370583266,<br>    \"survival_rate\": 0.21278562452065275<br>  }<br>}",
          "{<br>  \"number\": 125,<br>  \"values\": [<br>    0.7634557485580444,<br>    0.7424275636672973,<br>    38.023603200912476<br>  ],<br>  \"params\": {<br>    \"mutation_method\": \"mutEntropy\",<br>    \"mutation_prob\": 0.28756428432228887,<br>    \"mutation_by_deletion_rate\": 0.6795515969929506,<br>    \"mutation_rate_start\": 0.4282122424100592,<br>    \"mutation_rate_end\": 0.4425698833098364,<br>    \"crossover_method\": \"cxOnePoint\",<br>    \"crossover_rate\": 0.628756240601161,<br>    \"selection_method\": \"selTournamentWithoutReplacement\",<br>    \"tournsize\": 2,<br>    \"elitism_rate\": 0.24425863653487123,<br>    \"survival_rate\": 0.4218701479576042<br>  }<br>}",
          "{<br>  \"number\": 126,<br>  \"values\": [<br>    0.6724451780319214,<br>    0.64987211227417,<br>    32.81380915641785<br>  ],<br>  \"params\": {<br>    \"mutation_method\": \"mutExponential\",<br>    \"mutation_prob\": 0.33294151642486836,<br>    \"mutation_by_deletion_rate\": 0.7348060524501845,<br>    \"mutation_rate_start\": 0.47910524935648574,<br>    \"mutation_rate_end\": 0.2476412179847498,<br>    \"mutation_rate_degree\": 1,<br>    \"crossover_method\": \"cxUniform\",<br>    \"crossover_rate\": 0.7114892636836541,<br>    \"selection_method\": \"selBest\",<br>    \"elitism_rate\": 0.760164912016507,<br>    \"survival_rate\": 0.35134807854974537<br>  }<br>}",
          "{<br>  \"number\": 127,<br>  \"values\": [<br>    0.6938449740409851,<br>    0.6315998435020447,<br>    35.04684233665466<br>  ],<br>  \"params\": {<br>    \"mutation_method\": \"mutEntropy\",<br>    \"mutation_prob\": 0.4417352249259374,<br>    \"mutation_by_deletion_rate\": 0.3076011354623894,<br>    \"mutation_rate_start\": 0.2511657962192468,<br>    \"mutation_rate_end\": 0.626196811684526,<br>    \"crossover_method\": \"cxTwoPoint\",<br>    \"crossover_rate\": 0.6560563560400583,<br>    \"crossover_points\": 1,<br>    \"selection_method\": \"selBoltzmann\",<br>    \"boltzmann_temperature\": 0.709913729989905,<br>    \"elitism_rate\": 0.4308869318658722,<br>    \"survival_rate\": 0.2872404903964319<br>  }<br>}",
          "{<br>  \"number\": 128,<br>  \"values\": [<br>    0.8796648979187012,<br>    0.8144384860992432,<br>    36.02121186256409<br>  ],<br>  \"params\": {<br>    \"mutation_method\": \"mutConstant\",<br>    \"mutation_prob\": 0.5282985338612401,<br>    \"mutation_by_deletion_rate\": 0.2579788691198402,<br>    \"mutation_rate\": 0.17694143093085246,<br>    \"crossover_method\": \"cxTwoPoint\",<br>    \"crossover_rate\": 0.3932972037599768,<br>    \"crossover_points\": 3,<br>    \"selection_method\": \"selBest\",<br>    \"elitism_rate\": 0.3700626731120838,<br>    \"survival_rate\": 0.45009792965760775<br>  }<br>}",
          "{<br>  \"number\": 130,<br>  \"values\": [<br>    0.7956542372703552,<br>    0.7794510364532471,<br>    39.60966110229492<br>  ],<br>  \"params\": {<br>    \"mutation_method\": \"mutEntropy\",<br>    \"mutation_prob\": 0.6224030737857864,<br>    \"mutation_by_deletion_rate\": 0.37998338453614283,<br>    \"mutation_rate_start\": 0.2052256704660064,<br>    \"mutation_rate_end\": 0.1583052309312878,<br>    \"crossover_method\": \"cxTwoPoint\",<br>    \"crossover_rate\": 0.6413142459465064,<br>    \"crossover_points\": 1,<br>    \"selection_method\": \"selRandom\",<br>    \"elitism_rate\": 0.20939093431563288,<br>    \"survival_rate\": 0.3422791145270577<br>  }<br>}",
          "{<br>  \"number\": 131,<br>  \"values\": [<br>    0.5779446363449097,<br>    0.5557971954345703,<br>    34.45599722862244<br>  ],<br>  \"params\": {<br>    \"mutation_method\": \"mutEntropy\",<br>    \"mutation_prob\": 0.2505598975923723,<br>    \"mutation_by_deletion_rate\": 0.28449083101601547,<br>    \"mutation_rate_start\": 0.02267224942908641,<br>    \"mutation_rate_end\": 0.9427420457965663,<br>    \"crossover_method\": \"cxOnePoint\",<br>    \"crossover_rate\": 0.48081931184642,<br>    \"selection_method\": \"selStochasticUniversalSampling\",<br>    \"elitism_rate\": 0.41273708585903135,<br>    \"survival_rate\": 0.39571637778116164<br>  }<br>}",
          "{<br>  \"number\": 132,<br>  \"values\": [<br>    0.765335202217102,<br>    0.7339499354362488,<br>    33.396170139312744<br>  ],<br>  \"params\": {<br>    \"mutation_method\": \"mutExponential\",<br>    \"mutation_prob\": 0.38682567522149924,<br>    \"mutation_by_deletion_rate\": 0.2386633023649165,<br>    \"mutation_rate_start\": 0.1090402399844069,<br>    \"mutation_rate_end\": 0.5659523224924172,<br>    \"mutation_rate_degree\": 4,<br>    \"crossover_method\": \"cxTwoPoint\",<br>    \"crossover_rate\": 0.5103057177784472,<br>    \"crossover_points\": 1,<br>    \"selection_method\": \"selBest\",<br>    \"elitism_rate\": 0.5117841783270249,<br>    \"survival_rate\": 0.31233372801773<br>  }<br>}",
          "{<br>  \"number\": 133,<br>  \"values\": [<br>    0.816871166229248,<br>    0.7418452739715576,<br>    38.95106267929077<br>  ],<br>  \"params\": {<br>    \"mutation_method\": \"mutConstant\",<br>    \"mutation_prob\": 0.7625701373846315,<br>    \"mutation_by_deletion_rate\": 0.3540651059093219,<br>    \"mutation_rate\": 0.3943627353169111,<br>    \"crossover_method\": \"cxUniform\",<br>    \"crossover_rate\": 0.8562030288742211,<br>    \"selection_method\": \"selBest\",<br>    \"elitism_rate\": 0.3084762183650128,<br>    \"survival_rate\": 0.3811213184846874<br>  }<br>}",
          "{<br>  \"number\": 134,<br>  \"values\": [<br>    0.7540360689163208,<br>    0.7244474649429321,<br>    39.90438747406006<br>  ],<br>  \"params\": {<br>    \"mutation_method\": \"mutEntropy\",<br>    \"mutation_prob\": 0.6735360770203674,<br>    \"mutation_by_deletion_rate\": 0.32955214974116054,<br>    \"mutation_rate_start\": 0.7566129995459667,<br>    \"mutation_rate_end\": 0.8817479490739107,<br>    \"crossover_method\": \"cxTwoPoint\",<br>    \"crossover_rate\": 0.5670483473961972,<br>    \"crossover_points\": 4,<br>    \"selection_method\": \"selNormRoulette\",<br>    \"elitism_rate\": 0.2889396819818479,<br>    \"survival_rate\": 0.36536246082303303<br>  }<br>}",
          "{<br>  \"number\": 135,<br>  \"values\": [<br>    0.7631176710128784,<br>    0.7227425694465637,<br>    43.02949523925781<br>  ],<br>  \"params\": {<br>    \"mutation_method\": \"mutEntropy\",<br>    \"mutation_prob\": 0.47136593989916026,<br>    \"mutation_by_deletion_rate\": 0.9328007097846762,<br>    \"mutation_rate_start\": 0.1523232148807848,<br>    \"mutation_rate_end\": 0.3595428449087439,<br>    \"crossover_method\": \"cxTwoPoint\",<br>    \"crossover_rate\": 0.5938466499604698,<br>    \"crossover_points\": 1,<br>    \"selection_method\": \"selRoulette\",<br>    \"elitism_rate\": 0.03129643674678706,<br>    \"survival_rate\": 0.32357072331394243<br>  }<br>}",
          "{<br>  \"number\": 136,<br>  \"values\": [<br>    0.711453378200531,<br>    0.6610419511795044,<br>    39.387731075286865<br>  ],<br>  \"params\": {<br>    \"mutation_method\": \"mutEntropy\",<br>    \"mutation_prob\": 0.7830279842144372,<br>    \"mutation_by_deletion_rate\": 0.41514632459128836,<br>    \"mutation_rate_start\": 0.8960045453345289,<br>    \"mutation_rate_end\": 0.06807106645087281,<br>    \"crossover_method\": \"cxOnePoint\",<br>    \"crossover_rate\": 0.6174557201252283,<br>    \"selection_method\": \"selRandom\",<br>    \"elitism_rate\": 0.3394729908584598,<br>    \"survival_rate\": 0.4149837267386044<br>  }<br>}",
          "{<br>  \"number\": 137,<br>  \"values\": [<br>    0.6440722346305847,<br>    0.5862468719482422,<br>    13.49260663986206<br>  ],<br>  \"params\": {<br>    \"mutation_method\": \"mutConstant\",<br>    \"mutation_prob\": 0.002207642982838154,<br>    \"mutation_by_deletion_rate\": 0.26264634612505683,<br>    \"mutation_rate\": 0.9949893089998323,<br>    \"crossover_method\": \"cxTwoPoint\",<br>    \"crossover_rate\": 0.27779353085259173,<br>    \"crossover_points\": 1,<br>    \"selection_method\": \"selTournamentWithoutReplacement\",<br>    \"tournsize\": 6,<br>    \"elitism_rate\": 0.06584011300459094,<br>    \"survival_rate\": 0.6679182782258098<br>  }<br>}",
          "{<br>  \"number\": 138,<br>  \"values\": [<br>    0.7291814088821411,<br>    0.7046485543251038,<br>    34.096728801727295<br>  ],<br>  \"params\": {<br>    \"mutation_method\": \"mutExponential\",<br>    \"mutation_prob\": 0.16381464512585553,<br>    \"mutation_by_deletion_rate\": 0.43593815237442624,<br>    \"mutation_rate_start\": 0.38215886727753623,<br>    \"mutation_rate_end\": 0.25594577409639924,<br>    \"mutation_rate_degree\": 2,<br>    \"crossover_method\": \"cxUniform\",<br>    \"crossover_rate\": 0.020993552964522627,<br>    \"selection_method\": \"selBest\",<br>    \"elitism_rate\": 0.23361459893012612,<br>    \"survival_rate\": 0.342654302151983<br>  }<br>}",
          "{<br>  \"number\": 139,<br>  \"values\": [<br>    0.8653249740600586,<br>    0.823905062675476,<br>    40.266300678253174<br>  ],<br>  \"params\": {<br>    \"mutation_method\": \"mutEntropy\",<br>    \"mutation_prob\": 0.35845724750208535,<br>    \"mutation_by_deletion_rate\": 0.3959411743638107,<br>    \"mutation_rate_start\": 0.40419225255132896,<br>    \"mutation_rate_end\": 0.10348892649546229,<br>    \"crossover_method\": \"cxTwoPoint\",<br>    \"crossover_rate\": 0.7392457619972624,<br>    \"crossover_points\": 1,<br>    \"selection_method\": \"selBoltzmann\",<br>    \"boltzmann_temperature\": 0.7439809347769543,<br>    \"elitism_rate\": 0.18920805904741733,<br>    \"survival_rate\": 0.6356673795948393<br>  }<br>}",
          "{<br>  \"number\": 140,<br>  \"values\": [<br>    0.7357660531997681,<br>    0.7155866622924805,<br>    31.160573482513428<br>  ],<br>  \"params\": {<br>    \"mutation_method\": \"mutConstant\",<br>    \"mutation_prob\": 0.5615751637067808,<br>    \"mutation_by_deletion_rate\": 0.2573237209154278,<br>    \"mutation_rate\": 0.17075532415772143,<br>    \"crossover_method\": \"cxTwoPoint\",<br>    \"crossover_rate\": 0.8950190615062332,<br>    \"crossover_points\": 3,<br>    \"selection_method\": \"selBest\",<br>    \"elitism_rate\": 0.8342907776971983,<br>    \"survival_rate\": 0.0841367375870371<br>  }<br>}",
          "{<br>  \"number\": 141,<br>  \"values\": [<br>    0.7070106863975525,<br>    0.6598525285720825,<br>    39.32696986198425<br>  ],<br>  \"params\": {<br>    \"mutation_method\": \"mutLinear\",<br>    \"mutation_prob\": 0.8232100446386105,<br>    \"mutation_by_deletion_rate\": 0.3058179399984761,<br>    \"mutation_rate_start\": 0.3196498171565421,<br>    \"mutation_rate_end\": 0.7151274261848399,<br>    \"crossover_method\": \"cxKPoint\",<br>    \"crossover_rate\": 0.5541681000848824,<br>    \"crossover_points\": 1,<br>    \"selection_method\": \"selBest\",<br>    \"elitism_rate\": 0.3533066711013997,<br>    \"survival_rate\": 0.4025729522504939<br>  }<br>}",
          "{<br>  \"number\": 142,<br>  \"values\": [<br>    0.6839749813079834,<br>    0.6492917776107788,<br>    38.752175092697144<br>  ],<br>  \"params\": {<br>    \"mutation_method\": \"mutEntropy\",<br>    \"mutation_prob\": 0.5276872765829916,<br>    \"mutation_by_deletion_rate\": 0.2116650889324222,<br>    \"mutation_rate_start\": 0.2152602107913405,<br>    \"mutation_rate_end\": 0.5890111151368655,<br>    \"crossover_method\": \"cxTwoPoint\",<br>    \"crossover_rate\": 0.001856810863361493,<br>    \"crossover_points\": 1,<br>    \"selection_method\": \"selBest\",<br>    \"elitism_rate\": 0.2757298574411847,<br>    \"survival_rate\": 0.4585120181727277<br>  }<br>}",
          "{<br>  \"number\": 143,<br>  \"values\": [<br>    0.6445983648300171,<br>    0.6141116738319397,<br>    30.072044610977173<br>  ],<br>  \"params\": {<br>    \"mutation_method\": \"mutLinear\",<br>    \"mutation_prob\": 0.21032784983043776,<br>    \"mutation_by_deletion_rate\": 0.27874223866854614,<br>    \"mutation_rate_start\": 0.26351858892858354,<br>    \"mutation_rate_end\": 0.9980682167259964,<br>    \"crossover_method\": \"cxKPoint\",<br>    \"crossover_rate\": 0.5974932114090805,<br>    \"crossover_points\": 4,<br>    \"selection_method\": \"selTournament\",<br>    \"tournsize\": 5,<br>    \"elitism_rate\": 0.6047193133955744,<br>    \"survival_rate\": 0.79793569372628<br>  }<br>}",
          "{<br>  \"number\": 144,<br>  \"values\": [<br>    0.7417641878128052,<br>    0.7099527955055237,<br>    30.575434684753418<br>  ],<br>  \"params\": {<br>    \"mutation_method\": \"mutEntropy\",<br>    \"mutation_prob\": 0.11799059405986978,<br>    \"mutation_by_deletion_rate\": 0.12502345084822397,<br>    \"mutation_rate_start\": 0.972182725861271,<br>    \"mutation_rate_end\": 0.2122732291945919,<br>    \"crossover_method\": \"cxTwoPoint\",<br>    \"crossover_rate\": 0.3821772289786596,<br>    \"crossover_points\": 2,<br>    \"selection_method\": \"selStochasticUniversalSampling\",<br>    \"elitism_rate\": 0.5547214384425265,<br>    \"survival_rate\": 0.7559260478395573<br>  }<br>}",
          "{<br>  \"number\": 145,<br>  \"values\": [<br>    0.6982384324073792,<br>    0.6722455501556397,<br>    30.93048119544983<br>  ],<br>  \"params\": {<br>    \"mutation_method\": \"mutLinear\",<br>    \"mutation_prob\": 0.23763887769608516,<br>    \"mutation_by_deletion_rate\": 0.2534919432918841,<br>    \"mutation_rate_start\": 0.3612161334603145,<br>    \"mutation_rate_end\": 0.026694199000831476,<br>    \"crossover_method\": \"cxUniform\",<br>    \"crossover_rate\": 0.05458371700641238,<br>    \"selection_method\": \"selNormRoulette\",<br>    \"elitism_rate\": 0.3739202992585637,<br>    \"survival_rate\": 0.37866540117244724<br>  }<br>}",
          "{<br>  \"number\": 146,<br>  \"values\": [<br>    0.6847978234291077,<br>    0.6534147381782531,<br>    30.20831799507141<br>  ],<br>  \"params\": {<br>    \"mutation_method\": \"mutEntropy\",<br>    \"mutation_prob\": 0.4246824336267122,<br>    \"mutation_by_deletion_rate\": 0.4819794067112973,<br>    \"mutation_rate_start\": 0.8224378051075023,<br>    \"mutation_rate_end\": 0.3090934006351177,<br>    \"crossover_method\": \"cxOnePoint\",<br>    \"crossover_rate\": 0.7670755433737866,<br>    \"selection_method\": \"selBest\",<br>    \"elitism_rate\": 0.6575661550708733,<br>    \"survival_rate\": 0.44912023016724617<br>  }<br>}",
          "{<br>  \"number\": 147,<br>  \"values\": [<br>    0.6485612392425537,<br>    0.6102165699005127,<br>    36.02253437042236<br>  ],<br>  \"params\": {<br>    \"mutation_method\": \"mutConstant\",<br>    \"mutation_prob\": 0.7479002306911859,<br>    \"mutation_by_deletion_rate\": 0.0743533755896679,<br>    \"mutation_rate\": 0.610669188175789,<br>    \"crossover_method\": \"cxKPoint\",<br>    \"crossover_rate\": 0.6777012615087687,<br>    \"crossover_points\": 1,<br>    \"selection_method\": \"selTournament\",<br>    \"tournsize\": 1,<br>    \"elitism_rate\": 0.31577094345013784,<br>    \"survival_rate\": 0.3045745071209769<br>  }<br>}",
          "{<br>  \"number\": 148,<br>  \"values\": [<br>    0.8165640830993652,<br>    0.7451800346374512,<br>    33.340341091156006<br>  ],<br>  \"params\": {<br>    \"mutation_method\": \"mutLinear\",<br>    \"mutation_prob\": 0.2978905430834674,<br>    \"mutation_by_deletion_rate\": 0.5636849778815336,<br>    \"mutation_rate_start\": 0.07782755591464355,<br>    \"mutation_rate_end\": 0.5439562466821926,<br>    \"crossover_method\": \"cxTwoPoint\",<br>    \"crossover_rate\": 0.9637683895987325,<br>    \"crossover_points\": 1,<br>    \"selection_method\": \"selBest\",<br>    \"elitism_rate\": 0.0989782652269825,<br>    \"survival_rate\": 0.018547170155778336<br>  }<br>}",
          "{<br>  \"number\": 149,<br>  \"values\": [<br>    0.6207950115203857,<br>    0.5810410261154175,<br>    41.98984909057617<br>  ],<br>  \"params\": {<br>    \"mutation_method\": \"mutExponential\",<br>    \"mutation_prob\": 0.8433162942919928,<br>    \"mutation_by_deletion_rate\": 0.23448695417949403,<br>    \"mutation_rate_start\": 0.5562333517088485,<br>    \"mutation_rate_end\": 0.12447637228752655,<br>    \"mutation_rate_degree\": 3,<br>    \"crossover_method\": \"cxKPoint\",<br>    \"crossover_rate\": 0.8214782612903037,<br>    \"crossover_points\": 1,<br>    \"selection_method\": \"selRandom\",<br>    \"elitism_rate\": 0.007103482785270808,<br>    \"survival_rate\": 0.36267198246704097<br>  }<br>}",
          "{<br>  \"number\": 150,<br>  \"values\": [<br>    0.617056131362915,<br>    0.5937845826148986,<br>    30.95453405380249<br>  ],<br>  \"params\": {<br>    \"mutation_method\": \"mutEntropy\",<br>    \"mutation_prob\": 0.7120435182127451,<br>    \"mutation_by_deletion_rate\": 0.3380271760203502,<br>    \"mutation_rate_start\": 0.2890219857486492,<br>    \"mutation_rate_end\": 0.7839035905369973,<br>    \"crossover_method\": \"cxTwoPoint\",<br>    \"crossover_rate\": 0.5747590668313687,<br>    \"crossover_points\": 1,<br>    \"selection_method\": \"selTournament\",<br>    \"tournsize\": 7,<br>    \"elitism_rate\": 0.6936278079937997,<br>    \"survival_rate\": 0.4181852142467691<br>  }<br>}",
          "{<br>  \"number\": 151,<br>  \"values\": [<br>    0.7729278802871704,<br>    0.7338194012641907,<br>    30.188660144805908<br>  ],<br>  \"params\": {<br>    \"mutation_method\": \"mutLinear\",<br>    \"mutation_prob\": 0.8018434144571511,<br>    \"mutation_by_deletion_rate\": 0.31716153324703167,<br>    \"mutation_rate_start\": 0.45312640972306945,<br>    \"mutation_rate_end\": 0.09752591711846463,<br>    \"crossover_method\": \"cxKPoint\",<br>    \"crossover_rate\": 0.6236582958192984,<br>    \"crossover_points\": 4,<br>    \"selection_method\": \"selTournamentWithoutReplacement\",<br>    \"tournsize\": 9,<br>    \"elitism_rate\": 0.743788527373854,<br>    \"survival_rate\": 0.3397251068894001<br>  }<br>}",
          "{<br>  \"number\": 152,<br>  \"values\": [<br>    0.6069772839546204,<br>    0.5907711625099182,<br>    29.877091646194458<br>  ],<br>  \"params\": {<br>    \"mutation_method\": \"mutLinear\",<br>    \"mutation_prob\": 0.9408072916710998,<br>    \"mutation_by_deletion_rate\": 0.29949767318891435,<br>    \"mutation_rate_start\": 0.4284015168637069,<br>    \"mutation_rate_end\": 0.48351576942866825,<br>    \"crossover_method\": \"cxTwoPoint\",<br>    \"crossover_rate\": 0.6244507679170216,<br>    \"crossover_points\": 4,<br>    \"selection_method\": \"selRoulette\",<br>    \"elitism_rate\": 0.7845807881289151,<br>    \"survival_rate\": 0.3392205159728748<br>  }<br>}",
          "{<br>  \"number\": 153,<br>  \"values\": [<br>    0.586037814617157,<br>    0.547877061367035,<br>    31.366228818893433<br>  ],<br>  \"params\": {<br>    \"mutation_method\": \"mutEntropy\",<br>    \"mutation_prob\": 0.0711481631950246,<br>    \"mutation_by_deletion_rate\": 0.5157908323563921,<br>    \"mutation_rate_start\": 0.3402166497076781,<br>    \"mutation_rate_end\": 0.8183360194494256,<br>    \"crossover_method\": \"cxKPoint\",<br>    \"crossover_rate\": 0.25170723814483514,<br>    \"crossover_points\": 1,<br>    \"selection_method\": \"selBest\",<br>    \"elitism_rate\": 0.2649413883098622,<br>    \"survival_rate\": 0.398798067554298<br>  }<br>}",
          "{<br>  \"number\": 154,<br>  \"values\": [<br>    0.6895948052406311,<br>    0.6617899537086487,<br>    28.3398699760437<br>  ],<br>  \"params\": {<br>    \"mutation_method\": \"mutLinear\",<br>    \"mutation_prob\": 0.7957218578550649,<br>    \"mutation_by_deletion_rate\": 0.32210262754464425,<br>    \"mutation_rate_start\": 0.30968254521072813,<br>    \"mutation_rate_end\": 0.08493524412608532,<br>    \"crossover_method\": \"cxTwoPoint\",<br>    \"crossover_rate\": 0.036087076538090374,<br>    \"crossover_points\": 3,<br>    \"selection_method\": \"selTournament\",<br>    \"tournsize\": 8,<br>    \"elitism_rate\": 0.9470497103608742,<br>    \"survival_rate\": 0.7144301212742136<br>  }<br>}",
          "{<br>  \"number\": 155,<br>  \"values\": [<br>    0.8289503455162048,<br>    0.7788899660110473,<br>    38.59110927581787<br>  ],<br>  \"params\": {<br>    \"mutation_method\": \"mutEntropy\",<br>    \"mutation_prob\": 0.7647560532587628,<br>    \"mutation_by_deletion_rate\": 0.27713972127158376,<br>    \"mutation_rate_start\": 0.1757290111376001,<br>    \"mutation_rate_end\": 0.3785680395597607,<br>    \"crossover_method\": \"cxKPoint\",<br>    \"crossover_rate\": 0.6430795959010545,<br>    \"crossover_points\": 1,<br>    \"selection_method\": \"selTournamentWithoutReplacement\",<br>    \"tournsize\": 9,<br>    \"elitism_rate\": 0.3030178053788573,<br>    \"survival_rate\": 0.3518795638309489<br>  }<br>}",
          "{<br>  \"number\": 156,<br>  \"values\": [<br>    0.6359370350837708,<br>    0.6217008709907532,<br>    40.703792095184326<br>  ],<br>  \"params\": {<br>    \"mutation_method\": \"mutEntropy\",<br>    \"mutation_prob\": 0.6522577498268711,<br>    \"mutation_by_deletion_rate\": 0.363177404008231,<br>    \"mutation_rate_start\": 0.4523810450006997,<br>    \"mutation_rate_end\": 0.6872777228232566,<br>    \"crossover_method\": \"cxUniform\",<br>    \"crossover_rate\": 0.0724377655035392,<br>    \"selection_method\": \"selBest\",<br>    \"elitism_rate\": 0.15245810071763452,<br>    \"survival_rate\": 0.9850131622795408<br>  }<br>}",
          "{<br>  \"number\": 157,<br>  \"values\": [<br>    0.7619964480400085,<br>    0.7333148956298828,<br>    32.64456486701965<br>  ],<br>  \"params\": {<br>    \"mutation_method\": \"mutLinear\",<br>    \"mutation_prob\": 0.19352125832370506,<br>    \"mutation_by_deletion_rate\": 0.18932127855498304,<br>    \"mutation_rate_start\": 0.5198723288046572,<br>    \"mutation_rate_end\": 0.011895886517026527,<br>    \"crossover_method\": \"cxOnePoint\",<br>    \"crossover_rate\": 0.01562522190155421,<br>    \"selection_method\": \"selBoltzmann\",<br>    \"boltzmann_temperature\": 0.2763774965677976,<br>    \"elitism_rate\": 0.3298007308734398,<br>    \"survival_rate\": 0.8827068981154732<br>  }<br>}",
          "{<br>  \"number\": 158,<br>  \"values\": [<br>    0.8562235832214355,<br>    0.8214829444885254,<br>    38.226046323776245<br>  ],<br>  \"params\": {<br>    \"mutation_method\": \"mutConstant\",<br>    \"mutation_prob\": 0.5970602678487748,<br>    \"mutation_by_deletion_rate\": 0.991517383996304,<br>    \"mutation_rate\": 0.15612574256152012,<br>    \"crossover_method\": \"cxTwoPoint\",<br>    \"crossover_rate\": 0.5215611310875284,<br>    \"crossover_points\": 1,<br>    \"selection_method\": \"selTournament\",<br>    \"tournsize\": 10,<br>    \"elitism_rate\": 0.25049456667624564,<br>    \"survival_rate\": 0.8574757639513827<br>  }<br>}",
          "{<br>  \"number\": 159,<br>  \"values\": [<br>    0.6069400906562805,<br>    0.5598477005958558,<br>    30.262810707092285<br>  ],<br>  \"params\": {<br>    \"mutation_method\": \"mutEntropy\",<br>    \"mutation_prob\": 0.03977275114939771,<br>    \"mutation_by_deletion_rate\": 0.15001504507839575,<br>    \"mutation_rate_start\": 0.6517931812528701,<br>    \"mutation_rate_end\": 0.505932408097334,<br>    \"crossover_method\": \"cxKPoint\",<br>    \"crossover_rate\": 0.32645068942967725,<br>    \"crossover_points\": 1,<br>    \"selection_method\": \"selBest\",<br>    \"elitism_rate\": 0.4830574449259673,<br>    \"survival_rate\": 0.6638784471060599<br>  }<br>}",
          "{<br>  \"number\": 160,<br>  \"values\": [<br>    0.6860761642456055,<br>    0.602415406703949,<br>    32.827463150024414<br>  ],<br>  \"params\": {<br>    \"mutation_method\": \"mutExponential\",<br>    \"mutation_prob\": 0.7305228140207604,<br>    \"mutation_by_deletion_rate\": 0.21847475418646742,<br>    \"mutation_rate_start\": 0.7188720022775349,<br>    \"mutation_rate_end\": 0.45154806955825055,<br>    \"mutation_rate_degree\": 1,<br>    \"crossover_method\": \"cxTwoPoint\",<br>    \"crossover_rate\": 0.11177678890833559,<br>    \"crossover_points\": 1,<br>    \"selection_method\": \"selStochasticUniversalSampling\",<br>    \"elitism_rate\": 0.7441939549489334,<br>    \"survival_rate\": 0.27270974380005597<br>  }<br>}",
          "{<br>  \"number\": 161,<br>  \"values\": [<br>    0.7898143529891968,<br>    0.7564774036407471,<br>    39.008209466934204<br>  ],<br>  \"params\": {<br>    \"mutation_method\": \"mutEntropy\",<br>    \"mutation_prob\": 0.6996139817971135,<br>    \"mutation_by_deletion_rate\": 0.29522825584332024,<br>    \"mutation_rate_start\": 0.39378610405384173,<br>    \"mutation_rate_end\": 0.1711137892810969,<br>    \"crossover_method\": \"cxKPoint\",<br>    \"crossover_rate\": 0.5820951968115005,<br>    \"crossover_points\": 2,<br>    \"selection_method\": \"selBest\",<br>    \"elitism_rate\": 0.2887021547633661,<br>    \"survival_rate\": 0.8199748342217539<br>  }<br>}",
          "{<br>  \"number\": 162,<br>  \"values\": [<br>    0.7953899502754211,<br>    0.7436204195022583,<br>    40.211261510849<br>  ],<br>  \"params\": {<br>    \"mutation_method\": \"mutLinear\",<br>    \"mutation_prob\": 0.9995398611041131,<br>    \"mutation_by_deletion_rate\": 0.25065490364212206,<br>    \"mutation_rate_start\": 0.30270650637486707,<br>    \"mutation_rate_end\": 0.271981055656231,<br>    \"crossover_method\": \"cxTwoPoint\",<br>    \"crossover_rate\": 0.6549558638729023,<br>    \"crossover_points\": 4,<br>    \"selection_method\": \"selTournament\",<br>    \"tournsize\": 2,<br>    \"elitism_rate\": 0.34459922875031224,<br>    \"survival_rate\": 0.604802417955166<br>  }<br>}",
          "{<br>  \"number\": 163,<br>  \"values\": [<br>    0.84247887134552,<br>    0.7758145809173584,<br>    40.57652425765991<br>  ],<br>  \"params\": {<br>    \"mutation_method\": \"mutLinear\",<br>    \"mutation_prob\": 0.8801540435404134,<br>    \"mutation_by_deletion_rate\": 0.3198533240190907,<br>    \"mutation_rate_start\": 0.8676484708633276,<br>    \"mutation_rate_end\": 0.04738644396766379,<br>    \"crossover_method\": \"cxTwoPoint\",<br>    \"crossover_rate\": 0.6028279683571957,<br>    \"crossover_points\": 1,<br>    \"selection_method\": \"selBest\",<br>    \"elitism_rate\": 0.26920667532724507,<br>    \"survival_rate\": 0.37305584262755126<br>  }<br>}",
          "{<br>  \"number\": 164,<br>  \"values\": [<br>    0.8064595460891724,<br>    0.7658223867416382,<br>    34.84465003013611<br>  ],<br>  \"params\": {<br>    \"mutation_method\": \"mutEntropy\",<br>    \"mutation_prob\": 0.14571196177894052,<br>    \"mutation_by_deletion_rate\": 0.2674168803016281,<br>    \"mutation_rate_start\": 0.6136103870076322,<br>    \"mutation_rate_end\": 0.13393044199316773,<br>    \"crossover_method\": \"cxOnePoint\",<br>    \"crossover_rate\": 0.5550025017641497,<br>    \"selection_method\": \"selNormRoulette\",<br>    \"elitism_rate\": 0.3599257416304687,<br>    \"survival_rate\": 0.7739225421763071<br>  }<br>}",
          "{<br>  \"number\": 165,<br>  \"values\": [<br>    0.7271966934204102,<br>    0.685290539264679,<br>    34.92019772529602<br>  ],<br>  \"params\": {<br>    \"mutation_method\": \"mutEntropy\",<br>    \"mutation_prob\": 0.31750443458004807,<br>    \"mutation_by_deletion_rate\": 0.11161618149712271,<br>    \"mutation_rate_start\": 0.27418837638148247,<br>    \"mutation_rate_end\": 0.4230185297979557,<br>    \"crossover_method\": \"cxKPoint\",<br>    \"crossover_rate\": 0.003213222237997755,<br>    \"crossover_points\": 1,<br>    \"selection_method\": \"selTournament\",<br>    \"tournsize\": 6,<br>    \"elitism_rate\": 0.4587786361785719,<br>    \"survival_rate\": 0.7366742028049238<br>  }<br>}",
          "{<br>  \"number\": 166,<br>  \"values\": [<br>    0.7868730425834656,<br>    0.748797333240509,<br>    39.25185513496399<br>  ],<br>  \"params\": {<br>    \"mutation_method\": \"mutLinear\",<br>    \"mutation_prob\": 0.8077876991612271,<br>    \"mutation_by_deletion_rate\": 0.04449959419665794,<br>    \"mutation_rate_start\": 0.372703470999778,<br>    \"mutation_rate_end\": 0.6506936570682563,<br>    \"crossover_method\": \"cxUniform\",<br>    \"crossover_rate\": 0.6699740421676927,<br>    \"selection_method\": \"selBest\",<br>    \"elitism_rate\": 0.30178628052628753,<br>    \"survival_rate\": 0.5553512630583948<br>  }<br>}",
          "{<br>  \"number\": 167,<br>  \"values\": [<br>    0.7499423027038574,<br>    0.6582605004310608,<br>    41.72869253158569<br>  ],<br>  \"params\": {<br>    \"mutation_method\": \"mutConstant\",<br>    \"mutation_prob\": 0.7771298875658701,<br>    \"mutation_by_deletion_rate\": 0.6591706480114101,<br>    \"mutation_rate\": 0.8774123004206527,<br>    \"crossover_method\": \"cxTwoPoint\",<br>    \"crossover_rate\": 0.6176806962934296,<br>    \"crossover_points\": 1,<br>    \"selection_method\": \"selRandom\",<br>    \"elitism_rate\": 0.22661546989186931,<br>    \"survival_rate\": 0.6888703769306187<br>  }<br>}",
          "{<br>  \"number\": 168,<br>  \"values\": [<br>    0.5776277780532837,<br>    0.5491045117378235,<br>    34.301621198654175<br>  ],<br>  \"params\": {<br>    \"mutation_method\": \"mutEntropy\",<br>    \"mutation_prob\": 0.10040152167011732,<br>    \"mutation_by_deletion_rate\": 0.3408333750164355,<br>    \"mutation_rate_start\": 0.3376292643962652,<br>    \"mutation_rate_end\": 0.730918162696623,<br>    \"crossover_method\": \"cxKPoint\",<br>    \"crossover_rate\": 0.04718989108830115,<br>    \"crossover_points\": 3,<br>    \"selection_method\": \"selRoulette\",<br>    \"elitism_rate\": 0.3185637975142233,<br>    \"survival_rate\": 0.043238656321809454<br>  }<br>}",
          "{<br>  \"number\": 169,<br>  \"values\": [<br>    0.7278872132301331,<br>    0.6912458419799805,<br>    37.49318480491638<br>  ],<br>  \"params\": {<br>    \"mutation_method\": \"mutExponential\",<br>    \"mutation_prob\": 0.9153869647933386,<br>    \"mutation_by_deletion_rate\": 0.7907884433115285,<br>    \"mutation_rate_start\": 0.6941795586376129,<br>    \"mutation_rate_end\": 0.8595572368793614,<br>    \"mutation_rate_degree\": 4,<br>    \"crossover_method\": \"cxTwoPoint\",<br>    \"crossover_rate\": 0.8758242251947426,<br>    \"crossover_points\": 1,<br>    \"selection_method\": \"selTournamentWithoutReplacement\",<br>    \"tournsize\": 5,<br>    \"elitism_rate\": 0.5149298688250287,<br>    \"survival_rate\": 0.9392456255272119<br>  }<br>}",
          "{<br>  \"number\": 170,<br>  \"values\": [<br>    0.7355497479438782,<br>    0.6921810626983642,<br>    40.75421071052551<br>  ],<br>  \"params\": {<br>    \"mutation_method\": \"mutLinear\",<br>    \"mutation_prob\": 0.963437460315147,<br>    \"mutation_by_deletion_rate\": 0.2875922998464528,<br>    \"mutation_rate_start\": 0.22194102690551104,<br>    \"mutation_rate_end\": 0.7634017457048059,<br>    \"crossover_method\": \"cxTwoPoint\",<br>    \"crossover_rate\": 0.029047547052426168,<br>    \"crossover_points\": 1,<br>    \"selection_method\": \"selTournament\",<br>    \"tournsize\": 9,<br>    \"elitism_rate\": 0.2812958585453792,<br>    \"survival_rate\": 0.3931158081181913<br>  }<br>}",
          "{<br>  \"number\": 171,<br>  \"values\": [<br>    0.8230640888214111,<br>    0.7845830678939819,<br>    34.87657189369202<br>  ],<br>  \"params\": {<br>    \"mutation_method\": \"mutConstant\",<br>    \"mutation_prob\": 0.2641078969901095,<br>    \"mutation_by_deletion_rate\": 0.7231095983511413,<br>    \"mutation_rate\": 0.15494072222350952,<br>    \"crossover_method\": \"cxTwoPoint\",<br>    \"crossover_rate\": 0.5312259877221235,<br>    \"crossover_points\": 1,<br>    \"selection_method\": \"selBest\",<br>    \"elitism_rate\": 0.29739068302189103,<br>    \"survival_rate\": 0.3306481084124834<br>  }<br>}",
          "{<br>  \"number\": 172,<br>  \"values\": [<br>    0.6209244132041931,<br>    0.5924120664596557,<br>    38.95072412490845<br>  ],<br>  \"params\": {<br>    \"mutation_method\": \"mutEntropy\",<br>    \"mutation_prob\": 0.5970053881345145,<br>    \"mutation_by_deletion_rate\": 0.231708737360077,<br>    \"mutation_rate_start\": 0.9354812259296587,<br>    \"mutation_rate_end\": 0.3335818747771644,<br>    \"crossover_method\": \"cxKPoint\",<br>    \"crossover_rate\": 0.4582847039718032,<br>    \"crossover_points\": 1,<br>    \"selection_method\": \"selTournament\",<br>    \"tournsize\": 10,<br>    \"elitism_rate\": 0.24975568365940282,<br>    \"survival_rate\": 0.8578855110034735<br>  }<br>}",
          "{<br>  \"number\": 173,<br>  \"values\": [<br>    0.7987520694732666,<br>    0.7487171649932861,<br>    39.9927031993866<br>  ],<br>  \"params\": {<br>    \"mutation_method\": \"mutEntropy\",<br>    \"mutation_prob\": 0.744797211632769,<br>    \"mutation_by_deletion_rate\": 0.9977651742768379,<br>    \"mutation_rate_start\": 0.24399825948173917,<br>    \"mutation_rate_end\": 0.20362340588033,<br>    \"crossover_method\": \"cxTwoPoint\",<br>    \"crossover_rate\": 0.5979937255510203,<br>    \"crossover_points\": 4,<br>    \"selection_method\": \"selBest\",<br>    \"elitism_rate\": 0.25778493364740895,<br>    \"survival_rate\": 0.3561443935450179<br>  }<br>}",
          "{<br>  \"number\": 174,<br>  \"values\": [<br>    0.7080999612808228,<br>    0.6680881142616272,<br>    34.00104761123657<br>  ],<br>  \"params\": {<br>    \"mutation_method\": \"mutLinear\",<br>    \"mutation_prob\": 0.16522765558918917,<br>    \"mutation_by_deletion_rate\": 0.022294756086918777,<br>    \"mutation_rate_start\": 0.6335752602639099,<br>    \"mutation_rate_end\": 0.5239031999510345,<br>    \"crossover_method\": \"cxOnePoint\",<br>    \"crossover_rate\": 0.4080483126319394,<br>    \"selection_method\": \"selTournament\",<br>    \"tournsize\": 7,<br>    \"elitism_rate\": 0.32864694332400946,<br>    \"survival_rate\": 0.633293958747955<br>  }<br>}",
          "{<br>  \"number\": 175,<br>  \"values\": [<br>    0.6333327889442444,<br>    0.600256335735321,<br>    37.90218472480774<br>  ],<br>  \"params\": {<br>    \"mutation_method\": \"mutEntropy\",<br>    \"mutation_prob\": 0.5066637301645347,<br>    \"mutation_by_deletion_rate\": 0.30630463504876543,<br>    \"mutation_rate_start\": 0.5779220959506568,<br>    \"mutation_rate_end\": 0.9092077654457161,<br>    \"crossover_method\": \"cxKPoint\",<br>    \"crossover_rate\": 0.5747781898660157,<br>    \"crossover_points\": 2,<br>    \"selection_method\": \"selBoltzmann\",<br>    \"boltzmann_temperature\": 0.5864056787812706,<br>    \"elitism_rate\": 0.3098384181753534,<br>    \"survival_rate\": 0.4378080779258422<br>  }<br>}",
          "{<br>  \"number\": 176,<br>  \"values\": [<br>    0.871685802936554,<br>    0.803826105594635,<br>    38.49399185180664<br>  ],<br>  \"params\": {<br>    \"mutation_method\": \"mutConstant\",<br>    \"mutation_prob\": 0.540899353146216,<br>    \"mutation_by_deletion_rate\": 0.9117600660484649,<br>    \"mutation_rate\": 0.36413886096075715,<br>    \"crossover_method\": \"cxUniform\",<br>    \"crossover_rate\": 0.6372737245889739,<br>    \"selection_method\": \"selBest\",<br>    \"elitism_rate\": 0.2816099978648288,<br>    \"survival_rate\": 0.9120818361334811<br>  }<br>}",
          "{<br>  \"number\": 177,<br>  \"values\": [<br>    0.7126734256744385,<br>    0.6902157425880432,<br>    32.164268255233765<br>  ],<br>  \"params\": {<br>    \"mutation_method\": \"mutLinear\",<br>    \"mutation_prob\": 0.03234720352260645,<br>    \"mutation_by_deletion_rate\": 0.20510977340645195,<br>    \"mutation_rate_start\": 0.05815219393792215,<br>    \"mutation_rate_end\": 0.3912247697354906,<br>    \"crossover_method\": \"cxTwoPoint\",<br>    \"crossover_rate\": 0.939777507371231,<br>    \"crossover_points\": 1,<br>    \"selection_method\": \"selStochasticUniversalSampling\",<br>    \"elitism_rate\": 0.33638176867689074,<br>    \"survival_rate\": 0.37494969803563477<br>  }<br>}",
          "{<br>  \"number\": 178,<br>  \"values\": [<br>    0.5970922112464905,<br>    0.547404408454895,<br>    29.36123776435852<br>  ],<br>  \"params\": {<br>    \"mutation_method\": \"mutEntropy\",<br>    \"mutation_prob\": 0.22712010545504885,<br>    \"mutation_by_deletion_rate\": 0.2488226880361997,<br>    \"mutation_rate_start\": 0.036970297663599515,<br>    \"mutation_rate_end\": 0.5791349492384056,<br>    \"crossover_method\": \"cxKPoint\",<br>    \"crossover_rate\": 0.06925136022631495,<br>    \"crossover_points\": 1,<br>    \"selection_method\": \"selTournament\",<br>    \"tournsize\": 4,<br>    \"elitism_rate\": 0.8986187128398366,<br>    \"survival_rate\": 0.8412216420429427<br>  }<br>}",
          "{<br>  \"number\": 179,<br>  \"values\": [<br>    0.7660773992538452,<br>    0.7142853021621705,<br>    34.95470690727234<br>  ],<br>  \"params\": {<br>    \"mutation_method\": \"mutExponential\",<br>    \"mutation_prob\": 0.34861573660843154,<br>    \"mutation_by_deletion_rate\": 0.9724890364801673,<br>    \"mutation_rate_start\": 0.14370906413625217,<br>    \"mutation_rate_end\": 0.9649989581579723,<br>    \"mutation_rate_degree\": 3,<br>    \"crossover_method\": \"cxTwoPoint\",<br>    \"crossover_rate\": 0.21448744356526017,<br>    \"crossover_points\": 1,<br>    \"selection_method\": \"selBest\",<br>    \"elitism_rate\": 0.24367226651938023,<br>    \"survival_rate\": 0.30090132900402333<br>  }<br>}",
          "{<br>  \"number\": 180,<br>  \"values\": [<br>    0.8351483345031738,<br>    0.7991580486297607,<br>    38.43742394447327<br>  ],<br>  \"params\": {<br>    \"mutation_method\": \"mutLinear\",<br>    \"mutation_prob\": 0.39675481522050904,<br>    \"mutation_by_deletion_rate\": 0.2699096847218096,<br>    \"mutation_rate_start\": 0.003855219893067738,<br>    \"mutation_rate_end\": 0.6116607592030652,<br>    \"crossover_method\": \"cxTwoPoint\",<br>    \"crossover_rate\": 0.6959827131870702,<br>    \"crossover_points\": 1,<br>    \"selection_method\": \"selNormRoulette\",<br>    \"elitism_rate\": 0.2865150531165188,<br>    \"survival_rate\": 0.5867372851486308<br>  }<br>}",
          "{<br>  \"number\": 181,<br>  \"values\": [<br>    0.7031478881835938,<br>    0.6763641357421875,<br>    39.35206484794617<br>  ],<br>  \"params\": {<br>    \"mutation_method\": \"mutEntropy\",<br>    \"mutation_prob\": 0.7774470942571814,<br>    \"mutation_by_deletion_rate\": 0.321275204121204,<br>    \"mutation_rate_start\": 0.7679265490860255,<br>    \"mutation_rate_end\": 0.05201617162263972,<br>    \"crossover_method\": \"cxKPoint\",<br>    \"crossover_rate\": 0.000530679441985038,<br>    \"crossover_points\": 3,<br>    \"selection_method\": \"selBest\",<br>    \"elitism_rate\": 0.3164326740654389,<br>    \"survival_rate\": 0.3950338905231757<br>  }<br>}",
          "{<br>  \"number\": 182,<br>  \"values\": [<br>    0.5256597995758057,<br>    0.49987045526504514,<br>    28.890155792236328<br>  ],<br>  \"params\": {<br>    \"mutation_method\": \"mutEntropy\",<br>    \"mutation_prob\": 0.7215604212291253,<br>    \"mutation_by_deletion_rate\": 0.17122270011438934,<br>    \"mutation_rate_start\": 0.8049745195287976,<br>    \"mutation_rate_end\": 0.11328090964651708,<br>    \"crossover_method\": \"cxTwoPoint\",<br>    \"crossover_rate\": 0.6142222449423257,<br>    \"crossover_points\": 1,<br>    \"selection_method\": \"selTournament\",<br>    \"tournsize\": 10,<br>    \"elitism_rate\": 0.9985431702794386,<br>    \"survival_rate\": 0.4161225790951135<br>  }<br>}",
          "{<br>  \"number\": 183,<br>  \"values\": [<br>    0.7399319410324097,<br>    0.7344926953315735,<br>    43.340224742889404<br>  ],<br>  \"params\": {<br>    \"mutation_method\": \"mutLinear\",<br>    \"mutation_prob\": 0.9800253823860617,<br>    \"mutation_by_deletion_rate\": 0.2900821687425118,<br>    \"mutation_rate_start\": 0.3525106961151419,<br>    \"mutation_rate_end\": 0.09111268797484227,<br>    \"crossover_method\": \"cxKPoint\",<br>    \"crossover_rate\": 0.04209136420387918,<br>    \"crossover_points\": 4,<br>    \"selection_method\": \"selRandom\",<br>    \"elitism_rate\": 0.2647620780975596,<br>    \"survival_rate\": 0.3413611676328415<br>  }<br>}",
          "{<br>  \"number\": 184,<br>  \"values\": [<br>    0.7678288817405701,<br>    0.7401992440223694,<br>    38.722057819366455<br>  ],<br>  \"params\": {<br>    \"mutation_method\": \"mutEntropy\",<br>    \"mutation_prob\": 0.45676958502772597,<br>    \"mutation_by_deletion_rate\": 0.3665772805142201,<br>    \"mutation_rate_start\": 0.32110861653471395,<br>    \"mutation_rate_end\": 0.5571471260825169,<br>    \"crossover_method\": \"cxOnePoint\",<br>    \"crossover_rate\": 0.5215817339116843,<br>    \"selection_method\": \"selBest\",<br>    \"elitism_rate\": 0.30727046401582225,<br>    \"survival_rate\": 0.7904264935568661<br>  }<br>}",
          "{<br>  \"number\": 185,<br>  \"values\": [<br>    0.6242491006851196,<br>    0.5927525758743286,<br>    40.26584815979004<br>  ],<br>  \"params\": {<br>    \"mutation_method\": \"mutConstant\",<br>    \"mutation_prob\": 0.6853380634033384,<br>    \"mutation_by_deletion_rate\": 0.8215709257379763,<br>    \"mutation_rate\": 0.6278271622696416,<br>    \"crossover_method\": \"cxTwoPoint\",<br>    \"crossover_rate\": 0.8051546913717221,<br>    \"crossover_points\": 1,<br>    \"selection_method\": \"selRoulette\",<br>    \"elitism_rate\": 0.36633772425662275,<br>    \"survival_rate\": 0.09612338261731057<br>  }<br>}",
          "{<br>  \"number\": 186,<br>  \"values\": [<br>    0.6141829490661621,<br>    0.5844269394874573,<br>    35.55988168716431<br>  ],<br>  \"params\": {<br>    \"mutation_method\": \"mutLinear\",<br>    \"mutation_prob\": 0.05305788738425776,<br>    \"mutation_by_deletion_rate\": 0.5701969081522704,<br>    \"mutation_rate_start\": 0.4769034613347361,<br>    \"mutation_rate_end\": 0.3582210356954986,<br>    \"crossover_method\": \"cxUniform\",<br>    \"crossover_rate\": 0.018673639442782275,<br>    \"selection_method\": \"selTournament\",<br>    \"tournsize\": 9,<br>    \"elitism_rate\": 0.27581971953977913,<br>    \"survival_rate\": 0.6499782994903744<br>  }<br>}",
          "{<br>  \"number\": 187,<br>  \"values\": [<br>    0.8289003968238831,<br>    0.7696704983711242,<br>    40.703898668289185<br>  ],<br>  \"params\": {<br>    \"mutation_method\": \"mutEntropy\",<br>    \"mutation_prob\": 0.8322100774254135,<br>    \"mutation_by_deletion_rate\": 0.8666313642680926,<br>    \"mutation_rate_start\": 0.29345056315227314,<br>    \"mutation_rate_end\": 0.14990733781487864,<br>    \"crossover_method\": \"cxKPoint\",<br>    \"crossover_rate\": 0.9969774402233461,<br>    \"crossover_points\": 1,<br>    \"selection_method\": \"selBest\",<br>    \"elitism_rate\": 0.3394764969044555,<br>    \"survival_rate\": 0.7233457869250529<br>  }<br>}",
          "{<br>  \"number\": 188,<br>  \"values\": [<br>    0.6469725370407104,<br>    0.6122082233428955,<br>    35.50710916519165<br>  ],<br>  \"params\": {<br>    \"mutation_method\": \"mutExponential\",<br>    \"mutation_prob\": 0.07624913829741756,<br>    \"mutation_by_deletion_rate\": 0.333731940789882,<br>    \"mutation_rate_start\": 0.8846900289551138,<br>    \"mutation_rate_end\": 0.22099446502248002,<br>    \"mutation_rate_degree\": 2,<br>    \"crossover_method\": \"cxTwoPoint\",<br>    \"crossover_rate\": 0.5863679368958351,<br>    \"crossover_points\": 1,<br>    \"selection_method\": \"selBest\",<br>    \"elitism_rate\": 0.2893686879776766,<br>    \"survival_rate\": 0.37640616987007763<br>  }<br>}",
          "{<br>  \"number\": 189,<br>  \"values\": [<br>    0.7141220569610596,<br>    0.6892849445343018,<br>    32.46401762962341<br>  ],<br>  \"params\": {<br>    \"mutation_method\": \"mutLinear\",<br>    \"mutation_prob\": 0.752750794653999,<br>    \"mutation_by_deletion_rate\": 0.3049650144487577,<br>    \"mutation_rate_start\": 0.09681402652123283,<br>    \"mutation_rate_end\": 0.29643307552388465,<br>    \"crossover_method\": \"cxTwoPoint\",<br>    \"crossover_rate\": 0.08777190464306417,<br>    \"crossover_points\": 1,<br>    \"selection_method\": \"selTournamentWithoutReplacement\",<br>    \"tournsize\": 8,<br>    \"elitism_rate\": 0.839810763880966,<br>    \"survival_rate\": 0.32154936252829586<br>  }<br>}",
          "{<br>  \"number\": 191,<br>  \"values\": [<br>    0.5822955965995789,<br>    0.5457147717475891,<br>    18.252070903778076<br>  ],<br>  \"params\": {<br>    \"mutation_method\": \"mutLinear\",<br>    \"mutation_prob\": 0.009312623352711219,<br>    \"mutation_by_deletion_rate\": 0.2684326143438002,<br>    \"mutation_rate_start\": 0.5899437622899797,<br>    \"mutation_rate_end\": 0.17851426870854414,<br>    \"crossover_method\": \"cxKPoint\",<br>    \"crossover_rate\": 0.5553777519607649,<br>    \"crossover_points\": 2,<br>    \"selection_method\": \"selTournament\",<br>    \"tournsize\": 10,<br>    \"elitism_rate\": 0.3205000050214974,<br>    \"survival_rate\": 0.0008407285514996365<br>  }<br>}",
          "{<br>  \"number\": 192,<br>  \"values\": [<br>    0.6956800818443298,<br>    0.6691726922988892,<br>    34.70263433456421<br>  ],<br>  \"params\": {<br>    \"mutation_method\": \"mutEntropy\",<br>    \"mutation_prob\": 0.9315364118346016,<br>    \"mutation_by_deletion_rate\": 0.24245431872870823,<br>    \"mutation_rate_start\": 0.4090569975011906,<br>    \"mutation_rate_end\": 0.18066620028382246,<br>    \"crossover_method\": \"cxKPoint\",<br>    \"crossover_rate\": 0.624797459557797,<br>    \"crossover_points\": 2,<br>    \"selection_method\": \"selTournament\",<br>    \"tournsize\": 3,<br>    \"elitism_rate\": 0.7286873490230763,<br>    \"survival_rate\": 0.7551895858043293<br>  }<br>}",
          "{<br>  \"number\": 193,<br>  \"values\": [<br>    0.7911331653594971,<br>    0.7378254771232605,<br>    43.037420988082886<br>  ],<br>  \"params\": {<br>    \"mutation_method\": \"mutEntropy\",<br>    \"mutation_prob\": 0.7941657384511907,<br>    \"mutation_by_deletion_rate\": 0.28235805985023227,<br>    \"mutation_rate_start\": 0.546268677260183,<br>    \"mutation_rate_end\": 0.19671424213624367,<br>    \"crossover_method\": \"cxTwoPoint\",<br>    \"crossover_rate\": 0.6049509248895388,<br>    \"crossover_points\": 2,<br>    \"selection_method\": \"selBoltzmann\",<br>    \"boltzmann_temperature\": 0.2404237544132969,<br>    \"elitism_rate\": 0.24723747105262045,<br>    \"survival_rate\": 0.5174222520247711<br>  }<br>}",
          "{<br>  \"number\": 194,<br>  \"values\": [<br>    0.7142236828804016,<br>    0.6601560950279236,<br>    35.59647560119629<br>  ],<br>  \"params\": {<br>    \"mutation_method\": \"mutLinear\",<br>    \"mutation_prob\": 0.11767270174284739,<br>    \"mutation_by_deletion_rate\": 0.34982510664162975,<br>    \"mutation_rate_start\": 0.6752797445122074,<br>    \"mutation_rate_end\": 0.1553763527820741,<br>    \"crossover_method\": \"cxKPoint\",<br>    \"crossover_rate\": 0.026598848847229108,<br>    \"crossover_points\": 2,<br>    \"selection_method\": \"selBest\",<br>    \"elitism_rate\": 0.2987255036068393,<br>    \"survival_rate\": 0.7004626681644358<br>  }<br>}",
          "{<br>  \"number\": 195,<br>  \"values\": [<br>    0.7731344699859619,<br>    0.7552766561508178,<br>    40.88560342788696<br>  ],<br>  \"params\": {<br>    \"mutation_method\": \"mutConstant\",<br>    \"mutation_prob\": 0.5643270956946275,<br>    \"mutation_by_deletion_rate\": 0.21761287239904,<br>    \"mutation_rate\": 0.19874831123861902,<br>    \"crossover_method\": \"cxOnePoint\",<br>    \"crossover_rate\": 0.49624613102084886,<br>    \"selection_method\": \"selTournament\",<br>    \"tournsize\": 9,<br>    \"elitism_rate\": 0.2596601717961926,<br>    \"survival_rate\": 0.23195043904305057<br>  }<br>}",
          "{<br>  \"number\": 196,<br>  \"values\": [<br>    0.81167072057724,<br>    0.7611106276512146,<br>    34.92068147659302<br>  ],<br>  \"params\": {<br>    \"mutation_method\": \"mutEntropy\",<br>    \"mutation_prob\": 0.6168875472312498,<br>    \"mutation_by_deletion_rate\": 0.31470172354153175,<br>    \"mutation_rate_start\": 0.4546412993779817,<br>    \"mutation_rate_end\": 0.13978309496178845,<br>    \"crossover_method\": \"cxTwoPoint\",<br>    \"crossover_rate\": 0.5753252976958979,<br>    \"crossover_points\": 2,<br>    \"selection_method\": \"selBest\",<br>    \"elitism_rate\": 0.682018583202761,<br>    \"survival_rate\": 0.6167407873253234<br>  }<br>}",
          "{<br>  \"number\": 197,<br>  \"values\": [<br>    0.6736312508583069,<br>    0.6513156771659852,<br>    37.387383699417114<br>  ],<br>  \"params\": {<br>    \"mutation_method\": \"mutLinear\",<br>    \"mutation_prob\": 0.47791422686218216,<br>    \"mutation_by_deletion_rate\": 0.18913905999744918,<br>    \"mutation_rate_start\": 0.3693371241845961,<br>    \"mutation_rate_end\": 0.2505877420286985,<br>    \"crossover_method\": \"cxUniform\",<br>    \"crossover_rate\": 0.05247258226537296,<br>    \"selection_method\": \"selStochasticUniversalSampling\",<br>    \"elitism_rate\": 0.3558260147436127,<br>    \"survival_rate\": 0.35645603507558826<br>  }<br>}",
          "{<br>  \"number\": 198,<br>  \"values\": [<br>    0.7068942189216614,<br>    0.6797090888023376,<br>    34.43177103996277<br>  ],<br>  \"params\": {<br>    \"mutation_method\": \"mutEntropy\",<br>    \"mutation_prob\": 0.2843384650040655,<br>    \"mutation_by_deletion_rate\": 0.6351625009476738,<br>    \"mutation_rate_start\": 0.1968534460414586,<br>    \"mutation_rate_end\": 0.11602416636136476,<br>    \"crossover_method\": \"cxKPoint\",<br>    \"crossover_rate\": 0.6595525362619011,<br>    \"crossover_points\": 2,<br>    \"selection_method\": \"selRandom\",<br>    \"elitism_rate\": 0.6184317029863939,<br>    \"survival_rate\": 0.6758424758902758<br>  }<br>}",
          "{<br>  \"number\": 199,<br>  \"values\": [<br>    0.7999708652496338,<br>    0.7377057194709777,<br>    39.88054585456848<br>  ],<br>  \"params\": {<br>    \"mutation_method\": \"mutExponential\",<br>    \"mutation_prob\": 0.43277610518725457,<br>    \"mutation_by_deletion_rate\": 0.772141240751099,<br>    \"mutation_rate_start\": 0.7338307026580952,<br>    \"mutation_rate_end\": 0.07619540814851616,<br>    \"mutation_rate_degree\": 1,<br>    \"crossover_method\": \"cxTwoPoint\",<br>    \"crossover_rate\": 0.6397535276306063,<br>    \"crossover_points\": 3,<br>    \"selection_method\": \"selNormRoulette\",<br>    \"elitism_rate\": 0.3298729288716101,<br>    \"survival_rate\": 0.3965979226486659<br>  }<br>}"
         ],
         "type": "scatter",
         "x": [
          0.7278436422348022,
          0.7588212490081787,
          0.6106458902359009,
          0.6472018957138062,
          0.6176146268844604,
          0.6595203876495361,
          0.7059294581413269,
          0.6898598074913025,
          0.6457276940345764,
          0.839830756187439,
          0.7118198871612549,
          0.8492773771286011,
          0.7211655974388123,
          0.6942210793495178,
          0.7342208027839661,
          0.6888698935508728,
          0.7742751240730286,
          0.8319792151451111,
          0.8673994541168213,
          0.8446002006530762,
          0.581763505935669,
          0.6221267580986023,
          0.5268564820289612,
          0.7991272211074829,
          0.7315282821655273,
          0.7039453983306885,
          0.827492356300354,
          0.5610727667808533,
          0.6824824810028076,
          0.7771769165992737,
          0.7776364088058472,
          0.654380202293396,
          0.6863411068916321,
          0.7159580588340759,
          0.7473331093788147,
          0.8186487555503845,
          0.7312736511230469,
          0.6001713275909424,
          0.8431911468505859,
          0.6889136433601379,
          0.8410845994949341,
          0.6756318807601929,
          0.6365086436271667,
          0.7879999876022339,
          0.7397379279136658,
          0.7891584634780884,
          0.7070520520210266,
          0.7364332675933838,
          0.7811287641525269,
          0.8338178396224976,
          0.8410730361938477,
          0.7159609794616699,
          0.733029842376709,
          0.5519899129867554,
          0.824042797088623,
          0.7852331399917603,
          0.7198595404624939,
          0.7470958232879639,
          0.8324827551841736,
          0.6624289751052856,
          0.8179866671562195,
          0.7827468514442444,
          0.7092493772506714,
          0.7266479730606079,
          0.6077612042427063,
          0.5858001708984375,
          0.6921095848083496,
          0.6793094873428345,
          0.800360918045044,
          0.7296648025512695,
          0.7290562987327576,
          0.5368230938911438,
          0.7897964715957642,
          0.6453681588172913,
          0.8221539258956909,
          0.6225752234458923,
          0.6747480034828186,
          0.7546871900558472,
          0.717465341091156,
          0.7666546702384949,
          0.5833253264427185,
          0.7037366032600403,
          0.7995247840881348,
          0.7088115215301514,
          0.653691828250885,
          0.7945880889892578,
          0.6648522615432739,
          0.5957351922988892,
          0.6986208558082581,
          0.877703070640564,
          0.5996505618095398,
          0.752388596534729,
          0.6163912415504456,
          0.8023749589920044,
          0.7560480237007141,
          0.7022519707679749,
          0.7318933606147766,
          0.7647905349731445,
          0.6369455456733704,
          0.7315438985824585,
          0.756585955619812,
          0.6542184948921204,
          0.7136111259460449,
          0.6984911561012268,
          0.7696993947029114,
          0.6543329358100891,
          0.6556683778762817,
          0.5222430229187012,
          0.5877988338470459,
          0.7215800881385803,
          0.5349524021148682,
          0.7057828307151794,
          0.6866185069084167,
          0.7109161615371704,
          0.6438296437263489,
          0.7634557485580444,
          0.6724451780319214,
          0.6938449740409851,
          0.8796648979187012,
          0.7956542372703552,
          0.5779446363449097,
          0.765335202217102,
          0.816871166229248,
          0.7540360689163208,
          0.7631176710128784,
          0.711453378200531,
          0.6440722346305847,
          0.7291814088821411,
          0.8653249740600586,
          0.7357660531997681,
          0.7070106863975525,
          0.6839749813079834,
          0.6445983648300171,
          0.7417641878128052,
          0.6982384324073792,
          0.6847978234291077,
          0.6485612392425537,
          0.8165640830993652,
          0.6207950115203857,
          0.617056131362915,
          0.7729278802871704,
          0.6069772839546204,
          0.586037814617157,
          0.6895948052406311,
          0.8289503455162048,
          0.6359370350837708,
          0.7619964480400085,
          0.8562235832214355,
          0.6069400906562805,
          0.6860761642456055,
          0.7898143529891968,
          0.7953899502754211,
          0.84247887134552,
          0.8064595460891724,
          0.7271966934204102,
          0.7868730425834656,
          0.7499423027038574,
          0.5776277780532837,
          0.7278872132301331,
          0.7355497479438782,
          0.8230640888214111,
          0.6209244132041931,
          0.7987520694732666,
          0.7080999612808228,
          0.6333327889442444,
          0.871685802936554,
          0.7126734256744385,
          0.5970922112464905,
          0.7660773992538452,
          0.8351483345031738,
          0.7031478881835938,
          0.5256597995758057,
          0.7399319410324097,
          0.7678288817405701,
          0.6242491006851196,
          0.6141829490661621,
          0.8289003968238831,
          0.6469725370407104,
          0.7141220569610596,
          0.5822955965995789,
          0.6956800818443298,
          0.7911331653594971,
          0.7142236828804016,
          0.7731344699859619,
          0.81167072057724,
          0.6736312508583069,
          0.7068942189216614,
          0.7999708652496338
         ],
         "y": [
          0.7173630833625794,
          0.7058565378189087,
          0.5896970748901367,
          0.6194018483161926,
          0.5983564972877502,
          0.6154430270195007,
          0.6605339884757996,
          0.6463033795356751,
          0.6243708848953247,
          0.7992067337036133,
          0.6940473318099976,
          0.8099842548370362,
          0.6768061637878418,
          0.65797039270401,
          0.705997633934021,
          0.6392642259597778,
          0.7435018181800842,
          0.7838121056556702,
          0.7964959979057312,
          0.8117538690567017,
          0.564957070350647,
          0.6055234432220459,
          0.5067627429962158,
          0.7718638181686401,
          0.6730147123336792,
          0.6345831274986267,
          0.7861511468887329,
          0.5416243433952331,
          0.6554707765579224,
          0.7364848375320434,
          0.7443564295768738,
          0.6372327446937561,
          0.671571695804596,
          0.6311599254608155,
          0.707270348072052,
          0.7788805961608887,
          0.6758518695831299,
          0.572340977191925,
          0.7808421611785888,
          0.6078521370887756,
          0.7910833120346069,
          0.6636139273643493,
          0.6165026307106019,
          0.7271000146865845,
          0.708776593208313,
          0.7349591135978699,
          0.6644346594810486,
          0.7123331427574158,
          0.7625243186950683,
          0.7573147654533386,
          0.8142565727233887,
          0.6445376753807068,
          0.7041908860206604,
          0.5217427492141724,
          0.7514571070671081,
          0.7389002919197083,
          0.678218412399292,
          0.6966751456260681,
          0.7940099000930786,
          0.6153616666793823,
          0.7718769550323487,
          0.7519469380378723,
          0.6851785898208618,
          0.6980661630630494,
          0.5771896123886109,
          0.5717511415481568,
          0.6553534865379333,
          0.6559566617012024,
          0.7521824359893798,
          0.7030602693557739,
          0.7102700710296631,
          0.5299887895584107,
          0.7411091685295105,
          0.6104266047477722,
          0.7712409734725952,
          0.576842999458313,
          0.6462585091590881,
          0.6528613448143006,
          0.6484408497810363,
          0.7307247877120971,
          0.544021487236023,
          0.6721386551856995,
          0.7639199018478393,
          0.6676718592643738,
          0.5932877779006958,
          0.7518698930740356,
          0.6342072725296021,
          0.5570340991020203,
          0.6619326829910278,
          0.7990853428840637,
          0.5892487168312073,
          0.703179657459259,
          0.6038847208023072,
          0.7786256670951843,
          0.7209091067314148,
          0.662966275215149,
          0.6721117496490479,
          0.7354385018348694,
          0.5981921553611755,
          0.6882436513900757,
          0.7159015774726868,
          0.5903032302856446,
          0.6678914904594422,
          0.652990746498108,
          0.7388336062431335,
          0.6410045027732849,
          0.6057892799377441,
          0.5049369931221008,
          0.561488676071167,
          0.6749534368515014,
          0.5037762641906738,
          0.6688182353973389,
          0.6548490047454834,
          0.6502297878265381,
          0.62487233877182,
          0.7424275636672973,
          0.64987211227417,
          0.6315998435020447,
          0.8144384860992432,
          0.7794510364532471,
          0.5557971954345703,
          0.7339499354362488,
          0.7418452739715576,
          0.7244474649429321,
          0.7227425694465637,
          0.6610419511795044,
          0.5862468719482422,
          0.7046485543251038,
          0.823905062675476,
          0.7155866622924805,
          0.6598525285720825,
          0.6492917776107788,
          0.6141116738319397,
          0.7099527955055237,
          0.6722455501556397,
          0.6534147381782531,
          0.6102165699005127,
          0.7451800346374512,
          0.5810410261154175,
          0.5937845826148986,
          0.7338194012641907,
          0.5907711625099182,
          0.547877061367035,
          0.6617899537086487,
          0.7788899660110473,
          0.6217008709907532,
          0.7333148956298828,
          0.8214829444885254,
          0.5598477005958558,
          0.602415406703949,
          0.7564774036407471,
          0.7436204195022583,
          0.7758145809173584,
          0.7658223867416382,
          0.685290539264679,
          0.748797333240509,
          0.6582605004310608,
          0.5491045117378235,
          0.6912458419799805,
          0.6921810626983642,
          0.7845830678939819,
          0.5924120664596557,
          0.7487171649932861,
          0.6680881142616272,
          0.600256335735321,
          0.803826105594635,
          0.6902157425880432,
          0.547404408454895,
          0.7142853021621705,
          0.7991580486297607,
          0.6763641357421875,
          0.49987045526504514,
          0.7344926953315735,
          0.7401992440223694,
          0.5927525758743286,
          0.5844269394874573,
          0.7696704983711242,
          0.6122082233428955,
          0.6892849445343018,
          0.5457147717475891,
          0.6691726922988892,
          0.7378254771232605,
          0.6601560950279236,
          0.7552766561508178,
          0.7611106276512146,
          0.6513156771659852,
          0.6797090888023376,
          0.7377057194709777
         ]
        },
        {
         "hovertemplate": "%{text}<extra>Best Trial</extra>",
         "marker": {
          "color": [
           3,
           4,
           8,
           11,
           12,
           24,
           31,
           51,
           63,
           112,
           129,
           190
          ],
          "colorbar": {
           "title": {
            "text": "Best Trial"
           },
           "x": 1.1,
           "xpad": 40
          },
          "colorscale": [
           [
            0,
            "rgb(255,245,240)"
           ],
           [
            0.125,
            "rgb(254,224,210)"
           ],
           [
            0.25,
            "rgb(252,187,161)"
           ],
           [
            0.375,
            "rgb(252,146,114)"
           ],
           [
            0.5,
            "rgb(251,106,74)"
           ],
           [
            0.625,
            "rgb(239,59,44)"
           ],
           [
            0.75,
            "rgb(203,24,29)"
           ],
           [
            0.875,
            "rgb(165,15,21)"
           ],
           [
            1,
            "rgb(103,0,13)"
           ]
          ],
          "line": {
           "color": "Grey",
           "width": 0.5
          }
         },
         "mode": "markers",
         "showlegend": false,
         "text": [
          "{<br>  \"number\": 3,<br>  \"values\": [<br>    0.7704668641090393,<br>    0.6904151916503907,<br>    25.75602698326111<br>  ],<br>  \"params\": {<br>    \"mutation_method\": \"mutConstant\",<br>    \"mutation_prob\": 0.4742387600659319,<br>    \"mutation_by_deletion_rate\": 0.7348650533789207,<br>    \"mutation_rate\": 0.9676134159440335,<br>    \"crossover_method\": \"cxTwoPoint\",<br>    \"crossover_rate\": 0.31839742619532163,<br>    \"crossover_points\": 2,<br>    \"selection_method\": \"selRoulette\",<br>    \"elitism_rate\": 0.3392878752254671,<br>    \"survival_rate\": 0.6012609697929668<br>  }<br>}",
          "{<br>  \"number\": 4,<br>  \"values\": [<br>    0.7855526208877563,<br>    0.7310947775840759,<br>    25.77109670639038<br>  ],<br>  \"params\": {<br>    \"mutation_method\": \"mutConstant\",<br>    \"mutation_prob\": 0.8147199134168505,<br>    \"mutation_by_deletion_rate\": 0.3842063447539349,<br>    \"mutation_rate\": 0.4847961612758859,<br>    \"crossover_method\": \"cxTwoPoint\",<br>    \"crossover_rate\": 0.5049666143376991,<br>    \"crossover_points\": 4,<br>    \"selection_method\": \"selBest\",<br>    \"elitism_rate\": 0.4590257345691281,<br>    \"survival_rate\": 0.7528152581566717<br>  }<br>}",
          "{<br>  \"number\": 8,<br>  \"values\": [<br>    0.8358239531517029,<br>    0.7935378789901734,<br>    26.76857829093933<br>  ],<br>  \"params\": {<br>    \"mutation_method\": \"mutLinear\",<br>    \"mutation_prob\": 0.7582936005420714,<br>    \"mutation_by_deletion_rate\": 0.23854462123117315,<br>    \"mutation_rate_start\": 0.33260925956657983,<br>    \"mutation_rate_end\": 0.16702505002526669,<br>    \"crossover_method\": \"cxKPoint\",<br>    \"crossover_rate\": 0.005439601422436047,<br>    \"crossover_points\": 1,<br>    \"selection_method\": \"selTournament\",<br>    \"tournsize\": 9,<br>    \"elitism_rate\": 0.2968932038589901,<br>    \"survival_rate\": 0.6660564349514776<br>  }<br>}",
          "{<br>  \"number\": 11,<br>  \"values\": [<br>    0.923918604850769,<br>    0.8391998887062073,<br>    41.04654264450073<br>  ],<br>  \"params\": {<br>    \"mutation_method\": \"mutLinear\",<br>    \"mutation_prob\": 0.9972720568071717,<br>    \"mutation_by_deletion_rate\": 0.23036547022651194,<br>    \"mutation_rate_start\": 0.2716226253477045,<br>    \"mutation_rate_end\": 0.027950562686698766,<br>    \"crossover_method\": \"cxKPoint\",<br>    \"crossover_rate\": 0.05608825247669138,<br>    \"crossover_points\": 4,<br>    \"selection_method\": \"selTournament\",<br>    \"tournsize\": 9,<br>    \"elitism_rate\": 0.07884562816541624,<br>    \"survival_rate\": 0.7629746214466814<br>  }<br>}",
          "{<br>  \"number\": 12,<br>  \"values\": [<br>    0.8956600427627563,<br>    0.8491518497467041,<br>    41.03565549850464<br>  ],<br>  \"params\": {<br>    \"mutation_method\": \"mutLinear\",<br>    \"mutation_prob\": 0.9819365445375368,<br>    \"mutation_by_deletion_rate\": 0.19540522987303344,<br>    \"mutation_rate_start\": 0.18414394546821544,<br>    \"mutation_rate_end\": 0.03751556972142428,<br>    \"crossover_method\": \"cxKPoint\",<br>    \"crossover_rate\": 0.0018307391073909421,<br>    \"crossover_points\": 4,<br>    \"selection_method\": \"selTournament\",<br>    \"tournsize\": 9,<br>    \"elitism_rate\": 0.05257648286443003,<br>    \"survival_rate\": 0.7762406950234005<br>  }<br>}",
          "{<br>  \"number\": 24,<br>  \"values\": [<br>    0.9007651805877686,<br>    0.8404918670654297,<br>    34.14579224586487<br>  ],<br>  \"params\": {<br>    \"mutation_method\": \"mutLinear\",<br>    \"mutation_prob\": 0.9290120509716085,<br>    \"mutation_by_deletion_rate\": 0.13521077317922242,<br>    \"mutation_rate_start\": 0.023174070395484025,<br>    \"mutation_rate_end\": 0.09461408317455078,<br>    \"crossover_method\": \"cxKPoint\",<br>    \"crossover_rate\": 0.08354995840534381,<br>    \"crossover_points\": 1,<br>    \"selection_method\": \"selTournament\",<br>    \"tournsize\": 10,<br>    \"elitism_rate\": 0.6067077400215346,<br>    \"survival_rate\": 0.8503107952283073<br>  }<br>}",
          "{<br>  \"number\": 31,<br>  \"values\": [<br>    0.8806635141372681,<br>    0.8393709421157837,<br>    34.016571044921875<br>  ],<br>  \"params\": {<br>    \"mutation_method\": \"mutLinear\",<br>    \"mutation_prob\": 0.9528086030828742,<br>    \"mutation_by_deletion_rate\": 0.21839488437430893,<br>    \"mutation_rate_start\": 0.2184155130604776,<br>    \"mutation_rate_end\": 0.008314091937721702,<br>    \"crossover_method\": \"cxKPoint\",<br>    \"crossover_rate\": 0.003016067306132797,<br>    \"crossover_points\": 1,<br>    \"selection_method\": \"selTournament\",<br>    \"tournsize\": 8,<br>    \"elitism_rate\": 0.5736017926838887,<br>    \"survival_rate\": 0.7193099157477512<br>  }<br>}",
          "{<br>  \"number\": 51,<br>  \"values\": [<br>    0.923918604850769,<br>    0.8450579524040223,<br>    44.26289939880371<br>  ],<br>  \"params\": {<br>    \"mutation_method\": \"mutLinear\",<br>    \"mutation_prob\": 0.9724134473200928,<br>    \"mutation_by_deletion_rate\": 0.1865662871079647,<br>    \"mutation_rate_start\": 0.1776760399937272,<br>    \"mutation_rate_end\": 0.021495672838030666,<br>    \"crossover_method\": \"cxKPoint\",<br>    \"crossover_rate\": 0.01884623749434998,<br>    \"crossover_points\": 4,<br>    \"selection_method\": \"selTournament\",<br>    \"tournsize\": 9,<br>    \"elitism_rate\": 0.08693222344646767,<br>    \"survival_rate\": 0.8103851555137289<br>  }<br>}",
          "{<br>  \"number\": 63,<br>  \"values\": [<br>    0.7269577383995056,<br>    0.6562639117240906,<br>    9.06501317024231<br>  ],<br>  \"params\": {<br>    \"mutation_method\": \"mutEntropy\",<br>    \"mutation_prob\": 0.00198299956580305,<br>    \"mutation_by_deletion_rate\": 0.3059016500965548,<br>    \"mutation_rate_start\": 0.5384213113742765,<br>    \"mutation_rate_end\": 0.43071537645587016,<br>    \"crossover_method\": \"cxTwoPoint\",<br>    \"crossover_rate\": 0.6017610099146925,<br>    \"crossover_points\": 1,<br>    \"selection_method\": \"selBest\",<br>    \"elitism_rate\": 0.2971989227389479,<br>    \"survival_rate\": 0.3704056167151541<br>  }<br>}",
          "{<br>  \"number\": 112,<br>  \"values\": [<br>    0.5222430229187012,<br>    0.4788781046867371,<br>    4.304807901382446<br>  ],<br>  \"params\": {<br>    \"mutation_method\": \"mutEntropy\",<br>    \"mutation_prob\": 0.00012013531013410628,<br>    \"mutation_by_deletion_rate\": 0.3221927330837361,<br>    \"mutation_rate_start\": 0.2087608299372249,<br>    \"mutation_rate_end\": 0.8705003096863864,<br>    \"crossover_method\": \"cxTwoPoint\",<br>    \"crossover_rate\": 0.5978661287273939,<br>    \"crossover_points\": 1,<br>    \"selection_method\": \"selBest\",<br>    \"elitism_rate\": 0.3903639595162337,<br>    \"survival_rate\": 0.3688837660821426<br>  }<br>}",
          "{<br>  \"number\": 129,<br>  \"values\": [<br>    0.689732015132904,<br>    0.6631931066513062,<br>    18.521081924438477<br>  ],<br>  \"params\": {<br>    \"mutation_method\": \"mutEntropy\",<br>    \"mutation_prob\": 0.0014748695274113058,<br>    \"mutation_by_deletion_rate\": 0.420150654839074,<br>    \"mutation_rate_start\": 0.21853319647575575,<br>    \"mutation_rate_end\": 0.9999078884568289,<br>    \"crossover_method\": \"cxTwoPoint\",<br>    \"crossover_rate\": 0.8567541314313146,<br>    \"crossover_points\": 1,<br>    \"selection_method\": \"selRandom\",<br>    \"elitism_rate\": 0.30427779877818456,<br>    \"survival_rate\": 0.4011430794140426<br>  }<br>}",
          "{<br>  \"number\": 190,<br>  \"values\": [<br>    0.5360535979270935,<br>    0.512525224685669,<br>    7.557414531707764<br>  ],<br>  \"params\": {<br>    \"mutation_method\": \"mutEntropy\",<br>    \"mutation_prob\": 0.0011143044899911095,<br>    \"mutation_by_deletion_rate\": 0.2713128394056667,<br>    \"mutation_rate_start\": 0.744385169988742,<br>    \"mutation_rate_end\": 0.18664815130371876,<br>    \"crossover_method\": \"cxKPoint\",<br>    \"crossover_rate\": 0.5464584815956636,<br>    \"crossover_points\": 2,<br>    \"selection_method\": \"selTournament\",<br>    \"tournsize\": 10,<br>    \"elitism_rate\": 0.24805682047404287,<br>    \"survival_rate\": 0.15749458526021998<br>  }<br>}"
         ],
         "type": "scatter",
         "x": [
          0.7704668641090393,
          0.7855526208877563,
          0.8358239531517029,
          0.923918604850769,
          0.8956600427627563,
          0.9007651805877686,
          0.8806635141372681,
          0.923918604850769,
          0.7269577383995056,
          0.5222430229187012,
          0.689732015132904,
          0.5360535979270935
         ],
         "y": [
          0.6904151916503907,
          0.7310947775840759,
          0.7935378789901734,
          0.8391998887062073,
          0.8491518497467041,
          0.8404918670654297,
          0.8393709421157837,
          0.8450579524040223,
          0.6562639117240906,
          0.4788781046867371,
          0.6631931066513062,
          0.512525224685669
         ]
        }
       ],
       "layout": {
        "template": {
         "data": {
          "bar": [
           {
            "error_x": {
             "color": "#2a3f5f"
            },
            "error_y": {
             "color": "#2a3f5f"
            },
            "marker": {
             "line": {
              "color": "#E5ECF6",
              "width": 0.5
             },
             "pattern": {
              "fillmode": "overlay",
              "size": 10,
              "solidity": 0.2
             }
            },
            "type": "bar"
           }
          ],
          "barpolar": [
           {
            "marker": {
             "line": {
              "color": "#E5ECF6",
              "width": 0.5
             },
             "pattern": {
              "fillmode": "overlay",
              "size": 10,
              "solidity": 0.2
             }
            },
            "type": "barpolar"
           }
          ],
          "carpet": [
           {
            "aaxis": {
             "endlinecolor": "#2a3f5f",
             "gridcolor": "white",
             "linecolor": "white",
             "minorgridcolor": "white",
             "startlinecolor": "#2a3f5f"
            },
            "baxis": {
             "endlinecolor": "#2a3f5f",
             "gridcolor": "white",
             "linecolor": "white",
             "minorgridcolor": "white",
             "startlinecolor": "#2a3f5f"
            },
            "type": "carpet"
           }
          ],
          "choropleth": [
           {
            "colorbar": {
             "outlinewidth": 0,
             "ticks": ""
            },
            "type": "choropleth"
           }
          ],
          "contour": [
           {
            "colorbar": {
             "outlinewidth": 0,
             "ticks": ""
            },
            "colorscale": [
             [
              0,
              "#0d0887"
             ],
             [
              0.1111111111111111,
              "#46039f"
             ],
             [
              0.2222222222222222,
              "#7201a8"
             ],
             [
              0.3333333333333333,
              "#9c179e"
             ],
             [
              0.4444444444444444,
              "#bd3786"
             ],
             [
              0.5555555555555556,
              "#d8576b"
             ],
             [
              0.6666666666666666,
              "#ed7953"
             ],
             [
              0.7777777777777778,
              "#fb9f3a"
             ],
             [
              0.8888888888888888,
              "#fdca26"
             ],
             [
              1,
              "#f0f921"
             ]
            ],
            "type": "contour"
           }
          ],
          "contourcarpet": [
           {
            "colorbar": {
             "outlinewidth": 0,
             "ticks": ""
            },
            "type": "contourcarpet"
           }
          ],
          "heatmap": [
           {
            "colorbar": {
             "outlinewidth": 0,
             "ticks": ""
            },
            "colorscale": [
             [
              0,
              "#0d0887"
             ],
             [
              0.1111111111111111,
              "#46039f"
             ],
             [
              0.2222222222222222,
              "#7201a8"
             ],
             [
              0.3333333333333333,
              "#9c179e"
             ],
             [
              0.4444444444444444,
              "#bd3786"
             ],
             [
              0.5555555555555556,
              "#d8576b"
             ],
             [
              0.6666666666666666,
              "#ed7953"
             ],
             [
              0.7777777777777778,
              "#fb9f3a"
             ],
             [
              0.8888888888888888,
              "#fdca26"
             ],
             [
              1,
              "#f0f921"
             ]
            ],
            "type": "heatmap"
           }
          ],
          "heatmapgl": [
           {
            "colorbar": {
             "outlinewidth": 0,
             "ticks": ""
            },
            "colorscale": [
             [
              0,
              "#0d0887"
             ],
             [
              0.1111111111111111,
              "#46039f"
             ],
             [
              0.2222222222222222,
              "#7201a8"
             ],
             [
              0.3333333333333333,
              "#9c179e"
             ],
             [
              0.4444444444444444,
              "#bd3786"
             ],
             [
              0.5555555555555556,
              "#d8576b"
             ],
             [
              0.6666666666666666,
              "#ed7953"
             ],
             [
              0.7777777777777778,
              "#fb9f3a"
             ],
             [
              0.8888888888888888,
              "#fdca26"
             ],
             [
              1,
              "#f0f921"
             ]
            ],
            "type": "heatmapgl"
           }
          ],
          "histogram": [
           {
            "marker": {
             "pattern": {
              "fillmode": "overlay",
              "size": 10,
              "solidity": 0.2
             }
            },
            "type": "histogram"
           }
          ],
          "histogram2d": [
           {
            "colorbar": {
             "outlinewidth": 0,
             "ticks": ""
            },
            "colorscale": [
             [
              0,
              "#0d0887"
             ],
             [
              0.1111111111111111,
              "#46039f"
             ],
             [
              0.2222222222222222,
              "#7201a8"
             ],
             [
              0.3333333333333333,
              "#9c179e"
             ],
             [
              0.4444444444444444,
              "#bd3786"
             ],
             [
              0.5555555555555556,
              "#d8576b"
             ],
             [
              0.6666666666666666,
              "#ed7953"
             ],
             [
              0.7777777777777778,
              "#fb9f3a"
             ],
             [
              0.8888888888888888,
              "#fdca26"
             ],
             [
              1,
              "#f0f921"
             ]
            ],
            "type": "histogram2d"
           }
          ],
          "histogram2dcontour": [
           {
            "colorbar": {
             "outlinewidth": 0,
             "ticks": ""
            },
            "colorscale": [
             [
              0,
              "#0d0887"
             ],
             [
              0.1111111111111111,
              "#46039f"
             ],
             [
              0.2222222222222222,
              "#7201a8"
             ],
             [
              0.3333333333333333,
              "#9c179e"
             ],
             [
              0.4444444444444444,
              "#bd3786"
             ],
             [
              0.5555555555555556,
              "#d8576b"
             ],
             [
              0.6666666666666666,
              "#ed7953"
             ],
             [
              0.7777777777777778,
              "#fb9f3a"
             ],
             [
              0.8888888888888888,
              "#fdca26"
             ],
             [
              1,
              "#f0f921"
             ]
            ],
            "type": "histogram2dcontour"
           }
          ],
          "mesh3d": [
           {
            "colorbar": {
             "outlinewidth": 0,
             "ticks": ""
            },
            "type": "mesh3d"
           }
          ],
          "parcoords": [
           {
            "line": {
             "colorbar": {
              "outlinewidth": 0,
              "ticks": ""
             }
            },
            "type": "parcoords"
           }
          ],
          "pie": [
           {
            "automargin": true,
            "type": "pie"
           }
          ],
          "scatter": [
           {
            "fillpattern": {
             "fillmode": "overlay",
             "size": 10,
             "solidity": 0.2
            },
            "type": "scatter"
           }
          ],
          "scatter3d": [
           {
            "line": {
             "colorbar": {
              "outlinewidth": 0,
              "ticks": ""
             }
            },
            "marker": {
             "colorbar": {
              "outlinewidth": 0,
              "ticks": ""
             }
            },
            "type": "scatter3d"
           }
          ],
          "scattercarpet": [
           {
            "marker": {
             "colorbar": {
              "outlinewidth": 0,
              "ticks": ""
             }
            },
            "type": "scattercarpet"
           }
          ],
          "scattergeo": [
           {
            "marker": {
             "colorbar": {
              "outlinewidth": 0,
              "ticks": ""
             }
            },
            "type": "scattergeo"
           }
          ],
          "scattergl": [
           {
            "marker": {
             "colorbar": {
              "outlinewidth": 0,
              "ticks": ""
             }
            },
            "type": "scattergl"
           }
          ],
          "scattermapbox": [
           {
            "marker": {
             "colorbar": {
              "outlinewidth": 0,
              "ticks": ""
             }
            },
            "type": "scattermapbox"
           }
          ],
          "scatterpolar": [
           {
            "marker": {
             "colorbar": {
              "outlinewidth": 0,
              "ticks": ""
             }
            },
            "type": "scatterpolar"
           }
          ],
          "scatterpolargl": [
           {
            "marker": {
             "colorbar": {
              "outlinewidth": 0,
              "ticks": ""
             }
            },
            "type": "scatterpolargl"
           }
          ],
          "scatterternary": [
           {
            "marker": {
             "colorbar": {
              "outlinewidth": 0,
              "ticks": ""
             }
            },
            "type": "scatterternary"
           }
          ],
          "surface": [
           {
            "colorbar": {
             "outlinewidth": 0,
             "ticks": ""
            },
            "colorscale": [
             [
              0,
              "#0d0887"
             ],
             [
              0.1111111111111111,
              "#46039f"
             ],
             [
              0.2222222222222222,
              "#7201a8"
             ],
             [
              0.3333333333333333,
              "#9c179e"
             ],
             [
              0.4444444444444444,
              "#bd3786"
             ],
             [
              0.5555555555555556,
              "#d8576b"
             ],
             [
              0.6666666666666666,
              "#ed7953"
             ],
             [
              0.7777777777777778,
              "#fb9f3a"
             ],
             [
              0.8888888888888888,
              "#fdca26"
             ],
             [
              1,
              "#f0f921"
             ]
            ],
            "type": "surface"
           }
          ],
          "table": [
           {
            "cells": {
             "fill": {
              "color": "#EBF0F8"
             },
             "line": {
              "color": "white"
             }
            },
            "header": {
             "fill": {
              "color": "#C8D4E3"
             },
             "line": {
              "color": "white"
             }
            },
            "type": "table"
           }
          ]
         },
         "layout": {
          "annotationdefaults": {
           "arrowcolor": "#2a3f5f",
           "arrowhead": 0,
           "arrowwidth": 1
          },
          "autotypenumbers": "strict",
          "coloraxis": {
           "colorbar": {
            "outlinewidth": 0,
            "ticks": ""
           }
          },
          "colorscale": {
           "diverging": [
            [
             0,
             "#8e0152"
            ],
            [
             0.1,
             "#c51b7d"
            ],
            [
             0.2,
             "#de77ae"
            ],
            [
             0.3,
             "#f1b6da"
            ],
            [
             0.4,
             "#fde0ef"
            ],
            [
             0.5,
             "#f7f7f7"
            ],
            [
             0.6,
             "#e6f5d0"
            ],
            [
             0.7,
             "#b8e186"
            ],
            [
             0.8,
             "#7fbc41"
            ],
            [
             0.9,
             "#4d9221"
            ],
            [
             1,
             "#276419"
            ]
           ],
           "sequential": [
            [
             0,
             "#0d0887"
            ],
            [
             0.1111111111111111,
             "#46039f"
            ],
            [
             0.2222222222222222,
             "#7201a8"
            ],
            [
             0.3333333333333333,
             "#9c179e"
            ],
            [
             0.4444444444444444,
             "#bd3786"
            ],
            [
             0.5555555555555556,
             "#d8576b"
            ],
            [
             0.6666666666666666,
             "#ed7953"
            ],
            [
             0.7777777777777778,
             "#fb9f3a"
            ],
            [
             0.8888888888888888,
             "#fdca26"
            ],
            [
             1,
             "#f0f921"
            ]
           ],
           "sequentialminus": [
            [
             0,
             "#0d0887"
            ],
            [
             0.1111111111111111,
             "#46039f"
            ],
            [
             0.2222222222222222,
             "#7201a8"
            ],
            [
             0.3333333333333333,
             "#9c179e"
            ],
            [
             0.4444444444444444,
             "#bd3786"
            ],
            [
             0.5555555555555556,
             "#d8576b"
            ],
            [
             0.6666666666666666,
             "#ed7953"
            ],
            [
             0.7777777777777778,
             "#fb9f3a"
            ],
            [
             0.8888888888888888,
             "#fdca26"
            ],
            [
             1,
             "#f0f921"
            ]
           ]
          },
          "colorway": [
           "#636efa",
           "#EF553B",
           "#00cc96",
           "#ab63fa",
           "#FFA15A",
           "#19d3f3",
           "#FF6692",
           "#B6E880",
           "#FF97FF",
           "#FECB52"
          ],
          "font": {
           "color": "#2a3f5f"
          },
          "geo": {
           "bgcolor": "white",
           "lakecolor": "white",
           "landcolor": "#E5ECF6",
           "showlakes": true,
           "showland": true,
           "subunitcolor": "white"
          },
          "hoverlabel": {
           "align": "left"
          },
          "hovermode": "closest",
          "mapbox": {
           "style": "light"
          },
          "paper_bgcolor": "white",
          "plot_bgcolor": "#E5ECF6",
          "polar": {
           "angularaxis": {
            "gridcolor": "white",
            "linecolor": "white",
            "ticks": ""
           },
           "bgcolor": "#E5ECF6",
           "radialaxis": {
            "gridcolor": "white",
            "linecolor": "white",
            "ticks": ""
           }
          },
          "scene": {
           "xaxis": {
            "backgroundcolor": "#E5ECF6",
            "gridcolor": "white",
            "gridwidth": 2,
            "linecolor": "white",
            "showbackground": true,
            "ticks": "",
            "zerolinecolor": "white"
           },
           "yaxis": {
            "backgroundcolor": "#E5ECF6",
            "gridcolor": "white",
            "gridwidth": 2,
            "linecolor": "white",
            "showbackground": true,
            "ticks": "",
            "zerolinecolor": "white"
           },
           "zaxis": {
            "backgroundcolor": "#E5ECF6",
            "gridcolor": "white",
            "gridwidth": 2,
            "linecolor": "white",
            "showbackground": true,
            "ticks": "",
            "zerolinecolor": "white"
           }
          },
          "shapedefaults": {
           "line": {
            "color": "#2a3f5f"
           }
          },
          "ternary": {
           "aaxis": {
            "gridcolor": "white",
            "linecolor": "white",
            "ticks": ""
           },
           "baxis": {
            "gridcolor": "white",
            "linecolor": "white",
            "ticks": ""
           },
           "bgcolor": "#E5ECF6",
           "caxis": {
            "gridcolor": "white",
            "linecolor": "white",
            "ticks": ""
           }
          },
          "title": {
           "x": 0.05
          },
          "xaxis": {
           "automargin": true,
           "gridcolor": "white",
           "linecolor": "white",
           "ticks": "",
           "title": {
            "standoff": 15
           },
           "zerolinecolor": "white",
           "zerolinewidth": 2
          },
          "yaxis": {
           "automargin": true,
           "gridcolor": "white",
           "linecolor": "white",
           "ticks": "",
           "title": {
            "standoff": 15
           },
           "zerolinecolor": "white",
           "zerolinewidth": 2
          }
         }
        },
        "title": {
         "text": "Pareto-front Plot"
        },
        "xaxis": {
         "title": {
          "text": "Max Fitness"
         }
        },
        "yaxis": {
         "title": {
          "text": "Mean Fitness"
         }
        }
       }
      }
     },
     "metadata": {},
     "output_type": "display_data"
    },
    {
     "data": {
      "application/vnd.plotly.v1+json": {
       "config": {
        "plotlyServerURL": "https://plot.ly"
       },
       "data": [
        {
         "hovertemplate": "%{text}<extra>Trial</extra>",
         "marker": {
          "color": [
           0,
           1,
           2,
           5,
           6,
           7,
           9,
           10,
           13,
           14,
           15,
           16,
           17,
           18,
           19,
           20,
           21,
           22,
           23,
           25,
           26,
           27,
           28,
           29,
           30,
           32,
           33,
           34,
           35,
           36,
           37,
           38,
           39,
           40,
           41,
           42,
           43,
           44,
           45,
           46,
           47,
           48,
           49,
           50,
           52,
           53,
           54,
           55,
           56,
           57,
           58,
           59,
           60,
           61,
           62,
           64,
           65,
           66,
           67,
           68,
           69,
           70,
           71,
           72,
           73,
           74,
           75,
           76,
           77,
           78,
           79,
           80,
           81,
           82,
           83,
           84,
           85,
           86,
           87,
           88,
           89,
           90,
           91,
           92,
           93,
           94,
           95,
           96,
           97,
           98,
           99,
           100,
           101,
           102,
           103,
           104,
           105,
           106,
           107,
           108,
           109,
           110,
           111,
           113,
           114,
           115,
           116,
           117,
           118,
           119,
           120,
           121,
           122,
           123,
           124,
           125,
           126,
           127,
           128,
           130,
           131,
           132,
           133,
           134,
           135,
           136,
           137,
           138,
           139,
           140,
           141,
           142,
           143,
           144,
           145,
           146,
           147,
           148,
           149,
           150,
           151,
           152,
           153,
           154,
           155,
           156,
           157,
           158,
           159,
           160,
           161,
           162,
           163,
           164,
           165,
           166,
           167,
           168,
           169,
           170,
           171,
           172,
           173,
           174,
           175,
           176,
           177,
           178,
           179,
           180,
           181,
           182,
           183,
           184,
           185,
           186,
           187,
           188,
           189,
           191,
           192,
           193,
           194,
           195,
           196,
           197,
           198,
           199
          ],
          "colorbar": {
           "title": {
            "text": "Trial"
           }
          },
          "colorscale": [
           [
            0,
            "rgb(247,251,255)"
           ],
           [
            0.125,
            "rgb(222,235,247)"
           ],
           [
            0.25,
            "rgb(198,219,239)"
           ],
           [
            0.375,
            "rgb(158,202,225)"
           ],
           [
            0.5,
            "rgb(107,174,214)"
           ],
           [
            0.625,
            "rgb(66,146,198)"
           ],
           [
            0.75,
            "rgb(33,113,181)"
           ],
           [
            0.875,
            "rgb(8,81,156)"
           ],
           [
            1,
            "rgb(8,48,107)"
           ]
          ],
          "line": {
           "color": "Grey",
           "width": 0.5
          }
         },
         "mode": "markers",
         "showlegend": false,
         "text": [
          "{<br>  \"number\": 0,<br>  \"values\": [<br>    0.7278436422348022,<br>    0.7173630833625794,<br>    26.43183946609497<br>  ],<br>  \"params\": {<br>    \"mutation_method\": \"mutEntropy\",<br>    \"mutation_prob\": 0.7502196830487934,<br>    \"mutation_by_deletion_rate\": 0.41852106822436086,<br>    \"mutation_rate_start\": 0.9311477975368458,<br>    \"mutation_rate_end\": 0.9217377046761324,<br>    \"crossover_method\": \"cxOnePoint\",<br>    \"crossover_rate\": 0.6144312698049044,<br>    \"selection_method\": \"selBest\",<br>    \"elitism_rate\": 0.5226421991002623,<br>    \"survival_rate\": 0.987319369731687<br>  }<br>}",
          "{<br>  \"number\": 1,<br>  \"values\": [<br>    0.7588212490081787,<br>    0.7058565378189087,<br>    32.15183663368225<br>  ],<br>  \"params\": {<br>    \"mutation_method\": \"mutConstant\",<br>    \"mutation_prob\": 0.8404065891923009,<br>    \"mutation_by_deletion_rate\": 0.6406694443085853,<br>    \"mutation_rate\": 0.05360811217034689,<br>    \"crossover_method\": \"cxUniform\",<br>    \"crossover_rate\": 0.3134574460390277,<br>    \"selection_method\": \"selStochasticUniversalSampling\",<br>    \"elitism_rate\": 0.5353900944952268,<br>    \"survival_rate\": 0.0382868997282414<br>  }<br>}",
          "{<br>  \"number\": 2,<br>  \"values\": [<br>    0.6106458902359009,<br>    0.5896970748901367,<br>    30.86444878578186<br>  ],<br>  \"params\": {<br>    \"mutation_method\": \"mutExponential\",<br>    \"mutation_prob\": 0.9129489971952728,<br>    \"mutation_by_deletion_rate\": 0.11911068233071287,<br>    \"mutation_rate_start\": 0.431657290010943,<br>    \"mutation_rate_end\": 0.9407973890358179,<br>    \"mutation_rate_degree\": 1,<br>    \"crossover_method\": \"cxTwoPoint\",<br>    \"crossover_rate\": 0.4329178763245165,<br>    \"crossover_points\": 1,<br>    \"selection_method\": \"selNormRoulette\",<br>    \"elitism_rate\": 0.29834833035126673,<br>    \"survival_rate\": 0.02351702719066029<br>  }<br>}",
          "{<br>  \"number\": 5,<br>  \"values\": [<br>    0.6472018957138062,<br>    0.6194018483161926,<br>    24.227615356445312<br>  ],<br>  \"params\": {<br>    \"mutation_method\": \"mutConstant\",<br>    \"mutation_prob\": 0.3039886774069849,<br>    \"mutation_by_deletion_rate\": 0.27922593095533155,<br>    \"mutation_rate\": 0.5043983816025335,<br>    \"crossover_method\": \"cxOnePoint\",<br>    \"crossover_rate\": 0.37947311985937904,<br>    \"selection_method\": \"selTournamentWithoutReplacement\",<br>    \"tournsize\": 3,<br>    \"elitism_rate\": 0.2539143659718174,<br>    \"survival_rate\": 0.19490680244505587<br>  }<br>}",
          "{<br>  \"number\": 6,<br>  \"values\": [<br>    0.6176146268844604,<br>    0.5983564972877502,<br>    22.9801344871521<br>  ],<br>  \"params\": {<br>    \"mutation_method\": \"mutEntropy\",<br>    \"mutation_prob\": 0.6535006839113269,<br>    \"mutation_by_deletion_rate\": 0.3931022926115091,<br>    \"mutation_rate_start\": 0.7866054678124218,<br>    \"mutation_rate_end\": 0.33830074765189255,<br>    \"crossover_method\": \"cxKPoint\",<br>    \"crossover_rate\": 0.7223410730949732,<br>    \"crossover_points\": 1,<br>    \"selection_method\": \"selStochasticUniversalSampling\",<br>    \"elitism_rate\": 0.6551321562535907,<br>    \"survival_rate\": 0.17020934772683693<br>  }<br>}",
          "{<br>  \"number\": 7,<br>  \"values\": [<br>    0.6595203876495361,<br>    0.6154430270195007,<br>    20.911468982696533<br>  ],<br>  \"params\": {<br>    \"mutation_method\": \"mutEntropy\",<br>    \"mutation_prob\": 0.2761560752072034,<br>    \"mutation_by_deletion_rate\": 0.7022176713583942,<br>    \"mutation_rate_start\": 0.6760430410117911,<br>    \"mutation_rate_end\": 0.2615199297203541,<br>    \"crossover_method\": \"cxKPoint\",<br>    \"crossover_rate\": 0.8410559344655071,<br>    \"crossover_points\": 3,<br>    \"selection_method\": \"selBest\",<br>    \"elitism_rate\": 0.8831415091846696,<br>    \"survival_rate\": 0.6311563865505256<br>  }<br>}",
          "{<br>  \"number\": 9,<br>  \"values\": [<br>    0.7059294581413269,<br>    0.6605339884757996,<br>    29.030198335647583<br>  ],<br>  \"params\": {<br>    \"mutation_method\": \"mutLinear\",<br>    \"mutation_prob\": 0.5542137193766543,<br>    \"mutation_by_deletion_rate\": 0.05219462430846844,<br>    \"mutation_rate_start\": 0.5884741441270753,<br>    \"mutation_rate_end\": 0.9555618819245146,<br>    \"crossover_method\": \"cxUniform\",<br>    \"crossover_rate\": 0.5070502561523005,<br>    \"selection_method\": \"selNormRoulette\",<br>    \"elitism_rate\": 0.8000992271310291,<br>    \"survival_rate\": 0.9835609926946999<br>  }<br>}",
          "{<br>  \"number\": 10,<br>  \"values\": [<br>    0.6898598074913025,<br>    0.6463033795356751,<br>    36.06828713417053<br>  ],<br>  \"params\": {<br>    \"mutation_method\": \"mutLinear\",<br>    \"mutation_prob\": 0.07387433921273334,<br>    \"mutation_by_deletion_rate\": 0.9925003371397549,<br>    \"mutation_rate_start\": 0.02076786639918532,<br>    \"mutation_rate_end\": 0.005167750845288199,<br>    \"crossover_method\": \"cxKPoint\",<br>    \"crossover_rate\": 0.010786353809021675,<br>    \"crossover_points\": 2,<br>    \"selection_method\": \"selTournament\",<br>    \"tournsize\": 10,<br>    \"elitism_rate\": 0.007998110327579244,<br>    \"survival_rate\": 0.4033422006682724<br>  }<br>}",
          "{<br>  \"number\": 13,<br>  \"values\": [<br>    0.6457276940345764,<br>    0.6243708848953247,<br>    45.918150424957275<br>  ],<br>  \"params\": {<br>    \"mutation_method\": \"mutLinear\",<br>    \"mutation_prob\": 0.9821494892366078,<br>    \"mutation_by_deletion_rate\": 0.230911914784004,<br>    \"mutation_rate_start\": 0.34274162039412237,<br>    \"mutation_rate_end\": 0.6024596020007837,<br>    \"crossover_method\": \"cxKPoint\",<br>    \"crossover_rate\": 0.16627318531703789,<br>    \"crossover_points\": 3,<br>    \"selection_method\": \"selRandom\",<br>    \"elitism_rate\": 0.137966779707615,<br>    \"survival_rate\": 0.40395646886065706<br>  }<br>}",
          "{<br>  \"number\": 14,<br>  \"values\": [<br>    0.839830756187439,<br>    0.7992067337036133,<br>    38.809659004211426<br>  ],<br>  \"params\": {<br>    \"mutation_method\": \"mutLinear\",<br>    \"mutation_prob\": 0.6877152054866291,<br>    \"mutation_by_deletion_rate\": 0.04077603835693053,<br>    \"mutation_rate_start\": 0.15512516563229695,<br>    \"mutation_rate_end\": 0.21092785762164623,<br>    \"crossover_method\": \"cxKPoint\",<br>    \"crossover_rate\": 0.14842128302046664,<br>    \"crossover_points\": 1,<br>    \"selection_method\": \"selTournament\",<br>    \"tournsize\": 7,<br>    \"elitism_rate\": 0.2026395906375509,<br>    \"survival_rate\": 0.7899900139501526<br>  }<br>}",
          "{<br>  \"number\": 15,<br>  \"values\": [<br>    0.7118198871612549,<br>    0.6940473318099976,<br>    35.982830286026<br>  ],<br>  \"params\": {<br>    \"mutation_method\": \"mutExponential\",<br>    \"mutation_prob\": 0.5540606664067688,<br>    \"mutation_by_deletion_rate\": 0.5195257542521955,<br>    \"mutation_rate_start\": 0.30928805921133495,<br>    \"mutation_rate_end\": 0.5609387976154518,<br>    \"mutation_rate_degree\": 4,<br>    \"crossover_method\": \"cxKPoint\",<br>    \"crossover_rate\": 0.14734456093241322,<br>    \"crossover_points\": 2,<br>    \"selection_method\": \"selBoltzmann\",<br>    \"boltzmann_temperature\": 0.12151850682547427,<br>    \"elitism_rate\": 0.3917103502707659,<br>    \"survival_rate\": 0.512301959995284<br>  }<br>}",
          "{<br>  \"number\": 16,<br>  \"values\": [<br>    0.8492773771286011,<br>    0.8099842548370362,<br>    43.38106560707092<br>  ],<br>  \"params\": {<br>    \"mutation_method\": \"mutLinear\",<br>    \"mutation_prob\": 0.8734835899863495,<br>    \"mutation_by_deletion_rate\": 0.29071980655678004,<br>    \"mutation_rate_start\": 0.5109341786011371,<br>    \"mutation_rate_end\": 0.15465714870043623,<br>    \"crossover_method\": \"cxOnePoint\",<br>    \"crossover_rate\": 0.19570294311080616,<br>    \"selection_method\": \"selTournament\",<br>    \"tournsize\": 6,<br>    \"elitism_rate\": 0.12766769252325016,<br>    \"survival_rate\": 0.8808306588713616<br>  }<br>}",
          "{<br>  \"number\": 17,<br>  \"values\": [<br>    0.7211655974388123,<br>    0.6768061637878418,<br>    34.762670040130615<br>  ],<br>  \"params\": {<br>    \"mutation_method\": \"mutLinear\",<br>    \"mutation_prob\": 0.3701309605311062,<br>    \"mutation_by_deletion_rate\": 0.555209398063415,<br>    \"mutation_rate_start\": 0.26470118644809226,<br>    \"mutation_rate_end\": 0.38358995691795295,<br>    \"crossover_method\": \"cxUniform\",<br>    \"crossover_rate\": 0.9156895711286334,<br>    \"selection_method\": \"selTournament\",<br>    \"tournsize\": 8,<br>    \"elitism_rate\": 0.6476999709447189,<br>    \"survival_rate\": 0.6526686466604352<br>  }<br>}",
          "{<br>  \"number\": 18,<br>  \"values\": [<br>    0.6942210793495178,<br>    0.65797039270401,<br>    41.72091770172119<br>  ],<br>  \"params\": {<br>    \"mutation_method\": \"mutExponential\",<br>    \"mutation_prob\": 0.7268191600668945,<br>    \"mutation_by_deletion_rate\": 0.14630052581326447,<br>    \"mutation_rate_start\": 0.09171311333899101,<br>    \"mutation_rate_end\": 0.6860149410682572,<br>    \"mutation_rate_degree\": 1,<br>    \"crossover_method\": \"cxKPoint\",<br>    \"crossover_rate\": 0.06982610674739777,<br>    \"crossover_points\": 3,<br>    \"selection_method\": \"selRandom\",<br>    \"elitism_rate\": 0.17064310788489412,<br>    \"survival_rate\": 0.43118106273438095<br>  }<br>}",
          "{<br>  \"number\": 19,<br>  \"values\": [<br>    0.7342208027839661,<br>    0.705997633934021,<br>    36.47714805603027<br>  ],<br>  \"params\": {<br>    \"mutation_method\": \"mutLinear\",<br>    \"mutation_prob\": 0.6195814823499455,<br>    \"mutation_by_deletion_rate\": 0.9003359254711417,<br>    \"mutation_rate_start\": 0.4156124180652234,<br>    \"mutation_rate_end\": 0.13608400517970787,<br>    \"crossover_method\": \"cxKPoint\",<br>    \"crossover_rate\": 0.27407931490294435,<br>    \"crossover_points\": 4,<br>    \"selection_method\": \"selTournamentWithoutReplacement\",<br>    \"tournsize\": 2,<br>    \"elitism_rate\": 0.4400539248714448,<br>    \"survival_rate\": 0.5446705976768951<br>  }<br>}",
          "{<br>  \"number\": 20,<br>  \"values\": [<br>    0.6888698935508728,<br>    0.6392642259597778,<br>    38.24952459335327<br>  ],<br>  \"params\": {<br>    \"mutation_method\": \"mutLinear\",<br>    \"mutation_prob\": 0.0943507822092402,<br>    \"mutation_by_deletion_rate\": 0.3379140322608271,<br>    \"mutation_rate_start\": 0.2535558340982569,<br>    \"mutation_rate_end\": 0.43120031859030944,<br>    \"crossover_method\": \"cxKPoint\",<br>    \"crossover_rate\": 0.07303479011363981,<br>    \"crossover_points\": 2,<br>    \"selection_method\": \"selRoulette\",<br>    \"elitism_rate\": 0.07511179147980508,<br>    \"survival_rate\": 0.69701369882658<br>  }<br>}",
          "{<br>  \"number\": 21,<br>  \"values\": [<br>    0.7742751240730286,<br>    0.7435018181800842,<br>    38.867915868759155<br>  ],<br>  \"params\": {<br>    \"mutation_method\": \"mutLinear\",<br>    \"mutation_prob\": 0.7718361976814522,<br>    \"mutation_by_deletion_rate\": 0.4254679114099146,<br>    \"mutation_rate_start\": 0.5815969402567647,<br>    \"mutation_rate_end\": 0.7000453991304378,<br>    \"crossover_method\": \"cxTwoPoint\",<br>    \"crossover_rate\": 0.5550890550957199,<br>    \"crossover_points\": 4,<br>    \"selection_method\": \"selTournament\",<br>    \"tournsize\": 4,<br>    \"elitism_rate\": 0.32233897510803344,<br>    \"survival_rate\": 0.7706058256969637<br>  }<br>}",
          "{<br>  \"number\": 22,<br>  \"values\": [<br>    0.8319792151451111,<br>    0.7838121056556702,<br>    35.689494609832764<br>  ],<br>  \"params\": {<br>    \"mutation_method\": \"mutConstant\",<br>    \"mutation_prob\": 0.8340452909855601,<br>    \"mutation_by_deletion_rate\": 0.0016011399463516929,<br>    \"mutation_rate\": 0.022278685878354354,<br>    \"crossover_method\": \"cxTwoPoint\",<br>    \"crossover_rate\": 0.23734573143427223,<br>    \"crossover_points\": 4,<br>    \"selection_method\": \"selBoltzmann\",<br>    \"boltzmann_temperature\": 0.9892904365617449,<br>    \"elitism_rate\": 0.23236945374370033,<br>    \"survival_rate\": 0.8505775635235606<br>  }<br>}",
          "{<br>  \"number\": 23,<br>  \"values\": [<br>    0.8673994541168213,<br>    0.7964959979057312,<br>    34.960737228393555<br>  ],<br>  \"params\": {<br>    \"mutation_method\": \"mutLinear\",<br>    \"mutation_prob\": 0.9972610603080143,<br>    \"mutation_by_deletion_rate\": 0.17670504237167,<br>    \"mutation_rate_start\": 0.000804960856217618,<br>    \"mutation_rate_end\": 0.0798110503467153,<br>    \"crossover_method\": \"cxKPoint\",<br>    \"crossover_rate\": 0.08560173962296976,<br>    \"crossover_points\": 1,<br>    \"selection_method\": \"selTournament\",<br>    \"tournsize\": 10,<br>    \"elitism_rate\": 0.45430397423666785,<br>    \"survival_rate\": 0.7027737504490086<br>  }<br>}",
          "{<br>  \"number\": 25,<br>  \"values\": [<br>    0.8446002006530762,<br>    0.8117538690567017,<br>    35.437535762786865<br>  ],<br>  \"params\": {<br>    \"mutation_method\": \"mutExponential\",<br>    \"mutation_prob\": 0.463775238075715,<br>    \"mutation_by_deletion_rate\": 0.10167413881467757,<br>    \"mutation_rate_start\": 0.12411583128986547,<br>    \"mutation_rate_end\": 0.30846745983006024,<br>    \"mutation_rate_degree\": 4,<br>    \"crossover_method\": \"cxUniform\",<br>    \"crossover_rate\": 0.7392593232176882,<br>    \"selection_method\": \"selBest\",<br>    \"elitism_rate\": 0.6404471913767397,<br>    \"survival_rate\": 0.8920069415689775<br>  }<br>}",
          "{<br>  \"number\": 26,<br>  \"values\": [<br>    0.581763505935669,<br>    0.564957070350647,<br>    36.82492756843567<br>  ],<br>  \"params\": {<br>    \"mutation_method\": \"mutEntropy\",<br>    \"mutation_prob\": 0.7939724637335964,<br>    \"mutation_by_deletion_rate\": 0.33211810472099046,<br>    \"mutation_rate_start\": 0.9962808346293649,<br>    \"mutation_rate_end\": 0.4659834291327136,<br>    \"crossover_method\": \"cxOnePoint\",<br>    \"crossover_rate\": 0.4083688937679444,<br>    \"selection_method\": \"selTournament\",<br>    \"tournsize\": 5,<br>    \"elitism_rate\": 0.5750422047204089,<br>    \"survival_rate\": 0.5656607271434297<br>  }<br>}",
          "{<br>  \"number\": 27,<br>  \"values\": [<br>    0.6221267580986023,<br>    0.6055234432220459,<br>    32.32112240791321<br>  ],<br>  \"params\": {<br>    \"mutation_method\": \"mutLinear\",<br>    \"mutation_prob\": 0.8868454383212858,<br>    \"mutation_by_deletion_rate\": 0.4738039926033108,<br>    \"mutation_rate_start\": 0.7809930903221188,<br>    \"mutation_rate_end\": 0.20986934958733175,<br>    \"crossover_method\": \"cxKPoint\",<br>    \"crossover_rate\": 0.2275438501837126,<br>    \"crossover_points\": 1,<br>    \"selection_method\": \"selBoltzmann\",<br>    \"boltzmann_temperature\": 0.6996898434863744,<br>    \"elitism_rate\": 0.8008861731074964,<br>    \"survival_rate\": 0.2784263574550826<br>  }<br>}",
          "{<br>  \"number\": 28,<br>  \"values\": [<br>    0.5268564820289612,<br>    0.5067627429962158,<br>    32.834874629974365<br>  ],<br>  \"params\": {<br>    \"mutation_method\": \"mutConstant\",<br>    \"mutation_prob\": 0.6052275053107888,<br>    \"mutation_by_deletion_rate\": 0.08279229578248076,<br>    \"mutation_rate\": 0.9716489926143702,<br>    \"crossover_method\": \"cxTwoPoint\",<br>    \"crossover_rate\": 0.11883357501862407,<br>    \"crossover_points\": 1,<br>    \"selection_method\": \"selStochasticUniversalSampling\",<br>    \"elitism_rate\": 0.974254460805399,<br>    \"survival_rate\": 0.9250052705732855<br>  }<br>}",
          "{<br>  \"number\": 29,<br>  \"values\": [<br>    0.7991272211074829,<br>    0.7718638181686401,<br>    33.2280912399292<br>  ],<br>  \"params\": {<br>    \"mutation_method\": \"mutEntropy\",<br>    \"mutation_prob\": 0.7308358123145066,<br>    \"mutation_by_deletion_rate\": 0.39672110736964616,<br>    \"mutation_rate_start\": 0.39010376385805373,<br>    \"mutation_rate_end\": 0.12300176978036442,<br>    \"crossover_method\": \"cxOnePoint\",<br>    \"crossover_rate\": 0.6632718370234191,<br>    \"selection_method\": \"selBest\",<br>    \"elitism_rate\": 0.7614169558392022,<br>    \"survival_rate\": 0.9792705384675913<br>  }<br>}",
          "{<br>  \"number\": 30,<br>  \"values\": [<br>    0.7315282821655273,<br>    0.6730147123336792,<br>    34.91692352294922<br>  ],<br>  \"params\": {<br>    \"mutation_method\": \"mutLinear\",<br>    \"mutation_prob\": 0.9162213328301341,<br>    \"mutation_by_deletion_rate\": 0.2689751478463883,<br>    \"mutation_rate_start\": 0.5022701594005101,<br>    \"mutation_rate_end\": 0.26426982758941125,<br>    \"crossover_method\": \"cxKPoint\",<br>    \"crossover_rate\": 0.9745502418950645,<br>    \"crossover_points\": 2,<br>    \"selection_method\": \"selNormRoulette\",<br>    \"elitism_rate\": 0.4856689745424031,<br>    \"survival_rate\": 0.460975226617091<br>  }<br>}",
          "{<br>  \"number\": 32,<br>  \"values\": [<br>    0.7039453983306885,<br>    0.6345831274986267,<br>    9.065346717834473<br>  ],<br>  \"params\": {<br>    \"mutation_method\": \"mutLinear\",<br>    \"mutation_prob\": 0.0014623594792664285,<br>    \"mutation_by_deletion_rate\": 0.1526570427109354,<br>    \"mutation_rate_start\": 0.10997596419618011,<br>    \"mutation_rate_end\": 0.8384533280385608,<br>    \"crossover_method\": \"cxUniform\",<br>    \"crossover_rate\": 0.5967452814188627,<br>    \"selection_method\": \"selTournament\",<br>    \"tournsize\": 10,<br>    \"elitism_rate\": 0.38181972200096803,<br>    \"survival_rate\": 0.8251889635274392<br>  }<br>}",
          "{<br>  \"number\": 33,<br>  \"values\": [<br>    0.827492356300354,<br>    0.7861511468887329,<br>    36.100486755371094<br>  ],<br>  \"params\": {<br>    \"mutation_method\": \"mutLinear\",<br>    \"mutation_prob\": 0.6963639348272717,<br>    \"mutation_by_deletion_rate\": 0.15130202748757354,<br>    \"mutation_rate_start\": 0.07419393614143444,<br>    \"mutation_rate_end\": 0.7032097077432694,<br>    \"crossover_method\": \"cxUniform\",<br>    \"crossover_rate\": 0.5748600761035493,<br>    \"selection_method\": \"selTournament\",<br>    \"tournsize\": 10,<br>    \"elitism_rate\": 0.3417164976169443,<br>    \"survival_rate\": 0.8216712542393412<br>  }<br>}",
          "{<br>  \"number\": 34,<br>  \"values\": [<br>    0.5610727667808533,<br>    0.5416243433952331,<br>    10.967486381530762<br>  ],<br>  \"params\": {<br>    \"mutation_method\": \"mutExponential\",<br>    \"mutation_prob\": 0.006099679880187408,<br>    \"mutation_by_deletion_rate\": 0.6051531857025192,<br>    \"mutation_rate_start\": 0.30088322770467524,<br>    \"mutation_rate_end\": 0.881939021040194,<br>    \"mutation_rate_degree\": 2,<br>    \"crossover_method\": \"cxUniform\",<br>    \"crossover_rate\": 0.3213191209867731,<br>    \"selection_method\": \"selTournament\",<br>    \"tournsize\": 8,<br>    \"elitism_rate\": 0.5280406858283941,<br>    \"survival_rate\": 0.6705088982635847<br>  }<br>}",
          "{<br>  \"number\": 35,<br>  \"values\": [<br>    0.6824824810028076,<br>    0.6554707765579224,<br>    32.37101864814758<br>  ],<br>  \"params\": {<br>    \"mutation_method\": \"mutLinear\",<br>    \"mutation_prob\": 0.2212683042589294,<br>    \"mutation_by_deletion_rate\": 0.783271522254354,<br>    \"mutation_rate_start\": 0.07480088859195458,<br>    \"mutation_rate_end\": 0.8535560651923803,<br>    \"crossover_method\": \"cxUniform\",<br>    \"crossover_rate\": 0.057721670749054835,<br>    \"selection_method\": \"selRoulette\",<br>    \"elitism_rate\": 0.38842186983103766,<br>    \"survival_rate\": 0.8311543626602782<br>  }<br>}",
          "{<br>  \"number\": 36,<br>  \"values\": [<br>    0.7771769165992737,<br>    0.7364848375320434,<br>    30.925816535949707<br>  ],<br>  \"params\": {<br>    \"mutation_method\": \"mutLinear\",<br>    \"mutation_prob\": 0.463041030934073,<br>    \"mutation_by_deletion_rate\": 0.11343013259699453,<br>    \"mutation_rate_start\": 0.23403300436025595,<br>    \"mutation_rate_end\": 0.09656494857713212,<br>    \"crossover_method\": \"cxKPoint\",<br>    \"crossover_rate\": 0.47127591903124333,<br>    \"crossover_points\": 1,<br>    \"selection_method\": \"selTournamentWithoutReplacement\",<br>    \"tournsize\": 9,<br>    \"elitism_rate\": 0.7149242767355064,<br>    \"survival_rate\": 0.5978139786869099<br>  }<br>}",
          "{<br>  \"number\": 37,<br>  \"values\": [<br>    0.7776364088058472,<br>    0.7443564295768738,<br>    38.89921522140503<br>  ],<br>  \"params\": {<br>    \"mutation_method\": \"mutEntropy\",<br>    \"mutation_prob\": 0.8599952731486534,<br>    \"mutation_by_deletion_rate\": 0.46151387722997206,<br>    \"mutation_rate_start\": 0.17407275532056773,<br>    \"mutation_rate_end\": 0.18714059715758402,<br>    \"crossover_method\": \"cxOnePoint\",<br>    \"crossover_rate\": 0.3492580012406005,<br>    \"selection_method\": \"selRandom\",<br>    \"elitism_rate\": 0.2836299877184763,<br>    \"survival_rate\": 0.33401794809687424<br>  }<br>}",
          "{<br>  \"number\": 38,<br>  \"values\": [<br>    0.654380202293396,<br>    0.6372327446937561,<br>    34.239696741104126<br>  ],<br>  \"params\": {<br>    \"mutation_method\": \"mutConstant\",<br>    \"mutation_prob\": 0.39810690383474273,<br>    \"mutation_by_deletion_rate\": 0.34372588434363793,<br>    \"mutation_rate\": 0.5396643942582329,<br>    \"crossover_method\": \"cxKPoint\",<br>    \"crossover_rate\": 0.7942373076912052,<br>    \"crossover_points\": 2,<br>    \"selection_method\": \"selStochasticUniversalSampling\",<br>    \"elitism_rate\": 0.3938812394557551,<br>    \"survival_rate\": 0.9316366255005377<br>  }<br>}",
          "{<br>  \"number\": 39,<br>  \"values\": [<br>    0.6863411068916321,<br>    0.671571695804596,<br>    36.83689069747925<br>  ],<br>  \"params\": {<br>    \"mutation_method\": \"mutExponential\",<br>    \"mutation_prob\": 0.931728049428689,<br>    \"mutation_by_deletion_rate\": 0.2589894618699343,<br>    \"mutation_rate_start\": 0.3365933621358626,<br>    \"mutation_rate_end\": 0.8070426240499147,<br>    \"mutation_rate_degree\": 3,<br>    \"crossover_method\": \"cxTwoPoint\",<br>    \"crossover_rate\": 0.6504146724650745,<br>    \"crossover_points\": 1,<br>    \"selection_method\": \"selNormRoulette\",<br>    \"elitism_rate\": 0.5399543518785768,<br>    \"survival_rate\": 0.728594911254021<br>  }<br>}",
          "{<br>  \"number\": 40,<br>  \"values\": [<br>    0.7159580588340759,<br>    0.6311599254608155,<br>    30.973251819610596<br>  ],<br>  \"params\": {<br>    \"mutation_method\": \"mutLinear\",<br>    \"mutation_prob\": 0.18606768709484578,<br>    \"mutation_by_deletion_rate\": 0.004363200005122803,<br>    \"mutation_rate_start\": 0.4336379385564314,<br>    \"mutation_rate_end\": 0.5390332779580302,<br>    \"crossover_method\": \"cxUniform\",<br>    \"crossover_rate\": 0.284282940182501,<br>    \"selection_method\": \"selTournament\",<br>    \"tournsize\": 1,<br>    \"elitism_rate\": 0.5968091852713969,<br>    \"survival_rate\": 0.61988825048517<br>  }<br>}",
          "{<br>  \"number\": 41,<br>  \"values\": [<br>    0.7473331093788147,<br>    0.707270348072052,<br>    31.74371314048767<br>  ],<br>  \"params\": {<br>    \"mutation_method\": \"mutConstant\",<br>    \"mutation_prob\": 0.8161277605465931,<br>    \"mutation_by_deletion_rate\": 0.17946726275183902,<br>    \"mutation_rate\": 0.30684202161398555,<br>    \"crossover_method\": \"cxKPoint\",<br>    \"crossover_rate\": 0.4862807115242817,<br>    \"crossover_points\": 3,<br>    \"selection_method\": \"selTournament\",<br>    \"tournsize\": 9,<br>    \"elitism_rate\": 0.6800408133157438,<br>    \"survival_rate\": 0.1157903913602415<br>  }<br>}",
          "{<br>  \"number\": 42,<br>  \"values\": [<br>    0.8186487555503845,<br>    0.7788805961608887,<br>    35.9852192401886<br>  ],<br>  \"params\": {<br>    \"mutation_method\": \"mutLinear\",<br>    \"mutation_prob\": 0.9145200309659494,<br>    \"mutation_by_deletion_rate\": 0.06914546843880029,<br>    \"mutation_rate_start\": 0.039254979324673395,<br>    \"mutation_rate_end\": 0.3857856716406838,<br>    \"crossover_method\": \"cxKPoint\",<br>    \"crossover_rate\": 0.05147627412036502,<br>    \"crossover_points\": 2,<br>    \"selection_method\": \"selBest\",<br>    \"elitism_rate\": 0.4635465697802953,<br>    \"survival_rate\": 0.7640267263587476<br>  }<br>}",
          "{<br>  \"number\": 43,<br>  \"values\": [<br>    0.7312736511230469,<br>    0.6758518695831299,<br>    30.359400510787964<br>  ],<br>  \"params\": {<br>    \"mutation_method\": \"mutLinear\",<br>    \"mutation_prob\": 0.7754989627999205,<br>    \"mutation_by_deletion_rate\": 0.22882171167672297,<br>    \"mutation_rate_start\": 0.13252330290695594,<br>    \"mutation_rate_end\": 0.2676430591595018,<br>    \"crossover_method\": \"cxTwoPoint\",<br>    \"crossover_rate\": 0.5546351165157327,<br>    \"crossover_points\": 1,<br>    \"selection_method\": \"selTournament\",<br>    \"tournsize\": 10,<br>    \"elitism_rate\": 0.8870379911641919,<br>    \"survival_rate\": 0.8715509880427355<br>  }<br>}",
          "{<br>  \"number\": 44,<br>  \"values\": [<br>    0.6001713275909424,<br>    0.572340977191925,<br>    39.66998481750488<br>  ],<br>  \"params\": {<br>    \"mutation_method\": \"mutEntropy\",<br>    \"mutation_prob\": 0.5229875610057956,<br>    \"mutation_by_deletion_rate\": 0.3008277839496161,<br>    \"mutation_rate_start\": 0.8128944152527391,<br>    \"mutation_rate_end\": 0.9836030460895868,<br>    \"crossover_method\": \"cxKPoint\",<br>    \"crossover_rate\": 0.4312752126380688,<br>    \"crossover_points\": 3,<br>    \"selection_method\": \"selRoulette\",<br>    \"elitism_rate\": 0.26576182642902274,<br>    \"survival_rate\": 0.9999175828883891<br>  }<br>}",
          "{<br>  \"number\": 45,<br>  \"values\": [<br>    0.8431911468505859,<br>    0.7808421611785888,<br>    34.149587631225586<br>  ],<br>  \"params\": {<br>    \"mutation_method\": \"mutLinear\",<br>    \"mutation_prob\": 0.8379350463825421,<br>    \"mutation_by_deletion_rate\": 0.11793481973769383,<br>    \"mutation_rate_start\": 0.20542324637761913,<br>    \"mutation_rate_end\": 0.08287222424425633,<br>    \"crossover_method\": \"cxUniform\",<br>    \"crossover_rate\": 0.1082964704348156,<br>    \"selection_method\": \"selTournament\",<br>    \"tournsize\": 9,<br>    \"elitism_rate\": 0.6042169453092883,<br>    \"survival_rate\": 0.8005004487535287<br>  }<br>}",
          "{<br>  \"number\": 46,<br>  \"values\": [<br>    0.6889136433601379,<br>    0.6078521370887756,<br>    34.06014442443848<br>  ],<br>  \"params\": {<br>    \"mutation_method\": \"mutConstant\",<br>    \"mutation_prob\": 0.34876045852141047,<br>    \"mutation_by_deletion_rate\": 0.1532639131327535,<br>    \"mutation_rate\": 0.7289401296235,<br>    \"crossover_method\": \"cxKPoint\",<br>    \"crossover_rate\": 0.6108923701666209,<br>    \"crossover_points\": 1,<br>    \"selection_method\": \"selTournamentWithoutReplacement\",<br>    \"tournsize\": 7,<br>    \"elitism_rate\": 0.42490414558933176,<br>    \"survival_rate\": 0.9336575814832099<br>  }<br>}",
          "{<br>  \"number\": 47,<br>  \"values\": [<br>    0.8410845994949341,<br>    0.7910833120346069,<br>    36.20443105697632<br>  ],<br>  \"params\": {<br>    \"mutation_method\": \"mutLinear\",<br>    \"mutation_prob\": 0.6394718523411634,<br>    \"mutation_by_deletion_rate\": 0.2216779140903231,<br>    \"mutation_rate_start\": 0.059616112038114046,<br>    \"mutation_rate_end\": 0.05685418310101994,<br>    \"crossover_method\": \"cxOnePoint\",<br>    \"crossover_rate\": 0.187229639138486,<br>    \"selection_method\": \"selTournament\",<br>    \"tournsize\": 10,<br>    \"elitism_rate\": 0.35453330924003607,<br>    \"survival_rate\": 0.005675611919139012<br>  }<br>}",
          "{<br>  \"number\": 48,<br>  \"values\": [<br>    0.6756318807601929,<br>    0.6636139273643493,<br>    36.92072129249573<br>  ],<br>  \"params\": {<br>    \"mutation_method\": \"mutLinear\",<br>    \"mutation_prob\": 0.9576899028724433,<br>    \"mutation_by_deletion_rate\": 0.04191443538263906,<br>    \"mutation_rate_start\": 0.12804890669698527,<br>    \"mutation_rate_end\": 0.35165447618765333,<br>    \"crossover_method\": \"cxKPoint\",<br>    \"crossover_rate\": 0.042417598317544325,<br>    \"crossover_points\": 1,<br>    \"selection_method\": \"selRandom\",<br>    \"elitism_rate\": 0.5113071375432007,<br>    \"survival_rate\": 0.7315371644674498<br>  }<br>}",
          "{<br>  \"number\": 49,<br>  \"values\": [<br>    0.6365086436271667,<br>    0.6165026307106019,<br>    44.36992931365967<br>  ],<br>  \"params\": {<br>    \"mutation_method\": \"mutLinear\",<br>    \"mutation_prob\": 0.8759799480894866,<br>    \"mutation_by_deletion_rate\": 0.8377800509305462,<br>    \"mutation_rate_start\": 0.00020863416896674258,<br>    \"mutation_rate_end\": 0.1595599853126441,<br>    \"crossover_method\": \"cxKPoint\",<br>    \"crossover_rate\": 0.1389905397482766,<br>    \"crossover_points\": 2,<br>    \"selection_method\": \"selStochasticUniversalSampling\",<br>    \"elitism_rate\": 0.006767582682113471,<br>    \"survival_rate\": 0.6608375039934543<br>  }<br>}",
          "{<br>  \"number\": 50,<br>  \"values\": [<br>    0.7879999876022339,<br>    0.7271000146865845,<br>    36.93705725669861<br>  ],<br>  \"params\": {<br>    \"mutation_method\": \"mutExponential\",<br>    \"mutation_prob\": 0.1657851043646298,<br>    \"mutation_by_deletion_rate\": 0.3509584257388156,<br>    \"mutation_rate_start\": 0.6884137468576331,<br>    \"mutation_rate_end\": 0.7658256044419851,<br>    \"mutation_rate_degree\": 3,<br>    \"crossover_method\": \"cxUniform\",<br>    \"crossover_rate\": 0.8538276655890157,<br>    \"selection_method\": \"selTournament\",<br>    \"tournsize\": 7,<br>    \"elitism_rate\": 0.20403540505767168,<br>    \"survival_rate\": 0.7595040707481207<br>  }<br>}",
          "{<br>  \"number\": 52,<br>  \"values\": [<br>    0.7397379279136658,<br>    0.708776593208313,<br>    33.8101692199707<br>  ],<br>  \"params\": {<br>    \"mutation_method\": \"mutLinear\",<br>    \"mutation_prob\": 0.5756174993679118,<br>    \"mutation_by_deletion_rate\": 0.9852641969022281,<br>    \"mutation_rate_start\": 0.36962269344470816,<br>    \"mutation_rate_end\": 0.05105598066454019,<br>    \"crossover_method\": \"cxKPoint\",<br>    \"crossover_rate\": 0.693902501056183,<br>    \"crossover_points\": 1,<br>    \"selection_method\": \"selTournament\",<br>    \"tournsize\": 9,<br>    \"elitism_rate\": 0.718999643440627,<br>    \"survival_rate\": 0.9105068780171406<br>  }<br>}",
          "{<br>  \"number\": 53,<br>  \"values\": [<br>    0.7891584634780884,<br>    0.7349591135978699,<br>    36.99980401992798<br>  ],<br>  \"params\": {<br>    \"mutation_method\": \"mutLinear\",<br>    \"mutation_prob\": 0.2720924548784479,<br>    \"mutation_by_deletion_rate\": 0.19442037165330134,<br>    \"mutation_rate_start\": 0.2963463362918685,<br>    \"mutation_rate_end\": 0.5975644740033781,<br>    \"crossover_method\": \"cxTwoPoint\",<br>    \"crossover_rate\": 0.3818705121123649,<br>    \"crossover_points\": 4,<br>    \"selection_method\": \"selBoltzmann\",<br>    \"boltzmann_temperature\": 0.0578534077031827,<br>    \"elitism_rate\": 0.10460767674435478,<br>    \"survival_rate\": 0.8703984303668656<br>  }<br>}",
          "{<br>  \"number\": 54,<br>  \"values\": [<br>    0.7070520520210266,<br>    0.6644346594810486,<br>    36.030149936676025<br>  ],<br>  \"params\": {<br>    \"mutation_method\": \"mutLinear\",<br>    \"mutation_prob\": 0.8881998907827173,<br>    \"mutation_by_deletion_rate\": 0.6563669158369068,<br>    \"mutation_rate_start\": 0.10345241081753331,<br>    \"mutation_rate_end\": 0.30104651746335526,<br>    \"crossover_method\": \"cxKPoint\",<br>    \"crossover_rate\": 0.09013658721191413,<br>    \"crossover_points\": 1,<br>    \"selection_method\": \"selNormRoulette\",<br>    \"elitism_rate\": 0.623024620531283,<br>    \"survival_rate\": 0.5098234309483838<br>  }<br>}",
          "{<br>  \"number\": 55,<br>  \"values\": [<br>    0.7364332675933838,<br>    0.7123331427574158,<br>    36.32043433189392<br>  ],<br>  \"params\": {<br>    \"mutation_method\": \"mutConstant\",<br>    \"mutation_prob\": 0.993572807883533,<br>    \"mutation_by_deletion_rate\": 0.2959958412619087,<br>    \"mutation_rate\": 0.27471592052564586,<br>    \"crossover_method\": \"cxKPoint\",<br>    \"crossover_rate\": 0.18380463698622762,<br>    \"crossover_points\": 2,<br>    \"selection_method\": \"selTournament\",<br>    \"tournsize\": 10,<br>    \"elitism_rate\": 0.6775422709152031,<br>    \"survival_rate\": 0.7745009794883313<br>  }<br>}",
          "{<br>  \"number\": 56,<br>  \"values\": [<br>    0.7811287641525269,<br>    0.7625243186950683,<br>    39.224778175354004<br>  ],<br>  \"params\": {<br>    \"mutation_method\": \"mutEntropy\",<br>    \"mutation_prob\": 0.6865678417652218,<br>    \"mutation_by_deletion_rate\": 0.13729007461410475,<br>    \"mutation_rate_start\": 0.04204518120125504,<br>    \"mutation_rate_end\": 0.23253725468293715,<br>    \"crossover_method\": \"cxOnePoint\",<br>    \"crossover_rate\": 0.00975405003621925,<br>    \"selection_method\": \"selTournament\",<br>    \"tournsize\": 8,<br>    \"elitism_rate\": 0.3085093402985588,<br>    \"survival_rate\": 0.9668840757321682<br>  }<br>}",
          "{<br>  \"number\": 57,<br>  \"values\": [<br>    0.8338178396224976,<br>    0.7573147654533386,<br>    38.58611798286438<br>  ],<br>  \"params\": {<br>    \"mutation_method\": \"mutLinear\",<br>    \"mutation_prob\": 0.4324462256807633,<br>    \"mutation_by_deletion_rate\": 0.2545311250797209,<br>    \"mutation_rate_start\": 0.4694700554742385,<br>    \"mutation_rate_end\": 0.17224232498755745,<br>    \"crossover_method\": \"cxKPoint\",<br>    \"crossover_rate\": 0.5194792327529154,<br>    \"crossover_points\": 3,<br>    \"selection_method\": \"selBest\",<br>    \"elitism_rate\": 0.1673964005865306,<br>    \"survival_rate\": 0.5766424812481666<br>  }<br>}",
          "{<br>  \"number\": 58,<br>  \"values\": [<br>    0.8410730361938477,<br>    0.8142565727233887,<br>    44.18554925918579<br>  ],<br>  \"params\": {<br>    \"mutation_method\": \"mutLinear\",<br>    \"mutation_prob\": 0.7466737255818626,<br>    \"mutation_by_deletion_rate\": 0.06434469602464887,<br>    \"mutation_rate_start\": 0.5964187500559917,<br>    \"mutation_rate_end\": 0.10806100203228483,<br>    \"crossover_method\": \"cxUniform\",<br>    \"crossover_rate\": 0.25401953200371813,<br>    \"selection_method\": \"selTournamentWithoutReplacement\",<br>    \"tournsize\": 5,<br>    \"elitism_rate\": 0.053276686305239185,<br>    \"survival_rate\": 0.8398030416694591<br>  }<br>}",
          "{<br>  \"number\": 59,<br>  \"values\": [<br>    0.7159609794616699,<br>    0.6445376753807068,<br>    38.5636785030365<br>  ],<br>  \"params\": {<br>    \"mutation_method\": \"mutExponential\",<br>    \"mutation_prob\": 0.8173187704879751,<br>    \"mutation_by_deletion_rate\": 0.525406982925554,<br>    \"mutation_rate_start\": 0.2679696546732775,<br>    \"mutation_rate_end\": 0.4994093337670635,<br>    \"mutation_rate_degree\": 2,<br>    \"crossover_method\": \"cxTwoPoint\",<br>    \"crossover_rate\": 0.7382167596379878,<br>    \"crossover_points\": 1,<br>    \"selection_method\": \"selRoulette\",<br>    \"elitism_rate\": 0.5544768218420898,<br>    \"survival_rate\": 0.24418172533903026<br>  }<br>}",
          "{<br>  \"number\": 60,<br>  \"values\": [<br>    0.733029842376709,<br>    0.7041908860206604,<br>    44.6192946434021<br>  ],<br>  \"params\": {<br>    \"mutation_method\": \"mutLinear\",<br>    \"mutation_prob\": 0.9365845742781858,<br>    \"mutation_by_deletion_rate\": 0.38748415488988774,<br>    \"mutation_rate_start\": 0.18998937495594395,<br>    \"mutation_rate_end\": 0.6383785891878189,<br>    \"crossover_method\": \"cxKPoint\",<br>    \"crossover_rate\": 0.12809307374942314,<br>    \"crossover_points\": 2,<br>    \"selection_method\": \"selTournament\",<br>    \"tournsize\": 9,<br>    \"elitism_rate\": 0.2347522919316892,<br>    \"survival_rate\": 0.11815497136926412<br>  }<br>}",
          "{<br>  \"number\": 61,<br>  \"values\": [<br>    0.5519899129867554,<br>    0.5217427492141724,<br>    35.00260353088379<br>  ],<br>  \"params\": {<br>    \"mutation_method\": \"mutConstant\",<br>    \"mutation_prob\": 0.08024898101789536,<br>    \"mutation_by_deletion_rate\": 0.4291076465443041,<br>    \"mutation_rate\": 0.7576440936326975,<br>    \"crossover_method\": \"cxUniform\",<br>    \"crossover_rate\": 0.001345634345170611,<br>    \"selection_method\": \"selTournament\",<br>    \"tournsize\": 8,<br>    \"elitism_rate\": 0.36666870414933184,<br>    \"survival_rate\": 0.7000136479081406<br>  }<br>}",
          "{<br>  \"number\": 62,<br>  \"values\": [<br>    0.824042797088623,<br>    0.7514571070671081,<br>    36.07604956626892<br>  ],<br>  \"params\": {<br>    \"mutation_method\": \"mutLinear\",<br>    \"mutation_prob\": 0.5260897624122647,<br>    \"mutation_by_deletion_rate\": 0.21573646042786088,<br>    \"mutation_rate_start\": 0.23205104391702272,<br>    \"mutation_rate_end\": 0.003171353349845085,<br>    \"crossover_method\": \"cxUniform\",<br>    \"crossover_rate\": 0.03554322697719742,<br>    \"selection_method\": \"selBoltzmann\",<br>    \"boltzmann_temperature\": 0.4617864243642624,<br>    \"elitism_rate\": 0.4157125476205128,<br>    \"survival_rate\": 0.4784356434080182<br>  }<br>}",
          "{<br>  \"number\": 64,<br>  \"values\": [<br>    0.7852331399917603,<br>    0.7389002919197083,<br>    37.22005891799927<br>  ],<br>  \"params\": {<br>    \"mutation_method\": \"mutEntropy\",<br>    \"mutation_prob\": 0.30993904634624636,<br>    \"mutation_by_deletion_rate\": 0.29891965985861496,<br>    \"mutation_rate_start\": 0.5815771881848601,<br>    \"mutation_rate_end\": 0.42561035523686314,<br>    \"crossover_method\": \"cxTwoPoint\",<br>    \"crossover_rate\": 0.6531554752115676,<br>    \"crossover_points\": 1,<br>    \"selection_method\": \"selBest\",<br>    \"elitism_rate\": 0.19039613135371936,<br>    \"survival_rate\": 0.3876590070862467<br>  }<br>}",
          "{<br>  \"number\": 65,<br>  \"values\": [<br>    0.7198595404624939,<br>    0.678218412399292,<br>    36.39551258087158<br>  ],<br>  \"params\": {<br>    \"mutation_method\": \"mutEntropy\",<br>    \"mutation_prob\": 0.043588013531310296,<br>    \"mutation_by_deletion_rate\": 0.3805548249941819,<br>    \"mutation_rate_start\": 0.6305039074512574,<br>    \"mutation_rate_end\": 0.32450608434706635,<br>    \"crossover_method\": \"cxTwoPoint\",<br>    \"crossover_rate\": 0.08721281364783584,<br>    \"crossover_points\": 1,<br>    \"selection_method\": \"selBest\",<br>    \"elitism_rate\": 0.055824427478387006,<br>    \"survival_rate\": 0.337502316035189<br>  }<br>}",
          "{<br>  \"number\": 66,<br>  \"values\": [<br>    0.7470958232879639,<br>    0.6966751456260681,<br>    36.19727110862732<br>  ],<br>  \"params\": {<br>    \"mutation_method\": \"mutEntropy\",<br>    \"mutation_prob\": 0.14893327763797976,<br>    \"mutation_by_deletion_rate\": 0.31270971863155883,<br>    \"mutation_rate_start\": 0.5366553706159896,<br>    \"mutation_rate_end\": 0.23719849527852327,<br>    \"crossover_method\": \"cxTwoPoint\",<br>    \"crossover_rate\": 0.0012941277659093454,<br>    \"crossover_points\": 1,<br>    \"selection_method\": \"selBest\",<br>    \"elitism_rate\": 0.2927070046397523,<br>    \"survival_rate\": 0.36236117363241155<br>  }<br>}",
          "{<br>  \"number\": 67,<br>  \"values\": [<br>    0.8324827551841736,<br>    0.7940099000930786,<br>    42.32256484031677<br>  ],<br>  \"params\": {<br>    \"mutation_method\": \"mutEntropy\",<br>    \"mutation_prob\": 0.6743116541751529,<br>    \"mutation_by_deletion_rate\": 0.25748801030689866,<br>    \"mutation_rate_start\": 0.44178924581897155,<br>    \"mutation_rate_end\": 0.3767939059372214,<br>    \"crossover_method\": \"cxTwoPoint\",<br>    \"crossover_rate\": 0.542091885786666,<br>    \"crossover_points\": 4,<br>    \"selection_method\": \"selBest\",<br>    \"elitism_rate\": 0.14901950011486298,<br>    \"survival_rate\": 0.5442907735096199<br>  }<br>}",
          "{<br>  \"number\": 68,<br>  \"values\": [<br>    0.6624289751052856,<br>    0.6153616666793823,<br>    42.41461539268494<br>  ],<br>  \"params\": {<br>    \"mutation_method\": \"mutEntropy\",<br>    \"mutation_prob\": 0.7246960289560243,<br>    \"mutation_by_deletion_rate\": 0.35624868480756805,<br>    \"mutation_rate_start\": 0.5430245298060379,<br>    \"mutation_rate_end\": 0.5109703412304993,<br>    \"crossover_method\": \"cxTwoPoint\",<br>    \"crossover_rate\": 0.050258836011490726,<br>    \"crossover_points\": 1,<br>    \"selection_method\": \"selRandom\",<br>    \"elitism_rate\": 0.11831785626526853,<br>    \"survival_rate\": 0.43922023457624015<br>  }<br>}",
          "{<br>  \"number\": 69,<br>  \"values\": [<br>    0.8179866671562195,<br>    0.7718769550323487,<br>    34.288644552230835<br>  ],<br>  \"params\": {<br>    \"mutation_method\": \"mutEntropy\",<br>    \"mutation_prob\": 0.23999408600629013,<br>    \"mutation_by_deletion_rate\": 0.24179241211606917,<br>    \"mutation_rate_start\": 0.7092414836115971,<br>    \"mutation_rate_end\": 0.03405549045672206,<br>    \"crossover_method\": \"cxOnePoint\",<br>    \"crossover_rate\": 0.22092040395665924,<br>    \"selection_method\": \"selBest\",<br>    \"elitism_rate\": 0.4814637482751976,<br>    \"survival_rate\": 0.19874954195468075<br>  }<br>}",
          "{<br>  \"number\": 70,<br>  \"values\": [<br>    0.7827468514442444,<br>    0.7519469380378723,<br>    37.323917388916016<br>  ],<br>  \"params\": {<br>    \"mutation_method\": \"mutExponential\",<br>    \"mutation_prob\": 0.12663472853792562,<br>    \"mutation_by_deletion_rate\": 0.20539003078632556,<br>    \"mutation_rate_start\": 0.3729761812868779,<br>    \"mutation_rate_end\": 0.4220637171239847,<br>    \"mutation_rate_degree\": 4,<br>    \"crossover_method\": \"cxTwoPoint\",<br>    \"crossover_rate\": 0.9922278669768525,<br>    \"crossover_points\": 1,<br>    \"selection_method\": \"selStochasticUniversalSampling\",<br>    \"elitism_rate\": 0.22535951790507813,<br>    \"survival_rate\": 0.2902683840072028<br>  }<br>}",
          "{<br>  \"number\": 71,<br>  \"values\": [<br>    0.7092493772506714,<br>    0.6851785898208618,<br>    47.41383123397827<br>  ],<br>  \"params\": {<br>    \"mutation_method\": \"mutEntropy\",<br>    \"mutation_prob\": 0.9640664577028335,<br>    \"mutation_by_deletion_rate\": 0.2773556653695439,<br>    \"mutation_rate_start\": 0.4713078594790372,<br>    \"mutation_rate_end\": 0.03473588063592447,<br>    \"crossover_method\": \"cxKPoint\",<br>    \"crossover_rate\": 0.03054354740701666,<br>    \"crossover_points\": 4,<br>    \"selection_method\": \"selBest\",<br>    \"elitism_rate\": 0.08395299826228808,<br>    \"survival_rate\": 0.41588202324978596<br>  }<br>}",
          "{<br>  \"number\": 72,<br>  \"values\": [<br>    0.7266479730606079,<br>    0.6980661630630494,<br>    39.74447989463806<br>  ],<br>  \"params\": {<br>    \"mutation_method\": \"mutConstant\",<br>    \"mutation_prob\": 0.5921392744414546,<br>    \"mutation_by_deletion_rate\": 0.17732518469052544,<br>    \"mutation_rate\": 0.2711283234127328,<br>    \"crossover_method\": \"cxKPoint\",<br>    \"crossover_rate\": 0.5873150549941661,<br>    \"crossover_points\": 3,<br>    \"selection_method\": \"selNormRoulette\",<br>    \"elitism_rate\": 0.31711490051599933,<br>    \"survival_rate\": 0.6239965801470732<br>  }<br>}",
          "{<br>  \"number\": 73,<br>  \"values\": [<br>    0.6077612042427063,<br>    0.5771896123886109,<br>    41.43715453147888<br>  ],<br>  \"params\": {<br>    \"mutation_method\": \"mutEntropy\",<br>    \"mutation_prob\": 0.4981467271869528,<br>    \"mutation_by_deletion_rate\": 0.32031968659106713,<br>    \"mutation_rate_start\": 0.841124017547996,<br>    \"mutation_rate_end\": 0.9248010224016813,<br>    \"crossover_method\": \"cxKPoint\",<br>    \"crossover_rate\": 0.785713879553521,<br>    \"crossover_points\": 1,<br>    \"selection_method\": \"selTournament\",<br>    \"tournsize\": 3,<br>    \"elitism_rate\": 0.04156030942796441,<br>    \"survival_rate\": 0.6780780527824949<br>  }<br>}",
          "{<br>  \"number\": 74,<br>  \"values\": [<br>    0.5858001708984375,<br>    0.5717511415481568,<br>    32.519243001937866<br>  ],<br>  \"params\": {<br>    \"mutation_method\": \"mutLinear\",<br>    \"mutation_prob\": 0.4083272068336692,<br>    \"mutation_by_deletion_rate\": 0.45060991692732866,<br>    \"mutation_rate_start\": 0.9055278800592029,<br>    \"mutation_rate_end\": 0.12805364363671187,<br>    \"crossover_method\": \"cxTwoPoint\",<br>    \"crossover_rate\": 0.4548489466815071,<br>    \"crossover_points\": 4,<br>    \"selection_method\": \"selRoulette\",<br>    \"elitism_rate\": 0.9142516934328171,<br>    \"survival_rate\": 0.5343589792934912<br>  }<br>}",
          "{<br>  \"number\": 75,<br>  \"values\": [<br>    0.6921095848083496,<br>    0.6553534865379333,<br>    33.56611752510071<br>  ],<br>  \"params\": {<br>    \"mutation_method\": \"mutLinear\",<br>    \"mutation_prob\": 0.7900024870964848,<br>    \"mutation_by_deletion_rate\": 0.7503225900199316,<br>    \"mutation_rate_start\": 0.3319799000460807,<br>    \"mutation_rate_end\": 0.27816467184202437,<br>    \"crossover_method\": \"cxKPoint\",<br>    \"crossover_rate\": 0.10122035879408925,<br>    \"crossover_points\": 1,<br>    \"selection_method\": \"selTournamentWithoutReplacement\",<br>    \"tournsize\": 9,<br>    \"elitism_rate\": 0.8026399969605995,<br>    \"survival_rate\": 0.05284469750527199<br>  }<br>}",
          "{<br>  \"number\": 76,<br>  \"values\": [<br>    0.6793094873428345,<br>    0.6559566617012024,<br>    35.463175535202026<br>  ],<br>  \"params\": {<br>    \"mutation_method\": \"mutEntropy\",<br>    \"mutation_prob\": 0.33662036082528685,<br>    \"mutation_by_deletion_rate\": 0.3682313671482278,<br>    \"mutation_rate_start\": 0.41262297097297684,<br>    \"mutation_rate_end\": 0.47153270421065024,<br>    \"crossover_method\": \"cxKPoint\",<br>    \"crossover_rate\": 0.15162027203627582,<br>    \"crossover_points\": 1,<br>    \"selection_method\": \"selTournament\",<br>    \"tournsize\": 8,<br>    \"elitism_rate\": 0.44093596600733087,<br>    \"survival_rate\": 0.7327753596294881<br>  }<br>}",
          "{<br>  \"number\": 77,<br>  \"values\": [<br>    0.800360918045044,<br>    0.7521824359893798,<br>    40.749242544174194<br>  ],<br>  \"params\": {<br>    \"mutation_method\": \"mutExponential\",<br>    \"mutation_prob\": 0.8936387986515462,<br>    \"mutation_by_deletion_rate\": 0.1911088341051281,<br>    \"mutation_rate_start\": 0.6207465589818093,<br>    \"mutation_rate_end\": 0.5757252747266716,<br>    \"mutation_rate_degree\": 2,<br>    \"crossover_method\": \"cxTwoPoint\",<br>    \"crossover_rate\": 0.6902428674974508,<br>    \"crossover_points\": 4,<br>    \"selection_method\": \"selBest\",<br>    \"elitism_rate\": 0.3379757148480517,<br>    \"survival_rate\": 0.7997549373631402<br>  }<br>}",
          "{<br>  \"number\": 78,<br>  \"values\": [<br>    0.7296648025512695,<br>    0.7030602693557739,<br>    40.77132058143616<br>  ],<br>  \"params\": {<br>    \"mutation_method\": \"mutConstant\",<br>    \"mutation_prob\": 0.6438423815694417,<br>    \"mutation_by_deletion_rate\": 0.5929023922755903,<br>    \"mutation_rate\": 0.7551381045218448,<br>    \"crossover_method\": \"cxOnePoint\",<br>    \"crossover_rate\": 0.6359400524829846,<br>    \"selection_method\": \"selBoltzmann\",<br>    \"boltzmann_temperature\": 0.42103510733634,<br>    \"elitism_rate\": 0.26754336007181556,<br>    \"survival_rate\": 0.5965252935659502<br>  }<br>}",
          "{<br>  \"number\": 79,<br>  \"values\": [<br>    0.7290562987327576,<br>    0.7102700710296631,<br>    43.51756739616394<br>  ],<br>  \"params\": {<br>    \"mutation_method\": \"mutLinear\",<br>    \"mutation_prob\": 0.9696600571502234,<br>    \"mutation_by_deletion_rate\": 0.10166318077618028,<br>    \"mutation_rate_start\": 0.16360143881845216,<br>    \"mutation_rate_end\": 0.20599763411442018,<br>    \"crossover_method\": \"cxKPoint\",<br>    \"crossover_rate\": 0.06665501458467415,<br>    \"crossover_points\": 1,<br>    \"selection_method\": \"selRandom\",<br>    \"elitism_rate\": 0.15238900843674003,<br>    \"survival_rate\": 0.48570720212231033<br>  }<br>}",
          "{<br>  \"number\": 80,<br>  \"values\": [<br>    0.5368230938911438,<br>    0.5299887895584107,<br>    29.38054132461548<br>  ],<br>  \"params\": {<br>    \"mutation_method\": \"mutLinear\",<br>    \"mutation_prob\": 0.85357870407898,<br>    \"mutation_by_deletion_rate\": 0.4126200389900489,<br>    \"mutation_rate_start\": 0.5266442205268975,<br>    \"mutation_rate_end\": 0.1523496144199017,<br>    \"crossover_method\": \"cxKPoint\",<br>    \"crossover_rate\": 0.028238352133316783,<br>    \"crossover_points\": 2,<br>    \"selection_method\": \"selTournament\",<br>    \"tournsize\": 9,<br>    \"elitism_rate\": 0.9967688567495361,<br>    \"survival_rate\": 0.6487528034489795<br>  }<br>}",
          "{<br>  \"number\": 81,<br>  \"values\": [<br>    0.7897964715957642,<br>    0.7411091685295105,<br>    37.224798917770386<br>  ],<br>  \"params\": {<br>    \"mutation_method\": \"mutLinear\",<br>    \"mutation_prob\": 0.9477940336078268,<br>    \"mutation_by_deletion_rate\": 0.27260085524609734,<br>    \"mutation_rate_start\": 0.9990463864074866,<br>    \"mutation_rate_end\": 0.006377457195317012,<br>    \"crossover_method\": \"cxKPoint\",<br>    \"crossover_rate\": 0.9102928646105523,<br>    \"crossover_points\": 1,<br>    \"selection_method\": \"selTournament\",<br>    \"tournsize\": 7,<br>    \"elitism_rate\": 0.570579515064092,<br>    \"survival_rate\": 0.7091441014407813<br>  }<br>}",
          "{<br>  \"number\": 82,<br>  \"values\": [<br>    0.6453681588172913,<br>    0.6104266047477722,<br>    36.699060916900635<br>  ],<br>  \"params\": {<br>    \"mutation_method\": \"mutEntropy\",<br>    \"mutation_prob\": 0.5448586037720985,<br>    \"mutation_by_deletion_rate\": 0.9643893348227172,<br>    \"mutation_rate_start\": 0.49578609827282166,<br>    \"mutation_rate_end\": 0.7407831692057474,<br>    \"crossover_method\": \"cxKPoint\",<br>    \"crossover_rate\": 0.07300126411047571,<br>    \"crossover_points\": 1,<br>    \"selection_method\": \"selStochasticUniversalSampling\",<br>    \"elitism_rate\": 0.4046104261305713,<br>    \"survival_rate\": 0.2906430025627196<br>  }<br>}",
          "{<br>  \"number\": 83,<br>  \"values\": [<br>    0.8221539258956909,<br>    0.7712409734725952,<br>    41.883124351501465<br>  ],<br>  \"params\": {<br>    \"mutation_method\": \"mutLinear\",<br>    \"mutation_prob\": 0.7108520370997927,<br>    \"mutation_by_deletion_rate\": 0.23230326660839962,<br>    \"mutation_rate_start\": 0.2766823689269605,<br>    \"mutation_rate_end\": 0.07365578424955388,<br>    \"crossover_method\": \"cxTwoPoint\",<br>    \"crossover_rate\": 0.5166314023835813,<br>    \"crossover_points\": 1,<br>    \"selection_method\": \"selTournament\",<br>    \"tournsize\": 1,<br>    \"elitism_rate\": 0.195228980230842,<br>    \"survival_rate\": 0.6451503806697005<br>  }<br>}",
          "{<br>  \"number\": 84,<br>  \"values\": [<br>    0.6225752234458923,<br>    0.576842999458313,<br>    33.402432441711426<br>  ],<br>  \"params\": {<br>    \"mutation_method\": \"mutLinear\",<br>    \"mutation_prob\": 0.03147187482136985,<br>    \"mutation_by_deletion_rate\": 0.3310181398292588,<br>    \"mutation_rate_start\": 0.22850490749456184,<br>    \"mutation_rate_end\": 0.6473493712742924,<br>    \"crossover_method\": \"cxKPoint\",<br>    \"crossover_rate\": 0.11144180264995515,<br>    \"crossover_points\": 2,<br>    \"selection_method\": \"selTournament\",<br>    \"tournsize\": 8,<br>    \"elitism_rate\": 0.24190816080347655,<br>    \"survival_rate\": 0.7473779062737466<br>  }<br>}",
          "{<br>  \"number\": 85,<br>  \"values\": [<br>    0.6747480034828186,<br>    0.6462585091590881,<br>    38.46428894996643<br>  ],<br>  \"params\": {<br>    \"mutation_method\": \"mutExponential\",<br>    \"mutation_prob\": 0.49485769632849147,<br>    \"mutation_by_deletion_rate\": 0.16179481319817068,<br>    \"mutation_rate_start\": 0.6596260585904788,<br>    \"mutation_rate_end\": 0.3673414001814841,<br>    \"mutation_rate_degree\": 3,<br>    \"crossover_method\": \"cxOnePoint\",<br>    \"crossover_rate\": 0.01840764194276956,<br>    \"selection_method\": \"selBest\",<br>    \"elitism_rate\": 0.2825584623803771,<br>    \"survival_rate\": 0.6812635994802405<br>  }<br>}",
          "{<br>  \"number\": 86,<br>  \"values\": [<br>    0.7546871900558472,<br>    0.6528613448143006,<br>    36.14768123626709<br>  ],<br>  \"params\": {<br>    \"mutation_method\": \"mutLinear\",<br>    \"mutation_prob\": 0.4526880265026702,<br>    \"mutation_by_deletion_rate\": 0.8531518848233306,<br>    \"mutation_rate_start\": 0.40864794321315656,<br>    \"mutation_rate_end\": 0.40335990870550587,<br>    \"crossover_method\": \"cxKPoint\",<br>    \"crossover_rate\": 0.6254883316028731,<br>    \"crossover_points\": 1,<br>    \"selection_method\": \"selNormRoulette\",<br>    \"elitism_rate\": 0.36901534821559134,<br>    \"survival_rate\": 0.5964188348917696<br>  }<br>}",
          "{<br>  \"number\": 87,<br>  \"values\": [<br>    0.717465341091156,<br>    0.6484408497810363,<br>    36.981825828552246<br>  ],<br>  \"params\": {<br>    \"mutation_method\": \"mutEntropy\",<br>    \"mutation_prob\": 0.7606876471307793,<br>    \"mutation_by_deletion_rate\": 0.13300641520948275,<br>    \"mutation_rate_start\": 0.5702059734996409,<br>    \"mutation_rate_end\": 0.4662732236338804,<br>    \"crossover_method\": \"cxTwoPoint\",<br>    \"crossover_rate\": 0.05885683789292721,<br>    \"crossover_points\": 3,<br>    \"selection_method\": \"selTournament\",<br>    \"tournsize\": 3,<br>    \"elitism_rate\": 0.4984717088856505,<br>    \"survival_rate\": 0.22882078991479093<br>  }<br>}",
          "{<br>  \"number\": 88,<br>  \"values\": [<br>    0.7666546702384949,<br>    0.7307247877120971,<br>    41.60932970046997<br>  ],<br>  \"params\": {<br>    \"mutation_method\": \"mutLinear\",<br>    \"mutation_prob\": 0.918888065099502,<br>    \"mutation_by_deletion_rate\": 0.2067717713279885,<br>    \"mutation_rate_start\": 0.35115841181874696,<br>    \"mutation_rate_end\": 0.19476234130510564,<br>    \"crossover_method\": \"cxKPoint\",<br>    \"crossover_rate\": 0.6820257909844931,<br>    \"crossover_points\": 1,<br>    \"selection_method\": \"selRoulette\",<br>    \"elitism_rate\": 0.3284474072487917,<br>    \"survival_rate\": 0.7801352300466324<br>  }<br>}",
          "{<br>  \"number\": 89,<br>  \"values\": [<br>    0.5833253264427185,<br>    0.544021487236023,<br>    32.2087025642395<br>  ],<br>  \"params\": {<br>    \"mutation_method\": \"mutConstant\",<br>    \"mutation_prob\": 0.6242936240362706,<br>    \"mutation_by_deletion_rate\": 0.09432640396897496,<br>    \"mutation_rate\": 0.8745445504398,<br>    \"crossover_method\": \"cxKPoint\",<br>    \"crossover_rate\": 0.35513415054229325,<br>    \"crossover_points\": 2,<br>    \"selection_method\": \"selTournamentWithoutReplacement\",<br>    \"tournsize\": 9,<br>    \"elitism_rate\": 0.7572552008692368,<br>    \"survival_rate\": 0.32886510895675464<br>  }<br>}",
          "{<br>  \"number\": 90,<br>  \"values\": [<br>    0.7037366032600403,<br>    0.6721386551856995,<br>    33.186771392822266<br>  ],<br>  \"params\": {<br>    \"mutation_method\": \"mutLinear\",<br>    \"mutation_prob\": 0.8143474280710798,<br>    \"mutation_by_deletion_rate\": 0.6917772799015489,<br>    \"mutation_rate_start\": 0.7623187407995659,<br>    \"mutation_rate_end\": 0.10998377605314905,<br>    \"crossover_method\": \"cxTwoPoint\",<br>    \"crossover_rate\": 0.5768301477733666,<br>    \"crossover_points\": 4,<br>    \"selection_method\": \"selTournament\",<br>    \"tournsize\": 6,<br>    \"elitism_rate\": 0.8379051028453167,<br>    \"survival_rate\": 0.13508199071050875<br>  }<br>}",
          "{<br>  \"number\": 91,<br>  \"values\": [<br>    0.7995247840881348,<br>    0.7639199018478393,<br>    38.82355880737305<br>  ],<br>  \"params\": {<br>    \"mutation_method\": \"mutLinear\",<br>    \"mutation_prob\": 0.9942320027536136,<br>    \"mutation_by_deletion_rate\": 0.17394771125202685,<br>    \"mutation_rate_start\": 0.30917930569128765,<br>    \"mutation_rate_end\": 0.24156896886103887,<br>    \"crossover_method\": \"cxKPoint\",<br>    \"crossover_rate\": 0.07667265475524539,<br>    \"crossover_points\": 1,<br>    \"selection_method\": \"selTournament\",<br>    \"tournsize\": 10,<br>    \"elitism_rate\": 0.4482308391970539,<br>    \"survival_rate\": 0.714069072830446<br>  }<br>}",
          "{<br>  \"number\": 92,<br>  \"values\": [<br>    0.7088115215301514,<br>    0.6676718592643738,<br>    40.36926078796387<br>  ],<br>  \"params\": {<br>    \"mutation_method\": \"mutEntropy\",<br>    \"mutation_prob\": 0.5802080850586554,<br>    \"mutation_by_deletion_rate\": 0.25008796648456416,<br>    \"mutation_rate_start\": 0.45523401207814174,<br>    \"mutation_rate_end\": 0.08862341967608922,<br>    \"crossover_method\": \"cxKPoint\",<br>    \"crossover_rate\": 0.03091031662688646,<br>    \"crossover_points\": 1,<br>    \"selection_method\": \"selBest\",<br>    \"elitism_rate\": 0.02116148336301714,<br>    \"survival_rate\": 0.5672133957373404<br>  }<br>}",
          "{<br>  \"number\": 93,<br>  \"values\": [<br>    0.653691828250885,<br>    0.5932877779006958,<br>    32.72807478904724<br>  ],<br>  \"params\": {<br>    \"mutation_method\": \"mutLinear\",<br>    \"mutation_prob\": 0.2163737043033209,<br>    \"mutation_by_deletion_rate\": 0.2831337968203255,<br>    \"mutation_rate_start\": 0.49414542128810707,<br>    \"mutation_rate_end\": 0.31806610880573827,<br>    \"crossover_method\": \"cxOnePoint\",<br>    \"crossover_rate\": 0.0007780004370561448,<br>    \"selection_method\": \"selTournament\",<br>    \"tournsize\": 4,<br>    \"elitism_rate\": 0.6575939102549309,<br>    \"survival_rate\": 0.6260506710447692<br>  }<br>}",
          "{<br>  \"number\": 94,<br>  \"values\": [<br>    0.7945880889892578,<br>    0.7518698930740356,<br>    39.4741313457489<br>  ],<br>  \"params\": {<br>    \"mutation_method\": \"mutLinear\",<br>    \"mutation_prob\": 0.3682202439957964,<br>    \"mutation_by_deletion_rate\": 0.025359674873914995,<br>    \"mutation_rate_start\": 0.1460688195483908,<br>    \"mutation_rate_end\": 0.14012853059365718,<br>    \"crossover_method\": \"cxTwoPoint\",<br>    \"crossover_rate\": 0.15023545588747242,<br>    \"crossover_points\": 1,<br>    \"selection_method\": \"selBoltzmann\",<br>    \"boltzmann_temperature\": 0.9386013549891546,<br>    \"elitism_rate\": 0.08414661179124693,<br>    \"survival_rate\": 0.6849033748161324<br>  }<br>}",
          "{<br>  \"number\": 95,<br>  \"values\": [<br>    0.6648522615432739,<br>    0.6342072725296021,<br>    39.611525774002075<br>  ],<br>  \"params\": {<br>    \"mutation_method\": \"mutExponential\",<br>    \"mutation_prob\": 0.6636810390609039,<br>    \"mutation_by_deletion_rate\": 0.22790559444432626,<br>    \"mutation_rate_start\": 0.20629943342313578,<br>    \"mutation_rate_end\": 0.5564945712558815,<br>    \"mutation_rate_degree\": 1,<br>    \"crossover_method\": \"cxKPoint\",<br>    \"crossover_rate\": 0.09734704654656445,<br>    \"crossover_points\": 3,<br>    \"selection_method\": \"selRandom\",<br>    \"elitism_rate\": 0.10933533357764091,<br>    \"survival_rate\": 0.8545821631629744<br>  }<br>}",
          "{<br>  \"number\": 96,<br>  \"values\": [<br>    0.5957351922988892,<br>    0.5570340991020203,<br>    37.09906029701233<br>  ],<br>  \"params\": {<br>    \"mutation_method\": \"mutEntropy\",<br>    \"mutation_prob\": 0.9732320818509738,<br>    \"mutation_by_deletion_rate\": 0.3094966106120131,<br>    \"mutation_rate_start\": 0.9491724780124051,<br>    \"mutation_rate_end\": 0.05860562756036512,<br>    \"crossover_method\": \"cxKPoint\",<br>    \"crossover_rate\": 0.17181876011859298,<br>    \"crossover_points\": 2,<br>    \"selection_method\": \"selStochasticUniversalSampling\",<br>    \"elitism_rate\": 0.5971598603317609,<br>    \"survival_rate\": 0.07544060782487227<br>  }<br>}",
          "{<br>  \"number\": 97,<br>  \"values\": [<br>    0.6986208558082581,<br>    0.6619326829910278,<br>    35.65146613121033<br>  ],<br>  \"params\": {<br>    \"mutation_method\": \"mutConstant\",<br>    \"mutation_prob\": 0.2487923711526685,<br>    \"mutation_by_deletion_rate\": 0.2763197148626414,<br>    \"mutation_rate\": 0.6317497848551459,<br>    \"crossover_method\": \"cxTwoPoint\",<br>    \"crossover_rate\": 0.12543684867129667,<br>    \"crossover_points\": 1,<br>    \"selection_method\": \"selTournament\",<br>    \"tournsize\": 10,<br>    \"elitism_rate\": 0.2191307351766032,<br>    \"survival_rate\": 0.3851886054811244<br>  }<br>}",
          "{<br>  \"number\": 98,<br>  \"values\": [<br>    0.877703070640564,<br>    0.7990853428840637,<br>    38.24931597709656<br>  ],<br>  \"params\": {<br>    \"mutation_method\": \"mutLinear\",<br>    \"mutation_prob\": 0.8335595252672573,<br>    \"mutation_by_deletion_rate\": 0.49123448796979635,<br>    \"mutation_rate_start\": 0.08708313772407007,<br>    \"mutation_rate_end\": 0.2873869983739442,<br>    \"crossover_method\": \"cxKPoint\",<br>    \"crossover_rate\": 0.052431108583194955,<br>    \"crossover_points\": 1,<br>    \"selection_method\": \"selBest\",<br>    \"elitism_rate\": 0.4683212144015047,<br>    \"survival_rate\": 0.7426359788067577<br>  }<br>}",
          "{<br>  \"number\": 99,<br>  \"values\": [<br>    0.5996505618095398,<br>    0.5892487168312073,<br>    37.123597145080566<br>  ],<br>  \"params\": {<br>    \"mutation_method\": \"mutLinear\",<br>    \"mutation_prob\": 0.9025433741169274,<br>    \"mutation_by_deletion_rate\": 0.33707530512336037,<br>    \"mutation_rate_start\": 0.5573498449694338,<br>    \"mutation_rate_end\": 0.6613553567148777,<br>    \"crossover_method\": \"cxUniform\",<br>    \"crossover_rate\": 0.7688300102867726,<br>    \"selection_method\": \"selNormRoulette\",<br>    \"elitism_rate\": 0.5312520341629811,<br>    \"survival_rate\": 0.4449903468230242<br>  }<br>}",
          "{<br>  \"number\": 100,<br>  \"values\": [<br>    0.752388596534729,<br>    0.703179657459259,<br>    36.57809400558472<br>  ],<br>  \"params\": {<br>    \"mutation_method\": \"mutEntropy\",<br>    \"mutation_prob\": 0.3162813116076334,<br>    \"mutation_by_deletion_rate\": 0.20358210768719015,<br>    \"mutation_rate_start\": 0.017068295939594053,<br>    \"mutation_rate_end\": 0.778166769944231,<br>    \"crossover_method\": \"cxOnePoint\",<br>    \"crossover_rate\": 0.8309965352601901,<br>    \"selection_method\": \"selTournament\",<br>    \"tournsize\": 9,<br>    \"elitism_rate\": 0.17560300549827057,<br>    \"survival_rate\": 0.5230080510075275<br>  }<br>}",
          "{<br>  \"number\": 101,<br>  \"values\": [<br>    0.6163912415504456,<br>    0.6038847208023072,<br>    40.756608724594116<br>  ],<br>  \"params\": {<br>    \"mutation_method\": \"mutLinear\",<br>    \"mutation_prob\": 0.7329857721205131,<br>    \"mutation_by_deletion_rate\": 0.24443688037600336,<br>    \"mutation_rate_start\": 0.7252106541711879,<br>    \"mutation_rate_end\": 0.9044459688772748,<br>    \"crossover_method\": \"cxKPoint\",<br>    \"crossover_rate\": 0.49629723324182523,<br>    \"crossover_points\": 4,<br>    \"selection_method\": \"selTournament\",<br>    \"tournsize\": 8,<br>    \"elitism_rate\": 0.26001858657742116,<br>    \"survival_rate\": 0.9531978596541584<br>  }<br>}",
          "{<br>  \"number\": 102,<br>  \"values\": [<br>    0.8023749589920044,<br>    0.7786256670951843,<br>    40.77740025520325<br>  ],<br>  \"params\": {<br>    \"mutation_method\": \"mutLinear\",<br>    \"mutation_prob\": 0.7835714999566105,<br>    \"mutation_by_deletion_rate\": 0.13688171405985003,<br>    \"mutation_rate_start\": 0.8482814348796092,<br>    \"mutation_rate_end\": 0.17917485915696618,<br>    \"crossover_method\": \"cxTwoPoint\",<br>    \"crossover_rate\": 0.5391805196760813,<br>    \"crossover_points\": 1,<br>    \"selection_method\": \"selBest\",<br>    \"elitism_rate\": 0.3009752402080672,<br>    \"survival_rate\": 0.8142955029031433<br>  }<br>}",
          "{<br>  \"number\": 103,<br>  \"values\": [<br>    0.7560480237007141,<br>    0.7209091067314148,<br>    33.911813735961914<br>  ],<br>  \"params\": {<br>    \"mutation_method\": \"mutEntropy\",<br>    \"mutation_prob\": 0.757719257368411,<br>    \"mutation_by_deletion_rate\": 0.16640312854848655,<br>    \"mutation_rate_start\": 0.28345204200750823,<br>    \"mutation_rate_end\": 0.02841226591652682,<br>    \"crossover_method\": \"cxKPoint\",<br>    \"crossover_rate\": 0.7134241889012927,<br>    \"crossover_points\": 2,<br>    \"selection_method\": \"selRoulette\",<br>    \"elitism_rate\": 0.6300292763653232,<br>    \"survival_rate\": 0.6552305732355228<br>  }<br>}",
          "{<br>  \"number\": 104,<br>  \"values\": [<br>    0.7022519707679749,<br>    0.662966275215149,<br>    38.718910932540894<br>  ],<br>  \"params\": {<br>    \"mutation_method\": \"mutConstant\",<br>    \"mutation_prob\": 0.6935732553303173,<br>    \"mutation_by_deletion_rate\": 0.9384623857283682,<br>    \"mutation_rate\": 0.4145522184931648,<br>    \"crossover_method\": \"cxTwoPoint\",<br>    \"crossover_rate\": 0.02238569832858995,<br>    \"crossover_points\": 1,<br>    \"selection_method\": \"selTournament\",<br>    \"tournsize\": 2,<br>    \"elitism_rate\": 0.34958999235001903,<br>    \"survival_rate\": 0.26581233084890193<br>  }<br>}",
          "{<br>  \"number\": 105,<br>  \"values\": [<br>    0.7318933606147766,<br>    0.6721117496490479,<br>    33.38467812538147<br>  ],<br>  \"params\": {<br>    \"mutation_method\": \"mutLinear\",<br>    \"mutation_prob\": 0.7387116964637244,<br>    \"mutation_by_deletion_rate\": 0.2921546229761168,<br>    \"mutation_rate_start\": 0.24140003628538617,<br>    \"mutation_rate_end\": 0.5171200614968798,<br>    \"crossover_method\": \"cxKPoint\",<br>    \"crossover_rate\": 0.20216505320517825,<br>    \"crossover_points\": 1,<br>    \"selection_method\": \"selTournamentWithoutReplacement\",<br>    \"tournsize\": 10,<br>    \"elitism_rate\": 0.7043782359954696,<br>    \"survival_rate\": 0.17194049819039636<br>  }<br>}",
          "{<br>  \"number\": 106,<br>  \"values\": [<br>    0.7647905349731445,<br>    0.7354385018348694,<br>    43.20650005340576<br>  ],<br>  \"params\": {<br>    \"mutation_method\": \"mutExponential\",<br>    \"mutation_prob\": 0.8031140531794784,<br>    \"mutation_by_deletion_rate\": 0.18858137879314466,<br>    \"mutation_rate_start\": 0.38649183171160834,<br>    \"mutation_rate_end\": 0.6138144964278778,<br>    \"mutation_rate_degree\": 3,<br>    \"crossover_method\": \"cxUniform\",<br>    \"crossover_rate\": 0.610165410246993,<br>    \"selection_method\": \"selBest\",<br>    \"elitism_rate\": 0.13150369733497116,<br>    \"survival_rate\": 0.7153902322414301<br>  }<br>}",
          "{<br>  \"number\": 107,<br>  \"values\": [<br>    0.6369455456733704,<br>    0.5981921553611755,<br>    32.59736704826355<br>  ],<br>  \"params\": {<br>    \"mutation_method\": \"mutEntropy\",<br>    \"mutation_prob\": 0.8572683746170647,<br>    \"mutation_by_deletion_rate\": 0.7571038560841808,<br>    \"mutation_rate_start\": 0.35386205090924194,<br>    \"mutation_rate_end\": 0.7093513740384892,<br>    \"crossover_method\": \"cxKPoint\",<br>    \"crossover_rate\": 0.041351733356288826,<br>    \"crossover_points\": 2,<br>    \"selection_method\": \"selTournament\",<br>    \"tournsize\": 9,<br>    \"elitism_rate\": 0.9438063970130024,<br>    \"survival_rate\": 0.8998315951600387<br>  }<br>}",
          "{<br>  \"number\": 108,<br>  \"values\": [<br>    0.7315438985824585,<br>    0.6882436513900757,<br>    41.69943022727966<br>  ],<br>  \"params\": {<br>    \"mutation_method\": \"mutLinear\",<br>    \"mutation_prob\": 0.8669750524720954,<br>    \"mutation_by_deletion_rate\": 0.2657981976228263,<br>    \"mutation_rate_start\": 0.32944973543780626,<br>    \"mutation_rate_end\": 0.9760209441022105,<br>    \"crossover_method\": \"cxTwoPoint\",<br>    \"crossover_rate\": 0.4216505434107449,<br>    \"crossover_points\": 1,<br>    \"selection_method\": \"selBoltzmann\",<br>    \"boltzmann_temperature\": 0.2824652750752841,<br>    \"elitism_rate\": 0.3718202298559007,<br>    \"survival_rate\": 0.6101143303607122<br>  }<br>}",
          "{<br>  \"number\": 109,<br>  \"values\": [<br>    0.756585955619812,<br>    0.7159015774726868,<br>    42.112648248672485<br>  ],<br>  \"params\": {<br>    \"mutation_method\": \"mutLinear\",<br>    \"mutation_prob\": 0.7130158981754633,<br>    \"mutation_by_deletion_rate\": 0.4053036119673816,<br>    \"mutation_rate_start\": 0.18506415010823885,<br>    \"mutation_rate_end\": 0.3472406464568748,<br>    \"crossover_method\": \"cxKPoint\",<br>    \"crossover_rate\": 0.45244837573263114,<br>    \"crossover_points\": 3,<br>    \"selection_method\": \"selTournament\",<br>    \"tournsize\": 4,<br>    \"elitism_rate\": 0.24642655676831504,<br>    \"survival_rate\": 0.6949970395461127<br>  }<br>}",
          "{<br>  \"number\": 110,<br>  \"values\": [<br>    0.6542184948921204,<br>    0.5903032302856446,<br>    33.956154346466064<br>  ],<br>  \"params\": {<br>    \"mutation_method\": \"mutEntropy\",<br>    \"mutation_prob\": 0.11998231429046391,<br>    \"mutation_by_deletion_rate\": 0.222960206857433,<br>    \"mutation_rate_start\": 0.11772898731115666,<br>    \"mutation_rate_end\": 0.2277978418118386,<br>    \"crossover_method\": \"cxOnePoint\",<br>    \"crossover_rate\": 0.08615705882910166,<br>    \"selection_method\": \"selRandom\",<br>    \"elitism_rate\": 0.5778954933440863,<br>    \"survival_rate\": 0.5784049893651452<br>  }<br>}",
          "{<br>  \"number\": 111,<br>  \"values\": [<br>    0.7136111259460449,<br>    0.6678914904594422,<br>    34.9494891166687<br>  ],<br>  \"params\": {<br>    \"mutation_method\": \"mutEntropy\",<br>    \"mutation_prob\": 0.17823878705723206,<br>    \"mutation_by_deletion_rate\": 0.35725878063523836,<br>    \"mutation_rate_start\": 0.05758540887916552,<br>    \"mutation_rate_end\": 0.3947797930750964,<br>    \"crossover_method\": \"cxTwoPoint\",<br>    \"crossover_rate\": 0.5647570906401853,<br>    \"crossover_points\": 1,<br>    \"selection_method\": \"selBest\",<br>    \"elitism_rate\": 0.325512211402874,<br>    \"survival_rate\": 0.31436486158174165<br>  }<br>}",
          "{<br>  \"number\": 113,<br>  \"values\": [<br>    0.6984911561012268,<br>    0.652990746498108,<br>    36.20120644569397<br>  ],<br>  \"params\": {<br>    \"mutation_method\": \"mutEntropy\",<br>    \"mutation_prob\": 0.27294513467009773,<br>    \"mutation_by_deletion_rate\": 0.3743097393293247,<br>    \"mutation_rate_start\": 0.8715927831171458,<br>    \"mutation_rate_end\": 0.48678975969301536,<br>    \"crossover_method\": \"cxTwoPoint\",<br>    \"crossover_rate\": 0.6091417174187844,<br>    \"crossover_points\": 1,<br>    \"selection_method\": \"selBest\",<br>    \"elitism_rate\": 0.2901401735454716,<br>    \"survival_rate\": 0.3670624054793489<br>  }<br>}",
          "{<br>  \"number\": 114,<br>  \"values\": [<br>    0.7696993947029114,<br>    0.7388336062431335,<br>    36.312854051589966<br>  ],<br>  \"params\": {<br>    \"mutation_method\": \"mutEntropy\",<br>    \"mutation_prob\": 0.0518498753981389,<br>    \"mutation_by_deletion_rate\": 0.3188726444767171,<br>    \"mutation_rate_start\": 0.7864937015687994,<br>    \"mutation_rate_end\": 0.8527433047469796,<br>    \"crossover_method\": \"cxTwoPoint\",<br>    \"crossover_rate\": 0.9422156900784424,<br>    \"crossover_points\": 1,<br>    \"selection_method\": \"selBest\",<br>    \"elitism_rate\": 0.2164244256066487,<br>    \"survival_rate\": 0.4050680579187425<br>  }<br>}",
          "{<br>  \"number\": 115,<br>  \"values\": [<br>    0.6543329358100891,<br>    0.6410045027732849,<br>    37.71540379524231<br>  ],<br>  \"params\": {<br>    \"mutation_method\": \"mutEntropy\",<br>    \"mutation_prob\": 0.41327492574941377,<br>    \"mutation_by_deletion_rate\": 0.6038418622653958,<br>    \"mutation_rate_start\": 0.9642068291524175,<br>    \"mutation_rate_end\": 0.44968533690660595,<br>    \"crossover_method\": \"cxTwoPoint\",<br>    \"crossover_rate\": 0.5471771049498654,<br>    \"crossover_points\": 1,<br>    \"selection_method\": \"selBest\",<br>    \"elitism_rate\": 0.2704574908931326,<br>    \"survival_rate\": 0.4707546352956366<br>  }<br>}",
          "{<br>  \"number\": 116,<br>  \"values\": [<br>    0.6556683778762817,<br>    0.6057892799377441,<br>    36.332345724105835<br>  ],<br>  \"params\": {<br>    \"mutation_method\": \"mutEntropy\",<br>    \"mutation_prob\": 0.19989850996987743,<br>    \"mutation_by_deletion_rate\": 0.3234843695566377,<br>    \"mutation_rate_start\": 0.6421875900281695,<br>    \"mutation_rate_end\": 0.5333761020764629,<br>    \"crossover_method\": \"cxTwoPoint\",<br>    \"crossover_rate\": 0.6324350352936583,<br>    \"crossover_points\": 1,<br>    \"selection_method\": \"selBest\",<br>    \"elitism_rate\": 0.301894416045031,<br>    \"survival_rate\": 0.2020728689229162<br>  }<br>}",
          "{<br>  \"number\": 117,<br>  \"values\": [<br>    0.5222430229187012,<br>    0.5049369931221008,<br>    23.755059003829956<br>  ],<br>  \"params\": {<br>    \"mutation_method\": \"mutEntropy\",<br>    \"mutation_prob\": 0.015512541222402976,<br>    \"mutation_by_deletion_rate\": 0.5483009467122767,<br>    \"mutation_rate_start\": 0.7410956124854358,<br>    \"mutation_rate_end\": 0.8246772002396349,<br>    \"crossover_method\": \"cxTwoPoint\",<br>    \"crossover_rate\": 0.6052242424918004,<br>    \"crossover_points\": 1,<br>    \"selection_method\": \"selBest\",<br>    \"elitism_rate\": 0.3852486156339893,<br>    \"survival_rate\": 0.36129986375694756<br>  }<br>}",
          "{<br>  \"number\": 118,<br>  \"values\": [<br>    0.5877988338470459,<br>    0.561488676071167,<br>    36.09942364692688<br>  ],<br>  \"params\": {<br>    \"mutation_method\": \"mutEntropy\",<br>    \"mutation_prob\": 0.09691348605184996,<br>    \"mutation_by_deletion_rate\": 0.8395655104535621,<br>    \"mutation_rate_start\": 0.6921192822309379,<br>    \"mutation_rate_end\": 0.596010530059522,<br>    \"crossover_method\": \"cxTwoPoint\",<br>    \"crossover_rate\": 0.6765110377169969,<br>    \"crossover_points\": 3,<br>    \"selection_method\": \"selBest\",<br>    \"elitism_rate\": 0.34878324915178704,<br>    \"survival_rate\": 0.25465379380445524<br>  }<br>}",
          "{<br>  \"number\": 119,<br>  \"values\": [<br>    0.7215800881385803,<br>    0.6749534368515014,<br>    35.785887002944946<br>  ],<br>  \"params\": {<br>    \"mutation_method\": \"mutEntropy\",<br>    \"mutation_prob\": 0.3790935508471146,<br>    \"mutation_by_deletion_rate\": 0.44896982070829083,<br>    \"mutation_rate_start\": 0.6062500233665294,<br>    \"mutation_rate_end\": 0.33421716216504305,<br>    \"crossover_method\": \"cxTwoPoint\",<br>    \"crossover_rate\": 0.5880940989544913,<br>    \"crossover_points\": 1,<br>    \"selection_method\": \"selBest\",<br>    \"elitism_rate\": 0.31270027678676315,<br>    \"survival_rate\": 0.4310899051351642<br>  }<br>}",
          "{<br>  \"number\": 120,<br>  \"values\": [<br>    0.5349524021148682,<br>    0.5037762641906738,<br>    19.434324979782104<br>  ],<br>  \"params\": {<br>    \"mutation_method\": \"mutEntropy\",<br>    \"mutation_prob\": 0.06169555595476428,<br>    \"mutation_by_deletion_rate\": 0.8793301770358487,<br>    \"mutation_rate_start\": 0.9193919859695807,<br>    \"mutation_rate_end\": 0.7413195129949548,<br>    \"crossover_method\": \"cxTwoPoint\",<br>    \"crossover_rate\": 0.6557925573241767,<br>    \"crossover_points\": 1,<br>    \"selection_method\": \"selStochasticUniversalSampling\",<br>    \"elitism_rate\": 0.8683538642261321,<br>    \"survival_rate\": 0.4954293104858473<br>  }<br>}",
          "{<br>  \"number\": 121,<br>  \"values\": [<br>    0.7057828307151794,<br>    0.6688182353973389,<br>    34.55379509925842<br>  ],<br>  \"params\": {<br>    \"mutation_method\": \"mutExponential\",<br>    \"mutation_prob\": 0.13988919271746558,<br>    \"mutation_by_deletion_rate\": 0.8022338920023413,<br>    \"mutation_rate_start\": 0.6679435113506993,<br>    \"mutation_rate_end\": 0.41232415677735273,<br>    \"mutation_rate_degree\": 2,<br>    \"crossover_method\": \"cxUniform\",<br>    \"crossover_rate\": 0.591354460245179,<br>    \"selection_method\": \"selBest\",<br>    \"elitism_rate\": 0.28073634533365555,<br>    \"survival_rate\": 0.3819218443965414<br>  }<br>}",
          "{<br>  \"number\": 122,<br>  \"values\": [<br>    0.6866185069084167,<br>    0.6548490047454834,<br>    34.506486654281616<br>  ],<br>  \"params\": {<br>    \"mutation_method\": \"mutEntropy\",<br>    \"mutation_prob\": 0.09244938808610204,<br>    \"mutation_by_deletion_rate\": 0.6335696502575203,<br>    \"mutation_rate_start\": 0.5111881531509794,<br>    \"mutation_rate_end\": 0.673898224734822,<br>    \"crossover_method\": \"cxTwoPoint\",<br>    \"crossover_rate\": 0.31169064131625857,<br>    \"crossover_points\": 4,<br>    \"selection_method\": \"selNormRoulette\",<br>    \"elitism_rate\": 0.25768956886094396,<br>    \"survival_rate\": 0.3122636987084826<br>  }<br>}",
          "{<br>  \"number\": 123,<br>  \"values\": [<br>    0.7109161615371704,<br>    0.6502297878265381,<br>    24.151944637298584<br>  ],<br>  \"params\": {<br>    \"mutation_method\": \"mutConstant\",<br>    \"mutation_prob\": 0.019709881136604823,<br>    \"mutation_by_deletion_rate\": 0.3453637959188174,<br>    \"mutation_rate\": 0.0894994242587458,<br>    \"crossover_method\": \"cxTwoPoint\",<br>    \"crossover_rate\": 0.5317120976921732,<br>    \"crossover_points\": 1,<br>    \"selection_method\": \"selBest\",<br>    \"elitism_rate\": 0.32775456562913746,<br>    \"survival_rate\": 0.16070758508583208<br>  }<br>}",
          "{<br>  \"number\": 124,<br>  \"values\": [<br>    0.6438296437263489,<br>    0.62487233877182,<br>    35.252275705337524<br>  ],<br>  \"params\": {<br>    \"mutation_method\": \"mutEntropy\",<br>    \"mutation_prob\": 0.4861434689715387,<br>    \"mutation_by_deletion_rate\": 0.2944795686583314,<br>    \"mutation_rate_start\": 0.8056155892743482,<br>    \"mutation_rate_end\": 0.2921305265692319,<br>    \"crossover_method\": \"cxTwoPoint\",<br>    \"crossover_rate\": 0.5686653093101178,<br>    \"crossover_points\": 1,<br>    \"selection_method\": \"selRoulette\",<br>    \"elitism_rate\": 0.393608370583266,<br>    \"survival_rate\": 0.21278562452065275<br>  }<br>}",
          "{<br>  \"number\": 125,<br>  \"values\": [<br>    0.7634557485580444,<br>    0.7424275636672973,<br>    38.023603200912476<br>  ],<br>  \"params\": {<br>    \"mutation_method\": \"mutEntropy\",<br>    \"mutation_prob\": 0.28756428432228887,<br>    \"mutation_by_deletion_rate\": 0.6795515969929506,<br>    \"mutation_rate_start\": 0.4282122424100592,<br>    \"mutation_rate_end\": 0.4425698833098364,<br>    \"crossover_method\": \"cxOnePoint\",<br>    \"crossover_rate\": 0.628756240601161,<br>    \"selection_method\": \"selTournamentWithoutReplacement\",<br>    \"tournsize\": 2,<br>    \"elitism_rate\": 0.24425863653487123,<br>    \"survival_rate\": 0.4218701479576042<br>  }<br>}",
          "{<br>  \"number\": 126,<br>  \"values\": [<br>    0.6724451780319214,<br>    0.64987211227417,<br>    32.81380915641785<br>  ],<br>  \"params\": {<br>    \"mutation_method\": \"mutExponential\",<br>    \"mutation_prob\": 0.33294151642486836,<br>    \"mutation_by_deletion_rate\": 0.7348060524501845,<br>    \"mutation_rate_start\": 0.47910524935648574,<br>    \"mutation_rate_end\": 0.2476412179847498,<br>    \"mutation_rate_degree\": 1,<br>    \"crossover_method\": \"cxUniform\",<br>    \"crossover_rate\": 0.7114892636836541,<br>    \"selection_method\": \"selBest\",<br>    \"elitism_rate\": 0.760164912016507,<br>    \"survival_rate\": 0.35134807854974537<br>  }<br>}",
          "{<br>  \"number\": 127,<br>  \"values\": [<br>    0.6938449740409851,<br>    0.6315998435020447,<br>    35.04684233665466<br>  ],<br>  \"params\": {<br>    \"mutation_method\": \"mutEntropy\",<br>    \"mutation_prob\": 0.4417352249259374,<br>    \"mutation_by_deletion_rate\": 0.3076011354623894,<br>    \"mutation_rate_start\": 0.2511657962192468,<br>    \"mutation_rate_end\": 0.626196811684526,<br>    \"crossover_method\": \"cxTwoPoint\",<br>    \"crossover_rate\": 0.6560563560400583,<br>    \"crossover_points\": 1,<br>    \"selection_method\": \"selBoltzmann\",<br>    \"boltzmann_temperature\": 0.709913729989905,<br>    \"elitism_rate\": 0.4308869318658722,<br>    \"survival_rate\": 0.2872404903964319<br>  }<br>}",
          "{<br>  \"number\": 128,<br>  \"values\": [<br>    0.8796648979187012,<br>    0.8144384860992432,<br>    36.02121186256409<br>  ],<br>  \"params\": {<br>    \"mutation_method\": \"mutConstant\",<br>    \"mutation_prob\": 0.5282985338612401,<br>    \"mutation_by_deletion_rate\": 0.2579788691198402,<br>    \"mutation_rate\": 0.17694143093085246,<br>    \"crossover_method\": \"cxTwoPoint\",<br>    \"crossover_rate\": 0.3932972037599768,<br>    \"crossover_points\": 3,<br>    \"selection_method\": \"selBest\",<br>    \"elitism_rate\": 0.3700626731120838,<br>    \"survival_rate\": 0.45009792965760775<br>  }<br>}",
          "{<br>  \"number\": 130,<br>  \"values\": [<br>    0.7956542372703552,<br>    0.7794510364532471,<br>    39.60966110229492<br>  ],<br>  \"params\": {<br>    \"mutation_method\": \"mutEntropy\",<br>    \"mutation_prob\": 0.6224030737857864,<br>    \"mutation_by_deletion_rate\": 0.37998338453614283,<br>    \"mutation_rate_start\": 0.2052256704660064,<br>    \"mutation_rate_end\": 0.1583052309312878,<br>    \"crossover_method\": \"cxTwoPoint\",<br>    \"crossover_rate\": 0.6413142459465064,<br>    \"crossover_points\": 1,<br>    \"selection_method\": \"selRandom\",<br>    \"elitism_rate\": 0.20939093431563288,<br>    \"survival_rate\": 0.3422791145270577<br>  }<br>}",
          "{<br>  \"number\": 131,<br>  \"values\": [<br>    0.5779446363449097,<br>    0.5557971954345703,<br>    34.45599722862244<br>  ],<br>  \"params\": {<br>    \"mutation_method\": \"mutEntropy\",<br>    \"mutation_prob\": 0.2505598975923723,<br>    \"mutation_by_deletion_rate\": 0.28449083101601547,<br>    \"mutation_rate_start\": 0.02267224942908641,<br>    \"mutation_rate_end\": 0.9427420457965663,<br>    \"crossover_method\": \"cxOnePoint\",<br>    \"crossover_rate\": 0.48081931184642,<br>    \"selection_method\": \"selStochasticUniversalSampling\",<br>    \"elitism_rate\": 0.41273708585903135,<br>    \"survival_rate\": 0.39571637778116164<br>  }<br>}",
          "{<br>  \"number\": 132,<br>  \"values\": [<br>    0.765335202217102,<br>    0.7339499354362488,<br>    33.396170139312744<br>  ],<br>  \"params\": {<br>    \"mutation_method\": \"mutExponential\",<br>    \"mutation_prob\": 0.38682567522149924,<br>    \"mutation_by_deletion_rate\": 0.2386633023649165,<br>    \"mutation_rate_start\": 0.1090402399844069,<br>    \"mutation_rate_end\": 0.5659523224924172,<br>    \"mutation_rate_degree\": 4,<br>    \"crossover_method\": \"cxTwoPoint\",<br>    \"crossover_rate\": 0.5103057177784472,<br>    \"crossover_points\": 1,<br>    \"selection_method\": \"selBest\",<br>    \"elitism_rate\": 0.5117841783270249,<br>    \"survival_rate\": 0.31233372801773<br>  }<br>}",
          "{<br>  \"number\": 133,<br>  \"values\": [<br>    0.816871166229248,<br>    0.7418452739715576,<br>    38.95106267929077<br>  ],<br>  \"params\": {<br>    \"mutation_method\": \"mutConstant\",<br>    \"mutation_prob\": 0.7625701373846315,<br>    \"mutation_by_deletion_rate\": 0.3540651059093219,<br>    \"mutation_rate\": 0.3943627353169111,<br>    \"crossover_method\": \"cxUniform\",<br>    \"crossover_rate\": 0.8562030288742211,<br>    \"selection_method\": \"selBest\",<br>    \"elitism_rate\": 0.3084762183650128,<br>    \"survival_rate\": 0.3811213184846874<br>  }<br>}",
          "{<br>  \"number\": 134,<br>  \"values\": [<br>    0.7540360689163208,<br>    0.7244474649429321,<br>    39.90438747406006<br>  ],<br>  \"params\": {<br>    \"mutation_method\": \"mutEntropy\",<br>    \"mutation_prob\": 0.6735360770203674,<br>    \"mutation_by_deletion_rate\": 0.32955214974116054,<br>    \"mutation_rate_start\": 0.7566129995459667,<br>    \"mutation_rate_end\": 0.8817479490739107,<br>    \"crossover_method\": \"cxTwoPoint\",<br>    \"crossover_rate\": 0.5670483473961972,<br>    \"crossover_points\": 4,<br>    \"selection_method\": \"selNormRoulette\",<br>    \"elitism_rate\": 0.2889396819818479,<br>    \"survival_rate\": 0.36536246082303303<br>  }<br>}",
          "{<br>  \"number\": 135,<br>  \"values\": [<br>    0.7631176710128784,<br>    0.7227425694465637,<br>    43.02949523925781<br>  ],<br>  \"params\": {<br>    \"mutation_method\": \"mutEntropy\",<br>    \"mutation_prob\": 0.47136593989916026,<br>    \"mutation_by_deletion_rate\": 0.9328007097846762,<br>    \"mutation_rate_start\": 0.1523232148807848,<br>    \"mutation_rate_end\": 0.3595428449087439,<br>    \"crossover_method\": \"cxTwoPoint\",<br>    \"crossover_rate\": 0.5938466499604698,<br>    \"crossover_points\": 1,<br>    \"selection_method\": \"selRoulette\",<br>    \"elitism_rate\": 0.03129643674678706,<br>    \"survival_rate\": 0.32357072331394243<br>  }<br>}",
          "{<br>  \"number\": 136,<br>  \"values\": [<br>    0.711453378200531,<br>    0.6610419511795044,<br>    39.387731075286865<br>  ],<br>  \"params\": {<br>    \"mutation_method\": \"mutEntropy\",<br>    \"mutation_prob\": 0.7830279842144372,<br>    \"mutation_by_deletion_rate\": 0.41514632459128836,<br>    \"mutation_rate_start\": 0.8960045453345289,<br>    \"mutation_rate_end\": 0.06807106645087281,<br>    \"crossover_method\": \"cxOnePoint\",<br>    \"crossover_rate\": 0.6174557201252283,<br>    \"selection_method\": \"selRandom\",<br>    \"elitism_rate\": 0.3394729908584598,<br>    \"survival_rate\": 0.4149837267386044<br>  }<br>}",
          "{<br>  \"number\": 137,<br>  \"values\": [<br>    0.6440722346305847,<br>    0.5862468719482422,<br>    13.49260663986206<br>  ],<br>  \"params\": {<br>    \"mutation_method\": \"mutConstant\",<br>    \"mutation_prob\": 0.002207642982838154,<br>    \"mutation_by_deletion_rate\": 0.26264634612505683,<br>    \"mutation_rate\": 0.9949893089998323,<br>    \"crossover_method\": \"cxTwoPoint\",<br>    \"crossover_rate\": 0.27779353085259173,<br>    \"crossover_points\": 1,<br>    \"selection_method\": \"selTournamentWithoutReplacement\",<br>    \"tournsize\": 6,<br>    \"elitism_rate\": 0.06584011300459094,<br>    \"survival_rate\": 0.6679182782258098<br>  }<br>}",
          "{<br>  \"number\": 138,<br>  \"values\": [<br>    0.7291814088821411,<br>    0.7046485543251038,<br>    34.096728801727295<br>  ],<br>  \"params\": {<br>    \"mutation_method\": \"mutExponential\",<br>    \"mutation_prob\": 0.16381464512585553,<br>    \"mutation_by_deletion_rate\": 0.43593815237442624,<br>    \"mutation_rate_start\": 0.38215886727753623,<br>    \"mutation_rate_end\": 0.25594577409639924,<br>    \"mutation_rate_degree\": 2,<br>    \"crossover_method\": \"cxUniform\",<br>    \"crossover_rate\": 0.020993552964522627,<br>    \"selection_method\": \"selBest\",<br>    \"elitism_rate\": 0.23361459893012612,<br>    \"survival_rate\": 0.342654302151983<br>  }<br>}",
          "{<br>  \"number\": 139,<br>  \"values\": [<br>    0.8653249740600586,<br>    0.823905062675476,<br>    40.266300678253174<br>  ],<br>  \"params\": {<br>    \"mutation_method\": \"mutEntropy\",<br>    \"mutation_prob\": 0.35845724750208535,<br>    \"mutation_by_deletion_rate\": 0.3959411743638107,<br>    \"mutation_rate_start\": 0.40419225255132896,<br>    \"mutation_rate_end\": 0.10348892649546229,<br>    \"crossover_method\": \"cxTwoPoint\",<br>    \"crossover_rate\": 0.7392457619972624,<br>    \"crossover_points\": 1,<br>    \"selection_method\": \"selBoltzmann\",<br>    \"boltzmann_temperature\": 0.7439809347769543,<br>    \"elitism_rate\": 0.18920805904741733,<br>    \"survival_rate\": 0.6356673795948393<br>  }<br>}",
          "{<br>  \"number\": 140,<br>  \"values\": [<br>    0.7357660531997681,<br>    0.7155866622924805,<br>    31.160573482513428<br>  ],<br>  \"params\": {<br>    \"mutation_method\": \"mutConstant\",<br>    \"mutation_prob\": 0.5615751637067808,<br>    \"mutation_by_deletion_rate\": 0.2573237209154278,<br>    \"mutation_rate\": 0.17075532415772143,<br>    \"crossover_method\": \"cxTwoPoint\",<br>    \"crossover_rate\": 0.8950190615062332,<br>    \"crossover_points\": 3,<br>    \"selection_method\": \"selBest\",<br>    \"elitism_rate\": 0.8342907776971983,<br>    \"survival_rate\": 0.0841367375870371<br>  }<br>}",
          "{<br>  \"number\": 141,<br>  \"values\": [<br>    0.7070106863975525,<br>    0.6598525285720825,<br>    39.32696986198425<br>  ],<br>  \"params\": {<br>    \"mutation_method\": \"mutLinear\",<br>    \"mutation_prob\": 0.8232100446386105,<br>    \"mutation_by_deletion_rate\": 0.3058179399984761,<br>    \"mutation_rate_start\": 0.3196498171565421,<br>    \"mutation_rate_end\": 0.7151274261848399,<br>    \"crossover_method\": \"cxKPoint\",<br>    \"crossover_rate\": 0.5541681000848824,<br>    \"crossover_points\": 1,<br>    \"selection_method\": \"selBest\",<br>    \"elitism_rate\": 0.3533066711013997,<br>    \"survival_rate\": 0.4025729522504939<br>  }<br>}",
          "{<br>  \"number\": 142,<br>  \"values\": [<br>    0.6839749813079834,<br>    0.6492917776107788,<br>    38.752175092697144<br>  ],<br>  \"params\": {<br>    \"mutation_method\": \"mutEntropy\",<br>    \"mutation_prob\": 0.5276872765829916,<br>    \"mutation_by_deletion_rate\": 0.2116650889324222,<br>    \"mutation_rate_start\": 0.2152602107913405,<br>    \"mutation_rate_end\": 0.5890111151368655,<br>    \"crossover_method\": \"cxTwoPoint\",<br>    \"crossover_rate\": 0.001856810863361493,<br>    \"crossover_points\": 1,<br>    \"selection_method\": \"selBest\",<br>    \"elitism_rate\": 0.2757298574411847,<br>    \"survival_rate\": 0.4585120181727277<br>  }<br>}",
          "{<br>  \"number\": 143,<br>  \"values\": [<br>    0.6445983648300171,<br>    0.6141116738319397,<br>    30.072044610977173<br>  ],<br>  \"params\": {<br>    \"mutation_method\": \"mutLinear\",<br>    \"mutation_prob\": 0.21032784983043776,<br>    \"mutation_by_deletion_rate\": 0.27874223866854614,<br>    \"mutation_rate_start\": 0.26351858892858354,<br>    \"mutation_rate_end\": 0.9980682167259964,<br>    \"crossover_method\": \"cxKPoint\",<br>    \"crossover_rate\": 0.5974932114090805,<br>    \"crossover_points\": 4,<br>    \"selection_method\": \"selTournament\",<br>    \"tournsize\": 5,<br>    \"elitism_rate\": 0.6047193133955744,<br>    \"survival_rate\": 0.79793569372628<br>  }<br>}",
          "{<br>  \"number\": 144,<br>  \"values\": [<br>    0.7417641878128052,<br>    0.7099527955055237,<br>    30.575434684753418<br>  ],<br>  \"params\": {<br>    \"mutation_method\": \"mutEntropy\",<br>    \"mutation_prob\": 0.11799059405986978,<br>    \"mutation_by_deletion_rate\": 0.12502345084822397,<br>    \"mutation_rate_start\": 0.972182725861271,<br>    \"mutation_rate_end\": 0.2122732291945919,<br>    \"crossover_method\": \"cxTwoPoint\",<br>    \"crossover_rate\": 0.3821772289786596,<br>    \"crossover_points\": 2,<br>    \"selection_method\": \"selStochasticUniversalSampling\",<br>    \"elitism_rate\": 0.5547214384425265,<br>    \"survival_rate\": 0.7559260478395573<br>  }<br>}",
          "{<br>  \"number\": 145,<br>  \"values\": [<br>    0.6982384324073792,<br>    0.6722455501556397,<br>    30.93048119544983<br>  ],<br>  \"params\": {<br>    \"mutation_method\": \"mutLinear\",<br>    \"mutation_prob\": 0.23763887769608516,<br>    \"mutation_by_deletion_rate\": 0.2534919432918841,<br>    \"mutation_rate_start\": 0.3612161334603145,<br>    \"mutation_rate_end\": 0.026694199000831476,<br>    \"crossover_method\": \"cxUniform\",<br>    \"crossover_rate\": 0.05458371700641238,<br>    \"selection_method\": \"selNormRoulette\",<br>    \"elitism_rate\": 0.3739202992585637,<br>    \"survival_rate\": 0.37866540117244724<br>  }<br>}",
          "{<br>  \"number\": 146,<br>  \"values\": [<br>    0.6847978234291077,<br>    0.6534147381782531,<br>    30.20831799507141<br>  ],<br>  \"params\": {<br>    \"mutation_method\": \"mutEntropy\",<br>    \"mutation_prob\": 0.4246824336267122,<br>    \"mutation_by_deletion_rate\": 0.4819794067112973,<br>    \"mutation_rate_start\": 0.8224378051075023,<br>    \"mutation_rate_end\": 0.3090934006351177,<br>    \"crossover_method\": \"cxOnePoint\",<br>    \"crossover_rate\": 0.7670755433737866,<br>    \"selection_method\": \"selBest\",<br>    \"elitism_rate\": 0.6575661550708733,<br>    \"survival_rate\": 0.44912023016724617<br>  }<br>}",
          "{<br>  \"number\": 147,<br>  \"values\": [<br>    0.6485612392425537,<br>    0.6102165699005127,<br>    36.02253437042236<br>  ],<br>  \"params\": {<br>    \"mutation_method\": \"mutConstant\",<br>    \"mutation_prob\": 0.7479002306911859,<br>    \"mutation_by_deletion_rate\": 0.0743533755896679,<br>    \"mutation_rate\": 0.610669188175789,<br>    \"crossover_method\": \"cxKPoint\",<br>    \"crossover_rate\": 0.6777012615087687,<br>    \"crossover_points\": 1,<br>    \"selection_method\": \"selTournament\",<br>    \"tournsize\": 1,<br>    \"elitism_rate\": 0.31577094345013784,<br>    \"survival_rate\": 0.3045745071209769<br>  }<br>}",
          "{<br>  \"number\": 148,<br>  \"values\": [<br>    0.8165640830993652,<br>    0.7451800346374512,<br>    33.340341091156006<br>  ],<br>  \"params\": {<br>    \"mutation_method\": \"mutLinear\",<br>    \"mutation_prob\": 0.2978905430834674,<br>    \"mutation_by_deletion_rate\": 0.5636849778815336,<br>    \"mutation_rate_start\": 0.07782755591464355,<br>    \"mutation_rate_end\": 0.5439562466821926,<br>    \"crossover_method\": \"cxTwoPoint\",<br>    \"crossover_rate\": 0.9637683895987325,<br>    \"crossover_points\": 1,<br>    \"selection_method\": \"selBest\",<br>    \"elitism_rate\": 0.0989782652269825,<br>    \"survival_rate\": 0.018547170155778336<br>  }<br>}",
          "{<br>  \"number\": 149,<br>  \"values\": [<br>    0.6207950115203857,<br>    0.5810410261154175,<br>    41.98984909057617<br>  ],<br>  \"params\": {<br>    \"mutation_method\": \"mutExponential\",<br>    \"mutation_prob\": 0.8433162942919928,<br>    \"mutation_by_deletion_rate\": 0.23448695417949403,<br>    \"mutation_rate_start\": 0.5562333517088485,<br>    \"mutation_rate_end\": 0.12447637228752655,<br>    \"mutation_rate_degree\": 3,<br>    \"crossover_method\": \"cxKPoint\",<br>    \"crossover_rate\": 0.8214782612903037,<br>    \"crossover_points\": 1,<br>    \"selection_method\": \"selRandom\",<br>    \"elitism_rate\": 0.007103482785270808,<br>    \"survival_rate\": 0.36267198246704097<br>  }<br>}",
          "{<br>  \"number\": 150,<br>  \"values\": [<br>    0.617056131362915,<br>    0.5937845826148986,<br>    30.95453405380249<br>  ],<br>  \"params\": {<br>    \"mutation_method\": \"mutEntropy\",<br>    \"mutation_prob\": 0.7120435182127451,<br>    \"mutation_by_deletion_rate\": 0.3380271760203502,<br>    \"mutation_rate_start\": 0.2890219857486492,<br>    \"mutation_rate_end\": 0.7839035905369973,<br>    \"crossover_method\": \"cxTwoPoint\",<br>    \"crossover_rate\": 0.5747590668313687,<br>    \"crossover_points\": 1,<br>    \"selection_method\": \"selTournament\",<br>    \"tournsize\": 7,<br>    \"elitism_rate\": 0.6936278079937997,<br>    \"survival_rate\": 0.4181852142467691<br>  }<br>}",
          "{<br>  \"number\": 151,<br>  \"values\": [<br>    0.7729278802871704,<br>    0.7338194012641907,<br>    30.188660144805908<br>  ],<br>  \"params\": {<br>    \"mutation_method\": \"mutLinear\",<br>    \"mutation_prob\": 0.8018434144571511,<br>    \"mutation_by_deletion_rate\": 0.31716153324703167,<br>    \"mutation_rate_start\": 0.45312640972306945,<br>    \"mutation_rate_end\": 0.09752591711846463,<br>    \"crossover_method\": \"cxKPoint\",<br>    \"crossover_rate\": 0.6236582958192984,<br>    \"crossover_points\": 4,<br>    \"selection_method\": \"selTournamentWithoutReplacement\",<br>    \"tournsize\": 9,<br>    \"elitism_rate\": 0.743788527373854,<br>    \"survival_rate\": 0.3397251068894001<br>  }<br>}",
          "{<br>  \"number\": 152,<br>  \"values\": [<br>    0.6069772839546204,<br>    0.5907711625099182,<br>    29.877091646194458<br>  ],<br>  \"params\": {<br>    \"mutation_method\": \"mutLinear\",<br>    \"mutation_prob\": 0.9408072916710998,<br>    \"mutation_by_deletion_rate\": 0.29949767318891435,<br>    \"mutation_rate_start\": 0.4284015168637069,<br>    \"mutation_rate_end\": 0.48351576942866825,<br>    \"crossover_method\": \"cxTwoPoint\",<br>    \"crossover_rate\": 0.6244507679170216,<br>    \"crossover_points\": 4,<br>    \"selection_method\": \"selRoulette\",<br>    \"elitism_rate\": 0.7845807881289151,<br>    \"survival_rate\": 0.3392205159728748<br>  }<br>}",
          "{<br>  \"number\": 153,<br>  \"values\": [<br>    0.586037814617157,<br>    0.547877061367035,<br>    31.366228818893433<br>  ],<br>  \"params\": {<br>    \"mutation_method\": \"mutEntropy\",<br>    \"mutation_prob\": 0.0711481631950246,<br>    \"mutation_by_deletion_rate\": 0.5157908323563921,<br>    \"mutation_rate_start\": 0.3402166497076781,<br>    \"mutation_rate_end\": 0.8183360194494256,<br>    \"crossover_method\": \"cxKPoint\",<br>    \"crossover_rate\": 0.25170723814483514,<br>    \"crossover_points\": 1,<br>    \"selection_method\": \"selBest\",<br>    \"elitism_rate\": 0.2649413883098622,<br>    \"survival_rate\": 0.398798067554298<br>  }<br>}",
          "{<br>  \"number\": 154,<br>  \"values\": [<br>    0.6895948052406311,<br>    0.6617899537086487,<br>    28.3398699760437<br>  ],<br>  \"params\": {<br>    \"mutation_method\": \"mutLinear\",<br>    \"mutation_prob\": 0.7957218578550649,<br>    \"mutation_by_deletion_rate\": 0.32210262754464425,<br>    \"mutation_rate_start\": 0.30968254521072813,<br>    \"mutation_rate_end\": 0.08493524412608532,<br>    \"crossover_method\": \"cxTwoPoint\",<br>    \"crossover_rate\": 0.036087076538090374,<br>    \"crossover_points\": 3,<br>    \"selection_method\": \"selTournament\",<br>    \"tournsize\": 8,<br>    \"elitism_rate\": 0.9470497103608742,<br>    \"survival_rate\": 0.7144301212742136<br>  }<br>}",
          "{<br>  \"number\": 155,<br>  \"values\": [<br>    0.8289503455162048,<br>    0.7788899660110473,<br>    38.59110927581787<br>  ],<br>  \"params\": {<br>    \"mutation_method\": \"mutEntropy\",<br>    \"mutation_prob\": 0.7647560532587628,<br>    \"mutation_by_deletion_rate\": 0.27713972127158376,<br>    \"mutation_rate_start\": 0.1757290111376001,<br>    \"mutation_rate_end\": 0.3785680395597607,<br>    \"crossover_method\": \"cxKPoint\",<br>    \"crossover_rate\": 0.6430795959010545,<br>    \"crossover_points\": 1,<br>    \"selection_method\": \"selTournamentWithoutReplacement\",<br>    \"tournsize\": 9,<br>    \"elitism_rate\": 0.3030178053788573,<br>    \"survival_rate\": 0.3518795638309489<br>  }<br>}",
          "{<br>  \"number\": 156,<br>  \"values\": [<br>    0.6359370350837708,<br>    0.6217008709907532,<br>    40.703792095184326<br>  ],<br>  \"params\": {<br>    \"mutation_method\": \"mutEntropy\",<br>    \"mutation_prob\": 0.6522577498268711,<br>    \"mutation_by_deletion_rate\": 0.363177404008231,<br>    \"mutation_rate_start\": 0.4523810450006997,<br>    \"mutation_rate_end\": 0.6872777228232566,<br>    \"crossover_method\": \"cxUniform\",<br>    \"crossover_rate\": 0.0724377655035392,<br>    \"selection_method\": \"selBest\",<br>    \"elitism_rate\": 0.15245810071763452,<br>    \"survival_rate\": 0.9850131622795408<br>  }<br>}",
          "{<br>  \"number\": 157,<br>  \"values\": [<br>    0.7619964480400085,<br>    0.7333148956298828,<br>    32.64456486701965<br>  ],<br>  \"params\": {<br>    \"mutation_method\": \"mutLinear\",<br>    \"mutation_prob\": 0.19352125832370506,<br>    \"mutation_by_deletion_rate\": 0.18932127855498304,<br>    \"mutation_rate_start\": 0.5198723288046572,<br>    \"mutation_rate_end\": 0.011895886517026527,<br>    \"crossover_method\": \"cxOnePoint\",<br>    \"crossover_rate\": 0.01562522190155421,<br>    \"selection_method\": \"selBoltzmann\",<br>    \"boltzmann_temperature\": 0.2763774965677976,<br>    \"elitism_rate\": 0.3298007308734398,<br>    \"survival_rate\": 0.8827068981154732<br>  }<br>}",
          "{<br>  \"number\": 158,<br>  \"values\": [<br>    0.8562235832214355,<br>    0.8214829444885254,<br>    38.226046323776245<br>  ],<br>  \"params\": {<br>    \"mutation_method\": \"mutConstant\",<br>    \"mutation_prob\": 0.5970602678487748,<br>    \"mutation_by_deletion_rate\": 0.991517383996304,<br>    \"mutation_rate\": 0.15612574256152012,<br>    \"crossover_method\": \"cxTwoPoint\",<br>    \"crossover_rate\": 0.5215611310875284,<br>    \"crossover_points\": 1,<br>    \"selection_method\": \"selTournament\",<br>    \"tournsize\": 10,<br>    \"elitism_rate\": 0.25049456667624564,<br>    \"survival_rate\": 0.8574757639513827<br>  }<br>}",
          "{<br>  \"number\": 159,<br>  \"values\": [<br>    0.6069400906562805,<br>    0.5598477005958558,<br>    30.262810707092285<br>  ],<br>  \"params\": {<br>    \"mutation_method\": \"mutEntropy\",<br>    \"mutation_prob\": 0.03977275114939771,<br>    \"mutation_by_deletion_rate\": 0.15001504507839575,<br>    \"mutation_rate_start\": 0.6517931812528701,<br>    \"mutation_rate_end\": 0.505932408097334,<br>    \"crossover_method\": \"cxKPoint\",<br>    \"crossover_rate\": 0.32645068942967725,<br>    \"crossover_points\": 1,<br>    \"selection_method\": \"selBest\",<br>    \"elitism_rate\": 0.4830574449259673,<br>    \"survival_rate\": 0.6638784471060599<br>  }<br>}",
          "{<br>  \"number\": 160,<br>  \"values\": [<br>    0.6860761642456055,<br>    0.602415406703949,<br>    32.827463150024414<br>  ],<br>  \"params\": {<br>    \"mutation_method\": \"mutExponential\",<br>    \"mutation_prob\": 0.7305228140207604,<br>    \"mutation_by_deletion_rate\": 0.21847475418646742,<br>    \"mutation_rate_start\": 0.7188720022775349,<br>    \"mutation_rate_end\": 0.45154806955825055,<br>    \"mutation_rate_degree\": 1,<br>    \"crossover_method\": \"cxTwoPoint\",<br>    \"crossover_rate\": 0.11177678890833559,<br>    \"crossover_points\": 1,<br>    \"selection_method\": \"selStochasticUniversalSampling\",<br>    \"elitism_rate\": 0.7441939549489334,<br>    \"survival_rate\": 0.27270974380005597<br>  }<br>}",
          "{<br>  \"number\": 161,<br>  \"values\": [<br>    0.7898143529891968,<br>    0.7564774036407471,<br>    39.008209466934204<br>  ],<br>  \"params\": {<br>    \"mutation_method\": \"mutEntropy\",<br>    \"mutation_prob\": 0.6996139817971135,<br>    \"mutation_by_deletion_rate\": 0.29522825584332024,<br>    \"mutation_rate_start\": 0.39378610405384173,<br>    \"mutation_rate_end\": 0.1711137892810969,<br>    \"crossover_method\": \"cxKPoint\",<br>    \"crossover_rate\": 0.5820951968115005,<br>    \"crossover_points\": 2,<br>    \"selection_method\": \"selBest\",<br>    \"elitism_rate\": 0.2887021547633661,<br>    \"survival_rate\": 0.8199748342217539<br>  }<br>}",
          "{<br>  \"number\": 162,<br>  \"values\": [<br>    0.7953899502754211,<br>    0.7436204195022583,<br>    40.211261510849<br>  ],<br>  \"params\": {<br>    \"mutation_method\": \"mutLinear\",<br>    \"mutation_prob\": 0.9995398611041131,<br>    \"mutation_by_deletion_rate\": 0.25065490364212206,<br>    \"mutation_rate_start\": 0.30270650637486707,<br>    \"mutation_rate_end\": 0.271981055656231,<br>    \"crossover_method\": \"cxTwoPoint\",<br>    \"crossover_rate\": 0.6549558638729023,<br>    \"crossover_points\": 4,<br>    \"selection_method\": \"selTournament\",<br>    \"tournsize\": 2,<br>    \"elitism_rate\": 0.34459922875031224,<br>    \"survival_rate\": 0.604802417955166<br>  }<br>}",
          "{<br>  \"number\": 163,<br>  \"values\": [<br>    0.84247887134552,<br>    0.7758145809173584,<br>    40.57652425765991<br>  ],<br>  \"params\": {<br>    \"mutation_method\": \"mutLinear\",<br>    \"mutation_prob\": 0.8801540435404134,<br>    \"mutation_by_deletion_rate\": 0.3198533240190907,<br>    \"mutation_rate_start\": 0.8676484708633276,<br>    \"mutation_rate_end\": 0.04738644396766379,<br>    \"crossover_method\": \"cxTwoPoint\",<br>    \"crossover_rate\": 0.6028279683571957,<br>    \"crossover_points\": 1,<br>    \"selection_method\": \"selBest\",<br>    \"elitism_rate\": 0.26920667532724507,<br>    \"survival_rate\": 0.37305584262755126<br>  }<br>}",
          "{<br>  \"number\": 164,<br>  \"values\": [<br>    0.8064595460891724,<br>    0.7658223867416382,<br>    34.84465003013611<br>  ],<br>  \"params\": {<br>    \"mutation_method\": \"mutEntropy\",<br>    \"mutation_prob\": 0.14571196177894052,<br>    \"mutation_by_deletion_rate\": 0.2674168803016281,<br>    \"mutation_rate_start\": 0.6136103870076322,<br>    \"mutation_rate_end\": 0.13393044199316773,<br>    \"crossover_method\": \"cxOnePoint\",<br>    \"crossover_rate\": 0.5550025017641497,<br>    \"selection_method\": \"selNormRoulette\",<br>    \"elitism_rate\": 0.3599257416304687,<br>    \"survival_rate\": 0.7739225421763071<br>  }<br>}",
          "{<br>  \"number\": 165,<br>  \"values\": [<br>    0.7271966934204102,<br>    0.685290539264679,<br>    34.92019772529602<br>  ],<br>  \"params\": {<br>    \"mutation_method\": \"mutEntropy\",<br>    \"mutation_prob\": 0.31750443458004807,<br>    \"mutation_by_deletion_rate\": 0.11161618149712271,<br>    \"mutation_rate_start\": 0.27418837638148247,<br>    \"mutation_rate_end\": 0.4230185297979557,<br>    \"crossover_method\": \"cxKPoint\",<br>    \"crossover_rate\": 0.003213222237997755,<br>    \"crossover_points\": 1,<br>    \"selection_method\": \"selTournament\",<br>    \"tournsize\": 6,<br>    \"elitism_rate\": 0.4587786361785719,<br>    \"survival_rate\": 0.7366742028049238<br>  }<br>}",
          "{<br>  \"number\": 166,<br>  \"values\": [<br>    0.7868730425834656,<br>    0.748797333240509,<br>    39.25185513496399<br>  ],<br>  \"params\": {<br>    \"mutation_method\": \"mutLinear\",<br>    \"mutation_prob\": 0.8077876991612271,<br>    \"mutation_by_deletion_rate\": 0.04449959419665794,<br>    \"mutation_rate_start\": 0.372703470999778,<br>    \"mutation_rate_end\": 0.6506936570682563,<br>    \"crossover_method\": \"cxUniform\",<br>    \"crossover_rate\": 0.6699740421676927,<br>    \"selection_method\": \"selBest\",<br>    \"elitism_rate\": 0.30178628052628753,<br>    \"survival_rate\": 0.5553512630583948<br>  }<br>}",
          "{<br>  \"number\": 167,<br>  \"values\": [<br>    0.7499423027038574,<br>    0.6582605004310608,<br>    41.72869253158569<br>  ],<br>  \"params\": {<br>    \"mutation_method\": \"mutConstant\",<br>    \"mutation_prob\": 0.7771298875658701,<br>    \"mutation_by_deletion_rate\": 0.6591706480114101,<br>    \"mutation_rate\": 0.8774123004206527,<br>    \"crossover_method\": \"cxTwoPoint\",<br>    \"crossover_rate\": 0.6176806962934296,<br>    \"crossover_points\": 1,<br>    \"selection_method\": \"selRandom\",<br>    \"elitism_rate\": 0.22661546989186931,<br>    \"survival_rate\": 0.6888703769306187<br>  }<br>}",
          "{<br>  \"number\": 168,<br>  \"values\": [<br>    0.5776277780532837,<br>    0.5491045117378235,<br>    34.301621198654175<br>  ],<br>  \"params\": {<br>    \"mutation_method\": \"mutEntropy\",<br>    \"mutation_prob\": 0.10040152167011732,<br>    \"mutation_by_deletion_rate\": 0.3408333750164355,<br>    \"mutation_rate_start\": 0.3376292643962652,<br>    \"mutation_rate_end\": 0.730918162696623,<br>    \"crossover_method\": \"cxKPoint\",<br>    \"crossover_rate\": 0.04718989108830115,<br>    \"crossover_points\": 3,<br>    \"selection_method\": \"selRoulette\",<br>    \"elitism_rate\": 0.3185637975142233,<br>    \"survival_rate\": 0.043238656321809454<br>  }<br>}",
          "{<br>  \"number\": 169,<br>  \"values\": [<br>    0.7278872132301331,<br>    0.6912458419799805,<br>    37.49318480491638<br>  ],<br>  \"params\": {<br>    \"mutation_method\": \"mutExponential\",<br>    \"mutation_prob\": 0.9153869647933386,<br>    \"mutation_by_deletion_rate\": 0.7907884433115285,<br>    \"mutation_rate_start\": 0.6941795586376129,<br>    \"mutation_rate_end\": 0.8595572368793614,<br>    \"mutation_rate_degree\": 4,<br>    \"crossover_method\": \"cxTwoPoint\",<br>    \"crossover_rate\": 0.8758242251947426,<br>    \"crossover_points\": 1,<br>    \"selection_method\": \"selTournamentWithoutReplacement\",<br>    \"tournsize\": 5,<br>    \"elitism_rate\": 0.5149298688250287,<br>    \"survival_rate\": 0.9392456255272119<br>  }<br>}",
          "{<br>  \"number\": 170,<br>  \"values\": [<br>    0.7355497479438782,<br>    0.6921810626983642,<br>    40.75421071052551<br>  ],<br>  \"params\": {<br>    \"mutation_method\": \"mutLinear\",<br>    \"mutation_prob\": 0.963437460315147,<br>    \"mutation_by_deletion_rate\": 0.2875922998464528,<br>    \"mutation_rate_start\": 0.22194102690551104,<br>    \"mutation_rate_end\": 0.7634017457048059,<br>    \"crossover_method\": \"cxTwoPoint\",<br>    \"crossover_rate\": 0.029047547052426168,<br>    \"crossover_points\": 1,<br>    \"selection_method\": \"selTournament\",<br>    \"tournsize\": 9,<br>    \"elitism_rate\": 0.2812958585453792,<br>    \"survival_rate\": 0.3931158081181913<br>  }<br>}",
          "{<br>  \"number\": 171,<br>  \"values\": [<br>    0.8230640888214111,<br>    0.7845830678939819,<br>    34.87657189369202<br>  ],<br>  \"params\": {<br>    \"mutation_method\": \"mutConstant\",<br>    \"mutation_prob\": 0.2641078969901095,<br>    \"mutation_by_deletion_rate\": 0.7231095983511413,<br>    \"mutation_rate\": 0.15494072222350952,<br>    \"crossover_method\": \"cxTwoPoint\",<br>    \"crossover_rate\": 0.5312259877221235,<br>    \"crossover_points\": 1,<br>    \"selection_method\": \"selBest\",<br>    \"elitism_rate\": 0.29739068302189103,<br>    \"survival_rate\": 0.3306481084124834<br>  }<br>}",
          "{<br>  \"number\": 172,<br>  \"values\": [<br>    0.6209244132041931,<br>    0.5924120664596557,<br>    38.95072412490845<br>  ],<br>  \"params\": {<br>    \"mutation_method\": \"mutEntropy\",<br>    \"mutation_prob\": 0.5970053881345145,<br>    \"mutation_by_deletion_rate\": 0.231708737360077,<br>    \"mutation_rate_start\": 0.9354812259296587,<br>    \"mutation_rate_end\": 0.3335818747771644,<br>    \"crossover_method\": \"cxKPoint\",<br>    \"crossover_rate\": 0.4582847039718032,<br>    \"crossover_points\": 1,<br>    \"selection_method\": \"selTournament\",<br>    \"tournsize\": 10,<br>    \"elitism_rate\": 0.24975568365940282,<br>    \"survival_rate\": 0.8578855110034735<br>  }<br>}",
          "{<br>  \"number\": 173,<br>  \"values\": [<br>    0.7987520694732666,<br>    0.7487171649932861,<br>    39.9927031993866<br>  ],<br>  \"params\": {<br>    \"mutation_method\": \"mutEntropy\",<br>    \"mutation_prob\": 0.744797211632769,<br>    \"mutation_by_deletion_rate\": 0.9977651742768379,<br>    \"mutation_rate_start\": 0.24399825948173917,<br>    \"mutation_rate_end\": 0.20362340588033,<br>    \"crossover_method\": \"cxTwoPoint\",<br>    \"crossover_rate\": 0.5979937255510203,<br>    \"crossover_points\": 4,<br>    \"selection_method\": \"selBest\",<br>    \"elitism_rate\": 0.25778493364740895,<br>    \"survival_rate\": 0.3561443935450179<br>  }<br>}",
          "{<br>  \"number\": 174,<br>  \"values\": [<br>    0.7080999612808228,<br>    0.6680881142616272,<br>    34.00104761123657<br>  ],<br>  \"params\": {<br>    \"mutation_method\": \"mutLinear\",<br>    \"mutation_prob\": 0.16522765558918917,<br>    \"mutation_by_deletion_rate\": 0.022294756086918777,<br>    \"mutation_rate_start\": 0.6335752602639099,<br>    \"mutation_rate_end\": 0.5239031999510345,<br>    \"crossover_method\": \"cxOnePoint\",<br>    \"crossover_rate\": 0.4080483126319394,<br>    \"selection_method\": \"selTournament\",<br>    \"tournsize\": 7,<br>    \"elitism_rate\": 0.32864694332400946,<br>    \"survival_rate\": 0.633293958747955<br>  }<br>}",
          "{<br>  \"number\": 175,<br>  \"values\": [<br>    0.6333327889442444,<br>    0.600256335735321,<br>    37.90218472480774<br>  ],<br>  \"params\": {<br>    \"mutation_method\": \"mutEntropy\",<br>    \"mutation_prob\": 0.5066637301645347,<br>    \"mutation_by_deletion_rate\": 0.30630463504876543,<br>    \"mutation_rate_start\": 0.5779220959506568,<br>    \"mutation_rate_end\": 0.9092077654457161,<br>    \"crossover_method\": \"cxKPoint\",<br>    \"crossover_rate\": 0.5747781898660157,<br>    \"crossover_points\": 2,<br>    \"selection_method\": \"selBoltzmann\",<br>    \"boltzmann_temperature\": 0.5864056787812706,<br>    \"elitism_rate\": 0.3098384181753534,<br>    \"survival_rate\": 0.4378080779258422<br>  }<br>}",
          "{<br>  \"number\": 176,<br>  \"values\": [<br>    0.871685802936554,<br>    0.803826105594635,<br>    38.49399185180664<br>  ],<br>  \"params\": {<br>    \"mutation_method\": \"mutConstant\",<br>    \"mutation_prob\": 0.540899353146216,<br>    \"mutation_by_deletion_rate\": 0.9117600660484649,<br>    \"mutation_rate\": 0.36413886096075715,<br>    \"crossover_method\": \"cxUniform\",<br>    \"crossover_rate\": 0.6372737245889739,<br>    \"selection_method\": \"selBest\",<br>    \"elitism_rate\": 0.2816099978648288,<br>    \"survival_rate\": 0.9120818361334811<br>  }<br>}",
          "{<br>  \"number\": 177,<br>  \"values\": [<br>    0.7126734256744385,<br>    0.6902157425880432,<br>    32.164268255233765<br>  ],<br>  \"params\": {<br>    \"mutation_method\": \"mutLinear\",<br>    \"mutation_prob\": 0.03234720352260645,<br>    \"mutation_by_deletion_rate\": 0.20510977340645195,<br>    \"mutation_rate_start\": 0.05815219393792215,<br>    \"mutation_rate_end\": 0.3912247697354906,<br>    \"crossover_method\": \"cxTwoPoint\",<br>    \"crossover_rate\": 0.939777507371231,<br>    \"crossover_points\": 1,<br>    \"selection_method\": \"selStochasticUniversalSampling\",<br>    \"elitism_rate\": 0.33638176867689074,<br>    \"survival_rate\": 0.37494969803563477<br>  }<br>}",
          "{<br>  \"number\": 178,<br>  \"values\": [<br>    0.5970922112464905,<br>    0.547404408454895,<br>    29.36123776435852<br>  ],<br>  \"params\": {<br>    \"mutation_method\": \"mutEntropy\",<br>    \"mutation_prob\": 0.22712010545504885,<br>    \"mutation_by_deletion_rate\": 0.2488226880361997,<br>    \"mutation_rate_start\": 0.036970297663599515,<br>    \"mutation_rate_end\": 0.5791349492384056,<br>    \"crossover_method\": \"cxKPoint\",<br>    \"crossover_rate\": 0.06925136022631495,<br>    \"crossover_points\": 1,<br>    \"selection_method\": \"selTournament\",<br>    \"tournsize\": 4,<br>    \"elitism_rate\": 0.8986187128398366,<br>    \"survival_rate\": 0.8412216420429427<br>  }<br>}",
          "{<br>  \"number\": 179,<br>  \"values\": [<br>    0.7660773992538452,<br>    0.7142853021621705,<br>    34.95470690727234<br>  ],<br>  \"params\": {<br>    \"mutation_method\": \"mutExponential\",<br>    \"mutation_prob\": 0.34861573660843154,<br>    \"mutation_by_deletion_rate\": 0.9724890364801673,<br>    \"mutation_rate_start\": 0.14370906413625217,<br>    \"mutation_rate_end\": 0.9649989581579723,<br>    \"mutation_rate_degree\": 3,<br>    \"crossover_method\": \"cxTwoPoint\",<br>    \"crossover_rate\": 0.21448744356526017,<br>    \"crossover_points\": 1,<br>    \"selection_method\": \"selBest\",<br>    \"elitism_rate\": 0.24367226651938023,<br>    \"survival_rate\": 0.30090132900402333<br>  }<br>}",
          "{<br>  \"number\": 180,<br>  \"values\": [<br>    0.8351483345031738,<br>    0.7991580486297607,<br>    38.43742394447327<br>  ],<br>  \"params\": {<br>    \"mutation_method\": \"mutLinear\",<br>    \"mutation_prob\": 0.39675481522050904,<br>    \"mutation_by_deletion_rate\": 0.2699096847218096,<br>    \"mutation_rate_start\": 0.003855219893067738,<br>    \"mutation_rate_end\": 0.6116607592030652,<br>    \"crossover_method\": \"cxTwoPoint\",<br>    \"crossover_rate\": 0.6959827131870702,<br>    \"crossover_points\": 1,<br>    \"selection_method\": \"selNormRoulette\",<br>    \"elitism_rate\": 0.2865150531165188,<br>    \"survival_rate\": 0.5867372851486308<br>  }<br>}",
          "{<br>  \"number\": 181,<br>  \"values\": [<br>    0.7031478881835938,<br>    0.6763641357421875,<br>    39.35206484794617<br>  ],<br>  \"params\": {<br>    \"mutation_method\": \"mutEntropy\",<br>    \"mutation_prob\": 0.7774470942571814,<br>    \"mutation_by_deletion_rate\": 0.321275204121204,<br>    \"mutation_rate_start\": 0.7679265490860255,<br>    \"mutation_rate_end\": 0.05201617162263972,<br>    \"crossover_method\": \"cxKPoint\",<br>    \"crossover_rate\": 0.000530679441985038,<br>    \"crossover_points\": 3,<br>    \"selection_method\": \"selBest\",<br>    \"elitism_rate\": 0.3164326740654389,<br>    \"survival_rate\": 0.3950338905231757<br>  }<br>}",
          "{<br>  \"number\": 182,<br>  \"values\": [<br>    0.5256597995758057,<br>    0.49987045526504514,<br>    28.890155792236328<br>  ],<br>  \"params\": {<br>    \"mutation_method\": \"mutEntropy\",<br>    \"mutation_prob\": 0.7215604212291253,<br>    \"mutation_by_deletion_rate\": 0.17122270011438934,<br>    \"mutation_rate_start\": 0.8049745195287976,<br>    \"mutation_rate_end\": 0.11328090964651708,<br>    \"crossover_method\": \"cxTwoPoint\",<br>    \"crossover_rate\": 0.6142222449423257,<br>    \"crossover_points\": 1,<br>    \"selection_method\": \"selTournament\",<br>    \"tournsize\": 10,<br>    \"elitism_rate\": 0.9985431702794386,<br>    \"survival_rate\": 0.4161225790951135<br>  }<br>}",
          "{<br>  \"number\": 183,<br>  \"values\": [<br>    0.7399319410324097,<br>    0.7344926953315735,<br>    43.340224742889404<br>  ],<br>  \"params\": {<br>    \"mutation_method\": \"mutLinear\",<br>    \"mutation_prob\": 0.9800253823860617,<br>    \"mutation_by_deletion_rate\": 0.2900821687425118,<br>    \"mutation_rate_start\": 0.3525106961151419,<br>    \"mutation_rate_end\": 0.09111268797484227,<br>    \"crossover_method\": \"cxKPoint\",<br>    \"crossover_rate\": 0.04209136420387918,<br>    \"crossover_points\": 4,<br>    \"selection_method\": \"selRandom\",<br>    \"elitism_rate\": 0.2647620780975596,<br>    \"survival_rate\": 0.3413611676328415<br>  }<br>}",
          "{<br>  \"number\": 184,<br>  \"values\": [<br>    0.7678288817405701,<br>    0.7401992440223694,<br>    38.722057819366455<br>  ],<br>  \"params\": {<br>    \"mutation_method\": \"mutEntropy\",<br>    \"mutation_prob\": 0.45676958502772597,<br>    \"mutation_by_deletion_rate\": 0.3665772805142201,<br>    \"mutation_rate_start\": 0.32110861653471395,<br>    \"mutation_rate_end\": 0.5571471260825169,<br>    \"crossover_method\": \"cxOnePoint\",<br>    \"crossover_rate\": 0.5215817339116843,<br>    \"selection_method\": \"selBest\",<br>    \"elitism_rate\": 0.30727046401582225,<br>    \"survival_rate\": 0.7904264935568661<br>  }<br>}",
          "{<br>  \"number\": 185,<br>  \"values\": [<br>    0.6242491006851196,<br>    0.5927525758743286,<br>    40.26584815979004<br>  ],<br>  \"params\": {<br>    \"mutation_method\": \"mutConstant\",<br>    \"mutation_prob\": 0.6853380634033384,<br>    \"mutation_by_deletion_rate\": 0.8215709257379763,<br>    \"mutation_rate\": 0.6278271622696416,<br>    \"crossover_method\": \"cxTwoPoint\",<br>    \"crossover_rate\": 0.8051546913717221,<br>    \"crossover_points\": 1,<br>    \"selection_method\": \"selRoulette\",<br>    \"elitism_rate\": 0.36633772425662275,<br>    \"survival_rate\": 0.09612338261731057<br>  }<br>}",
          "{<br>  \"number\": 186,<br>  \"values\": [<br>    0.6141829490661621,<br>    0.5844269394874573,<br>    35.55988168716431<br>  ],<br>  \"params\": {<br>    \"mutation_method\": \"mutLinear\",<br>    \"mutation_prob\": 0.05305788738425776,<br>    \"mutation_by_deletion_rate\": 0.5701969081522704,<br>    \"mutation_rate_start\": 0.4769034613347361,<br>    \"mutation_rate_end\": 0.3582210356954986,<br>    \"crossover_method\": \"cxUniform\",<br>    \"crossover_rate\": 0.018673639442782275,<br>    \"selection_method\": \"selTournament\",<br>    \"tournsize\": 9,<br>    \"elitism_rate\": 0.27581971953977913,<br>    \"survival_rate\": 0.6499782994903744<br>  }<br>}",
          "{<br>  \"number\": 187,<br>  \"values\": [<br>    0.8289003968238831,<br>    0.7696704983711242,<br>    40.703898668289185<br>  ],<br>  \"params\": {<br>    \"mutation_method\": \"mutEntropy\",<br>    \"mutation_prob\": 0.8322100774254135,<br>    \"mutation_by_deletion_rate\": 0.8666313642680926,<br>    \"mutation_rate_start\": 0.29345056315227314,<br>    \"mutation_rate_end\": 0.14990733781487864,<br>    \"crossover_method\": \"cxKPoint\",<br>    \"crossover_rate\": 0.9969774402233461,<br>    \"crossover_points\": 1,<br>    \"selection_method\": \"selBest\",<br>    \"elitism_rate\": 0.3394764969044555,<br>    \"survival_rate\": 0.7233457869250529<br>  }<br>}",
          "{<br>  \"number\": 188,<br>  \"values\": [<br>    0.6469725370407104,<br>    0.6122082233428955,<br>    35.50710916519165<br>  ],<br>  \"params\": {<br>    \"mutation_method\": \"mutExponential\",<br>    \"mutation_prob\": 0.07624913829741756,<br>    \"mutation_by_deletion_rate\": 0.333731940789882,<br>    \"mutation_rate_start\": 0.8846900289551138,<br>    \"mutation_rate_end\": 0.22099446502248002,<br>    \"mutation_rate_degree\": 2,<br>    \"crossover_method\": \"cxTwoPoint\",<br>    \"crossover_rate\": 0.5863679368958351,<br>    \"crossover_points\": 1,<br>    \"selection_method\": \"selBest\",<br>    \"elitism_rate\": 0.2893686879776766,<br>    \"survival_rate\": 0.37640616987007763<br>  }<br>}",
          "{<br>  \"number\": 189,<br>  \"values\": [<br>    0.7141220569610596,<br>    0.6892849445343018,<br>    32.46401762962341<br>  ],<br>  \"params\": {<br>    \"mutation_method\": \"mutLinear\",<br>    \"mutation_prob\": 0.752750794653999,<br>    \"mutation_by_deletion_rate\": 0.3049650144487577,<br>    \"mutation_rate_start\": 0.09681402652123283,<br>    \"mutation_rate_end\": 0.29643307552388465,<br>    \"crossover_method\": \"cxTwoPoint\",<br>    \"crossover_rate\": 0.08777190464306417,<br>    \"crossover_points\": 1,<br>    \"selection_method\": \"selTournamentWithoutReplacement\",<br>    \"tournsize\": 8,<br>    \"elitism_rate\": 0.839810763880966,<br>    \"survival_rate\": 0.32154936252829586<br>  }<br>}",
          "{<br>  \"number\": 191,<br>  \"values\": [<br>    0.5822955965995789,<br>    0.5457147717475891,<br>    18.252070903778076<br>  ],<br>  \"params\": {<br>    \"mutation_method\": \"mutLinear\",<br>    \"mutation_prob\": 0.009312623352711219,<br>    \"mutation_by_deletion_rate\": 0.2684326143438002,<br>    \"mutation_rate_start\": 0.5899437622899797,<br>    \"mutation_rate_end\": 0.17851426870854414,<br>    \"crossover_method\": \"cxKPoint\",<br>    \"crossover_rate\": 0.5553777519607649,<br>    \"crossover_points\": 2,<br>    \"selection_method\": \"selTournament\",<br>    \"tournsize\": 10,<br>    \"elitism_rate\": 0.3205000050214974,<br>    \"survival_rate\": 0.0008407285514996365<br>  }<br>}",
          "{<br>  \"number\": 192,<br>  \"values\": [<br>    0.6956800818443298,<br>    0.6691726922988892,<br>    34.70263433456421<br>  ],<br>  \"params\": {<br>    \"mutation_method\": \"mutEntropy\",<br>    \"mutation_prob\": 0.9315364118346016,<br>    \"mutation_by_deletion_rate\": 0.24245431872870823,<br>    \"mutation_rate_start\": 0.4090569975011906,<br>    \"mutation_rate_end\": 0.18066620028382246,<br>    \"crossover_method\": \"cxKPoint\",<br>    \"crossover_rate\": 0.624797459557797,<br>    \"crossover_points\": 2,<br>    \"selection_method\": \"selTournament\",<br>    \"tournsize\": 3,<br>    \"elitism_rate\": 0.7286873490230763,<br>    \"survival_rate\": 0.7551895858043293<br>  }<br>}",
          "{<br>  \"number\": 193,<br>  \"values\": [<br>    0.7911331653594971,<br>    0.7378254771232605,<br>    43.037420988082886<br>  ],<br>  \"params\": {<br>    \"mutation_method\": \"mutEntropy\",<br>    \"mutation_prob\": 0.7941657384511907,<br>    \"mutation_by_deletion_rate\": 0.28235805985023227,<br>    \"mutation_rate_start\": 0.546268677260183,<br>    \"mutation_rate_end\": 0.19671424213624367,<br>    \"crossover_method\": \"cxTwoPoint\",<br>    \"crossover_rate\": 0.6049509248895388,<br>    \"crossover_points\": 2,<br>    \"selection_method\": \"selBoltzmann\",<br>    \"boltzmann_temperature\": 0.2404237544132969,<br>    \"elitism_rate\": 0.24723747105262045,<br>    \"survival_rate\": 0.5174222520247711<br>  }<br>}",
          "{<br>  \"number\": 194,<br>  \"values\": [<br>    0.7142236828804016,<br>    0.6601560950279236,<br>    35.59647560119629<br>  ],<br>  \"params\": {<br>    \"mutation_method\": \"mutLinear\",<br>    \"mutation_prob\": 0.11767270174284739,<br>    \"mutation_by_deletion_rate\": 0.34982510664162975,<br>    \"mutation_rate_start\": 0.6752797445122074,<br>    \"mutation_rate_end\": 0.1553763527820741,<br>    \"crossover_method\": \"cxKPoint\",<br>    \"crossover_rate\": 0.026598848847229108,<br>    \"crossover_points\": 2,<br>    \"selection_method\": \"selBest\",<br>    \"elitism_rate\": 0.2987255036068393,<br>    \"survival_rate\": 0.7004626681644358<br>  }<br>}",
          "{<br>  \"number\": 195,<br>  \"values\": [<br>    0.7731344699859619,<br>    0.7552766561508178,<br>    40.88560342788696<br>  ],<br>  \"params\": {<br>    \"mutation_method\": \"mutConstant\",<br>    \"mutation_prob\": 0.5643270956946275,<br>    \"mutation_by_deletion_rate\": 0.21761287239904,<br>    \"mutation_rate\": 0.19874831123861902,<br>    \"crossover_method\": \"cxOnePoint\",<br>    \"crossover_rate\": 0.49624613102084886,<br>    \"selection_method\": \"selTournament\",<br>    \"tournsize\": 9,<br>    \"elitism_rate\": 0.2596601717961926,<br>    \"survival_rate\": 0.23195043904305057<br>  }<br>}",
          "{<br>  \"number\": 196,<br>  \"values\": [<br>    0.81167072057724,<br>    0.7611106276512146,<br>    34.92068147659302<br>  ],<br>  \"params\": {<br>    \"mutation_method\": \"mutEntropy\",<br>    \"mutation_prob\": 0.6168875472312498,<br>    \"mutation_by_deletion_rate\": 0.31470172354153175,<br>    \"mutation_rate_start\": 0.4546412993779817,<br>    \"mutation_rate_end\": 0.13978309496178845,<br>    \"crossover_method\": \"cxTwoPoint\",<br>    \"crossover_rate\": 0.5753252976958979,<br>    \"crossover_points\": 2,<br>    \"selection_method\": \"selBest\",<br>    \"elitism_rate\": 0.682018583202761,<br>    \"survival_rate\": 0.6167407873253234<br>  }<br>}",
          "{<br>  \"number\": 197,<br>  \"values\": [<br>    0.6736312508583069,<br>    0.6513156771659852,<br>    37.387383699417114<br>  ],<br>  \"params\": {<br>    \"mutation_method\": \"mutLinear\",<br>    \"mutation_prob\": 0.47791422686218216,<br>    \"mutation_by_deletion_rate\": 0.18913905999744918,<br>    \"mutation_rate_start\": 0.3693371241845961,<br>    \"mutation_rate_end\": 0.2505877420286985,<br>    \"crossover_method\": \"cxUniform\",<br>    \"crossover_rate\": 0.05247258226537296,<br>    \"selection_method\": \"selStochasticUniversalSampling\",<br>    \"elitism_rate\": 0.3558260147436127,<br>    \"survival_rate\": 0.35645603507558826<br>  }<br>}",
          "{<br>  \"number\": 198,<br>  \"values\": [<br>    0.7068942189216614,<br>    0.6797090888023376,<br>    34.43177103996277<br>  ],<br>  \"params\": {<br>    \"mutation_method\": \"mutEntropy\",<br>    \"mutation_prob\": 0.2843384650040655,<br>    \"mutation_by_deletion_rate\": 0.6351625009476738,<br>    \"mutation_rate_start\": 0.1968534460414586,<br>    \"mutation_rate_end\": 0.11602416636136476,<br>    \"crossover_method\": \"cxKPoint\",<br>    \"crossover_rate\": 0.6595525362619011,<br>    \"crossover_points\": 2,<br>    \"selection_method\": \"selRandom\",<br>    \"elitism_rate\": 0.6184317029863939,<br>    \"survival_rate\": 0.6758424758902758<br>  }<br>}",
          "{<br>  \"number\": 199,<br>  \"values\": [<br>    0.7999708652496338,<br>    0.7377057194709777,<br>    39.88054585456848<br>  ],<br>  \"params\": {<br>    \"mutation_method\": \"mutExponential\",<br>    \"mutation_prob\": 0.43277610518725457,<br>    \"mutation_by_deletion_rate\": 0.772141240751099,<br>    \"mutation_rate_start\": 0.7338307026580952,<br>    \"mutation_rate_end\": 0.07619540814851616,<br>    \"mutation_rate_degree\": 1,<br>    \"crossover_method\": \"cxTwoPoint\",<br>    \"crossover_rate\": 0.6397535276306063,<br>    \"crossover_points\": 3,<br>    \"selection_method\": \"selNormRoulette\",<br>    \"elitism_rate\": 0.3298729288716101,<br>    \"survival_rate\": 0.3965979226486659<br>  }<br>}"
         ],
         "type": "scatter",
         "x": [
          0.7278436422348022,
          0.7588212490081787,
          0.6106458902359009,
          0.6472018957138062,
          0.6176146268844604,
          0.6595203876495361,
          0.7059294581413269,
          0.6898598074913025,
          0.6457276940345764,
          0.839830756187439,
          0.7118198871612549,
          0.8492773771286011,
          0.7211655974388123,
          0.6942210793495178,
          0.7342208027839661,
          0.6888698935508728,
          0.7742751240730286,
          0.8319792151451111,
          0.8673994541168213,
          0.8446002006530762,
          0.581763505935669,
          0.6221267580986023,
          0.5268564820289612,
          0.7991272211074829,
          0.7315282821655273,
          0.7039453983306885,
          0.827492356300354,
          0.5610727667808533,
          0.6824824810028076,
          0.7771769165992737,
          0.7776364088058472,
          0.654380202293396,
          0.6863411068916321,
          0.7159580588340759,
          0.7473331093788147,
          0.8186487555503845,
          0.7312736511230469,
          0.6001713275909424,
          0.8431911468505859,
          0.6889136433601379,
          0.8410845994949341,
          0.6756318807601929,
          0.6365086436271667,
          0.7879999876022339,
          0.7397379279136658,
          0.7891584634780884,
          0.7070520520210266,
          0.7364332675933838,
          0.7811287641525269,
          0.8338178396224976,
          0.8410730361938477,
          0.7159609794616699,
          0.733029842376709,
          0.5519899129867554,
          0.824042797088623,
          0.7852331399917603,
          0.7198595404624939,
          0.7470958232879639,
          0.8324827551841736,
          0.6624289751052856,
          0.8179866671562195,
          0.7827468514442444,
          0.7092493772506714,
          0.7266479730606079,
          0.6077612042427063,
          0.5858001708984375,
          0.6921095848083496,
          0.6793094873428345,
          0.800360918045044,
          0.7296648025512695,
          0.7290562987327576,
          0.5368230938911438,
          0.7897964715957642,
          0.6453681588172913,
          0.8221539258956909,
          0.6225752234458923,
          0.6747480034828186,
          0.7546871900558472,
          0.717465341091156,
          0.7666546702384949,
          0.5833253264427185,
          0.7037366032600403,
          0.7995247840881348,
          0.7088115215301514,
          0.653691828250885,
          0.7945880889892578,
          0.6648522615432739,
          0.5957351922988892,
          0.6986208558082581,
          0.877703070640564,
          0.5996505618095398,
          0.752388596534729,
          0.6163912415504456,
          0.8023749589920044,
          0.7560480237007141,
          0.7022519707679749,
          0.7318933606147766,
          0.7647905349731445,
          0.6369455456733704,
          0.7315438985824585,
          0.756585955619812,
          0.6542184948921204,
          0.7136111259460449,
          0.6984911561012268,
          0.7696993947029114,
          0.6543329358100891,
          0.6556683778762817,
          0.5222430229187012,
          0.5877988338470459,
          0.7215800881385803,
          0.5349524021148682,
          0.7057828307151794,
          0.6866185069084167,
          0.7109161615371704,
          0.6438296437263489,
          0.7634557485580444,
          0.6724451780319214,
          0.6938449740409851,
          0.8796648979187012,
          0.7956542372703552,
          0.5779446363449097,
          0.765335202217102,
          0.816871166229248,
          0.7540360689163208,
          0.7631176710128784,
          0.711453378200531,
          0.6440722346305847,
          0.7291814088821411,
          0.8653249740600586,
          0.7357660531997681,
          0.7070106863975525,
          0.6839749813079834,
          0.6445983648300171,
          0.7417641878128052,
          0.6982384324073792,
          0.6847978234291077,
          0.6485612392425537,
          0.8165640830993652,
          0.6207950115203857,
          0.617056131362915,
          0.7729278802871704,
          0.6069772839546204,
          0.586037814617157,
          0.6895948052406311,
          0.8289503455162048,
          0.6359370350837708,
          0.7619964480400085,
          0.8562235832214355,
          0.6069400906562805,
          0.6860761642456055,
          0.7898143529891968,
          0.7953899502754211,
          0.84247887134552,
          0.8064595460891724,
          0.7271966934204102,
          0.7868730425834656,
          0.7499423027038574,
          0.5776277780532837,
          0.7278872132301331,
          0.7355497479438782,
          0.8230640888214111,
          0.6209244132041931,
          0.7987520694732666,
          0.7080999612808228,
          0.6333327889442444,
          0.871685802936554,
          0.7126734256744385,
          0.5970922112464905,
          0.7660773992538452,
          0.8351483345031738,
          0.7031478881835938,
          0.5256597995758057,
          0.7399319410324097,
          0.7678288817405701,
          0.6242491006851196,
          0.6141829490661621,
          0.8289003968238831,
          0.6469725370407104,
          0.7141220569610596,
          0.5822955965995789,
          0.6956800818443298,
          0.7911331653594971,
          0.7142236828804016,
          0.7731344699859619,
          0.81167072057724,
          0.6736312508583069,
          0.7068942189216614,
          0.7999708652496338
         ],
         "y": [
          26.43183946609497,
          32.15183663368225,
          30.86444878578186,
          24.227615356445312,
          22.9801344871521,
          20.911468982696533,
          29.030198335647583,
          36.06828713417053,
          45.918150424957275,
          38.809659004211426,
          35.982830286026,
          43.38106560707092,
          34.762670040130615,
          41.72091770172119,
          36.47714805603027,
          38.24952459335327,
          38.867915868759155,
          35.689494609832764,
          34.960737228393555,
          35.437535762786865,
          36.82492756843567,
          32.32112240791321,
          32.834874629974365,
          33.2280912399292,
          34.91692352294922,
          9.065346717834473,
          36.100486755371094,
          10.967486381530762,
          32.37101864814758,
          30.925816535949707,
          38.89921522140503,
          34.239696741104126,
          36.83689069747925,
          30.973251819610596,
          31.74371314048767,
          35.9852192401886,
          30.359400510787964,
          39.66998481750488,
          34.149587631225586,
          34.06014442443848,
          36.20443105697632,
          36.92072129249573,
          44.36992931365967,
          36.93705725669861,
          33.8101692199707,
          36.99980401992798,
          36.030149936676025,
          36.32043433189392,
          39.224778175354004,
          38.58611798286438,
          44.18554925918579,
          38.5636785030365,
          44.6192946434021,
          35.00260353088379,
          36.07604956626892,
          37.22005891799927,
          36.39551258087158,
          36.19727110862732,
          42.32256484031677,
          42.41461539268494,
          34.288644552230835,
          37.323917388916016,
          47.41383123397827,
          39.74447989463806,
          41.43715453147888,
          32.519243001937866,
          33.56611752510071,
          35.463175535202026,
          40.749242544174194,
          40.77132058143616,
          43.51756739616394,
          29.38054132461548,
          37.224798917770386,
          36.699060916900635,
          41.883124351501465,
          33.402432441711426,
          38.46428894996643,
          36.14768123626709,
          36.981825828552246,
          41.60932970046997,
          32.2087025642395,
          33.186771392822266,
          38.82355880737305,
          40.36926078796387,
          32.72807478904724,
          39.4741313457489,
          39.611525774002075,
          37.09906029701233,
          35.65146613121033,
          38.24931597709656,
          37.123597145080566,
          36.57809400558472,
          40.756608724594116,
          40.77740025520325,
          33.911813735961914,
          38.718910932540894,
          33.38467812538147,
          43.20650005340576,
          32.59736704826355,
          41.69943022727966,
          42.112648248672485,
          33.956154346466064,
          34.9494891166687,
          36.20120644569397,
          36.312854051589966,
          37.71540379524231,
          36.332345724105835,
          23.755059003829956,
          36.09942364692688,
          35.785887002944946,
          19.434324979782104,
          34.55379509925842,
          34.506486654281616,
          24.151944637298584,
          35.252275705337524,
          38.023603200912476,
          32.81380915641785,
          35.04684233665466,
          36.02121186256409,
          39.60966110229492,
          34.45599722862244,
          33.396170139312744,
          38.95106267929077,
          39.90438747406006,
          43.02949523925781,
          39.387731075286865,
          13.49260663986206,
          34.096728801727295,
          40.266300678253174,
          31.160573482513428,
          39.32696986198425,
          38.752175092697144,
          30.072044610977173,
          30.575434684753418,
          30.93048119544983,
          30.20831799507141,
          36.02253437042236,
          33.340341091156006,
          41.98984909057617,
          30.95453405380249,
          30.188660144805908,
          29.877091646194458,
          31.366228818893433,
          28.3398699760437,
          38.59110927581787,
          40.703792095184326,
          32.64456486701965,
          38.226046323776245,
          30.262810707092285,
          32.827463150024414,
          39.008209466934204,
          40.211261510849,
          40.57652425765991,
          34.84465003013611,
          34.92019772529602,
          39.25185513496399,
          41.72869253158569,
          34.301621198654175,
          37.49318480491638,
          40.75421071052551,
          34.87657189369202,
          38.95072412490845,
          39.9927031993866,
          34.00104761123657,
          37.90218472480774,
          38.49399185180664,
          32.164268255233765,
          29.36123776435852,
          34.95470690727234,
          38.43742394447327,
          39.35206484794617,
          28.890155792236328,
          43.340224742889404,
          38.722057819366455,
          40.26584815979004,
          35.55988168716431,
          40.703898668289185,
          35.50710916519165,
          32.46401762962341,
          18.252070903778076,
          34.70263433456421,
          43.037420988082886,
          35.59647560119629,
          40.88560342788696,
          34.92068147659302,
          37.387383699417114,
          34.43177103996277,
          39.88054585456848
         ]
        },
        {
         "hovertemplate": "%{text}<extra>Best Trial</extra>",
         "marker": {
          "color": [
           3,
           4,
           8,
           11,
           12,
           24,
           31,
           51,
           63,
           112,
           129,
           190
          ],
          "colorbar": {
           "title": {
            "text": "Best Trial"
           },
           "x": 1.1,
           "xpad": 40
          },
          "colorscale": [
           [
            0,
            "rgb(255,245,240)"
           ],
           [
            0.125,
            "rgb(254,224,210)"
           ],
           [
            0.25,
            "rgb(252,187,161)"
           ],
           [
            0.375,
            "rgb(252,146,114)"
           ],
           [
            0.5,
            "rgb(251,106,74)"
           ],
           [
            0.625,
            "rgb(239,59,44)"
           ],
           [
            0.75,
            "rgb(203,24,29)"
           ],
           [
            0.875,
            "rgb(165,15,21)"
           ],
           [
            1,
            "rgb(103,0,13)"
           ]
          ],
          "line": {
           "color": "Grey",
           "width": 0.5
          }
         },
         "mode": "markers",
         "showlegend": false,
         "text": [
          "{<br>  \"number\": 3,<br>  \"values\": [<br>    0.7704668641090393,<br>    0.6904151916503907,<br>    25.75602698326111<br>  ],<br>  \"params\": {<br>    \"mutation_method\": \"mutConstant\",<br>    \"mutation_prob\": 0.4742387600659319,<br>    \"mutation_by_deletion_rate\": 0.7348650533789207,<br>    \"mutation_rate\": 0.9676134159440335,<br>    \"crossover_method\": \"cxTwoPoint\",<br>    \"crossover_rate\": 0.31839742619532163,<br>    \"crossover_points\": 2,<br>    \"selection_method\": \"selRoulette\",<br>    \"elitism_rate\": 0.3392878752254671,<br>    \"survival_rate\": 0.6012609697929668<br>  }<br>}",
          "{<br>  \"number\": 4,<br>  \"values\": [<br>    0.7855526208877563,<br>    0.7310947775840759,<br>    25.77109670639038<br>  ],<br>  \"params\": {<br>    \"mutation_method\": \"mutConstant\",<br>    \"mutation_prob\": 0.8147199134168505,<br>    \"mutation_by_deletion_rate\": 0.3842063447539349,<br>    \"mutation_rate\": 0.4847961612758859,<br>    \"crossover_method\": \"cxTwoPoint\",<br>    \"crossover_rate\": 0.5049666143376991,<br>    \"crossover_points\": 4,<br>    \"selection_method\": \"selBest\",<br>    \"elitism_rate\": 0.4590257345691281,<br>    \"survival_rate\": 0.7528152581566717<br>  }<br>}",
          "{<br>  \"number\": 8,<br>  \"values\": [<br>    0.8358239531517029,<br>    0.7935378789901734,<br>    26.76857829093933<br>  ],<br>  \"params\": {<br>    \"mutation_method\": \"mutLinear\",<br>    \"mutation_prob\": 0.7582936005420714,<br>    \"mutation_by_deletion_rate\": 0.23854462123117315,<br>    \"mutation_rate_start\": 0.33260925956657983,<br>    \"mutation_rate_end\": 0.16702505002526669,<br>    \"crossover_method\": \"cxKPoint\",<br>    \"crossover_rate\": 0.005439601422436047,<br>    \"crossover_points\": 1,<br>    \"selection_method\": \"selTournament\",<br>    \"tournsize\": 9,<br>    \"elitism_rate\": 0.2968932038589901,<br>    \"survival_rate\": 0.6660564349514776<br>  }<br>}",
          "{<br>  \"number\": 11,<br>  \"values\": [<br>    0.923918604850769,<br>    0.8391998887062073,<br>    41.04654264450073<br>  ],<br>  \"params\": {<br>    \"mutation_method\": \"mutLinear\",<br>    \"mutation_prob\": 0.9972720568071717,<br>    \"mutation_by_deletion_rate\": 0.23036547022651194,<br>    \"mutation_rate_start\": 0.2716226253477045,<br>    \"mutation_rate_end\": 0.027950562686698766,<br>    \"crossover_method\": \"cxKPoint\",<br>    \"crossover_rate\": 0.05608825247669138,<br>    \"crossover_points\": 4,<br>    \"selection_method\": \"selTournament\",<br>    \"tournsize\": 9,<br>    \"elitism_rate\": 0.07884562816541624,<br>    \"survival_rate\": 0.7629746214466814<br>  }<br>}",
          "{<br>  \"number\": 12,<br>  \"values\": [<br>    0.8956600427627563,<br>    0.8491518497467041,<br>    41.03565549850464<br>  ],<br>  \"params\": {<br>    \"mutation_method\": \"mutLinear\",<br>    \"mutation_prob\": 0.9819365445375368,<br>    \"mutation_by_deletion_rate\": 0.19540522987303344,<br>    \"mutation_rate_start\": 0.18414394546821544,<br>    \"mutation_rate_end\": 0.03751556972142428,<br>    \"crossover_method\": \"cxKPoint\",<br>    \"crossover_rate\": 0.0018307391073909421,<br>    \"crossover_points\": 4,<br>    \"selection_method\": \"selTournament\",<br>    \"tournsize\": 9,<br>    \"elitism_rate\": 0.05257648286443003,<br>    \"survival_rate\": 0.7762406950234005<br>  }<br>}",
          "{<br>  \"number\": 24,<br>  \"values\": [<br>    0.9007651805877686,<br>    0.8404918670654297,<br>    34.14579224586487<br>  ],<br>  \"params\": {<br>    \"mutation_method\": \"mutLinear\",<br>    \"mutation_prob\": 0.9290120509716085,<br>    \"mutation_by_deletion_rate\": 0.13521077317922242,<br>    \"mutation_rate_start\": 0.023174070395484025,<br>    \"mutation_rate_end\": 0.09461408317455078,<br>    \"crossover_method\": \"cxKPoint\",<br>    \"crossover_rate\": 0.08354995840534381,<br>    \"crossover_points\": 1,<br>    \"selection_method\": \"selTournament\",<br>    \"tournsize\": 10,<br>    \"elitism_rate\": 0.6067077400215346,<br>    \"survival_rate\": 0.8503107952283073<br>  }<br>}",
          "{<br>  \"number\": 31,<br>  \"values\": [<br>    0.8806635141372681,<br>    0.8393709421157837,<br>    34.016571044921875<br>  ],<br>  \"params\": {<br>    \"mutation_method\": \"mutLinear\",<br>    \"mutation_prob\": 0.9528086030828742,<br>    \"mutation_by_deletion_rate\": 0.21839488437430893,<br>    \"mutation_rate_start\": 0.2184155130604776,<br>    \"mutation_rate_end\": 0.008314091937721702,<br>    \"crossover_method\": \"cxKPoint\",<br>    \"crossover_rate\": 0.003016067306132797,<br>    \"crossover_points\": 1,<br>    \"selection_method\": \"selTournament\",<br>    \"tournsize\": 8,<br>    \"elitism_rate\": 0.5736017926838887,<br>    \"survival_rate\": 0.7193099157477512<br>  }<br>}",
          "{<br>  \"number\": 51,<br>  \"values\": [<br>    0.923918604850769,<br>    0.8450579524040223,<br>    44.26289939880371<br>  ],<br>  \"params\": {<br>    \"mutation_method\": \"mutLinear\",<br>    \"mutation_prob\": 0.9724134473200928,<br>    \"mutation_by_deletion_rate\": 0.1865662871079647,<br>    \"mutation_rate_start\": 0.1776760399937272,<br>    \"mutation_rate_end\": 0.021495672838030666,<br>    \"crossover_method\": \"cxKPoint\",<br>    \"crossover_rate\": 0.01884623749434998,<br>    \"crossover_points\": 4,<br>    \"selection_method\": \"selTournament\",<br>    \"tournsize\": 9,<br>    \"elitism_rate\": 0.08693222344646767,<br>    \"survival_rate\": 0.8103851555137289<br>  }<br>}",
          "{<br>  \"number\": 63,<br>  \"values\": [<br>    0.7269577383995056,<br>    0.6562639117240906,<br>    9.06501317024231<br>  ],<br>  \"params\": {<br>    \"mutation_method\": \"mutEntropy\",<br>    \"mutation_prob\": 0.00198299956580305,<br>    \"mutation_by_deletion_rate\": 0.3059016500965548,<br>    \"mutation_rate_start\": 0.5384213113742765,<br>    \"mutation_rate_end\": 0.43071537645587016,<br>    \"crossover_method\": \"cxTwoPoint\",<br>    \"crossover_rate\": 0.6017610099146925,<br>    \"crossover_points\": 1,<br>    \"selection_method\": \"selBest\",<br>    \"elitism_rate\": 0.2971989227389479,<br>    \"survival_rate\": 0.3704056167151541<br>  }<br>}",
          "{<br>  \"number\": 112,<br>  \"values\": [<br>    0.5222430229187012,<br>    0.4788781046867371,<br>    4.304807901382446<br>  ],<br>  \"params\": {<br>    \"mutation_method\": \"mutEntropy\",<br>    \"mutation_prob\": 0.00012013531013410628,<br>    \"mutation_by_deletion_rate\": 0.3221927330837361,<br>    \"mutation_rate_start\": 0.2087608299372249,<br>    \"mutation_rate_end\": 0.8705003096863864,<br>    \"crossover_method\": \"cxTwoPoint\",<br>    \"crossover_rate\": 0.5978661287273939,<br>    \"crossover_points\": 1,<br>    \"selection_method\": \"selBest\",<br>    \"elitism_rate\": 0.3903639595162337,<br>    \"survival_rate\": 0.3688837660821426<br>  }<br>}",
          "{<br>  \"number\": 129,<br>  \"values\": [<br>    0.689732015132904,<br>    0.6631931066513062,<br>    18.521081924438477<br>  ],<br>  \"params\": {<br>    \"mutation_method\": \"mutEntropy\",<br>    \"mutation_prob\": 0.0014748695274113058,<br>    \"mutation_by_deletion_rate\": 0.420150654839074,<br>    \"mutation_rate_start\": 0.21853319647575575,<br>    \"mutation_rate_end\": 0.9999078884568289,<br>    \"crossover_method\": \"cxTwoPoint\",<br>    \"crossover_rate\": 0.8567541314313146,<br>    \"crossover_points\": 1,<br>    \"selection_method\": \"selRandom\",<br>    \"elitism_rate\": 0.30427779877818456,<br>    \"survival_rate\": 0.4011430794140426<br>  }<br>}",
          "{<br>  \"number\": 190,<br>  \"values\": [<br>    0.5360535979270935,<br>    0.512525224685669,<br>    7.557414531707764<br>  ],<br>  \"params\": {<br>    \"mutation_method\": \"mutEntropy\",<br>    \"mutation_prob\": 0.0011143044899911095,<br>    \"mutation_by_deletion_rate\": 0.2713128394056667,<br>    \"mutation_rate_start\": 0.744385169988742,<br>    \"mutation_rate_end\": 0.18664815130371876,<br>    \"crossover_method\": \"cxKPoint\",<br>    \"crossover_rate\": 0.5464584815956636,<br>    \"crossover_points\": 2,<br>    \"selection_method\": \"selTournament\",<br>    \"tournsize\": 10,<br>    \"elitism_rate\": 0.24805682047404287,<br>    \"survival_rate\": 0.15749458526021998<br>  }<br>}"
         ],
         "type": "scatter",
         "x": [
          0.7704668641090393,
          0.7855526208877563,
          0.8358239531517029,
          0.923918604850769,
          0.8956600427627563,
          0.9007651805877686,
          0.8806635141372681,
          0.923918604850769,
          0.7269577383995056,
          0.5222430229187012,
          0.689732015132904,
          0.5360535979270935
         ],
         "y": [
          25.75602698326111,
          25.77109670639038,
          26.76857829093933,
          41.04654264450073,
          41.03565549850464,
          34.14579224586487,
          34.016571044921875,
          44.26289939880371,
          9.06501317024231,
          4.304807901382446,
          18.521081924438477,
          7.557414531707764
         ]
        }
       ],
       "layout": {
        "template": {
         "data": {
          "bar": [
           {
            "error_x": {
             "color": "#2a3f5f"
            },
            "error_y": {
             "color": "#2a3f5f"
            },
            "marker": {
             "line": {
              "color": "#E5ECF6",
              "width": 0.5
             },
             "pattern": {
              "fillmode": "overlay",
              "size": 10,
              "solidity": 0.2
             }
            },
            "type": "bar"
           }
          ],
          "barpolar": [
           {
            "marker": {
             "line": {
              "color": "#E5ECF6",
              "width": 0.5
             },
             "pattern": {
              "fillmode": "overlay",
              "size": 10,
              "solidity": 0.2
             }
            },
            "type": "barpolar"
           }
          ],
          "carpet": [
           {
            "aaxis": {
             "endlinecolor": "#2a3f5f",
             "gridcolor": "white",
             "linecolor": "white",
             "minorgridcolor": "white",
             "startlinecolor": "#2a3f5f"
            },
            "baxis": {
             "endlinecolor": "#2a3f5f",
             "gridcolor": "white",
             "linecolor": "white",
             "minorgridcolor": "white",
             "startlinecolor": "#2a3f5f"
            },
            "type": "carpet"
           }
          ],
          "choropleth": [
           {
            "colorbar": {
             "outlinewidth": 0,
             "ticks": ""
            },
            "type": "choropleth"
           }
          ],
          "contour": [
           {
            "colorbar": {
             "outlinewidth": 0,
             "ticks": ""
            },
            "colorscale": [
             [
              0,
              "#0d0887"
             ],
             [
              0.1111111111111111,
              "#46039f"
             ],
             [
              0.2222222222222222,
              "#7201a8"
             ],
             [
              0.3333333333333333,
              "#9c179e"
             ],
             [
              0.4444444444444444,
              "#bd3786"
             ],
             [
              0.5555555555555556,
              "#d8576b"
             ],
             [
              0.6666666666666666,
              "#ed7953"
             ],
             [
              0.7777777777777778,
              "#fb9f3a"
             ],
             [
              0.8888888888888888,
              "#fdca26"
             ],
             [
              1,
              "#f0f921"
             ]
            ],
            "type": "contour"
           }
          ],
          "contourcarpet": [
           {
            "colorbar": {
             "outlinewidth": 0,
             "ticks": ""
            },
            "type": "contourcarpet"
           }
          ],
          "heatmap": [
           {
            "colorbar": {
             "outlinewidth": 0,
             "ticks": ""
            },
            "colorscale": [
             [
              0,
              "#0d0887"
             ],
             [
              0.1111111111111111,
              "#46039f"
             ],
             [
              0.2222222222222222,
              "#7201a8"
             ],
             [
              0.3333333333333333,
              "#9c179e"
             ],
             [
              0.4444444444444444,
              "#bd3786"
             ],
             [
              0.5555555555555556,
              "#d8576b"
             ],
             [
              0.6666666666666666,
              "#ed7953"
             ],
             [
              0.7777777777777778,
              "#fb9f3a"
             ],
             [
              0.8888888888888888,
              "#fdca26"
             ],
             [
              1,
              "#f0f921"
             ]
            ],
            "type": "heatmap"
           }
          ],
          "heatmapgl": [
           {
            "colorbar": {
             "outlinewidth": 0,
             "ticks": ""
            },
            "colorscale": [
             [
              0,
              "#0d0887"
             ],
             [
              0.1111111111111111,
              "#46039f"
             ],
             [
              0.2222222222222222,
              "#7201a8"
             ],
             [
              0.3333333333333333,
              "#9c179e"
             ],
             [
              0.4444444444444444,
              "#bd3786"
             ],
             [
              0.5555555555555556,
              "#d8576b"
             ],
             [
              0.6666666666666666,
              "#ed7953"
             ],
             [
              0.7777777777777778,
              "#fb9f3a"
             ],
             [
              0.8888888888888888,
              "#fdca26"
             ],
             [
              1,
              "#f0f921"
             ]
            ],
            "type": "heatmapgl"
           }
          ],
          "histogram": [
           {
            "marker": {
             "pattern": {
              "fillmode": "overlay",
              "size": 10,
              "solidity": 0.2
             }
            },
            "type": "histogram"
           }
          ],
          "histogram2d": [
           {
            "colorbar": {
             "outlinewidth": 0,
             "ticks": ""
            },
            "colorscale": [
             [
              0,
              "#0d0887"
             ],
             [
              0.1111111111111111,
              "#46039f"
             ],
             [
              0.2222222222222222,
              "#7201a8"
             ],
             [
              0.3333333333333333,
              "#9c179e"
             ],
             [
              0.4444444444444444,
              "#bd3786"
             ],
             [
              0.5555555555555556,
              "#d8576b"
             ],
             [
              0.6666666666666666,
              "#ed7953"
             ],
             [
              0.7777777777777778,
              "#fb9f3a"
             ],
             [
              0.8888888888888888,
              "#fdca26"
             ],
             [
              1,
              "#f0f921"
             ]
            ],
            "type": "histogram2d"
           }
          ],
          "histogram2dcontour": [
           {
            "colorbar": {
             "outlinewidth": 0,
             "ticks": ""
            },
            "colorscale": [
             [
              0,
              "#0d0887"
             ],
             [
              0.1111111111111111,
              "#46039f"
             ],
             [
              0.2222222222222222,
              "#7201a8"
             ],
             [
              0.3333333333333333,
              "#9c179e"
             ],
             [
              0.4444444444444444,
              "#bd3786"
             ],
             [
              0.5555555555555556,
              "#d8576b"
             ],
             [
              0.6666666666666666,
              "#ed7953"
             ],
             [
              0.7777777777777778,
              "#fb9f3a"
             ],
             [
              0.8888888888888888,
              "#fdca26"
             ],
             [
              1,
              "#f0f921"
             ]
            ],
            "type": "histogram2dcontour"
           }
          ],
          "mesh3d": [
           {
            "colorbar": {
             "outlinewidth": 0,
             "ticks": ""
            },
            "type": "mesh3d"
           }
          ],
          "parcoords": [
           {
            "line": {
             "colorbar": {
              "outlinewidth": 0,
              "ticks": ""
             }
            },
            "type": "parcoords"
           }
          ],
          "pie": [
           {
            "automargin": true,
            "type": "pie"
           }
          ],
          "scatter": [
           {
            "fillpattern": {
             "fillmode": "overlay",
             "size": 10,
             "solidity": 0.2
            },
            "type": "scatter"
           }
          ],
          "scatter3d": [
           {
            "line": {
             "colorbar": {
              "outlinewidth": 0,
              "ticks": ""
             }
            },
            "marker": {
             "colorbar": {
              "outlinewidth": 0,
              "ticks": ""
             }
            },
            "type": "scatter3d"
           }
          ],
          "scattercarpet": [
           {
            "marker": {
             "colorbar": {
              "outlinewidth": 0,
              "ticks": ""
             }
            },
            "type": "scattercarpet"
           }
          ],
          "scattergeo": [
           {
            "marker": {
             "colorbar": {
              "outlinewidth": 0,
              "ticks": ""
             }
            },
            "type": "scattergeo"
           }
          ],
          "scattergl": [
           {
            "marker": {
             "colorbar": {
              "outlinewidth": 0,
              "ticks": ""
             }
            },
            "type": "scattergl"
           }
          ],
          "scattermapbox": [
           {
            "marker": {
             "colorbar": {
              "outlinewidth": 0,
              "ticks": ""
             }
            },
            "type": "scattermapbox"
           }
          ],
          "scatterpolar": [
           {
            "marker": {
             "colorbar": {
              "outlinewidth": 0,
              "ticks": ""
             }
            },
            "type": "scatterpolar"
           }
          ],
          "scatterpolargl": [
           {
            "marker": {
             "colorbar": {
              "outlinewidth": 0,
              "ticks": ""
             }
            },
            "type": "scatterpolargl"
           }
          ],
          "scatterternary": [
           {
            "marker": {
             "colorbar": {
              "outlinewidth": 0,
              "ticks": ""
             }
            },
            "type": "scatterternary"
           }
          ],
          "surface": [
           {
            "colorbar": {
             "outlinewidth": 0,
             "ticks": ""
            },
            "colorscale": [
             [
              0,
              "#0d0887"
             ],
             [
              0.1111111111111111,
              "#46039f"
             ],
             [
              0.2222222222222222,
              "#7201a8"
             ],
             [
              0.3333333333333333,
              "#9c179e"
             ],
             [
              0.4444444444444444,
              "#bd3786"
             ],
             [
              0.5555555555555556,
              "#d8576b"
             ],
             [
              0.6666666666666666,
              "#ed7953"
             ],
             [
              0.7777777777777778,
              "#fb9f3a"
             ],
             [
              0.8888888888888888,
              "#fdca26"
             ],
             [
              1,
              "#f0f921"
             ]
            ],
            "type": "surface"
           }
          ],
          "table": [
           {
            "cells": {
             "fill": {
              "color": "#EBF0F8"
             },
             "line": {
              "color": "white"
             }
            },
            "header": {
             "fill": {
              "color": "#C8D4E3"
             },
             "line": {
              "color": "white"
             }
            },
            "type": "table"
           }
          ]
         },
         "layout": {
          "annotationdefaults": {
           "arrowcolor": "#2a3f5f",
           "arrowhead": 0,
           "arrowwidth": 1
          },
          "autotypenumbers": "strict",
          "coloraxis": {
           "colorbar": {
            "outlinewidth": 0,
            "ticks": ""
           }
          },
          "colorscale": {
           "diverging": [
            [
             0,
             "#8e0152"
            ],
            [
             0.1,
             "#c51b7d"
            ],
            [
             0.2,
             "#de77ae"
            ],
            [
             0.3,
             "#f1b6da"
            ],
            [
             0.4,
             "#fde0ef"
            ],
            [
             0.5,
             "#f7f7f7"
            ],
            [
             0.6,
             "#e6f5d0"
            ],
            [
             0.7,
             "#b8e186"
            ],
            [
             0.8,
             "#7fbc41"
            ],
            [
             0.9,
             "#4d9221"
            ],
            [
             1,
             "#276419"
            ]
           ],
           "sequential": [
            [
             0,
             "#0d0887"
            ],
            [
             0.1111111111111111,
             "#46039f"
            ],
            [
             0.2222222222222222,
             "#7201a8"
            ],
            [
             0.3333333333333333,
             "#9c179e"
            ],
            [
             0.4444444444444444,
             "#bd3786"
            ],
            [
             0.5555555555555556,
             "#d8576b"
            ],
            [
             0.6666666666666666,
             "#ed7953"
            ],
            [
             0.7777777777777778,
             "#fb9f3a"
            ],
            [
             0.8888888888888888,
             "#fdca26"
            ],
            [
             1,
             "#f0f921"
            ]
           ],
           "sequentialminus": [
            [
             0,
             "#0d0887"
            ],
            [
             0.1111111111111111,
             "#46039f"
            ],
            [
             0.2222222222222222,
             "#7201a8"
            ],
            [
             0.3333333333333333,
             "#9c179e"
            ],
            [
             0.4444444444444444,
             "#bd3786"
            ],
            [
             0.5555555555555556,
             "#d8576b"
            ],
            [
             0.6666666666666666,
             "#ed7953"
            ],
            [
             0.7777777777777778,
             "#fb9f3a"
            ],
            [
             0.8888888888888888,
             "#fdca26"
            ],
            [
             1,
             "#f0f921"
            ]
           ]
          },
          "colorway": [
           "#636efa",
           "#EF553B",
           "#00cc96",
           "#ab63fa",
           "#FFA15A",
           "#19d3f3",
           "#FF6692",
           "#B6E880",
           "#FF97FF",
           "#FECB52"
          ],
          "font": {
           "color": "#2a3f5f"
          },
          "geo": {
           "bgcolor": "white",
           "lakecolor": "white",
           "landcolor": "#E5ECF6",
           "showlakes": true,
           "showland": true,
           "subunitcolor": "white"
          },
          "hoverlabel": {
           "align": "left"
          },
          "hovermode": "closest",
          "mapbox": {
           "style": "light"
          },
          "paper_bgcolor": "white",
          "plot_bgcolor": "#E5ECF6",
          "polar": {
           "angularaxis": {
            "gridcolor": "white",
            "linecolor": "white",
            "ticks": ""
           },
           "bgcolor": "#E5ECF6",
           "radialaxis": {
            "gridcolor": "white",
            "linecolor": "white",
            "ticks": ""
           }
          },
          "scene": {
           "xaxis": {
            "backgroundcolor": "#E5ECF6",
            "gridcolor": "white",
            "gridwidth": 2,
            "linecolor": "white",
            "showbackground": true,
            "ticks": "",
            "zerolinecolor": "white"
           },
           "yaxis": {
            "backgroundcolor": "#E5ECF6",
            "gridcolor": "white",
            "gridwidth": 2,
            "linecolor": "white",
            "showbackground": true,
            "ticks": "",
            "zerolinecolor": "white"
           },
           "zaxis": {
            "backgroundcolor": "#E5ECF6",
            "gridcolor": "white",
            "gridwidth": 2,
            "linecolor": "white",
            "showbackground": true,
            "ticks": "",
            "zerolinecolor": "white"
           }
          },
          "shapedefaults": {
           "line": {
            "color": "#2a3f5f"
           }
          },
          "ternary": {
           "aaxis": {
            "gridcolor": "white",
            "linecolor": "white",
            "ticks": ""
           },
           "baxis": {
            "gridcolor": "white",
            "linecolor": "white",
            "ticks": ""
           },
           "bgcolor": "#E5ECF6",
           "caxis": {
            "gridcolor": "white",
            "linecolor": "white",
            "ticks": ""
           }
          },
          "title": {
           "x": 0.05
          },
          "xaxis": {
           "automargin": true,
           "gridcolor": "white",
           "linecolor": "white",
           "ticks": "",
           "title": {
            "standoff": 15
           },
           "zerolinecolor": "white",
           "zerolinewidth": 2
          },
          "yaxis": {
           "automargin": true,
           "gridcolor": "white",
           "linecolor": "white",
           "ticks": "",
           "title": {
            "standoff": 15
           },
           "zerolinecolor": "white",
           "zerolinewidth": 2
          }
         }
        },
        "title": {
         "text": "Pareto-front Plot"
        },
        "xaxis": {
         "title": {
          "text": "Min Fitness"
         }
        },
        "yaxis": {
         "title": {
          "text": "Runtime"
         }
        }
       }
      }
     },
     "metadata": {},
     "output_type": "display_data"
    },
    {
     "data": {
      "application/vnd.plotly.v1+json": {
       "config": {
        "plotlyServerURL": "https://plot.ly"
       },
       "data": [
        {
         "hovertemplate": "%{text}<extra>Trial</extra>",
         "marker": {
          "color": [
           0,
           1,
           2,
           5,
           6,
           7,
           9,
           10,
           13,
           14,
           15,
           16,
           17,
           18,
           19,
           20,
           21,
           22,
           23,
           25,
           26,
           27,
           28,
           29,
           30,
           32,
           33,
           34,
           35,
           36,
           37,
           38,
           39,
           40,
           41,
           42,
           43,
           44,
           45,
           46,
           47,
           48,
           49,
           50,
           52,
           53,
           54,
           55,
           56,
           57,
           58,
           59,
           60,
           61,
           62,
           64,
           65,
           66,
           67,
           68,
           69,
           70,
           71,
           72,
           73,
           74,
           75,
           76,
           77,
           78,
           79,
           80,
           81,
           82,
           83,
           84,
           85,
           86,
           87,
           88,
           89,
           90,
           91,
           92,
           93,
           94,
           95,
           96,
           97,
           98,
           99,
           100,
           101,
           102,
           103,
           104,
           105,
           106,
           107,
           108,
           109,
           110,
           111,
           113,
           114,
           115,
           116,
           117,
           118,
           119,
           120,
           121,
           122,
           123,
           124,
           125,
           126,
           127,
           128,
           130,
           131,
           132,
           133,
           134,
           135,
           136,
           137,
           138,
           139,
           140,
           141,
           142,
           143,
           144,
           145,
           146,
           147,
           148,
           149,
           150,
           151,
           152,
           153,
           154,
           155,
           156,
           157,
           158,
           159,
           160,
           161,
           162,
           163,
           164,
           165,
           166,
           167,
           168,
           169,
           170,
           171,
           172,
           173,
           174,
           175,
           176,
           177,
           178,
           179,
           180,
           181,
           182,
           183,
           184,
           185,
           186,
           187,
           188,
           189,
           191,
           192,
           193,
           194,
           195,
           196,
           197,
           198,
           199
          ],
          "colorbar": {
           "title": {
            "text": "Trial"
           }
          },
          "colorscale": [
           [
            0,
            "rgb(247,251,255)"
           ],
           [
            0.125,
            "rgb(222,235,247)"
           ],
           [
            0.25,
            "rgb(198,219,239)"
           ],
           [
            0.375,
            "rgb(158,202,225)"
           ],
           [
            0.5,
            "rgb(107,174,214)"
           ],
           [
            0.625,
            "rgb(66,146,198)"
           ],
           [
            0.75,
            "rgb(33,113,181)"
           ],
           [
            0.875,
            "rgb(8,81,156)"
           ],
           [
            1,
            "rgb(8,48,107)"
           ]
          ],
          "line": {
           "color": "Grey",
           "width": 0.5
          }
         },
         "mode": "markers",
         "showlegend": false,
         "text": [
          "{<br>  \"number\": 0,<br>  \"values\": [<br>    0.7278436422348022,<br>    0.7173630833625794,<br>    26.43183946609497<br>  ],<br>  \"params\": {<br>    \"mutation_method\": \"mutEntropy\",<br>    \"mutation_prob\": 0.7502196830487934,<br>    \"mutation_by_deletion_rate\": 0.41852106822436086,<br>    \"mutation_rate_start\": 0.9311477975368458,<br>    \"mutation_rate_end\": 0.9217377046761324,<br>    \"crossover_method\": \"cxOnePoint\",<br>    \"crossover_rate\": 0.6144312698049044,<br>    \"selection_method\": \"selBest\",<br>    \"elitism_rate\": 0.5226421991002623,<br>    \"survival_rate\": 0.987319369731687<br>  }<br>}",
          "{<br>  \"number\": 1,<br>  \"values\": [<br>    0.7588212490081787,<br>    0.7058565378189087,<br>    32.15183663368225<br>  ],<br>  \"params\": {<br>    \"mutation_method\": \"mutConstant\",<br>    \"mutation_prob\": 0.8404065891923009,<br>    \"mutation_by_deletion_rate\": 0.6406694443085853,<br>    \"mutation_rate\": 0.05360811217034689,<br>    \"crossover_method\": \"cxUniform\",<br>    \"crossover_rate\": 0.3134574460390277,<br>    \"selection_method\": \"selStochasticUniversalSampling\",<br>    \"elitism_rate\": 0.5353900944952268,<br>    \"survival_rate\": 0.0382868997282414<br>  }<br>}",
          "{<br>  \"number\": 2,<br>  \"values\": [<br>    0.6106458902359009,<br>    0.5896970748901367,<br>    30.86444878578186<br>  ],<br>  \"params\": {<br>    \"mutation_method\": \"mutExponential\",<br>    \"mutation_prob\": 0.9129489971952728,<br>    \"mutation_by_deletion_rate\": 0.11911068233071287,<br>    \"mutation_rate_start\": 0.431657290010943,<br>    \"mutation_rate_end\": 0.9407973890358179,<br>    \"mutation_rate_degree\": 1,<br>    \"crossover_method\": \"cxTwoPoint\",<br>    \"crossover_rate\": 0.4329178763245165,<br>    \"crossover_points\": 1,<br>    \"selection_method\": \"selNormRoulette\",<br>    \"elitism_rate\": 0.29834833035126673,<br>    \"survival_rate\": 0.02351702719066029<br>  }<br>}",
          "{<br>  \"number\": 5,<br>  \"values\": [<br>    0.6472018957138062,<br>    0.6194018483161926,<br>    24.227615356445312<br>  ],<br>  \"params\": {<br>    \"mutation_method\": \"mutConstant\",<br>    \"mutation_prob\": 0.3039886774069849,<br>    \"mutation_by_deletion_rate\": 0.27922593095533155,<br>    \"mutation_rate\": 0.5043983816025335,<br>    \"crossover_method\": \"cxOnePoint\",<br>    \"crossover_rate\": 0.37947311985937904,<br>    \"selection_method\": \"selTournamentWithoutReplacement\",<br>    \"tournsize\": 3,<br>    \"elitism_rate\": 0.2539143659718174,<br>    \"survival_rate\": 0.19490680244505587<br>  }<br>}",
          "{<br>  \"number\": 6,<br>  \"values\": [<br>    0.6176146268844604,<br>    0.5983564972877502,<br>    22.9801344871521<br>  ],<br>  \"params\": {<br>    \"mutation_method\": \"mutEntropy\",<br>    \"mutation_prob\": 0.6535006839113269,<br>    \"mutation_by_deletion_rate\": 0.3931022926115091,<br>    \"mutation_rate_start\": 0.7866054678124218,<br>    \"mutation_rate_end\": 0.33830074765189255,<br>    \"crossover_method\": \"cxKPoint\",<br>    \"crossover_rate\": 0.7223410730949732,<br>    \"crossover_points\": 1,<br>    \"selection_method\": \"selStochasticUniversalSampling\",<br>    \"elitism_rate\": 0.6551321562535907,<br>    \"survival_rate\": 0.17020934772683693<br>  }<br>}",
          "{<br>  \"number\": 7,<br>  \"values\": [<br>    0.6595203876495361,<br>    0.6154430270195007,<br>    20.911468982696533<br>  ],<br>  \"params\": {<br>    \"mutation_method\": \"mutEntropy\",<br>    \"mutation_prob\": 0.2761560752072034,<br>    \"mutation_by_deletion_rate\": 0.7022176713583942,<br>    \"mutation_rate_start\": 0.6760430410117911,<br>    \"mutation_rate_end\": 0.2615199297203541,<br>    \"crossover_method\": \"cxKPoint\",<br>    \"crossover_rate\": 0.8410559344655071,<br>    \"crossover_points\": 3,<br>    \"selection_method\": \"selBest\",<br>    \"elitism_rate\": 0.8831415091846696,<br>    \"survival_rate\": 0.6311563865505256<br>  }<br>}",
          "{<br>  \"number\": 9,<br>  \"values\": [<br>    0.7059294581413269,<br>    0.6605339884757996,<br>    29.030198335647583<br>  ],<br>  \"params\": {<br>    \"mutation_method\": \"mutLinear\",<br>    \"mutation_prob\": 0.5542137193766543,<br>    \"mutation_by_deletion_rate\": 0.05219462430846844,<br>    \"mutation_rate_start\": 0.5884741441270753,<br>    \"mutation_rate_end\": 0.9555618819245146,<br>    \"crossover_method\": \"cxUniform\",<br>    \"crossover_rate\": 0.5070502561523005,<br>    \"selection_method\": \"selNormRoulette\",<br>    \"elitism_rate\": 0.8000992271310291,<br>    \"survival_rate\": 0.9835609926946999<br>  }<br>}",
          "{<br>  \"number\": 10,<br>  \"values\": [<br>    0.6898598074913025,<br>    0.6463033795356751,<br>    36.06828713417053<br>  ],<br>  \"params\": {<br>    \"mutation_method\": \"mutLinear\",<br>    \"mutation_prob\": 0.07387433921273334,<br>    \"mutation_by_deletion_rate\": 0.9925003371397549,<br>    \"mutation_rate_start\": 0.02076786639918532,<br>    \"mutation_rate_end\": 0.005167750845288199,<br>    \"crossover_method\": \"cxKPoint\",<br>    \"crossover_rate\": 0.010786353809021675,<br>    \"crossover_points\": 2,<br>    \"selection_method\": \"selTournament\",<br>    \"tournsize\": 10,<br>    \"elitism_rate\": 0.007998110327579244,<br>    \"survival_rate\": 0.4033422006682724<br>  }<br>}",
          "{<br>  \"number\": 13,<br>  \"values\": [<br>    0.6457276940345764,<br>    0.6243708848953247,<br>    45.918150424957275<br>  ],<br>  \"params\": {<br>    \"mutation_method\": \"mutLinear\",<br>    \"mutation_prob\": 0.9821494892366078,<br>    \"mutation_by_deletion_rate\": 0.230911914784004,<br>    \"mutation_rate_start\": 0.34274162039412237,<br>    \"mutation_rate_end\": 0.6024596020007837,<br>    \"crossover_method\": \"cxKPoint\",<br>    \"crossover_rate\": 0.16627318531703789,<br>    \"crossover_points\": 3,<br>    \"selection_method\": \"selRandom\",<br>    \"elitism_rate\": 0.137966779707615,<br>    \"survival_rate\": 0.40395646886065706<br>  }<br>}",
          "{<br>  \"number\": 14,<br>  \"values\": [<br>    0.839830756187439,<br>    0.7992067337036133,<br>    38.809659004211426<br>  ],<br>  \"params\": {<br>    \"mutation_method\": \"mutLinear\",<br>    \"mutation_prob\": 0.6877152054866291,<br>    \"mutation_by_deletion_rate\": 0.04077603835693053,<br>    \"mutation_rate_start\": 0.15512516563229695,<br>    \"mutation_rate_end\": 0.21092785762164623,<br>    \"crossover_method\": \"cxKPoint\",<br>    \"crossover_rate\": 0.14842128302046664,<br>    \"crossover_points\": 1,<br>    \"selection_method\": \"selTournament\",<br>    \"tournsize\": 7,<br>    \"elitism_rate\": 0.2026395906375509,<br>    \"survival_rate\": 0.7899900139501526<br>  }<br>}",
          "{<br>  \"number\": 15,<br>  \"values\": [<br>    0.7118198871612549,<br>    0.6940473318099976,<br>    35.982830286026<br>  ],<br>  \"params\": {<br>    \"mutation_method\": \"mutExponential\",<br>    \"mutation_prob\": 0.5540606664067688,<br>    \"mutation_by_deletion_rate\": 0.5195257542521955,<br>    \"mutation_rate_start\": 0.30928805921133495,<br>    \"mutation_rate_end\": 0.5609387976154518,<br>    \"mutation_rate_degree\": 4,<br>    \"crossover_method\": \"cxKPoint\",<br>    \"crossover_rate\": 0.14734456093241322,<br>    \"crossover_points\": 2,<br>    \"selection_method\": \"selBoltzmann\",<br>    \"boltzmann_temperature\": 0.12151850682547427,<br>    \"elitism_rate\": 0.3917103502707659,<br>    \"survival_rate\": 0.512301959995284<br>  }<br>}",
          "{<br>  \"number\": 16,<br>  \"values\": [<br>    0.8492773771286011,<br>    0.8099842548370362,<br>    43.38106560707092<br>  ],<br>  \"params\": {<br>    \"mutation_method\": \"mutLinear\",<br>    \"mutation_prob\": 0.8734835899863495,<br>    \"mutation_by_deletion_rate\": 0.29071980655678004,<br>    \"mutation_rate_start\": 0.5109341786011371,<br>    \"mutation_rate_end\": 0.15465714870043623,<br>    \"crossover_method\": \"cxOnePoint\",<br>    \"crossover_rate\": 0.19570294311080616,<br>    \"selection_method\": \"selTournament\",<br>    \"tournsize\": 6,<br>    \"elitism_rate\": 0.12766769252325016,<br>    \"survival_rate\": 0.8808306588713616<br>  }<br>}",
          "{<br>  \"number\": 17,<br>  \"values\": [<br>    0.7211655974388123,<br>    0.6768061637878418,<br>    34.762670040130615<br>  ],<br>  \"params\": {<br>    \"mutation_method\": \"mutLinear\",<br>    \"mutation_prob\": 0.3701309605311062,<br>    \"mutation_by_deletion_rate\": 0.555209398063415,<br>    \"mutation_rate_start\": 0.26470118644809226,<br>    \"mutation_rate_end\": 0.38358995691795295,<br>    \"crossover_method\": \"cxUniform\",<br>    \"crossover_rate\": 0.9156895711286334,<br>    \"selection_method\": \"selTournament\",<br>    \"tournsize\": 8,<br>    \"elitism_rate\": 0.6476999709447189,<br>    \"survival_rate\": 0.6526686466604352<br>  }<br>}",
          "{<br>  \"number\": 18,<br>  \"values\": [<br>    0.6942210793495178,<br>    0.65797039270401,<br>    41.72091770172119<br>  ],<br>  \"params\": {<br>    \"mutation_method\": \"mutExponential\",<br>    \"mutation_prob\": 0.7268191600668945,<br>    \"mutation_by_deletion_rate\": 0.14630052581326447,<br>    \"mutation_rate_start\": 0.09171311333899101,<br>    \"mutation_rate_end\": 0.6860149410682572,<br>    \"mutation_rate_degree\": 1,<br>    \"crossover_method\": \"cxKPoint\",<br>    \"crossover_rate\": 0.06982610674739777,<br>    \"crossover_points\": 3,<br>    \"selection_method\": \"selRandom\",<br>    \"elitism_rate\": 0.17064310788489412,<br>    \"survival_rate\": 0.43118106273438095<br>  }<br>}",
          "{<br>  \"number\": 19,<br>  \"values\": [<br>    0.7342208027839661,<br>    0.705997633934021,<br>    36.47714805603027<br>  ],<br>  \"params\": {<br>    \"mutation_method\": \"mutLinear\",<br>    \"mutation_prob\": 0.6195814823499455,<br>    \"mutation_by_deletion_rate\": 0.9003359254711417,<br>    \"mutation_rate_start\": 0.4156124180652234,<br>    \"mutation_rate_end\": 0.13608400517970787,<br>    \"crossover_method\": \"cxKPoint\",<br>    \"crossover_rate\": 0.27407931490294435,<br>    \"crossover_points\": 4,<br>    \"selection_method\": \"selTournamentWithoutReplacement\",<br>    \"tournsize\": 2,<br>    \"elitism_rate\": 0.4400539248714448,<br>    \"survival_rate\": 0.5446705976768951<br>  }<br>}",
          "{<br>  \"number\": 20,<br>  \"values\": [<br>    0.6888698935508728,<br>    0.6392642259597778,<br>    38.24952459335327<br>  ],<br>  \"params\": {<br>    \"mutation_method\": \"mutLinear\",<br>    \"mutation_prob\": 0.0943507822092402,<br>    \"mutation_by_deletion_rate\": 0.3379140322608271,<br>    \"mutation_rate_start\": 0.2535558340982569,<br>    \"mutation_rate_end\": 0.43120031859030944,<br>    \"crossover_method\": \"cxKPoint\",<br>    \"crossover_rate\": 0.07303479011363981,<br>    \"crossover_points\": 2,<br>    \"selection_method\": \"selRoulette\",<br>    \"elitism_rate\": 0.07511179147980508,<br>    \"survival_rate\": 0.69701369882658<br>  }<br>}",
          "{<br>  \"number\": 21,<br>  \"values\": [<br>    0.7742751240730286,<br>    0.7435018181800842,<br>    38.867915868759155<br>  ],<br>  \"params\": {<br>    \"mutation_method\": \"mutLinear\",<br>    \"mutation_prob\": 0.7718361976814522,<br>    \"mutation_by_deletion_rate\": 0.4254679114099146,<br>    \"mutation_rate_start\": 0.5815969402567647,<br>    \"mutation_rate_end\": 0.7000453991304378,<br>    \"crossover_method\": \"cxTwoPoint\",<br>    \"crossover_rate\": 0.5550890550957199,<br>    \"crossover_points\": 4,<br>    \"selection_method\": \"selTournament\",<br>    \"tournsize\": 4,<br>    \"elitism_rate\": 0.32233897510803344,<br>    \"survival_rate\": 0.7706058256969637<br>  }<br>}",
          "{<br>  \"number\": 22,<br>  \"values\": [<br>    0.8319792151451111,<br>    0.7838121056556702,<br>    35.689494609832764<br>  ],<br>  \"params\": {<br>    \"mutation_method\": \"mutConstant\",<br>    \"mutation_prob\": 0.8340452909855601,<br>    \"mutation_by_deletion_rate\": 0.0016011399463516929,<br>    \"mutation_rate\": 0.022278685878354354,<br>    \"crossover_method\": \"cxTwoPoint\",<br>    \"crossover_rate\": 0.23734573143427223,<br>    \"crossover_points\": 4,<br>    \"selection_method\": \"selBoltzmann\",<br>    \"boltzmann_temperature\": 0.9892904365617449,<br>    \"elitism_rate\": 0.23236945374370033,<br>    \"survival_rate\": 0.8505775635235606<br>  }<br>}",
          "{<br>  \"number\": 23,<br>  \"values\": [<br>    0.8673994541168213,<br>    0.7964959979057312,<br>    34.960737228393555<br>  ],<br>  \"params\": {<br>    \"mutation_method\": \"mutLinear\",<br>    \"mutation_prob\": 0.9972610603080143,<br>    \"mutation_by_deletion_rate\": 0.17670504237167,<br>    \"mutation_rate_start\": 0.000804960856217618,<br>    \"mutation_rate_end\": 0.0798110503467153,<br>    \"crossover_method\": \"cxKPoint\",<br>    \"crossover_rate\": 0.08560173962296976,<br>    \"crossover_points\": 1,<br>    \"selection_method\": \"selTournament\",<br>    \"tournsize\": 10,<br>    \"elitism_rate\": 0.45430397423666785,<br>    \"survival_rate\": 0.7027737504490086<br>  }<br>}",
          "{<br>  \"number\": 25,<br>  \"values\": [<br>    0.8446002006530762,<br>    0.8117538690567017,<br>    35.437535762786865<br>  ],<br>  \"params\": {<br>    \"mutation_method\": \"mutExponential\",<br>    \"mutation_prob\": 0.463775238075715,<br>    \"mutation_by_deletion_rate\": 0.10167413881467757,<br>    \"mutation_rate_start\": 0.12411583128986547,<br>    \"mutation_rate_end\": 0.30846745983006024,<br>    \"mutation_rate_degree\": 4,<br>    \"crossover_method\": \"cxUniform\",<br>    \"crossover_rate\": 0.7392593232176882,<br>    \"selection_method\": \"selBest\",<br>    \"elitism_rate\": 0.6404471913767397,<br>    \"survival_rate\": 0.8920069415689775<br>  }<br>}",
          "{<br>  \"number\": 26,<br>  \"values\": [<br>    0.581763505935669,<br>    0.564957070350647,<br>    36.82492756843567<br>  ],<br>  \"params\": {<br>    \"mutation_method\": \"mutEntropy\",<br>    \"mutation_prob\": 0.7939724637335964,<br>    \"mutation_by_deletion_rate\": 0.33211810472099046,<br>    \"mutation_rate_start\": 0.9962808346293649,<br>    \"mutation_rate_end\": 0.4659834291327136,<br>    \"crossover_method\": \"cxOnePoint\",<br>    \"crossover_rate\": 0.4083688937679444,<br>    \"selection_method\": \"selTournament\",<br>    \"tournsize\": 5,<br>    \"elitism_rate\": 0.5750422047204089,<br>    \"survival_rate\": 0.5656607271434297<br>  }<br>}",
          "{<br>  \"number\": 27,<br>  \"values\": [<br>    0.6221267580986023,<br>    0.6055234432220459,<br>    32.32112240791321<br>  ],<br>  \"params\": {<br>    \"mutation_method\": \"mutLinear\",<br>    \"mutation_prob\": 0.8868454383212858,<br>    \"mutation_by_deletion_rate\": 0.4738039926033108,<br>    \"mutation_rate_start\": 0.7809930903221188,<br>    \"mutation_rate_end\": 0.20986934958733175,<br>    \"crossover_method\": \"cxKPoint\",<br>    \"crossover_rate\": 0.2275438501837126,<br>    \"crossover_points\": 1,<br>    \"selection_method\": \"selBoltzmann\",<br>    \"boltzmann_temperature\": 0.6996898434863744,<br>    \"elitism_rate\": 0.8008861731074964,<br>    \"survival_rate\": 0.2784263574550826<br>  }<br>}",
          "{<br>  \"number\": 28,<br>  \"values\": [<br>    0.5268564820289612,<br>    0.5067627429962158,<br>    32.834874629974365<br>  ],<br>  \"params\": {<br>    \"mutation_method\": \"mutConstant\",<br>    \"mutation_prob\": 0.6052275053107888,<br>    \"mutation_by_deletion_rate\": 0.08279229578248076,<br>    \"mutation_rate\": 0.9716489926143702,<br>    \"crossover_method\": \"cxTwoPoint\",<br>    \"crossover_rate\": 0.11883357501862407,<br>    \"crossover_points\": 1,<br>    \"selection_method\": \"selStochasticUniversalSampling\",<br>    \"elitism_rate\": 0.974254460805399,<br>    \"survival_rate\": 0.9250052705732855<br>  }<br>}",
          "{<br>  \"number\": 29,<br>  \"values\": [<br>    0.7991272211074829,<br>    0.7718638181686401,<br>    33.2280912399292<br>  ],<br>  \"params\": {<br>    \"mutation_method\": \"mutEntropy\",<br>    \"mutation_prob\": 0.7308358123145066,<br>    \"mutation_by_deletion_rate\": 0.39672110736964616,<br>    \"mutation_rate_start\": 0.39010376385805373,<br>    \"mutation_rate_end\": 0.12300176978036442,<br>    \"crossover_method\": \"cxOnePoint\",<br>    \"crossover_rate\": 0.6632718370234191,<br>    \"selection_method\": \"selBest\",<br>    \"elitism_rate\": 0.7614169558392022,<br>    \"survival_rate\": 0.9792705384675913<br>  }<br>}",
          "{<br>  \"number\": 30,<br>  \"values\": [<br>    0.7315282821655273,<br>    0.6730147123336792,<br>    34.91692352294922<br>  ],<br>  \"params\": {<br>    \"mutation_method\": \"mutLinear\",<br>    \"mutation_prob\": 0.9162213328301341,<br>    \"mutation_by_deletion_rate\": 0.2689751478463883,<br>    \"mutation_rate_start\": 0.5022701594005101,<br>    \"mutation_rate_end\": 0.26426982758941125,<br>    \"crossover_method\": \"cxKPoint\",<br>    \"crossover_rate\": 0.9745502418950645,<br>    \"crossover_points\": 2,<br>    \"selection_method\": \"selNormRoulette\",<br>    \"elitism_rate\": 0.4856689745424031,<br>    \"survival_rate\": 0.460975226617091<br>  }<br>}",
          "{<br>  \"number\": 32,<br>  \"values\": [<br>    0.7039453983306885,<br>    0.6345831274986267,<br>    9.065346717834473<br>  ],<br>  \"params\": {<br>    \"mutation_method\": \"mutLinear\",<br>    \"mutation_prob\": 0.0014623594792664285,<br>    \"mutation_by_deletion_rate\": 0.1526570427109354,<br>    \"mutation_rate_start\": 0.10997596419618011,<br>    \"mutation_rate_end\": 0.8384533280385608,<br>    \"crossover_method\": \"cxUniform\",<br>    \"crossover_rate\": 0.5967452814188627,<br>    \"selection_method\": \"selTournament\",<br>    \"tournsize\": 10,<br>    \"elitism_rate\": 0.38181972200096803,<br>    \"survival_rate\": 0.8251889635274392<br>  }<br>}",
          "{<br>  \"number\": 33,<br>  \"values\": [<br>    0.827492356300354,<br>    0.7861511468887329,<br>    36.100486755371094<br>  ],<br>  \"params\": {<br>    \"mutation_method\": \"mutLinear\",<br>    \"mutation_prob\": 0.6963639348272717,<br>    \"mutation_by_deletion_rate\": 0.15130202748757354,<br>    \"mutation_rate_start\": 0.07419393614143444,<br>    \"mutation_rate_end\": 0.7032097077432694,<br>    \"crossover_method\": \"cxUniform\",<br>    \"crossover_rate\": 0.5748600761035493,<br>    \"selection_method\": \"selTournament\",<br>    \"tournsize\": 10,<br>    \"elitism_rate\": 0.3417164976169443,<br>    \"survival_rate\": 0.8216712542393412<br>  }<br>}",
          "{<br>  \"number\": 34,<br>  \"values\": [<br>    0.5610727667808533,<br>    0.5416243433952331,<br>    10.967486381530762<br>  ],<br>  \"params\": {<br>    \"mutation_method\": \"mutExponential\",<br>    \"mutation_prob\": 0.006099679880187408,<br>    \"mutation_by_deletion_rate\": 0.6051531857025192,<br>    \"mutation_rate_start\": 0.30088322770467524,<br>    \"mutation_rate_end\": 0.881939021040194,<br>    \"mutation_rate_degree\": 2,<br>    \"crossover_method\": \"cxUniform\",<br>    \"crossover_rate\": 0.3213191209867731,<br>    \"selection_method\": \"selTournament\",<br>    \"tournsize\": 8,<br>    \"elitism_rate\": 0.5280406858283941,<br>    \"survival_rate\": 0.6705088982635847<br>  }<br>}",
          "{<br>  \"number\": 35,<br>  \"values\": [<br>    0.6824824810028076,<br>    0.6554707765579224,<br>    32.37101864814758<br>  ],<br>  \"params\": {<br>    \"mutation_method\": \"mutLinear\",<br>    \"mutation_prob\": 0.2212683042589294,<br>    \"mutation_by_deletion_rate\": 0.783271522254354,<br>    \"mutation_rate_start\": 0.07480088859195458,<br>    \"mutation_rate_end\": 0.8535560651923803,<br>    \"crossover_method\": \"cxUniform\",<br>    \"crossover_rate\": 0.057721670749054835,<br>    \"selection_method\": \"selRoulette\",<br>    \"elitism_rate\": 0.38842186983103766,<br>    \"survival_rate\": 0.8311543626602782<br>  }<br>}",
          "{<br>  \"number\": 36,<br>  \"values\": [<br>    0.7771769165992737,<br>    0.7364848375320434,<br>    30.925816535949707<br>  ],<br>  \"params\": {<br>    \"mutation_method\": \"mutLinear\",<br>    \"mutation_prob\": 0.463041030934073,<br>    \"mutation_by_deletion_rate\": 0.11343013259699453,<br>    \"mutation_rate_start\": 0.23403300436025595,<br>    \"mutation_rate_end\": 0.09656494857713212,<br>    \"crossover_method\": \"cxKPoint\",<br>    \"crossover_rate\": 0.47127591903124333,<br>    \"crossover_points\": 1,<br>    \"selection_method\": \"selTournamentWithoutReplacement\",<br>    \"tournsize\": 9,<br>    \"elitism_rate\": 0.7149242767355064,<br>    \"survival_rate\": 0.5978139786869099<br>  }<br>}",
          "{<br>  \"number\": 37,<br>  \"values\": [<br>    0.7776364088058472,<br>    0.7443564295768738,<br>    38.89921522140503<br>  ],<br>  \"params\": {<br>    \"mutation_method\": \"mutEntropy\",<br>    \"mutation_prob\": 0.8599952731486534,<br>    \"mutation_by_deletion_rate\": 0.46151387722997206,<br>    \"mutation_rate_start\": 0.17407275532056773,<br>    \"mutation_rate_end\": 0.18714059715758402,<br>    \"crossover_method\": \"cxOnePoint\",<br>    \"crossover_rate\": 0.3492580012406005,<br>    \"selection_method\": \"selRandom\",<br>    \"elitism_rate\": 0.2836299877184763,<br>    \"survival_rate\": 0.33401794809687424<br>  }<br>}",
          "{<br>  \"number\": 38,<br>  \"values\": [<br>    0.654380202293396,<br>    0.6372327446937561,<br>    34.239696741104126<br>  ],<br>  \"params\": {<br>    \"mutation_method\": \"mutConstant\",<br>    \"mutation_prob\": 0.39810690383474273,<br>    \"mutation_by_deletion_rate\": 0.34372588434363793,<br>    \"mutation_rate\": 0.5396643942582329,<br>    \"crossover_method\": \"cxKPoint\",<br>    \"crossover_rate\": 0.7942373076912052,<br>    \"crossover_points\": 2,<br>    \"selection_method\": \"selStochasticUniversalSampling\",<br>    \"elitism_rate\": 0.3938812394557551,<br>    \"survival_rate\": 0.9316366255005377<br>  }<br>}",
          "{<br>  \"number\": 39,<br>  \"values\": [<br>    0.6863411068916321,<br>    0.671571695804596,<br>    36.83689069747925<br>  ],<br>  \"params\": {<br>    \"mutation_method\": \"mutExponential\",<br>    \"mutation_prob\": 0.931728049428689,<br>    \"mutation_by_deletion_rate\": 0.2589894618699343,<br>    \"mutation_rate_start\": 0.3365933621358626,<br>    \"mutation_rate_end\": 0.8070426240499147,<br>    \"mutation_rate_degree\": 3,<br>    \"crossover_method\": \"cxTwoPoint\",<br>    \"crossover_rate\": 0.6504146724650745,<br>    \"crossover_points\": 1,<br>    \"selection_method\": \"selNormRoulette\",<br>    \"elitism_rate\": 0.5399543518785768,<br>    \"survival_rate\": 0.728594911254021<br>  }<br>}",
          "{<br>  \"number\": 40,<br>  \"values\": [<br>    0.7159580588340759,<br>    0.6311599254608155,<br>    30.973251819610596<br>  ],<br>  \"params\": {<br>    \"mutation_method\": \"mutLinear\",<br>    \"mutation_prob\": 0.18606768709484578,<br>    \"mutation_by_deletion_rate\": 0.004363200005122803,<br>    \"mutation_rate_start\": 0.4336379385564314,<br>    \"mutation_rate_end\": 0.5390332779580302,<br>    \"crossover_method\": \"cxUniform\",<br>    \"crossover_rate\": 0.284282940182501,<br>    \"selection_method\": \"selTournament\",<br>    \"tournsize\": 1,<br>    \"elitism_rate\": 0.5968091852713969,<br>    \"survival_rate\": 0.61988825048517<br>  }<br>}",
          "{<br>  \"number\": 41,<br>  \"values\": [<br>    0.7473331093788147,<br>    0.707270348072052,<br>    31.74371314048767<br>  ],<br>  \"params\": {<br>    \"mutation_method\": \"mutConstant\",<br>    \"mutation_prob\": 0.8161277605465931,<br>    \"mutation_by_deletion_rate\": 0.17946726275183902,<br>    \"mutation_rate\": 0.30684202161398555,<br>    \"crossover_method\": \"cxKPoint\",<br>    \"crossover_rate\": 0.4862807115242817,<br>    \"crossover_points\": 3,<br>    \"selection_method\": \"selTournament\",<br>    \"tournsize\": 9,<br>    \"elitism_rate\": 0.6800408133157438,<br>    \"survival_rate\": 0.1157903913602415<br>  }<br>}",
          "{<br>  \"number\": 42,<br>  \"values\": [<br>    0.8186487555503845,<br>    0.7788805961608887,<br>    35.9852192401886<br>  ],<br>  \"params\": {<br>    \"mutation_method\": \"mutLinear\",<br>    \"mutation_prob\": 0.9145200309659494,<br>    \"mutation_by_deletion_rate\": 0.06914546843880029,<br>    \"mutation_rate_start\": 0.039254979324673395,<br>    \"mutation_rate_end\": 0.3857856716406838,<br>    \"crossover_method\": \"cxKPoint\",<br>    \"crossover_rate\": 0.05147627412036502,<br>    \"crossover_points\": 2,<br>    \"selection_method\": \"selBest\",<br>    \"elitism_rate\": 0.4635465697802953,<br>    \"survival_rate\": 0.7640267263587476<br>  }<br>}",
          "{<br>  \"number\": 43,<br>  \"values\": [<br>    0.7312736511230469,<br>    0.6758518695831299,<br>    30.359400510787964<br>  ],<br>  \"params\": {<br>    \"mutation_method\": \"mutLinear\",<br>    \"mutation_prob\": 0.7754989627999205,<br>    \"mutation_by_deletion_rate\": 0.22882171167672297,<br>    \"mutation_rate_start\": 0.13252330290695594,<br>    \"mutation_rate_end\": 0.2676430591595018,<br>    \"crossover_method\": \"cxTwoPoint\",<br>    \"crossover_rate\": 0.5546351165157327,<br>    \"crossover_points\": 1,<br>    \"selection_method\": \"selTournament\",<br>    \"tournsize\": 10,<br>    \"elitism_rate\": 0.8870379911641919,<br>    \"survival_rate\": 0.8715509880427355<br>  }<br>}",
          "{<br>  \"number\": 44,<br>  \"values\": [<br>    0.6001713275909424,<br>    0.572340977191925,<br>    39.66998481750488<br>  ],<br>  \"params\": {<br>    \"mutation_method\": \"mutEntropy\",<br>    \"mutation_prob\": 0.5229875610057956,<br>    \"mutation_by_deletion_rate\": 0.3008277839496161,<br>    \"mutation_rate_start\": 0.8128944152527391,<br>    \"mutation_rate_end\": 0.9836030460895868,<br>    \"crossover_method\": \"cxKPoint\",<br>    \"crossover_rate\": 0.4312752126380688,<br>    \"crossover_points\": 3,<br>    \"selection_method\": \"selRoulette\",<br>    \"elitism_rate\": 0.26576182642902274,<br>    \"survival_rate\": 0.9999175828883891<br>  }<br>}",
          "{<br>  \"number\": 45,<br>  \"values\": [<br>    0.8431911468505859,<br>    0.7808421611785888,<br>    34.149587631225586<br>  ],<br>  \"params\": {<br>    \"mutation_method\": \"mutLinear\",<br>    \"mutation_prob\": 0.8379350463825421,<br>    \"mutation_by_deletion_rate\": 0.11793481973769383,<br>    \"mutation_rate_start\": 0.20542324637761913,<br>    \"mutation_rate_end\": 0.08287222424425633,<br>    \"crossover_method\": \"cxUniform\",<br>    \"crossover_rate\": 0.1082964704348156,<br>    \"selection_method\": \"selTournament\",<br>    \"tournsize\": 9,<br>    \"elitism_rate\": 0.6042169453092883,<br>    \"survival_rate\": 0.8005004487535287<br>  }<br>}",
          "{<br>  \"number\": 46,<br>  \"values\": [<br>    0.6889136433601379,<br>    0.6078521370887756,<br>    34.06014442443848<br>  ],<br>  \"params\": {<br>    \"mutation_method\": \"mutConstant\",<br>    \"mutation_prob\": 0.34876045852141047,<br>    \"mutation_by_deletion_rate\": 0.1532639131327535,<br>    \"mutation_rate\": 0.7289401296235,<br>    \"crossover_method\": \"cxKPoint\",<br>    \"crossover_rate\": 0.6108923701666209,<br>    \"crossover_points\": 1,<br>    \"selection_method\": \"selTournamentWithoutReplacement\",<br>    \"tournsize\": 7,<br>    \"elitism_rate\": 0.42490414558933176,<br>    \"survival_rate\": 0.9336575814832099<br>  }<br>}",
          "{<br>  \"number\": 47,<br>  \"values\": [<br>    0.8410845994949341,<br>    0.7910833120346069,<br>    36.20443105697632<br>  ],<br>  \"params\": {<br>    \"mutation_method\": \"mutLinear\",<br>    \"mutation_prob\": 0.6394718523411634,<br>    \"mutation_by_deletion_rate\": 0.2216779140903231,<br>    \"mutation_rate_start\": 0.059616112038114046,<br>    \"mutation_rate_end\": 0.05685418310101994,<br>    \"crossover_method\": \"cxOnePoint\",<br>    \"crossover_rate\": 0.187229639138486,<br>    \"selection_method\": \"selTournament\",<br>    \"tournsize\": 10,<br>    \"elitism_rate\": 0.35453330924003607,<br>    \"survival_rate\": 0.005675611919139012<br>  }<br>}",
          "{<br>  \"number\": 48,<br>  \"values\": [<br>    0.6756318807601929,<br>    0.6636139273643493,<br>    36.92072129249573<br>  ],<br>  \"params\": {<br>    \"mutation_method\": \"mutLinear\",<br>    \"mutation_prob\": 0.9576899028724433,<br>    \"mutation_by_deletion_rate\": 0.04191443538263906,<br>    \"mutation_rate_start\": 0.12804890669698527,<br>    \"mutation_rate_end\": 0.35165447618765333,<br>    \"crossover_method\": \"cxKPoint\",<br>    \"crossover_rate\": 0.042417598317544325,<br>    \"crossover_points\": 1,<br>    \"selection_method\": \"selRandom\",<br>    \"elitism_rate\": 0.5113071375432007,<br>    \"survival_rate\": 0.7315371644674498<br>  }<br>}",
          "{<br>  \"number\": 49,<br>  \"values\": [<br>    0.6365086436271667,<br>    0.6165026307106019,<br>    44.36992931365967<br>  ],<br>  \"params\": {<br>    \"mutation_method\": \"mutLinear\",<br>    \"mutation_prob\": 0.8759799480894866,<br>    \"mutation_by_deletion_rate\": 0.8377800509305462,<br>    \"mutation_rate_start\": 0.00020863416896674258,<br>    \"mutation_rate_end\": 0.1595599853126441,<br>    \"crossover_method\": \"cxKPoint\",<br>    \"crossover_rate\": 0.1389905397482766,<br>    \"crossover_points\": 2,<br>    \"selection_method\": \"selStochasticUniversalSampling\",<br>    \"elitism_rate\": 0.006767582682113471,<br>    \"survival_rate\": 0.6608375039934543<br>  }<br>}",
          "{<br>  \"number\": 50,<br>  \"values\": [<br>    0.7879999876022339,<br>    0.7271000146865845,<br>    36.93705725669861<br>  ],<br>  \"params\": {<br>    \"mutation_method\": \"mutExponential\",<br>    \"mutation_prob\": 0.1657851043646298,<br>    \"mutation_by_deletion_rate\": 0.3509584257388156,<br>    \"mutation_rate_start\": 0.6884137468576331,<br>    \"mutation_rate_end\": 0.7658256044419851,<br>    \"mutation_rate_degree\": 3,<br>    \"crossover_method\": \"cxUniform\",<br>    \"crossover_rate\": 0.8538276655890157,<br>    \"selection_method\": \"selTournament\",<br>    \"tournsize\": 7,<br>    \"elitism_rate\": 0.20403540505767168,<br>    \"survival_rate\": 0.7595040707481207<br>  }<br>}",
          "{<br>  \"number\": 52,<br>  \"values\": [<br>    0.7397379279136658,<br>    0.708776593208313,<br>    33.8101692199707<br>  ],<br>  \"params\": {<br>    \"mutation_method\": \"mutLinear\",<br>    \"mutation_prob\": 0.5756174993679118,<br>    \"mutation_by_deletion_rate\": 0.9852641969022281,<br>    \"mutation_rate_start\": 0.36962269344470816,<br>    \"mutation_rate_end\": 0.05105598066454019,<br>    \"crossover_method\": \"cxKPoint\",<br>    \"crossover_rate\": 0.693902501056183,<br>    \"crossover_points\": 1,<br>    \"selection_method\": \"selTournament\",<br>    \"tournsize\": 9,<br>    \"elitism_rate\": 0.718999643440627,<br>    \"survival_rate\": 0.9105068780171406<br>  }<br>}",
          "{<br>  \"number\": 53,<br>  \"values\": [<br>    0.7891584634780884,<br>    0.7349591135978699,<br>    36.99980401992798<br>  ],<br>  \"params\": {<br>    \"mutation_method\": \"mutLinear\",<br>    \"mutation_prob\": 0.2720924548784479,<br>    \"mutation_by_deletion_rate\": 0.19442037165330134,<br>    \"mutation_rate_start\": 0.2963463362918685,<br>    \"mutation_rate_end\": 0.5975644740033781,<br>    \"crossover_method\": \"cxTwoPoint\",<br>    \"crossover_rate\": 0.3818705121123649,<br>    \"crossover_points\": 4,<br>    \"selection_method\": \"selBoltzmann\",<br>    \"boltzmann_temperature\": 0.0578534077031827,<br>    \"elitism_rate\": 0.10460767674435478,<br>    \"survival_rate\": 0.8703984303668656<br>  }<br>}",
          "{<br>  \"number\": 54,<br>  \"values\": [<br>    0.7070520520210266,<br>    0.6644346594810486,<br>    36.030149936676025<br>  ],<br>  \"params\": {<br>    \"mutation_method\": \"mutLinear\",<br>    \"mutation_prob\": 0.8881998907827173,<br>    \"mutation_by_deletion_rate\": 0.6563669158369068,<br>    \"mutation_rate_start\": 0.10345241081753331,<br>    \"mutation_rate_end\": 0.30104651746335526,<br>    \"crossover_method\": \"cxKPoint\",<br>    \"crossover_rate\": 0.09013658721191413,<br>    \"crossover_points\": 1,<br>    \"selection_method\": \"selNormRoulette\",<br>    \"elitism_rate\": 0.623024620531283,<br>    \"survival_rate\": 0.5098234309483838<br>  }<br>}",
          "{<br>  \"number\": 55,<br>  \"values\": [<br>    0.7364332675933838,<br>    0.7123331427574158,<br>    36.32043433189392<br>  ],<br>  \"params\": {<br>    \"mutation_method\": \"mutConstant\",<br>    \"mutation_prob\": 0.993572807883533,<br>    \"mutation_by_deletion_rate\": 0.2959958412619087,<br>    \"mutation_rate\": 0.27471592052564586,<br>    \"crossover_method\": \"cxKPoint\",<br>    \"crossover_rate\": 0.18380463698622762,<br>    \"crossover_points\": 2,<br>    \"selection_method\": \"selTournament\",<br>    \"tournsize\": 10,<br>    \"elitism_rate\": 0.6775422709152031,<br>    \"survival_rate\": 0.7745009794883313<br>  }<br>}",
          "{<br>  \"number\": 56,<br>  \"values\": [<br>    0.7811287641525269,<br>    0.7625243186950683,<br>    39.224778175354004<br>  ],<br>  \"params\": {<br>    \"mutation_method\": \"mutEntropy\",<br>    \"mutation_prob\": 0.6865678417652218,<br>    \"mutation_by_deletion_rate\": 0.13729007461410475,<br>    \"mutation_rate_start\": 0.04204518120125504,<br>    \"mutation_rate_end\": 0.23253725468293715,<br>    \"crossover_method\": \"cxOnePoint\",<br>    \"crossover_rate\": 0.00975405003621925,<br>    \"selection_method\": \"selTournament\",<br>    \"tournsize\": 8,<br>    \"elitism_rate\": 0.3085093402985588,<br>    \"survival_rate\": 0.9668840757321682<br>  }<br>}",
          "{<br>  \"number\": 57,<br>  \"values\": [<br>    0.8338178396224976,<br>    0.7573147654533386,<br>    38.58611798286438<br>  ],<br>  \"params\": {<br>    \"mutation_method\": \"mutLinear\",<br>    \"mutation_prob\": 0.4324462256807633,<br>    \"mutation_by_deletion_rate\": 0.2545311250797209,<br>    \"mutation_rate_start\": 0.4694700554742385,<br>    \"mutation_rate_end\": 0.17224232498755745,<br>    \"crossover_method\": \"cxKPoint\",<br>    \"crossover_rate\": 0.5194792327529154,<br>    \"crossover_points\": 3,<br>    \"selection_method\": \"selBest\",<br>    \"elitism_rate\": 0.1673964005865306,<br>    \"survival_rate\": 0.5766424812481666<br>  }<br>}",
          "{<br>  \"number\": 58,<br>  \"values\": [<br>    0.8410730361938477,<br>    0.8142565727233887,<br>    44.18554925918579<br>  ],<br>  \"params\": {<br>    \"mutation_method\": \"mutLinear\",<br>    \"mutation_prob\": 0.7466737255818626,<br>    \"mutation_by_deletion_rate\": 0.06434469602464887,<br>    \"mutation_rate_start\": 0.5964187500559917,<br>    \"mutation_rate_end\": 0.10806100203228483,<br>    \"crossover_method\": \"cxUniform\",<br>    \"crossover_rate\": 0.25401953200371813,<br>    \"selection_method\": \"selTournamentWithoutReplacement\",<br>    \"tournsize\": 5,<br>    \"elitism_rate\": 0.053276686305239185,<br>    \"survival_rate\": 0.8398030416694591<br>  }<br>}",
          "{<br>  \"number\": 59,<br>  \"values\": [<br>    0.7159609794616699,<br>    0.6445376753807068,<br>    38.5636785030365<br>  ],<br>  \"params\": {<br>    \"mutation_method\": \"mutExponential\",<br>    \"mutation_prob\": 0.8173187704879751,<br>    \"mutation_by_deletion_rate\": 0.525406982925554,<br>    \"mutation_rate_start\": 0.2679696546732775,<br>    \"mutation_rate_end\": 0.4994093337670635,<br>    \"mutation_rate_degree\": 2,<br>    \"crossover_method\": \"cxTwoPoint\",<br>    \"crossover_rate\": 0.7382167596379878,<br>    \"crossover_points\": 1,<br>    \"selection_method\": \"selRoulette\",<br>    \"elitism_rate\": 0.5544768218420898,<br>    \"survival_rate\": 0.24418172533903026<br>  }<br>}",
          "{<br>  \"number\": 60,<br>  \"values\": [<br>    0.733029842376709,<br>    0.7041908860206604,<br>    44.6192946434021<br>  ],<br>  \"params\": {<br>    \"mutation_method\": \"mutLinear\",<br>    \"mutation_prob\": 0.9365845742781858,<br>    \"mutation_by_deletion_rate\": 0.38748415488988774,<br>    \"mutation_rate_start\": 0.18998937495594395,<br>    \"mutation_rate_end\": 0.6383785891878189,<br>    \"crossover_method\": \"cxKPoint\",<br>    \"crossover_rate\": 0.12809307374942314,<br>    \"crossover_points\": 2,<br>    \"selection_method\": \"selTournament\",<br>    \"tournsize\": 9,<br>    \"elitism_rate\": 0.2347522919316892,<br>    \"survival_rate\": 0.11815497136926412<br>  }<br>}",
          "{<br>  \"number\": 61,<br>  \"values\": [<br>    0.5519899129867554,<br>    0.5217427492141724,<br>    35.00260353088379<br>  ],<br>  \"params\": {<br>    \"mutation_method\": \"mutConstant\",<br>    \"mutation_prob\": 0.08024898101789536,<br>    \"mutation_by_deletion_rate\": 0.4291076465443041,<br>    \"mutation_rate\": 0.7576440936326975,<br>    \"crossover_method\": \"cxUniform\",<br>    \"crossover_rate\": 0.001345634345170611,<br>    \"selection_method\": \"selTournament\",<br>    \"tournsize\": 8,<br>    \"elitism_rate\": 0.36666870414933184,<br>    \"survival_rate\": 0.7000136479081406<br>  }<br>}",
          "{<br>  \"number\": 62,<br>  \"values\": [<br>    0.824042797088623,<br>    0.7514571070671081,<br>    36.07604956626892<br>  ],<br>  \"params\": {<br>    \"mutation_method\": \"mutLinear\",<br>    \"mutation_prob\": 0.5260897624122647,<br>    \"mutation_by_deletion_rate\": 0.21573646042786088,<br>    \"mutation_rate_start\": 0.23205104391702272,<br>    \"mutation_rate_end\": 0.003171353349845085,<br>    \"crossover_method\": \"cxUniform\",<br>    \"crossover_rate\": 0.03554322697719742,<br>    \"selection_method\": \"selBoltzmann\",<br>    \"boltzmann_temperature\": 0.4617864243642624,<br>    \"elitism_rate\": 0.4157125476205128,<br>    \"survival_rate\": 0.4784356434080182<br>  }<br>}",
          "{<br>  \"number\": 64,<br>  \"values\": [<br>    0.7852331399917603,<br>    0.7389002919197083,<br>    37.22005891799927<br>  ],<br>  \"params\": {<br>    \"mutation_method\": \"mutEntropy\",<br>    \"mutation_prob\": 0.30993904634624636,<br>    \"mutation_by_deletion_rate\": 0.29891965985861496,<br>    \"mutation_rate_start\": 0.5815771881848601,<br>    \"mutation_rate_end\": 0.42561035523686314,<br>    \"crossover_method\": \"cxTwoPoint\",<br>    \"crossover_rate\": 0.6531554752115676,<br>    \"crossover_points\": 1,<br>    \"selection_method\": \"selBest\",<br>    \"elitism_rate\": 0.19039613135371936,<br>    \"survival_rate\": 0.3876590070862467<br>  }<br>}",
          "{<br>  \"number\": 65,<br>  \"values\": [<br>    0.7198595404624939,<br>    0.678218412399292,<br>    36.39551258087158<br>  ],<br>  \"params\": {<br>    \"mutation_method\": \"mutEntropy\",<br>    \"mutation_prob\": 0.043588013531310296,<br>    \"mutation_by_deletion_rate\": 0.3805548249941819,<br>    \"mutation_rate_start\": 0.6305039074512574,<br>    \"mutation_rate_end\": 0.32450608434706635,<br>    \"crossover_method\": \"cxTwoPoint\",<br>    \"crossover_rate\": 0.08721281364783584,<br>    \"crossover_points\": 1,<br>    \"selection_method\": \"selBest\",<br>    \"elitism_rate\": 0.055824427478387006,<br>    \"survival_rate\": 0.337502316035189<br>  }<br>}",
          "{<br>  \"number\": 66,<br>  \"values\": [<br>    0.7470958232879639,<br>    0.6966751456260681,<br>    36.19727110862732<br>  ],<br>  \"params\": {<br>    \"mutation_method\": \"mutEntropy\",<br>    \"mutation_prob\": 0.14893327763797976,<br>    \"mutation_by_deletion_rate\": 0.31270971863155883,<br>    \"mutation_rate_start\": 0.5366553706159896,<br>    \"mutation_rate_end\": 0.23719849527852327,<br>    \"crossover_method\": \"cxTwoPoint\",<br>    \"crossover_rate\": 0.0012941277659093454,<br>    \"crossover_points\": 1,<br>    \"selection_method\": \"selBest\",<br>    \"elitism_rate\": 0.2927070046397523,<br>    \"survival_rate\": 0.36236117363241155<br>  }<br>}",
          "{<br>  \"number\": 67,<br>  \"values\": [<br>    0.8324827551841736,<br>    0.7940099000930786,<br>    42.32256484031677<br>  ],<br>  \"params\": {<br>    \"mutation_method\": \"mutEntropy\",<br>    \"mutation_prob\": 0.6743116541751529,<br>    \"mutation_by_deletion_rate\": 0.25748801030689866,<br>    \"mutation_rate_start\": 0.44178924581897155,<br>    \"mutation_rate_end\": 0.3767939059372214,<br>    \"crossover_method\": \"cxTwoPoint\",<br>    \"crossover_rate\": 0.542091885786666,<br>    \"crossover_points\": 4,<br>    \"selection_method\": \"selBest\",<br>    \"elitism_rate\": 0.14901950011486298,<br>    \"survival_rate\": 0.5442907735096199<br>  }<br>}",
          "{<br>  \"number\": 68,<br>  \"values\": [<br>    0.6624289751052856,<br>    0.6153616666793823,<br>    42.41461539268494<br>  ],<br>  \"params\": {<br>    \"mutation_method\": \"mutEntropy\",<br>    \"mutation_prob\": 0.7246960289560243,<br>    \"mutation_by_deletion_rate\": 0.35624868480756805,<br>    \"mutation_rate_start\": 0.5430245298060379,<br>    \"mutation_rate_end\": 0.5109703412304993,<br>    \"crossover_method\": \"cxTwoPoint\",<br>    \"crossover_rate\": 0.050258836011490726,<br>    \"crossover_points\": 1,<br>    \"selection_method\": \"selRandom\",<br>    \"elitism_rate\": 0.11831785626526853,<br>    \"survival_rate\": 0.43922023457624015<br>  }<br>}",
          "{<br>  \"number\": 69,<br>  \"values\": [<br>    0.8179866671562195,<br>    0.7718769550323487,<br>    34.288644552230835<br>  ],<br>  \"params\": {<br>    \"mutation_method\": \"mutEntropy\",<br>    \"mutation_prob\": 0.23999408600629013,<br>    \"mutation_by_deletion_rate\": 0.24179241211606917,<br>    \"mutation_rate_start\": 0.7092414836115971,<br>    \"mutation_rate_end\": 0.03405549045672206,<br>    \"crossover_method\": \"cxOnePoint\",<br>    \"crossover_rate\": 0.22092040395665924,<br>    \"selection_method\": \"selBest\",<br>    \"elitism_rate\": 0.4814637482751976,<br>    \"survival_rate\": 0.19874954195468075<br>  }<br>}",
          "{<br>  \"number\": 70,<br>  \"values\": [<br>    0.7827468514442444,<br>    0.7519469380378723,<br>    37.323917388916016<br>  ],<br>  \"params\": {<br>    \"mutation_method\": \"mutExponential\",<br>    \"mutation_prob\": 0.12663472853792562,<br>    \"mutation_by_deletion_rate\": 0.20539003078632556,<br>    \"mutation_rate_start\": 0.3729761812868779,<br>    \"mutation_rate_end\": 0.4220637171239847,<br>    \"mutation_rate_degree\": 4,<br>    \"crossover_method\": \"cxTwoPoint\",<br>    \"crossover_rate\": 0.9922278669768525,<br>    \"crossover_points\": 1,<br>    \"selection_method\": \"selStochasticUniversalSampling\",<br>    \"elitism_rate\": 0.22535951790507813,<br>    \"survival_rate\": 0.2902683840072028<br>  }<br>}",
          "{<br>  \"number\": 71,<br>  \"values\": [<br>    0.7092493772506714,<br>    0.6851785898208618,<br>    47.41383123397827<br>  ],<br>  \"params\": {<br>    \"mutation_method\": \"mutEntropy\",<br>    \"mutation_prob\": 0.9640664577028335,<br>    \"mutation_by_deletion_rate\": 0.2773556653695439,<br>    \"mutation_rate_start\": 0.4713078594790372,<br>    \"mutation_rate_end\": 0.03473588063592447,<br>    \"crossover_method\": \"cxKPoint\",<br>    \"crossover_rate\": 0.03054354740701666,<br>    \"crossover_points\": 4,<br>    \"selection_method\": \"selBest\",<br>    \"elitism_rate\": 0.08395299826228808,<br>    \"survival_rate\": 0.41588202324978596<br>  }<br>}",
          "{<br>  \"number\": 72,<br>  \"values\": [<br>    0.7266479730606079,<br>    0.6980661630630494,<br>    39.74447989463806<br>  ],<br>  \"params\": {<br>    \"mutation_method\": \"mutConstant\",<br>    \"mutation_prob\": 0.5921392744414546,<br>    \"mutation_by_deletion_rate\": 0.17732518469052544,<br>    \"mutation_rate\": 0.2711283234127328,<br>    \"crossover_method\": \"cxKPoint\",<br>    \"crossover_rate\": 0.5873150549941661,<br>    \"crossover_points\": 3,<br>    \"selection_method\": \"selNormRoulette\",<br>    \"elitism_rate\": 0.31711490051599933,<br>    \"survival_rate\": 0.6239965801470732<br>  }<br>}",
          "{<br>  \"number\": 73,<br>  \"values\": [<br>    0.6077612042427063,<br>    0.5771896123886109,<br>    41.43715453147888<br>  ],<br>  \"params\": {<br>    \"mutation_method\": \"mutEntropy\",<br>    \"mutation_prob\": 0.4981467271869528,<br>    \"mutation_by_deletion_rate\": 0.32031968659106713,<br>    \"mutation_rate_start\": 0.841124017547996,<br>    \"mutation_rate_end\": 0.9248010224016813,<br>    \"crossover_method\": \"cxKPoint\",<br>    \"crossover_rate\": 0.785713879553521,<br>    \"crossover_points\": 1,<br>    \"selection_method\": \"selTournament\",<br>    \"tournsize\": 3,<br>    \"elitism_rate\": 0.04156030942796441,<br>    \"survival_rate\": 0.6780780527824949<br>  }<br>}",
          "{<br>  \"number\": 74,<br>  \"values\": [<br>    0.5858001708984375,<br>    0.5717511415481568,<br>    32.519243001937866<br>  ],<br>  \"params\": {<br>    \"mutation_method\": \"mutLinear\",<br>    \"mutation_prob\": 0.4083272068336692,<br>    \"mutation_by_deletion_rate\": 0.45060991692732866,<br>    \"mutation_rate_start\": 0.9055278800592029,<br>    \"mutation_rate_end\": 0.12805364363671187,<br>    \"crossover_method\": \"cxTwoPoint\",<br>    \"crossover_rate\": 0.4548489466815071,<br>    \"crossover_points\": 4,<br>    \"selection_method\": \"selRoulette\",<br>    \"elitism_rate\": 0.9142516934328171,<br>    \"survival_rate\": 0.5343589792934912<br>  }<br>}",
          "{<br>  \"number\": 75,<br>  \"values\": [<br>    0.6921095848083496,<br>    0.6553534865379333,<br>    33.56611752510071<br>  ],<br>  \"params\": {<br>    \"mutation_method\": \"mutLinear\",<br>    \"mutation_prob\": 0.7900024870964848,<br>    \"mutation_by_deletion_rate\": 0.7503225900199316,<br>    \"mutation_rate_start\": 0.3319799000460807,<br>    \"mutation_rate_end\": 0.27816467184202437,<br>    \"crossover_method\": \"cxKPoint\",<br>    \"crossover_rate\": 0.10122035879408925,<br>    \"crossover_points\": 1,<br>    \"selection_method\": \"selTournamentWithoutReplacement\",<br>    \"tournsize\": 9,<br>    \"elitism_rate\": 0.8026399969605995,<br>    \"survival_rate\": 0.05284469750527199<br>  }<br>}",
          "{<br>  \"number\": 76,<br>  \"values\": [<br>    0.6793094873428345,<br>    0.6559566617012024,<br>    35.463175535202026<br>  ],<br>  \"params\": {<br>    \"mutation_method\": \"mutEntropy\",<br>    \"mutation_prob\": 0.33662036082528685,<br>    \"mutation_by_deletion_rate\": 0.3682313671482278,<br>    \"mutation_rate_start\": 0.41262297097297684,<br>    \"mutation_rate_end\": 0.47153270421065024,<br>    \"crossover_method\": \"cxKPoint\",<br>    \"crossover_rate\": 0.15162027203627582,<br>    \"crossover_points\": 1,<br>    \"selection_method\": \"selTournament\",<br>    \"tournsize\": 8,<br>    \"elitism_rate\": 0.44093596600733087,<br>    \"survival_rate\": 0.7327753596294881<br>  }<br>}",
          "{<br>  \"number\": 77,<br>  \"values\": [<br>    0.800360918045044,<br>    0.7521824359893798,<br>    40.749242544174194<br>  ],<br>  \"params\": {<br>    \"mutation_method\": \"mutExponential\",<br>    \"mutation_prob\": 0.8936387986515462,<br>    \"mutation_by_deletion_rate\": 0.1911088341051281,<br>    \"mutation_rate_start\": 0.6207465589818093,<br>    \"mutation_rate_end\": 0.5757252747266716,<br>    \"mutation_rate_degree\": 2,<br>    \"crossover_method\": \"cxTwoPoint\",<br>    \"crossover_rate\": 0.6902428674974508,<br>    \"crossover_points\": 4,<br>    \"selection_method\": \"selBest\",<br>    \"elitism_rate\": 0.3379757148480517,<br>    \"survival_rate\": 0.7997549373631402<br>  }<br>}",
          "{<br>  \"number\": 78,<br>  \"values\": [<br>    0.7296648025512695,<br>    0.7030602693557739,<br>    40.77132058143616<br>  ],<br>  \"params\": {<br>    \"mutation_method\": \"mutConstant\",<br>    \"mutation_prob\": 0.6438423815694417,<br>    \"mutation_by_deletion_rate\": 0.5929023922755903,<br>    \"mutation_rate\": 0.7551381045218448,<br>    \"crossover_method\": \"cxOnePoint\",<br>    \"crossover_rate\": 0.6359400524829846,<br>    \"selection_method\": \"selBoltzmann\",<br>    \"boltzmann_temperature\": 0.42103510733634,<br>    \"elitism_rate\": 0.26754336007181556,<br>    \"survival_rate\": 0.5965252935659502<br>  }<br>}",
          "{<br>  \"number\": 79,<br>  \"values\": [<br>    0.7290562987327576,<br>    0.7102700710296631,<br>    43.51756739616394<br>  ],<br>  \"params\": {<br>    \"mutation_method\": \"mutLinear\",<br>    \"mutation_prob\": 0.9696600571502234,<br>    \"mutation_by_deletion_rate\": 0.10166318077618028,<br>    \"mutation_rate_start\": 0.16360143881845216,<br>    \"mutation_rate_end\": 0.20599763411442018,<br>    \"crossover_method\": \"cxKPoint\",<br>    \"crossover_rate\": 0.06665501458467415,<br>    \"crossover_points\": 1,<br>    \"selection_method\": \"selRandom\",<br>    \"elitism_rate\": 0.15238900843674003,<br>    \"survival_rate\": 0.48570720212231033<br>  }<br>}",
          "{<br>  \"number\": 80,<br>  \"values\": [<br>    0.5368230938911438,<br>    0.5299887895584107,<br>    29.38054132461548<br>  ],<br>  \"params\": {<br>    \"mutation_method\": \"mutLinear\",<br>    \"mutation_prob\": 0.85357870407898,<br>    \"mutation_by_deletion_rate\": 0.4126200389900489,<br>    \"mutation_rate_start\": 0.5266442205268975,<br>    \"mutation_rate_end\": 0.1523496144199017,<br>    \"crossover_method\": \"cxKPoint\",<br>    \"crossover_rate\": 0.028238352133316783,<br>    \"crossover_points\": 2,<br>    \"selection_method\": \"selTournament\",<br>    \"tournsize\": 9,<br>    \"elitism_rate\": 0.9967688567495361,<br>    \"survival_rate\": 0.6487528034489795<br>  }<br>}",
          "{<br>  \"number\": 81,<br>  \"values\": [<br>    0.7897964715957642,<br>    0.7411091685295105,<br>    37.224798917770386<br>  ],<br>  \"params\": {<br>    \"mutation_method\": \"mutLinear\",<br>    \"mutation_prob\": 0.9477940336078268,<br>    \"mutation_by_deletion_rate\": 0.27260085524609734,<br>    \"mutation_rate_start\": 0.9990463864074866,<br>    \"mutation_rate_end\": 0.006377457195317012,<br>    \"crossover_method\": \"cxKPoint\",<br>    \"crossover_rate\": 0.9102928646105523,<br>    \"crossover_points\": 1,<br>    \"selection_method\": \"selTournament\",<br>    \"tournsize\": 7,<br>    \"elitism_rate\": 0.570579515064092,<br>    \"survival_rate\": 0.7091441014407813<br>  }<br>}",
          "{<br>  \"number\": 82,<br>  \"values\": [<br>    0.6453681588172913,<br>    0.6104266047477722,<br>    36.699060916900635<br>  ],<br>  \"params\": {<br>    \"mutation_method\": \"mutEntropy\",<br>    \"mutation_prob\": 0.5448586037720985,<br>    \"mutation_by_deletion_rate\": 0.9643893348227172,<br>    \"mutation_rate_start\": 0.49578609827282166,<br>    \"mutation_rate_end\": 0.7407831692057474,<br>    \"crossover_method\": \"cxKPoint\",<br>    \"crossover_rate\": 0.07300126411047571,<br>    \"crossover_points\": 1,<br>    \"selection_method\": \"selStochasticUniversalSampling\",<br>    \"elitism_rate\": 0.4046104261305713,<br>    \"survival_rate\": 0.2906430025627196<br>  }<br>}",
          "{<br>  \"number\": 83,<br>  \"values\": [<br>    0.8221539258956909,<br>    0.7712409734725952,<br>    41.883124351501465<br>  ],<br>  \"params\": {<br>    \"mutation_method\": \"mutLinear\",<br>    \"mutation_prob\": 0.7108520370997927,<br>    \"mutation_by_deletion_rate\": 0.23230326660839962,<br>    \"mutation_rate_start\": 0.2766823689269605,<br>    \"mutation_rate_end\": 0.07365578424955388,<br>    \"crossover_method\": \"cxTwoPoint\",<br>    \"crossover_rate\": 0.5166314023835813,<br>    \"crossover_points\": 1,<br>    \"selection_method\": \"selTournament\",<br>    \"tournsize\": 1,<br>    \"elitism_rate\": 0.195228980230842,<br>    \"survival_rate\": 0.6451503806697005<br>  }<br>}",
          "{<br>  \"number\": 84,<br>  \"values\": [<br>    0.6225752234458923,<br>    0.576842999458313,<br>    33.402432441711426<br>  ],<br>  \"params\": {<br>    \"mutation_method\": \"mutLinear\",<br>    \"mutation_prob\": 0.03147187482136985,<br>    \"mutation_by_deletion_rate\": 0.3310181398292588,<br>    \"mutation_rate_start\": 0.22850490749456184,<br>    \"mutation_rate_end\": 0.6473493712742924,<br>    \"crossover_method\": \"cxKPoint\",<br>    \"crossover_rate\": 0.11144180264995515,<br>    \"crossover_points\": 2,<br>    \"selection_method\": \"selTournament\",<br>    \"tournsize\": 8,<br>    \"elitism_rate\": 0.24190816080347655,<br>    \"survival_rate\": 0.7473779062737466<br>  }<br>}",
          "{<br>  \"number\": 85,<br>  \"values\": [<br>    0.6747480034828186,<br>    0.6462585091590881,<br>    38.46428894996643<br>  ],<br>  \"params\": {<br>    \"mutation_method\": \"mutExponential\",<br>    \"mutation_prob\": 0.49485769632849147,<br>    \"mutation_by_deletion_rate\": 0.16179481319817068,<br>    \"mutation_rate_start\": 0.6596260585904788,<br>    \"mutation_rate_end\": 0.3673414001814841,<br>    \"mutation_rate_degree\": 3,<br>    \"crossover_method\": \"cxOnePoint\",<br>    \"crossover_rate\": 0.01840764194276956,<br>    \"selection_method\": \"selBest\",<br>    \"elitism_rate\": 0.2825584623803771,<br>    \"survival_rate\": 0.6812635994802405<br>  }<br>}",
          "{<br>  \"number\": 86,<br>  \"values\": [<br>    0.7546871900558472,<br>    0.6528613448143006,<br>    36.14768123626709<br>  ],<br>  \"params\": {<br>    \"mutation_method\": \"mutLinear\",<br>    \"mutation_prob\": 0.4526880265026702,<br>    \"mutation_by_deletion_rate\": 0.8531518848233306,<br>    \"mutation_rate_start\": 0.40864794321315656,<br>    \"mutation_rate_end\": 0.40335990870550587,<br>    \"crossover_method\": \"cxKPoint\",<br>    \"crossover_rate\": 0.6254883316028731,<br>    \"crossover_points\": 1,<br>    \"selection_method\": \"selNormRoulette\",<br>    \"elitism_rate\": 0.36901534821559134,<br>    \"survival_rate\": 0.5964188348917696<br>  }<br>}",
          "{<br>  \"number\": 87,<br>  \"values\": [<br>    0.717465341091156,<br>    0.6484408497810363,<br>    36.981825828552246<br>  ],<br>  \"params\": {<br>    \"mutation_method\": \"mutEntropy\",<br>    \"mutation_prob\": 0.7606876471307793,<br>    \"mutation_by_deletion_rate\": 0.13300641520948275,<br>    \"mutation_rate_start\": 0.5702059734996409,<br>    \"mutation_rate_end\": 0.4662732236338804,<br>    \"crossover_method\": \"cxTwoPoint\",<br>    \"crossover_rate\": 0.05885683789292721,<br>    \"crossover_points\": 3,<br>    \"selection_method\": \"selTournament\",<br>    \"tournsize\": 3,<br>    \"elitism_rate\": 0.4984717088856505,<br>    \"survival_rate\": 0.22882078991479093<br>  }<br>}",
          "{<br>  \"number\": 88,<br>  \"values\": [<br>    0.7666546702384949,<br>    0.7307247877120971,<br>    41.60932970046997<br>  ],<br>  \"params\": {<br>    \"mutation_method\": \"mutLinear\",<br>    \"mutation_prob\": 0.918888065099502,<br>    \"mutation_by_deletion_rate\": 0.2067717713279885,<br>    \"mutation_rate_start\": 0.35115841181874696,<br>    \"mutation_rate_end\": 0.19476234130510564,<br>    \"crossover_method\": \"cxKPoint\",<br>    \"crossover_rate\": 0.6820257909844931,<br>    \"crossover_points\": 1,<br>    \"selection_method\": \"selRoulette\",<br>    \"elitism_rate\": 0.3284474072487917,<br>    \"survival_rate\": 0.7801352300466324<br>  }<br>}",
          "{<br>  \"number\": 89,<br>  \"values\": [<br>    0.5833253264427185,<br>    0.544021487236023,<br>    32.2087025642395<br>  ],<br>  \"params\": {<br>    \"mutation_method\": \"mutConstant\",<br>    \"mutation_prob\": 0.6242936240362706,<br>    \"mutation_by_deletion_rate\": 0.09432640396897496,<br>    \"mutation_rate\": 0.8745445504398,<br>    \"crossover_method\": \"cxKPoint\",<br>    \"crossover_rate\": 0.35513415054229325,<br>    \"crossover_points\": 2,<br>    \"selection_method\": \"selTournamentWithoutReplacement\",<br>    \"tournsize\": 9,<br>    \"elitism_rate\": 0.7572552008692368,<br>    \"survival_rate\": 0.32886510895675464<br>  }<br>}",
          "{<br>  \"number\": 90,<br>  \"values\": [<br>    0.7037366032600403,<br>    0.6721386551856995,<br>    33.186771392822266<br>  ],<br>  \"params\": {<br>    \"mutation_method\": \"mutLinear\",<br>    \"mutation_prob\": 0.8143474280710798,<br>    \"mutation_by_deletion_rate\": 0.6917772799015489,<br>    \"mutation_rate_start\": 0.7623187407995659,<br>    \"mutation_rate_end\": 0.10998377605314905,<br>    \"crossover_method\": \"cxTwoPoint\",<br>    \"crossover_rate\": 0.5768301477733666,<br>    \"crossover_points\": 4,<br>    \"selection_method\": \"selTournament\",<br>    \"tournsize\": 6,<br>    \"elitism_rate\": 0.8379051028453167,<br>    \"survival_rate\": 0.13508199071050875<br>  }<br>}",
          "{<br>  \"number\": 91,<br>  \"values\": [<br>    0.7995247840881348,<br>    0.7639199018478393,<br>    38.82355880737305<br>  ],<br>  \"params\": {<br>    \"mutation_method\": \"mutLinear\",<br>    \"mutation_prob\": 0.9942320027536136,<br>    \"mutation_by_deletion_rate\": 0.17394771125202685,<br>    \"mutation_rate_start\": 0.30917930569128765,<br>    \"mutation_rate_end\": 0.24156896886103887,<br>    \"crossover_method\": \"cxKPoint\",<br>    \"crossover_rate\": 0.07667265475524539,<br>    \"crossover_points\": 1,<br>    \"selection_method\": \"selTournament\",<br>    \"tournsize\": 10,<br>    \"elitism_rate\": 0.4482308391970539,<br>    \"survival_rate\": 0.714069072830446<br>  }<br>}",
          "{<br>  \"number\": 92,<br>  \"values\": [<br>    0.7088115215301514,<br>    0.6676718592643738,<br>    40.36926078796387<br>  ],<br>  \"params\": {<br>    \"mutation_method\": \"mutEntropy\",<br>    \"mutation_prob\": 0.5802080850586554,<br>    \"mutation_by_deletion_rate\": 0.25008796648456416,<br>    \"mutation_rate_start\": 0.45523401207814174,<br>    \"mutation_rate_end\": 0.08862341967608922,<br>    \"crossover_method\": \"cxKPoint\",<br>    \"crossover_rate\": 0.03091031662688646,<br>    \"crossover_points\": 1,<br>    \"selection_method\": \"selBest\",<br>    \"elitism_rate\": 0.02116148336301714,<br>    \"survival_rate\": 0.5672133957373404<br>  }<br>}",
          "{<br>  \"number\": 93,<br>  \"values\": [<br>    0.653691828250885,<br>    0.5932877779006958,<br>    32.72807478904724<br>  ],<br>  \"params\": {<br>    \"mutation_method\": \"mutLinear\",<br>    \"mutation_prob\": 0.2163737043033209,<br>    \"mutation_by_deletion_rate\": 0.2831337968203255,<br>    \"mutation_rate_start\": 0.49414542128810707,<br>    \"mutation_rate_end\": 0.31806610880573827,<br>    \"crossover_method\": \"cxOnePoint\",<br>    \"crossover_rate\": 0.0007780004370561448,<br>    \"selection_method\": \"selTournament\",<br>    \"tournsize\": 4,<br>    \"elitism_rate\": 0.6575939102549309,<br>    \"survival_rate\": 0.6260506710447692<br>  }<br>}",
          "{<br>  \"number\": 94,<br>  \"values\": [<br>    0.7945880889892578,<br>    0.7518698930740356,<br>    39.4741313457489<br>  ],<br>  \"params\": {<br>    \"mutation_method\": \"mutLinear\",<br>    \"mutation_prob\": 0.3682202439957964,<br>    \"mutation_by_deletion_rate\": 0.025359674873914995,<br>    \"mutation_rate_start\": 0.1460688195483908,<br>    \"mutation_rate_end\": 0.14012853059365718,<br>    \"crossover_method\": \"cxTwoPoint\",<br>    \"crossover_rate\": 0.15023545588747242,<br>    \"crossover_points\": 1,<br>    \"selection_method\": \"selBoltzmann\",<br>    \"boltzmann_temperature\": 0.9386013549891546,<br>    \"elitism_rate\": 0.08414661179124693,<br>    \"survival_rate\": 0.6849033748161324<br>  }<br>}",
          "{<br>  \"number\": 95,<br>  \"values\": [<br>    0.6648522615432739,<br>    0.6342072725296021,<br>    39.611525774002075<br>  ],<br>  \"params\": {<br>    \"mutation_method\": \"mutExponential\",<br>    \"mutation_prob\": 0.6636810390609039,<br>    \"mutation_by_deletion_rate\": 0.22790559444432626,<br>    \"mutation_rate_start\": 0.20629943342313578,<br>    \"mutation_rate_end\": 0.5564945712558815,<br>    \"mutation_rate_degree\": 1,<br>    \"crossover_method\": \"cxKPoint\",<br>    \"crossover_rate\": 0.09734704654656445,<br>    \"crossover_points\": 3,<br>    \"selection_method\": \"selRandom\",<br>    \"elitism_rate\": 0.10933533357764091,<br>    \"survival_rate\": 0.8545821631629744<br>  }<br>}",
          "{<br>  \"number\": 96,<br>  \"values\": [<br>    0.5957351922988892,<br>    0.5570340991020203,<br>    37.09906029701233<br>  ],<br>  \"params\": {<br>    \"mutation_method\": \"mutEntropy\",<br>    \"mutation_prob\": 0.9732320818509738,<br>    \"mutation_by_deletion_rate\": 0.3094966106120131,<br>    \"mutation_rate_start\": 0.9491724780124051,<br>    \"mutation_rate_end\": 0.05860562756036512,<br>    \"crossover_method\": \"cxKPoint\",<br>    \"crossover_rate\": 0.17181876011859298,<br>    \"crossover_points\": 2,<br>    \"selection_method\": \"selStochasticUniversalSampling\",<br>    \"elitism_rate\": 0.5971598603317609,<br>    \"survival_rate\": 0.07544060782487227<br>  }<br>}",
          "{<br>  \"number\": 97,<br>  \"values\": [<br>    0.6986208558082581,<br>    0.6619326829910278,<br>    35.65146613121033<br>  ],<br>  \"params\": {<br>    \"mutation_method\": \"mutConstant\",<br>    \"mutation_prob\": 0.2487923711526685,<br>    \"mutation_by_deletion_rate\": 0.2763197148626414,<br>    \"mutation_rate\": 0.6317497848551459,<br>    \"crossover_method\": \"cxTwoPoint\",<br>    \"crossover_rate\": 0.12543684867129667,<br>    \"crossover_points\": 1,<br>    \"selection_method\": \"selTournament\",<br>    \"tournsize\": 10,<br>    \"elitism_rate\": 0.2191307351766032,<br>    \"survival_rate\": 0.3851886054811244<br>  }<br>}",
          "{<br>  \"number\": 98,<br>  \"values\": [<br>    0.877703070640564,<br>    0.7990853428840637,<br>    38.24931597709656<br>  ],<br>  \"params\": {<br>    \"mutation_method\": \"mutLinear\",<br>    \"mutation_prob\": 0.8335595252672573,<br>    \"mutation_by_deletion_rate\": 0.49123448796979635,<br>    \"mutation_rate_start\": 0.08708313772407007,<br>    \"mutation_rate_end\": 0.2873869983739442,<br>    \"crossover_method\": \"cxKPoint\",<br>    \"crossover_rate\": 0.052431108583194955,<br>    \"crossover_points\": 1,<br>    \"selection_method\": \"selBest\",<br>    \"elitism_rate\": 0.4683212144015047,<br>    \"survival_rate\": 0.7426359788067577<br>  }<br>}",
          "{<br>  \"number\": 99,<br>  \"values\": [<br>    0.5996505618095398,<br>    0.5892487168312073,<br>    37.123597145080566<br>  ],<br>  \"params\": {<br>    \"mutation_method\": \"mutLinear\",<br>    \"mutation_prob\": 0.9025433741169274,<br>    \"mutation_by_deletion_rate\": 0.33707530512336037,<br>    \"mutation_rate_start\": 0.5573498449694338,<br>    \"mutation_rate_end\": 0.6613553567148777,<br>    \"crossover_method\": \"cxUniform\",<br>    \"crossover_rate\": 0.7688300102867726,<br>    \"selection_method\": \"selNormRoulette\",<br>    \"elitism_rate\": 0.5312520341629811,<br>    \"survival_rate\": 0.4449903468230242<br>  }<br>}",
          "{<br>  \"number\": 100,<br>  \"values\": [<br>    0.752388596534729,<br>    0.703179657459259,<br>    36.57809400558472<br>  ],<br>  \"params\": {<br>    \"mutation_method\": \"mutEntropy\",<br>    \"mutation_prob\": 0.3162813116076334,<br>    \"mutation_by_deletion_rate\": 0.20358210768719015,<br>    \"mutation_rate_start\": 0.017068295939594053,<br>    \"mutation_rate_end\": 0.778166769944231,<br>    \"crossover_method\": \"cxOnePoint\",<br>    \"crossover_rate\": 0.8309965352601901,<br>    \"selection_method\": \"selTournament\",<br>    \"tournsize\": 9,<br>    \"elitism_rate\": 0.17560300549827057,<br>    \"survival_rate\": 0.5230080510075275<br>  }<br>}",
          "{<br>  \"number\": 101,<br>  \"values\": [<br>    0.6163912415504456,<br>    0.6038847208023072,<br>    40.756608724594116<br>  ],<br>  \"params\": {<br>    \"mutation_method\": \"mutLinear\",<br>    \"mutation_prob\": 0.7329857721205131,<br>    \"mutation_by_deletion_rate\": 0.24443688037600336,<br>    \"mutation_rate_start\": 0.7252106541711879,<br>    \"mutation_rate_end\": 0.9044459688772748,<br>    \"crossover_method\": \"cxKPoint\",<br>    \"crossover_rate\": 0.49629723324182523,<br>    \"crossover_points\": 4,<br>    \"selection_method\": \"selTournament\",<br>    \"tournsize\": 8,<br>    \"elitism_rate\": 0.26001858657742116,<br>    \"survival_rate\": 0.9531978596541584<br>  }<br>}",
          "{<br>  \"number\": 102,<br>  \"values\": [<br>    0.8023749589920044,<br>    0.7786256670951843,<br>    40.77740025520325<br>  ],<br>  \"params\": {<br>    \"mutation_method\": \"mutLinear\",<br>    \"mutation_prob\": 0.7835714999566105,<br>    \"mutation_by_deletion_rate\": 0.13688171405985003,<br>    \"mutation_rate_start\": 0.8482814348796092,<br>    \"mutation_rate_end\": 0.17917485915696618,<br>    \"crossover_method\": \"cxTwoPoint\",<br>    \"crossover_rate\": 0.5391805196760813,<br>    \"crossover_points\": 1,<br>    \"selection_method\": \"selBest\",<br>    \"elitism_rate\": 0.3009752402080672,<br>    \"survival_rate\": 0.8142955029031433<br>  }<br>}",
          "{<br>  \"number\": 103,<br>  \"values\": [<br>    0.7560480237007141,<br>    0.7209091067314148,<br>    33.911813735961914<br>  ],<br>  \"params\": {<br>    \"mutation_method\": \"mutEntropy\",<br>    \"mutation_prob\": 0.757719257368411,<br>    \"mutation_by_deletion_rate\": 0.16640312854848655,<br>    \"mutation_rate_start\": 0.28345204200750823,<br>    \"mutation_rate_end\": 0.02841226591652682,<br>    \"crossover_method\": \"cxKPoint\",<br>    \"crossover_rate\": 0.7134241889012927,<br>    \"crossover_points\": 2,<br>    \"selection_method\": \"selRoulette\",<br>    \"elitism_rate\": 0.6300292763653232,<br>    \"survival_rate\": 0.6552305732355228<br>  }<br>}",
          "{<br>  \"number\": 104,<br>  \"values\": [<br>    0.7022519707679749,<br>    0.662966275215149,<br>    38.718910932540894<br>  ],<br>  \"params\": {<br>    \"mutation_method\": \"mutConstant\",<br>    \"mutation_prob\": 0.6935732553303173,<br>    \"mutation_by_deletion_rate\": 0.9384623857283682,<br>    \"mutation_rate\": 0.4145522184931648,<br>    \"crossover_method\": \"cxTwoPoint\",<br>    \"crossover_rate\": 0.02238569832858995,<br>    \"crossover_points\": 1,<br>    \"selection_method\": \"selTournament\",<br>    \"tournsize\": 2,<br>    \"elitism_rate\": 0.34958999235001903,<br>    \"survival_rate\": 0.26581233084890193<br>  }<br>}",
          "{<br>  \"number\": 105,<br>  \"values\": [<br>    0.7318933606147766,<br>    0.6721117496490479,<br>    33.38467812538147<br>  ],<br>  \"params\": {<br>    \"mutation_method\": \"mutLinear\",<br>    \"mutation_prob\": 0.7387116964637244,<br>    \"mutation_by_deletion_rate\": 0.2921546229761168,<br>    \"mutation_rate_start\": 0.24140003628538617,<br>    \"mutation_rate_end\": 0.5171200614968798,<br>    \"crossover_method\": \"cxKPoint\",<br>    \"crossover_rate\": 0.20216505320517825,<br>    \"crossover_points\": 1,<br>    \"selection_method\": \"selTournamentWithoutReplacement\",<br>    \"tournsize\": 10,<br>    \"elitism_rate\": 0.7043782359954696,<br>    \"survival_rate\": 0.17194049819039636<br>  }<br>}",
          "{<br>  \"number\": 106,<br>  \"values\": [<br>    0.7647905349731445,<br>    0.7354385018348694,<br>    43.20650005340576<br>  ],<br>  \"params\": {<br>    \"mutation_method\": \"mutExponential\",<br>    \"mutation_prob\": 0.8031140531794784,<br>    \"mutation_by_deletion_rate\": 0.18858137879314466,<br>    \"mutation_rate_start\": 0.38649183171160834,<br>    \"mutation_rate_end\": 0.6138144964278778,<br>    \"mutation_rate_degree\": 3,<br>    \"crossover_method\": \"cxUniform\",<br>    \"crossover_rate\": 0.610165410246993,<br>    \"selection_method\": \"selBest\",<br>    \"elitism_rate\": 0.13150369733497116,<br>    \"survival_rate\": 0.7153902322414301<br>  }<br>}",
          "{<br>  \"number\": 107,<br>  \"values\": [<br>    0.6369455456733704,<br>    0.5981921553611755,<br>    32.59736704826355<br>  ],<br>  \"params\": {<br>    \"mutation_method\": \"mutEntropy\",<br>    \"mutation_prob\": 0.8572683746170647,<br>    \"mutation_by_deletion_rate\": 0.7571038560841808,<br>    \"mutation_rate_start\": 0.35386205090924194,<br>    \"mutation_rate_end\": 0.7093513740384892,<br>    \"crossover_method\": \"cxKPoint\",<br>    \"crossover_rate\": 0.041351733356288826,<br>    \"crossover_points\": 2,<br>    \"selection_method\": \"selTournament\",<br>    \"tournsize\": 9,<br>    \"elitism_rate\": 0.9438063970130024,<br>    \"survival_rate\": 0.8998315951600387<br>  }<br>}",
          "{<br>  \"number\": 108,<br>  \"values\": [<br>    0.7315438985824585,<br>    0.6882436513900757,<br>    41.69943022727966<br>  ],<br>  \"params\": {<br>    \"mutation_method\": \"mutLinear\",<br>    \"mutation_prob\": 0.8669750524720954,<br>    \"mutation_by_deletion_rate\": 0.2657981976228263,<br>    \"mutation_rate_start\": 0.32944973543780626,<br>    \"mutation_rate_end\": 0.9760209441022105,<br>    \"crossover_method\": \"cxTwoPoint\",<br>    \"crossover_rate\": 0.4216505434107449,<br>    \"crossover_points\": 1,<br>    \"selection_method\": \"selBoltzmann\",<br>    \"boltzmann_temperature\": 0.2824652750752841,<br>    \"elitism_rate\": 0.3718202298559007,<br>    \"survival_rate\": 0.6101143303607122<br>  }<br>}",
          "{<br>  \"number\": 109,<br>  \"values\": [<br>    0.756585955619812,<br>    0.7159015774726868,<br>    42.112648248672485<br>  ],<br>  \"params\": {<br>    \"mutation_method\": \"mutLinear\",<br>    \"mutation_prob\": 0.7130158981754633,<br>    \"mutation_by_deletion_rate\": 0.4053036119673816,<br>    \"mutation_rate_start\": 0.18506415010823885,<br>    \"mutation_rate_end\": 0.3472406464568748,<br>    \"crossover_method\": \"cxKPoint\",<br>    \"crossover_rate\": 0.45244837573263114,<br>    \"crossover_points\": 3,<br>    \"selection_method\": \"selTournament\",<br>    \"tournsize\": 4,<br>    \"elitism_rate\": 0.24642655676831504,<br>    \"survival_rate\": 0.6949970395461127<br>  }<br>}",
          "{<br>  \"number\": 110,<br>  \"values\": [<br>    0.6542184948921204,<br>    0.5903032302856446,<br>    33.956154346466064<br>  ],<br>  \"params\": {<br>    \"mutation_method\": \"mutEntropy\",<br>    \"mutation_prob\": 0.11998231429046391,<br>    \"mutation_by_deletion_rate\": 0.222960206857433,<br>    \"mutation_rate_start\": 0.11772898731115666,<br>    \"mutation_rate_end\": 0.2277978418118386,<br>    \"crossover_method\": \"cxOnePoint\",<br>    \"crossover_rate\": 0.08615705882910166,<br>    \"selection_method\": \"selRandom\",<br>    \"elitism_rate\": 0.5778954933440863,<br>    \"survival_rate\": 0.5784049893651452<br>  }<br>}",
          "{<br>  \"number\": 111,<br>  \"values\": [<br>    0.7136111259460449,<br>    0.6678914904594422,<br>    34.9494891166687<br>  ],<br>  \"params\": {<br>    \"mutation_method\": \"mutEntropy\",<br>    \"mutation_prob\": 0.17823878705723206,<br>    \"mutation_by_deletion_rate\": 0.35725878063523836,<br>    \"mutation_rate_start\": 0.05758540887916552,<br>    \"mutation_rate_end\": 0.3947797930750964,<br>    \"crossover_method\": \"cxTwoPoint\",<br>    \"crossover_rate\": 0.5647570906401853,<br>    \"crossover_points\": 1,<br>    \"selection_method\": \"selBest\",<br>    \"elitism_rate\": 0.325512211402874,<br>    \"survival_rate\": 0.31436486158174165<br>  }<br>}",
          "{<br>  \"number\": 113,<br>  \"values\": [<br>    0.6984911561012268,<br>    0.652990746498108,<br>    36.20120644569397<br>  ],<br>  \"params\": {<br>    \"mutation_method\": \"mutEntropy\",<br>    \"mutation_prob\": 0.27294513467009773,<br>    \"mutation_by_deletion_rate\": 0.3743097393293247,<br>    \"mutation_rate_start\": 0.8715927831171458,<br>    \"mutation_rate_end\": 0.48678975969301536,<br>    \"crossover_method\": \"cxTwoPoint\",<br>    \"crossover_rate\": 0.6091417174187844,<br>    \"crossover_points\": 1,<br>    \"selection_method\": \"selBest\",<br>    \"elitism_rate\": 0.2901401735454716,<br>    \"survival_rate\": 0.3670624054793489<br>  }<br>}",
          "{<br>  \"number\": 114,<br>  \"values\": [<br>    0.7696993947029114,<br>    0.7388336062431335,<br>    36.312854051589966<br>  ],<br>  \"params\": {<br>    \"mutation_method\": \"mutEntropy\",<br>    \"mutation_prob\": 0.0518498753981389,<br>    \"mutation_by_deletion_rate\": 0.3188726444767171,<br>    \"mutation_rate_start\": 0.7864937015687994,<br>    \"mutation_rate_end\": 0.8527433047469796,<br>    \"crossover_method\": \"cxTwoPoint\",<br>    \"crossover_rate\": 0.9422156900784424,<br>    \"crossover_points\": 1,<br>    \"selection_method\": \"selBest\",<br>    \"elitism_rate\": 0.2164244256066487,<br>    \"survival_rate\": 0.4050680579187425<br>  }<br>}",
          "{<br>  \"number\": 115,<br>  \"values\": [<br>    0.6543329358100891,<br>    0.6410045027732849,<br>    37.71540379524231<br>  ],<br>  \"params\": {<br>    \"mutation_method\": \"mutEntropy\",<br>    \"mutation_prob\": 0.41327492574941377,<br>    \"mutation_by_deletion_rate\": 0.6038418622653958,<br>    \"mutation_rate_start\": 0.9642068291524175,<br>    \"mutation_rate_end\": 0.44968533690660595,<br>    \"crossover_method\": \"cxTwoPoint\",<br>    \"crossover_rate\": 0.5471771049498654,<br>    \"crossover_points\": 1,<br>    \"selection_method\": \"selBest\",<br>    \"elitism_rate\": 0.2704574908931326,<br>    \"survival_rate\": 0.4707546352956366<br>  }<br>}",
          "{<br>  \"number\": 116,<br>  \"values\": [<br>    0.6556683778762817,<br>    0.6057892799377441,<br>    36.332345724105835<br>  ],<br>  \"params\": {<br>    \"mutation_method\": \"mutEntropy\",<br>    \"mutation_prob\": 0.19989850996987743,<br>    \"mutation_by_deletion_rate\": 0.3234843695566377,<br>    \"mutation_rate_start\": 0.6421875900281695,<br>    \"mutation_rate_end\": 0.5333761020764629,<br>    \"crossover_method\": \"cxTwoPoint\",<br>    \"crossover_rate\": 0.6324350352936583,<br>    \"crossover_points\": 1,<br>    \"selection_method\": \"selBest\",<br>    \"elitism_rate\": 0.301894416045031,<br>    \"survival_rate\": 0.2020728689229162<br>  }<br>}",
          "{<br>  \"number\": 117,<br>  \"values\": [<br>    0.5222430229187012,<br>    0.5049369931221008,<br>    23.755059003829956<br>  ],<br>  \"params\": {<br>    \"mutation_method\": \"mutEntropy\",<br>    \"mutation_prob\": 0.015512541222402976,<br>    \"mutation_by_deletion_rate\": 0.5483009467122767,<br>    \"mutation_rate_start\": 0.7410956124854358,<br>    \"mutation_rate_end\": 0.8246772002396349,<br>    \"crossover_method\": \"cxTwoPoint\",<br>    \"crossover_rate\": 0.6052242424918004,<br>    \"crossover_points\": 1,<br>    \"selection_method\": \"selBest\",<br>    \"elitism_rate\": 0.3852486156339893,<br>    \"survival_rate\": 0.36129986375694756<br>  }<br>}",
          "{<br>  \"number\": 118,<br>  \"values\": [<br>    0.5877988338470459,<br>    0.561488676071167,<br>    36.09942364692688<br>  ],<br>  \"params\": {<br>    \"mutation_method\": \"mutEntropy\",<br>    \"mutation_prob\": 0.09691348605184996,<br>    \"mutation_by_deletion_rate\": 0.8395655104535621,<br>    \"mutation_rate_start\": 0.6921192822309379,<br>    \"mutation_rate_end\": 0.596010530059522,<br>    \"crossover_method\": \"cxTwoPoint\",<br>    \"crossover_rate\": 0.6765110377169969,<br>    \"crossover_points\": 3,<br>    \"selection_method\": \"selBest\",<br>    \"elitism_rate\": 0.34878324915178704,<br>    \"survival_rate\": 0.25465379380445524<br>  }<br>}",
          "{<br>  \"number\": 119,<br>  \"values\": [<br>    0.7215800881385803,<br>    0.6749534368515014,<br>    35.785887002944946<br>  ],<br>  \"params\": {<br>    \"mutation_method\": \"mutEntropy\",<br>    \"mutation_prob\": 0.3790935508471146,<br>    \"mutation_by_deletion_rate\": 0.44896982070829083,<br>    \"mutation_rate_start\": 0.6062500233665294,<br>    \"mutation_rate_end\": 0.33421716216504305,<br>    \"crossover_method\": \"cxTwoPoint\",<br>    \"crossover_rate\": 0.5880940989544913,<br>    \"crossover_points\": 1,<br>    \"selection_method\": \"selBest\",<br>    \"elitism_rate\": 0.31270027678676315,<br>    \"survival_rate\": 0.4310899051351642<br>  }<br>}",
          "{<br>  \"number\": 120,<br>  \"values\": [<br>    0.5349524021148682,<br>    0.5037762641906738,<br>    19.434324979782104<br>  ],<br>  \"params\": {<br>    \"mutation_method\": \"mutEntropy\",<br>    \"mutation_prob\": 0.06169555595476428,<br>    \"mutation_by_deletion_rate\": 0.8793301770358487,<br>    \"mutation_rate_start\": 0.9193919859695807,<br>    \"mutation_rate_end\": 0.7413195129949548,<br>    \"crossover_method\": \"cxTwoPoint\",<br>    \"crossover_rate\": 0.6557925573241767,<br>    \"crossover_points\": 1,<br>    \"selection_method\": \"selStochasticUniversalSampling\",<br>    \"elitism_rate\": 0.8683538642261321,<br>    \"survival_rate\": 0.4954293104858473<br>  }<br>}",
          "{<br>  \"number\": 121,<br>  \"values\": [<br>    0.7057828307151794,<br>    0.6688182353973389,<br>    34.55379509925842<br>  ],<br>  \"params\": {<br>    \"mutation_method\": \"mutExponential\",<br>    \"mutation_prob\": 0.13988919271746558,<br>    \"mutation_by_deletion_rate\": 0.8022338920023413,<br>    \"mutation_rate_start\": 0.6679435113506993,<br>    \"mutation_rate_end\": 0.41232415677735273,<br>    \"mutation_rate_degree\": 2,<br>    \"crossover_method\": \"cxUniform\",<br>    \"crossover_rate\": 0.591354460245179,<br>    \"selection_method\": \"selBest\",<br>    \"elitism_rate\": 0.28073634533365555,<br>    \"survival_rate\": 0.3819218443965414<br>  }<br>}",
          "{<br>  \"number\": 122,<br>  \"values\": [<br>    0.6866185069084167,<br>    0.6548490047454834,<br>    34.506486654281616<br>  ],<br>  \"params\": {<br>    \"mutation_method\": \"mutEntropy\",<br>    \"mutation_prob\": 0.09244938808610204,<br>    \"mutation_by_deletion_rate\": 0.6335696502575203,<br>    \"mutation_rate_start\": 0.5111881531509794,<br>    \"mutation_rate_end\": 0.673898224734822,<br>    \"crossover_method\": \"cxTwoPoint\",<br>    \"crossover_rate\": 0.31169064131625857,<br>    \"crossover_points\": 4,<br>    \"selection_method\": \"selNormRoulette\",<br>    \"elitism_rate\": 0.25768956886094396,<br>    \"survival_rate\": 0.3122636987084826<br>  }<br>}",
          "{<br>  \"number\": 123,<br>  \"values\": [<br>    0.7109161615371704,<br>    0.6502297878265381,<br>    24.151944637298584<br>  ],<br>  \"params\": {<br>    \"mutation_method\": \"mutConstant\",<br>    \"mutation_prob\": 0.019709881136604823,<br>    \"mutation_by_deletion_rate\": 0.3453637959188174,<br>    \"mutation_rate\": 0.0894994242587458,<br>    \"crossover_method\": \"cxTwoPoint\",<br>    \"crossover_rate\": 0.5317120976921732,<br>    \"crossover_points\": 1,<br>    \"selection_method\": \"selBest\",<br>    \"elitism_rate\": 0.32775456562913746,<br>    \"survival_rate\": 0.16070758508583208<br>  }<br>}",
          "{<br>  \"number\": 124,<br>  \"values\": [<br>    0.6438296437263489,<br>    0.62487233877182,<br>    35.252275705337524<br>  ],<br>  \"params\": {<br>    \"mutation_method\": \"mutEntropy\",<br>    \"mutation_prob\": 0.4861434689715387,<br>    \"mutation_by_deletion_rate\": 0.2944795686583314,<br>    \"mutation_rate_start\": 0.8056155892743482,<br>    \"mutation_rate_end\": 0.2921305265692319,<br>    \"crossover_method\": \"cxTwoPoint\",<br>    \"crossover_rate\": 0.5686653093101178,<br>    \"crossover_points\": 1,<br>    \"selection_method\": \"selRoulette\",<br>    \"elitism_rate\": 0.393608370583266,<br>    \"survival_rate\": 0.21278562452065275<br>  }<br>}",
          "{<br>  \"number\": 125,<br>  \"values\": [<br>    0.7634557485580444,<br>    0.7424275636672973,<br>    38.023603200912476<br>  ],<br>  \"params\": {<br>    \"mutation_method\": \"mutEntropy\",<br>    \"mutation_prob\": 0.28756428432228887,<br>    \"mutation_by_deletion_rate\": 0.6795515969929506,<br>    \"mutation_rate_start\": 0.4282122424100592,<br>    \"mutation_rate_end\": 0.4425698833098364,<br>    \"crossover_method\": \"cxOnePoint\",<br>    \"crossover_rate\": 0.628756240601161,<br>    \"selection_method\": \"selTournamentWithoutReplacement\",<br>    \"tournsize\": 2,<br>    \"elitism_rate\": 0.24425863653487123,<br>    \"survival_rate\": 0.4218701479576042<br>  }<br>}",
          "{<br>  \"number\": 126,<br>  \"values\": [<br>    0.6724451780319214,<br>    0.64987211227417,<br>    32.81380915641785<br>  ],<br>  \"params\": {<br>    \"mutation_method\": \"mutExponential\",<br>    \"mutation_prob\": 0.33294151642486836,<br>    \"mutation_by_deletion_rate\": 0.7348060524501845,<br>    \"mutation_rate_start\": 0.47910524935648574,<br>    \"mutation_rate_end\": 0.2476412179847498,<br>    \"mutation_rate_degree\": 1,<br>    \"crossover_method\": \"cxUniform\",<br>    \"crossover_rate\": 0.7114892636836541,<br>    \"selection_method\": \"selBest\",<br>    \"elitism_rate\": 0.760164912016507,<br>    \"survival_rate\": 0.35134807854974537<br>  }<br>}",
          "{<br>  \"number\": 127,<br>  \"values\": [<br>    0.6938449740409851,<br>    0.6315998435020447,<br>    35.04684233665466<br>  ],<br>  \"params\": {<br>    \"mutation_method\": \"mutEntropy\",<br>    \"mutation_prob\": 0.4417352249259374,<br>    \"mutation_by_deletion_rate\": 0.3076011354623894,<br>    \"mutation_rate_start\": 0.2511657962192468,<br>    \"mutation_rate_end\": 0.626196811684526,<br>    \"crossover_method\": \"cxTwoPoint\",<br>    \"crossover_rate\": 0.6560563560400583,<br>    \"crossover_points\": 1,<br>    \"selection_method\": \"selBoltzmann\",<br>    \"boltzmann_temperature\": 0.709913729989905,<br>    \"elitism_rate\": 0.4308869318658722,<br>    \"survival_rate\": 0.2872404903964319<br>  }<br>}",
          "{<br>  \"number\": 128,<br>  \"values\": [<br>    0.8796648979187012,<br>    0.8144384860992432,<br>    36.02121186256409<br>  ],<br>  \"params\": {<br>    \"mutation_method\": \"mutConstant\",<br>    \"mutation_prob\": 0.5282985338612401,<br>    \"mutation_by_deletion_rate\": 0.2579788691198402,<br>    \"mutation_rate\": 0.17694143093085246,<br>    \"crossover_method\": \"cxTwoPoint\",<br>    \"crossover_rate\": 0.3932972037599768,<br>    \"crossover_points\": 3,<br>    \"selection_method\": \"selBest\",<br>    \"elitism_rate\": 0.3700626731120838,<br>    \"survival_rate\": 0.45009792965760775<br>  }<br>}",
          "{<br>  \"number\": 130,<br>  \"values\": [<br>    0.7956542372703552,<br>    0.7794510364532471,<br>    39.60966110229492<br>  ],<br>  \"params\": {<br>    \"mutation_method\": \"mutEntropy\",<br>    \"mutation_prob\": 0.6224030737857864,<br>    \"mutation_by_deletion_rate\": 0.37998338453614283,<br>    \"mutation_rate_start\": 0.2052256704660064,<br>    \"mutation_rate_end\": 0.1583052309312878,<br>    \"crossover_method\": \"cxTwoPoint\",<br>    \"crossover_rate\": 0.6413142459465064,<br>    \"crossover_points\": 1,<br>    \"selection_method\": \"selRandom\",<br>    \"elitism_rate\": 0.20939093431563288,<br>    \"survival_rate\": 0.3422791145270577<br>  }<br>}",
          "{<br>  \"number\": 131,<br>  \"values\": [<br>    0.5779446363449097,<br>    0.5557971954345703,<br>    34.45599722862244<br>  ],<br>  \"params\": {<br>    \"mutation_method\": \"mutEntropy\",<br>    \"mutation_prob\": 0.2505598975923723,<br>    \"mutation_by_deletion_rate\": 0.28449083101601547,<br>    \"mutation_rate_start\": 0.02267224942908641,<br>    \"mutation_rate_end\": 0.9427420457965663,<br>    \"crossover_method\": \"cxOnePoint\",<br>    \"crossover_rate\": 0.48081931184642,<br>    \"selection_method\": \"selStochasticUniversalSampling\",<br>    \"elitism_rate\": 0.41273708585903135,<br>    \"survival_rate\": 0.39571637778116164<br>  }<br>}",
          "{<br>  \"number\": 132,<br>  \"values\": [<br>    0.765335202217102,<br>    0.7339499354362488,<br>    33.396170139312744<br>  ],<br>  \"params\": {<br>    \"mutation_method\": \"mutExponential\",<br>    \"mutation_prob\": 0.38682567522149924,<br>    \"mutation_by_deletion_rate\": 0.2386633023649165,<br>    \"mutation_rate_start\": 0.1090402399844069,<br>    \"mutation_rate_end\": 0.5659523224924172,<br>    \"mutation_rate_degree\": 4,<br>    \"crossover_method\": \"cxTwoPoint\",<br>    \"crossover_rate\": 0.5103057177784472,<br>    \"crossover_points\": 1,<br>    \"selection_method\": \"selBest\",<br>    \"elitism_rate\": 0.5117841783270249,<br>    \"survival_rate\": 0.31233372801773<br>  }<br>}",
          "{<br>  \"number\": 133,<br>  \"values\": [<br>    0.816871166229248,<br>    0.7418452739715576,<br>    38.95106267929077<br>  ],<br>  \"params\": {<br>    \"mutation_method\": \"mutConstant\",<br>    \"mutation_prob\": 0.7625701373846315,<br>    \"mutation_by_deletion_rate\": 0.3540651059093219,<br>    \"mutation_rate\": 0.3943627353169111,<br>    \"crossover_method\": \"cxUniform\",<br>    \"crossover_rate\": 0.8562030288742211,<br>    \"selection_method\": \"selBest\",<br>    \"elitism_rate\": 0.3084762183650128,<br>    \"survival_rate\": 0.3811213184846874<br>  }<br>}",
          "{<br>  \"number\": 134,<br>  \"values\": [<br>    0.7540360689163208,<br>    0.7244474649429321,<br>    39.90438747406006<br>  ],<br>  \"params\": {<br>    \"mutation_method\": \"mutEntropy\",<br>    \"mutation_prob\": 0.6735360770203674,<br>    \"mutation_by_deletion_rate\": 0.32955214974116054,<br>    \"mutation_rate_start\": 0.7566129995459667,<br>    \"mutation_rate_end\": 0.8817479490739107,<br>    \"crossover_method\": \"cxTwoPoint\",<br>    \"crossover_rate\": 0.5670483473961972,<br>    \"crossover_points\": 4,<br>    \"selection_method\": \"selNormRoulette\",<br>    \"elitism_rate\": 0.2889396819818479,<br>    \"survival_rate\": 0.36536246082303303<br>  }<br>}",
          "{<br>  \"number\": 135,<br>  \"values\": [<br>    0.7631176710128784,<br>    0.7227425694465637,<br>    43.02949523925781<br>  ],<br>  \"params\": {<br>    \"mutation_method\": \"mutEntropy\",<br>    \"mutation_prob\": 0.47136593989916026,<br>    \"mutation_by_deletion_rate\": 0.9328007097846762,<br>    \"mutation_rate_start\": 0.1523232148807848,<br>    \"mutation_rate_end\": 0.3595428449087439,<br>    \"crossover_method\": \"cxTwoPoint\",<br>    \"crossover_rate\": 0.5938466499604698,<br>    \"crossover_points\": 1,<br>    \"selection_method\": \"selRoulette\",<br>    \"elitism_rate\": 0.03129643674678706,<br>    \"survival_rate\": 0.32357072331394243<br>  }<br>}",
          "{<br>  \"number\": 136,<br>  \"values\": [<br>    0.711453378200531,<br>    0.6610419511795044,<br>    39.387731075286865<br>  ],<br>  \"params\": {<br>    \"mutation_method\": \"mutEntropy\",<br>    \"mutation_prob\": 0.7830279842144372,<br>    \"mutation_by_deletion_rate\": 0.41514632459128836,<br>    \"mutation_rate_start\": 0.8960045453345289,<br>    \"mutation_rate_end\": 0.06807106645087281,<br>    \"crossover_method\": \"cxOnePoint\",<br>    \"crossover_rate\": 0.6174557201252283,<br>    \"selection_method\": \"selRandom\",<br>    \"elitism_rate\": 0.3394729908584598,<br>    \"survival_rate\": 0.4149837267386044<br>  }<br>}",
          "{<br>  \"number\": 137,<br>  \"values\": [<br>    0.6440722346305847,<br>    0.5862468719482422,<br>    13.49260663986206<br>  ],<br>  \"params\": {<br>    \"mutation_method\": \"mutConstant\",<br>    \"mutation_prob\": 0.002207642982838154,<br>    \"mutation_by_deletion_rate\": 0.26264634612505683,<br>    \"mutation_rate\": 0.9949893089998323,<br>    \"crossover_method\": \"cxTwoPoint\",<br>    \"crossover_rate\": 0.27779353085259173,<br>    \"crossover_points\": 1,<br>    \"selection_method\": \"selTournamentWithoutReplacement\",<br>    \"tournsize\": 6,<br>    \"elitism_rate\": 0.06584011300459094,<br>    \"survival_rate\": 0.6679182782258098<br>  }<br>}",
          "{<br>  \"number\": 138,<br>  \"values\": [<br>    0.7291814088821411,<br>    0.7046485543251038,<br>    34.096728801727295<br>  ],<br>  \"params\": {<br>    \"mutation_method\": \"mutExponential\",<br>    \"mutation_prob\": 0.16381464512585553,<br>    \"mutation_by_deletion_rate\": 0.43593815237442624,<br>    \"mutation_rate_start\": 0.38215886727753623,<br>    \"mutation_rate_end\": 0.25594577409639924,<br>    \"mutation_rate_degree\": 2,<br>    \"crossover_method\": \"cxUniform\",<br>    \"crossover_rate\": 0.020993552964522627,<br>    \"selection_method\": \"selBest\",<br>    \"elitism_rate\": 0.23361459893012612,<br>    \"survival_rate\": 0.342654302151983<br>  }<br>}",
          "{<br>  \"number\": 139,<br>  \"values\": [<br>    0.8653249740600586,<br>    0.823905062675476,<br>    40.266300678253174<br>  ],<br>  \"params\": {<br>    \"mutation_method\": \"mutEntropy\",<br>    \"mutation_prob\": 0.35845724750208535,<br>    \"mutation_by_deletion_rate\": 0.3959411743638107,<br>    \"mutation_rate_start\": 0.40419225255132896,<br>    \"mutation_rate_end\": 0.10348892649546229,<br>    \"crossover_method\": \"cxTwoPoint\",<br>    \"crossover_rate\": 0.7392457619972624,<br>    \"crossover_points\": 1,<br>    \"selection_method\": \"selBoltzmann\",<br>    \"boltzmann_temperature\": 0.7439809347769543,<br>    \"elitism_rate\": 0.18920805904741733,<br>    \"survival_rate\": 0.6356673795948393<br>  }<br>}",
          "{<br>  \"number\": 140,<br>  \"values\": [<br>    0.7357660531997681,<br>    0.7155866622924805,<br>    31.160573482513428<br>  ],<br>  \"params\": {<br>    \"mutation_method\": \"mutConstant\",<br>    \"mutation_prob\": 0.5615751637067808,<br>    \"mutation_by_deletion_rate\": 0.2573237209154278,<br>    \"mutation_rate\": 0.17075532415772143,<br>    \"crossover_method\": \"cxTwoPoint\",<br>    \"crossover_rate\": 0.8950190615062332,<br>    \"crossover_points\": 3,<br>    \"selection_method\": \"selBest\",<br>    \"elitism_rate\": 0.8342907776971983,<br>    \"survival_rate\": 0.0841367375870371<br>  }<br>}",
          "{<br>  \"number\": 141,<br>  \"values\": [<br>    0.7070106863975525,<br>    0.6598525285720825,<br>    39.32696986198425<br>  ],<br>  \"params\": {<br>    \"mutation_method\": \"mutLinear\",<br>    \"mutation_prob\": 0.8232100446386105,<br>    \"mutation_by_deletion_rate\": 0.3058179399984761,<br>    \"mutation_rate_start\": 0.3196498171565421,<br>    \"mutation_rate_end\": 0.7151274261848399,<br>    \"crossover_method\": \"cxKPoint\",<br>    \"crossover_rate\": 0.5541681000848824,<br>    \"crossover_points\": 1,<br>    \"selection_method\": \"selBest\",<br>    \"elitism_rate\": 0.3533066711013997,<br>    \"survival_rate\": 0.4025729522504939<br>  }<br>}",
          "{<br>  \"number\": 142,<br>  \"values\": [<br>    0.6839749813079834,<br>    0.6492917776107788,<br>    38.752175092697144<br>  ],<br>  \"params\": {<br>    \"mutation_method\": \"mutEntropy\",<br>    \"mutation_prob\": 0.5276872765829916,<br>    \"mutation_by_deletion_rate\": 0.2116650889324222,<br>    \"mutation_rate_start\": 0.2152602107913405,<br>    \"mutation_rate_end\": 0.5890111151368655,<br>    \"crossover_method\": \"cxTwoPoint\",<br>    \"crossover_rate\": 0.001856810863361493,<br>    \"crossover_points\": 1,<br>    \"selection_method\": \"selBest\",<br>    \"elitism_rate\": 0.2757298574411847,<br>    \"survival_rate\": 0.4585120181727277<br>  }<br>}",
          "{<br>  \"number\": 143,<br>  \"values\": [<br>    0.6445983648300171,<br>    0.6141116738319397,<br>    30.072044610977173<br>  ],<br>  \"params\": {<br>    \"mutation_method\": \"mutLinear\",<br>    \"mutation_prob\": 0.21032784983043776,<br>    \"mutation_by_deletion_rate\": 0.27874223866854614,<br>    \"mutation_rate_start\": 0.26351858892858354,<br>    \"mutation_rate_end\": 0.9980682167259964,<br>    \"crossover_method\": \"cxKPoint\",<br>    \"crossover_rate\": 0.5974932114090805,<br>    \"crossover_points\": 4,<br>    \"selection_method\": \"selTournament\",<br>    \"tournsize\": 5,<br>    \"elitism_rate\": 0.6047193133955744,<br>    \"survival_rate\": 0.79793569372628<br>  }<br>}",
          "{<br>  \"number\": 144,<br>  \"values\": [<br>    0.7417641878128052,<br>    0.7099527955055237,<br>    30.575434684753418<br>  ],<br>  \"params\": {<br>    \"mutation_method\": \"mutEntropy\",<br>    \"mutation_prob\": 0.11799059405986978,<br>    \"mutation_by_deletion_rate\": 0.12502345084822397,<br>    \"mutation_rate_start\": 0.972182725861271,<br>    \"mutation_rate_end\": 0.2122732291945919,<br>    \"crossover_method\": \"cxTwoPoint\",<br>    \"crossover_rate\": 0.3821772289786596,<br>    \"crossover_points\": 2,<br>    \"selection_method\": \"selStochasticUniversalSampling\",<br>    \"elitism_rate\": 0.5547214384425265,<br>    \"survival_rate\": 0.7559260478395573<br>  }<br>}",
          "{<br>  \"number\": 145,<br>  \"values\": [<br>    0.6982384324073792,<br>    0.6722455501556397,<br>    30.93048119544983<br>  ],<br>  \"params\": {<br>    \"mutation_method\": \"mutLinear\",<br>    \"mutation_prob\": 0.23763887769608516,<br>    \"mutation_by_deletion_rate\": 0.2534919432918841,<br>    \"mutation_rate_start\": 0.3612161334603145,<br>    \"mutation_rate_end\": 0.026694199000831476,<br>    \"crossover_method\": \"cxUniform\",<br>    \"crossover_rate\": 0.05458371700641238,<br>    \"selection_method\": \"selNormRoulette\",<br>    \"elitism_rate\": 0.3739202992585637,<br>    \"survival_rate\": 0.37866540117244724<br>  }<br>}",
          "{<br>  \"number\": 146,<br>  \"values\": [<br>    0.6847978234291077,<br>    0.6534147381782531,<br>    30.20831799507141<br>  ],<br>  \"params\": {<br>    \"mutation_method\": \"mutEntropy\",<br>    \"mutation_prob\": 0.4246824336267122,<br>    \"mutation_by_deletion_rate\": 0.4819794067112973,<br>    \"mutation_rate_start\": 0.8224378051075023,<br>    \"mutation_rate_end\": 0.3090934006351177,<br>    \"crossover_method\": \"cxOnePoint\",<br>    \"crossover_rate\": 0.7670755433737866,<br>    \"selection_method\": \"selBest\",<br>    \"elitism_rate\": 0.6575661550708733,<br>    \"survival_rate\": 0.44912023016724617<br>  }<br>}",
          "{<br>  \"number\": 147,<br>  \"values\": [<br>    0.6485612392425537,<br>    0.6102165699005127,<br>    36.02253437042236<br>  ],<br>  \"params\": {<br>    \"mutation_method\": \"mutConstant\",<br>    \"mutation_prob\": 0.7479002306911859,<br>    \"mutation_by_deletion_rate\": 0.0743533755896679,<br>    \"mutation_rate\": 0.610669188175789,<br>    \"crossover_method\": \"cxKPoint\",<br>    \"crossover_rate\": 0.6777012615087687,<br>    \"crossover_points\": 1,<br>    \"selection_method\": \"selTournament\",<br>    \"tournsize\": 1,<br>    \"elitism_rate\": 0.31577094345013784,<br>    \"survival_rate\": 0.3045745071209769<br>  }<br>}",
          "{<br>  \"number\": 148,<br>  \"values\": [<br>    0.8165640830993652,<br>    0.7451800346374512,<br>    33.340341091156006<br>  ],<br>  \"params\": {<br>    \"mutation_method\": \"mutLinear\",<br>    \"mutation_prob\": 0.2978905430834674,<br>    \"mutation_by_deletion_rate\": 0.5636849778815336,<br>    \"mutation_rate_start\": 0.07782755591464355,<br>    \"mutation_rate_end\": 0.5439562466821926,<br>    \"crossover_method\": \"cxTwoPoint\",<br>    \"crossover_rate\": 0.9637683895987325,<br>    \"crossover_points\": 1,<br>    \"selection_method\": \"selBest\",<br>    \"elitism_rate\": 0.0989782652269825,<br>    \"survival_rate\": 0.018547170155778336<br>  }<br>}",
          "{<br>  \"number\": 149,<br>  \"values\": [<br>    0.6207950115203857,<br>    0.5810410261154175,<br>    41.98984909057617<br>  ],<br>  \"params\": {<br>    \"mutation_method\": \"mutExponential\",<br>    \"mutation_prob\": 0.8433162942919928,<br>    \"mutation_by_deletion_rate\": 0.23448695417949403,<br>    \"mutation_rate_start\": 0.5562333517088485,<br>    \"mutation_rate_end\": 0.12447637228752655,<br>    \"mutation_rate_degree\": 3,<br>    \"crossover_method\": \"cxKPoint\",<br>    \"crossover_rate\": 0.8214782612903037,<br>    \"crossover_points\": 1,<br>    \"selection_method\": \"selRandom\",<br>    \"elitism_rate\": 0.007103482785270808,<br>    \"survival_rate\": 0.36267198246704097<br>  }<br>}",
          "{<br>  \"number\": 150,<br>  \"values\": [<br>    0.617056131362915,<br>    0.5937845826148986,<br>    30.95453405380249<br>  ],<br>  \"params\": {<br>    \"mutation_method\": \"mutEntropy\",<br>    \"mutation_prob\": 0.7120435182127451,<br>    \"mutation_by_deletion_rate\": 0.3380271760203502,<br>    \"mutation_rate_start\": 0.2890219857486492,<br>    \"mutation_rate_end\": 0.7839035905369973,<br>    \"crossover_method\": \"cxTwoPoint\",<br>    \"crossover_rate\": 0.5747590668313687,<br>    \"crossover_points\": 1,<br>    \"selection_method\": \"selTournament\",<br>    \"tournsize\": 7,<br>    \"elitism_rate\": 0.6936278079937997,<br>    \"survival_rate\": 0.4181852142467691<br>  }<br>}",
          "{<br>  \"number\": 151,<br>  \"values\": [<br>    0.7729278802871704,<br>    0.7338194012641907,<br>    30.188660144805908<br>  ],<br>  \"params\": {<br>    \"mutation_method\": \"mutLinear\",<br>    \"mutation_prob\": 0.8018434144571511,<br>    \"mutation_by_deletion_rate\": 0.31716153324703167,<br>    \"mutation_rate_start\": 0.45312640972306945,<br>    \"mutation_rate_end\": 0.09752591711846463,<br>    \"crossover_method\": \"cxKPoint\",<br>    \"crossover_rate\": 0.6236582958192984,<br>    \"crossover_points\": 4,<br>    \"selection_method\": \"selTournamentWithoutReplacement\",<br>    \"tournsize\": 9,<br>    \"elitism_rate\": 0.743788527373854,<br>    \"survival_rate\": 0.3397251068894001<br>  }<br>}",
          "{<br>  \"number\": 152,<br>  \"values\": [<br>    0.6069772839546204,<br>    0.5907711625099182,<br>    29.877091646194458<br>  ],<br>  \"params\": {<br>    \"mutation_method\": \"mutLinear\",<br>    \"mutation_prob\": 0.9408072916710998,<br>    \"mutation_by_deletion_rate\": 0.29949767318891435,<br>    \"mutation_rate_start\": 0.4284015168637069,<br>    \"mutation_rate_end\": 0.48351576942866825,<br>    \"crossover_method\": \"cxTwoPoint\",<br>    \"crossover_rate\": 0.6244507679170216,<br>    \"crossover_points\": 4,<br>    \"selection_method\": \"selRoulette\",<br>    \"elitism_rate\": 0.7845807881289151,<br>    \"survival_rate\": 0.3392205159728748<br>  }<br>}",
          "{<br>  \"number\": 153,<br>  \"values\": [<br>    0.586037814617157,<br>    0.547877061367035,<br>    31.366228818893433<br>  ],<br>  \"params\": {<br>    \"mutation_method\": \"mutEntropy\",<br>    \"mutation_prob\": 0.0711481631950246,<br>    \"mutation_by_deletion_rate\": 0.5157908323563921,<br>    \"mutation_rate_start\": 0.3402166497076781,<br>    \"mutation_rate_end\": 0.8183360194494256,<br>    \"crossover_method\": \"cxKPoint\",<br>    \"crossover_rate\": 0.25170723814483514,<br>    \"crossover_points\": 1,<br>    \"selection_method\": \"selBest\",<br>    \"elitism_rate\": 0.2649413883098622,<br>    \"survival_rate\": 0.398798067554298<br>  }<br>}",
          "{<br>  \"number\": 154,<br>  \"values\": [<br>    0.6895948052406311,<br>    0.6617899537086487,<br>    28.3398699760437<br>  ],<br>  \"params\": {<br>    \"mutation_method\": \"mutLinear\",<br>    \"mutation_prob\": 0.7957218578550649,<br>    \"mutation_by_deletion_rate\": 0.32210262754464425,<br>    \"mutation_rate_start\": 0.30968254521072813,<br>    \"mutation_rate_end\": 0.08493524412608532,<br>    \"crossover_method\": \"cxTwoPoint\",<br>    \"crossover_rate\": 0.036087076538090374,<br>    \"crossover_points\": 3,<br>    \"selection_method\": \"selTournament\",<br>    \"tournsize\": 8,<br>    \"elitism_rate\": 0.9470497103608742,<br>    \"survival_rate\": 0.7144301212742136<br>  }<br>}",
          "{<br>  \"number\": 155,<br>  \"values\": [<br>    0.8289503455162048,<br>    0.7788899660110473,<br>    38.59110927581787<br>  ],<br>  \"params\": {<br>    \"mutation_method\": \"mutEntropy\",<br>    \"mutation_prob\": 0.7647560532587628,<br>    \"mutation_by_deletion_rate\": 0.27713972127158376,<br>    \"mutation_rate_start\": 0.1757290111376001,<br>    \"mutation_rate_end\": 0.3785680395597607,<br>    \"crossover_method\": \"cxKPoint\",<br>    \"crossover_rate\": 0.6430795959010545,<br>    \"crossover_points\": 1,<br>    \"selection_method\": \"selTournamentWithoutReplacement\",<br>    \"tournsize\": 9,<br>    \"elitism_rate\": 0.3030178053788573,<br>    \"survival_rate\": 0.3518795638309489<br>  }<br>}",
          "{<br>  \"number\": 156,<br>  \"values\": [<br>    0.6359370350837708,<br>    0.6217008709907532,<br>    40.703792095184326<br>  ],<br>  \"params\": {<br>    \"mutation_method\": \"mutEntropy\",<br>    \"mutation_prob\": 0.6522577498268711,<br>    \"mutation_by_deletion_rate\": 0.363177404008231,<br>    \"mutation_rate_start\": 0.4523810450006997,<br>    \"mutation_rate_end\": 0.6872777228232566,<br>    \"crossover_method\": \"cxUniform\",<br>    \"crossover_rate\": 0.0724377655035392,<br>    \"selection_method\": \"selBest\",<br>    \"elitism_rate\": 0.15245810071763452,<br>    \"survival_rate\": 0.9850131622795408<br>  }<br>}",
          "{<br>  \"number\": 157,<br>  \"values\": [<br>    0.7619964480400085,<br>    0.7333148956298828,<br>    32.64456486701965<br>  ],<br>  \"params\": {<br>    \"mutation_method\": \"mutLinear\",<br>    \"mutation_prob\": 0.19352125832370506,<br>    \"mutation_by_deletion_rate\": 0.18932127855498304,<br>    \"mutation_rate_start\": 0.5198723288046572,<br>    \"mutation_rate_end\": 0.011895886517026527,<br>    \"crossover_method\": \"cxOnePoint\",<br>    \"crossover_rate\": 0.01562522190155421,<br>    \"selection_method\": \"selBoltzmann\",<br>    \"boltzmann_temperature\": 0.2763774965677976,<br>    \"elitism_rate\": 0.3298007308734398,<br>    \"survival_rate\": 0.8827068981154732<br>  }<br>}",
          "{<br>  \"number\": 158,<br>  \"values\": [<br>    0.8562235832214355,<br>    0.8214829444885254,<br>    38.226046323776245<br>  ],<br>  \"params\": {<br>    \"mutation_method\": \"mutConstant\",<br>    \"mutation_prob\": 0.5970602678487748,<br>    \"mutation_by_deletion_rate\": 0.991517383996304,<br>    \"mutation_rate\": 0.15612574256152012,<br>    \"crossover_method\": \"cxTwoPoint\",<br>    \"crossover_rate\": 0.5215611310875284,<br>    \"crossover_points\": 1,<br>    \"selection_method\": \"selTournament\",<br>    \"tournsize\": 10,<br>    \"elitism_rate\": 0.25049456667624564,<br>    \"survival_rate\": 0.8574757639513827<br>  }<br>}",
          "{<br>  \"number\": 159,<br>  \"values\": [<br>    0.6069400906562805,<br>    0.5598477005958558,<br>    30.262810707092285<br>  ],<br>  \"params\": {<br>    \"mutation_method\": \"mutEntropy\",<br>    \"mutation_prob\": 0.03977275114939771,<br>    \"mutation_by_deletion_rate\": 0.15001504507839575,<br>    \"mutation_rate_start\": 0.6517931812528701,<br>    \"mutation_rate_end\": 0.505932408097334,<br>    \"crossover_method\": \"cxKPoint\",<br>    \"crossover_rate\": 0.32645068942967725,<br>    \"crossover_points\": 1,<br>    \"selection_method\": \"selBest\",<br>    \"elitism_rate\": 0.4830574449259673,<br>    \"survival_rate\": 0.6638784471060599<br>  }<br>}",
          "{<br>  \"number\": 160,<br>  \"values\": [<br>    0.6860761642456055,<br>    0.602415406703949,<br>    32.827463150024414<br>  ],<br>  \"params\": {<br>    \"mutation_method\": \"mutExponential\",<br>    \"mutation_prob\": 0.7305228140207604,<br>    \"mutation_by_deletion_rate\": 0.21847475418646742,<br>    \"mutation_rate_start\": 0.7188720022775349,<br>    \"mutation_rate_end\": 0.45154806955825055,<br>    \"mutation_rate_degree\": 1,<br>    \"crossover_method\": \"cxTwoPoint\",<br>    \"crossover_rate\": 0.11177678890833559,<br>    \"crossover_points\": 1,<br>    \"selection_method\": \"selStochasticUniversalSampling\",<br>    \"elitism_rate\": 0.7441939549489334,<br>    \"survival_rate\": 0.27270974380005597<br>  }<br>}",
          "{<br>  \"number\": 161,<br>  \"values\": [<br>    0.7898143529891968,<br>    0.7564774036407471,<br>    39.008209466934204<br>  ],<br>  \"params\": {<br>    \"mutation_method\": \"mutEntropy\",<br>    \"mutation_prob\": 0.6996139817971135,<br>    \"mutation_by_deletion_rate\": 0.29522825584332024,<br>    \"mutation_rate_start\": 0.39378610405384173,<br>    \"mutation_rate_end\": 0.1711137892810969,<br>    \"crossover_method\": \"cxKPoint\",<br>    \"crossover_rate\": 0.5820951968115005,<br>    \"crossover_points\": 2,<br>    \"selection_method\": \"selBest\",<br>    \"elitism_rate\": 0.2887021547633661,<br>    \"survival_rate\": 0.8199748342217539<br>  }<br>}",
          "{<br>  \"number\": 162,<br>  \"values\": [<br>    0.7953899502754211,<br>    0.7436204195022583,<br>    40.211261510849<br>  ],<br>  \"params\": {<br>    \"mutation_method\": \"mutLinear\",<br>    \"mutation_prob\": 0.9995398611041131,<br>    \"mutation_by_deletion_rate\": 0.25065490364212206,<br>    \"mutation_rate_start\": 0.30270650637486707,<br>    \"mutation_rate_end\": 0.271981055656231,<br>    \"crossover_method\": \"cxTwoPoint\",<br>    \"crossover_rate\": 0.6549558638729023,<br>    \"crossover_points\": 4,<br>    \"selection_method\": \"selTournament\",<br>    \"tournsize\": 2,<br>    \"elitism_rate\": 0.34459922875031224,<br>    \"survival_rate\": 0.604802417955166<br>  }<br>}",
          "{<br>  \"number\": 163,<br>  \"values\": [<br>    0.84247887134552,<br>    0.7758145809173584,<br>    40.57652425765991<br>  ],<br>  \"params\": {<br>    \"mutation_method\": \"mutLinear\",<br>    \"mutation_prob\": 0.8801540435404134,<br>    \"mutation_by_deletion_rate\": 0.3198533240190907,<br>    \"mutation_rate_start\": 0.8676484708633276,<br>    \"mutation_rate_end\": 0.04738644396766379,<br>    \"crossover_method\": \"cxTwoPoint\",<br>    \"crossover_rate\": 0.6028279683571957,<br>    \"crossover_points\": 1,<br>    \"selection_method\": \"selBest\",<br>    \"elitism_rate\": 0.26920667532724507,<br>    \"survival_rate\": 0.37305584262755126<br>  }<br>}",
          "{<br>  \"number\": 164,<br>  \"values\": [<br>    0.8064595460891724,<br>    0.7658223867416382,<br>    34.84465003013611<br>  ],<br>  \"params\": {<br>    \"mutation_method\": \"mutEntropy\",<br>    \"mutation_prob\": 0.14571196177894052,<br>    \"mutation_by_deletion_rate\": 0.2674168803016281,<br>    \"mutation_rate_start\": 0.6136103870076322,<br>    \"mutation_rate_end\": 0.13393044199316773,<br>    \"crossover_method\": \"cxOnePoint\",<br>    \"crossover_rate\": 0.5550025017641497,<br>    \"selection_method\": \"selNormRoulette\",<br>    \"elitism_rate\": 0.3599257416304687,<br>    \"survival_rate\": 0.7739225421763071<br>  }<br>}",
          "{<br>  \"number\": 165,<br>  \"values\": [<br>    0.7271966934204102,<br>    0.685290539264679,<br>    34.92019772529602<br>  ],<br>  \"params\": {<br>    \"mutation_method\": \"mutEntropy\",<br>    \"mutation_prob\": 0.31750443458004807,<br>    \"mutation_by_deletion_rate\": 0.11161618149712271,<br>    \"mutation_rate_start\": 0.27418837638148247,<br>    \"mutation_rate_end\": 0.4230185297979557,<br>    \"crossover_method\": \"cxKPoint\",<br>    \"crossover_rate\": 0.003213222237997755,<br>    \"crossover_points\": 1,<br>    \"selection_method\": \"selTournament\",<br>    \"tournsize\": 6,<br>    \"elitism_rate\": 0.4587786361785719,<br>    \"survival_rate\": 0.7366742028049238<br>  }<br>}",
          "{<br>  \"number\": 166,<br>  \"values\": [<br>    0.7868730425834656,<br>    0.748797333240509,<br>    39.25185513496399<br>  ],<br>  \"params\": {<br>    \"mutation_method\": \"mutLinear\",<br>    \"mutation_prob\": 0.8077876991612271,<br>    \"mutation_by_deletion_rate\": 0.04449959419665794,<br>    \"mutation_rate_start\": 0.372703470999778,<br>    \"mutation_rate_end\": 0.6506936570682563,<br>    \"crossover_method\": \"cxUniform\",<br>    \"crossover_rate\": 0.6699740421676927,<br>    \"selection_method\": \"selBest\",<br>    \"elitism_rate\": 0.30178628052628753,<br>    \"survival_rate\": 0.5553512630583948<br>  }<br>}",
          "{<br>  \"number\": 167,<br>  \"values\": [<br>    0.7499423027038574,<br>    0.6582605004310608,<br>    41.72869253158569<br>  ],<br>  \"params\": {<br>    \"mutation_method\": \"mutConstant\",<br>    \"mutation_prob\": 0.7771298875658701,<br>    \"mutation_by_deletion_rate\": 0.6591706480114101,<br>    \"mutation_rate\": 0.8774123004206527,<br>    \"crossover_method\": \"cxTwoPoint\",<br>    \"crossover_rate\": 0.6176806962934296,<br>    \"crossover_points\": 1,<br>    \"selection_method\": \"selRandom\",<br>    \"elitism_rate\": 0.22661546989186931,<br>    \"survival_rate\": 0.6888703769306187<br>  }<br>}",
          "{<br>  \"number\": 168,<br>  \"values\": [<br>    0.5776277780532837,<br>    0.5491045117378235,<br>    34.301621198654175<br>  ],<br>  \"params\": {<br>    \"mutation_method\": \"mutEntropy\",<br>    \"mutation_prob\": 0.10040152167011732,<br>    \"mutation_by_deletion_rate\": 0.3408333750164355,<br>    \"mutation_rate_start\": 0.3376292643962652,<br>    \"mutation_rate_end\": 0.730918162696623,<br>    \"crossover_method\": \"cxKPoint\",<br>    \"crossover_rate\": 0.04718989108830115,<br>    \"crossover_points\": 3,<br>    \"selection_method\": \"selRoulette\",<br>    \"elitism_rate\": 0.3185637975142233,<br>    \"survival_rate\": 0.043238656321809454<br>  }<br>}",
          "{<br>  \"number\": 169,<br>  \"values\": [<br>    0.7278872132301331,<br>    0.6912458419799805,<br>    37.49318480491638<br>  ],<br>  \"params\": {<br>    \"mutation_method\": \"mutExponential\",<br>    \"mutation_prob\": 0.9153869647933386,<br>    \"mutation_by_deletion_rate\": 0.7907884433115285,<br>    \"mutation_rate_start\": 0.6941795586376129,<br>    \"mutation_rate_end\": 0.8595572368793614,<br>    \"mutation_rate_degree\": 4,<br>    \"crossover_method\": \"cxTwoPoint\",<br>    \"crossover_rate\": 0.8758242251947426,<br>    \"crossover_points\": 1,<br>    \"selection_method\": \"selTournamentWithoutReplacement\",<br>    \"tournsize\": 5,<br>    \"elitism_rate\": 0.5149298688250287,<br>    \"survival_rate\": 0.9392456255272119<br>  }<br>}",
          "{<br>  \"number\": 170,<br>  \"values\": [<br>    0.7355497479438782,<br>    0.6921810626983642,<br>    40.75421071052551<br>  ],<br>  \"params\": {<br>    \"mutation_method\": \"mutLinear\",<br>    \"mutation_prob\": 0.963437460315147,<br>    \"mutation_by_deletion_rate\": 0.2875922998464528,<br>    \"mutation_rate_start\": 0.22194102690551104,<br>    \"mutation_rate_end\": 0.7634017457048059,<br>    \"crossover_method\": \"cxTwoPoint\",<br>    \"crossover_rate\": 0.029047547052426168,<br>    \"crossover_points\": 1,<br>    \"selection_method\": \"selTournament\",<br>    \"tournsize\": 9,<br>    \"elitism_rate\": 0.2812958585453792,<br>    \"survival_rate\": 0.3931158081181913<br>  }<br>}",
          "{<br>  \"number\": 171,<br>  \"values\": [<br>    0.8230640888214111,<br>    0.7845830678939819,<br>    34.87657189369202<br>  ],<br>  \"params\": {<br>    \"mutation_method\": \"mutConstant\",<br>    \"mutation_prob\": 0.2641078969901095,<br>    \"mutation_by_deletion_rate\": 0.7231095983511413,<br>    \"mutation_rate\": 0.15494072222350952,<br>    \"crossover_method\": \"cxTwoPoint\",<br>    \"crossover_rate\": 0.5312259877221235,<br>    \"crossover_points\": 1,<br>    \"selection_method\": \"selBest\",<br>    \"elitism_rate\": 0.29739068302189103,<br>    \"survival_rate\": 0.3306481084124834<br>  }<br>}",
          "{<br>  \"number\": 172,<br>  \"values\": [<br>    0.6209244132041931,<br>    0.5924120664596557,<br>    38.95072412490845<br>  ],<br>  \"params\": {<br>    \"mutation_method\": \"mutEntropy\",<br>    \"mutation_prob\": 0.5970053881345145,<br>    \"mutation_by_deletion_rate\": 0.231708737360077,<br>    \"mutation_rate_start\": 0.9354812259296587,<br>    \"mutation_rate_end\": 0.3335818747771644,<br>    \"crossover_method\": \"cxKPoint\",<br>    \"crossover_rate\": 0.4582847039718032,<br>    \"crossover_points\": 1,<br>    \"selection_method\": \"selTournament\",<br>    \"tournsize\": 10,<br>    \"elitism_rate\": 0.24975568365940282,<br>    \"survival_rate\": 0.8578855110034735<br>  }<br>}",
          "{<br>  \"number\": 173,<br>  \"values\": [<br>    0.7987520694732666,<br>    0.7487171649932861,<br>    39.9927031993866<br>  ],<br>  \"params\": {<br>    \"mutation_method\": \"mutEntropy\",<br>    \"mutation_prob\": 0.744797211632769,<br>    \"mutation_by_deletion_rate\": 0.9977651742768379,<br>    \"mutation_rate_start\": 0.24399825948173917,<br>    \"mutation_rate_end\": 0.20362340588033,<br>    \"crossover_method\": \"cxTwoPoint\",<br>    \"crossover_rate\": 0.5979937255510203,<br>    \"crossover_points\": 4,<br>    \"selection_method\": \"selBest\",<br>    \"elitism_rate\": 0.25778493364740895,<br>    \"survival_rate\": 0.3561443935450179<br>  }<br>}",
          "{<br>  \"number\": 174,<br>  \"values\": [<br>    0.7080999612808228,<br>    0.6680881142616272,<br>    34.00104761123657<br>  ],<br>  \"params\": {<br>    \"mutation_method\": \"mutLinear\",<br>    \"mutation_prob\": 0.16522765558918917,<br>    \"mutation_by_deletion_rate\": 0.022294756086918777,<br>    \"mutation_rate_start\": 0.6335752602639099,<br>    \"mutation_rate_end\": 0.5239031999510345,<br>    \"crossover_method\": \"cxOnePoint\",<br>    \"crossover_rate\": 0.4080483126319394,<br>    \"selection_method\": \"selTournament\",<br>    \"tournsize\": 7,<br>    \"elitism_rate\": 0.32864694332400946,<br>    \"survival_rate\": 0.633293958747955<br>  }<br>}",
          "{<br>  \"number\": 175,<br>  \"values\": [<br>    0.6333327889442444,<br>    0.600256335735321,<br>    37.90218472480774<br>  ],<br>  \"params\": {<br>    \"mutation_method\": \"mutEntropy\",<br>    \"mutation_prob\": 0.5066637301645347,<br>    \"mutation_by_deletion_rate\": 0.30630463504876543,<br>    \"mutation_rate_start\": 0.5779220959506568,<br>    \"mutation_rate_end\": 0.9092077654457161,<br>    \"crossover_method\": \"cxKPoint\",<br>    \"crossover_rate\": 0.5747781898660157,<br>    \"crossover_points\": 2,<br>    \"selection_method\": \"selBoltzmann\",<br>    \"boltzmann_temperature\": 0.5864056787812706,<br>    \"elitism_rate\": 0.3098384181753534,<br>    \"survival_rate\": 0.4378080779258422<br>  }<br>}",
          "{<br>  \"number\": 176,<br>  \"values\": [<br>    0.871685802936554,<br>    0.803826105594635,<br>    38.49399185180664<br>  ],<br>  \"params\": {<br>    \"mutation_method\": \"mutConstant\",<br>    \"mutation_prob\": 0.540899353146216,<br>    \"mutation_by_deletion_rate\": 0.9117600660484649,<br>    \"mutation_rate\": 0.36413886096075715,<br>    \"crossover_method\": \"cxUniform\",<br>    \"crossover_rate\": 0.6372737245889739,<br>    \"selection_method\": \"selBest\",<br>    \"elitism_rate\": 0.2816099978648288,<br>    \"survival_rate\": 0.9120818361334811<br>  }<br>}",
          "{<br>  \"number\": 177,<br>  \"values\": [<br>    0.7126734256744385,<br>    0.6902157425880432,<br>    32.164268255233765<br>  ],<br>  \"params\": {<br>    \"mutation_method\": \"mutLinear\",<br>    \"mutation_prob\": 0.03234720352260645,<br>    \"mutation_by_deletion_rate\": 0.20510977340645195,<br>    \"mutation_rate_start\": 0.05815219393792215,<br>    \"mutation_rate_end\": 0.3912247697354906,<br>    \"crossover_method\": \"cxTwoPoint\",<br>    \"crossover_rate\": 0.939777507371231,<br>    \"crossover_points\": 1,<br>    \"selection_method\": \"selStochasticUniversalSampling\",<br>    \"elitism_rate\": 0.33638176867689074,<br>    \"survival_rate\": 0.37494969803563477<br>  }<br>}",
          "{<br>  \"number\": 178,<br>  \"values\": [<br>    0.5970922112464905,<br>    0.547404408454895,<br>    29.36123776435852<br>  ],<br>  \"params\": {<br>    \"mutation_method\": \"mutEntropy\",<br>    \"mutation_prob\": 0.22712010545504885,<br>    \"mutation_by_deletion_rate\": 0.2488226880361997,<br>    \"mutation_rate_start\": 0.036970297663599515,<br>    \"mutation_rate_end\": 0.5791349492384056,<br>    \"crossover_method\": \"cxKPoint\",<br>    \"crossover_rate\": 0.06925136022631495,<br>    \"crossover_points\": 1,<br>    \"selection_method\": \"selTournament\",<br>    \"tournsize\": 4,<br>    \"elitism_rate\": 0.8986187128398366,<br>    \"survival_rate\": 0.8412216420429427<br>  }<br>}",
          "{<br>  \"number\": 179,<br>  \"values\": [<br>    0.7660773992538452,<br>    0.7142853021621705,<br>    34.95470690727234<br>  ],<br>  \"params\": {<br>    \"mutation_method\": \"mutExponential\",<br>    \"mutation_prob\": 0.34861573660843154,<br>    \"mutation_by_deletion_rate\": 0.9724890364801673,<br>    \"mutation_rate_start\": 0.14370906413625217,<br>    \"mutation_rate_end\": 0.9649989581579723,<br>    \"mutation_rate_degree\": 3,<br>    \"crossover_method\": \"cxTwoPoint\",<br>    \"crossover_rate\": 0.21448744356526017,<br>    \"crossover_points\": 1,<br>    \"selection_method\": \"selBest\",<br>    \"elitism_rate\": 0.24367226651938023,<br>    \"survival_rate\": 0.30090132900402333<br>  }<br>}",
          "{<br>  \"number\": 180,<br>  \"values\": [<br>    0.8351483345031738,<br>    0.7991580486297607,<br>    38.43742394447327<br>  ],<br>  \"params\": {<br>    \"mutation_method\": \"mutLinear\",<br>    \"mutation_prob\": 0.39675481522050904,<br>    \"mutation_by_deletion_rate\": 0.2699096847218096,<br>    \"mutation_rate_start\": 0.003855219893067738,<br>    \"mutation_rate_end\": 0.6116607592030652,<br>    \"crossover_method\": \"cxTwoPoint\",<br>    \"crossover_rate\": 0.6959827131870702,<br>    \"crossover_points\": 1,<br>    \"selection_method\": \"selNormRoulette\",<br>    \"elitism_rate\": 0.2865150531165188,<br>    \"survival_rate\": 0.5867372851486308<br>  }<br>}",
          "{<br>  \"number\": 181,<br>  \"values\": [<br>    0.7031478881835938,<br>    0.6763641357421875,<br>    39.35206484794617<br>  ],<br>  \"params\": {<br>    \"mutation_method\": \"mutEntropy\",<br>    \"mutation_prob\": 0.7774470942571814,<br>    \"mutation_by_deletion_rate\": 0.321275204121204,<br>    \"mutation_rate_start\": 0.7679265490860255,<br>    \"mutation_rate_end\": 0.05201617162263972,<br>    \"crossover_method\": \"cxKPoint\",<br>    \"crossover_rate\": 0.000530679441985038,<br>    \"crossover_points\": 3,<br>    \"selection_method\": \"selBest\",<br>    \"elitism_rate\": 0.3164326740654389,<br>    \"survival_rate\": 0.3950338905231757<br>  }<br>}",
          "{<br>  \"number\": 182,<br>  \"values\": [<br>    0.5256597995758057,<br>    0.49987045526504514,<br>    28.890155792236328<br>  ],<br>  \"params\": {<br>    \"mutation_method\": \"mutEntropy\",<br>    \"mutation_prob\": 0.7215604212291253,<br>    \"mutation_by_deletion_rate\": 0.17122270011438934,<br>    \"mutation_rate_start\": 0.8049745195287976,<br>    \"mutation_rate_end\": 0.11328090964651708,<br>    \"crossover_method\": \"cxTwoPoint\",<br>    \"crossover_rate\": 0.6142222449423257,<br>    \"crossover_points\": 1,<br>    \"selection_method\": \"selTournament\",<br>    \"tournsize\": 10,<br>    \"elitism_rate\": 0.9985431702794386,<br>    \"survival_rate\": 0.4161225790951135<br>  }<br>}",
          "{<br>  \"number\": 183,<br>  \"values\": [<br>    0.7399319410324097,<br>    0.7344926953315735,<br>    43.340224742889404<br>  ],<br>  \"params\": {<br>    \"mutation_method\": \"mutLinear\",<br>    \"mutation_prob\": 0.9800253823860617,<br>    \"mutation_by_deletion_rate\": 0.2900821687425118,<br>    \"mutation_rate_start\": 0.3525106961151419,<br>    \"mutation_rate_end\": 0.09111268797484227,<br>    \"crossover_method\": \"cxKPoint\",<br>    \"crossover_rate\": 0.04209136420387918,<br>    \"crossover_points\": 4,<br>    \"selection_method\": \"selRandom\",<br>    \"elitism_rate\": 0.2647620780975596,<br>    \"survival_rate\": 0.3413611676328415<br>  }<br>}",
          "{<br>  \"number\": 184,<br>  \"values\": [<br>    0.7678288817405701,<br>    0.7401992440223694,<br>    38.722057819366455<br>  ],<br>  \"params\": {<br>    \"mutation_method\": \"mutEntropy\",<br>    \"mutation_prob\": 0.45676958502772597,<br>    \"mutation_by_deletion_rate\": 0.3665772805142201,<br>    \"mutation_rate_start\": 0.32110861653471395,<br>    \"mutation_rate_end\": 0.5571471260825169,<br>    \"crossover_method\": \"cxOnePoint\",<br>    \"crossover_rate\": 0.5215817339116843,<br>    \"selection_method\": \"selBest\",<br>    \"elitism_rate\": 0.30727046401582225,<br>    \"survival_rate\": 0.7904264935568661<br>  }<br>}",
          "{<br>  \"number\": 185,<br>  \"values\": [<br>    0.6242491006851196,<br>    0.5927525758743286,<br>    40.26584815979004<br>  ],<br>  \"params\": {<br>    \"mutation_method\": \"mutConstant\",<br>    \"mutation_prob\": 0.6853380634033384,<br>    \"mutation_by_deletion_rate\": 0.8215709257379763,<br>    \"mutation_rate\": 0.6278271622696416,<br>    \"crossover_method\": \"cxTwoPoint\",<br>    \"crossover_rate\": 0.8051546913717221,<br>    \"crossover_points\": 1,<br>    \"selection_method\": \"selRoulette\",<br>    \"elitism_rate\": 0.36633772425662275,<br>    \"survival_rate\": 0.09612338261731057<br>  }<br>}",
          "{<br>  \"number\": 186,<br>  \"values\": [<br>    0.6141829490661621,<br>    0.5844269394874573,<br>    35.55988168716431<br>  ],<br>  \"params\": {<br>    \"mutation_method\": \"mutLinear\",<br>    \"mutation_prob\": 0.05305788738425776,<br>    \"mutation_by_deletion_rate\": 0.5701969081522704,<br>    \"mutation_rate_start\": 0.4769034613347361,<br>    \"mutation_rate_end\": 0.3582210356954986,<br>    \"crossover_method\": \"cxUniform\",<br>    \"crossover_rate\": 0.018673639442782275,<br>    \"selection_method\": \"selTournament\",<br>    \"tournsize\": 9,<br>    \"elitism_rate\": 0.27581971953977913,<br>    \"survival_rate\": 0.6499782994903744<br>  }<br>}",
          "{<br>  \"number\": 187,<br>  \"values\": [<br>    0.8289003968238831,<br>    0.7696704983711242,<br>    40.703898668289185<br>  ],<br>  \"params\": {<br>    \"mutation_method\": \"mutEntropy\",<br>    \"mutation_prob\": 0.8322100774254135,<br>    \"mutation_by_deletion_rate\": 0.8666313642680926,<br>    \"mutation_rate_start\": 0.29345056315227314,<br>    \"mutation_rate_end\": 0.14990733781487864,<br>    \"crossover_method\": \"cxKPoint\",<br>    \"crossover_rate\": 0.9969774402233461,<br>    \"crossover_points\": 1,<br>    \"selection_method\": \"selBest\",<br>    \"elitism_rate\": 0.3394764969044555,<br>    \"survival_rate\": 0.7233457869250529<br>  }<br>}",
          "{<br>  \"number\": 188,<br>  \"values\": [<br>    0.6469725370407104,<br>    0.6122082233428955,<br>    35.50710916519165<br>  ],<br>  \"params\": {<br>    \"mutation_method\": \"mutExponential\",<br>    \"mutation_prob\": 0.07624913829741756,<br>    \"mutation_by_deletion_rate\": 0.333731940789882,<br>    \"mutation_rate_start\": 0.8846900289551138,<br>    \"mutation_rate_end\": 0.22099446502248002,<br>    \"mutation_rate_degree\": 2,<br>    \"crossover_method\": \"cxTwoPoint\",<br>    \"crossover_rate\": 0.5863679368958351,<br>    \"crossover_points\": 1,<br>    \"selection_method\": \"selBest\",<br>    \"elitism_rate\": 0.2893686879776766,<br>    \"survival_rate\": 0.37640616987007763<br>  }<br>}",
          "{<br>  \"number\": 189,<br>  \"values\": [<br>    0.7141220569610596,<br>    0.6892849445343018,<br>    32.46401762962341<br>  ],<br>  \"params\": {<br>    \"mutation_method\": \"mutLinear\",<br>    \"mutation_prob\": 0.752750794653999,<br>    \"mutation_by_deletion_rate\": 0.3049650144487577,<br>    \"mutation_rate_start\": 0.09681402652123283,<br>    \"mutation_rate_end\": 0.29643307552388465,<br>    \"crossover_method\": \"cxTwoPoint\",<br>    \"crossover_rate\": 0.08777190464306417,<br>    \"crossover_points\": 1,<br>    \"selection_method\": \"selTournamentWithoutReplacement\",<br>    \"tournsize\": 8,<br>    \"elitism_rate\": 0.839810763880966,<br>    \"survival_rate\": 0.32154936252829586<br>  }<br>}",
          "{<br>  \"number\": 191,<br>  \"values\": [<br>    0.5822955965995789,<br>    0.5457147717475891,<br>    18.252070903778076<br>  ],<br>  \"params\": {<br>    \"mutation_method\": \"mutLinear\",<br>    \"mutation_prob\": 0.009312623352711219,<br>    \"mutation_by_deletion_rate\": 0.2684326143438002,<br>    \"mutation_rate_start\": 0.5899437622899797,<br>    \"mutation_rate_end\": 0.17851426870854414,<br>    \"crossover_method\": \"cxKPoint\",<br>    \"crossover_rate\": 0.5553777519607649,<br>    \"crossover_points\": 2,<br>    \"selection_method\": \"selTournament\",<br>    \"tournsize\": 10,<br>    \"elitism_rate\": 0.3205000050214974,<br>    \"survival_rate\": 0.0008407285514996365<br>  }<br>}",
          "{<br>  \"number\": 192,<br>  \"values\": [<br>    0.6956800818443298,<br>    0.6691726922988892,<br>    34.70263433456421<br>  ],<br>  \"params\": {<br>    \"mutation_method\": \"mutEntropy\",<br>    \"mutation_prob\": 0.9315364118346016,<br>    \"mutation_by_deletion_rate\": 0.24245431872870823,<br>    \"mutation_rate_start\": 0.4090569975011906,<br>    \"mutation_rate_end\": 0.18066620028382246,<br>    \"crossover_method\": \"cxKPoint\",<br>    \"crossover_rate\": 0.624797459557797,<br>    \"crossover_points\": 2,<br>    \"selection_method\": \"selTournament\",<br>    \"tournsize\": 3,<br>    \"elitism_rate\": 0.7286873490230763,<br>    \"survival_rate\": 0.7551895858043293<br>  }<br>}",
          "{<br>  \"number\": 193,<br>  \"values\": [<br>    0.7911331653594971,<br>    0.7378254771232605,<br>    43.037420988082886<br>  ],<br>  \"params\": {<br>    \"mutation_method\": \"mutEntropy\",<br>    \"mutation_prob\": 0.7941657384511907,<br>    \"mutation_by_deletion_rate\": 0.28235805985023227,<br>    \"mutation_rate_start\": 0.546268677260183,<br>    \"mutation_rate_end\": 0.19671424213624367,<br>    \"crossover_method\": \"cxTwoPoint\",<br>    \"crossover_rate\": 0.6049509248895388,<br>    \"crossover_points\": 2,<br>    \"selection_method\": \"selBoltzmann\",<br>    \"boltzmann_temperature\": 0.2404237544132969,<br>    \"elitism_rate\": 0.24723747105262045,<br>    \"survival_rate\": 0.5174222520247711<br>  }<br>}",
          "{<br>  \"number\": 194,<br>  \"values\": [<br>    0.7142236828804016,<br>    0.6601560950279236,<br>    35.59647560119629<br>  ],<br>  \"params\": {<br>    \"mutation_method\": \"mutLinear\",<br>    \"mutation_prob\": 0.11767270174284739,<br>    \"mutation_by_deletion_rate\": 0.34982510664162975,<br>    \"mutation_rate_start\": 0.6752797445122074,<br>    \"mutation_rate_end\": 0.1553763527820741,<br>    \"crossover_method\": \"cxKPoint\",<br>    \"crossover_rate\": 0.026598848847229108,<br>    \"crossover_points\": 2,<br>    \"selection_method\": \"selBest\",<br>    \"elitism_rate\": 0.2987255036068393,<br>    \"survival_rate\": 0.7004626681644358<br>  }<br>}",
          "{<br>  \"number\": 195,<br>  \"values\": [<br>    0.7731344699859619,<br>    0.7552766561508178,<br>    40.88560342788696<br>  ],<br>  \"params\": {<br>    \"mutation_method\": \"mutConstant\",<br>    \"mutation_prob\": 0.5643270956946275,<br>    \"mutation_by_deletion_rate\": 0.21761287239904,<br>    \"mutation_rate\": 0.19874831123861902,<br>    \"crossover_method\": \"cxOnePoint\",<br>    \"crossover_rate\": 0.49624613102084886,<br>    \"selection_method\": \"selTournament\",<br>    \"tournsize\": 9,<br>    \"elitism_rate\": 0.2596601717961926,<br>    \"survival_rate\": 0.23195043904305057<br>  }<br>}",
          "{<br>  \"number\": 196,<br>  \"values\": [<br>    0.81167072057724,<br>    0.7611106276512146,<br>    34.92068147659302<br>  ],<br>  \"params\": {<br>    \"mutation_method\": \"mutEntropy\",<br>    \"mutation_prob\": 0.6168875472312498,<br>    \"mutation_by_deletion_rate\": 0.31470172354153175,<br>    \"mutation_rate_start\": 0.4546412993779817,<br>    \"mutation_rate_end\": 0.13978309496178845,<br>    \"crossover_method\": \"cxTwoPoint\",<br>    \"crossover_rate\": 0.5753252976958979,<br>    \"crossover_points\": 2,<br>    \"selection_method\": \"selBest\",<br>    \"elitism_rate\": 0.682018583202761,<br>    \"survival_rate\": 0.6167407873253234<br>  }<br>}",
          "{<br>  \"number\": 197,<br>  \"values\": [<br>    0.6736312508583069,<br>    0.6513156771659852,<br>    37.387383699417114<br>  ],<br>  \"params\": {<br>    \"mutation_method\": \"mutLinear\",<br>    \"mutation_prob\": 0.47791422686218216,<br>    \"mutation_by_deletion_rate\": 0.18913905999744918,<br>    \"mutation_rate_start\": 0.3693371241845961,<br>    \"mutation_rate_end\": 0.2505877420286985,<br>    \"crossover_method\": \"cxUniform\",<br>    \"crossover_rate\": 0.05247258226537296,<br>    \"selection_method\": \"selStochasticUniversalSampling\",<br>    \"elitism_rate\": 0.3558260147436127,<br>    \"survival_rate\": 0.35645603507558826<br>  }<br>}",
          "{<br>  \"number\": 198,<br>  \"values\": [<br>    0.7068942189216614,<br>    0.6797090888023376,<br>    34.43177103996277<br>  ],<br>  \"params\": {<br>    \"mutation_method\": \"mutEntropy\",<br>    \"mutation_prob\": 0.2843384650040655,<br>    \"mutation_by_deletion_rate\": 0.6351625009476738,<br>    \"mutation_rate_start\": 0.1968534460414586,<br>    \"mutation_rate_end\": 0.11602416636136476,<br>    \"crossover_method\": \"cxKPoint\",<br>    \"crossover_rate\": 0.6595525362619011,<br>    \"crossover_points\": 2,<br>    \"selection_method\": \"selRandom\",<br>    \"elitism_rate\": 0.6184317029863939,<br>    \"survival_rate\": 0.6758424758902758<br>  }<br>}",
          "{<br>  \"number\": 199,<br>  \"values\": [<br>    0.7999708652496338,<br>    0.7377057194709777,<br>    39.88054585456848<br>  ],<br>  \"params\": {<br>    \"mutation_method\": \"mutExponential\",<br>    \"mutation_prob\": 0.43277610518725457,<br>    \"mutation_by_deletion_rate\": 0.772141240751099,<br>    \"mutation_rate_start\": 0.7338307026580952,<br>    \"mutation_rate_end\": 0.07619540814851616,<br>    \"mutation_rate_degree\": 1,<br>    \"crossover_method\": \"cxTwoPoint\",<br>    \"crossover_rate\": 0.6397535276306063,<br>    \"crossover_points\": 3,<br>    \"selection_method\": \"selNormRoulette\",<br>    \"elitism_rate\": 0.3298729288716101,<br>    \"survival_rate\": 0.3965979226486659<br>  }<br>}"
         ],
         "type": "scatter",
         "x": [
          0.7173630833625794,
          0.7058565378189087,
          0.5896970748901367,
          0.6194018483161926,
          0.5983564972877502,
          0.6154430270195007,
          0.6605339884757996,
          0.6463033795356751,
          0.6243708848953247,
          0.7992067337036133,
          0.6940473318099976,
          0.8099842548370362,
          0.6768061637878418,
          0.65797039270401,
          0.705997633934021,
          0.6392642259597778,
          0.7435018181800842,
          0.7838121056556702,
          0.7964959979057312,
          0.8117538690567017,
          0.564957070350647,
          0.6055234432220459,
          0.5067627429962158,
          0.7718638181686401,
          0.6730147123336792,
          0.6345831274986267,
          0.7861511468887329,
          0.5416243433952331,
          0.6554707765579224,
          0.7364848375320434,
          0.7443564295768738,
          0.6372327446937561,
          0.671571695804596,
          0.6311599254608155,
          0.707270348072052,
          0.7788805961608887,
          0.6758518695831299,
          0.572340977191925,
          0.7808421611785888,
          0.6078521370887756,
          0.7910833120346069,
          0.6636139273643493,
          0.6165026307106019,
          0.7271000146865845,
          0.708776593208313,
          0.7349591135978699,
          0.6644346594810486,
          0.7123331427574158,
          0.7625243186950683,
          0.7573147654533386,
          0.8142565727233887,
          0.6445376753807068,
          0.7041908860206604,
          0.5217427492141724,
          0.7514571070671081,
          0.7389002919197083,
          0.678218412399292,
          0.6966751456260681,
          0.7940099000930786,
          0.6153616666793823,
          0.7718769550323487,
          0.7519469380378723,
          0.6851785898208618,
          0.6980661630630494,
          0.5771896123886109,
          0.5717511415481568,
          0.6553534865379333,
          0.6559566617012024,
          0.7521824359893798,
          0.7030602693557739,
          0.7102700710296631,
          0.5299887895584107,
          0.7411091685295105,
          0.6104266047477722,
          0.7712409734725952,
          0.576842999458313,
          0.6462585091590881,
          0.6528613448143006,
          0.6484408497810363,
          0.7307247877120971,
          0.544021487236023,
          0.6721386551856995,
          0.7639199018478393,
          0.6676718592643738,
          0.5932877779006958,
          0.7518698930740356,
          0.6342072725296021,
          0.5570340991020203,
          0.6619326829910278,
          0.7990853428840637,
          0.5892487168312073,
          0.703179657459259,
          0.6038847208023072,
          0.7786256670951843,
          0.7209091067314148,
          0.662966275215149,
          0.6721117496490479,
          0.7354385018348694,
          0.5981921553611755,
          0.6882436513900757,
          0.7159015774726868,
          0.5903032302856446,
          0.6678914904594422,
          0.652990746498108,
          0.7388336062431335,
          0.6410045027732849,
          0.6057892799377441,
          0.5049369931221008,
          0.561488676071167,
          0.6749534368515014,
          0.5037762641906738,
          0.6688182353973389,
          0.6548490047454834,
          0.6502297878265381,
          0.62487233877182,
          0.7424275636672973,
          0.64987211227417,
          0.6315998435020447,
          0.8144384860992432,
          0.7794510364532471,
          0.5557971954345703,
          0.7339499354362488,
          0.7418452739715576,
          0.7244474649429321,
          0.7227425694465637,
          0.6610419511795044,
          0.5862468719482422,
          0.7046485543251038,
          0.823905062675476,
          0.7155866622924805,
          0.6598525285720825,
          0.6492917776107788,
          0.6141116738319397,
          0.7099527955055237,
          0.6722455501556397,
          0.6534147381782531,
          0.6102165699005127,
          0.7451800346374512,
          0.5810410261154175,
          0.5937845826148986,
          0.7338194012641907,
          0.5907711625099182,
          0.547877061367035,
          0.6617899537086487,
          0.7788899660110473,
          0.6217008709907532,
          0.7333148956298828,
          0.8214829444885254,
          0.5598477005958558,
          0.602415406703949,
          0.7564774036407471,
          0.7436204195022583,
          0.7758145809173584,
          0.7658223867416382,
          0.685290539264679,
          0.748797333240509,
          0.6582605004310608,
          0.5491045117378235,
          0.6912458419799805,
          0.6921810626983642,
          0.7845830678939819,
          0.5924120664596557,
          0.7487171649932861,
          0.6680881142616272,
          0.600256335735321,
          0.803826105594635,
          0.6902157425880432,
          0.547404408454895,
          0.7142853021621705,
          0.7991580486297607,
          0.6763641357421875,
          0.49987045526504514,
          0.7344926953315735,
          0.7401992440223694,
          0.5927525758743286,
          0.5844269394874573,
          0.7696704983711242,
          0.6122082233428955,
          0.6892849445343018,
          0.5457147717475891,
          0.6691726922988892,
          0.7378254771232605,
          0.6601560950279236,
          0.7552766561508178,
          0.7611106276512146,
          0.6513156771659852,
          0.6797090888023376,
          0.7377057194709777
         ],
         "y": [
          26.43183946609497,
          32.15183663368225,
          30.86444878578186,
          24.227615356445312,
          22.9801344871521,
          20.911468982696533,
          29.030198335647583,
          36.06828713417053,
          45.918150424957275,
          38.809659004211426,
          35.982830286026,
          43.38106560707092,
          34.762670040130615,
          41.72091770172119,
          36.47714805603027,
          38.24952459335327,
          38.867915868759155,
          35.689494609832764,
          34.960737228393555,
          35.437535762786865,
          36.82492756843567,
          32.32112240791321,
          32.834874629974365,
          33.2280912399292,
          34.91692352294922,
          9.065346717834473,
          36.100486755371094,
          10.967486381530762,
          32.37101864814758,
          30.925816535949707,
          38.89921522140503,
          34.239696741104126,
          36.83689069747925,
          30.973251819610596,
          31.74371314048767,
          35.9852192401886,
          30.359400510787964,
          39.66998481750488,
          34.149587631225586,
          34.06014442443848,
          36.20443105697632,
          36.92072129249573,
          44.36992931365967,
          36.93705725669861,
          33.8101692199707,
          36.99980401992798,
          36.030149936676025,
          36.32043433189392,
          39.224778175354004,
          38.58611798286438,
          44.18554925918579,
          38.5636785030365,
          44.6192946434021,
          35.00260353088379,
          36.07604956626892,
          37.22005891799927,
          36.39551258087158,
          36.19727110862732,
          42.32256484031677,
          42.41461539268494,
          34.288644552230835,
          37.323917388916016,
          47.41383123397827,
          39.74447989463806,
          41.43715453147888,
          32.519243001937866,
          33.56611752510071,
          35.463175535202026,
          40.749242544174194,
          40.77132058143616,
          43.51756739616394,
          29.38054132461548,
          37.224798917770386,
          36.699060916900635,
          41.883124351501465,
          33.402432441711426,
          38.46428894996643,
          36.14768123626709,
          36.981825828552246,
          41.60932970046997,
          32.2087025642395,
          33.186771392822266,
          38.82355880737305,
          40.36926078796387,
          32.72807478904724,
          39.4741313457489,
          39.611525774002075,
          37.09906029701233,
          35.65146613121033,
          38.24931597709656,
          37.123597145080566,
          36.57809400558472,
          40.756608724594116,
          40.77740025520325,
          33.911813735961914,
          38.718910932540894,
          33.38467812538147,
          43.20650005340576,
          32.59736704826355,
          41.69943022727966,
          42.112648248672485,
          33.956154346466064,
          34.9494891166687,
          36.20120644569397,
          36.312854051589966,
          37.71540379524231,
          36.332345724105835,
          23.755059003829956,
          36.09942364692688,
          35.785887002944946,
          19.434324979782104,
          34.55379509925842,
          34.506486654281616,
          24.151944637298584,
          35.252275705337524,
          38.023603200912476,
          32.81380915641785,
          35.04684233665466,
          36.02121186256409,
          39.60966110229492,
          34.45599722862244,
          33.396170139312744,
          38.95106267929077,
          39.90438747406006,
          43.02949523925781,
          39.387731075286865,
          13.49260663986206,
          34.096728801727295,
          40.266300678253174,
          31.160573482513428,
          39.32696986198425,
          38.752175092697144,
          30.072044610977173,
          30.575434684753418,
          30.93048119544983,
          30.20831799507141,
          36.02253437042236,
          33.340341091156006,
          41.98984909057617,
          30.95453405380249,
          30.188660144805908,
          29.877091646194458,
          31.366228818893433,
          28.3398699760437,
          38.59110927581787,
          40.703792095184326,
          32.64456486701965,
          38.226046323776245,
          30.262810707092285,
          32.827463150024414,
          39.008209466934204,
          40.211261510849,
          40.57652425765991,
          34.84465003013611,
          34.92019772529602,
          39.25185513496399,
          41.72869253158569,
          34.301621198654175,
          37.49318480491638,
          40.75421071052551,
          34.87657189369202,
          38.95072412490845,
          39.9927031993866,
          34.00104761123657,
          37.90218472480774,
          38.49399185180664,
          32.164268255233765,
          29.36123776435852,
          34.95470690727234,
          38.43742394447327,
          39.35206484794617,
          28.890155792236328,
          43.340224742889404,
          38.722057819366455,
          40.26584815979004,
          35.55988168716431,
          40.703898668289185,
          35.50710916519165,
          32.46401762962341,
          18.252070903778076,
          34.70263433456421,
          43.037420988082886,
          35.59647560119629,
          40.88560342788696,
          34.92068147659302,
          37.387383699417114,
          34.43177103996277,
          39.88054585456848
         ]
        },
        {
         "hovertemplate": "%{text}<extra>Best Trial</extra>",
         "marker": {
          "color": [
           3,
           4,
           8,
           11,
           12,
           24,
           31,
           51,
           63,
           112,
           129,
           190
          ],
          "colorbar": {
           "title": {
            "text": "Best Trial"
           },
           "x": 1.1,
           "xpad": 40
          },
          "colorscale": [
           [
            0,
            "rgb(255,245,240)"
           ],
           [
            0.125,
            "rgb(254,224,210)"
           ],
           [
            0.25,
            "rgb(252,187,161)"
           ],
           [
            0.375,
            "rgb(252,146,114)"
           ],
           [
            0.5,
            "rgb(251,106,74)"
           ],
           [
            0.625,
            "rgb(239,59,44)"
           ],
           [
            0.75,
            "rgb(203,24,29)"
           ],
           [
            0.875,
            "rgb(165,15,21)"
           ],
           [
            1,
            "rgb(103,0,13)"
           ]
          ],
          "line": {
           "color": "Grey",
           "width": 0.5
          }
         },
         "mode": "markers",
         "showlegend": false,
         "text": [
          "{<br>  \"number\": 3,<br>  \"values\": [<br>    0.7704668641090393,<br>    0.6904151916503907,<br>    25.75602698326111<br>  ],<br>  \"params\": {<br>    \"mutation_method\": \"mutConstant\",<br>    \"mutation_prob\": 0.4742387600659319,<br>    \"mutation_by_deletion_rate\": 0.7348650533789207,<br>    \"mutation_rate\": 0.9676134159440335,<br>    \"crossover_method\": \"cxTwoPoint\",<br>    \"crossover_rate\": 0.31839742619532163,<br>    \"crossover_points\": 2,<br>    \"selection_method\": \"selRoulette\",<br>    \"elitism_rate\": 0.3392878752254671,<br>    \"survival_rate\": 0.6012609697929668<br>  }<br>}",
          "{<br>  \"number\": 4,<br>  \"values\": [<br>    0.7855526208877563,<br>    0.7310947775840759,<br>    25.77109670639038<br>  ],<br>  \"params\": {<br>    \"mutation_method\": \"mutConstant\",<br>    \"mutation_prob\": 0.8147199134168505,<br>    \"mutation_by_deletion_rate\": 0.3842063447539349,<br>    \"mutation_rate\": 0.4847961612758859,<br>    \"crossover_method\": \"cxTwoPoint\",<br>    \"crossover_rate\": 0.5049666143376991,<br>    \"crossover_points\": 4,<br>    \"selection_method\": \"selBest\",<br>    \"elitism_rate\": 0.4590257345691281,<br>    \"survival_rate\": 0.7528152581566717<br>  }<br>}",
          "{<br>  \"number\": 8,<br>  \"values\": [<br>    0.8358239531517029,<br>    0.7935378789901734,<br>    26.76857829093933<br>  ],<br>  \"params\": {<br>    \"mutation_method\": \"mutLinear\",<br>    \"mutation_prob\": 0.7582936005420714,<br>    \"mutation_by_deletion_rate\": 0.23854462123117315,<br>    \"mutation_rate_start\": 0.33260925956657983,<br>    \"mutation_rate_end\": 0.16702505002526669,<br>    \"crossover_method\": \"cxKPoint\",<br>    \"crossover_rate\": 0.005439601422436047,<br>    \"crossover_points\": 1,<br>    \"selection_method\": \"selTournament\",<br>    \"tournsize\": 9,<br>    \"elitism_rate\": 0.2968932038589901,<br>    \"survival_rate\": 0.6660564349514776<br>  }<br>}",
          "{<br>  \"number\": 11,<br>  \"values\": [<br>    0.923918604850769,<br>    0.8391998887062073,<br>    41.04654264450073<br>  ],<br>  \"params\": {<br>    \"mutation_method\": \"mutLinear\",<br>    \"mutation_prob\": 0.9972720568071717,<br>    \"mutation_by_deletion_rate\": 0.23036547022651194,<br>    \"mutation_rate_start\": 0.2716226253477045,<br>    \"mutation_rate_end\": 0.027950562686698766,<br>    \"crossover_method\": \"cxKPoint\",<br>    \"crossover_rate\": 0.05608825247669138,<br>    \"crossover_points\": 4,<br>    \"selection_method\": \"selTournament\",<br>    \"tournsize\": 9,<br>    \"elitism_rate\": 0.07884562816541624,<br>    \"survival_rate\": 0.7629746214466814<br>  }<br>}",
          "{<br>  \"number\": 12,<br>  \"values\": [<br>    0.8956600427627563,<br>    0.8491518497467041,<br>    41.03565549850464<br>  ],<br>  \"params\": {<br>    \"mutation_method\": \"mutLinear\",<br>    \"mutation_prob\": 0.9819365445375368,<br>    \"mutation_by_deletion_rate\": 0.19540522987303344,<br>    \"mutation_rate_start\": 0.18414394546821544,<br>    \"mutation_rate_end\": 0.03751556972142428,<br>    \"crossover_method\": \"cxKPoint\",<br>    \"crossover_rate\": 0.0018307391073909421,<br>    \"crossover_points\": 4,<br>    \"selection_method\": \"selTournament\",<br>    \"tournsize\": 9,<br>    \"elitism_rate\": 0.05257648286443003,<br>    \"survival_rate\": 0.7762406950234005<br>  }<br>}",
          "{<br>  \"number\": 24,<br>  \"values\": [<br>    0.9007651805877686,<br>    0.8404918670654297,<br>    34.14579224586487<br>  ],<br>  \"params\": {<br>    \"mutation_method\": \"mutLinear\",<br>    \"mutation_prob\": 0.9290120509716085,<br>    \"mutation_by_deletion_rate\": 0.13521077317922242,<br>    \"mutation_rate_start\": 0.023174070395484025,<br>    \"mutation_rate_end\": 0.09461408317455078,<br>    \"crossover_method\": \"cxKPoint\",<br>    \"crossover_rate\": 0.08354995840534381,<br>    \"crossover_points\": 1,<br>    \"selection_method\": \"selTournament\",<br>    \"tournsize\": 10,<br>    \"elitism_rate\": 0.6067077400215346,<br>    \"survival_rate\": 0.8503107952283073<br>  }<br>}",
          "{<br>  \"number\": 31,<br>  \"values\": [<br>    0.8806635141372681,<br>    0.8393709421157837,<br>    34.016571044921875<br>  ],<br>  \"params\": {<br>    \"mutation_method\": \"mutLinear\",<br>    \"mutation_prob\": 0.9528086030828742,<br>    \"mutation_by_deletion_rate\": 0.21839488437430893,<br>    \"mutation_rate_start\": 0.2184155130604776,<br>    \"mutation_rate_end\": 0.008314091937721702,<br>    \"crossover_method\": \"cxKPoint\",<br>    \"crossover_rate\": 0.003016067306132797,<br>    \"crossover_points\": 1,<br>    \"selection_method\": \"selTournament\",<br>    \"tournsize\": 8,<br>    \"elitism_rate\": 0.5736017926838887,<br>    \"survival_rate\": 0.7193099157477512<br>  }<br>}",
          "{<br>  \"number\": 51,<br>  \"values\": [<br>    0.923918604850769,<br>    0.8450579524040223,<br>    44.26289939880371<br>  ],<br>  \"params\": {<br>    \"mutation_method\": \"mutLinear\",<br>    \"mutation_prob\": 0.9724134473200928,<br>    \"mutation_by_deletion_rate\": 0.1865662871079647,<br>    \"mutation_rate_start\": 0.1776760399937272,<br>    \"mutation_rate_end\": 0.021495672838030666,<br>    \"crossover_method\": \"cxKPoint\",<br>    \"crossover_rate\": 0.01884623749434998,<br>    \"crossover_points\": 4,<br>    \"selection_method\": \"selTournament\",<br>    \"tournsize\": 9,<br>    \"elitism_rate\": 0.08693222344646767,<br>    \"survival_rate\": 0.8103851555137289<br>  }<br>}",
          "{<br>  \"number\": 63,<br>  \"values\": [<br>    0.7269577383995056,<br>    0.6562639117240906,<br>    9.06501317024231<br>  ],<br>  \"params\": {<br>    \"mutation_method\": \"mutEntropy\",<br>    \"mutation_prob\": 0.00198299956580305,<br>    \"mutation_by_deletion_rate\": 0.3059016500965548,<br>    \"mutation_rate_start\": 0.5384213113742765,<br>    \"mutation_rate_end\": 0.43071537645587016,<br>    \"crossover_method\": \"cxTwoPoint\",<br>    \"crossover_rate\": 0.6017610099146925,<br>    \"crossover_points\": 1,<br>    \"selection_method\": \"selBest\",<br>    \"elitism_rate\": 0.2971989227389479,<br>    \"survival_rate\": 0.3704056167151541<br>  }<br>}",
          "{<br>  \"number\": 112,<br>  \"values\": [<br>    0.5222430229187012,<br>    0.4788781046867371,<br>    4.304807901382446<br>  ],<br>  \"params\": {<br>    \"mutation_method\": \"mutEntropy\",<br>    \"mutation_prob\": 0.00012013531013410628,<br>    \"mutation_by_deletion_rate\": 0.3221927330837361,<br>    \"mutation_rate_start\": 0.2087608299372249,<br>    \"mutation_rate_end\": 0.8705003096863864,<br>    \"crossover_method\": \"cxTwoPoint\",<br>    \"crossover_rate\": 0.5978661287273939,<br>    \"crossover_points\": 1,<br>    \"selection_method\": \"selBest\",<br>    \"elitism_rate\": 0.3903639595162337,<br>    \"survival_rate\": 0.3688837660821426<br>  }<br>}",
          "{<br>  \"number\": 129,<br>  \"values\": [<br>    0.689732015132904,<br>    0.6631931066513062,<br>    18.521081924438477<br>  ],<br>  \"params\": {<br>    \"mutation_method\": \"mutEntropy\",<br>    \"mutation_prob\": 0.0014748695274113058,<br>    \"mutation_by_deletion_rate\": 0.420150654839074,<br>    \"mutation_rate_start\": 0.21853319647575575,<br>    \"mutation_rate_end\": 0.9999078884568289,<br>    \"crossover_method\": \"cxTwoPoint\",<br>    \"crossover_rate\": 0.8567541314313146,<br>    \"crossover_points\": 1,<br>    \"selection_method\": \"selRandom\",<br>    \"elitism_rate\": 0.30427779877818456,<br>    \"survival_rate\": 0.4011430794140426<br>  }<br>}",
          "{<br>  \"number\": 190,<br>  \"values\": [<br>    0.5360535979270935,<br>    0.512525224685669,<br>    7.557414531707764<br>  ],<br>  \"params\": {<br>    \"mutation_method\": \"mutEntropy\",<br>    \"mutation_prob\": 0.0011143044899911095,<br>    \"mutation_by_deletion_rate\": 0.2713128394056667,<br>    \"mutation_rate_start\": 0.744385169988742,<br>    \"mutation_rate_end\": 0.18664815130371876,<br>    \"crossover_method\": \"cxKPoint\",<br>    \"crossover_rate\": 0.5464584815956636,<br>    \"crossover_points\": 2,<br>    \"selection_method\": \"selTournament\",<br>    \"tournsize\": 10,<br>    \"elitism_rate\": 0.24805682047404287,<br>    \"survival_rate\": 0.15749458526021998<br>  }<br>}"
         ],
         "type": "scatter",
         "x": [
          0.6904151916503907,
          0.7310947775840759,
          0.7935378789901734,
          0.8391998887062073,
          0.8491518497467041,
          0.8404918670654297,
          0.8393709421157837,
          0.8450579524040223,
          0.6562639117240906,
          0.4788781046867371,
          0.6631931066513062,
          0.512525224685669
         ],
         "y": [
          25.75602698326111,
          25.77109670639038,
          26.76857829093933,
          41.04654264450073,
          41.03565549850464,
          34.14579224586487,
          34.016571044921875,
          44.26289939880371,
          9.06501317024231,
          4.304807901382446,
          18.521081924438477,
          7.557414531707764
         ]
        }
       ],
       "layout": {
        "template": {
         "data": {
          "bar": [
           {
            "error_x": {
             "color": "#2a3f5f"
            },
            "error_y": {
             "color": "#2a3f5f"
            },
            "marker": {
             "line": {
              "color": "#E5ECF6",
              "width": 0.5
             },
             "pattern": {
              "fillmode": "overlay",
              "size": 10,
              "solidity": 0.2
             }
            },
            "type": "bar"
           }
          ],
          "barpolar": [
           {
            "marker": {
             "line": {
              "color": "#E5ECF6",
              "width": 0.5
             },
             "pattern": {
              "fillmode": "overlay",
              "size": 10,
              "solidity": 0.2
             }
            },
            "type": "barpolar"
           }
          ],
          "carpet": [
           {
            "aaxis": {
             "endlinecolor": "#2a3f5f",
             "gridcolor": "white",
             "linecolor": "white",
             "minorgridcolor": "white",
             "startlinecolor": "#2a3f5f"
            },
            "baxis": {
             "endlinecolor": "#2a3f5f",
             "gridcolor": "white",
             "linecolor": "white",
             "minorgridcolor": "white",
             "startlinecolor": "#2a3f5f"
            },
            "type": "carpet"
           }
          ],
          "choropleth": [
           {
            "colorbar": {
             "outlinewidth": 0,
             "ticks": ""
            },
            "type": "choropleth"
           }
          ],
          "contour": [
           {
            "colorbar": {
             "outlinewidth": 0,
             "ticks": ""
            },
            "colorscale": [
             [
              0,
              "#0d0887"
             ],
             [
              0.1111111111111111,
              "#46039f"
             ],
             [
              0.2222222222222222,
              "#7201a8"
             ],
             [
              0.3333333333333333,
              "#9c179e"
             ],
             [
              0.4444444444444444,
              "#bd3786"
             ],
             [
              0.5555555555555556,
              "#d8576b"
             ],
             [
              0.6666666666666666,
              "#ed7953"
             ],
             [
              0.7777777777777778,
              "#fb9f3a"
             ],
             [
              0.8888888888888888,
              "#fdca26"
             ],
             [
              1,
              "#f0f921"
             ]
            ],
            "type": "contour"
           }
          ],
          "contourcarpet": [
           {
            "colorbar": {
             "outlinewidth": 0,
             "ticks": ""
            },
            "type": "contourcarpet"
           }
          ],
          "heatmap": [
           {
            "colorbar": {
             "outlinewidth": 0,
             "ticks": ""
            },
            "colorscale": [
             [
              0,
              "#0d0887"
             ],
             [
              0.1111111111111111,
              "#46039f"
             ],
             [
              0.2222222222222222,
              "#7201a8"
             ],
             [
              0.3333333333333333,
              "#9c179e"
             ],
             [
              0.4444444444444444,
              "#bd3786"
             ],
             [
              0.5555555555555556,
              "#d8576b"
             ],
             [
              0.6666666666666666,
              "#ed7953"
             ],
             [
              0.7777777777777778,
              "#fb9f3a"
             ],
             [
              0.8888888888888888,
              "#fdca26"
             ],
             [
              1,
              "#f0f921"
             ]
            ],
            "type": "heatmap"
           }
          ],
          "heatmapgl": [
           {
            "colorbar": {
             "outlinewidth": 0,
             "ticks": ""
            },
            "colorscale": [
             [
              0,
              "#0d0887"
             ],
             [
              0.1111111111111111,
              "#46039f"
             ],
             [
              0.2222222222222222,
              "#7201a8"
             ],
             [
              0.3333333333333333,
              "#9c179e"
             ],
             [
              0.4444444444444444,
              "#bd3786"
             ],
             [
              0.5555555555555556,
              "#d8576b"
             ],
             [
              0.6666666666666666,
              "#ed7953"
             ],
             [
              0.7777777777777778,
              "#fb9f3a"
             ],
             [
              0.8888888888888888,
              "#fdca26"
             ],
             [
              1,
              "#f0f921"
             ]
            ],
            "type": "heatmapgl"
           }
          ],
          "histogram": [
           {
            "marker": {
             "pattern": {
              "fillmode": "overlay",
              "size": 10,
              "solidity": 0.2
             }
            },
            "type": "histogram"
           }
          ],
          "histogram2d": [
           {
            "colorbar": {
             "outlinewidth": 0,
             "ticks": ""
            },
            "colorscale": [
             [
              0,
              "#0d0887"
             ],
             [
              0.1111111111111111,
              "#46039f"
             ],
             [
              0.2222222222222222,
              "#7201a8"
             ],
             [
              0.3333333333333333,
              "#9c179e"
             ],
             [
              0.4444444444444444,
              "#bd3786"
             ],
             [
              0.5555555555555556,
              "#d8576b"
             ],
             [
              0.6666666666666666,
              "#ed7953"
             ],
             [
              0.7777777777777778,
              "#fb9f3a"
             ],
             [
              0.8888888888888888,
              "#fdca26"
             ],
             [
              1,
              "#f0f921"
             ]
            ],
            "type": "histogram2d"
           }
          ],
          "histogram2dcontour": [
           {
            "colorbar": {
             "outlinewidth": 0,
             "ticks": ""
            },
            "colorscale": [
             [
              0,
              "#0d0887"
             ],
             [
              0.1111111111111111,
              "#46039f"
             ],
             [
              0.2222222222222222,
              "#7201a8"
             ],
             [
              0.3333333333333333,
              "#9c179e"
             ],
             [
              0.4444444444444444,
              "#bd3786"
             ],
             [
              0.5555555555555556,
              "#d8576b"
             ],
             [
              0.6666666666666666,
              "#ed7953"
             ],
             [
              0.7777777777777778,
              "#fb9f3a"
             ],
             [
              0.8888888888888888,
              "#fdca26"
             ],
             [
              1,
              "#f0f921"
             ]
            ],
            "type": "histogram2dcontour"
           }
          ],
          "mesh3d": [
           {
            "colorbar": {
             "outlinewidth": 0,
             "ticks": ""
            },
            "type": "mesh3d"
           }
          ],
          "parcoords": [
           {
            "line": {
             "colorbar": {
              "outlinewidth": 0,
              "ticks": ""
             }
            },
            "type": "parcoords"
           }
          ],
          "pie": [
           {
            "automargin": true,
            "type": "pie"
           }
          ],
          "scatter": [
           {
            "fillpattern": {
             "fillmode": "overlay",
             "size": 10,
             "solidity": 0.2
            },
            "type": "scatter"
           }
          ],
          "scatter3d": [
           {
            "line": {
             "colorbar": {
              "outlinewidth": 0,
              "ticks": ""
             }
            },
            "marker": {
             "colorbar": {
              "outlinewidth": 0,
              "ticks": ""
             }
            },
            "type": "scatter3d"
           }
          ],
          "scattercarpet": [
           {
            "marker": {
             "colorbar": {
              "outlinewidth": 0,
              "ticks": ""
             }
            },
            "type": "scattercarpet"
           }
          ],
          "scattergeo": [
           {
            "marker": {
             "colorbar": {
              "outlinewidth": 0,
              "ticks": ""
             }
            },
            "type": "scattergeo"
           }
          ],
          "scattergl": [
           {
            "marker": {
             "colorbar": {
              "outlinewidth": 0,
              "ticks": ""
             }
            },
            "type": "scattergl"
           }
          ],
          "scattermapbox": [
           {
            "marker": {
             "colorbar": {
              "outlinewidth": 0,
              "ticks": ""
             }
            },
            "type": "scattermapbox"
           }
          ],
          "scatterpolar": [
           {
            "marker": {
             "colorbar": {
              "outlinewidth": 0,
              "ticks": ""
             }
            },
            "type": "scatterpolar"
           }
          ],
          "scatterpolargl": [
           {
            "marker": {
             "colorbar": {
              "outlinewidth": 0,
              "ticks": ""
             }
            },
            "type": "scatterpolargl"
           }
          ],
          "scatterternary": [
           {
            "marker": {
             "colorbar": {
              "outlinewidth": 0,
              "ticks": ""
             }
            },
            "type": "scatterternary"
           }
          ],
          "surface": [
           {
            "colorbar": {
             "outlinewidth": 0,
             "ticks": ""
            },
            "colorscale": [
             [
              0,
              "#0d0887"
             ],
             [
              0.1111111111111111,
              "#46039f"
             ],
             [
              0.2222222222222222,
              "#7201a8"
             ],
             [
              0.3333333333333333,
              "#9c179e"
             ],
             [
              0.4444444444444444,
              "#bd3786"
             ],
             [
              0.5555555555555556,
              "#d8576b"
             ],
             [
              0.6666666666666666,
              "#ed7953"
             ],
             [
              0.7777777777777778,
              "#fb9f3a"
             ],
             [
              0.8888888888888888,
              "#fdca26"
             ],
             [
              1,
              "#f0f921"
             ]
            ],
            "type": "surface"
           }
          ],
          "table": [
           {
            "cells": {
             "fill": {
              "color": "#EBF0F8"
             },
             "line": {
              "color": "white"
             }
            },
            "header": {
             "fill": {
              "color": "#C8D4E3"
             },
             "line": {
              "color": "white"
             }
            },
            "type": "table"
           }
          ]
         },
         "layout": {
          "annotationdefaults": {
           "arrowcolor": "#2a3f5f",
           "arrowhead": 0,
           "arrowwidth": 1
          },
          "autotypenumbers": "strict",
          "coloraxis": {
           "colorbar": {
            "outlinewidth": 0,
            "ticks": ""
           }
          },
          "colorscale": {
           "diverging": [
            [
             0,
             "#8e0152"
            ],
            [
             0.1,
             "#c51b7d"
            ],
            [
             0.2,
             "#de77ae"
            ],
            [
             0.3,
             "#f1b6da"
            ],
            [
             0.4,
             "#fde0ef"
            ],
            [
             0.5,
             "#f7f7f7"
            ],
            [
             0.6,
             "#e6f5d0"
            ],
            [
             0.7,
             "#b8e186"
            ],
            [
             0.8,
             "#7fbc41"
            ],
            [
             0.9,
             "#4d9221"
            ],
            [
             1,
             "#276419"
            ]
           ],
           "sequential": [
            [
             0,
             "#0d0887"
            ],
            [
             0.1111111111111111,
             "#46039f"
            ],
            [
             0.2222222222222222,
             "#7201a8"
            ],
            [
             0.3333333333333333,
             "#9c179e"
            ],
            [
             0.4444444444444444,
             "#bd3786"
            ],
            [
             0.5555555555555556,
             "#d8576b"
            ],
            [
             0.6666666666666666,
             "#ed7953"
            ],
            [
             0.7777777777777778,
             "#fb9f3a"
            ],
            [
             0.8888888888888888,
             "#fdca26"
            ],
            [
             1,
             "#f0f921"
            ]
           ],
           "sequentialminus": [
            [
             0,
             "#0d0887"
            ],
            [
             0.1111111111111111,
             "#46039f"
            ],
            [
             0.2222222222222222,
             "#7201a8"
            ],
            [
             0.3333333333333333,
             "#9c179e"
            ],
            [
             0.4444444444444444,
             "#bd3786"
            ],
            [
             0.5555555555555556,
             "#d8576b"
            ],
            [
             0.6666666666666666,
             "#ed7953"
            ],
            [
             0.7777777777777778,
             "#fb9f3a"
            ],
            [
             0.8888888888888888,
             "#fdca26"
            ],
            [
             1,
             "#f0f921"
            ]
           ]
          },
          "colorway": [
           "#636efa",
           "#EF553B",
           "#00cc96",
           "#ab63fa",
           "#FFA15A",
           "#19d3f3",
           "#FF6692",
           "#B6E880",
           "#FF97FF",
           "#FECB52"
          ],
          "font": {
           "color": "#2a3f5f"
          },
          "geo": {
           "bgcolor": "white",
           "lakecolor": "white",
           "landcolor": "#E5ECF6",
           "showlakes": true,
           "showland": true,
           "subunitcolor": "white"
          },
          "hoverlabel": {
           "align": "left"
          },
          "hovermode": "closest",
          "mapbox": {
           "style": "light"
          },
          "paper_bgcolor": "white",
          "plot_bgcolor": "#E5ECF6",
          "polar": {
           "angularaxis": {
            "gridcolor": "white",
            "linecolor": "white",
            "ticks": ""
           },
           "bgcolor": "#E5ECF6",
           "radialaxis": {
            "gridcolor": "white",
            "linecolor": "white",
            "ticks": ""
           }
          },
          "scene": {
           "xaxis": {
            "backgroundcolor": "#E5ECF6",
            "gridcolor": "white",
            "gridwidth": 2,
            "linecolor": "white",
            "showbackground": true,
            "ticks": "",
            "zerolinecolor": "white"
           },
           "yaxis": {
            "backgroundcolor": "#E5ECF6",
            "gridcolor": "white",
            "gridwidth": 2,
            "linecolor": "white",
            "showbackground": true,
            "ticks": "",
            "zerolinecolor": "white"
           },
           "zaxis": {
            "backgroundcolor": "#E5ECF6",
            "gridcolor": "white",
            "gridwidth": 2,
            "linecolor": "white",
            "showbackground": true,
            "ticks": "",
            "zerolinecolor": "white"
           }
          },
          "shapedefaults": {
           "line": {
            "color": "#2a3f5f"
           }
          },
          "ternary": {
           "aaxis": {
            "gridcolor": "white",
            "linecolor": "white",
            "ticks": ""
           },
           "baxis": {
            "gridcolor": "white",
            "linecolor": "white",
            "ticks": ""
           },
           "bgcolor": "#E5ECF6",
           "caxis": {
            "gridcolor": "white",
            "linecolor": "white",
            "ticks": ""
           }
          },
          "title": {
           "x": 0.05
          },
          "xaxis": {
           "automargin": true,
           "gridcolor": "white",
           "linecolor": "white",
           "ticks": "",
           "title": {
            "standoff": 15
           },
           "zerolinecolor": "white",
           "zerolinewidth": 2
          },
          "yaxis": {
           "automargin": true,
           "gridcolor": "white",
           "linecolor": "white",
           "ticks": "",
           "title": {
            "standoff": 15
           },
           "zerolinecolor": "white",
           "zerolinewidth": 2
          }
         }
        },
        "title": {
         "text": "Pareto-front Plot"
        },
        "xaxis": {
         "title": {
          "text": "Mean Fitness"
         }
        },
        "yaxis": {
         "title": {
          "text": "Runtime"
         }
        }
       }
      }
     },
     "metadata": {},
     "output_type": "display_data"
    }
   ],
   "source": [
    "fig = vis.plot_pareto_front(\n",
    "    study,\n",
    "    targets=lambda t: (t.values[0], t.values[1]),\n",
    "    target_names=[\"Max Fitness\", \"Mean Fitness\"],\n",
    ").show()\n",
    "\n",
    "fig = vis.plot_pareto_front(\n",
    "    study,\n",
    "    targets=lambda t: (t.values[0], t.values[2]),\n",
    "    target_names=[\"Min Fitness\", \"Runtime\"],\n",
    ").show()\n",
    "\n",
    "fig = vis.plot_pareto_front(\n",
    "    study,\n",
    "    targets=lambda t: (t.values[1], t.values[2]),\n",
    "    target_names=[\"Mean Fitness\", \"Runtime\"],\n",
    ").show()"
   ]
  },
  {
   "cell_type": "code",
   "execution_count": 15,
   "id": "35409eca",
   "metadata": {},
   "outputs": [
    {
     "name": "stdout",
     "output_type": "stream",
     "text": [
      "[0.923918604850769, 0.8450579524040223, 44.26289939880371]\n",
      "  mutation_method: mutLinear\n",
      "  mutation_prob: 0.9724134473200928\n",
      "  mutation_by_deletion_rate: 0.1865662871079647\n",
      "  mutation_rate_start: 0.1776760399937272\n",
      "  mutation_rate_end: 0.021495672838030666\n",
      "  crossover_method: cxKPoint\n",
      "  crossover_rate: 0.01884623749434998\n",
      "  crossover_points: 4\n",
      "  selection_method: selTournament\n",
      "  tournsize: 9\n",
      "  elitism_rate: 0.08693222344646767\n",
      "  survival_rate: 0.8103851555137289\n"
     ]
    }
   ],
   "source": [
    "print(study.trials[51].values)\n",
    "for k, v in study.trials[51].params.items():\n",
    "    print(f\"  {k}: {v}\")"
   ]
  },
  {
   "cell_type": "code",
   "execution_count": 9,
   "id": "6db681e5",
   "metadata": {},
   "outputs": [
    {
     "name": "stdout",
     "output_type": "stream",
     "text": [
      "Trial 12:\n",
      "  Values: [0.8956600427627563, 0.8491518497467041, 41.03565549850464]\n",
      "  Params: {'mutation_method': 'mutLinear', 'mutation_prob': 0.9819365445375368, 'mutation_by_deletion_rate': 0.19540522987303344, 'mutation_rate_start': 0.18414394546821544, 'mutation_rate_end': 0.03751556972142428, 'crossover_method': 'cxKPoint', 'crossover_rate': 0.0018307391073909421, 'crossover_points': 4, 'selection_method': 'selTournament', 'tournsize': 9, 'elitism_rate': 0.05257648286443003, 'survival_rate': 0.7762406950234005}\n",
      "Trial 51:\n",
      "  Values: [0.923918604850769, 0.8450579524040223, 44.26289939880371]\n",
      "  Params: {'mutation_method': 'mutLinear', 'mutation_prob': 0.9724134473200928, 'mutation_by_deletion_rate': 0.1865662871079647, 'mutation_rate_start': 0.1776760399937272, 'mutation_rate_end': 0.021495672838030666, 'crossover_method': 'cxKPoint', 'crossover_rate': 0.01884623749434998, 'crossover_points': 4, 'selection_method': 'selTournament', 'tournsize': 9, 'elitism_rate': 0.08693222344646767, 'survival_rate': 0.8103851555137289}\n",
      "Trial 60:\n",
      "  Values: [0.733029842376709, 0.7041908860206604, 44.6192946434021]\n",
      "  Params: {'mutation_method': 'mutLinear', 'mutation_prob': 0.9365845742781858, 'mutation_by_deletion_rate': 0.38748415488988774, 'mutation_rate_start': 0.18998937495594395, 'mutation_rate_end': 0.6383785891878189, 'crossover_method': 'cxKPoint', 'crossover_rate': 0.12809307374942314, 'crossover_points': 2, 'selection_method': 'selTournament', 'tournsize': 9, 'elitism_rate': 0.2347522919316892, 'survival_rate': 0.11815497136926412}\n",
      "Trial 71:\n",
      "  Values: [0.7092493772506714, 0.6851785898208618, 47.41383123397827]\n",
      "  Params: {'mutation_method': 'mutEntropy', 'mutation_prob': 0.9640664577028335, 'mutation_by_deletion_rate': 0.2773556653695439, 'mutation_rate_start': 0.4713078594790372, 'mutation_rate_end': 0.03473588063592447, 'crossover_method': 'cxKPoint', 'crossover_rate': 0.03054354740701666, 'crossover_points': 4, 'selection_method': 'selBest', 'elitism_rate': 0.08395299826228808, 'survival_rate': 0.41588202324978596}\n"
     ]
    }
   ],
   "source": [
    "import optuna\n",
    "\n",
    "def is_dominated(trial_values, other_values):\n",
    "    return all(tv <= ov for tv, ov in zip(trial_values, other_values)) and any(tv < ov for tv, ov in zip(trial_values, other_values))\n",
    "\n",
    "def get_pareto_front_trials(study):\n",
    "    completed_trials = [t for t in study.trials if t.state == optuna.trial.TrialState.COMPLETE]\n",
    "    pareto_trials = []\n",
    "\n",
    "    for trial in completed_trials:\n",
    "        dominated = False\n",
    "        for other in completed_trials:\n",
    "            if trial.number != other.number and is_dominated(trial.values, other.values):\n",
    "                dominated = True\n",
    "                break\n",
    "        if not dominated:\n",
    "            pareto_trials.append(trial)\n",
    "\n",
    "    return pareto_trials\n",
    "\n",
    "pareto_trials = get_pareto_front_trials(study)\n",
    "\n",
    "for t in pareto_trials:\n",
    "    print(f\"Trial {t.number}:\")\n",
    "    print(f\"  Values: {t.values}\")\n",
    "    print(f\"  Params: {t.params}\")\n"
   ]
  },
  {
   "cell_type": "code",
   "execution_count": 10,
   "id": "2e64b4c4",
   "metadata": {},
   "outputs": [
    {
     "name": "stdout",
     "output_type": "stream",
     "text": [
      "Cluster 1 | Trial 12 | Values [0.8956600427627563, 0.8491518497467041, 41.03565549850464] | Params {'mutation_method': 'mutLinear', 'mutation_prob': 0.9819365445375368, 'mutation_by_deletion_rate': 0.19540522987303344, 'mutation_rate_start': 0.18414394546821544, 'mutation_rate_end': 0.03751556972142428, 'crossover_method': 'cxKPoint', 'crossover_rate': 0.0018307391073909421, 'crossover_points': 4, 'selection_method': 'selTournament', 'tournsize': 9, 'elitism_rate': 0.05257648286443003, 'survival_rate': 0.7762406950234005}\n",
      "Cluster 0 | Trial 51 | Values [0.923918604850769, 0.8450579524040223, 44.26289939880371] | Params {'mutation_method': 'mutLinear', 'mutation_prob': 0.9724134473200928, 'mutation_by_deletion_rate': 0.1865662871079647, 'mutation_rate_start': 0.1776760399937272, 'mutation_rate_end': 0.021495672838030666, 'crossover_method': 'cxKPoint', 'crossover_rate': 0.01884623749434998, 'crossover_points': 4, 'selection_method': 'selTournament', 'tournsize': 9, 'elitism_rate': 0.08693222344646767, 'survival_rate': 0.8103851555137289}\n",
      "Cluster 0 | Trial 60 | Values [0.733029842376709, 0.7041908860206604, 44.6192946434021] | Params {'mutation_method': 'mutLinear', 'mutation_prob': 0.9365845742781858, 'mutation_by_deletion_rate': 0.38748415488988774, 'mutation_rate_start': 0.18998937495594395, 'mutation_rate_end': 0.6383785891878189, 'crossover_method': 'cxKPoint', 'crossover_rate': 0.12809307374942314, 'crossover_points': 2, 'selection_method': 'selTournament', 'tournsize': 9, 'elitism_rate': 0.2347522919316892, 'survival_rate': 0.11815497136926412}\n",
      "Cluster 2 | Trial 71 | Values [0.7092493772506714, 0.6851785898208618, 47.41383123397827] | Params {'mutation_method': 'mutEntropy', 'mutation_prob': 0.9640664577028335, 'mutation_by_deletion_rate': 0.2773556653695439, 'mutation_rate_start': 0.4713078594790372, 'mutation_rate_end': 0.03473588063592447, 'crossover_method': 'cxKPoint', 'crossover_rate': 0.03054354740701666, 'crossover_points': 4, 'selection_method': 'selBest', 'elitism_rate': 0.08395299826228808, 'survival_rate': 0.41588202324978596}\n"
     ]
    },
    {
     "data": {
      "image/png": "[encoded data removed]",
      "text/plain": [
       "<Figure size 640x480 with 1 Axes>"
      ]
     },
     "metadata": {},
     "output_type": "display_data"
    }
   ],
   "source": [
    "import pandas as pd\n",
    "from sklearn.cluster import KMeans\n",
    "import matplotlib.pyplot as plt\n",
    "from mpl_toolkits.mplot3d import Axes3D\n",
    "\n",
    "X = pd.DataFrame([t.values for t in pareto_trials])\n",
    "kmeans = KMeans(n_clusters=3).fit(X)\n",
    "for i, t in enumerate(pareto_trials):\n",
    "    print(f\"Cluster {kmeans.labels_[i]} | Trial {t.number} | Values {t.values} | Params {t.params}\")\n",
    "\n",
    "fig = plt.figure()\n",
    "ax = fig.add_subplot(111, projection='3d')\n",
    "ax.scatter(X[0], X[1], X[2], c=kmeans.labels_, s=60)\n",
    "ax.set_xlabel(\"Max Fitness\")\n",
    "ax.set_ylabel(\"Mean Fitness\")\n",
    "ax.set_zlabel(\"Runtime\")\n",
    "plt.title(\"3D Cluster Plot of Pareto-optimal Trials\")\n",
    "plt.show()\n"
   ]
  },
  {
   "cell_type": "code",
   "execution_count": 11,
   "id": "f85d1590",
   "metadata": {},
   "outputs": [
    {
     "data": {
      "application/vnd.plotly.v1+json": {
       "config": {
        "plotlyServerURL": "https://plot.ly"
       },
       "data": [
        {
         "mode": "markers",
         "name": "Max Fitness",
         "type": "scatter",
         "x": [
          0,
          1,
          2,
          3,
          4,
          5,
          6,
          7,
          8,
          9,
          10,
          11,
          12,
          13,
          14,
          15,
          16,
          17,
          18,
          19,
          20,
          21,
          22,
          23,
          24,
          25,
          26,
          27,
          28,
          29,
          30,
          31,
          32,
          33,
          34,
          35,
          36,
          37,
          38,
          39,
          40,
          41,
          42,
          43,
          44,
          45,
          46,
          47,
          48,
          49,
          50,
          51,
          52,
          53,
          54,
          55,
          56,
          57,
          58,
          59,
          60,
          61,
          62,
          63,
          64,
          65,
          66,
          67,
          68,
          69,
          70,
          71,
          72,
          73,
          74,
          75,
          76,
          77,
          78,
          79,
          80,
          81,
          82,
          83,
          84,
          85,
          86,
          87,
          88,
          89,
          90,
          91,
          92,
          93,
          94,
          95,
          96,
          97,
          98,
          99,
          100,
          101,
          102,
          103,
          104,
          105,
          106,
          107,
          108,
          109,
          110,
          111,
          112,
          113,
          114,
          115,
          116,
          117,
          118,
          119,
          120,
          121,
          122,
          123,
          124,
          125,
          126,
          127,
          128,
          129,
          130,
          131,
          132,
          133,
          134,
          135,
          136,
          137,
          138,
          139,
          140,
          141,
          142,
          143,
          144,
          145,
          146,
          147,
          148,
          149,
          150,
          151,
          152,
          153,
          154,
          155,
          156,
          157,
          158,
          159,
          160,
          161,
          162,
          163,
          164,
          165,
          166,
          167,
          168,
          169,
          170,
          171,
          172,
          173,
          174,
          175,
          176,
          177,
          178,
          179,
          180,
          181,
          182,
          183,
          184,
          185,
          186,
          187,
          188,
          189,
          190,
          191,
          192,
          193,
          194,
          195,
          196,
          197,
          198,
          199
         ],
         "y": [
          0.7278436422348022,
          0.7588212490081787,
          0.6106458902359009,
          0.7704668641090393,
          0.7855526208877563,
          0.6472018957138062,
          0.6176146268844604,
          0.6595203876495361,
          0.8358239531517029,
          0.7059294581413269,
          0.6898598074913025,
          0.923918604850769,
          0.8956600427627563,
          0.6457276940345764,
          0.839830756187439,
          0.7118198871612549,
          0.8492773771286011,
          0.7211655974388123,
          0.6942210793495178,
          0.7342208027839661,
          0.6888698935508728,
          0.7742751240730286,
          0.8319792151451111,
          0.8673994541168213,
          0.9007651805877686,
          0.8446002006530762,
          0.581763505935669,
          0.6221267580986023,
          0.5268564820289612,
          0.7991272211074829,
          0.7315282821655273,
          0.8806635141372681,
          0.7039453983306885,
          0.827492356300354,
          0.5610727667808533,
          0.6824824810028076,
          0.7771769165992737,
          0.7776364088058472,
          0.654380202293396,
          0.6863411068916321,
          0.7159580588340759,
          0.7473331093788147,
          0.8186487555503845,
          0.7312736511230469,
          0.6001713275909424,
          0.8431911468505859,
          0.6889136433601379,
          0.8410845994949341,
          0.6756318807601929,
          0.6365086436271667,
          0.7879999876022339,
          0.923918604850769,
          0.7397379279136658,
          0.7891584634780884,
          0.7070520520210266,
          0.7364332675933838,
          0.7811287641525269,
          0.8338178396224976,
          0.8410730361938477,
          0.7159609794616699,
          0.733029842376709,
          0.5519899129867554,
          0.824042797088623,
          0.7269577383995056,
          0.7852331399917603,
          0.7198595404624939,
          0.7470958232879639,
          0.8324827551841736,
          0.6624289751052856,
          0.8179866671562195,
          0.7827468514442444,
          0.7092493772506714,
          0.7266479730606079,
          0.6077612042427063,
          0.5858001708984375,
          0.6921095848083496,
          0.6793094873428345,
          0.800360918045044,
          0.7296648025512695,
          0.7290562987327576,
          0.5368230938911438,
          0.7897964715957642,
          0.6453681588172913,
          0.8221539258956909,
          0.6225752234458923,
          0.6747480034828186,
          0.7546871900558472,
          0.717465341091156,
          0.7666546702384949,
          0.5833253264427185,
          0.7037366032600403,
          0.7995247840881348,
          0.7088115215301514,
          0.653691828250885,
          0.7945880889892578,
          0.6648522615432739,
          0.5957351922988892,
          0.6986208558082581,
          0.877703070640564,
          0.5996505618095398,
          0.752388596534729,
          0.6163912415504456,
          0.8023749589920044,
          0.7560480237007141,
          0.7022519707679749,
          0.7318933606147766,
          0.7647905349731445,
          0.6369455456733704,
          0.7315438985824585,
          0.756585955619812,
          0.6542184948921204,
          0.7136111259460449,
          0.5222430229187012,
          0.6984911561012268,
          0.7696993947029114,
          0.6543329358100891,
          0.6556683778762817,
          0.5222430229187012,
          0.5877988338470459,
          0.7215800881385803,
          0.5349524021148682,
          0.7057828307151794,
          0.6866185069084167,
          0.7109161615371704,
          0.6438296437263489,
          0.7634557485580444,
          0.6724451780319214,
          0.6938449740409851,
          0.8796648979187012,
          0.689732015132904,
          0.7956542372703552,
          0.5779446363449097,
          0.765335202217102,
          0.816871166229248,
          0.7540360689163208,
          0.7631176710128784,
          0.711453378200531,
          0.6440722346305847,
          0.7291814088821411,
          0.8653249740600586,
          0.7357660531997681,
          0.7070106863975525,
          0.6839749813079834,
          0.6445983648300171,
          0.7417641878128052,
          0.6982384324073792,
          0.6847978234291077,
          0.6485612392425537,
          0.8165640830993652,
          0.6207950115203857,
          0.617056131362915,
          0.7729278802871704,
          0.6069772839546204,
          0.586037814617157,
          0.6895948052406311,
          0.8289503455162048,
          0.6359370350837708,
          0.7619964480400085,
          0.8562235832214355,
          0.6069400906562805,
          0.6860761642456055,
          0.7898143529891968,
          0.7953899502754211,
          0.84247887134552,
          0.8064595460891724,
          0.7271966934204102,
          0.7868730425834656,
          0.7499423027038574,
          0.5776277780532837,
          0.7278872132301331,
          0.7355497479438782,
          0.8230640888214111,
          0.6209244132041931,
          0.7987520694732666,
          0.7080999612808228,
          0.6333327889442444,
          0.871685802936554,
          0.7126734256744385,
          0.5970922112464905,
          0.7660773992538452,
          0.8351483345031738,
          0.7031478881835938,
          0.5256597995758057,
          0.7399319410324097,
          0.7678288817405701,
          0.6242491006851196,
          0.6141829490661621,
          0.8289003968238831,
          0.6469725370407104,
          0.7141220569610596,
          0.5360535979270935,
          0.5822955965995789,
          0.6956800818443298,
          0.7911331653594971,
          0.7142236828804016,
          0.7731344699859619,
          0.81167072057724,
          0.6736312508583069,
          0.7068942189216614,
          0.7999708652496338
         ]
        },
        {
         "marker": {
          "color": "#cccccc"
         },
         "mode": "markers",
         "name": "Infeasible Trial",
         "showlegend": false,
         "type": "scatter",
         "x": [],
         "y": []
        }
       ],
       "layout": {
        "template": {
         "data": {
          "bar": [
           {
            "error_x": {
             "color": "#2a3f5f"
            },
            "error_y": {
             "color": "#2a3f5f"
            },
            "marker": {
             "line": {
              "color": "#E5ECF6",
              "width": 0.5
             },
             "pattern": {
              "fillmode": "overlay",
              "size": 10,
              "solidity": 0.2
             }
            },
            "type": "bar"
           }
          ],
          "barpolar": [
           {
            "marker": {
             "line": {
              "color": "#E5ECF6",
              "width": 0.5
             },
             "pattern": {
              "fillmode": "overlay",
              "size": 10,
              "solidity": 0.2
             }
            },
            "type": "barpolar"
           }
          ],
          "carpet": [
           {
            "aaxis": {
             "endlinecolor": "#2a3f5f",
             "gridcolor": "white",
             "linecolor": "white",
             "minorgridcolor": "white",
             "startlinecolor": "#2a3f5f"
            },
            "baxis": {
             "endlinecolor": "#2a3f5f",
             "gridcolor": "white",
             "linecolor": "white",
             "minorgridcolor": "white",
             "startlinecolor": "#2a3f5f"
            },
            "type": "carpet"
           }
          ],
          "choropleth": [
           {
            "colorbar": {
             "outlinewidth": 0,
             "ticks": ""
            },
            "type": "choropleth"
           }
          ],
          "contour": [
           {
            "colorbar": {
             "outlinewidth": 0,
             "ticks": ""
            },
            "colorscale": [
             [
              0,
              "#0d0887"
             ],
             [
              0.1111111111111111,
              "#46039f"
             ],
             [
              0.2222222222222222,
              "#7201a8"
             ],
             [
              0.3333333333333333,
              "#9c179e"
             ],
             [
              0.4444444444444444,
              "#bd3786"
             ],
             [
              0.5555555555555556,
              "#d8576b"
             ],
             [
              0.6666666666666666,
              "#ed7953"
             ],
             [
              0.7777777777777778,
              "#fb9f3a"
             ],
             [
              0.8888888888888888,
              "#fdca26"
             ],
             [
              1,
              "#f0f921"
             ]
            ],
            "type": "contour"
           }
          ],
          "contourcarpet": [
           {
            "colorbar": {
             "outlinewidth": 0,
             "ticks": ""
            },
            "type": "contourcarpet"
           }
          ],
          "heatmap": [
           {
            "colorbar": {
             "outlinewidth": 0,
             "ticks": ""
            },
            "colorscale": [
             [
              0,
              "#0d0887"
             ],
             [
              0.1111111111111111,
              "#46039f"
             ],
             [
              0.2222222222222222,
              "#7201a8"
             ],
             [
              0.3333333333333333,
              "#9c179e"
             ],
             [
              0.4444444444444444,
              "#bd3786"
             ],
             [
              0.5555555555555556,
              "#d8576b"
             ],
             [
              0.6666666666666666,
              "#ed7953"
             ],
             [
              0.7777777777777778,
              "#fb9f3a"
             ],
             [
              0.8888888888888888,
              "#fdca26"
             ],
             [
              1,
              "#f0f921"
             ]
            ],
            "type": "heatmap"
           }
          ],
          "heatmapgl": [
           {
            "colorbar": {
             "outlinewidth": 0,
             "ticks": ""
            },
            "colorscale": [
             [
              0,
              "#0d0887"
             ],
             [
              0.1111111111111111,
              "#46039f"
             ],
             [
              0.2222222222222222,
              "#7201a8"
             ],
             [
              0.3333333333333333,
              "#9c179e"
             ],
             [
              0.4444444444444444,
              "#bd3786"
             ],
             [
              0.5555555555555556,
              "#d8576b"
             ],
             [
              0.6666666666666666,
              "#ed7953"
             ],
             [
              0.7777777777777778,
              "#fb9f3a"
             ],
             [
              0.8888888888888888,
              "#fdca26"
             ],
             [
              1,
              "#f0f921"
             ]
            ],
            "type": "heatmapgl"
           }
          ],
          "histogram": [
           {
            "marker": {
             "pattern": {
              "fillmode": "overlay",
              "size": 10,
              "solidity": 0.2
             }
            },
            "type": "histogram"
           }
          ],
          "histogram2d": [
           {
            "colorbar": {
             "outlinewidth": 0,
             "ticks": ""
            },
            "colorscale": [
             [
              0,
              "#0d0887"
             ],
             [
              0.1111111111111111,
              "#46039f"
             ],
             [
              0.2222222222222222,
              "#7201a8"
             ],
             [
              0.3333333333333333,
              "#9c179e"
             ],
             [
              0.4444444444444444,
              "#bd3786"
             ],
             [
              0.5555555555555556,
              "#d8576b"
             ],
             [
              0.6666666666666666,
              "#ed7953"
             ],
             [
              0.7777777777777778,
              "#fb9f3a"
             ],
             [
              0.8888888888888888,
              "#fdca26"
             ],
             [
              1,
              "#f0f921"
             ]
            ],
            "type": "histogram2d"
           }
          ],
          "histogram2dcontour": [
           {
            "colorbar": {
             "outlinewidth": 0,
             "ticks": ""
            },
            "colorscale": [
             [
              0,
              "#0d0887"
             ],
             [
              0.1111111111111111,
              "#46039f"
             ],
             [
              0.2222222222222222,
              "#7201a8"
             ],
             [
              0.3333333333333333,
              "#9c179e"
             ],
             [
              0.4444444444444444,
              "#bd3786"
             ],
             [
              0.5555555555555556,
              "#d8576b"
             ],
             [
              0.6666666666666666,
              "#ed7953"
             ],
             [
              0.7777777777777778,
              "#fb9f3a"
             ],
             [
              0.8888888888888888,
              "#fdca26"
             ],
             [
              1,
              "#f0f921"
             ]
            ],
            "type": "histogram2dcontour"
           }
          ],
          "mesh3d": [
           {
            "colorbar": {
             "outlinewidth": 0,
             "ticks": ""
            },
            "type": "mesh3d"
           }
          ],
          "parcoords": [
           {
            "line": {
             "colorbar": {
              "outlinewidth": 0,
              "ticks": ""
             }
            },
            "type": "parcoords"
           }
          ],
          "pie": [
           {
            "automargin": true,
            "type": "pie"
           }
          ],
          "scatter": [
           {
            "fillpattern": {
             "fillmode": "overlay",
             "size": 10,
             "solidity": 0.2
            },
            "type": "scatter"
           }
          ],
          "scatter3d": [
           {
            "line": {
             "colorbar": {
              "outlinewidth": 0,
              "ticks": ""
             }
            },
            "marker": {
             "colorbar": {
              "outlinewidth": 0,
              "ticks": ""
             }
            },
            "type": "scatter3d"
           }
          ],
          "scattercarpet": [
           {
            "marker": {
             "colorbar": {
              "outlinewidth": 0,
              "ticks": ""
             }
            },
            "type": "scattercarpet"
           }
          ],
          "scattergeo": [
           {
            "marker": {
             "colorbar": {
              "outlinewidth": 0,
              "ticks": ""
             }
            },
            "type": "scattergeo"
           }
          ],
          "scattergl": [
           {
            "marker": {
             "colorbar": {
              "outlinewidth": 0,
              "ticks": ""
             }
            },
            "type": "scattergl"
           }
          ],
          "scattermapbox": [
           {
            "marker": {
             "colorbar": {
              "outlinewidth": 0,
              "ticks": ""
             }
            },
            "type": "scattermapbox"
           }
          ],
          "scatterpolar": [
           {
            "marker": {
             "colorbar": {
              "outlinewidth": 0,
              "ticks": ""
             }
            },
            "type": "scatterpolar"
           }
          ],
          "scatterpolargl": [
           {
            "marker": {
             "colorbar": {
              "outlinewidth": 0,
              "ticks": ""
             }
            },
            "type": "scatterpolargl"
           }
          ],
          "scatterternary": [
           {
            "marker": {
             "colorbar": {
              "outlinewidth": 0,
              "ticks": ""
             }
            },
            "type": "scatterternary"
           }
          ],
          "surface": [
           {
            "colorbar": {
             "outlinewidth": 0,
             "ticks": ""
            },
            "colorscale": [
             [
              0,
              "#0d0887"
             ],
             [
              0.1111111111111111,
              "#46039f"
             ],
             [
              0.2222222222222222,
              "#7201a8"
             ],
             [
              0.3333333333333333,
              "#9c179e"
             ],
             [
              0.4444444444444444,
              "#bd3786"
             ],
             [
              0.5555555555555556,
              "#d8576b"
             ],
             [
              0.6666666666666666,
              "#ed7953"
             ],
             [
              0.7777777777777778,
              "#fb9f3a"
             ],
             [
              0.8888888888888888,
              "#fdca26"
             ],
             [
              1,
              "#f0f921"
             ]
            ],
            "type": "surface"
           }
          ],
          "table": [
           {
            "cells": {
             "fill": {
              "color": "#EBF0F8"
             },
             "line": {
              "color": "white"
             }
            },
            "header": {
             "fill": {
              "color": "#C8D4E3"
             },
             "line": {
              "color": "white"
             }
            },
            "type": "table"
           }
          ]
         },
         "layout": {
          "annotationdefaults": {
           "arrowcolor": "#2a3f5f",
           "arrowhead": 0,
           "arrowwidth": 1
          },
          "autotypenumbers": "strict",
          "coloraxis": {
           "colorbar": {
            "outlinewidth": 0,
            "ticks": ""
           }
          },
          "colorscale": {
           "diverging": [
            [
             0,
             "#8e0152"
            ],
            [
             0.1,
             "#c51b7d"
            ],
            [
             0.2,
             "#de77ae"
            ],
            [
             0.3,
             "#f1b6da"
            ],
            [
             0.4,
             "#fde0ef"
            ],
            [
             0.5,
             "#f7f7f7"
            ],
            [
             0.6,
             "#e6f5d0"
            ],
            [
             0.7,
             "#b8e186"
            ],
            [
             0.8,
             "#7fbc41"
            ],
            [
             0.9,
             "#4d9221"
            ],
            [
             1,
             "#276419"
            ]
           ],
           "sequential": [
            [
             0,
             "#0d0887"
            ],
            [
             0.1111111111111111,
             "#46039f"
            ],
            [
             0.2222222222222222,
             "#7201a8"
            ],
            [
             0.3333333333333333,
             "#9c179e"
            ],
            [
             0.4444444444444444,
             "#bd3786"
            ],
            [
             0.5555555555555556,
             "#d8576b"
            ],
            [
             0.6666666666666666,
             "#ed7953"
            ],
            [
             0.7777777777777778,
             "#fb9f3a"
            ],
            [
             0.8888888888888888,
             "#fdca26"
            ],
            [
             1,
             "#f0f921"
            ]
           ],
           "sequentialminus": [
            [
             0,
             "#0d0887"
            ],
            [
             0.1111111111111111,
             "#46039f"
            ],
            [
             0.2222222222222222,
             "#7201a8"
            ],
            [
             0.3333333333333333,
             "#9c179e"
            ],
            [
             0.4444444444444444,
             "#bd3786"
            ],
            [
             0.5555555555555556,
             "#d8576b"
            ],
            [
             0.6666666666666666,
             "#ed7953"
            ],
            [
             0.7777777777777778,
             "#fb9f3a"
            ],
            [
             0.8888888888888888,
             "#fdca26"
            ],
            [
             1,
             "#f0f921"
            ]
           ]
          },
          "colorway": [
           "#636efa",
           "#EF553B",
           "#00cc96",
           "#ab63fa",
           "#FFA15A",
           "#19d3f3",
           "#FF6692",
           "#B6E880",
           "#FF97FF",
           "#FECB52"
          ],
          "font": {
           "color": "#2a3f5f"
          },
          "geo": {
           "bgcolor": "white",
           "lakecolor": "white",
           "landcolor": "#E5ECF6",
           "showlakes": true,
           "showland": true,
           "subunitcolor": "white"
          },
          "hoverlabel": {
           "align": "left"
          },
          "hovermode": "closest",
          "mapbox": {
           "style": "light"
          },
          "paper_bgcolor": "white",
          "plot_bgcolor": "#E5ECF6",
          "polar": {
           "angularaxis": {
            "gridcolor": "white",
            "linecolor": "white",
            "ticks": ""
           },
           "bgcolor": "#E5ECF6",
           "radialaxis": {
            "gridcolor": "white",
            "linecolor": "white",
            "ticks": ""
           }
          },
          "scene": {
           "xaxis": {
            "backgroundcolor": "#E5ECF6",
            "gridcolor": "white",
            "gridwidth": 2,
            "linecolor": "white",
            "showbackground": true,
            "ticks": "",
            "zerolinecolor": "white"
           },
           "yaxis": {
            "backgroundcolor": "#E5ECF6",
            "gridcolor": "white",
            "gridwidth": 2,
            "linecolor": "white",
            "showbackground": true,
            "ticks": "",
            "zerolinecolor": "white"
           },
           "zaxis": {
            "backgroundcolor": "#E5ECF6",
            "gridcolor": "white",
            "gridwidth": 2,
            "linecolor": "white",
            "showbackground": true,
            "ticks": "",
            "zerolinecolor": "white"
           }
          },
          "shapedefaults": {
           "line": {
            "color": "#2a3f5f"
           }
          },
          "ternary": {
           "aaxis": {
            "gridcolor": "white",
            "linecolor": "white",
            "ticks": ""
           },
           "baxis": {
            "gridcolor": "white",
            "linecolor": "white",
            "ticks": ""
           },
           "bgcolor": "#E5ECF6",
           "caxis": {
            "gridcolor": "white",
            "linecolor": "white",
            "ticks": ""
           }
          },
          "title": {
           "x": 0.05
          },
          "xaxis": {
           "automargin": true,
           "gridcolor": "white",
           "linecolor": "white",
           "ticks": "",
           "title": {
            "standoff": 15
           },
           "zerolinecolor": "white",
           "zerolinewidth": 2
          },
          "yaxis": {
           "automargin": true,
           "gridcolor": "white",
           "linecolor": "white",
           "ticks": "",
           "title": {
            "standoff": 15
           },
           "zerolinecolor": "white",
           "zerolinewidth": 2
          }
         }
        },
        "title": {
         "text": "Optimization History Plot"
        },
        "xaxis": {
         "title": {
          "text": "Trial"
         }
        },
        "yaxis": {
         "title": {
          "text": "Max Fitness"
         }
        }
       }
      }
     },
     "metadata": {},
     "output_type": "display_data"
    },
    {
     "data": {
      "application/vnd.plotly.v1+json": {
       "config": {
        "plotlyServerURL": "https://plot.ly"
       },
       "data": [
        {
         "mode": "markers",
         "name": "Mean Fitness",
         "type": "scatter",
         "x": [
          0,
          1,
          2,
          3,
          4,
          5,
          6,
          7,
          8,
          9,
          10,
          11,
          12,
          13,
          14,
          15,
          16,
          17,
          18,
          19,
          20,
          21,
          22,
          23,
          24,
          25,
          26,
          27,
          28,
          29,
          30,
          31,
          32,
          33,
          34,
          35,
          36,
          37,
          38,
          39,
          40,
          41,
          42,
          43,
          44,
          45,
          46,
          47,
          48,
          49,
          50,
          51,
          52,
          53,
          54,
          55,
          56,
          57,
          58,
          59,
          60,
          61,
          62,
          63,
          64,
          65,
          66,
          67,
          68,
          69,
          70,
          71,
          72,
          73,
          74,
          75,
          76,
          77,
          78,
          79,
          80,
          81,
          82,
          83,
          84,
          85,
          86,
          87,
          88,
          89,
          90,
          91,
          92,
          93,
          94,
          95,
          96,
          97,
          98,
          99,
          100,
          101,
          102,
          103,
          104,
          105,
          106,
          107,
          108,
          109,
          110,
          111,
          112,
          113,
          114,
          115,
          116,
          117,
          118,
          119,
          120,
          121,
          122,
          123,
          124,
          125,
          126,
          127,
          128,
          129,
          130,
          131,
          132,
          133,
          134,
          135,
          136,
          137,
          138,
          139,
          140,
          141,
          142,
          143,
          144,
          145,
          146,
          147,
          148,
          149,
          150,
          151,
          152,
          153,
          154,
          155,
          156,
          157,
          158,
          159,
          160,
          161,
          162,
          163,
          164,
          165,
          166,
          167,
          168,
          169,
          170,
          171,
          172,
          173,
          174,
          175,
          176,
          177,
          178,
          179,
          180,
          181,
          182,
          183,
          184,
          185,
          186,
          187,
          188,
          189,
          190,
          191,
          192,
          193,
          194,
          195,
          196,
          197,
          198,
          199
         ],
         "y": [
          0.7173630833625794,
          0.7058565378189087,
          0.5896970748901367,
          0.6904151916503907,
          0.7310947775840759,
          0.6194018483161926,
          0.5983564972877502,
          0.6154430270195007,
          0.7935378789901734,
          0.6605339884757996,
          0.6463033795356751,
          0.8391998887062073,
          0.8491518497467041,
          0.6243708848953247,
          0.7992067337036133,
          0.6940473318099976,
          0.8099842548370362,
          0.6768061637878418,
          0.65797039270401,
          0.705997633934021,
          0.6392642259597778,
          0.7435018181800842,
          0.7838121056556702,
          0.7964959979057312,
          0.8404918670654297,
          0.8117538690567017,
          0.564957070350647,
          0.6055234432220459,
          0.5067627429962158,
          0.7718638181686401,
          0.6730147123336792,
          0.8393709421157837,
          0.6345831274986267,
          0.7861511468887329,
          0.5416243433952331,
          0.6554707765579224,
          0.7364848375320434,
          0.7443564295768738,
          0.6372327446937561,
          0.671571695804596,
          0.6311599254608155,
          0.707270348072052,
          0.7788805961608887,
          0.6758518695831299,
          0.572340977191925,
          0.7808421611785888,
          0.6078521370887756,
          0.7910833120346069,
          0.6636139273643493,
          0.6165026307106019,
          0.7271000146865845,
          0.8450579524040223,
          0.708776593208313,
          0.7349591135978699,
          0.6644346594810486,
          0.7123331427574158,
          0.7625243186950683,
          0.7573147654533386,
          0.8142565727233887,
          0.6445376753807068,
          0.7041908860206604,
          0.5217427492141724,
          0.7514571070671081,
          0.6562639117240906,
          0.7389002919197083,
          0.678218412399292,
          0.6966751456260681,
          0.7940099000930786,
          0.6153616666793823,
          0.7718769550323487,
          0.7519469380378723,
          0.6851785898208618,
          0.6980661630630494,
          0.5771896123886109,
          0.5717511415481568,
          0.6553534865379333,
          0.6559566617012024,
          0.7521824359893798,
          0.7030602693557739,
          0.7102700710296631,
          0.5299887895584107,
          0.7411091685295105,
          0.6104266047477722,
          0.7712409734725952,
          0.576842999458313,
          0.6462585091590881,
          0.6528613448143006,
          0.6484408497810363,
          0.7307247877120971,
          0.544021487236023,
          0.6721386551856995,
          0.7639199018478393,
          0.6676718592643738,
          0.5932877779006958,
          0.7518698930740356,
          0.6342072725296021,
          0.5570340991020203,
          0.6619326829910278,
          0.7990853428840637,
          0.5892487168312073,
          0.703179657459259,
          0.6038847208023072,
          0.7786256670951843,
          0.7209091067314148,
          0.662966275215149,
          0.6721117496490479,
          0.7354385018348694,
          0.5981921553611755,
          0.6882436513900757,
          0.7159015774726868,
          0.5903032302856446,
          0.6678914904594422,
          0.4788781046867371,
          0.652990746498108,
          0.7388336062431335,
          0.6410045027732849,
          0.6057892799377441,
          0.5049369931221008,
          0.561488676071167,
          0.6749534368515014,
          0.5037762641906738,
          0.6688182353973389,
          0.6548490047454834,
          0.6502297878265381,
          0.62487233877182,
          0.7424275636672973,
          0.64987211227417,
          0.6315998435020447,
          0.8144384860992432,
          0.6631931066513062,
          0.7794510364532471,
          0.5557971954345703,
          0.7339499354362488,
          0.7418452739715576,
          0.7244474649429321,
          0.7227425694465637,
          0.6610419511795044,
          0.5862468719482422,
          0.7046485543251038,
          0.823905062675476,
          0.7155866622924805,
          0.6598525285720825,
          0.6492917776107788,
          0.6141116738319397,
          0.7099527955055237,
          0.6722455501556397,
          0.6534147381782531,
          0.6102165699005127,
          0.7451800346374512,
          0.5810410261154175,
          0.5937845826148986,
          0.7338194012641907,
          0.5907711625099182,
          0.547877061367035,
          0.6617899537086487,
          0.7788899660110473,
          0.6217008709907532,
          0.7333148956298828,
          0.8214829444885254,
          0.5598477005958558,
          0.602415406703949,
          0.7564774036407471,
          0.7436204195022583,
          0.7758145809173584,
          0.7658223867416382,
          0.685290539264679,
          0.748797333240509,
          0.6582605004310608,
          0.5491045117378235,
          0.6912458419799805,
          0.6921810626983642,
          0.7845830678939819,
          0.5924120664596557,
          0.7487171649932861,
          0.6680881142616272,
          0.600256335735321,
          0.803826105594635,
          0.6902157425880432,
          0.547404408454895,
          0.7142853021621705,
          0.7991580486297607,
          0.6763641357421875,
          0.49987045526504514,
          0.7344926953315735,
          0.7401992440223694,
          0.5927525758743286,
          0.5844269394874573,
          0.7696704983711242,
          0.6122082233428955,
          0.6892849445343018,
          0.512525224685669,
          0.5457147717475891,
          0.6691726922988892,
          0.7378254771232605,
          0.6601560950279236,
          0.7552766561508178,
          0.7611106276512146,
          0.6513156771659852,
          0.6797090888023376,
          0.7377057194709777
         ]
        },
        {
         "marker": {
          "color": "#cccccc"
         },
         "mode": "markers",
         "name": "Infeasible Trial",
         "showlegend": false,
         "type": "scatter",
         "x": [],
         "y": []
        }
       ],
       "layout": {
        "template": {
         "data": {
          "bar": [
           {
            "error_x": {
             "color": "#2a3f5f"
            },
            "error_y": {
             "color": "#2a3f5f"
            },
            "marker": {
             "line": {
              "color": "#E5ECF6",
              "width": 0.5
             },
             "pattern": {
              "fillmode": "overlay",
              "size": 10,
              "solidity": 0.2
             }
            },
            "type": "bar"
           }
          ],
          "barpolar": [
           {
            "marker": {
             "line": {
              "color": "#E5ECF6",
              "width": 0.5
             },
             "pattern": {
              "fillmode": "overlay",
              "size": 10,
              "solidity": 0.2
             }
            },
            "type": "barpolar"
           }
          ],
          "carpet": [
           {
            "aaxis": {
             "endlinecolor": "#2a3f5f",
             "gridcolor": "white",
             "linecolor": "white",
             "minorgridcolor": "white",
             "startlinecolor": "#2a3f5f"
            },
            "baxis": {
             "endlinecolor": "#2a3f5f",
             "gridcolor": "white",
             "linecolor": "white",
             "minorgridcolor": "white",
             "startlinecolor": "#2a3f5f"
            },
            "type": "carpet"
           }
          ],
          "choropleth": [
           {
            "colorbar": {
             "outlinewidth": 0,
             "ticks": ""
            },
            "type": "choropleth"
           }
          ],
          "contour": [
           {
            "colorbar": {
             "outlinewidth": 0,
             "ticks": ""
            },
            "colorscale": [
             [
              0,
              "#0d0887"
             ],
             [
              0.1111111111111111,
              "#46039f"
             ],
             [
              0.2222222222222222,
              "#7201a8"
             ],
             [
              0.3333333333333333,
              "#9c179e"
             ],
             [
              0.4444444444444444,
              "#bd3786"
             ],
             [
              0.5555555555555556,
              "#d8576b"
             ],
             [
              0.6666666666666666,
              "#ed7953"
             ],
             [
              0.7777777777777778,
              "#fb9f3a"
             ],
             [
              0.8888888888888888,
              "#fdca26"
             ],
             [
              1,
              "#f0f921"
             ]
            ],
            "type": "contour"
           }
          ],
          "contourcarpet": [
           {
            "colorbar": {
             "outlinewidth": 0,
             "ticks": ""
            },
            "type": "contourcarpet"
           }
          ],
          "heatmap": [
           {
            "colorbar": {
             "outlinewidth": 0,
             "ticks": ""
            },
            "colorscale": [
             [
              0,
              "#0d0887"
             ],
             [
              0.1111111111111111,
              "#46039f"
             ],
             [
              0.2222222222222222,
              "#7201a8"
             ],
             [
              0.3333333333333333,
              "#9c179e"
             ],
             [
              0.4444444444444444,
              "#bd3786"
             ],
             [
              0.5555555555555556,
              "#d8576b"
             ],
             [
              0.6666666666666666,
              "#ed7953"
             ],
             [
              0.7777777777777778,
              "#fb9f3a"
             ],
             [
              0.8888888888888888,
              "#fdca26"
             ],
             [
              1,
              "#f0f921"
             ]
            ],
            "type": "heatmap"
           }
          ],
          "heatmapgl": [
           {
            "colorbar": {
             "outlinewidth": 0,
             "ticks": ""
            },
            "colorscale": [
             [
              0,
              "#0d0887"
             ],
             [
              0.1111111111111111,
              "#46039f"
             ],
             [
              0.2222222222222222,
              "#7201a8"
             ],
             [
              0.3333333333333333,
              "#9c179e"
             ],
             [
              0.4444444444444444,
              "#bd3786"
             ],
             [
              0.5555555555555556,
              "#d8576b"
             ],
             [
              0.6666666666666666,
              "#ed7953"
             ],
             [
              0.7777777777777778,
              "#fb9f3a"
             ],
             [
              0.8888888888888888,
              "#fdca26"
             ],
             [
              1,
              "#f0f921"
             ]
            ],
            "type": "heatmapgl"
           }
          ],
          "histogram": [
           {
            "marker": {
             "pattern": {
              "fillmode": "overlay",
              "size": 10,
              "solidity": 0.2
             }
            },
            "type": "histogram"
           }
          ],
          "histogram2d": [
           {
            "colorbar": {
             "outlinewidth": 0,
             "ticks": ""
            },
            "colorscale": [
             [
              0,
              "#0d0887"
             ],
             [
              0.1111111111111111,
              "#46039f"
             ],
             [
              0.2222222222222222,
              "#7201a8"
             ],
             [
              0.3333333333333333,
              "#9c179e"
             ],
             [
              0.4444444444444444,
              "#bd3786"
             ],
             [
              0.5555555555555556,
              "#d8576b"
             ],
             [
              0.6666666666666666,
              "#ed7953"
             ],
             [
              0.7777777777777778,
              "#fb9f3a"
             ],
             [
              0.8888888888888888,
              "#fdca26"
             ],
             [
              1,
              "#f0f921"
             ]
            ],
            "type": "histogram2d"
           }
          ],
          "histogram2dcontour": [
           {
            "colorbar": {
             "outlinewidth": 0,
             "ticks": ""
            },
            "colorscale": [
             [
              0,
              "#0d0887"
             ],
             [
              0.1111111111111111,
              "#46039f"
             ],
             [
              0.2222222222222222,
              "#7201a8"
             ],
             [
              0.3333333333333333,
              "#9c179e"
             ],
             [
              0.4444444444444444,
              "#bd3786"
             ],
             [
              0.5555555555555556,
              "#d8576b"
             ],
             [
              0.6666666666666666,
              "#ed7953"
             ],
             [
              0.7777777777777778,
              "#fb9f3a"
             ],
             [
              0.8888888888888888,
              "#fdca26"
             ],
             [
              1,
              "#f0f921"
             ]
            ],
            "type": "histogram2dcontour"
           }
          ],
          "mesh3d": [
           {
            "colorbar": {
             "outlinewidth": 0,
             "ticks": ""
            },
            "type": "mesh3d"
           }
          ],
          "parcoords": [
           {
            "line": {
             "colorbar": {
              "outlinewidth": 0,
              "ticks": ""
             }
            },
            "type": "parcoords"
           }
          ],
          "pie": [
           {
            "automargin": true,
            "type": "pie"
           }
          ],
          "scatter": [
           {
            "fillpattern": {
             "fillmode": "overlay",
             "size": 10,
             "solidity": 0.2
            },
            "type": "scatter"
           }
          ],
          "scatter3d": [
           {
            "line": {
             "colorbar": {
              "outlinewidth": 0,
              "ticks": ""
             }
            },
            "marker": {
             "colorbar": {
              "outlinewidth": 0,
              "ticks": ""
             }
            },
            "type": "scatter3d"
           }
          ],
          "scattercarpet": [
           {
            "marker": {
             "colorbar": {
              "outlinewidth": 0,
              "ticks": ""
             }
            },
            "type": "scattercarpet"
           }
          ],
          "scattergeo": [
           {
            "marker": {
             "colorbar": {
              "outlinewidth": 0,
              "ticks": ""
             }
            },
            "type": "scattergeo"
           }
          ],
          "scattergl": [
           {
            "marker": {
             "colorbar": {
              "outlinewidth": 0,
              "ticks": ""
             }
            },
            "type": "scattergl"
           }
          ],
          "scattermapbox": [
           {
            "marker": {
             "colorbar": {
              "outlinewidth": 0,
              "ticks": ""
             }
            },
            "type": "scattermapbox"
           }
          ],
          "scatterpolar": [
           {
            "marker": {
             "colorbar": {
              "outlinewidth": 0,
              "ticks": ""
             }
            },
            "type": "scatterpolar"
           }
          ],
          "scatterpolargl": [
           {
            "marker": {
             "colorbar": {
              "outlinewidth": 0,
              "ticks": ""
             }
            },
            "type": "scatterpolargl"
           }
          ],
          "scatterternary": [
           {
            "marker": {
             "colorbar": {
              "outlinewidth": 0,
              "ticks": ""
             }
            },
            "type": "scatterternary"
           }
          ],
          "surface": [
           {
            "colorbar": {
             "outlinewidth": 0,
             "ticks": ""
            },
            "colorscale": [
             [
              0,
              "#0d0887"
             ],
             [
              0.1111111111111111,
              "#46039f"
             ],
             [
              0.2222222222222222,
              "#7201a8"
             ],
             [
              0.3333333333333333,
              "#9c179e"
             ],
             [
              0.4444444444444444,
              "#bd3786"
             ],
             [
              0.5555555555555556,
              "#d8576b"
             ],
             [
              0.6666666666666666,
              "#ed7953"
             ],
             [
              0.7777777777777778,
              "#fb9f3a"
             ],
             [
              0.8888888888888888,
              "#fdca26"
             ],
             [
              1,
              "#f0f921"
             ]
            ],
            "type": "surface"
           }
          ],
          "table": [
           {
            "cells": {
             "fill": {
              "color": "#EBF0F8"
             },
             "line": {
              "color": "white"
             }
            },
            "header": {
             "fill": {
              "color": "#C8D4E3"
             },
             "line": {
              "color": "white"
             }
            },
            "type": "table"
           }
          ]
         },
         "layout": {
          "annotationdefaults": {
           "arrowcolor": "#2a3f5f",
           "arrowhead": 0,
           "arrowwidth": 1
          },
          "autotypenumbers": "strict",
          "coloraxis": {
           "colorbar": {
            "outlinewidth": 0,
            "ticks": ""
           }
          },
          "colorscale": {
           "diverging": [
            [
             0,
             "#8e0152"
            ],
            [
             0.1,
             "#c51b7d"
            ],
            [
             0.2,
             "#de77ae"
            ],
            [
             0.3,
             "#f1b6da"
            ],
            [
             0.4,
             "#fde0ef"
            ],
            [
             0.5,
             "#f7f7f7"
            ],
            [
             0.6,
             "#e6f5d0"
            ],
            [
             0.7,
             "#b8e186"
            ],
            [
             0.8,
             "#7fbc41"
            ],
            [
             0.9,
             "#4d9221"
            ],
            [
             1,
             "#276419"
            ]
           ],
           "sequential": [
            [
             0,
             "#0d0887"
            ],
            [
             0.1111111111111111,
             "#46039f"
            ],
            [
             0.2222222222222222,
             "#7201a8"
            ],
            [
             0.3333333333333333,
             "#9c179e"
            ],
            [
             0.4444444444444444,
             "#bd3786"
            ],
            [
             0.5555555555555556,
             "#d8576b"
            ],
            [
             0.6666666666666666,
             "#ed7953"
            ],
            [
             0.7777777777777778,
             "#fb9f3a"
            ],
            [
             0.8888888888888888,
             "#fdca26"
            ],
            [
             1,
             "#f0f921"
            ]
           ],
           "sequentialminus": [
            [
             0,
             "#0d0887"
            ],
            [
             0.1111111111111111,
             "#46039f"
            ],
            [
             0.2222222222222222,
             "#7201a8"
            ],
            [
             0.3333333333333333,
             "#9c179e"
            ],
            [
             0.4444444444444444,
             "#bd3786"
            ],
            [
             0.5555555555555556,
             "#d8576b"
            ],
            [
             0.6666666666666666,
             "#ed7953"
            ],
            [
             0.7777777777777778,
             "#fb9f3a"
            ],
            [
             0.8888888888888888,
             "#fdca26"
            ],
            [
             1,
             "#f0f921"
            ]
           ]
          },
          "colorway": [
           "#636efa",
           "#EF553B",
           "#00cc96",
           "#ab63fa",
           "#FFA15A",
           "#19d3f3",
           "#FF6692",
           "#B6E880",
           "#FF97FF",
           "#FECB52"
          ],
          "font": {
           "color": "#2a3f5f"
          },
          "geo": {
           "bgcolor": "white",
           "lakecolor": "white",
           "landcolor": "#E5ECF6",
           "showlakes": true,
           "showland": true,
           "subunitcolor": "white"
          },
          "hoverlabel": {
           "align": "left"
          },
          "hovermode": "closest",
          "mapbox": {
           "style": "light"
          },
          "paper_bgcolor": "white",
          "plot_bgcolor": "#E5ECF6",
          "polar": {
           "angularaxis": {
            "gridcolor": "white",
            "linecolor": "white",
            "ticks": ""
           },
           "bgcolor": "#E5ECF6",
           "radialaxis": {
            "gridcolor": "white",
            "linecolor": "white",
            "ticks": ""
           }
          },
          "scene": {
           "xaxis": {
            "backgroundcolor": "#E5ECF6",
            "gridcolor": "white",
            "gridwidth": 2,
            "linecolor": "white",
            "showbackground": true,
            "ticks": "",
            "zerolinecolor": "white"
           },
           "yaxis": {
            "backgroundcolor": "#E5ECF6",
            "gridcolor": "white",
            "gridwidth": 2,
            "linecolor": "white",
            "showbackground": true,
            "ticks": "",
            "zerolinecolor": "white"
           },
           "zaxis": {
            "backgroundcolor": "#E5ECF6",
            "gridcolor": "white",
            "gridwidth": 2,
            "linecolor": "white",
            "showbackground": true,
            "ticks": "",
            "zerolinecolor": "white"
           }
          },
          "shapedefaults": {
           "line": {
            "color": "#2a3f5f"
           }
          },
          "ternary": {
           "aaxis": {
            "gridcolor": "white",
            "linecolor": "white",
            "ticks": ""
           },
           "baxis": {
            "gridcolor": "white",
            "linecolor": "white",
            "ticks": ""
           },
           "bgcolor": "#E5ECF6",
           "caxis": {
            "gridcolor": "white",
            "linecolor": "white",
            "ticks": ""
           }
          },
          "title": {
           "x": 0.05
          },
          "xaxis": {
           "automargin": true,
           "gridcolor": "white",
           "linecolor": "white",
           "ticks": "",
           "title": {
            "standoff": 15
           },
           "zerolinecolor": "white",
           "zerolinewidth": 2
          },
          "yaxis": {
           "automargin": true,
           "gridcolor": "white",
           "linecolor": "white",
           "ticks": "",
           "title": {
            "standoff": 15
           },
           "zerolinecolor": "white",
           "zerolinewidth": 2
          }
         }
        },
        "title": {
         "text": "Optimization History Plot"
        },
        "xaxis": {
         "title": {
          "text": "Trial"
         }
        },
        "yaxis": {
         "title": {
          "text": "Mean Fitness"
         }
        }
       }
      }
     },
     "metadata": {},
     "output_type": "display_data"
    },
    {
     "data": {
      "application/vnd.plotly.v1+json": {
       "config": {
        "plotlyServerURL": "https://plot.ly"
       },
       "data": [
        {
         "mode": "markers",
         "name": "Runtime",
         "type": "scatter",
         "x": [
          0,
          1,
          2,
          3,
          4,
          5,
          6,
          7,
          8,
          9,
          10,
          11,
          12,
          13,
          14,
          15,
          16,
          17,
          18,
          19,
          20,
          21,
          22,
          23,
          24,
          25,
          26,
          27,
          28,
          29,
          30,
          31,
          32,
          33,
          34,
          35,
          36,
          37,
          38,
          39,
          40,
          41,
          42,
          43,
          44,
          45,
          46,
          47,
          48,
          49,
          50,
          51,
          52,
          53,
          54,
          55,
          56,
          57,
          58,
          59,
          60,
          61,
          62,
          63,
          64,
          65,
          66,
          67,
          68,
          69,
          70,
          71,
          72,
          73,
          74,
          75,
          76,
          77,
          78,
          79,
          80,
          81,
          82,
          83,
          84,
          85,
          86,
          87,
          88,
          89,
          90,
          91,
          92,
          93,
          94,
          95,
          96,
          97,
          98,
          99,
          100,
          101,
          102,
          103,
          104,
          105,
          106,
          107,
          108,
          109,
          110,
          111,
          112,
          113,
          114,
          115,
          116,
          117,
          118,
          119,
          120,
          121,
          122,
          123,
          124,
          125,
          126,
          127,
          128,
          129,
          130,
          131,
          132,
          133,
          134,
          135,
          136,
          137,
          138,
          139,
          140,
          141,
          142,
          143,
          144,
          145,
          146,
          147,
          148,
          149,
          150,
          151,
          152,
          153,
          154,
          155,
          156,
          157,
          158,
          159,
          160,
          161,
          162,
          163,
          164,
          165,
          166,
          167,
          168,
          169,
          170,
          171,
          172,
          173,
          174,
          175,
          176,
          177,
          178,
          179,
          180,
          181,
          182,
          183,
          184,
          185,
          186,
          187,
          188,
          189,
          190,
          191,
          192,
          193,
          194,
          195,
          196,
          197,
          198,
          199
         ],
         "y": [
          26.43183946609497,
          32.15183663368225,
          30.86444878578186,
          25.75602698326111,
          25.77109670639038,
          24.227615356445312,
          22.9801344871521,
          20.911468982696533,
          26.76857829093933,
          29.030198335647583,
          36.06828713417053,
          41.04654264450073,
          41.03565549850464,
          45.918150424957275,
          38.809659004211426,
          35.982830286026,
          43.38106560707092,
          34.762670040130615,
          41.72091770172119,
          36.47714805603027,
          38.24952459335327,
          38.867915868759155,
          35.689494609832764,
          34.960737228393555,
          34.14579224586487,
          35.437535762786865,
          36.82492756843567,
          32.32112240791321,
          32.834874629974365,
          33.2280912399292,
          34.91692352294922,
          34.016571044921875,
          9.065346717834473,
          36.100486755371094,
          10.967486381530762,
          32.37101864814758,
          30.925816535949707,
          38.89921522140503,
          34.239696741104126,
          36.83689069747925,
          30.973251819610596,
          31.74371314048767,
          35.9852192401886,
          30.359400510787964,
          39.66998481750488,
          34.149587631225586,
          34.06014442443848,
          36.20443105697632,
          36.92072129249573,
          44.36992931365967,
          36.93705725669861,
          44.26289939880371,
          33.8101692199707,
          36.99980401992798,
          36.030149936676025,
          36.32043433189392,
          39.224778175354004,
          38.58611798286438,
          44.18554925918579,
          38.5636785030365,
          44.6192946434021,
          35.00260353088379,
          36.07604956626892,
          9.06501317024231,
          37.22005891799927,
          36.39551258087158,
          36.19727110862732,
          42.32256484031677,
          42.41461539268494,
          34.288644552230835,
          37.323917388916016,
          47.41383123397827,
          39.74447989463806,
          41.43715453147888,
          32.519243001937866,
          33.56611752510071,
          35.463175535202026,
          40.749242544174194,
          40.77132058143616,
          43.51756739616394,
          29.38054132461548,
          37.224798917770386,
          36.699060916900635,
          41.883124351501465,
          33.402432441711426,
          38.46428894996643,
          36.14768123626709,
          36.981825828552246,
          41.60932970046997,
          32.2087025642395,
          33.186771392822266,
          38.82355880737305,
          40.36926078796387,
          32.72807478904724,
          39.4741313457489,
          39.611525774002075,
          37.09906029701233,
          35.65146613121033,
          38.24931597709656,
          37.123597145080566,
          36.57809400558472,
          40.756608724594116,
          40.77740025520325,
          33.911813735961914,
          38.718910932540894,
          33.38467812538147,
          43.20650005340576,
          32.59736704826355,
          41.69943022727966,
          42.112648248672485,
          33.956154346466064,
          34.9494891166687,
          4.304807901382446,
          36.20120644569397,
          36.312854051589966,
          37.71540379524231,
          36.332345724105835,
          23.755059003829956,
          36.09942364692688,
          35.785887002944946,
          19.434324979782104,
          34.55379509925842,
          34.506486654281616,
          24.151944637298584,
          35.252275705337524,
          38.023603200912476,
          32.81380915641785,
          35.04684233665466,
          36.02121186256409,
          18.521081924438477,
          39.60966110229492,
          34.45599722862244,
          33.396170139312744,
          38.95106267929077,
          39.90438747406006,
          43.02949523925781,
          39.387731075286865,
          13.49260663986206,
          34.096728801727295,
          40.266300678253174,
          31.160573482513428,
          39.32696986198425,
          38.752175092697144,
          30.072044610977173,
          30.575434684753418,
          30.93048119544983,
          30.20831799507141,
          36.02253437042236,
          33.340341091156006,
          41.98984909057617,
          30.95453405380249,
          30.188660144805908,
          29.877091646194458,
          31.366228818893433,
          28.3398699760437,
          38.59110927581787,
          40.703792095184326,
          32.64456486701965,
          38.226046323776245,
          30.262810707092285,
          32.827463150024414,
          39.008209466934204,
          40.211261510849,
          40.57652425765991,
          34.84465003013611,
          34.92019772529602,
          39.25185513496399,
          41.72869253158569,
          34.301621198654175,
          37.49318480491638,
          40.75421071052551,
          34.87657189369202,
          38.95072412490845,
          39.9927031993866,
          34.00104761123657,
          37.90218472480774,
          38.49399185180664,
          32.164268255233765,
          29.36123776435852,
          34.95470690727234,
          38.43742394447327,
          39.35206484794617,
          28.890155792236328,
          43.340224742889404,
          38.722057819366455,
          40.26584815979004,
          35.55988168716431,
          40.703898668289185,
          35.50710916519165,
          32.46401762962341,
          7.557414531707764,
          18.252070903778076,
          34.70263433456421,
          43.037420988082886,
          35.59647560119629,
          40.88560342788696,
          34.92068147659302,
          37.387383699417114,
          34.43177103996277,
          39.88054585456848
         ]
        },
        {
         "marker": {
          "color": "#cccccc"
         },
         "mode": "markers",
         "name": "Infeasible Trial",
         "showlegend": false,
         "type": "scatter",
         "x": [],
         "y": []
        }
       ],
       "layout": {
        "template": {
         "data": {
          "bar": [
           {
            "error_x": {
             "color": "#2a3f5f"
            },
            "error_y": {
             "color": "#2a3f5f"
            },
            "marker": {
             "line": {
              "color": "#E5ECF6",
              "width": 0.5
             },
             "pattern": {
              "fillmode": "overlay",
              "size": 10,
              "solidity": 0.2
             }
            },
            "type": "bar"
           }
          ],
          "barpolar": [
           {
            "marker": {
             "line": {
              "color": "#E5ECF6",
              "width": 0.5
             },
             "pattern": {
              "fillmode": "overlay",
              "size": 10,
              "solidity": 0.2
             }
            },
            "type": "barpolar"
           }
          ],
          "carpet": [
           {
            "aaxis": {
             "endlinecolor": "#2a3f5f",
             "gridcolor": "white",
             "linecolor": "white",
             "minorgridcolor": "white",
             "startlinecolor": "#2a3f5f"
            },
            "baxis": {
             "endlinecolor": "#2a3f5f",
             "gridcolor": "white",
             "linecolor": "white",
             "minorgridcolor": "white",
             "startlinecolor": "#2a3f5f"
            },
            "type": "carpet"
           }
          ],
          "choropleth": [
           {
            "colorbar": {
             "outlinewidth": 0,
             "ticks": ""
            },
            "type": "choropleth"
           }
          ],
          "contour": [
           {
            "colorbar": {
             "outlinewidth": 0,
             "ticks": ""
            },
            "colorscale": [
             [
              0,
              "#0d0887"
             ],
             [
              0.1111111111111111,
              "#46039f"
             ],
             [
              0.2222222222222222,
              "#7201a8"
             ],
             [
              0.3333333333333333,
              "#9c179e"
             ],
             [
              0.4444444444444444,
              "#bd3786"
             ],
             [
              0.5555555555555556,
              "#d8576b"
             ],
             [
              0.6666666666666666,
              "#ed7953"
             ],
             [
              0.7777777777777778,
              "#fb9f3a"
             ],
             [
              0.8888888888888888,
              "#fdca26"
             ],
             [
              1,
              "#f0f921"
             ]
            ],
            "type": "contour"
           }
          ],
          "contourcarpet": [
           {
            "colorbar": {
             "outlinewidth": 0,
             "ticks": ""
            },
            "type": "contourcarpet"
           }
          ],
          "heatmap": [
           {
            "colorbar": {
             "outlinewidth": 0,
             "ticks": ""
            },
            "colorscale": [
             [
              0,
              "#0d0887"
             ],
             [
              0.1111111111111111,
              "#46039f"
             ],
             [
              0.2222222222222222,
              "#7201a8"
             ],
             [
              0.3333333333333333,
              "#9c179e"
             ],
             [
              0.4444444444444444,
              "#bd3786"
             ],
             [
              0.5555555555555556,
              "#d8576b"
             ],
             [
              0.6666666666666666,
              "#ed7953"
             ],
             [
              0.7777777777777778,
              "#fb9f3a"
             ],
             [
              0.8888888888888888,
              "#fdca26"
             ],
             [
              1,
              "#f0f921"
             ]
            ],
            "type": "heatmap"
           }
          ],
          "heatmapgl": [
           {
            "colorbar": {
             "outlinewidth": 0,
             "ticks": ""
            },
            "colorscale": [
             [
              0,
              "#0d0887"
             ],
             [
              0.1111111111111111,
              "#46039f"
             ],
             [
              0.2222222222222222,
              "#7201a8"
             ],
             [
              0.3333333333333333,
              "#9c179e"
             ],
             [
              0.4444444444444444,
              "#bd3786"
             ],
             [
              0.5555555555555556,
              "#d8576b"
             ],
             [
              0.6666666666666666,
              "#ed7953"
             ],
             [
              0.7777777777777778,
              "#fb9f3a"
             ],
             [
              0.8888888888888888,
              "#fdca26"
             ],
             [
              1,
              "#f0f921"
             ]
            ],
            "type": "heatmapgl"
           }
          ],
          "histogram": [
           {
            "marker": {
             "pattern": {
              "fillmode": "overlay",
              "size": 10,
              "solidity": 0.2
             }
            },
            "type": "histogram"
           }
          ],
          "histogram2d": [
           {
            "colorbar": {
             "outlinewidth": 0,
             "ticks": ""
            },
            "colorscale": [
             [
              0,
              "#0d0887"
             ],
             [
              0.1111111111111111,
              "#46039f"
             ],
             [
              0.2222222222222222,
              "#7201a8"
             ],
             [
              0.3333333333333333,
              "#9c179e"
             ],
             [
              0.4444444444444444,
              "#bd3786"
             ],
             [
              0.5555555555555556,
              "#d8576b"
             ],
             [
              0.6666666666666666,
              "#ed7953"
             ],
             [
              0.7777777777777778,
              "#fb9f3a"
             ],
             [
              0.8888888888888888,
              "#fdca26"
             ],
             [
              1,
              "#f0f921"
             ]
            ],
            "type": "histogram2d"
           }
          ],
          "histogram2dcontour": [
           {
            "colorbar": {
             "outlinewidth": 0,
             "ticks": ""
            },
            "colorscale": [
             [
              0,
              "#0d0887"
             ],
             [
              0.1111111111111111,
              "#46039f"
             ],
             [
              0.2222222222222222,
              "#7201a8"
             ],
             [
              0.3333333333333333,
              "#9c179e"
             ],
             [
              0.4444444444444444,
              "#bd3786"
             ],
             [
              0.5555555555555556,
              "#d8576b"
             ],
             [
              0.6666666666666666,
              "#ed7953"
             ],
             [
              0.7777777777777778,
              "#fb9f3a"
             ],
             [
              0.8888888888888888,
              "#fdca26"
             ],
             [
              1,
              "#f0f921"
             ]
            ],
            "type": "histogram2dcontour"
           }
          ],
          "mesh3d": [
           {
            "colorbar": {
             "outlinewidth": 0,
             "ticks": ""
            },
            "type": "mesh3d"
           }
          ],
          "parcoords": [
           {
            "line": {
             "colorbar": {
              "outlinewidth": 0,
              "ticks": ""
             }
            },
            "type": "parcoords"
           }
          ],
          "pie": [
           {
            "automargin": true,
            "type": "pie"
           }
          ],
          "scatter": [
           {
            "fillpattern": {
             "fillmode": "overlay",
             "size": 10,
             "solidity": 0.2
            },
            "type": "scatter"
           }
          ],
          "scatter3d": [
           {
            "line": {
             "colorbar": {
              "outlinewidth": 0,
              "ticks": ""
             }
            },
            "marker": {
             "colorbar": {
              "outlinewidth": 0,
              "ticks": ""
             }
            },
            "type": "scatter3d"
           }
          ],
          "scattercarpet": [
           {
            "marker": {
             "colorbar": {
              "outlinewidth": 0,
              "ticks": ""
             }
            },
            "type": "scattercarpet"
           }
          ],
          "scattergeo": [
           {
            "marker": {
             "colorbar": {
              "outlinewidth": 0,
              "ticks": ""
             }
            },
            "type": "scattergeo"
           }
          ],
          "scattergl": [
           {
            "marker": {
             "colorbar": {
              "outlinewidth": 0,
              "ticks": ""
             }
            },
            "type": "scattergl"
           }
          ],
          "scattermapbox": [
           {
            "marker": {
             "colorbar": {
              "outlinewidth": 0,
              "ticks": ""
             }
            },
            "type": "scattermapbox"
           }
          ],
          "scatterpolar": [
           {
            "marker": {
             "colorbar": {
              "outlinewidth": 0,
              "ticks": ""
             }
            },
            "type": "scatterpolar"
           }
          ],
          "scatterpolargl": [
           {
            "marker": {
             "colorbar": {
              "outlinewidth": 0,
              "ticks": ""
             }
            },
            "type": "scatterpolargl"
           }
          ],
          "scatterternary": [
           {
            "marker": {
             "colorbar": {
              "outlinewidth": 0,
              "ticks": ""
             }
            },
            "type": "scatterternary"
           }
          ],
          "surface": [
           {
            "colorbar": {
             "outlinewidth": 0,
             "ticks": ""
            },
            "colorscale": [
             [
              0,
              "#0d0887"
             ],
             [
              0.1111111111111111,
              "#46039f"
             ],
             [
              0.2222222222222222,
              "#7201a8"
             ],
             [
              0.3333333333333333,
              "#9c179e"
             ],
             [
              0.4444444444444444,
              "#bd3786"
             ],
             [
              0.5555555555555556,
              "#d8576b"
             ],
             [
              0.6666666666666666,
              "#ed7953"
             ],
             [
              0.7777777777777778,
              "#fb9f3a"
             ],
             [
              0.8888888888888888,
              "#fdca26"
             ],
             [
              1,
              "#f0f921"
             ]
            ],
            "type": "surface"
           }
          ],
          "table": [
           {
            "cells": {
             "fill": {
              "color": "#EBF0F8"
             },
             "line": {
              "color": "white"
             }
            },
            "header": {
             "fill": {
              "color": "#C8D4E3"
             },
             "line": {
              "color": "white"
             }
            },
            "type": "table"
           }
          ]
         },
         "layout": {
          "annotationdefaults": {
           "arrowcolor": "#2a3f5f",
           "arrowhead": 0,
           "arrowwidth": 1
          },
          "autotypenumbers": "strict",
          "coloraxis": {
           "colorbar": {
            "outlinewidth": 0,
            "ticks": ""
           }
          },
          "colorscale": {
           "diverging": [
            [
             0,
             "#8e0152"
            ],
            [
             0.1,
             "#c51b7d"
            ],
            [
             0.2,
             "#de77ae"
            ],
            [
             0.3,
             "#f1b6da"
            ],
            [
             0.4,
             "#fde0ef"
            ],
            [
             0.5,
             "#f7f7f7"
            ],
            [
             0.6,
             "#e6f5d0"
            ],
            [
             0.7,
             "#b8e186"
            ],
            [
             0.8,
             "#7fbc41"
            ],
            [
             0.9,
             "#4d9221"
            ],
            [
             1,
             "#276419"
            ]
           ],
           "sequential": [
            [
             0,
             "#0d0887"
            ],
            [
             0.1111111111111111,
             "#46039f"
            ],
            [
             0.2222222222222222,
             "#7201a8"
            ],
            [
             0.3333333333333333,
             "#9c179e"
            ],
            [
             0.4444444444444444,
             "#bd3786"
            ],
            [
             0.5555555555555556,
             "#d8576b"
            ],
            [
             0.6666666666666666,
             "#ed7953"
            ],
            [
             0.7777777777777778,
             "#fb9f3a"
            ],
            [
             0.8888888888888888,
             "#fdca26"
            ],
            [
             1,
             "#f0f921"
            ]
           ],
           "sequentialminus": [
            [
             0,
             "#0d0887"
            ],
            [
             0.1111111111111111,
             "#46039f"
            ],
            [
             0.2222222222222222,
             "#7201a8"
            ],
            [
             0.3333333333333333,
             "#9c179e"
            ],
            [
             0.4444444444444444,
             "#bd3786"
            ],
            [
             0.5555555555555556,
             "#d8576b"
            ],
            [
             0.6666666666666666,
             "#ed7953"
            ],
            [
             0.7777777777777778,
             "#fb9f3a"
            ],
            [
             0.8888888888888888,
             "#fdca26"
            ],
            [
             1,
             "#f0f921"
            ]
           ]
          },
          "colorway": [
           "#636efa",
           "#EF553B",
           "#00cc96",
           "#ab63fa",
           "#FFA15A",
           "#19d3f3",
           "#FF6692",
           "#B6E880",
           "#FF97FF",
           "#FECB52"
          ],
          "font": {
           "color": "#2a3f5f"
          },
          "geo": {
           "bgcolor": "white",
           "lakecolor": "white",
           "landcolor": "#E5ECF6",
           "showlakes": true,
           "showland": true,
           "subunitcolor": "white"
          },
          "hoverlabel": {
           "align": "left"
          },
          "hovermode": "closest",
          "mapbox": {
           "style": "light"
          },
          "paper_bgcolor": "white",
          "plot_bgcolor": "#E5ECF6",
          "polar": {
           "angularaxis": {
            "gridcolor": "white",
            "linecolor": "white",
            "ticks": ""
           },
           "bgcolor": "#E5ECF6",
           "radialaxis": {
            "gridcolor": "white",
            "linecolor": "white",
            "ticks": ""
           }
          },
          "scene": {
           "xaxis": {
            "backgroundcolor": "#E5ECF6",
            "gridcolor": "white",
            "gridwidth": 2,
            "linecolor": "white",
            "showbackground": true,
            "ticks": "",
            "zerolinecolor": "white"
           },
           "yaxis": {
            "backgroundcolor": "#E5ECF6",
            "gridcolor": "white",
            "gridwidth": 2,
            "linecolor": "white",
            "showbackground": true,
            "ticks": "",
            "zerolinecolor": "white"
           },
           "zaxis": {
            "backgroundcolor": "#E5ECF6",
            "gridcolor": "white",
            "gridwidth": 2,
            "linecolor": "white",
            "showbackground": true,
            "ticks": "",
            "zerolinecolor": "white"
           }
          },
          "shapedefaults": {
           "line": {
            "color": "#2a3f5f"
           }
          },
          "ternary": {
           "aaxis": {
            "gridcolor": "white",
            "linecolor": "white",
            "ticks": ""
           },
           "baxis": {
            "gridcolor": "white",
            "linecolor": "white",
            "ticks": ""
           },
           "bgcolor": "#E5ECF6",
           "caxis": {
            "gridcolor": "white",
            "linecolor": "white",
            "ticks": ""
           }
          },
          "title": {
           "x": 0.05
          },
          "xaxis": {
           "automargin": true,
           "gridcolor": "white",
           "linecolor": "white",
           "ticks": "",
           "title": {
            "standoff": 15
           },
           "zerolinecolor": "white",
           "zerolinewidth": 2
          },
          "yaxis": {
           "automargin": true,
           "gridcolor": "white",
           "linecolor": "white",
           "ticks": "",
           "title": {
            "standoff": 15
           },
           "zerolinecolor": "white",
           "zerolinewidth": 2
          }
         }
        },
        "title": {
         "text": "Optimization History Plot"
        },
        "xaxis": {
         "title": {
          "text": "Trial"
         }
        },
        "yaxis": {
         "title": {
          "text": "Runtime"
         }
        }
       }
      }
     },
     "metadata": {},
     "output_type": "display_data"
    }
   ],
   "source": [
    "vis.plot_optimization_history(\n",
    "    study, \n",
    "    target=lambda t: t.values[0],\n",
    "    target_name=\"Max Fitness\"\n",
    ").show()\n",
    "vis.plot_optimization_history(\n",
    "    study, \n",
    "    target=lambda t: t.values[1],\n",
    "    target_name=\"Mean Fitness\"\n",
    ").show()\n",
    "vis.plot_optimization_history(\n",
    "    study, \n",
    "    target=lambda t: t.values[2],\n",
    "    target_name=\"Runtime\"\n",
    ").show()"
   ]
  },
  {
   "cell_type": "code",
   "execution_count": 12,
   "id": "2a002e4a",
   "metadata": {},
   "outputs": [
    {
     "data": {
      "text/plain": [
       "576"
      ]
     },
     "execution_count": 12,
     "metadata": {},
     "output_type": "execute_result"
    }
   ],
   "source": [
    "import gc \n",
    "gc.collect()"
   ]
  }
 ],
 "metadata": {
  "kernelspec": {
   "display_name": "TX_prediction",
   "language": "python",
   "name": "python3"
  },
  "language_info": {
   "codemirror_mode": {
    "name": "ipython",
    "version": 3
   },
   "file_extension": ".py",
   "mimetype": "text/x-python",
   "name": "python",
   "nbconvert_exporter": "python",
   "pygments_lexer": "ipython3",
   "version": "3.12.3"
  }
 },
 "nbformat": 4,
 "nbformat_minor": 5
}
