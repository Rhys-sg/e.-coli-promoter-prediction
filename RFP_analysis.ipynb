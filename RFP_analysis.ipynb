{
 "cells": [
  {
   "cell_type": "code",
   "execution_count": 2,
   "metadata": {},
   "outputs": [
    {
     "name": "stderr",
     "output_type": "stream",
     "text": [
      "2025-04-29 10:32:36.870378: I tensorflow/core/platform/cpu_feature_guard.cc:210] This TensorFlow binary is optimized to use available CPU instructions in performance-critical operations.\n",
      "To enable the following instructions: AVX2 FMA, in other operations, rebuild TensorFlow with the appropriate compiler flags.\n"
     ]
    }
   ],
   "source": [
    "import pandas as pd\n",
    "import numpy as np\n",
    "import matplotlib.pyplot as plt\n",
    "import keras"
   ]
  },
  {
   "cell_type": "code",
   "execution_count": 9,
   "metadata": {},
   "outputs": [
    {
     "data": {
      "text/html": [
       "<div>\n",
       "<style scoped>\n",
       "    .dataframe tbody tr th:only-of-type {\n",
       "        vertical-align: middle;\n",
       "    }\n",
       "\n",
       "    .dataframe tbody tr th {\n",
       "        vertical-align: top;\n",
       "    }\n",
       "\n",
       "    .dataframe thead th {\n",
       "        text-align: right;\n",
       "    }\n",
       "</style>\n",
       "<table border=\"1\" class=\"dataframe\">\n",
       "  <thead>\n",
       "    <tr style=\"text-align: right;\">\n",
       "      <th></th>\n",
       "      <th>Date</th>\n",
       "      <th>Time</th>\n",
       "      <th>Media</th>\n",
       "      <th>Ec</th>\n",
       "      <th>OD600</th>\n",
       "      <th>Ex485Em535</th>\n",
       "      <th>Ex550Em650</th>\n",
       "    </tr>\n",
       "  </thead>\n",
       "  <tbody>\n",
       "    <tr>\n",
       "      <th>0</th>\n",
       "      <td>2025_04_25</td>\n",
       "      <td>330_PM</td>\n",
       "      <td>M9</td>\n",
       "      <td>33</td>\n",
       "      <td>0.314510</td>\n",
       "      <td>383540.0</td>\n",
       "      <td>5355.5</td>\n",
       "    </tr>\n",
       "    <tr>\n",
       "      <th>1</th>\n",
       "      <td>2025_04_25</td>\n",
       "      <td>330_PM</td>\n",
       "      <td>M9</td>\n",
       "      <td>33</td>\n",
       "      <td>0.340022</td>\n",
       "      <td>388601.0</td>\n",
       "      <td>4213.5</td>\n",
       "    </tr>\n",
       "    <tr>\n",
       "      <th>2</th>\n",
       "      <td>2025_04_25</td>\n",
       "      <td>330_PM</td>\n",
       "      <td>M9</td>\n",
       "      <td>34</td>\n",
       "      <td>0.180372</td>\n",
       "      <td>472020.0</td>\n",
       "      <td>92525.5</td>\n",
       "    </tr>\n",
       "    <tr>\n",
       "      <th>3</th>\n",
       "      <td>2025_04_25</td>\n",
       "      <td>330_PM</td>\n",
       "      <td>M9</td>\n",
       "      <td>34</td>\n",
       "      <td>0.170433</td>\n",
       "      <td>467968.0</td>\n",
       "      <td>83579.5</td>\n",
       "    </tr>\n",
       "    <tr>\n",
       "      <th>4</th>\n",
       "      <td>2025_04_25</td>\n",
       "      <td>330_PM</td>\n",
       "      <td>M9</td>\n",
       "      <td>35</td>\n",
       "      <td>0.083273</td>\n",
       "      <td>124494.0</td>\n",
       "      <td>337765.5</td>\n",
       "    </tr>\n",
       "  </tbody>\n",
       "</table>\n",
       "</div>"
      ],
      "text/plain": [
       "         Date    Time Media  Ec     OD600  Ex485Em535  Ex550Em650\n",
       "0  2025_04_25  330_PM    M9  33  0.314510    383540.0      5355.5\n",
       "1  2025_04_25  330_PM    M9  33  0.340022    388601.0      4213.5\n",
       "2  2025_04_25  330_PM    M9  34  0.180372    472020.0     92525.5\n",
       "3  2025_04_25  330_PM    M9  34  0.170433    467968.0     83579.5\n",
       "4  2025_04_25  330_PM    M9  35  0.083273    124494.0    337765.5"
      ]
     },
     "execution_count": 9,
     "metadata": {},
     "output_type": "execute_result"
    }
   ],
   "source": [
    "df = pd.read_table('Data/RFP/Sequence_to_Expression.txt')\n",
    "df.head()"
   ]
  },
  {
   "cell_type": "code",
   "execution_count": 10,
   "metadata": {},
   "outputs": [
    {
     "data": {
      "text/html": [
       "<div>\n",
       "<style scoped>\n",
       "    .dataframe tbody tr th:only-of-type {\n",
       "        vertical-align: middle;\n",
       "    }\n",
       "\n",
       "    .dataframe tbody tr th {\n",
       "        vertical-align: top;\n",
       "    }\n",
       "\n",
       "    .dataframe thead th {\n",
       "        text-align: right;\n",
       "    }\n",
       "</style>\n",
       "<table border=\"1\" class=\"dataframe\">\n",
       "  <thead>\n",
       "    <tr style=\"text-align: right;\">\n",
       "      <th></th>\n",
       "      <th>Ec</th>\n",
       "      <th>Description</th>\n",
       "      <th>sequence</th>\n",
       "    </tr>\n",
       "  </thead>\n",
       "  <tbody>\n",
       "    <tr>\n",
       "      <th>0</th>\n",
       "      <td>33</td>\n",
       "      <td>pClone_GFP</td>\n",
       "      <td>CGATGGTGTCAACGTAAATGCATGCCGCTGGTCTCT</td>\n",
       "    </tr>\n",
       "    <tr>\n",
       "      <th>1</th>\n",
       "      <td>34</td>\n",
       "      <td>P533A</td>\n",
       "      <td>TTAACAATTAATCATCCGGCTCGTAATTTATGTGGA</td>\n",
       "    </tr>\n",
       "    <tr>\n",
       "      <th>2</th>\n",
       "      <td>35</td>\n",
       "      <td>P5</td>\n",
       "      <td>TTGACAATTAATCATCCGGCTCGTAATTTATGTGGA</td>\n",
       "    </tr>\n",
       "    <tr>\n",
       "      <th>3</th>\n",
       "      <td>36</td>\n",
       "      <td>OsmY</td>\n",
       "      <td>CCCGAGCGGTTTCAAAATTGTGATCTATATTTAACAAA</td>\n",
       "    </tr>\n",
       "    <tr>\n",
       "      <th>4</th>\n",
       "      <td>37</td>\n",
       "      <td>OsmY_C12A</td>\n",
       "      <td>CCCGAGCGGTTTCAAAATTGTGATATATATTTAACAAA</td>\n",
       "    </tr>\n",
       "  </tbody>\n",
       "</table>\n",
       "</div>"
      ],
      "text/plain": [
       "   Ec Description                                sequence\n",
       "0  33  pClone_GFP    CGATGGTGTCAACGTAAATGCATGCCGCTGGTCTCT\n",
       "1  34       P533A    TTAACAATTAATCATCCGGCTCGTAATTTATGTGGA\n",
       "2  35          P5    TTGACAATTAATCATCCGGCTCGTAATTTATGTGGA\n",
       "3  36        OsmY  CCCGAGCGGTTTCAAAATTGTGATCTATATTTAACAAA\n",
       "4  37   OsmY_C12A  CCCGAGCGGTTTCAAAATTGTGATATATATTTAACAAA"
      ]
     },
     "execution_count": 10,
     "metadata": {},
     "output_type": "execute_result"
    }
   ],
   "source": [
    "seq_map= pd.read_table('Data/RFP/Sequences.txt')\n",
    "seq_map.head()"
   ]
  },
  {
   "cell_type": "code",
   "execution_count": 7,
   "metadata": {},
   "outputs": [
    {
     "data": {
      "image/png": "[encoded data removed]",
      "text/plain": [
       "<Figure size 640x480 with 1 Axes>"
      ]
     },
     "metadata": {},
     "output_type": "display_data"
    }
   ],
   "source": [
    "ax = df.plot.scatter(x='OD600', y='Ex550Em650')\n",
    "plt.show()"
   ]
  },
  {
   "cell_type": "code",
   "execution_count": null,
   "metadata": {},
   "outputs": [],
   "source": [
    "df_cut= df[df['OD600']]"
   ]
  }
 ],
 "metadata": {
  "kernelspec": {
   "display_name": "Python 3",
   "language": "python",
   "name": "python3"
  },
  "language_info": {
   "codemirror_mode": {
    "name": "ipython",
    "version": 3
   },
   "file_extension": ".py",
   "mimetype": "text/x-python",
   "name": "python",
   "nbconvert_exporter": "python",
   "pygments_lexer": "ipython3",
   "version": "3.12.6"
  }
 },
 "nbformat": 4,
 "nbformat_minor": 2
}
