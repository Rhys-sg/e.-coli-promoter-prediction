{
 "cells": [
  {
   "cell_type": "markdown",
   "metadata": {},
   "source": [
    "#### Visualizing the CNN's kernels using NeuronMotif\n",
    "\n",
    "Deciphering cis-regulatory codes by layer-wise demixing of deep neural networks\n",
    "https://doi.org/10.1073/pnas.2216698120\n",
    "\n",
    "In NeuronMotif:\n",
    "1. In powershell:\n",
    "\n",
    "    2. conda create -n NeuronMotif python=3.6\n",
    "    3. conda activate NeuronMotif\n",
    "    4. pip install h5py==2.10.0\n",
    "    pip install matplotlib pandas numpy scikit-learn tensorflow==1.15.0 keras==2.3.1\n",
    "\n",
    "5. Replace weight.hdf5\n",
    "6. Update modeldef.py to match CNN\n",
    "7. In Git Bash\n",
    "\n",
    "    8. cd \\demos\\demo1\n",
    "    9. bash script.sh"
   ]
  }
 ],
 "metadata": {
  "language_info": {
   "name": "python"
  }
 },
 "nbformat": 4,
 "nbformat_minor": 2
}
