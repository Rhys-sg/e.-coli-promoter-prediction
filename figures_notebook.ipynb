{
 "cells": [
  {
   "cell_type": "code",
   "execution_count": null,
   "metadata": {},
   "outputs": [],
   "source": [
    "file_names\n",
    "all_results\n",
    "file_order\n",
    "\n",
    "# Calculate the average and coefficient of variation for each file\n",
    "averaged_results = {file: np.mean(all_results[file], axis=0) for file in file_names}\n",
    "averaged_training_data = {file: result[0] for file, result in averaged_results.items()}\n",
    "averaged_all_data = {file: result[1] for file, result in averaged_results.items()}\n",
    "CV_training_data = {file: np.std([result[0] for result in all_results[file]]) / np.mean([result[0] for result in all_results[file]]) for file in file_names}\n",
    "CV_all_data = {file: np.std([result[1] for result in all_results[file]]) / np.mean([result[1] for result in all_results[file]]) for file in file_names}\n",
    "\n",
    "# Determine sorted orders for training and all data\n",
    "training_data_order = sorted(file_names, key=lambda file: averaged_training_data[file])\n",
    "all_data_order = sorted(file_names, key=lambda file: averaged_all_data[file])\n",
    "\n",
    "# Ensure file order is respected\n",
    "file_order = [file for file in file_order if file in file_names]\n",
    "x = np.arange(len(file_order))\n",
    "bar_width = 0.35\n",
    "\n",
    "# Extracting the individual and average results\n",
    "training_data_mse = {file: [result[0] for result in all_results[file]] for file in file_order}\n",
    "all_data_mse = {file: [result[1] for result in all_results[file]] for file in file_order}\n",
    "avg_training_data = [averaged_training_data[file] for file in file_order]\n",
    "avg_all_data = [averaged_all_data[file] for file in file_order]\n",
    "\n",
    "fig, (ax1, ax2) = plt.subplots(1, 2, figsize=(8, 4))\n",
    "for i, file in enumerate(file_order):\n",
    "\tax1.scatter([x[i]] * len(training_data_mse[file]), training_data_mse[file], color='skyblue', label='Training Data MSE' if i == 0 else \"\")\n",
    "\tax1.hlines(avg_training_data[i], x[i] - 0.1, x[i] + 0.1, colors='grey', linestyles='solid', label='Average MSE' if i == 0 else \"\")\n",
    "ax1.set_ylim(0, max(max(max(training_data_mse.values())), max(avg_training_data)) * 1.2)\n",
    "for i, file in enumerate(file_order):\n",
    "\tax1.text(x[i], max(training_data_mse[file]) * 1.05, f'{int(CV_training_data[file]*100)}%', ha='center', va='bottom', color='black', fontsize=8)\n",
    "ax1.set_xticks(x, file_order, rotation=45, ha='right', rotation_mode='anchor')\n",
    "ax1.set_ylabel('Mean Squared Error (MSE)')\n",
    "ax1.set_title('Testing against self')\n",
    "\n",
    "for i, file in enumerate(file_order):\n",
    "\tax2.scatter([x[i]] * len(all_data_mse[file]), all_data_mse[file], color='lightgreen', label='All Data MSE' if i == 0 else \"\")\n",
    "\tax2.hlines(avg_all_data[i], x[i] - 0.1, x[i] + 0.1, colors='grey', linestyles='solid', label='Average MSE' if i == 0 else \"\")\n",
    "ax2.set_ylim(0, max(max(max(all_data_mse.values())), max(avg_all_data)) * 1.2)\n",
    "for i, file in enumerate(file_order):\n",
    "\tax2.text(x[i], max(all_data_mse[file]) * 1.05, f'{int(CV_all_data[file]*100)}%', ha='center', va='bottom', color='black', fontsize=8)\n",
    "ax2.set_xticks(x, file_order, rotation=45, ha='right', rotation_mode='anchor')\n",
    "ax2.set_title('Testing against aggregation')\n",
    "##plt.savefig('Images/all_data_mse.png')\n",
    "##plt.savefig('Images/Figure_All_Data.pdf', format='pdf')\n",
    "fig.supxlabel(\"Dataset\")\n",
    "fig.tight_layout()\n",
    "fig.show()"
   ]
  }
 ],
 "metadata": {
  "language_info": {
   "name": "python"
  }
 },
 "nbformat": 4,
 "nbformat_minor": 2
}
