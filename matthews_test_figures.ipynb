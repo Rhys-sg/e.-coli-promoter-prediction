{
 "cells": [
  {
   "cell_type": "code",
   "execution_count": null,
   "metadata": {},
   "outputs": [],
   "source": [
    "import pandas as pd\n",
    "import matplotlib.pyplot as plt\n",
    "import numpy as np\n",
    "\n",
    "# Load file names\n",
    "\n",
    "data_df = pd.read_csv('Data/data_comparison.csv')\n",
    "data = data_df[['Number of Files', 'MSE', 'Name']].values\n",
    "\n",
    "fig, ax = plt.subplots(figsize=(10, 6))\n",
    "\n",
    "x_all = sorted(set(int(n) for n, _, _ in data))\n",
    "\n",
    "# Scatter plot\n",
    "scatter_data = [(int(n), l) for n, l, _ in data]\n",
    "x_vals, y_vals = zip(*scatter_data)\n",
    "ax.scatter(x_vals, y_vals, s=100, alpha=0.2, color='grey')\n",
    "\n",
    "\n",
    "ax.set_xlabel('Number of Datasets')\n",
    "ax.set_ylabel('log10(MSE)')\n",
    "ax.legend()\n",
    "\n",
    "plt.tight_layout()\n",
    "plt.show()\n",
    "\n",
    "# Save the figure\n",
    "fig.savefig('Figures/Figure2.pdf', dpi=300, bbox_inches='tight')\n"
   ]
  }
 ],
 "metadata": {
  "language_info": {
   "name": "python"
  }
 },
 "nbformat": 4,
 "nbformat_minor": 2
}
